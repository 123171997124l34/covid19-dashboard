{
 "cells": [
  {
   "cell_type": "markdown",
   "metadata": {},
   "source": [
    "# Countries with highest rate of deaths and recovery\n",
    "> An attempt to depict the countries with highest rate of deaths viz-a-viz countries that have a very good rate of recovery.\n",
    "\n",
    "- author: Arun Gupta\n",
    "- categories: [compare, interactive]\n",
    "- image: images/highest-deaths-and-recovered-rates.png\n",
    "- permalink: /highest-deaths-and-recovered-rates/"
   ]
  },
  {
   "cell_type": "markdown",
   "metadata": {},
   "source": [
    "The COVID-19 has hit all the countries around the world. Every country is facing challenges to control the spread and impacts of this virus.\n",
    "\n",
    "An infection in a person either leads to recovery, or (in some cases) a death. Some countries are facing a high number of deaths whereas other few are having a good, high rate of recovery.\n",
    "\n",
    "Here is an attempt to depict the countries with highest rate of deaths viz-a-viz countries that have a very good rate of recovery, given a specific number of infected people.\n",
    "\n",
    "This depiction and comparison can be used as a first reference point to:\n",
    "1. Learn the good things that were followed by those countries, so that those things may be adapted in other countries too.\n",
    "2. Identify and avoid the features/things/behaviours from the countries that are facing high rate of deaths."
   ]
  },
  {
   "cell_type": "code",
   "execution_count": null,
   "metadata": {},
   "outputs": [
    {
     "name": "stderr",
     "output_type": "stream",
     "text": [
      "C:\\Users\\GUPTAAX32\\OpenSourceContri\\load_covid_data.py:31: FutureWarning: Sorting because non-concatenation axis is not aligned. A future version\n",
      "of pandas will change to not sort by default.\n",
      "\n",
      "To accept the future behavior, pass 'sort=False'.\n",
      "\n",
      "To retain the current behavior and silence the warning, pass 'sort=True'.\n",
      "\n",
      "  .reset_index(level=['country', 'type']))\n"
     ]
    }
   ],
   "source": [
    "#hide\n",
    "import pandas as pd\n",
    "import altair as alt\n",
    "from load_covid_data import load_individual_timeseries\n",
    "\n",
    "# load data for infections, deaths, and recovered\n",
    "df_confirmed = load_individual_timeseries('confirmed')\n",
    "df_death = load_individual_timeseries('deaths')\n",
    "df_recovered = load_individual_timeseries('recovered')\n",
    "\n",
    "# clean the data\n",
    "df_confirmed = df_confirmed[~df_confirmed['country'].str.contains(' \\(total\\)')].drop(['state', 'type'], axis=1, ).reset_index()\n",
    "df_death = df_death[~df_death['country'].str.contains(' \\(total\\)')].drop(['state', 'type'], axis=1, ).reset_index()\n",
    "df_recovered = df_recovered[~df_recovered['country'].str.contains(' \\(total\\)')].drop(['state', 'type'], axis=1, ).reset_index()\n",
    "\n",
    "# get the data only for the latest date\n",
    "Latest_Date = df_confirmed['date'].max()\n",
    "df_confirmed = df_confirmed.loc[df_confirmed['date'] == Latest_Date]\n",
    "df_death = df_death.loc[df_death['date'] == Latest_Date]\n",
    "df_recovered = df_recovered.loc[df_recovered['date'] == Latest_Date]\n",
    "\n",
    "# remove column 'date' as it is no more required\n",
    "df_confirmed = df_confirmed.drop('date', axis=1)\n",
    "df_death = df_death.drop('date', axis=1)\n",
    "df_recovered = df_recovered.drop('date', axis=1)\n",
    "\n",
    "# aggregate data\n",
    "df_confirmed = (df_confirmed.sort_values(by=['country'])\n",
    "                            .groupby(['country'])\n",
    "                            .agg(sum)).reset_index()\n",
    "\n",
    "df_death = (df_death.sort_values(by=['country'])\n",
    "                    .groupby(['country'])\n",
    "                    .agg(sum)).reset_index()\n",
    "\n",
    "df_recovered = (df_recovered.sort_values(by=['country'])\n",
    "                            .groupby(['country'])\n",
    "                            .agg(sum)).reset_index()\n",
    "\n",
    "# rename the column for 'cases' in respective datasets\n",
    "df_confirmed = df_confirmed.rename(columns={\"cases\": \"infections\"})\n",
    "df_death = df_death.rename(columns={\"cases\": \"deaths\"})\n",
    "df_recovered = df_recovered.rename(columns={\"cases\": \"recovered\"})\n",
    "\n",
    "# (inner)join the datasets for 'confirmed' and 'death' on 'country'\n",
    "df_Master = pd.merge(df_confirmed, df_death, how='inner', on='country', left_on=None, right_on=None, left_index=False, right_index=False, sort=True)\n",
    "df_Master = pd.merge(df_Master, df_recovered, how='inner', on='country', left_on=None, right_on=None, left_index=False, right_index=False, sort=True)\n",
    "\n",
    "# rename the Countries\n",
    "df_Master['country'] = df_Master['country'].replace({'Bosnia and Herzegovina':'Bosnia Herzegovina',\n",
    "                                                     'Timor-Leste'           :'East Timor',\n",
    "                                                     \"Cote d'Ivoire\"         :'Ivory Coast',\n",
    "                                                     'Burma'                 :'Myanmar',\n",
    "                                                     'Korea, South'          :'South Korea',\n",
    "                                                     'Taiwan*'               :'Taiwan',\n",
    "                                                     'US'                    :'United States of America',\n",
    "                                                     'Holy See'              :'Vatican City'})\n",
    "\n",
    "## remove the countries that have less than 200 confirmed cases\n",
    "case_threshold = 200 \n",
    "keep_countries = df_Master.loc[(df_Master['infections'] > case_threshold)].country\n",
    "df_Master = df_Master.loc[df_Master['country'].isin(keep_countries)]\n",
    "\n",
    "# calculate 'deaths' and 'recovery' per 1000 infections\n",
    "df_Master['Deaths_per_1000'] = round(1000 * (df_Master['deaths']/df_Master['infections']), 2)\n",
    "df_Master['Recovered_per_1000'] = round(1000 * (df_Master['recovered']/df_Master['infections']), 2)\n",
    "\n",
    "# get countries with top 50 death rates\n",
    "df_top_death = df_Master.sort_values(by=['Deaths_per_1000'], ascending=False)\n",
    "df_top_death = df_top_death.head(50)\n",
    "\n",
    "# get countries with top 50 recovery rates\n",
    "df_top_recovered = df_Master.sort_values(by=['Recovered_per_1000'], ascending=False)\n",
    "df_top_recovered = df_top_recovered.head(50)\n",
    "\n",
    "# get rest of the countries\n",
    "df_ROW = df_Master.loc[~df_Master['country'].isin(df_top_death.country)]\n",
    "df_ROW = df_ROW.loc[~df_ROW['country'].isin(df_top_recovered.country)]"
   ]
  },
  {
   "cell_type": "markdown",
   "metadata": {},
   "source": [
    "This graph shows the 50 countries that are facing highest rate of deaths per 1000 infections, across the world. As it is not so intuitive that the developed countries such as Belgium, France, Netherlands are among the top countries having highest death rate."
   ]
  },
  {
   "cell_type": "code",
   "execution_count": null,
   "metadata": {},
   "outputs": [],
   "source": [
    "#hide_input\n",
    "# make the bar-chart for countries on \"deaths per 1000 infections\"\n",
    "alt.Chart(df_top_death).mark_bar(color='Orange').encode(\n",
    "    x= alt.Y('country:N', sort='-y', title=\"Countries\"),\n",
    "    y=alt.Y('Deaths_per_1000', title=\"Deaths per 1000 infected people\")\n",
    ").properties(\n",
    "    title='Countries with top death rates')"
   ]
  },
  {
   "cell_type": "markdown",
   "metadata": {},
   "source": [
    "Further, we move on to the countries with best recovery rate. The graph below shows 50 countries with highest rate of recovery."
   ]
  },
  {
   "cell_type": "code",
   "execution_count": null,
   "metadata": {},
   "outputs": [],
   "source": [
    "#hide_input\n",
    "# make the bar-chart for countries on \"recovery per 1000 infections\"\n",
    "alt.Chart(df_top_recovered).mark_bar(color='#00CC66').encode(\n",
    "    x= alt.Y('country:N', sort='-y', title=\"Countries\"),\n",
    "    y=alt.Y('Recovered_per_1000', title=\"Recovered per 1000 infected people\")\n",
    ").properties(\n",
    "    title='Countries with top recovery rates')"
   ]
  },
  {
   "cell_type": "markdown",
   "metadata": {},
   "source": [
    "Finally we project the data from above graphs on to a scatter plot. The Orange and Green bubbles are from the above two bar charts. Additionally, the bubbles in Grey color are the rest of the countries."
   ]
  },
  {
   "cell_type": "code",
   "execution_count": null,
   "metadata": {
    "pycharm": {
     "name": "#%%\n"
    }
   },
   "outputs": [],
   "source": [
    "#hide_input\n",
    "# make the scatter plot for \"Death Rates by Population Density\"\n",
    "chart_high_recovery = alt.Chart(df_top_recovered).mark_circle(size=150, color='#00CC66').encode(\n",
    "    x=alt.Y('Recovered_per_1000',  title=\"Recovery per 1000 infections\"),\n",
    "    y=alt.Y('Deaths_per_1000',  title=\"Deaths per 1000 infections\"),\n",
    "    tooltip=['country', 'Recovered_per_1000', 'Deaths_per_1000']\n",
    ").properties(\n",
    "    width=700,\n",
    "    height=450)\n",
    "\n",
    "chart_high_death = alt.Chart(df_top_death).mark_circle(size=150, color='Orange').encode(\n",
    "    x=alt.Y('Recovered_per_1000',  title=\"Recovery per 1000 infections\"),\n",
    "    y=alt.Y('Deaths_per_1000',  title=\"Deaths per 1000 infections\"),\n",
    "    tooltip=['country', 'Recovered_per_1000', 'Deaths_per_1000']\n",
    ").properties(\n",
    "    width=700,\n",
    "    height=450)\n",
    "\n",
    "chart_rest = alt.Chart(df_ROW).mark_circle(size=150, color='#C3C3C3').encode(\n",
    "    x=alt.Y('Recovered_per_1000'),\n",
    "    y=alt.Y('Deaths_per_1000'),\n",
    "    tooltip=['country', 'Recovered_per_1000', 'Deaths_per_1000']\n",
    ").properties(\n",
    "    width=700,\n",
    "    height=450)\n",
    "\n",
    "(chart_high_recovery + chart_high_death + chart_rest).interactive()"
   ]
  },
  {
   "cell_type": "markdown",
   "metadata": {
    "pycharm": {
     "name": "#%% md\n"
    }
   },
   "source": [
    "The visualizations were made by [Arun Gupta](https://www.linkedin.com/in/arungupta21/), with thanks to [*Johns Hopkins University CSSE*](https://systems.jhu.edu/) for the [*2019 Novel Coronavirus COVID-19 (2019-nCoV) Data Repository*](https://github.com/CSSEGISandData/COVID-19)."
   ]
  },
  {
   "cell_type": "code",
   "execution_count": null,
   "metadata": {},
   "outputs": [],
   "source": []
  }
 ],
 "metadata": {
  "kernelspec": {
   "display_name": "Python 3",
   "language": "python",
   "name": "python3"
  },
  "language_info": {
   "codemirror_mode": {
    "name": "ipython",
    "version": 3
   },
   "file_extension": ".py",
   "mimetype": "text/x-python",
   "name": "python",
   "nbconvert_exporter": "python",
   "pygments_lexer": "ipython3",
   "version": "3.8.2"
  }
 },
 "nbformat": 4,
 "nbformat_minor": 2
}
