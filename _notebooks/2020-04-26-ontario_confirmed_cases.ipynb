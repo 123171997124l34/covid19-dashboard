{
 "cells": [
  {
   "cell_type": "markdown",
   "metadata": {},
   "source": [
    "# Ontario confirmed COVID-19 cases per Region\n",
    "> \"Map and graphs of confirmed COVID-19 cases in Ontario, Canada\"\n",
    "\n",
    "- author: Sophiah Ho https://github.com/anomal\n",
    "- categories: [plotly, ontario, canada, covid-19, province, toronto, waterloo, ottawa, peel, york region, halton, sudbury]\n",
    "- image: images/ontario_confirmed_map.png\n",
    "- permalink: /ontario-confirmed-cases-per-region/"
   ]
  },
  {
   "cell_type": "code",
   "execution_count": 1,
   "metadata": {},
   "outputs": [
    {
     "data": {
      "text/html": [
       "<div>\n",
       "<style scoped>\n",
       "    .dataframe tbody tr th:only-of-type {\n",
       "        vertical-align: middle;\n",
       "    }\n",
       "\n",
       "    .dataframe tbody tr th {\n",
       "        vertical-align: top;\n",
       "    }\n",
       "\n",
       "    .dataframe thead th {\n",
       "        text-align: right;\n",
       "    }\n",
       "</style>\n",
       "<table border=\"1\" class=\"dataframe\">\n",
       "  <thead>\n",
       "    <tr style=\"text-align: right;\">\n",
       "      <th></th>\n",
       "      <th>_id</th>\n",
       "      <th>Row_ID</th>\n",
       "      <th>Accurate_Episode_Date</th>\n",
       "      <th>Age_Group</th>\n",
       "      <th>Client_Gender</th>\n",
       "      <th>Case_AcquisitionInfo</th>\n",
       "      <th>Outcome1</th>\n",
       "      <th>Reporting_PHU</th>\n",
       "      <th>Reporting_PHU_Address</th>\n",
       "      <th>Reporting_PHU_City</th>\n",
       "      <th>Reporting_PHU_Postal_Code</th>\n",
       "      <th>Reporting_PHU_Website</th>\n",
       "      <th>Reporting_PHU_Latitude</th>\n",
       "      <th>Reporting_PHU_Longitude</th>\n",
       "    </tr>\n",
       "  </thead>\n",
       "  <tbody>\n",
       "    <tr>\n",
       "      <th>0</th>\n",
       "      <td>1</td>\n",
       "      <td>1</td>\n",
       "      <td>2020-01-22T00:00:00</td>\n",
       "      <td>50s</td>\n",
       "      <td>FEMALE</td>\n",
       "      <td>Travel-Related</td>\n",
       "      <td>Resolved</td>\n",
       "      <td>Toronto Public Health</td>\n",
       "      <td>277 Victoria Street, 5th Floor</td>\n",
       "      <td>Toronto</td>\n",
       "      <td>M5B 1W2</td>\n",
       "      <td>www.toronto.ca/community-people/health-wellnes...</td>\n",
       "      <td>43.656591</td>\n",
       "      <td>-79.379358</td>\n",
       "    </tr>\n",
       "    <tr>\n",
       "      <th>1</th>\n",
       "      <td>2</td>\n",
       "      <td>2</td>\n",
       "      <td>2020-01-21T00:00:00</td>\n",
       "      <td>50s</td>\n",
       "      <td>MALE</td>\n",
       "      <td>Travel-Related</td>\n",
       "      <td>Resolved</td>\n",
       "      <td>Toronto Public Health</td>\n",
       "      <td>277 Victoria Street, 5th Floor</td>\n",
       "      <td>Toronto</td>\n",
       "      <td>M5B 1W2</td>\n",
       "      <td>www.toronto.ca/community-people/health-wellnes...</td>\n",
       "      <td>43.656591</td>\n",
       "      <td>-79.379358</td>\n",
       "    </tr>\n",
       "    <tr>\n",
       "      <th>2</th>\n",
       "      <td>3</td>\n",
       "      <td>3</td>\n",
       "      <td>2020-01-24T00:00:00</td>\n",
       "      <td>20s</td>\n",
       "      <td>FEMALE</td>\n",
       "      <td>Travel-Related</td>\n",
       "      <td>Resolved</td>\n",
       "      <td>Middlesex-London Health Unit</td>\n",
       "      <td>50 King Street</td>\n",
       "      <td>London</td>\n",
       "      <td>N6A 5L7</td>\n",
       "      <td>www.healthunit.com</td>\n",
       "      <td>42.981468</td>\n",
       "      <td>-81.254016</td>\n",
       "    </tr>\n",
       "    <tr>\n",
       "      <th>3</th>\n",
       "      <td>4</td>\n",
       "      <td>4</td>\n",
       "      <td>2020-02-05T00:00:00</td>\n",
       "      <td>20s</td>\n",
       "      <td>FEMALE</td>\n",
       "      <td>Travel-Related</td>\n",
       "      <td>Resolved</td>\n",
       "      <td>Toronto Public Health</td>\n",
       "      <td>277 Victoria Street, 5th Floor</td>\n",
       "      <td>Toronto</td>\n",
       "      <td>M5B 1W2</td>\n",
       "      <td>www.toronto.ca/community-people/health-wellnes...</td>\n",
       "      <td>43.656591</td>\n",
       "      <td>-79.379358</td>\n",
       "    </tr>\n",
       "    <tr>\n",
       "      <th>4</th>\n",
       "      <td>5</td>\n",
       "      <td>5</td>\n",
       "      <td>2020-02-16T00:00:00</td>\n",
       "      <td>60s</td>\n",
       "      <td>FEMALE</td>\n",
       "      <td>Travel-Related</td>\n",
       "      <td>Resolved</td>\n",
       "      <td>Toronto Public Health</td>\n",
       "      <td>277 Victoria Street, 5th Floor</td>\n",
       "      <td>Toronto</td>\n",
       "      <td>M5B 1W2</td>\n",
       "      <td>www.toronto.ca/community-people/health-wellnes...</td>\n",
       "      <td>43.656591</td>\n",
       "      <td>-79.379358</td>\n",
       "    </tr>\n",
       "    <tr>\n",
       "      <th>...</th>\n",
       "      <td>...</td>\n",
       "      <td>...</td>\n",
       "      <td>...</td>\n",
       "      <td>...</td>\n",
       "      <td>...</td>\n",
       "      <td>...</td>\n",
       "      <td>...</td>\n",
       "      <td>...</td>\n",
       "      <td>...</td>\n",
       "      <td>...</td>\n",
       "      <td>...</td>\n",
       "      <td>...</td>\n",
       "      <td>...</td>\n",
       "      <td>...</td>\n",
       "    </tr>\n",
       "    <tr>\n",
       "      <th>95</th>\n",
       "      <td>95</td>\n",
       "      <td>95</td>\n",
       "      <td>2020-03-04T00:00:00</td>\n",
       "      <td>60s</td>\n",
       "      <td>MALE</td>\n",
       "      <td>Travel-Related</td>\n",
       "      <td>Resolved</td>\n",
       "      <td>Toronto Public Health</td>\n",
       "      <td>277 Victoria Street, 5th Floor</td>\n",
       "      <td>Toronto</td>\n",
       "      <td>M5B 1W2</td>\n",
       "      <td>www.toronto.ca/community-people/health-wellnes...</td>\n",
       "      <td>43.656591</td>\n",
       "      <td>-79.379358</td>\n",
       "    </tr>\n",
       "    <tr>\n",
       "      <th>96</th>\n",
       "      <td>144</td>\n",
       "      <td>144</td>\n",
       "      <td>2020-03-12T00:00:00</td>\n",
       "      <td>40s</td>\n",
       "      <td>MALE</td>\n",
       "      <td>Travel-Related</td>\n",
       "      <td>Resolved</td>\n",
       "      <td>Ottawa Public Health</td>\n",
       "      <td>100 Constellation Drive</td>\n",
       "      <td>Ottawa</td>\n",
       "      <td>K2G 6J8</td>\n",
       "      <td>www.ottawapublichealth.ca</td>\n",
       "      <td>45.345665</td>\n",
       "      <td>-75.763912</td>\n",
       "    </tr>\n",
       "    <tr>\n",
       "      <th>97</th>\n",
       "      <td>96</td>\n",
       "      <td>96</td>\n",
       "      <td>2020-03-05T00:00:00</td>\n",
       "      <td>60s</td>\n",
       "      <td>FEMALE</td>\n",
       "      <td>Travel-Related</td>\n",
       "      <td>Resolved</td>\n",
       "      <td>Toronto Public Health</td>\n",
       "      <td>277 Victoria Street, 5th Floor</td>\n",
       "      <td>Toronto</td>\n",
       "      <td>M5B 1W2</td>\n",
       "      <td>www.toronto.ca/community-people/health-wellnes...</td>\n",
       "      <td>43.656591</td>\n",
       "      <td>-79.379358</td>\n",
       "    </tr>\n",
       "    <tr>\n",
       "      <th>98</th>\n",
       "      <td>97</td>\n",
       "      <td>97</td>\n",
       "      <td>2020-03-08T00:00:00</td>\n",
       "      <td>50s</td>\n",
       "      <td>FEMALE</td>\n",
       "      <td>Travel-Related</td>\n",
       "      <td>Resolved</td>\n",
       "      <td>Halton Region Health Department</td>\n",
       "      <td>1151 Bronte Road</td>\n",
       "      <td>Oakville</td>\n",
       "      <td>L6M 3Ll</td>\n",
       "      <td>www.halton.ca/For-Residents/Public-Health/</td>\n",
       "      <td>43.413997</td>\n",
       "      <td>-79.744796</td>\n",
       "    </tr>\n",
       "    <tr>\n",
       "      <th>99</th>\n",
       "      <td>98</td>\n",
       "      <td>98</td>\n",
       "      <td>2020-03-05T00:00:00</td>\n",
       "      <td>50s</td>\n",
       "      <td>MALE</td>\n",
       "      <td>Travel-Related</td>\n",
       "      <td>Resolved</td>\n",
       "      <td>Ottawa Public Health</td>\n",
       "      <td>100 Constellation Drive</td>\n",
       "      <td>Ottawa</td>\n",
       "      <td>K2G 6J8</td>\n",
       "      <td>www.ottawapublichealth.ca</td>\n",
       "      <td>45.345665</td>\n",
       "      <td>-75.763912</td>\n",
       "    </tr>\n",
       "  </tbody>\n",
       "</table>\n",
       "<p>100 rows × 14 columns</p>\n",
       "</div>"
      ],
      "text/plain": [
       "    _id  Row_ID Accurate_Episode_Date Age_Group Client_Gender  \\\n",
       "0     1       1   2020-01-22T00:00:00       50s        FEMALE   \n",
       "1     2       2   2020-01-21T00:00:00       50s          MALE   \n",
       "2     3       3   2020-01-24T00:00:00       20s        FEMALE   \n",
       "3     4       4   2020-02-05T00:00:00       20s        FEMALE   \n",
       "4     5       5   2020-02-16T00:00:00       60s        FEMALE   \n",
       "..  ...     ...                   ...       ...           ...   \n",
       "95   95      95   2020-03-04T00:00:00       60s          MALE   \n",
       "96  144     144   2020-03-12T00:00:00       40s          MALE   \n",
       "97   96      96   2020-03-05T00:00:00       60s        FEMALE   \n",
       "98   97      97   2020-03-08T00:00:00       50s        FEMALE   \n",
       "99   98      98   2020-03-05T00:00:00       50s          MALE   \n",
       "\n",
       "   Case_AcquisitionInfo  Outcome1                    Reporting_PHU  \\\n",
       "0        Travel-Related  Resolved            Toronto Public Health   \n",
       "1        Travel-Related  Resolved            Toronto Public Health   \n",
       "2        Travel-Related  Resolved     Middlesex-London Health Unit   \n",
       "3        Travel-Related  Resolved            Toronto Public Health   \n",
       "4        Travel-Related  Resolved            Toronto Public Health   \n",
       "..                  ...       ...                              ...   \n",
       "95       Travel-Related  Resolved            Toronto Public Health   \n",
       "96       Travel-Related  Resolved             Ottawa Public Health   \n",
       "97       Travel-Related  Resolved            Toronto Public Health   \n",
       "98       Travel-Related  Resolved  Halton Region Health Department   \n",
       "99       Travel-Related  Resolved             Ottawa Public Health   \n",
       "\n",
       "             Reporting_PHU_Address Reporting_PHU_City  \\\n",
       "0   277 Victoria Street, 5th Floor            Toronto   \n",
       "1   277 Victoria Street, 5th Floor            Toronto   \n",
       "2                   50 King Street             London   \n",
       "3   277 Victoria Street, 5th Floor            Toronto   \n",
       "4   277 Victoria Street, 5th Floor            Toronto   \n",
       "..                             ...                ...   \n",
       "95  277 Victoria Street, 5th Floor            Toronto   \n",
       "96         100 Constellation Drive             Ottawa   \n",
       "97  277 Victoria Street, 5th Floor            Toronto   \n",
       "98                1151 Bronte Road           Oakville   \n",
       "99         100 Constellation Drive             Ottawa   \n",
       "\n",
       "   Reporting_PHU_Postal_Code  \\\n",
       "0                    M5B 1W2   \n",
       "1                    M5B 1W2   \n",
       "2                    N6A 5L7   \n",
       "3                    M5B 1W2   \n",
       "4                    M5B 1W2   \n",
       "..                       ...   \n",
       "95                   M5B 1W2   \n",
       "96                   K2G 6J8   \n",
       "97                   M5B 1W2   \n",
       "98                   L6M 3Ll   \n",
       "99                   K2G 6J8   \n",
       "\n",
       "                                Reporting_PHU_Website  Reporting_PHU_Latitude  \\\n",
       "0   www.toronto.ca/community-people/health-wellnes...               43.656591   \n",
       "1   www.toronto.ca/community-people/health-wellnes...               43.656591   \n",
       "2                                  www.healthunit.com               42.981468   \n",
       "3   www.toronto.ca/community-people/health-wellnes...               43.656591   \n",
       "4   www.toronto.ca/community-people/health-wellnes...               43.656591   \n",
       "..                                                ...                     ...   \n",
       "95  www.toronto.ca/community-people/health-wellnes...               43.656591   \n",
       "96                          www.ottawapublichealth.ca               45.345665   \n",
       "97  www.toronto.ca/community-people/health-wellnes...               43.656591   \n",
       "98         www.halton.ca/For-Residents/Public-Health/               43.413997   \n",
       "99                          www.ottawapublichealth.ca               45.345665   \n",
       "\n",
       "    Reporting_PHU_Longitude  \n",
       "0                -79.379358  \n",
       "1                -79.379358  \n",
       "2                -81.254016  \n",
       "3                -79.379358  \n",
       "4                -79.379358  \n",
       "..                      ...  \n",
       "95               -79.379358  \n",
       "96               -75.763912  \n",
       "97               -79.379358  \n",
       "98               -79.744796  \n",
       "99               -75.763912  \n",
       "\n",
       "[100 rows x 14 columns]"
      ]
     },
     "execution_count": 1,
     "metadata": {},
     "output_type": "execute_result"
    }
   ],
   "source": [
    "#hide\n",
    "import urllib, json\n",
    "import pandas as pd\n",
    "import plotly.graph_objects as go\n",
    "import plotly.express as px\n",
    "from IPython.display import HTML\n",
    "\n",
    "url = 'https://data.ontario.ca/api/3/action/datastore_search?resource_id=455fd63b-603d-4608-8216-7d8647f43350'  \n",
    "fileobj = urllib.request.urlopen(url)\n",
    "vals = json.load(fileobj)\n",
    "df = pd.DataFrame(data=vals[\"result\"][\"records\"])\n",
    "df"
   ]
  },
  {
   "cell_type": "code",
   "execution_count": 2,
   "metadata": {},
   "outputs": [],
   "source": [
    "#hide\n",
    "import dateutil.parser\n",
    "\n",
    "mindate = dateutil.parser.parse(df[\"Accurate_Episode_Date\"].min()).date()\n",
    "maxdate = dateutil.parser.parse(df[\"Accurate_Episode_Date\"].max()).date()"
   ]
  },
  {
   "cell_type": "markdown",
   "metadata": {},
   "source": [
    "# Ontario confirmed COVID-19 cases per Region"
   ]
  },
  {
   "cell_type": "code",
   "execution_count": 3,
   "metadata": {},
   "outputs": [],
   "source": [
    "#hide_input\n",
    "#HTML(f'Data is available for the period from {str(mindate)} to {str(maxdate)}.')"
   ]
  },
  {
   "cell_type": "code",
   "execution_count": 4,
   "metadata": {},
   "outputs": [
    {
     "data": {
      "text/html": [
       "<div>\n",
       "<style scoped>\n",
       "    .dataframe tbody tr th:only-of-type {\n",
       "        vertical-align: middle;\n",
       "    }\n",
       "\n",
       "    .dataframe tbody tr th {\n",
       "        vertical-align: top;\n",
       "    }\n",
       "\n",
       "    .dataframe thead th {\n",
       "        text-align: right;\n",
       "    }\n",
       "</style>\n",
       "<table border=\"1\" class=\"dataframe\">\n",
       "  <thead>\n",
       "    <tr style=\"text-align: right;\">\n",
       "      <th></th>\n",
       "      <th>Date</th>\n",
       "      <th>Reporting_PHU</th>\n",
       "      <th>Reporting_PHU_Latitude</th>\n",
       "      <th>Reporting_PHU_Longitude</th>\n",
       "      <th>Count</th>\n",
       "      <th>Travelled_Count</th>\n",
       "      <th>Total</th>\n",
       "      <th>Total Travelled</th>\n",
       "      <th>Total Not Travelled</th>\n",
       "      <th>Total Percent Travelled</th>\n",
       "      <th>Region</th>\n",
       "    </tr>\n",
       "  </thead>\n",
       "  <tbody>\n",
       "    <tr>\n",
       "      <th>0</th>\n",
       "      <td>2020-01-21</td>\n",
       "      <td>Durham Region Health Department</td>\n",
       "      <td>43.898605</td>\n",
       "      <td>-78.940341</td>\n",
       "      <td>0</td>\n",
       "      <td>0.0</td>\n",
       "      <td>0</td>\n",
       "      <td>0.0</td>\n",
       "      <td>0.0</td>\n",
       "      <td>0.000000</td>\n",
       "      <td>Durham Region</td>\n",
       "    </tr>\n",
       "    <tr>\n",
       "      <th>1</th>\n",
       "      <td>2020-01-21</td>\n",
       "      <td>Eastern Ontario Health Unit</td>\n",
       "      <td>45.029152</td>\n",
       "      <td>-74.736298</td>\n",
       "      <td>0</td>\n",
       "      <td>0.0</td>\n",
       "      <td>0</td>\n",
       "      <td>0.0</td>\n",
       "      <td>0.0</td>\n",
       "      <td>0.000000</td>\n",
       "      <td>Eastern Ontario</td>\n",
       "    </tr>\n",
       "    <tr>\n",
       "      <th>2</th>\n",
       "      <td>2020-01-21</td>\n",
       "      <td>Halton Region Health Department</td>\n",
       "      <td>43.413997</td>\n",
       "      <td>-79.744796</td>\n",
       "      <td>0</td>\n",
       "      <td>0.0</td>\n",
       "      <td>0</td>\n",
       "      <td>0.0</td>\n",
       "      <td>0.0</td>\n",
       "      <td>0.000000</td>\n",
       "      <td>Halton Region</td>\n",
       "    </tr>\n",
       "    <tr>\n",
       "      <th>3</th>\n",
       "      <td>2020-01-21</td>\n",
       "      <td>Hamilton Public Health Services</td>\n",
       "      <td>43.257631</td>\n",
       "      <td>-79.871341</td>\n",
       "      <td>0</td>\n",
       "      <td>0.0</td>\n",
       "      <td>0</td>\n",
       "      <td>0.0</td>\n",
       "      <td>0.0</td>\n",
       "      <td>0.000000</td>\n",
       "      <td>Hamilton</td>\n",
       "    </tr>\n",
       "    <tr>\n",
       "      <th>4</th>\n",
       "      <td>2020-01-21</td>\n",
       "      <td>Middlesex-London Health Unit</td>\n",
       "      <td>42.981468</td>\n",
       "      <td>-81.254016</td>\n",
       "      <td>0</td>\n",
       "      <td>0.0</td>\n",
       "      <td>0</td>\n",
       "      <td>0.0</td>\n",
       "      <td>0.0</td>\n",
       "      <td>0.000000</td>\n",
       "      <td>Middlesex-London</td>\n",
       "    </tr>\n",
       "    <tr>\n",
       "      <th>...</th>\n",
       "      <td>...</td>\n",
       "      <td>...</td>\n",
       "      <td>...</td>\n",
       "      <td>...</td>\n",
       "      <td>...</td>\n",
       "      <td>...</td>\n",
       "      <td>...</td>\n",
       "      <td>...</td>\n",
       "      <td>...</td>\n",
       "      <td>...</td>\n",
       "      <td>...</td>\n",
       "    </tr>\n",
       "    <tr>\n",
       "      <th>671</th>\n",
       "      <td>2020-03-12</td>\n",
       "      <td>Region of Waterloo, Public Health</td>\n",
       "      <td>43.462876</td>\n",
       "      <td>-80.520913</td>\n",
       "      <td>0</td>\n",
       "      <td>0.0</td>\n",
       "      <td>3</td>\n",
       "      <td>3.0</td>\n",
       "      <td>0.0</td>\n",
       "      <td>100.000000</td>\n",
       "      <td>Region of Waterloo</td>\n",
       "    </tr>\n",
       "    <tr>\n",
       "      <th>672</th>\n",
       "      <td>2020-03-12</td>\n",
       "      <td>Simcoe Muskoka District Health Unit</td>\n",
       "      <td>44.410713</td>\n",
       "      <td>-79.686306</td>\n",
       "      <td>0</td>\n",
       "      <td>0.0</td>\n",
       "      <td>1</td>\n",
       "      <td>1.0</td>\n",
       "      <td>0.0</td>\n",
       "      <td>100.000000</td>\n",
       "      <td>Simcoe Muskoka District</td>\n",
       "    </tr>\n",
       "    <tr>\n",
       "      <th>673</th>\n",
       "      <td>2020-03-12</td>\n",
       "      <td>Sudbury &amp; District Health Unit</td>\n",
       "      <td>46.466092</td>\n",
       "      <td>-80.998059</td>\n",
       "      <td>0</td>\n",
       "      <td>0.0</td>\n",
       "      <td>2</td>\n",
       "      <td>0.0</td>\n",
       "      <td>2.0</td>\n",
       "      <td>0.000000</td>\n",
       "      <td>Sudbury &amp; District</td>\n",
       "    </tr>\n",
       "    <tr>\n",
       "      <th>674</th>\n",
       "      <td>2020-03-12</td>\n",
       "      <td>Toronto Public Health</td>\n",
       "      <td>43.656591</td>\n",
       "      <td>-79.379358</td>\n",
       "      <td>0</td>\n",
       "      <td>0.0</td>\n",
       "      <td>55</td>\n",
       "      <td>41.0</td>\n",
       "      <td>14.0</td>\n",
       "      <td>74.545455</td>\n",
       "      <td>Toronto</td>\n",
       "    </tr>\n",
       "    <tr>\n",
       "      <th>675</th>\n",
       "      <td>2020-03-12</td>\n",
       "      <td>York Region Public Health Services</td>\n",
       "      <td>44.048023</td>\n",
       "      <td>-79.480239</td>\n",
       "      <td>0</td>\n",
       "      <td>0.0</td>\n",
       "      <td>11</td>\n",
       "      <td>10.0</td>\n",
       "      <td>1.0</td>\n",
       "      <td>90.909091</td>\n",
       "      <td>York Region</td>\n",
       "    </tr>\n",
       "  </tbody>\n",
       "</table>\n",
       "<p>676 rows × 11 columns</p>\n",
       "</div>"
      ],
      "text/plain": [
       "           Date                        Reporting_PHU  Reporting_PHU_Latitude  \\\n",
       "0    2020-01-21      Durham Region Health Department               43.898605   \n",
       "1    2020-01-21          Eastern Ontario Health Unit               45.029152   \n",
       "2    2020-01-21      Halton Region Health Department               43.413997   \n",
       "3    2020-01-21      Hamilton Public Health Services               43.257631   \n",
       "4    2020-01-21         Middlesex-London Health Unit               42.981468   \n",
       "..          ...                                  ...                     ...   \n",
       "671  2020-03-12    Region of Waterloo, Public Health               43.462876   \n",
       "672  2020-03-12  Simcoe Muskoka District Health Unit               44.410713   \n",
       "673  2020-03-12       Sudbury & District Health Unit               46.466092   \n",
       "674  2020-03-12                Toronto Public Health               43.656591   \n",
       "675  2020-03-12   York Region Public Health Services               44.048023   \n",
       "\n",
       "     Reporting_PHU_Longitude  Count  Travelled_Count  Total  Total Travelled  \\\n",
       "0                 -78.940341      0              0.0      0              0.0   \n",
       "1                 -74.736298      0              0.0      0              0.0   \n",
       "2                 -79.744796      0              0.0      0              0.0   \n",
       "3                 -79.871341      0              0.0      0              0.0   \n",
       "4                 -81.254016      0              0.0      0              0.0   \n",
       "..                       ...    ...              ...    ...              ...   \n",
       "671               -80.520913      0              0.0      3              3.0   \n",
       "672               -79.686306      0              0.0      1              1.0   \n",
       "673               -80.998059      0              0.0      2              0.0   \n",
       "674               -79.379358      0              0.0     55             41.0   \n",
       "675               -79.480239      0              0.0     11             10.0   \n",
       "\n",
       "     Total Not Travelled  Total Percent Travelled                    Region  \n",
       "0                    0.0                 0.000000            Durham Region   \n",
       "1                    0.0                 0.000000          Eastern Ontario   \n",
       "2                    0.0                 0.000000            Halton Region   \n",
       "3                    0.0                 0.000000                 Hamilton   \n",
       "4                    0.0                 0.000000         Middlesex-London   \n",
       "..                   ...                      ...                       ...  \n",
       "671                  0.0               100.000000        Region of Waterloo  \n",
       "672                  0.0               100.000000  Simcoe Muskoka District   \n",
       "673                  2.0                 0.000000       Sudbury & District   \n",
       "674                 14.0                74.545455                  Toronto   \n",
       "675                  1.0                90.909091              York Region   \n",
       "\n",
       "[676 rows x 11 columns]"
      ]
     },
     "execution_count": 4,
     "metadata": {},
     "output_type": "execute_result"
    }
   ],
   "source": [
    "#hide\n",
    "import re\n",
    "\n",
    "traveldf = df[df[\"Case_AcquisitionInfo\"] == \"Travel-Related\"] \\\n",
    ".groupby([\"Accurate_Episode_Date\", \"Reporting_PHU\", \"Reporting_PHU_Latitude\", \"Reporting_PHU_Longitude\"]) \\\n",
    ".count()[\"Row_ID\"] \\\n",
    ".reset_index() \\\n",
    ".rename(columns={\"Row_ID\" : \"Travelled_Count\"}) \n",
    "\n",
    "countdf = df \\\n",
    ".groupby([\"Accurate_Episode_Date\", \"Reporting_PHU\", \"Reporting_PHU_Latitude\", \"Reporting_PHU_Longitude\"]) \\\n",
    ".count()[\"Row_ID\"] \\\n",
    ".reset_index() \\\n",
    ".rename(columns={\"Row_ID\" : \"Count\"}) \n",
    "countdf\n",
    "\n",
    "joindf = pd.merge(countdf, traveldf, how=\"left\", \\\n",
    "left_on=[\"Accurate_Episode_Date\", \"Reporting_PHU\", \"Reporting_PHU_Latitude\", \"Reporting_PHU_Longitude\"], \\\n",
    "right_on=[\"Accurate_Episode_Date\", \"Reporting_PHU\", \"Reporting_PHU_Latitude\", \"Reporting_PHU_Longitude\"]) \\\n",
    ".fillna(0)\n",
    "joindf[\"Datetime\"] = joindf.apply(lambda row: dateutil.parser.parse(row[\"Accurate_Episode_Date\"]), axis=1)\n",
    "\n",
    "phus = countdf.groupby(by=[\"Reporting_PHU\",\"Reporting_PHU_Latitude\",\"Reporting_PHU_Longitude\"], as_index=False) \\\n",
    "    .first()[[\"Reporting_PHU\",\"Reporting_PHU_Latitude\",\"Reporting_PHU_Longitude\"]].to_dict(\"index\")\n",
    "dates = pd.date_range(mindate, maxdate).tolist()\n",
    "\n",
    "for date in dates:\n",
    "    for i in range(len(phus)):\n",
    "        phu = phus[i]\n",
    "        phu_name = phu[\"Reporting_PHU\"]\n",
    "        if joindf[(joindf[\"Datetime\"] == date) & (joindf[\"Reporting_PHU\"] == phu_name)].shape[0] == 0:\n",
    "            joindf = joindf.append({\"Datetime\" : date, \"Reporting_PHU\" : phu_name, \\\n",
    "                          \"Reporting_PHU_Latitude\" : phu[\"Reporting_PHU_Latitude\"], \\\n",
    "                          \"Reporting_PHU_Longitude\" : phu[\"Reporting_PHU_Longitude\"], \\\n",
    "                          \"Count\" : 0, \"Travelled_Count\" : 0},ignore_index=True)\n",
    "joindf[\"Date\"] = joindf.apply(lambda row: str(row[\"Datetime\"].date()), axis=1)\n",
    "\n",
    "aggdf = joindf[[\"Date\", \"Reporting_PHU\", \"Reporting_PHU_Latitude\", \"Reporting_PHU_Longitude\", \\\n",
    "                \"Count\", \"Travelled_Count\"]].sort_values(by=[\"Date\",\"Reporting_PHU\"]).reset_index(drop=True)\n",
    "\n",
    "def cumulativeSum(df, phu, date):\n",
    "    return df[(df[\"Reporting_PHU\"] == phu) & (df[\"Date\"] <= date)][\"Count\"].sum()\n",
    "\n",
    "def cumulativeTravelled(df, phu, date):\n",
    "    return df[(df[\"Reporting_PHU\"] == phu) & (df[\"Date\"] <= date)][\"Travelled_Count\"].sum()\n",
    "\n",
    "def cumulativeNotTravelled(df, phu, date):\n",
    "    return cumulativeSum(df, phu, date) - cumulativeTravelled(df, phu, date)\n",
    "\n",
    "def cumulativePercentTravelled(df, phu, date):\n",
    "    total = cumulativeSum(df, phu, date)\n",
    "    if total != 0:\n",
    "        totalTravelled = cumulativeTravelled(df, phu, date)\n",
    "        return 100 * totalTravelled / total\n",
    "    else:\n",
    "        return 0\n",
    "\n",
    "def getRegion(phu_name):\n",
    "    return re.sub(\"(Health|Public|,).+$\", \"\", phu_name)\n",
    "    \n",
    "aggdf[\"Total\"] = aggdf.apply(lambda row: cumulativeSum(aggdf, row[\"Reporting_PHU\"], row[\"Date\"]), axis=1) \n",
    "aggdf[\"Total Travelled\"] = aggdf.apply(lambda row: cumulativeTravelled(aggdf, row[\"Reporting_PHU\"], row[\"Date\"]), axis=1) \n",
    "aggdf[\"Total Not Travelled\"] = aggdf.apply(lambda row: cumulativeNotTravelled(aggdf, row[\"Reporting_PHU\"], row[\"Date\"]), axis=1) \n",
    "aggdf[\"Total Percent Travelled\"] = aggdf.apply(lambda row: cumulativePercentTravelled(aggdf, row[\"Reporting_PHU\"], row[\"Date\"]), axis=1)\n",
    "aggdf[\"Region\"] = aggdf.apply(lambda row: getRegion(row[\"Reporting_PHU\"]), axis=1)\n",
    "aggdf"
   ]
  },
  {
   "cell_type": "code",
   "execution_count": 5,
   "metadata": {},
   "outputs": [
    {
     "data": {
      "text/html": [
       "<div>\n",
       "<style scoped>\n",
       "    .dataframe tbody tr th:only-of-type {\n",
       "        vertical-align: middle;\n",
       "    }\n",
       "\n",
       "    .dataframe tbody tr th {\n",
       "        vertical-align: top;\n",
       "    }\n",
       "\n",
       "    .dataframe thead th {\n",
       "        text-align: right;\n",
       "    }\n",
       "</style>\n",
       "<table border=\"1\" class=\"dataframe\">\n",
       "  <thead>\n",
       "    <tr style=\"text-align: right;\">\n",
       "      <th></th>\n",
       "      <th>Date</th>\n",
       "      <th>Reporting_PHU</th>\n",
       "      <th>Reporting_PHU_Latitude</th>\n",
       "      <th>Reporting_PHU_Longitude</th>\n",
       "      <th>Count</th>\n",
       "      <th>Travelled_Count</th>\n",
       "      <th>Total</th>\n",
       "      <th>Total Travelled</th>\n",
       "      <th>Total Not Travelled</th>\n",
       "      <th>Total Percent Travelled</th>\n",
       "      <th>Region</th>\n",
       "    </tr>\n",
       "  </thead>\n",
       "  <tbody>\n",
       "    <tr>\n",
       "      <th>663</th>\n",
       "      <td>2020-03-12</td>\n",
       "      <td>Durham Region Health Department</td>\n",
       "      <td>43.898605</td>\n",
       "      <td>-78.940341</td>\n",
       "      <td>0</td>\n",
       "      <td>0.0</td>\n",
       "      <td>2</td>\n",
       "      <td>1.0</td>\n",
       "      <td>1.0</td>\n",
       "      <td>50.000000</td>\n",
       "      <td>Durham Region</td>\n",
       "    </tr>\n",
       "    <tr>\n",
       "      <th>664</th>\n",
       "      <td>2020-03-12</td>\n",
       "      <td>Eastern Ontario Health Unit</td>\n",
       "      <td>45.029152</td>\n",
       "      <td>-74.736298</td>\n",
       "      <td>0</td>\n",
       "      <td>0.0</td>\n",
       "      <td>1</td>\n",
       "      <td>1.0</td>\n",
       "      <td>0.0</td>\n",
       "      <td>100.000000</td>\n",
       "      <td>Eastern Ontario</td>\n",
       "    </tr>\n",
       "    <tr>\n",
       "      <th>665</th>\n",
       "      <td>2020-03-12</td>\n",
       "      <td>Halton Region Health Department</td>\n",
       "      <td>43.413997</td>\n",
       "      <td>-79.744796</td>\n",
       "      <td>0</td>\n",
       "      <td>0.0</td>\n",
       "      <td>3</td>\n",
       "      <td>3.0</td>\n",
       "      <td>0.0</td>\n",
       "      <td>100.000000</td>\n",
       "      <td>Halton Region</td>\n",
       "    </tr>\n",
       "    <tr>\n",
       "      <th>666</th>\n",
       "      <td>2020-03-12</td>\n",
       "      <td>Hamilton Public Health Services</td>\n",
       "      <td>43.257631</td>\n",
       "      <td>-79.871341</td>\n",
       "      <td>0</td>\n",
       "      <td>0.0</td>\n",
       "      <td>1</td>\n",
       "      <td>1.0</td>\n",
       "      <td>0.0</td>\n",
       "      <td>100.000000</td>\n",
       "      <td>Hamilton</td>\n",
       "    </tr>\n",
       "    <tr>\n",
       "      <th>667</th>\n",
       "      <td>2020-03-12</td>\n",
       "      <td>Middlesex-London Health Unit</td>\n",
       "      <td>42.981468</td>\n",
       "      <td>-81.254016</td>\n",
       "      <td>0</td>\n",
       "      <td>0.0</td>\n",
       "      <td>1</td>\n",
       "      <td>1.0</td>\n",
       "      <td>0.0</td>\n",
       "      <td>100.000000</td>\n",
       "      <td>Middlesex-London</td>\n",
       "    </tr>\n",
       "    <tr>\n",
       "      <th>668</th>\n",
       "      <td>2020-03-12</td>\n",
       "      <td>Niagara Region Public Health Department</td>\n",
       "      <td>43.116537</td>\n",
       "      <td>-79.241220</td>\n",
       "      <td>0</td>\n",
       "      <td>0.0</td>\n",
       "      <td>1</td>\n",
       "      <td>0.0</td>\n",
       "      <td>1.0</td>\n",
       "      <td>0.000000</td>\n",
       "      <td>Niagara Region</td>\n",
       "    </tr>\n",
       "    <tr>\n",
       "      <th>669</th>\n",
       "      <td>2020-03-12</td>\n",
       "      <td>Ottawa Public Health</td>\n",
       "      <td>45.345665</td>\n",
       "      <td>-75.763912</td>\n",
       "      <td>1</td>\n",
       "      <td>1.0</td>\n",
       "      <td>9</td>\n",
       "      <td>8.0</td>\n",
       "      <td>1.0</td>\n",
       "      <td>88.888889</td>\n",
       "      <td>Ottawa</td>\n",
       "    </tr>\n",
       "    <tr>\n",
       "      <th>670</th>\n",
       "      <td>2020-03-12</td>\n",
       "      <td>Peel Public Health</td>\n",
       "      <td>43.647471</td>\n",
       "      <td>-79.708893</td>\n",
       "      <td>0</td>\n",
       "      <td>0.0</td>\n",
       "      <td>10</td>\n",
       "      <td>7.0</td>\n",
       "      <td>3.0</td>\n",
       "      <td>70.000000</td>\n",
       "      <td>Peel</td>\n",
       "    </tr>\n",
       "    <tr>\n",
       "      <th>671</th>\n",
       "      <td>2020-03-12</td>\n",
       "      <td>Region of Waterloo, Public Health</td>\n",
       "      <td>43.462876</td>\n",
       "      <td>-80.520913</td>\n",
       "      <td>0</td>\n",
       "      <td>0.0</td>\n",
       "      <td>3</td>\n",
       "      <td>3.0</td>\n",
       "      <td>0.0</td>\n",
       "      <td>100.000000</td>\n",
       "      <td>Region of Waterloo</td>\n",
       "    </tr>\n",
       "    <tr>\n",
       "      <th>672</th>\n",
       "      <td>2020-03-12</td>\n",
       "      <td>Simcoe Muskoka District Health Unit</td>\n",
       "      <td>44.410713</td>\n",
       "      <td>-79.686306</td>\n",
       "      <td>0</td>\n",
       "      <td>0.0</td>\n",
       "      <td>1</td>\n",
       "      <td>1.0</td>\n",
       "      <td>0.0</td>\n",
       "      <td>100.000000</td>\n",
       "      <td>Simcoe Muskoka District</td>\n",
       "    </tr>\n",
       "    <tr>\n",
       "      <th>673</th>\n",
       "      <td>2020-03-12</td>\n",
       "      <td>Sudbury &amp; District Health Unit</td>\n",
       "      <td>46.466092</td>\n",
       "      <td>-80.998059</td>\n",
       "      <td>0</td>\n",
       "      <td>0.0</td>\n",
       "      <td>2</td>\n",
       "      <td>0.0</td>\n",
       "      <td>2.0</td>\n",
       "      <td>0.000000</td>\n",
       "      <td>Sudbury &amp; District</td>\n",
       "    </tr>\n",
       "    <tr>\n",
       "      <th>674</th>\n",
       "      <td>2020-03-12</td>\n",
       "      <td>Toronto Public Health</td>\n",
       "      <td>43.656591</td>\n",
       "      <td>-79.379358</td>\n",
       "      <td>0</td>\n",
       "      <td>0.0</td>\n",
       "      <td>55</td>\n",
       "      <td>41.0</td>\n",
       "      <td>14.0</td>\n",
       "      <td>74.545455</td>\n",
       "      <td>Toronto</td>\n",
       "    </tr>\n",
       "    <tr>\n",
       "      <th>675</th>\n",
       "      <td>2020-03-12</td>\n",
       "      <td>York Region Public Health Services</td>\n",
       "      <td>44.048023</td>\n",
       "      <td>-79.480239</td>\n",
       "      <td>0</td>\n",
       "      <td>0.0</td>\n",
       "      <td>11</td>\n",
       "      <td>10.0</td>\n",
       "      <td>1.0</td>\n",
       "      <td>90.909091</td>\n",
       "      <td>York Region</td>\n",
       "    </tr>\n",
       "  </tbody>\n",
       "</table>\n",
       "</div>"
      ],
      "text/plain": [
       "           Date                            Reporting_PHU  \\\n",
       "663  2020-03-12          Durham Region Health Department   \n",
       "664  2020-03-12              Eastern Ontario Health Unit   \n",
       "665  2020-03-12          Halton Region Health Department   \n",
       "666  2020-03-12          Hamilton Public Health Services   \n",
       "667  2020-03-12             Middlesex-London Health Unit   \n",
       "668  2020-03-12  Niagara Region Public Health Department   \n",
       "669  2020-03-12                     Ottawa Public Health   \n",
       "670  2020-03-12                       Peel Public Health   \n",
       "671  2020-03-12        Region of Waterloo, Public Health   \n",
       "672  2020-03-12      Simcoe Muskoka District Health Unit   \n",
       "673  2020-03-12           Sudbury & District Health Unit   \n",
       "674  2020-03-12                    Toronto Public Health   \n",
       "675  2020-03-12       York Region Public Health Services   \n",
       "\n",
       "     Reporting_PHU_Latitude  Reporting_PHU_Longitude  Count  Travelled_Count  \\\n",
       "663               43.898605               -78.940341      0              0.0   \n",
       "664               45.029152               -74.736298      0              0.0   \n",
       "665               43.413997               -79.744796      0              0.0   \n",
       "666               43.257631               -79.871341      0              0.0   \n",
       "667               42.981468               -81.254016      0              0.0   \n",
       "668               43.116537               -79.241220      0              0.0   \n",
       "669               45.345665               -75.763912      1              1.0   \n",
       "670               43.647471               -79.708893      0              0.0   \n",
       "671               43.462876               -80.520913      0              0.0   \n",
       "672               44.410713               -79.686306      0              0.0   \n",
       "673               46.466092               -80.998059      0              0.0   \n",
       "674               43.656591               -79.379358      0              0.0   \n",
       "675               44.048023               -79.480239      0              0.0   \n",
       "\n",
       "     Total  Total Travelled  Total Not Travelled  Total Percent Travelled  \\\n",
       "663      2              1.0                  1.0                50.000000   \n",
       "664      1              1.0                  0.0               100.000000   \n",
       "665      3              3.0                  0.0               100.000000   \n",
       "666      1              1.0                  0.0               100.000000   \n",
       "667      1              1.0                  0.0               100.000000   \n",
       "668      1              0.0                  1.0                 0.000000   \n",
       "669      9              8.0                  1.0                88.888889   \n",
       "670     10              7.0                  3.0                70.000000   \n",
       "671      3              3.0                  0.0               100.000000   \n",
       "672      1              1.0                  0.0               100.000000   \n",
       "673      2              0.0                  2.0                 0.000000   \n",
       "674     55             41.0                 14.0                74.545455   \n",
       "675     11             10.0                  1.0                90.909091   \n",
       "\n",
       "                       Region  \n",
       "663            Durham Region   \n",
       "664          Eastern Ontario   \n",
       "665            Halton Region   \n",
       "666                 Hamilton   \n",
       "667         Middlesex-London   \n",
       "668           Niagara Region   \n",
       "669                   Ottawa   \n",
       "670                     Peel   \n",
       "671        Region of Waterloo  \n",
       "672  Simcoe Muskoka District   \n",
       "673       Sudbury & District   \n",
       "674                  Toronto   \n",
       "675              York Region   "
      ]
     },
     "execution_count": 5,
     "metadata": {},
     "output_type": "execute_result"
    }
   ],
   "source": [
    "#hide\n",
    "latestdf = aggdf[aggdf[\"Date\"] == str(maxdate)].sort_values(by=[\"Region\"])\n",
    "latestdf"
   ]
  },
  {
   "cell_type": "code",
   "execution_count": 7,
   "metadata": {},
   "outputs": [
    {
     "data": {
      "application/vnd.plotly.v1+json": {
       "config": {
        "plotlyServerURL": "https://plot.ly"
       },
       "data": [
        {
         "name": "Travel-Related",
         "type": "bar",
         "x": [
          "Toronto ",
          "York Region ",
          "Peel ",
          "Ottawa ",
          "Halton Region ",
          "Region of Waterloo",
          "Sudbury & District ",
          "Durham Region ",
          "Niagara Region ",
          "Eastern Ontario ",
          "Hamilton ",
          "Middlesex-London ",
          "Simcoe Muskoka District "
         ],
         "y": [
          41,
          10,
          7,
          8,
          3,
          3,
          0,
          1,
          0,
          1,
          1,
          1,
          1
         ]
        },
        {
         "name": "Not Travel-Related",
         "type": "bar",
         "x": [
          "Toronto ",
          "York Region ",
          "Peel ",
          "Ottawa ",
          "Halton Region ",
          "Region of Waterloo",
          "Sudbury & District ",
          "Durham Region ",
          "Niagara Region ",
          "Eastern Ontario ",
          "Hamilton ",
          "Middlesex-London ",
          "Simcoe Muskoka District "
         ],
         "y": [
          14,
          1,
          3,
          1,
          0,
          0,
          2,
          1,
          1,
          0,
          0,
          0,
          0
         ]
        }
       ],
       "layout": {
        "barmode": "stack",
        "template": {
         "data": {
          "bar": [
           {
            "error_x": {
             "color": "#2a3f5f"
            },
            "error_y": {
             "color": "#2a3f5f"
            },
            "marker": {
             "line": {
              "color": "#E5ECF6",
              "width": 0.5
             }
            },
            "type": "bar"
           }
          ],
          "barpolar": [
           {
            "marker": {
             "line": {
              "color": "#E5ECF6",
              "width": 0.5
             }
            },
            "type": "barpolar"
           }
          ],
          "carpet": [
           {
            "aaxis": {
             "endlinecolor": "#2a3f5f",
             "gridcolor": "white",
             "linecolor": "white",
             "minorgridcolor": "white",
             "startlinecolor": "#2a3f5f"
            },
            "baxis": {
             "endlinecolor": "#2a3f5f",
             "gridcolor": "white",
             "linecolor": "white",
             "minorgridcolor": "white",
             "startlinecolor": "#2a3f5f"
            },
            "type": "carpet"
           }
          ],
          "choropleth": [
           {
            "colorbar": {
             "outlinewidth": 0,
             "ticks": ""
            },
            "type": "choropleth"
           }
          ],
          "contour": [
           {
            "colorbar": {
             "outlinewidth": 0,
             "ticks": ""
            },
            "colorscale": [
             [
              0,
              "#0d0887"
             ],
             [
              0.1111111111111111,
              "#46039f"
             ],
             [
              0.2222222222222222,
              "#7201a8"
             ],
             [
              0.3333333333333333,
              "#9c179e"
             ],
             [
              0.4444444444444444,
              "#bd3786"
             ],
             [
              0.5555555555555556,
              "#d8576b"
             ],
             [
              0.6666666666666666,
              "#ed7953"
             ],
             [
              0.7777777777777778,
              "#fb9f3a"
             ],
             [
              0.8888888888888888,
              "#fdca26"
             ],
             [
              1,
              "#f0f921"
             ]
            ],
            "type": "contour"
           }
          ],
          "contourcarpet": [
           {
            "colorbar": {
             "outlinewidth": 0,
             "ticks": ""
            },
            "type": "contourcarpet"
           }
          ],
          "heatmap": [
           {
            "colorbar": {
             "outlinewidth": 0,
             "ticks": ""
            },
            "colorscale": [
             [
              0,
              "#0d0887"
             ],
             [
              0.1111111111111111,
              "#46039f"
             ],
             [
              0.2222222222222222,
              "#7201a8"
             ],
             [
              0.3333333333333333,
              "#9c179e"
             ],
             [
              0.4444444444444444,
              "#bd3786"
             ],
             [
              0.5555555555555556,
              "#d8576b"
             ],
             [
              0.6666666666666666,
              "#ed7953"
             ],
             [
              0.7777777777777778,
              "#fb9f3a"
             ],
             [
              0.8888888888888888,
              "#fdca26"
             ],
             [
              1,
              "#f0f921"
             ]
            ],
            "type": "heatmap"
           }
          ],
          "heatmapgl": [
           {
            "colorbar": {
             "outlinewidth": 0,
             "ticks": ""
            },
            "colorscale": [
             [
              0,
              "#0d0887"
             ],
             [
              0.1111111111111111,
              "#46039f"
             ],
             [
              0.2222222222222222,
              "#7201a8"
             ],
             [
              0.3333333333333333,
              "#9c179e"
             ],
             [
              0.4444444444444444,
              "#bd3786"
             ],
             [
              0.5555555555555556,
              "#d8576b"
             ],
             [
              0.6666666666666666,
              "#ed7953"
             ],
             [
              0.7777777777777778,
              "#fb9f3a"
             ],
             [
              0.8888888888888888,
              "#fdca26"
             ],
             [
              1,
              "#f0f921"
             ]
            ],
            "type": "heatmapgl"
           }
          ],
          "histogram": [
           {
            "marker": {
             "colorbar": {
              "outlinewidth": 0,
              "ticks": ""
             }
            },
            "type": "histogram"
           }
          ],
          "histogram2d": [
           {
            "colorbar": {
             "outlinewidth": 0,
             "ticks": ""
            },
            "colorscale": [
             [
              0,
              "#0d0887"
             ],
             [
              0.1111111111111111,
              "#46039f"
             ],
             [
              0.2222222222222222,
              "#7201a8"
             ],
             [
              0.3333333333333333,
              "#9c179e"
             ],
             [
              0.4444444444444444,
              "#bd3786"
             ],
             [
              0.5555555555555556,
              "#d8576b"
             ],
             [
              0.6666666666666666,
              "#ed7953"
             ],
             [
              0.7777777777777778,
              "#fb9f3a"
             ],
             [
              0.8888888888888888,
              "#fdca26"
             ],
             [
              1,
              "#f0f921"
             ]
            ],
            "type": "histogram2d"
           }
          ],
          "histogram2dcontour": [
           {
            "colorbar": {
             "outlinewidth": 0,
             "ticks": ""
            },
            "colorscale": [
             [
              0,
              "#0d0887"
             ],
             [
              0.1111111111111111,
              "#46039f"
             ],
             [
              0.2222222222222222,
              "#7201a8"
             ],
             [
              0.3333333333333333,
              "#9c179e"
             ],
             [
              0.4444444444444444,
              "#bd3786"
             ],
             [
              0.5555555555555556,
              "#d8576b"
             ],
             [
              0.6666666666666666,
              "#ed7953"
             ],
             [
              0.7777777777777778,
              "#fb9f3a"
             ],
             [
              0.8888888888888888,
              "#fdca26"
             ],
             [
              1,
              "#f0f921"
             ]
            ],
            "type": "histogram2dcontour"
           }
          ],
          "mesh3d": [
           {
            "colorbar": {
             "outlinewidth": 0,
             "ticks": ""
            },
            "type": "mesh3d"
           }
          ],
          "parcoords": [
           {
            "line": {
             "colorbar": {
              "outlinewidth": 0,
              "ticks": ""
             }
            },
            "type": "parcoords"
           }
          ],
          "pie": [
           {
            "automargin": true,
            "type": "pie"
           }
          ],
          "scatter": [
           {
            "marker": {
             "colorbar": {
              "outlinewidth": 0,
              "ticks": ""
             }
            },
            "type": "scatter"
           }
          ],
          "scatter3d": [
           {
            "line": {
             "colorbar": {
              "outlinewidth": 0,
              "ticks": ""
             }
            },
            "marker": {
             "colorbar": {
              "outlinewidth": 0,
              "ticks": ""
             }
            },
            "type": "scatter3d"
           }
          ],
          "scattercarpet": [
           {
            "marker": {
             "colorbar": {
              "outlinewidth": 0,
              "ticks": ""
             }
            },
            "type": "scattercarpet"
           }
          ],
          "scattergeo": [
           {
            "marker": {
             "colorbar": {
              "outlinewidth": 0,
              "ticks": ""
             }
            },
            "type": "scattergeo"
           }
          ],
          "scattergl": [
           {
            "marker": {
             "colorbar": {
              "outlinewidth": 0,
              "ticks": ""
             }
            },
            "type": "scattergl"
           }
          ],
          "scattermapbox": [
           {
            "marker": {
             "colorbar": {
              "outlinewidth": 0,
              "ticks": ""
             }
            },
            "type": "scattermapbox"
           }
          ],
          "scatterpolar": [
           {
            "marker": {
             "colorbar": {
              "outlinewidth": 0,
              "ticks": ""
             }
            },
            "type": "scatterpolar"
           }
          ],
          "scatterpolargl": [
           {
            "marker": {
             "colorbar": {
              "outlinewidth": 0,
              "ticks": ""
             }
            },
            "type": "scatterpolargl"
           }
          ],
          "scatterternary": [
           {
            "marker": {
             "colorbar": {
              "outlinewidth": 0,
              "ticks": ""
             }
            },
            "type": "scatterternary"
           }
          ],
          "surface": [
           {
            "colorbar": {
             "outlinewidth": 0,
             "ticks": ""
            },
            "colorscale": [
             [
              0,
              "#0d0887"
             ],
             [
              0.1111111111111111,
              "#46039f"
             ],
             [
              0.2222222222222222,
              "#7201a8"
             ],
             [
              0.3333333333333333,
              "#9c179e"
             ],
             [
              0.4444444444444444,
              "#bd3786"
             ],
             [
              0.5555555555555556,
              "#d8576b"
             ],
             [
              0.6666666666666666,
              "#ed7953"
             ],
             [
              0.7777777777777778,
              "#fb9f3a"
             ],
             [
              0.8888888888888888,
              "#fdca26"
             ],
             [
              1,
              "#f0f921"
             ]
            ],
            "type": "surface"
           }
          ],
          "table": [
           {
            "cells": {
             "fill": {
              "color": "#EBF0F8"
             },
             "line": {
              "color": "white"
             }
            },
            "header": {
             "fill": {
              "color": "#C8D4E3"
             },
             "line": {
              "color": "white"
             }
            },
            "type": "table"
           }
          ]
         },
         "layout": {
          "annotationdefaults": {
           "arrowcolor": "#2a3f5f",
           "arrowhead": 0,
           "arrowwidth": 1
          },
          "coloraxis": {
           "colorbar": {
            "outlinewidth": 0,
            "ticks": ""
           }
          },
          "colorscale": {
           "diverging": [
            [
             0,
             "#8e0152"
            ],
            [
             0.1,
             "#c51b7d"
            ],
            [
             0.2,
             "#de77ae"
            ],
            [
             0.3,
             "#f1b6da"
            ],
            [
             0.4,
             "#fde0ef"
            ],
            [
             0.5,
             "#f7f7f7"
            ],
            [
             0.6,
             "#e6f5d0"
            ],
            [
             0.7,
             "#b8e186"
            ],
            [
             0.8,
             "#7fbc41"
            ],
            [
             0.9,
             "#4d9221"
            ],
            [
             1,
             "#276419"
            ]
           ],
           "sequential": [
            [
             0,
             "#0d0887"
            ],
            [
             0.1111111111111111,
             "#46039f"
            ],
            [
             0.2222222222222222,
             "#7201a8"
            ],
            [
             0.3333333333333333,
             "#9c179e"
            ],
            [
             0.4444444444444444,
             "#bd3786"
            ],
            [
             0.5555555555555556,
             "#d8576b"
            ],
            [
             0.6666666666666666,
             "#ed7953"
            ],
            [
             0.7777777777777778,
             "#fb9f3a"
            ],
            [
             0.8888888888888888,
             "#fdca26"
            ],
            [
             1,
             "#f0f921"
            ]
           ],
           "sequentialminus": [
            [
             0,
             "#0d0887"
            ],
            [
             0.1111111111111111,
             "#46039f"
            ],
            [
             0.2222222222222222,
             "#7201a8"
            ],
            [
             0.3333333333333333,
             "#9c179e"
            ],
            [
             0.4444444444444444,
             "#bd3786"
            ],
            [
             0.5555555555555556,
             "#d8576b"
            ],
            [
             0.6666666666666666,
             "#ed7953"
            ],
            [
             0.7777777777777778,
             "#fb9f3a"
            ],
            [
             0.8888888888888888,
             "#fdca26"
            ],
            [
             1,
             "#f0f921"
            ]
           ]
          },
          "colorway": [
           "#636efa",
           "#EF553B",
           "#00cc96",
           "#ab63fa",
           "#FFA15A",
           "#19d3f3",
           "#FF6692",
           "#B6E880",
           "#FF97FF",
           "#FECB52"
          ],
          "font": {
           "color": "#2a3f5f"
          },
          "geo": {
           "bgcolor": "white",
           "lakecolor": "white",
           "landcolor": "#E5ECF6",
           "showlakes": true,
           "showland": true,
           "subunitcolor": "white"
          },
          "hoverlabel": {
           "align": "left"
          },
          "hovermode": "closest",
          "mapbox": {
           "style": "light"
          },
          "paper_bgcolor": "white",
          "plot_bgcolor": "#E5ECF6",
          "polar": {
           "angularaxis": {
            "gridcolor": "white",
            "linecolor": "white",
            "ticks": ""
           },
           "bgcolor": "#E5ECF6",
           "radialaxis": {
            "gridcolor": "white",
            "linecolor": "white",
            "ticks": ""
           }
          },
          "scene": {
           "xaxis": {
            "backgroundcolor": "#E5ECF6",
            "gridcolor": "white",
            "gridwidth": 2,
            "linecolor": "white",
            "showbackground": true,
            "ticks": "",
            "zerolinecolor": "white"
           },
           "yaxis": {
            "backgroundcolor": "#E5ECF6",
            "gridcolor": "white",
            "gridwidth": 2,
            "linecolor": "white",
            "showbackground": true,
            "ticks": "",
            "zerolinecolor": "white"
           },
           "zaxis": {
            "backgroundcolor": "#E5ECF6",
            "gridcolor": "white",
            "gridwidth": 2,
            "linecolor": "white",
            "showbackground": true,
            "ticks": "",
            "zerolinecolor": "white"
           }
          },
          "shapedefaults": {
           "line": {
            "color": "#2a3f5f"
           }
          },
          "ternary": {
           "aaxis": {
            "gridcolor": "white",
            "linecolor": "white",
            "ticks": ""
           },
           "baxis": {
            "gridcolor": "white",
            "linecolor": "white",
            "ticks": ""
           },
           "bgcolor": "#E5ECF6",
           "caxis": {
            "gridcolor": "white",
            "linecolor": "white",
            "ticks": ""
           }
          },
          "title": {
           "x": 0.05
          },
          "xaxis": {
           "automargin": true,
           "gridcolor": "white",
           "linecolor": "white",
           "ticks": "",
           "title": {
            "standoff": 15
           },
           "zerolinecolor": "white",
           "zerolinewidth": 2
          },
          "yaxis": {
           "automargin": true,
           "gridcolor": "white",
           "linecolor": "white",
           "ticks": "",
           "title": {
            "standoff": 15
           },
           "zerolinecolor": "white",
           "zerolinewidth": 2
          }
         }
        },
        "title": {
         "text": "Cumulative Confirmed Cases per Ontario Region up to 2020-03-12"
        },
        "xaxis": {
         "categoryorder": "array"
        }
       }
      },
      "text/html": [
       "<div>\n",
       "        \n",
       "        \n",
       "            <div id=\"0c5f4d93-a149-405e-ad32-b94b4d1445e6\" class=\"plotly-graph-div\" style=\"height:525px; width:100%;\"></div>\n",
       "            <script type=\"text/javascript\">\n",
       "                require([\"plotly\"], function(Plotly) {\n",
       "                    window.PLOTLYENV=window.PLOTLYENV || {};\n",
       "                    \n",
       "                if (document.getElementById(\"0c5f4d93-a149-405e-ad32-b94b4d1445e6\")) {\n",
       "                    Plotly.newPlot(\n",
       "                        '0c5f4d93-a149-405e-ad32-b94b4d1445e6',\n",
       "                        [{\"name\": \"Travel-Related\", \"type\": \"bar\", \"x\": [\"Toronto \", \"York Region \", \"Peel \", \"Ottawa \", \"Halton Region \", \"Region of Waterloo\", \"Sudbury & District \", \"Durham Region \", \"Niagara Region \", \"Eastern Ontario \", \"Hamilton \", \"Middlesex-London \", \"Simcoe Muskoka District \"], \"y\": [41.0, 10.0, 7.0, 8.0, 3.0, 3.0, 0.0, 1.0, 0.0, 1.0, 1.0, 1.0, 1.0]}, {\"name\": \"Not Travel-Related\", \"type\": \"bar\", \"x\": [\"Toronto \", \"York Region \", \"Peel \", \"Ottawa \", \"Halton Region \", \"Region of Waterloo\", \"Sudbury & District \", \"Durham Region \", \"Niagara Region \", \"Eastern Ontario \", \"Hamilton \", \"Middlesex-London \", \"Simcoe Muskoka District \"], \"y\": [14.0, 1.0, 3.0, 1.0, 0.0, 0.0, 2.0, 1.0, 1.0, 0.0, 0.0, 0.0, 0.0]}],\n",
       "                        {\"barmode\": \"stack\", \"template\": {\"data\": {\"bar\": [{\"error_x\": {\"color\": \"#2a3f5f\"}, \"error_y\": {\"color\": \"#2a3f5f\"}, \"marker\": {\"line\": {\"color\": \"#E5ECF6\", \"width\": 0.5}}, \"type\": \"bar\"}], \"barpolar\": [{\"marker\": {\"line\": {\"color\": \"#E5ECF6\", \"width\": 0.5}}, \"type\": \"barpolar\"}], \"carpet\": [{\"aaxis\": {\"endlinecolor\": \"#2a3f5f\", \"gridcolor\": \"white\", \"linecolor\": \"white\", \"minorgridcolor\": \"white\", \"startlinecolor\": \"#2a3f5f\"}, \"baxis\": {\"endlinecolor\": \"#2a3f5f\", \"gridcolor\": \"white\", \"linecolor\": \"white\", \"minorgridcolor\": \"white\", \"startlinecolor\": \"#2a3f5f\"}, \"type\": \"carpet\"}], \"choropleth\": [{\"colorbar\": {\"outlinewidth\": 0, \"ticks\": \"\"}, \"type\": \"choropleth\"}], \"contour\": [{\"colorbar\": {\"outlinewidth\": 0, \"ticks\": \"\"}, \"colorscale\": [[0.0, \"#0d0887\"], [0.1111111111111111, \"#46039f\"], [0.2222222222222222, \"#7201a8\"], [0.3333333333333333, \"#9c179e\"], [0.4444444444444444, \"#bd3786\"], [0.5555555555555556, \"#d8576b\"], [0.6666666666666666, \"#ed7953\"], [0.7777777777777778, \"#fb9f3a\"], [0.8888888888888888, \"#fdca26\"], [1.0, \"#f0f921\"]], \"type\": \"contour\"}], \"contourcarpet\": [{\"colorbar\": {\"outlinewidth\": 0, \"ticks\": \"\"}, \"type\": \"contourcarpet\"}], \"heatmap\": [{\"colorbar\": {\"outlinewidth\": 0, \"ticks\": \"\"}, \"colorscale\": [[0.0, \"#0d0887\"], [0.1111111111111111, \"#46039f\"], [0.2222222222222222, \"#7201a8\"], [0.3333333333333333, \"#9c179e\"], [0.4444444444444444, \"#bd3786\"], [0.5555555555555556, \"#d8576b\"], [0.6666666666666666, \"#ed7953\"], [0.7777777777777778, \"#fb9f3a\"], [0.8888888888888888, \"#fdca26\"], [1.0, \"#f0f921\"]], \"type\": \"heatmap\"}], \"heatmapgl\": [{\"colorbar\": {\"outlinewidth\": 0, \"ticks\": \"\"}, \"colorscale\": [[0.0, \"#0d0887\"], [0.1111111111111111, \"#46039f\"], [0.2222222222222222, \"#7201a8\"], [0.3333333333333333, \"#9c179e\"], [0.4444444444444444, \"#bd3786\"], [0.5555555555555556, \"#d8576b\"], [0.6666666666666666, \"#ed7953\"], [0.7777777777777778, \"#fb9f3a\"], [0.8888888888888888, \"#fdca26\"], [1.0, \"#f0f921\"]], \"type\": \"heatmapgl\"}], \"histogram\": [{\"marker\": {\"colorbar\": {\"outlinewidth\": 0, \"ticks\": \"\"}}, \"type\": \"histogram\"}], \"histogram2d\": [{\"colorbar\": {\"outlinewidth\": 0, \"ticks\": \"\"}, \"colorscale\": [[0.0, \"#0d0887\"], [0.1111111111111111, \"#46039f\"], [0.2222222222222222, \"#7201a8\"], [0.3333333333333333, \"#9c179e\"], [0.4444444444444444, \"#bd3786\"], [0.5555555555555556, \"#d8576b\"], [0.6666666666666666, \"#ed7953\"], [0.7777777777777778, \"#fb9f3a\"], [0.8888888888888888, \"#fdca26\"], [1.0, \"#f0f921\"]], \"type\": \"histogram2d\"}], \"histogram2dcontour\": [{\"colorbar\": {\"outlinewidth\": 0, \"ticks\": \"\"}, \"colorscale\": [[0.0, \"#0d0887\"], [0.1111111111111111, \"#46039f\"], [0.2222222222222222, \"#7201a8\"], [0.3333333333333333, \"#9c179e\"], [0.4444444444444444, \"#bd3786\"], [0.5555555555555556, \"#d8576b\"], [0.6666666666666666, \"#ed7953\"], [0.7777777777777778, \"#fb9f3a\"], [0.8888888888888888, \"#fdca26\"], [1.0, \"#f0f921\"]], \"type\": \"histogram2dcontour\"}], \"mesh3d\": [{\"colorbar\": {\"outlinewidth\": 0, \"ticks\": \"\"}, \"type\": \"mesh3d\"}], \"parcoords\": [{\"line\": {\"colorbar\": {\"outlinewidth\": 0, \"ticks\": \"\"}}, \"type\": \"parcoords\"}], \"pie\": [{\"automargin\": true, \"type\": \"pie\"}], \"scatter\": [{\"marker\": {\"colorbar\": {\"outlinewidth\": 0, \"ticks\": \"\"}}, \"type\": \"scatter\"}], \"scatter3d\": [{\"line\": {\"colorbar\": {\"outlinewidth\": 0, \"ticks\": \"\"}}, \"marker\": {\"colorbar\": {\"outlinewidth\": 0, \"ticks\": \"\"}}, \"type\": \"scatter3d\"}], \"scattercarpet\": [{\"marker\": {\"colorbar\": {\"outlinewidth\": 0, \"ticks\": \"\"}}, \"type\": \"scattercarpet\"}], \"scattergeo\": [{\"marker\": {\"colorbar\": {\"outlinewidth\": 0, \"ticks\": \"\"}}, \"type\": \"scattergeo\"}], \"scattergl\": [{\"marker\": {\"colorbar\": {\"outlinewidth\": 0, \"ticks\": \"\"}}, \"type\": \"scattergl\"}], \"scattermapbox\": [{\"marker\": {\"colorbar\": {\"outlinewidth\": 0, \"ticks\": \"\"}}, \"type\": \"scattermapbox\"}], \"scatterpolar\": [{\"marker\": {\"colorbar\": {\"outlinewidth\": 0, \"ticks\": \"\"}}, \"type\": \"scatterpolar\"}], \"scatterpolargl\": [{\"marker\": {\"colorbar\": {\"outlinewidth\": 0, \"ticks\": \"\"}}, \"type\": \"scatterpolargl\"}], \"scatterternary\": [{\"marker\": {\"colorbar\": {\"outlinewidth\": 0, \"ticks\": \"\"}}, \"type\": \"scatterternary\"}], \"surface\": [{\"colorbar\": {\"outlinewidth\": 0, \"ticks\": \"\"}, \"colorscale\": [[0.0, \"#0d0887\"], [0.1111111111111111, \"#46039f\"], [0.2222222222222222, \"#7201a8\"], [0.3333333333333333, \"#9c179e\"], [0.4444444444444444, \"#bd3786\"], [0.5555555555555556, \"#d8576b\"], [0.6666666666666666, \"#ed7953\"], [0.7777777777777778, \"#fb9f3a\"], [0.8888888888888888, \"#fdca26\"], [1.0, \"#f0f921\"]], \"type\": \"surface\"}], \"table\": [{\"cells\": {\"fill\": {\"color\": \"#EBF0F8\"}, \"line\": {\"color\": \"white\"}}, \"header\": {\"fill\": {\"color\": \"#C8D4E3\"}, \"line\": {\"color\": \"white\"}}, \"type\": \"table\"}]}, \"layout\": {\"annotationdefaults\": {\"arrowcolor\": \"#2a3f5f\", \"arrowhead\": 0, \"arrowwidth\": 1}, \"coloraxis\": {\"colorbar\": {\"outlinewidth\": 0, \"ticks\": \"\"}}, \"colorscale\": {\"diverging\": [[0, \"#8e0152\"], [0.1, \"#c51b7d\"], [0.2, \"#de77ae\"], [0.3, \"#f1b6da\"], [0.4, \"#fde0ef\"], [0.5, \"#f7f7f7\"], [0.6, \"#e6f5d0\"], [0.7, \"#b8e186\"], [0.8, \"#7fbc41\"], [0.9, \"#4d9221\"], [1, \"#276419\"]], \"sequential\": [[0.0, \"#0d0887\"], [0.1111111111111111, \"#46039f\"], [0.2222222222222222, \"#7201a8\"], [0.3333333333333333, \"#9c179e\"], [0.4444444444444444, \"#bd3786\"], [0.5555555555555556, \"#d8576b\"], [0.6666666666666666, \"#ed7953\"], [0.7777777777777778, \"#fb9f3a\"], [0.8888888888888888, \"#fdca26\"], [1.0, \"#f0f921\"]], \"sequentialminus\": [[0.0, \"#0d0887\"], [0.1111111111111111, \"#46039f\"], [0.2222222222222222, \"#7201a8\"], [0.3333333333333333, \"#9c179e\"], [0.4444444444444444, \"#bd3786\"], [0.5555555555555556, \"#d8576b\"], [0.6666666666666666, \"#ed7953\"], [0.7777777777777778, \"#fb9f3a\"], [0.8888888888888888, \"#fdca26\"], [1.0, \"#f0f921\"]]}, \"colorway\": [\"#636efa\", \"#EF553B\", \"#00cc96\", \"#ab63fa\", \"#FFA15A\", \"#19d3f3\", \"#FF6692\", \"#B6E880\", \"#FF97FF\", \"#FECB52\"], \"font\": {\"color\": \"#2a3f5f\"}, \"geo\": {\"bgcolor\": \"white\", \"lakecolor\": \"white\", \"landcolor\": \"#E5ECF6\", \"showlakes\": true, \"showland\": true, \"subunitcolor\": \"white\"}, \"hoverlabel\": {\"align\": \"left\"}, \"hovermode\": \"closest\", \"mapbox\": {\"style\": \"light\"}, \"paper_bgcolor\": \"white\", \"plot_bgcolor\": \"#E5ECF6\", \"polar\": {\"angularaxis\": {\"gridcolor\": \"white\", \"linecolor\": \"white\", \"ticks\": \"\"}, \"bgcolor\": \"#E5ECF6\", \"radialaxis\": {\"gridcolor\": \"white\", \"linecolor\": \"white\", \"ticks\": \"\"}}, \"scene\": {\"xaxis\": {\"backgroundcolor\": \"#E5ECF6\", \"gridcolor\": \"white\", \"gridwidth\": 2, \"linecolor\": \"white\", \"showbackground\": true, \"ticks\": \"\", \"zerolinecolor\": \"white\"}, \"yaxis\": {\"backgroundcolor\": \"#E5ECF6\", \"gridcolor\": \"white\", \"gridwidth\": 2, \"linecolor\": \"white\", \"showbackground\": true, \"ticks\": \"\", \"zerolinecolor\": \"white\"}, \"zaxis\": {\"backgroundcolor\": \"#E5ECF6\", \"gridcolor\": \"white\", \"gridwidth\": 2, \"linecolor\": \"white\", \"showbackground\": true, \"ticks\": \"\", \"zerolinecolor\": \"white\"}}, \"shapedefaults\": {\"line\": {\"color\": \"#2a3f5f\"}}, \"ternary\": {\"aaxis\": {\"gridcolor\": \"white\", \"linecolor\": \"white\", \"ticks\": \"\"}, \"baxis\": {\"gridcolor\": \"white\", \"linecolor\": \"white\", \"ticks\": \"\"}, \"bgcolor\": \"#E5ECF6\", \"caxis\": {\"gridcolor\": \"white\", \"linecolor\": \"white\", \"ticks\": \"\"}}, \"title\": {\"x\": 0.05}, \"xaxis\": {\"automargin\": true, \"gridcolor\": \"white\", \"linecolor\": \"white\", \"ticks\": \"\", \"title\": {\"standoff\": 15}, \"zerolinecolor\": \"white\", \"zerolinewidth\": 2}, \"yaxis\": {\"automargin\": true, \"gridcolor\": \"white\", \"linecolor\": \"white\", \"ticks\": \"\", \"title\": {\"standoff\": 15}, \"zerolinecolor\": \"white\", \"zerolinewidth\": 2}}}, \"title\": {\"text\": \"Cumulative Confirmed Cases per Ontario Region up to 2020-03-12\"}, \"xaxis\": {\"categoryorder\": \"array\"}},\n",
       "                        {\"responsive\": true}\n",
       "                    ).then(function(){\n",
       "                            \n",
       "var gd = document.getElementById('0c5f4d93-a149-405e-ad32-b94b4d1445e6');\n",
       "var x = new MutationObserver(function (mutations, observer) {{\n",
       "        var display = window.getComputedStyle(gd).display;\n",
       "        if (!display || display === 'none') {{\n",
       "            console.log([gd, 'removed!']);\n",
       "            Plotly.purge(gd);\n",
       "            observer.disconnect();\n",
       "        }}\n",
       "}});\n",
       "\n",
       "// Listen for the removal of the full notebook cells\n",
       "var notebookContainer = gd.closest('#notebook-container');\n",
       "if (notebookContainer) {{\n",
       "    x.observe(notebookContainer, {childList: true});\n",
       "}}\n",
       "\n",
       "// Listen for the clearing of the current output cell\n",
       "var outputEl = gd.closest('.output');\n",
       "if (outputEl) {{\n",
       "    x.observe(outputEl, {childList: true});\n",
       "}}\n",
       "\n",
       "                        })\n",
       "                };\n",
       "                });\n",
       "            </script>\n",
       "        </div>"
      ]
     },
     "metadata": {},
     "output_type": "display_data"
    }
   ],
   "source": [
    "#hide_input\n",
    "prefix = \"Cumulative Confirmed Cases per Ontario Region\"\n",
    "titlelatest = prefix + \" up to \" + str(maxdate)\n",
    "\n",
    "latestdfdesc = latestdf.sort_values(by=[\"Total\", \"Total Not Travelled\"], ascending=[False,False]).reset_index()\n",
    "\n",
    "barfig = go.Figure(go.Bar(x=latestdfdesc[\"Region\"], y=latestdfdesc[\"Total Travelled\"], name='Travel-Related'))\n",
    "barfig.add_trace(go.Bar(x=latestdfdesc[\"Region\"], y=latestdfdesc[\"Total Not Travelled\"], name='Not Travel-Related'))\n",
    "barfig.update_layout(barmode='stack', xaxis={'categoryorder':'array'}, title=titlelatest)\n",
    "barfig.show()"
   ]
  },
  {
   "cell_type": "code",
   "execution_count": 7,
   "metadata": {},
   "outputs": [
    {
     "data": {
      "application/vnd.plotly.v1+json": {
       "config": {
        "plotlyServerURL": "https://plot.ly"
       },
       "data": [
        {
         "hoverlabel": {
          "namelength": 0
         },
         "hovertemplate": "<b>%{hovertext}</b><br><br>Date=2020-01-21<br>Total=%{marker.size}<br>Reporting_PHU_Latitude=%{lat}<br>Reporting_PHU_Longitude=%{lon}<br>Total Percent Travelled=%{marker.color}",
         "hovertext": [
          "Durham Region Health Department",
          "Eastern Ontario Health Unit",
          "Halton Region Health Department",
          "Hamilton Public Health Services",
          "Middlesex-London Health Unit",
          "Niagara Region Public Health Department",
          "Ottawa Public Health",
          "Peel Public Health",
          "Region of Waterloo, Public Health",
          "Simcoe Muskoka District Health Unit",
          "Sudbury & District Health Unit",
          "Toronto Public Health",
          "York Region Public Health Services"
         ],
         "lat": [
          43.898605,
          45.02915233,
          43.41399692,
          43.2576311,
          42.98146842,
          43.1165366,
          45.3456651,
          43.6474713,
          43.46287573,
          44.41071258,
          46.46609195,
          43.65659125,
          44.048023
         ],
         "legendgroup": "",
         "lon": [
          -78.940341,
          -74.73629779,
          -79.74479581,
          -79.87134089,
          -81.25401572,
          -79.2412197,
          -75.7639122,
          -79.7088933,
          -80.52091315,
          -79.68630597,
          -80.99805884,
          -79.37935801,
          -79.480239
         ],
         "marker": {
          "color": [
           0,
           0,
           0,
           0,
           0,
           0,
           0,
           0,
           0,
           0,
           0,
           100,
           0
          ],
          "coloraxis": "coloraxis",
          "size": [
           0,
           0,
           0,
           0,
           0,
           0,
           0,
           0,
           0,
           0,
           0,
           1,
           0
          ],
          "sizemode": "area",
          "sizeref": 0.034375
         },
         "mode": "markers",
         "name": "",
         "showlegend": false,
         "subplot": "mapbox",
         "type": "scattermapbox"
        }
       ],
       "frames": [
        {
         "data": [
          {
           "hoverlabel": {
            "namelength": 0
           },
           "hovertemplate": "<b>%{hovertext}</b><br><br>Date=2020-01-21<br>Total=%{marker.size}<br>Reporting_PHU_Latitude=%{lat}<br>Reporting_PHU_Longitude=%{lon}<br>Total Percent Travelled=%{marker.color}",
           "hovertext": [
            "Durham Region Health Department",
            "Eastern Ontario Health Unit",
            "Halton Region Health Department",
            "Hamilton Public Health Services",
            "Middlesex-London Health Unit",
            "Niagara Region Public Health Department",
            "Ottawa Public Health",
            "Peel Public Health",
            "Region of Waterloo, Public Health",
            "Simcoe Muskoka District Health Unit",
            "Sudbury & District Health Unit",
            "Toronto Public Health",
            "York Region Public Health Services"
           ],
           "lat": [
            43.898605,
            45.02915233,
            43.41399692,
            43.2576311,
            42.98146842,
            43.1165366,
            45.3456651,
            43.6474713,
            43.46287573,
            44.41071258,
            46.46609195,
            43.65659125,
            44.048023
           ],
           "legendgroup": "",
           "lon": [
            -78.940341,
            -74.73629779,
            -79.74479581,
            -79.87134089,
            -81.25401572,
            -79.2412197,
            -75.7639122,
            -79.7088933,
            -80.52091315,
            -79.68630597,
            -80.99805884,
            -79.37935801,
            -79.480239
           ],
           "marker": {
            "color": [
             0,
             0,
             0,
             0,
             0,
             0,
             0,
             0,
             0,
             0,
             0,
             100,
             0
            ],
            "coloraxis": "coloraxis",
            "size": [
             0,
             0,
             0,
             0,
             0,
             0,
             0,
             0,
             0,
             0,
             0,
             1,
             0
            ],
            "sizemode": "area",
            "sizeref": 0.034375
           },
           "mode": "markers",
           "name": "",
           "showlegend": false,
           "subplot": "mapbox",
           "type": "scattermapbox"
          }
         ],
         "name": "2020-01-21"
        },
        {
         "data": [
          {
           "hoverlabel": {
            "namelength": 0
           },
           "hovertemplate": "<b>%{hovertext}</b><br><br>Date=2020-01-22<br>Total=%{marker.size}<br>Reporting_PHU_Latitude=%{lat}<br>Reporting_PHU_Longitude=%{lon}<br>Total Percent Travelled=%{marker.color}",
           "hovertext": [
            "Durham Region Health Department",
            "Eastern Ontario Health Unit",
            "Halton Region Health Department",
            "Hamilton Public Health Services",
            "Middlesex-London Health Unit",
            "Niagara Region Public Health Department",
            "Ottawa Public Health",
            "Peel Public Health",
            "Region of Waterloo, Public Health",
            "Simcoe Muskoka District Health Unit",
            "Sudbury & District Health Unit",
            "Toronto Public Health",
            "York Region Public Health Services"
           ],
           "lat": [
            43.898605,
            45.02915233,
            43.41399692,
            43.2576311,
            42.98146842,
            43.1165366,
            45.3456651,
            43.6474713,
            43.46287573,
            44.41071258,
            46.46609195,
            43.65659125,
            44.048023
           ],
           "legendgroup": "",
           "lon": [
            -78.940341,
            -74.73629779,
            -79.74479581,
            -79.87134089,
            -81.25401572,
            -79.2412197,
            -75.7639122,
            -79.7088933,
            -80.52091315,
            -79.68630597,
            -80.99805884,
            -79.37935801,
            -79.480239
           ],
           "marker": {
            "color": [
             0,
             0,
             0,
             0,
             0,
             0,
             0,
             0,
             0,
             0,
             0,
             100,
             0
            ],
            "coloraxis": "coloraxis",
            "size": [
             0,
             0,
             0,
             0,
             0,
             0,
             0,
             0,
             0,
             0,
             0,
             2,
             0
            ],
            "sizemode": "area",
            "sizeref": 0.034375
           },
           "mode": "markers",
           "name": "",
           "showlegend": false,
           "subplot": "mapbox",
           "type": "scattermapbox"
          }
         ],
         "name": "2020-01-22"
        },
        {
         "data": [
          {
           "hoverlabel": {
            "namelength": 0
           },
           "hovertemplate": "<b>%{hovertext}</b><br><br>Date=2020-01-23<br>Total=%{marker.size}<br>Reporting_PHU_Latitude=%{lat}<br>Reporting_PHU_Longitude=%{lon}<br>Total Percent Travelled=%{marker.color}",
           "hovertext": [
            "Durham Region Health Department",
            "Eastern Ontario Health Unit",
            "Halton Region Health Department",
            "Hamilton Public Health Services",
            "Middlesex-London Health Unit",
            "Niagara Region Public Health Department",
            "Ottawa Public Health",
            "Peel Public Health",
            "Region of Waterloo, Public Health",
            "Simcoe Muskoka District Health Unit",
            "Sudbury & District Health Unit",
            "Toronto Public Health",
            "York Region Public Health Services"
           ],
           "lat": [
            43.898605,
            45.02915233,
            43.41399692,
            43.2576311,
            42.98146842,
            43.1165366,
            45.3456651,
            43.6474713,
            43.46287573,
            44.41071258,
            46.46609195,
            43.65659125,
            44.048023
           ],
           "legendgroup": "",
           "lon": [
            -78.940341,
            -74.73629779,
            -79.74479581,
            -79.87134089,
            -81.25401572,
            -79.2412197,
            -75.7639122,
            -79.7088933,
            -80.52091315,
            -79.68630597,
            -80.99805884,
            -79.37935801,
            -79.480239
           ],
           "marker": {
            "color": [
             0,
             0,
             0,
             0,
             0,
             0,
             0,
             0,
             0,
             0,
             0,
             100,
             0
            ],
            "coloraxis": "coloraxis",
            "size": [
             0,
             0,
             0,
             0,
             0,
             0,
             0,
             0,
             0,
             0,
             0,
             2,
             0
            ],
            "sizemode": "area",
            "sizeref": 0.034375
           },
           "mode": "markers",
           "name": "",
           "showlegend": false,
           "subplot": "mapbox",
           "type": "scattermapbox"
          }
         ],
         "name": "2020-01-23"
        },
        {
         "data": [
          {
           "hoverlabel": {
            "namelength": 0
           },
           "hovertemplate": "<b>%{hovertext}</b><br><br>Date=2020-01-24<br>Total=%{marker.size}<br>Reporting_PHU_Latitude=%{lat}<br>Reporting_PHU_Longitude=%{lon}<br>Total Percent Travelled=%{marker.color}",
           "hovertext": [
            "Durham Region Health Department",
            "Eastern Ontario Health Unit",
            "Halton Region Health Department",
            "Hamilton Public Health Services",
            "Middlesex-London Health Unit",
            "Niagara Region Public Health Department",
            "Ottawa Public Health",
            "Peel Public Health",
            "Region of Waterloo, Public Health",
            "Simcoe Muskoka District Health Unit",
            "Sudbury & District Health Unit",
            "Toronto Public Health",
            "York Region Public Health Services"
           ],
           "lat": [
            43.898605,
            45.02915233,
            43.41399692,
            43.2576311,
            42.98146842,
            43.1165366,
            45.3456651,
            43.6474713,
            43.46287573,
            44.41071258,
            46.46609195,
            43.65659125,
            44.048023
           ],
           "legendgroup": "",
           "lon": [
            -78.940341,
            -74.73629779,
            -79.74479581,
            -79.87134089,
            -81.25401572,
            -79.2412197,
            -75.7639122,
            -79.7088933,
            -80.52091315,
            -79.68630597,
            -80.99805884,
            -79.37935801,
            -79.480239
           ],
           "marker": {
            "color": [
             0,
             0,
             0,
             0,
             100,
             0,
             0,
             0,
             0,
             0,
             0,
             100,
             0
            ],
            "coloraxis": "coloraxis",
            "size": [
             0,
             0,
             0,
             0,
             1,
             0,
             0,
             0,
             0,
             0,
             0,
             2,
             0
            ],
            "sizemode": "area",
            "sizeref": 0.034375
           },
           "mode": "markers",
           "name": "",
           "showlegend": false,
           "subplot": "mapbox",
           "type": "scattermapbox"
          }
         ],
         "name": "2020-01-24"
        },
        {
         "data": [
          {
           "hoverlabel": {
            "namelength": 0
           },
           "hovertemplate": "<b>%{hovertext}</b><br><br>Date=2020-01-25<br>Total=%{marker.size}<br>Reporting_PHU_Latitude=%{lat}<br>Reporting_PHU_Longitude=%{lon}<br>Total Percent Travelled=%{marker.color}",
           "hovertext": [
            "Durham Region Health Department",
            "Eastern Ontario Health Unit",
            "Halton Region Health Department",
            "Hamilton Public Health Services",
            "Middlesex-London Health Unit",
            "Niagara Region Public Health Department",
            "Ottawa Public Health",
            "Peel Public Health",
            "Region of Waterloo, Public Health",
            "Simcoe Muskoka District Health Unit",
            "Sudbury & District Health Unit",
            "Toronto Public Health",
            "York Region Public Health Services"
           ],
           "lat": [
            43.898605,
            45.02915233,
            43.41399692,
            43.2576311,
            42.98146842,
            43.1165366,
            45.3456651,
            43.6474713,
            43.46287573,
            44.41071258,
            46.46609195,
            43.65659125,
            44.048023
           ],
           "legendgroup": "",
           "lon": [
            -78.940341,
            -74.73629779,
            -79.74479581,
            -79.87134089,
            -81.25401572,
            -79.2412197,
            -75.7639122,
            -79.7088933,
            -80.52091315,
            -79.68630597,
            -80.99805884,
            -79.37935801,
            -79.480239
           ],
           "marker": {
            "color": [
             0,
             0,
             0,
             0,
             100,
             0,
             0,
             0,
             0,
             0,
             0,
             100,
             0
            ],
            "coloraxis": "coloraxis",
            "size": [
             0,
             0,
             0,
             0,
             1,
             0,
             0,
             0,
             0,
             0,
             0,
             2,
             0
            ],
            "sizemode": "area",
            "sizeref": 0.034375
           },
           "mode": "markers",
           "name": "",
           "showlegend": false,
           "subplot": "mapbox",
           "type": "scattermapbox"
          }
         ],
         "name": "2020-01-25"
        },
        {
         "data": [
          {
           "hoverlabel": {
            "namelength": 0
           },
           "hovertemplate": "<b>%{hovertext}</b><br><br>Date=2020-01-26<br>Total=%{marker.size}<br>Reporting_PHU_Latitude=%{lat}<br>Reporting_PHU_Longitude=%{lon}<br>Total Percent Travelled=%{marker.color}",
           "hovertext": [
            "Durham Region Health Department",
            "Eastern Ontario Health Unit",
            "Halton Region Health Department",
            "Hamilton Public Health Services",
            "Middlesex-London Health Unit",
            "Niagara Region Public Health Department",
            "Ottawa Public Health",
            "Peel Public Health",
            "Region of Waterloo, Public Health",
            "Simcoe Muskoka District Health Unit",
            "Sudbury & District Health Unit",
            "Toronto Public Health",
            "York Region Public Health Services"
           ],
           "lat": [
            43.898605,
            45.02915233,
            43.41399692,
            43.2576311,
            42.98146842,
            43.1165366,
            45.3456651,
            43.6474713,
            43.46287573,
            44.41071258,
            46.46609195,
            43.65659125,
            44.048023
           ],
           "legendgroup": "",
           "lon": [
            -78.940341,
            -74.73629779,
            -79.74479581,
            -79.87134089,
            -81.25401572,
            -79.2412197,
            -75.7639122,
            -79.7088933,
            -80.52091315,
            -79.68630597,
            -80.99805884,
            -79.37935801,
            -79.480239
           ],
           "marker": {
            "color": [
             0,
             0,
             0,
             0,
             100,
             0,
             0,
             0,
             0,
             0,
             0,
             100,
             0
            ],
            "coloraxis": "coloraxis",
            "size": [
             0,
             0,
             0,
             0,
             1,
             0,
             0,
             0,
             0,
             0,
             0,
             2,
             0
            ],
            "sizemode": "area",
            "sizeref": 0.034375
           },
           "mode": "markers",
           "name": "",
           "showlegend": false,
           "subplot": "mapbox",
           "type": "scattermapbox"
          }
         ],
         "name": "2020-01-26"
        },
        {
         "data": [
          {
           "hoverlabel": {
            "namelength": 0
           },
           "hovertemplate": "<b>%{hovertext}</b><br><br>Date=2020-01-27<br>Total=%{marker.size}<br>Reporting_PHU_Latitude=%{lat}<br>Reporting_PHU_Longitude=%{lon}<br>Total Percent Travelled=%{marker.color}",
           "hovertext": [
            "Durham Region Health Department",
            "Eastern Ontario Health Unit",
            "Halton Region Health Department",
            "Hamilton Public Health Services",
            "Middlesex-London Health Unit",
            "Niagara Region Public Health Department",
            "Ottawa Public Health",
            "Peel Public Health",
            "Region of Waterloo, Public Health",
            "Simcoe Muskoka District Health Unit",
            "Sudbury & District Health Unit",
            "Toronto Public Health",
            "York Region Public Health Services"
           ],
           "lat": [
            43.898605,
            45.02915233,
            43.41399692,
            43.2576311,
            42.98146842,
            43.1165366,
            45.3456651,
            43.6474713,
            43.46287573,
            44.41071258,
            46.46609195,
            43.65659125,
            44.048023
           ],
           "legendgroup": "",
           "lon": [
            -78.940341,
            -74.73629779,
            -79.74479581,
            -79.87134089,
            -81.25401572,
            -79.2412197,
            -75.7639122,
            -79.7088933,
            -80.52091315,
            -79.68630597,
            -80.99805884,
            -79.37935801,
            -79.480239
           ],
           "marker": {
            "color": [
             0,
             0,
             0,
             0,
             100,
             0,
             0,
             0,
             0,
             0,
             0,
             100,
             0
            ],
            "coloraxis": "coloraxis",
            "size": [
             0,
             0,
             0,
             0,
             1,
             0,
             0,
             0,
             0,
             0,
             0,
             2,
             0
            ],
            "sizemode": "area",
            "sizeref": 0.034375
           },
           "mode": "markers",
           "name": "",
           "showlegend": false,
           "subplot": "mapbox",
           "type": "scattermapbox"
          }
         ],
         "name": "2020-01-27"
        },
        {
         "data": [
          {
           "hoverlabel": {
            "namelength": 0
           },
           "hovertemplate": "<b>%{hovertext}</b><br><br>Date=2020-01-28<br>Total=%{marker.size}<br>Reporting_PHU_Latitude=%{lat}<br>Reporting_PHU_Longitude=%{lon}<br>Total Percent Travelled=%{marker.color}",
           "hovertext": [
            "Durham Region Health Department",
            "Eastern Ontario Health Unit",
            "Halton Region Health Department",
            "Hamilton Public Health Services",
            "Middlesex-London Health Unit",
            "Niagara Region Public Health Department",
            "Ottawa Public Health",
            "Peel Public Health",
            "Region of Waterloo, Public Health",
            "Simcoe Muskoka District Health Unit",
            "Sudbury & District Health Unit",
            "Toronto Public Health",
            "York Region Public Health Services"
           ],
           "lat": [
            43.898605,
            45.02915233,
            43.41399692,
            43.2576311,
            42.98146842,
            43.1165366,
            45.3456651,
            43.6474713,
            43.46287573,
            44.41071258,
            46.46609195,
            43.65659125,
            44.048023
           ],
           "legendgroup": "",
           "lon": [
            -78.940341,
            -74.73629779,
            -79.74479581,
            -79.87134089,
            -81.25401572,
            -79.2412197,
            -75.7639122,
            -79.7088933,
            -80.52091315,
            -79.68630597,
            -80.99805884,
            -79.37935801,
            -79.480239
           ],
           "marker": {
            "color": [
             0,
             0,
             0,
             0,
             100,
             0,
             0,
             0,
             0,
             0,
             0,
             100,
             0
            ],
            "coloraxis": "coloraxis",
            "size": [
             0,
             0,
             0,
             0,
             1,
             0,
             0,
             0,
             0,
             0,
             0,
             2,
             0
            ],
            "sizemode": "area",
            "sizeref": 0.034375
           },
           "mode": "markers",
           "name": "",
           "showlegend": false,
           "subplot": "mapbox",
           "type": "scattermapbox"
          }
         ],
         "name": "2020-01-28"
        },
        {
         "data": [
          {
           "hoverlabel": {
            "namelength": 0
           },
           "hovertemplate": "<b>%{hovertext}</b><br><br>Date=2020-01-29<br>Total=%{marker.size}<br>Reporting_PHU_Latitude=%{lat}<br>Reporting_PHU_Longitude=%{lon}<br>Total Percent Travelled=%{marker.color}",
           "hovertext": [
            "Durham Region Health Department",
            "Eastern Ontario Health Unit",
            "Halton Region Health Department",
            "Hamilton Public Health Services",
            "Middlesex-London Health Unit",
            "Niagara Region Public Health Department",
            "Ottawa Public Health",
            "Peel Public Health",
            "Region of Waterloo, Public Health",
            "Simcoe Muskoka District Health Unit",
            "Sudbury & District Health Unit",
            "Toronto Public Health",
            "York Region Public Health Services"
           ],
           "lat": [
            43.898605,
            45.02915233,
            43.41399692,
            43.2576311,
            42.98146842,
            43.1165366,
            45.3456651,
            43.6474713,
            43.46287573,
            44.41071258,
            46.46609195,
            43.65659125,
            44.048023
           ],
           "legendgroup": "",
           "lon": [
            -78.940341,
            -74.73629779,
            -79.74479581,
            -79.87134089,
            -81.25401572,
            -79.2412197,
            -75.7639122,
            -79.7088933,
            -80.52091315,
            -79.68630597,
            -80.99805884,
            -79.37935801,
            -79.480239
           ],
           "marker": {
            "color": [
             0,
             0,
             0,
             0,
             100,
             0,
             0,
             0,
             0,
             0,
             0,
             100,
             0
            ],
            "coloraxis": "coloraxis",
            "size": [
             0,
             0,
             0,
             0,
             1,
             0,
             0,
             0,
             0,
             0,
             0,
             2,
             0
            ],
            "sizemode": "area",
            "sizeref": 0.034375
           },
           "mode": "markers",
           "name": "",
           "showlegend": false,
           "subplot": "mapbox",
           "type": "scattermapbox"
          }
         ],
         "name": "2020-01-29"
        },
        {
         "data": [
          {
           "hoverlabel": {
            "namelength": 0
           },
           "hovertemplate": "<b>%{hovertext}</b><br><br>Date=2020-01-30<br>Total=%{marker.size}<br>Reporting_PHU_Latitude=%{lat}<br>Reporting_PHU_Longitude=%{lon}<br>Total Percent Travelled=%{marker.color}",
           "hovertext": [
            "Durham Region Health Department",
            "Eastern Ontario Health Unit",
            "Halton Region Health Department",
            "Hamilton Public Health Services",
            "Middlesex-London Health Unit",
            "Niagara Region Public Health Department",
            "Ottawa Public Health",
            "Peel Public Health",
            "Region of Waterloo, Public Health",
            "Simcoe Muskoka District Health Unit",
            "Sudbury & District Health Unit",
            "Toronto Public Health",
            "York Region Public Health Services"
           ],
           "lat": [
            43.898605,
            45.02915233,
            43.41399692,
            43.2576311,
            42.98146842,
            43.1165366,
            45.3456651,
            43.6474713,
            43.46287573,
            44.41071258,
            46.46609195,
            43.65659125,
            44.048023
           ],
           "legendgroup": "",
           "lon": [
            -78.940341,
            -74.73629779,
            -79.74479581,
            -79.87134089,
            -81.25401572,
            -79.2412197,
            -75.7639122,
            -79.7088933,
            -80.52091315,
            -79.68630597,
            -80.99805884,
            -79.37935801,
            -79.480239
           ],
           "marker": {
            "color": [
             0,
             0,
             0,
             0,
             100,
             0,
             0,
             0,
             0,
             0,
             0,
             100,
             0
            ],
            "coloraxis": "coloraxis",
            "size": [
             0,
             0,
             0,
             0,
             1,
             0,
             0,
             0,
             0,
             0,
             0,
             2,
             0
            ],
            "sizemode": "area",
            "sizeref": 0.034375
           },
           "mode": "markers",
           "name": "",
           "showlegend": false,
           "subplot": "mapbox",
           "type": "scattermapbox"
          }
         ],
         "name": "2020-01-30"
        },
        {
         "data": [
          {
           "hoverlabel": {
            "namelength": 0
           },
           "hovertemplate": "<b>%{hovertext}</b><br><br>Date=2020-01-31<br>Total=%{marker.size}<br>Reporting_PHU_Latitude=%{lat}<br>Reporting_PHU_Longitude=%{lon}<br>Total Percent Travelled=%{marker.color}",
           "hovertext": [
            "Durham Region Health Department",
            "Eastern Ontario Health Unit",
            "Halton Region Health Department",
            "Hamilton Public Health Services",
            "Middlesex-London Health Unit",
            "Niagara Region Public Health Department",
            "Ottawa Public Health",
            "Peel Public Health",
            "Region of Waterloo, Public Health",
            "Simcoe Muskoka District Health Unit",
            "Sudbury & District Health Unit",
            "Toronto Public Health",
            "York Region Public Health Services"
           ],
           "lat": [
            43.898605,
            45.02915233,
            43.41399692,
            43.2576311,
            42.98146842,
            43.1165366,
            45.3456651,
            43.6474713,
            43.46287573,
            44.41071258,
            46.46609195,
            43.65659125,
            44.048023
           ],
           "legendgroup": "",
           "lon": [
            -78.940341,
            -74.73629779,
            -79.74479581,
            -79.87134089,
            -81.25401572,
            -79.2412197,
            -75.7639122,
            -79.7088933,
            -80.52091315,
            -79.68630597,
            -80.99805884,
            -79.37935801,
            -79.480239
           ],
           "marker": {
            "color": [
             0,
             0,
             0,
             0,
             100,
             0,
             0,
             0,
             0,
             0,
             0,
             100,
             0
            ],
            "coloraxis": "coloraxis",
            "size": [
             0,
             0,
             0,
             0,
             1,
             0,
             0,
             0,
             0,
             0,
             0,
             2,
             0
            ],
            "sizemode": "area",
            "sizeref": 0.034375
           },
           "mode": "markers",
           "name": "",
           "showlegend": false,
           "subplot": "mapbox",
           "type": "scattermapbox"
          }
         ],
         "name": "2020-01-31"
        },
        {
         "data": [
          {
           "hoverlabel": {
            "namelength": 0
           },
           "hovertemplate": "<b>%{hovertext}</b><br><br>Date=2020-02-01<br>Total=%{marker.size}<br>Reporting_PHU_Latitude=%{lat}<br>Reporting_PHU_Longitude=%{lon}<br>Total Percent Travelled=%{marker.color}",
           "hovertext": [
            "Durham Region Health Department",
            "Eastern Ontario Health Unit",
            "Halton Region Health Department",
            "Hamilton Public Health Services",
            "Middlesex-London Health Unit",
            "Niagara Region Public Health Department",
            "Ottawa Public Health",
            "Peel Public Health",
            "Region of Waterloo, Public Health",
            "Simcoe Muskoka District Health Unit",
            "Sudbury & District Health Unit",
            "Toronto Public Health",
            "York Region Public Health Services"
           ],
           "lat": [
            43.898605,
            45.02915233,
            43.41399692,
            43.2576311,
            42.98146842,
            43.1165366,
            45.3456651,
            43.6474713,
            43.46287573,
            44.41071258,
            46.46609195,
            43.65659125,
            44.048023
           ],
           "legendgroup": "",
           "lon": [
            -78.940341,
            -74.73629779,
            -79.74479581,
            -79.87134089,
            -81.25401572,
            -79.2412197,
            -75.7639122,
            -79.7088933,
            -80.52091315,
            -79.68630597,
            -80.99805884,
            -79.37935801,
            -79.480239
           ],
           "marker": {
            "color": [
             0,
             0,
             0,
             0,
             100,
             0,
             0,
             0,
             0,
             0,
             0,
             100,
             0
            ],
            "coloraxis": "coloraxis",
            "size": [
             0,
             0,
             0,
             0,
             1,
             0,
             0,
             0,
             0,
             0,
             0,
             2,
             0
            ],
            "sizemode": "area",
            "sizeref": 0.034375
           },
           "mode": "markers",
           "name": "",
           "showlegend": false,
           "subplot": "mapbox",
           "type": "scattermapbox"
          }
         ],
         "name": "2020-02-01"
        },
        {
         "data": [
          {
           "hoverlabel": {
            "namelength": 0
           },
           "hovertemplate": "<b>%{hovertext}</b><br><br>Date=2020-02-02<br>Total=%{marker.size}<br>Reporting_PHU_Latitude=%{lat}<br>Reporting_PHU_Longitude=%{lon}<br>Total Percent Travelled=%{marker.color}",
           "hovertext": [
            "Durham Region Health Department",
            "Eastern Ontario Health Unit",
            "Halton Region Health Department",
            "Hamilton Public Health Services",
            "Middlesex-London Health Unit",
            "Niagara Region Public Health Department",
            "Ottawa Public Health",
            "Peel Public Health",
            "Region of Waterloo, Public Health",
            "Simcoe Muskoka District Health Unit",
            "Sudbury & District Health Unit",
            "Toronto Public Health",
            "York Region Public Health Services"
           ],
           "lat": [
            43.898605,
            45.02915233,
            43.41399692,
            43.2576311,
            42.98146842,
            43.1165366,
            45.3456651,
            43.6474713,
            43.46287573,
            44.41071258,
            46.46609195,
            43.65659125,
            44.048023
           ],
           "legendgroup": "",
           "lon": [
            -78.940341,
            -74.73629779,
            -79.74479581,
            -79.87134089,
            -81.25401572,
            -79.2412197,
            -75.7639122,
            -79.7088933,
            -80.52091315,
            -79.68630597,
            -80.99805884,
            -79.37935801,
            -79.480239
           ],
           "marker": {
            "color": [
             0,
             0,
             0,
             0,
             100,
             0,
             0,
             0,
             0,
             0,
             0,
             100,
             0
            ],
            "coloraxis": "coloraxis",
            "size": [
             0,
             0,
             0,
             0,
             1,
             0,
             0,
             0,
             0,
             0,
             0,
             2,
             0
            ],
            "sizemode": "area",
            "sizeref": 0.034375
           },
           "mode": "markers",
           "name": "",
           "showlegend": false,
           "subplot": "mapbox",
           "type": "scattermapbox"
          }
         ],
         "name": "2020-02-02"
        },
        {
         "data": [
          {
           "hoverlabel": {
            "namelength": 0
           },
           "hovertemplate": "<b>%{hovertext}</b><br><br>Date=2020-02-03<br>Total=%{marker.size}<br>Reporting_PHU_Latitude=%{lat}<br>Reporting_PHU_Longitude=%{lon}<br>Total Percent Travelled=%{marker.color}",
           "hovertext": [
            "Durham Region Health Department",
            "Eastern Ontario Health Unit",
            "Halton Region Health Department",
            "Hamilton Public Health Services",
            "Middlesex-London Health Unit",
            "Niagara Region Public Health Department",
            "Ottawa Public Health",
            "Peel Public Health",
            "Region of Waterloo, Public Health",
            "Simcoe Muskoka District Health Unit",
            "Sudbury & District Health Unit",
            "Toronto Public Health",
            "York Region Public Health Services"
           ],
           "lat": [
            43.898605,
            45.02915233,
            43.41399692,
            43.2576311,
            42.98146842,
            43.1165366,
            45.3456651,
            43.6474713,
            43.46287573,
            44.41071258,
            46.46609195,
            43.65659125,
            44.048023
           ],
           "legendgroup": "",
           "lon": [
            -78.940341,
            -74.73629779,
            -79.74479581,
            -79.87134089,
            -81.25401572,
            -79.2412197,
            -75.7639122,
            -79.7088933,
            -80.52091315,
            -79.68630597,
            -80.99805884,
            -79.37935801,
            -79.480239
           ],
           "marker": {
            "color": [
             0,
             0,
             0,
             0,
             100,
             0,
             0,
             0,
             0,
             0,
             0,
             100,
             0
            ],
            "coloraxis": "coloraxis",
            "size": [
             0,
             0,
             0,
             0,
             1,
             0,
             0,
             0,
             0,
             0,
             0,
             2,
             0
            ],
            "sizemode": "area",
            "sizeref": 0.034375
           },
           "mode": "markers",
           "name": "",
           "showlegend": false,
           "subplot": "mapbox",
           "type": "scattermapbox"
          }
         ],
         "name": "2020-02-03"
        },
        {
         "data": [
          {
           "hoverlabel": {
            "namelength": 0
           },
           "hovertemplate": "<b>%{hovertext}</b><br><br>Date=2020-02-04<br>Total=%{marker.size}<br>Reporting_PHU_Latitude=%{lat}<br>Reporting_PHU_Longitude=%{lon}<br>Total Percent Travelled=%{marker.color}",
           "hovertext": [
            "Durham Region Health Department",
            "Eastern Ontario Health Unit",
            "Halton Region Health Department",
            "Hamilton Public Health Services",
            "Middlesex-London Health Unit",
            "Niagara Region Public Health Department",
            "Ottawa Public Health",
            "Peel Public Health",
            "Region of Waterloo, Public Health",
            "Simcoe Muskoka District Health Unit",
            "Sudbury & District Health Unit",
            "Toronto Public Health",
            "York Region Public Health Services"
           ],
           "lat": [
            43.898605,
            45.02915233,
            43.41399692,
            43.2576311,
            42.98146842,
            43.1165366,
            45.3456651,
            43.6474713,
            43.46287573,
            44.41071258,
            46.46609195,
            43.65659125,
            44.048023
           ],
           "legendgroup": "",
           "lon": [
            -78.940341,
            -74.73629779,
            -79.74479581,
            -79.87134089,
            -81.25401572,
            -79.2412197,
            -75.7639122,
            -79.7088933,
            -80.52091315,
            -79.68630597,
            -80.99805884,
            -79.37935801,
            -79.480239
           ],
           "marker": {
            "color": [
             0,
             0,
             0,
             0,
             100,
             0,
             0,
             0,
             0,
             0,
             0,
             100,
             0
            ],
            "coloraxis": "coloraxis",
            "size": [
             0,
             0,
             0,
             0,
             1,
             0,
             0,
             0,
             0,
             0,
             0,
             2,
             0
            ],
            "sizemode": "area",
            "sizeref": 0.034375
           },
           "mode": "markers",
           "name": "",
           "showlegend": false,
           "subplot": "mapbox",
           "type": "scattermapbox"
          }
         ],
         "name": "2020-02-04"
        },
        {
         "data": [
          {
           "hoverlabel": {
            "namelength": 0
           },
           "hovertemplate": "<b>%{hovertext}</b><br><br>Date=2020-02-05<br>Total=%{marker.size}<br>Reporting_PHU_Latitude=%{lat}<br>Reporting_PHU_Longitude=%{lon}<br>Total Percent Travelled=%{marker.color}",
           "hovertext": [
            "Durham Region Health Department",
            "Eastern Ontario Health Unit",
            "Halton Region Health Department",
            "Hamilton Public Health Services",
            "Middlesex-London Health Unit",
            "Niagara Region Public Health Department",
            "Ottawa Public Health",
            "Peel Public Health",
            "Region of Waterloo, Public Health",
            "Simcoe Muskoka District Health Unit",
            "Sudbury & District Health Unit",
            "Toronto Public Health",
            "York Region Public Health Services"
           ],
           "lat": [
            43.898605,
            45.02915233,
            43.41399692,
            43.2576311,
            42.98146842,
            43.1165366,
            45.3456651,
            43.6474713,
            43.46287573,
            44.41071258,
            46.46609195,
            43.65659125,
            44.048023
           ],
           "legendgroup": "",
           "lon": [
            -78.940341,
            -74.73629779,
            -79.74479581,
            -79.87134089,
            -81.25401572,
            -79.2412197,
            -75.7639122,
            -79.7088933,
            -80.52091315,
            -79.68630597,
            -80.99805884,
            -79.37935801,
            -79.480239
           ],
           "marker": {
            "color": [
             0,
             0,
             0,
             0,
             100,
             0,
             0,
             0,
             0,
             0,
             0,
             100,
             0
            ],
            "coloraxis": "coloraxis",
            "size": [
             0,
             0,
             0,
             0,
             1,
             0,
             0,
             0,
             0,
             0,
             0,
             3,
             0
            ],
            "sizemode": "area",
            "sizeref": 0.034375
           },
           "mode": "markers",
           "name": "",
           "showlegend": false,
           "subplot": "mapbox",
           "type": "scattermapbox"
          }
         ],
         "name": "2020-02-05"
        },
        {
         "data": [
          {
           "hoverlabel": {
            "namelength": 0
           },
           "hovertemplate": "<b>%{hovertext}</b><br><br>Date=2020-02-06<br>Total=%{marker.size}<br>Reporting_PHU_Latitude=%{lat}<br>Reporting_PHU_Longitude=%{lon}<br>Total Percent Travelled=%{marker.color}",
           "hovertext": [
            "Durham Region Health Department",
            "Eastern Ontario Health Unit",
            "Halton Region Health Department",
            "Hamilton Public Health Services",
            "Middlesex-London Health Unit",
            "Niagara Region Public Health Department",
            "Ottawa Public Health",
            "Peel Public Health",
            "Region of Waterloo, Public Health",
            "Simcoe Muskoka District Health Unit",
            "Sudbury & District Health Unit",
            "Toronto Public Health",
            "York Region Public Health Services"
           ],
           "lat": [
            43.898605,
            45.02915233,
            43.41399692,
            43.2576311,
            42.98146842,
            43.1165366,
            45.3456651,
            43.6474713,
            43.46287573,
            44.41071258,
            46.46609195,
            43.65659125,
            44.048023
           ],
           "legendgroup": "",
           "lon": [
            -78.940341,
            -74.73629779,
            -79.74479581,
            -79.87134089,
            -81.25401572,
            -79.2412197,
            -75.7639122,
            -79.7088933,
            -80.52091315,
            -79.68630597,
            -80.99805884,
            -79.37935801,
            -79.480239
           ],
           "marker": {
            "color": [
             0,
             0,
             0,
             0,
             100,
             0,
             0,
             0,
             0,
             0,
             0,
             100,
             0
            ],
            "coloraxis": "coloraxis",
            "size": [
             0,
             0,
             0,
             0,
             1,
             0,
             0,
             0,
             0,
             0,
             0,
             3,
             0
            ],
            "sizemode": "area",
            "sizeref": 0.034375
           },
           "mode": "markers",
           "name": "",
           "showlegend": false,
           "subplot": "mapbox",
           "type": "scattermapbox"
          }
         ],
         "name": "2020-02-06"
        },
        {
         "data": [
          {
           "hoverlabel": {
            "namelength": 0
           },
           "hovertemplate": "<b>%{hovertext}</b><br><br>Date=2020-02-07<br>Total=%{marker.size}<br>Reporting_PHU_Latitude=%{lat}<br>Reporting_PHU_Longitude=%{lon}<br>Total Percent Travelled=%{marker.color}",
           "hovertext": [
            "Durham Region Health Department",
            "Eastern Ontario Health Unit",
            "Halton Region Health Department",
            "Hamilton Public Health Services",
            "Middlesex-London Health Unit",
            "Niagara Region Public Health Department",
            "Ottawa Public Health",
            "Peel Public Health",
            "Region of Waterloo, Public Health",
            "Simcoe Muskoka District Health Unit",
            "Sudbury & District Health Unit",
            "Toronto Public Health",
            "York Region Public Health Services"
           ],
           "lat": [
            43.898605,
            45.02915233,
            43.41399692,
            43.2576311,
            42.98146842,
            43.1165366,
            45.3456651,
            43.6474713,
            43.46287573,
            44.41071258,
            46.46609195,
            43.65659125,
            44.048023
           ],
           "legendgroup": "",
           "lon": [
            -78.940341,
            -74.73629779,
            -79.74479581,
            -79.87134089,
            -81.25401572,
            -79.2412197,
            -75.7639122,
            -79.7088933,
            -80.52091315,
            -79.68630597,
            -80.99805884,
            -79.37935801,
            -79.480239
           ],
           "marker": {
            "color": [
             0,
             0,
             0,
             0,
             100,
             0,
             0,
             0,
             0,
             0,
             0,
             100,
             0
            ],
            "coloraxis": "coloraxis",
            "size": [
             0,
             0,
             0,
             0,
             1,
             0,
             0,
             0,
             0,
             0,
             0,
             3,
             0
            ],
            "sizemode": "area",
            "sizeref": 0.034375
           },
           "mode": "markers",
           "name": "",
           "showlegend": false,
           "subplot": "mapbox",
           "type": "scattermapbox"
          }
         ],
         "name": "2020-02-07"
        },
        {
         "data": [
          {
           "hoverlabel": {
            "namelength": 0
           },
           "hovertemplate": "<b>%{hovertext}</b><br><br>Date=2020-02-08<br>Total=%{marker.size}<br>Reporting_PHU_Latitude=%{lat}<br>Reporting_PHU_Longitude=%{lon}<br>Total Percent Travelled=%{marker.color}",
           "hovertext": [
            "Durham Region Health Department",
            "Eastern Ontario Health Unit",
            "Halton Region Health Department",
            "Hamilton Public Health Services",
            "Middlesex-London Health Unit",
            "Niagara Region Public Health Department",
            "Ottawa Public Health",
            "Peel Public Health",
            "Region of Waterloo, Public Health",
            "Simcoe Muskoka District Health Unit",
            "Sudbury & District Health Unit",
            "Toronto Public Health",
            "York Region Public Health Services"
           ],
           "lat": [
            43.898605,
            45.02915233,
            43.41399692,
            43.2576311,
            42.98146842,
            43.1165366,
            45.3456651,
            43.6474713,
            43.46287573,
            44.41071258,
            46.46609195,
            43.65659125,
            44.048023
           ],
           "legendgroup": "",
           "lon": [
            -78.940341,
            -74.73629779,
            -79.74479581,
            -79.87134089,
            -81.25401572,
            -79.2412197,
            -75.7639122,
            -79.7088933,
            -80.52091315,
            -79.68630597,
            -80.99805884,
            -79.37935801,
            -79.480239
           ],
           "marker": {
            "color": [
             0,
             0,
             0,
             0,
             100,
             0,
             0,
             0,
             0,
             0,
             0,
             100,
             0
            ],
            "coloraxis": "coloraxis",
            "size": [
             0,
             0,
             0,
             0,
             1,
             0,
             0,
             0,
             0,
             0,
             0,
             3,
             0
            ],
            "sizemode": "area",
            "sizeref": 0.034375
           },
           "mode": "markers",
           "name": "",
           "showlegend": false,
           "subplot": "mapbox",
           "type": "scattermapbox"
          }
         ],
         "name": "2020-02-08"
        },
        {
         "data": [
          {
           "hoverlabel": {
            "namelength": 0
           },
           "hovertemplate": "<b>%{hovertext}</b><br><br>Date=2020-02-09<br>Total=%{marker.size}<br>Reporting_PHU_Latitude=%{lat}<br>Reporting_PHU_Longitude=%{lon}<br>Total Percent Travelled=%{marker.color}",
           "hovertext": [
            "Durham Region Health Department",
            "Eastern Ontario Health Unit",
            "Halton Region Health Department",
            "Hamilton Public Health Services",
            "Middlesex-London Health Unit",
            "Niagara Region Public Health Department",
            "Ottawa Public Health",
            "Peel Public Health",
            "Region of Waterloo, Public Health",
            "Simcoe Muskoka District Health Unit",
            "Sudbury & District Health Unit",
            "Toronto Public Health",
            "York Region Public Health Services"
           ],
           "lat": [
            43.898605,
            45.02915233,
            43.41399692,
            43.2576311,
            42.98146842,
            43.1165366,
            45.3456651,
            43.6474713,
            43.46287573,
            44.41071258,
            46.46609195,
            43.65659125,
            44.048023
           ],
           "legendgroup": "",
           "lon": [
            -78.940341,
            -74.73629779,
            -79.74479581,
            -79.87134089,
            -81.25401572,
            -79.2412197,
            -75.7639122,
            -79.7088933,
            -80.52091315,
            -79.68630597,
            -80.99805884,
            -79.37935801,
            -79.480239
           ],
           "marker": {
            "color": [
             0,
             0,
             0,
             0,
             100,
             0,
             0,
             0,
             0,
             0,
             0,
             100,
             0
            ],
            "coloraxis": "coloraxis",
            "size": [
             0,
             0,
             0,
             0,
             1,
             0,
             0,
             0,
             0,
             0,
             0,
             3,
             0
            ],
            "sizemode": "area",
            "sizeref": 0.034375
           },
           "mode": "markers",
           "name": "",
           "showlegend": false,
           "subplot": "mapbox",
           "type": "scattermapbox"
          }
         ],
         "name": "2020-02-09"
        },
        {
         "data": [
          {
           "hoverlabel": {
            "namelength": 0
           },
           "hovertemplate": "<b>%{hovertext}</b><br><br>Date=2020-02-10<br>Total=%{marker.size}<br>Reporting_PHU_Latitude=%{lat}<br>Reporting_PHU_Longitude=%{lon}<br>Total Percent Travelled=%{marker.color}",
           "hovertext": [
            "Durham Region Health Department",
            "Eastern Ontario Health Unit",
            "Halton Region Health Department",
            "Hamilton Public Health Services",
            "Middlesex-London Health Unit",
            "Niagara Region Public Health Department",
            "Ottawa Public Health",
            "Peel Public Health",
            "Region of Waterloo, Public Health",
            "Simcoe Muskoka District Health Unit",
            "Sudbury & District Health Unit",
            "Toronto Public Health",
            "York Region Public Health Services"
           ],
           "lat": [
            43.898605,
            45.02915233,
            43.41399692,
            43.2576311,
            42.98146842,
            43.1165366,
            45.3456651,
            43.6474713,
            43.46287573,
            44.41071258,
            46.46609195,
            43.65659125,
            44.048023
           ],
           "legendgroup": "",
           "lon": [
            -78.940341,
            -74.73629779,
            -79.74479581,
            -79.87134089,
            -81.25401572,
            -79.2412197,
            -75.7639122,
            -79.7088933,
            -80.52091315,
            -79.68630597,
            -80.99805884,
            -79.37935801,
            -79.480239
           ],
           "marker": {
            "color": [
             0,
             0,
             0,
             0,
             100,
             0,
             0,
             0,
             0,
             0,
             0,
             100,
             0
            ],
            "coloraxis": "coloraxis",
            "size": [
             0,
             0,
             0,
             0,
             1,
             0,
             0,
             0,
             0,
             0,
             0,
             3,
             0
            ],
            "sizemode": "area",
            "sizeref": 0.034375
           },
           "mode": "markers",
           "name": "",
           "showlegend": false,
           "subplot": "mapbox",
           "type": "scattermapbox"
          }
         ],
         "name": "2020-02-10"
        },
        {
         "data": [
          {
           "hoverlabel": {
            "namelength": 0
           },
           "hovertemplate": "<b>%{hovertext}</b><br><br>Date=2020-02-11<br>Total=%{marker.size}<br>Reporting_PHU_Latitude=%{lat}<br>Reporting_PHU_Longitude=%{lon}<br>Total Percent Travelled=%{marker.color}",
           "hovertext": [
            "Durham Region Health Department",
            "Eastern Ontario Health Unit",
            "Halton Region Health Department",
            "Hamilton Public Health Services",
            "Middlesex-London Health Unit",
            "Niagara Region Public Health Department",
            "Ottawa Public Health",
            "Peel Public Health",
            "Region of Waterloo, Public Health",
            "Simcoe Muskoka District Health Unit",
            "Sudbury & District Health Unit",
            "Toronto Public Health",
            "York Region Public Health Services"
           ],
           "lat": [
            43.898605,
            45.02915233,
            43.41399692,
            43.2576311,
            42.98146842,
            43.1165366,
            45.3456651,
            43.6474713,
            43.46287573,
            44.41071258,
            46.46609195,
            43.65659125,
            44.048023
           ],
           "legendgroup": "",
           "lon": [
            -78.940341,
            -74.73629779,
            -79.74479581,
            -79.87134089,
            -81.25401572,
            -79.2412197,
            -75.7639122,
            -79.7088933,
            -80.52091315,
            -79.68630597,
            -80.99805884,
            -79.37935801,
            -79.480239
           ],
           "marker": {
            "color": [
             0,
             0,
             0,
             0,
             100,
             0,
             0,
             0,
             0,
             0,
             0,
             100,
             0
            ],
            "coloraxis": "coloraxis",
            "size": [
             0,
             0,
             0,
             0,
             1,
             0,
             0,
             0,
             0,
             0,
             0,
             3,
             0
            ],
            "sizemode": "area",
            "sizeref": 0.034375
           },
           "mode": "markers",
           "name": "",
           "showlegend": false,
           "subplot": "mapbox",
           "type": "scattermapbox"
          }
         ],
         "name": "2020-02-11"
        },
        {
         "data": [
          {
           "hoverlabel": {
            "namelength": 0
           },
           "hovertemplate": "<b>%{hovertext}</b><br><br>Date=2020-02-12<br>Total=%{marker.size}<br>Reporting_PHU_Latitude=%{lat}<br>Reporting_PHU_Longitude=%{lon}<br>Total Percent Travelled=%{marker.color}",
           "hovertext": [
            "Durham Region Health Department",
            "Eastern Ontario Health Unit",
            "Halton Region Health Department",
            "Hamilton Public Health Services",
            "Middlesex-London Health Unit",
            "Niagara Region Public Health Department",
            "Ottawa Public Health",
            "Peel Public Health",
            "Region of Waterloo, Public Health",
            "Simcoe Muskoka District Health Unit",
            "Sudbury & District Health Unit",
            "Toronto Public Health",
            "York Region Public Health Services"
           ],
           "lat": [
            43.898605,
            45.02915233,
            43.41399692,
            43.2576311,
            42.98146842,
            43.1165366,
            45.3456651,
            43.6474713,
            43.46287573,
            44.41071258,
            46.46609195,
            43.65659125,
            44.048023
           ],
           "legendgroup": "",
           "lon": [
            -78.940341,
            -74.73629779,
            -79.74479581,
            -79.87134089,
            -81.25401572,
            -79.2412197,
            -75.7639122,
            -79.7088933,
            -80.52091315,
            -79.68630597,
            -80.99805884,
            -79.37935801,
            -79.480239
           ],
           "marker": {
            "color": [
             0,
             0,
             0,
             0,
             100,
             0,
             0,
             0,
             0,
             0,
             0,
             100,
             0
            ],
            "coloraxis": "coloraxis",
            "size": [
             0,
             0,
             0,
             0,
             1,
             0,
             0,
             0,
             0,
             0,
             0,
             3,
             0
            ],
            "sizemode": "area",
            "sizeref": 0.034375
           },
           "mode": "markers",
           "name": "",
           "showlegend": false,
           "subplot": "mapbox",
           "type": "scattermapbox"
          }
         ],
         "name": "2020-02-12"
        },
        {
         "data": [
          {
           "hoverlabel": {
            "namelength": 0
           },
           "hovertemplate": "<b>%{hovertext}</b><br><br>Date=2020-02-13<br>Total=%{marker.size}<br>Reporting_PHU_Latitude=%{lat}<br>Reporting_PHU_Longitude=%{lon}<br>Total Percent Travelled=%{marker.color}",
           "hovertext": [
            "Durham Region Health Department",
            "Eastern Ontario Health Unit",
            "Halton Region Health Department",
            "Hamilton Public Health Services",
            "Middlesex-London Health Unit",
            "Niagara Region Public Health Department",
            "Ottawa Public Health",
            "Peel Public Health",
            "Region of Waterloo, Public Health",
            "Simcoe Muskoka District Health Unit",
            "Sudbury & District Health Unit",
            "Toronto Public Health",
            "York Region Public Health Services"
           ],
           "lat": [
            43.898605,
            45.02915233,
            43.41399692,
            43.2576311,
            42.98146842,
            43.1165366,
            45.3456651,
            43.6474713,
            43.46287573,
            44.41071258,
            46.46609195,
            43.65659125,
            44.048023
           ],
           "legendgroup": "",
           "lon": [
            -78.940341,
            -74.73629779,
            -79.74479581,
            -79.87134089,
            -81.25401572,
            -79.2412197,
            -75.7639122,
            -79.7088933,
            -80.52091315,
            -79.68630597,
            -80.99805884,
            -79.37935801,
            -79.480239
           ],
           "marker": {
            "color": [
             0,
             0,
             0,
             0,
             100,
             0,
             0,
             0,
             0,
             0,
             0,
             100,
             0
            ],
            "coloraxis": "coloraxis",
            "size": [
             0,
             0,
             0,
             0,
             1,
             0,
             0,
             0,
             0,
             0,
             0,
             3,
             0
            ],
            "sizemode": "area",
            "sizeref": 0.034375
           },
           "mode": "markers",
           "name": "",
           "showlegend": false,
           "subplot": "mapbox",
           "type": "scattermapbox"
          }
         ],
         "name": "2020-02-13"
        },
        {
         "data": [
          {
           "hoverlabel": {
            "namelength": 0
           },
           "hovertemplate": "<b>%{hovertext}</b><br><br>Date=2020-02-14<br>Total=%{marker.size}<br>Reporting_PHU_Latitude=%{lat}<br>Reporting_PHU_Longitude=%{lon}<br>Total Percent Travelled=%{marker.color}",
           "hovertext": [
            "Durham Region Health Department",
            "Eastern Ontario Health Unit",
            "Halton Region Health Department",
            "Hamilton Public Health Services",
            "Middlesex-London Health Unit",
            "Niagara Region Public Health Department",
            "Ottawa Public Health",
            "Peel Public Health",
            "Region of Waterloo, Public Health",
            "Simcoe Muskoka District Health Unit",
            "Sudbury & District Health Unit",
            "Toronto Public Health",
            "York Region Public Health Services"
           ],
           "lat": [
            43.898605,
            45.02915233,
            43.41399692,
            43.2576311,
            42.98146842,
            43.1165366,
            45.3456651,
            43.6474713,
            43.46287573,
            44.41071258,
            46.46609195,
            43.65659125,
            44.048023
           ],
           "legendgroup": "",
           "lon": [
            -78.940341,
            -74.73629779,
            -79.74479581,
            -79.87134089,
            -81.25401572,
            -79.2412197,
            -75.7639122,
            -79.7088933,
            -80.52091315,
            -79.68630597,
            -80.99805884,
            -79.37935801,
            -79.480239
           ],
           "marker": {
            "color": [
             0,
             0,
             0,
             0,
             100,
             0,
             0,
             0,
             0,
             0,
             0,
             100,
             0
            ],
            "coloraxis": "coloraxis",
            "size": [
             0,
             0,
             0,
             0,
             1,
             0,
             0,
             0,
             0,
             0,
             0,
             4,
             0
            ],
            "sizemode": "area",
            "sizeref": 0.034375
           },
           "mode": "markers",
           "name": "",
           "showlegend": false,
           "subplot": "mapbox",
           "type": "scattermapbox"
          }
         ],
         "name": "2020-02-14"
        },
        {
         "data": [
          {
           "hoverlabel": {
            "namelength": 0
           },
           "hovertemplate": "<b>%{hovertext}</b><br><br>Date=2020-02-15<br>Total=%{marker.size}<br>Reporting_PHU_Latitude=%{lat}<br>Reporting_PHU_Longitude=%{lon}<br>Total Percent Travelled=%{marker.color}",
           "hovertext": [
            "Durham Region Health Department",
            "Eastern Ontario Health Unit",
            "Halton Region Health Department",
            "Hamilton Public Health Services",
            "Middlesex-London Health Unit",
            "Niagara Region Public Health Department",
            "Ottawa Public Health",
            "Peel Public Health",
            "Region of Waterloo, Public Health",
            "Simcoe Muskoka District Health Unit",
            "Sudbury & District Health Unit",
            "Toronto Public Health",
            "York Region Public Health Services"
           ],
           "lat": [
            43.898605,
            45.02915233,
            43.41399692,
            43.2576311,
            42.98146842,
            43.1165366,
            45.3456651,
            43.6474713,
            43.46287573,
            44.41071258,
            46.46609195,
            43.65659125,
            44.048023
           ],
           "legendgroup": "",
           "lon": [
            -78.940341,
            -74.73629779,
            -79.74479581,
            -79.87134089,
            -81.25401572,
            -79.2412197,
            -75.7639122,
            -79.7088933,
            -80.52091315,
            -79.68630597,
            -80.99805884,
            -79.37935801,
            -79.480239
           ],
           "marker": {
            "color": [
             0,
             0,
             0,
             0,
             100,
             0,
             0,
             0,
             0,
             0,
             0,
             100,
             0
            ],
            "coloraxis": "coloraxis",
            "size": [
             0,
             0,
             0,
             0,
             1,
             0,
             0,
             0,
             0,
             0,
             0,
             4,
             0
            ],
            "sizemode": "area",
            "sizeref": 0.034375
           },
           "mode": "markers",
           "name": "",
           "showlegend": false,
           "subplot": "mapbox",
           "type": "scattermapbox"
          }
         ],
         "name": "2020-02-15"
        },
        {
         "data": [
          {
           "hoverlabel": {
            "namelength": 0
           },
           "hovertemplate": "<b>%{hovertext}</b><br><br>Date=2020-02-16<br>Total=%{marker.size}<br>Reporting_PHU_Latitude=%{lat}<br>Reporting_PHU_Longitude=%{lon}<br>Total Percent Travelled=%{marker.color}",
           "hovertext": [
            "Durham Region Health Department",
            "Eastern Ontario Health Unit",
            "Halton Region Health Department",
            "Hamilton Public Health Services",
            "Middlesex-London Health Unit",
            "Niagara Region Public Health Department",
            "Ottawa Public Health",
            "Peel Public Health",
            "Region of Waterloo, Public Health",
            "Simcoe Muskoka District Health Unit",
            "Sudbury & District Health Unit",
            "Toronto Public Health",
            "York Region Public Health Services"
           ],
           "lat": [
            43.898605,
            45.02915233,
            43.41399692,
            43.2576311,
            42.98146842,
            43.1165366,
            45.3456651,
            43.6474713,
            43.46287573,
            44.41071258,
            46.46609195,
            43.65659125,
            44.048023
           ],
           "legendgroup": "",
           "lon": [
            -78.940341,
            -74.73629779,
            -79.74479581,
            -79.87134089,
            -81.25401572,
            -79.2412197,
            -75.7639122,
            -79.7088933,
            -80.52091315,
            -79.68630597,
            -80.99805884,
            -79.37935801,
            -79.480239
           ],
           "marker": {
            "color": [
             0,
             0,
             0,
             0,
             100,
             0,
             0,
             0,
             0,
             0,
             0,
             100,
             0
            ],
            "coloraxis": "coloraxis",
            "size": [
             0,
             0,
             0,
             0,
             1,
             0,
             0,
             0,
             0,
             0,
             0,
             5,
             0
            ],
            "sizemode": "area",
            "sizeref": 0.034375
           },
           "mode": "markers",
           "name": "",
           "showlegend": false,
           "subplot": "mapbox",
           "type": "scattermapbox"
          }
         ],
         "name": "2020-02-16"
        },
        {
         "data": [
          {
           "hoverlabel": {
            "namelength": 0
           },
           "hovertemplate": "<b>%{hovertext}</b><br><br>Date=2020-02-17<br>Total=%{marker.size}<br>Reporting_PHU_Latitude=%{lat}<br>Reporting_PHU_Longitude=%{lon}<br>Total Percent Travelled=%{marker.color}",
           "hovertext": [
            "Durham Region Health Department",
            "Eastern Ontario Health Unit",
            "Halton Region Health Department",
            "Hamilton Public Health Services",
            "Middlesex-London Health Unit",
            "Niagara Region Public Health Department",
            "Ottawa Public Health",
            "Peel Public Health",
            "Region of Waterloo, Public Health",
            "Simcoe Muskoka District Health Unit",
            "Sudbury & District Health Unit",
            "Toronto Public Health",
            "York Region Public Health Services"
           ],
           "lat": [
            43.898605,
            45.02915233,
            43.41399692,
            43.2576311,
            42.98146842,
            43.1165366,
            45.3456651,
            43.6474713,
            43.46287573,
            44.41071258,
            46.46609195,
            43.65659125,
            44.048023
           ],
           "legendgroup": "",
           "lon": [
            -78.940341,
            -74.73629779,
            -79.74479581,
            -79.87134089,
            -81.25401572,
            -79.2412197,
            -75.7639122,
            -79.7088933,
            -80.52091315,
            -79.68630597,
            -80.99805884,
            -79.37935801,
            -79.480239
           ],
           "marker": {
            "color": [
             0,
             0,
             0,
             0,
             100,
             0,
             0,
             0,
             0,
             0,
             0,
             100,
             0
            ],
            "coloraxis": "coloraxis",
            "size": [
             0,
             0,
             0,
             0,
             1,
             0,
             0,
             0,
             0,
             0,
             0,
             5,
             0
            ],
            "sizemode": "area",
            "sizeref": 0.034375
           },
           "mode": "markers",
           "name": "",
           "showlegend": false,
           "subplot": "mapbox",
           "type": "scattermapbox"
          }
         ],
         "name": "2020-02-17"
        },
        {
         "data": [
          {
           "hoverlabel": {
            "namelength": 0
           },
           "hovertemplate": "<b>%{hovertext}</b><br><br>Date=2020-02-18<br>Total=%{marker.size}<br>Reporting_PHU_Latitude=%{lat}<br>Reporting_PHU_Longitude=%{lon}<br>Total Percent Travelled=%{marker.color}",
           "hovertext": [
            "Durham Region Health Department",
            "Eastern Ontario Health Unit",
            "Halton Region Health Department",
            "Hamilton Public Health Services",
            "Middlesex-London Health Unit",
            "Niagara Region Public Health Department",
            "Ottawa Public Health",
            "Peel Public Health",
            "Region of Waterloo, Public Health",
            "Simcoe Muskoka District Health Unit",
            "Sudbury & District Health Unit",
            "Toronto Public Health",
            "York Region Public Health Services"
           ],
           "lat": [
            43.898605,
            45.02915233,
            43.41399692,
            43.2576311,
            42.98146842,
            43.1165366,
            45.3456651,
            43.6474713,
            43.46287573,
            44.41071258,
            46.46609195,
            43.65659125,
            44.048023
           ],
           "legendgroup": "",
           "lon": [
            -78.940341,
            -74.73629779,
            -79.74479581,
            -79.87134089,
            -81.25401572,
            -79.2412197,
            -75.7639122,
            -79.7088933,
            -80.52091315,
            -79.68630597,
            -80.99805884,
            -79.37935801,
            -79.480239
           ],
           "marker": {
            "color": [
             0,
             0,
             0,
             0,
             100,
             0,
             0,
             0,
             0,
             0,
             0,
             100,
             0
            ],
            "coloraxis": "coloraxis",
            "size": [
             0,
             0,
             0,
             0,
             1,
             0,
             0,
             0,
             0,
             0,
             0,
             5,
             0
            ],
            "sizemode": "area",
            "sizeref": 0.034375
           },
           "mode": "markers",
           "name": "",
           "showlegend": false,
           "subplot": "mapbox",
           "type": "scattermapbox"
          }
         ],
         "name": "2020-02-18"
        },
        {
         "data": [
          {
           "hoverlabel": {
            "namelength": 0
           },
           "hovertemplate": "<b>%{hovertext}</b><br><br>Date=2020-02-19<br>Total=%{marker.size}<br>Reporting_PHU_Latitude=%{lat}<br>Reporting_PHU_Longitude=%{lon}<br>Total Percent Travelled=%{marker.color}",
           "hovertext": [
            "Durham Region Health Department",
            "Eastern Ontario Health Unit",
            "Halton Region Health Department",
            "Hamilton Public Health Services",
            "Middlesex-London Health Unit",
            "Niagara Region Public Health Department",
            "Ottawa Public Health",
            "Peel Public Health",
            "Region of Waterloo, Public Health",
            "Simcoe Muskoka District Health Unit",
            "Sudbury & District Health Unit",
            "Toronto Public Health",
            "York Region Public Health Services"
           ],
           "lat": [
            43.898605,
            45.02915233,
            43.41399692,
            43.2576311,
            42.98146842,
            43.1165366,
            45.3456651,
            43.6474713,
            43.46287573,
            44.41071258,
            46.46609195,
            43.65659125,
            44.048023
           ],
           "legendgroup": "",
           "lon": [
            -78.940341,
            -74.73629779,
            -79.74479581,
            -79.87134089,
            -81.25401572,
            -79.2412197,
            -75.7639122,
            -79.7088933,
            -80.52091315,
            -79.68630597,
            -80.99805884,
            -79.37935801,
            -79.480239
           ],
           "marker": {
            "color": [
             0,
             0,
             0,
             0,
             100,
             0,
             0,
             0,
             0,
             0,
             0,
             100,
             0
            ],
            "coloraxis": "coloraxis",
            "size": [
             0,
             0,
             0,
             0,
             1,
             0,
             0,
             0,
             0,
             0,
             0,
             5,
             0
            ],
            "sizemode": "area",
            "sizeref": 0.034375
           },
           "mode": "markers",
           "name": "",
           "showlegend": false,
           "subplot": "mapbox",
           "type": "scattermapbox"
          }
         ],
         "name": "2020-02-19"
        },
        {
         "data": [
          {
           "hoverlabel": {
            "namelength": 0
           },
           "hovertemplate": "<b>%{hovertext}</b><br><br>Date=2020-02-20<br>Total=%{marker.size}<br>Reporting_PHU_Latitude=%{lat}<br>Reporting_PHU_Longitude=%{lon}<br>Total Percent Travelled=%{marker.color}",
           "hovertext": [
            "Durham Region Health Department",
            "Eastern Ontario Health Unit",
            "Halton Region Health Department",
            "Hamilton Public Health Services",
            "Middlesex-London Health Unit",
            "Niagara Region Public Health Department",
            "Ottawa Public Health",
            "Peel Public Health",
            "Region of Waterloo, Public Health",
            "Simcoe Muskoka District Health Unit",
            "Sudbury & District Health Unit",
            "Toronto Public Health",
            "York Region Public Health Services"
           ],
           "lat": [
            43.898605,
            45.02915233,
            43.41399692,
            43.2576311,
            42.98146842,
            43.1165366,
            45.3456651,
            43.6474713,
            43.46287573,
            44.41071258,
            46.46609195,
            43.65659125,
            44.048023
           ],
           "legendgroup": "",
           "lon": [
            -78.940341,
            -74.73629779,
            -79.74479581,
            -79.87134089,
            -81.25401572,
            -79.2412197,
            -75.7639122,
            -79.7088933,
            -80.52091315,
            -79.68630597,
            -80.99805884,
            -79.37935801,
            -79.480239
           ],
           "marker": {
            "color": [
             0,
             0,
             0,
             0,
             100,
             0,
             0,
             0,
             0,
             0,
             0,
             85.71428571428571,
             0
            ],
            "coloraxis": "coloraxis",
            "size": [
             0,
             0,
             0,
             0,
             1,
             0,
             0,
             0,
             0,
             0,
             0,
             7,
             0
            ],
            "sizemode": "area",
            "sizeref": 0.034375
           },
           "mode": "markers",
           "name": "",
           "showlegend": false,
           "subplot": "mapbox",
           "type": "scattermapbox"
          }
         ],
         "name": "2020-02-20"
        },
        {
         "data": [
          {
           "hoverlabel": {
            "namelength": 0
           },
           "hovertemplate": "<b>%{hovertext}</b><br><br>Date=2020-02-21<br>Total=%{marker.size}<br>Reporting_PHU_Latitude=%{lat}<br>Reporting_PHU_Longitude=%{lon}<br>Total Percent Travelled=%{marker.color}",
           "hovertext": [
            "Durham Region Health Department",
            "Eastern Ontario Health Unit",
            "Halton Region Health Department",
            "Hamilton Public Health Services",
            "Middlesex-London Health Unit",
            "Niagara Region Public Health Department",
            "Ottawa Public Health",
            "Peel Public Health",
            "Region of Waterloo, Public Health",
            "Simcoe Muskoka District Health Unit",
            "Sudbury & District Health Unit",
            "Toronto Public Health",
            "York Region Public Health Services"
           ],
           "lat": [
            43.898605,
            45.02915233,
            43.41399692,
            43.2576311,
            42.98146842,
            43.1165366,
            45.3456651,
            43.6474713,
            43.46287573,
            44.41071258,
            46.46609195,
            43.65659125,
            44.048023
           ],
           "legendgroup": "",
           "lon": [
            -78.940341,
            -74.73629779,
            -79.74479581,
            -79.87134089,
            -81.25401572,
            -79.2412197,
            -75.7639122,
            -79.7088933,
            -80.52091315,
            -79.68630597,
            -80.99805884,
            -79.37935801,
            -79.480239
           ],
           "marker": {
            "color": [
             0,
             0,
             0,
             0,
             100,
             0,
             0,
             0,
             0,
             0,
             0,
             87.5,
             0
            ],
            "coloraxis": "coloraxis",
            "size": [
             0,
             0,
             0,
             0,
             1,
             0,
             0,
             0,
             0,
             0,
             0,
             8,
             0
            ],
            "sizemode": "area",
            "sizeref": 0.034375
           },
           "mode": "markers",
           "name": "",
           "showlegend": false,
           "subplot": "mapbox",
           "type": "scattermapbox"
          }
         ],
         "name": "2020-02-21"
        },
        {
         "data": [
          {
           "hoverlabel": {
            "namelength": 0
           },
           "hovertemplate": "<b>%{hovertext}</b><br><br>Date=2020-02-22<br>Total=%{marker.size}<br>Reporting_PHU_Latitude=%{lat}<br>Reporting_PHU_Longitude=%{lon}<br>Total Percent Travelled=%{marker.color}",
           "hovertext": [
            "Durham Region Health Department",
            "Eastern Ontario Health Unit",
            "Halton Region Health Department",
            "Hamilton Public Health Services",
            "Middlesex-London Health Unit",
            "Niagara Region Public Health Department",
            "Ottawa Public Health",
            "Peel Public Health",
            "Region of Waterloo, Public Health",
            "Simcoe Muskoka District Health Unit",
            "Sudbury & District Health Unit",
            "Toronto Public Health",
            "York Region Public Health Services"
           ],
           "lat": [
            43.898605,
            45.02915233,
            43.41399692,
            43.2576311,
            42.98146842,
            43.1165366,
            45.3456651,
            43.6474713,
            43.46287573,
            44.41071258,
            46.46609195,
            43.65659125,
            44.048023
           ],
           "legendgroup": "",
           "lon": [
            -78.940341,
            -74.73629779,
            -79.74479581,
            -79.87134089,
            -81.25401572,
            -79.2412197,
            -75.7639122,
            -79.7088933,
            -80.52091315,
            -79.68630597,
            -80.99805884,
            -79.37935801,
            -79.480239
           ],
           "marker": {
            "color": [
             0,
             0,
             0,
             0,
             100,
             0,
             0,
             0,
             0,
             0,
             0,
             87.5,
             100
            ],
            "coloraxis": "coloraxis",
            "size": [
             0,
             0,
             0,
             0,
             1,
             0,
             0,
             0,
             0,
             0,
             0,
             8,
             2
            ],
            "sizemode": "area",
            "sizeref": 0.034375
           },
           "mode": "markers",
           "name": "",
           "showlegend": false,
           "subplot": "mapbox",
           "type": "scattermapbox"
          }
         ],
         "name": "2020-02-22"
        },
        {
         "data": [
          {
           "hoverlabel": {
            "namelength": 0
           },
           "hovertemplate": "<b>%{hovertext}</b><br><br>Date=2020-02-23<br>Total=%{marker.size}<br>Reporting_PHU_Latitude=%{lat}<br>Reporting_PHU_Longitude=%{lon}<br>Total Percent Travelled=%{marker.color}",
           "hovertext": [
            "Durham Region Health Department",
            "Eastern Ontario Health Unit",
            "Halton Region Health Department",
            "Hamilton Public Health Services",
            "Middlesex-London Health Unit",
            "Niagara Region Public Health Department",
            "Ottawa Public Health",
            "Peel Public Health",
            "Region of Waterloo, Public Health",
            "Simcoe Muskoka District Health Unit",
            "Sudbury & District Health Unit",
            "Toronto Public Health",
            "York Region Public Health Services"
           ],
           "lat": [
            43.898605,
            45.02915233,
            43.41399692,
            43.2576311,
            42.98146842,
            43.1165366,
            45.3456651,
            43.6474713,
            43.46287573,
            44.41071258,
            46.46609195,
            43.65659125,
            44.048023
           ],
           "legendgroup": "",
           "lon": [
            -78.940341,
            -74.73629779,
            -79.74479581,
            -79.87134089,
            -81.25401572,
            -79.2412197,
            -75.7639122,
            -79.7088933,
            -80.52091315,
            -79.68630597,
            -80.99805884,
            -79.37935801,
            -79.480239
           ],
           "marker": {
            "color": [
             0,
             0,
             0,
             0,
             100,
             0,
             0,
             0,
             0,
             0,
             0,
             87.5,
             100
            ],
            "coloraxis": "coloraxis",
            "size": [
             0,
             0,
             0,
             0,
             1,
             0,
             0,
             0,
             0,
             0,
             0,
             8,
             3
            ],
            "sizemode": "area",
            "sizeref": 0.034375
           },
           "mode": "markers",
           "name": "",
           "showlegend": false,
           "subplot": "mapbox",
           "type": "scattermapbox"
          }
         ],
         "name": "2020-02-23"
        },
        {
         "data": [
          {
           "hoverlabel": {
            "namelength": 0
           },
           "hovertemplate": "<b>%{hovertext}</b><br><br>Date=2020-02-24<br>Total=%{marker.size}<br>Reporting_PHU_Latitude=%{lat}<br>Reporting_PHU_Longitude=%{lon}<br>Total Percent Travelled=%{marker.color}",
           "hovertext": [
            "Durham Region Health Department",
            "Eastern Ontario Health Unit",
            "Halton Region Health Department",
            "Hamilton Public Health Services",
            "Middlesex-London Health Unit",
            "Niagara Region Public Health Department",
            "Ottawa Public Health",
            "Peel Public Health",
            "Region of Waterloo, Public Health",
            "Simcoe Muskoka District Health Unit",
            "Sudbury & District Health Unit",
            "Toronto Public Health",
            "York Region Public Health Services"
           ],
           "lat": [
            43.898605,
            45.02915233,
            43.41399692,
            43.2576311,
            42.98146842,
            43.1165366,
            45.3456651,
            43.6474713,
            43.46287573,
            44.41071258,
            46.46609195,
            43.65659125,
            44.048023
           ],
           "legendgroup": "",
           "lon": [
            -78.940341,
            -74.73629779,
            -79.74479581,
            -79.87134089,
            -81.25401572,
            -79.2412197,
            -75.7639122,
            -79.7088933,
            -80.52091315,
            -79.68630597,
            -80.99805884,
            -79.37935801,
            -79.480239
           ],
           "marker": {
            "color": [
             100,
             0,
             0,
             0,
             100,
             0,
             0,
             0,
             0,
             0,
             0,
             88.88888888888889,
             100
            ],
            "coloraxis": "coloraxis",
            "size": [
             1,
             0,
             0,
             0,
             1,
             0,
             0,
             0,
             0,
             0,
             0,
             9,
             3
            ],
            "sizemode": "area",
            "sizeref": 0.034375
           },
           "mode": "markers",
           "name": "",
           "showlegend": false,
           "subplot": "mapbox",
           "type": "scattermapbox"
          }
         ],
         "name": "2020-02-24"
        },
        {
         "data": [
          {
           "hoverlabel": {
            "namelength": 0
           },
           "hovertemplate": "<b>%{hovertext}</b><br><br>Date=2020-02-25<br>Total=%{marker.size}<br>Reporting_PHU_Latitude=%{lat}<br>Reporting_PHU_Longitude=%{lon}<br>Total Percent Travelled=%{marker.color}",
           "hovertext": [
            "Durham Region Health Department",
            "Eastern Ontario Health Unit",
            "Halton Region Health Department",
            "Hamilton Public Health Services",
            "Middlesex-London Health Unit",
            "Niagara Region Public Health Department",
            "Ottawa Public Health",
            "Peel Public Health",
            "Region of Waterloo, Public Health",
            "Simcoe Muskoka District Health Unit",
            "Sudbury & District Health Unit",
            "Toronto Public Health",
            "York Region Public Health Services"
           ],
           "lat": [
            43.898605,
            45.02915233,
            43.41399692,
            43.2576311,
            42.98146842,
            43.1165366,
            45.3456651,
            43.6474713,
            43.46287573,
            44.41071258,
            46.46609195,
            43.65659125,
            44.048023
           ],
           "legendgroup": "",
           "lon": [
            -78.940341,
            -74.73629779,
            -79.74479581,
            -79.87134089,
            -81.25401572,
            -79.2412197,
            -75.7639122,
            -79.7088933,
            -80.52091315,
            -79.68630597,
            -80.99805884,
            -79.37935801,
            -79.480239
           ],
           "marker": {
            "color": [
             100,
             0,
             0,
             0,
             100,
             0,
             0,
             100,
             0,
             0,
             0,
             88.88888888888889,
             100
            ],
            "coloraxis": "coloraxis",
            "size": [
             1,
             0,
             0,
             0,
             1,
             0,
             0,
             1,
             0,
             0,
             0,
             9,
             4
            ],
            "sizemode": "area",
            "sizeref": 0.034375
           },
           "mode": "markers",
           "name": "",
           "showlegend": false,
           "subplot": "mapbox",
           "type": "scattermapbox"
          }
         ],
         "name": "2020-02-25"
        },
        {
         "data": [
          {
           "hoverlabel": {
            "namelength": 0
           },
           "hovertemplate": "<b>%{hovertext}</b><br><br>Date=2020-02-26<br>Total=%{marker.size}<br>Reporting_PHU_Latitude=%{lat}<br>Reporting_PHU_Longitude=%{lon}<br>Total Percent Travelled=%{marker.color}",
           "hovertext": [
            "Durham Region Health Department",
            "Eastern Ontario Health Unit",
            "Halton Region Health Department",
            "Hamilton Public Health Services",
            "Middlesex-London Health Unit",
            "Niagara Region Public Health Department",
            "Ottawa Public Health",
            "Peel Public Health",
            "Region of Waterloo, Public Health",
            "Simcoe Muskoka District Health Unit",
            "Sudbury & District Health Unit",
            "Toronto Public Health",
            "York Region Public Health Services"
           ],
           "lat": [
            43.898605,
            45.02915233,
            43.41399692,
            43.2576311,
            42.98146842,
            43.1165366,
            45.3456651,
            43.6474713,
            43.46287573,
            44.41071258,
            46.46609195,
            43.65659125,
            44.048023
           ],
           "legendgroup": "",
           "lon": [
            -78.940341,
            -74.73629779,
            -79.74479581,
            -79.87134089,
            -81.25401572,
            -79.2412197,
            -75.7639122,
            -79.7088933,
            -80.52091315,
            -79.68630597,
            -80.99805884,
            -79.37935801,
            -79.480239
           ],
           "marker": {
            "color": [
             50,
             0,
             0,
             0,
             100,
             0,
             0,
             100,
             0,
             0,
             0,
             90,
             100
            ],
            "coloraxis": "coloraxis",
            "size": [
             2,
             0,
             0,
             0,
             1,
             0,
             0,
             1,
             0,
             0,
             0,
             10,
             4
            ],
            "sizemode": "area",
            "sizeref": 0.034375
           },
           "mode": "markers",
           "name": "",
           "showlegend": false,
           "subplot": "mapbox",
           "type": "scattermapbox"
          }
         ],
         "name": "2020-02-26"
        },
        {
         "data": [
          {
           "hoverlabel": {
            "namelength": 0
           },
           "hovertemplate": "<b>%{hovertext}</b><br><br>Date=2020-02-27<br>Total=%{marker.size}<br>Reporting_PHU_Latitude=%{lat}<br>Reporting_PHU_Longitude=%{lon}<br>Total Percent Travelled=%{marker.color}",
           "hovertext": [
            "Durham Region Health Department",
            "Eastern Ontario Health Unit",
            "Halton Region Health Department",
            "Hamilton Public Health Services",
            "Middlesex-London Health Unit",
            "Niagara Region Public Health Department",
            "Ottawa Public Health",
            "Peel Public Health",
            "Region of Waterloo, Public Health",
            "Simcoe Muskoka District Health Unit",
            "Sudbury & District Health Unit",
            "Toronto Public Health",
            "York Region Public Health Services"
           ],
           "lat": [
            43.898605,
            45.02915233,
            43.41399692,
            43.2576311,
            42.98146842,
            43.1165366,
            45.3456651,
            43.6474713,
            43.46287573,
            44.41071258,
            46.46609195,
            43.65659125,
            44.048023
           ],
           "legendgroup": "",
           "lon": [
            -78.940341,
            -74.73629779,
            -79.74479581,
            -79.87134089,
            -81.25401572,
            -79.2412197,
            -75.7639122,
            -79.7088933,
            -80.52091315,
            -79.68630597,
            -80.99805884,
            -79.37935801,
            -79.480239
           ],
           "marker": {
            "color": [
             50,
             0,
             0,
             0,
             100,
             0,
             0,
             100,
             0,
             0,
             0,
             90,
             100
            ],
            "coloraxis": "coloraxis",
            "size": [
             2,
             0,
             0,
             0,
             1,
             0,
             0,
             1,
             0,
             0,
             0,
             10,
             5
            ],
            "sizemode": "area",
            "sizeref": 0.034375
           },
           "mode": "markers",
           "name": "",
           "showlegend": false,
           "subplot": "mapbox",
           "type": "scattermapbox"
          }
         ],
         "name": "2020-02-27"
        },
        {
         "data": [
          {
           "hoverlabel": {
            "namelength": 0
           },
           "hovertemplate": "<b>%{hovertext}</b><br><br>Date=2020-02-28<br>Total=%{marker.size}<br>Reporting_PHU_Latitude=%{lat}<br>Reporting_PHU_Longitude=%{lon}<br>Total Percent Travelled=%{marker.color}",
           "hovertext": [
            "Durham Region Health Department",
            "Eastern Ontario Health Unit",
            "Halton Region Health Department",
            "Hamilton Public Health Services",
            "Middlesex-London Health Unit",
            "Niagara Region Public Health Department",
            "Ottawa Public Health",
            "Peel Public Health",
            "Region of Waterloo, Public Health",
            "Simcoe Muskoka District Health Unit",
            "Sudbury & District Health Unit",
            "Toronto Public Health",
            "York Region Public Health Services"
           ],
           "lat": [
            43.898605,
            45.02915233,
            43.41399692,
            43.2576311,
            42.98146842,
            43.1165366,
            45.3456651,
            43.6474713,
            43.46287573,
            44.41071258,
            46.46609195,
            43.65659125,
            44.048023
           ],
           "legendgroup": "",
           "lon": [
            -78.940341,
            -74.73629779,
            -79.74479581,
            -79.87134089,
            -81.25401572,
            -79.2412197,
            -75.7639122,
            -79.7088933,
            -80.52091315,
            -79.68630597,
            -80.99805884,
            -79.37935801,
            -79.480239
           ],
           "marker": {
            "color": [
             50,
             0,
             0,
             0,
             100,
             0,
             0,
             100,
             0,
             0,
             0,
             90.9090909090909,
             100
            ],
            "coloraxis": "coloraxis",
            "size": [
             2,
             0,
             0,
             0,
             1,
             0,
             0,
             1,
             0,
             0,
             0,
             11,
             7
            ],
            "sizemode": "area",
            "sizeref": 0.034375
           },
           "mode": "markers",
           "name": "",
           "showlegend": false,
           "subplot": "mapbox",
           "type": "scattermapbox"
          }
         ],
         "name": "2020-02-28"
        },
        {
         "data": [
          {
           "hoverlabel": {
            "namelength": 0
           },
           "hovertemplate": "<b>%{hovertext}</b><br><br>Date=2020-02-29<br>Total=%{marker.size}<br>Reporting_PHU_Latitude=%{lat}<br>Reporting_PHU_Longitude=%{lon}<br>Total Percent Travelled=%{marker.color}",
           "hovertext": [
            "Durham Region Health Department",
            "Eastern Ontario Health Unit",
            "Halton Region Health Department",
            "Hamilton Public Health Services",
            "Middlesex-London Health Unit",
            "Niagara Region Public Health Department",
            "Ottawa Public Health",
            "Peel Public Health",
            "Region of Waterloo, Public Health",
            "Simcoe Muskoka District Health Unit",
            "Sudbury & District Health Unit",
            "Toronto Public Health",
            "York Region Public Health Services"
           ],
           "lat": [
            43.898605,
            45.02915233,
            43.41399692,
            43.2576311,
            42.98146842,
            43.1165366,
            45.3456651,
            43.6474713,
            43.46287573,
            44.41071258,
            46.46609195,
            43.65659125,
            44.048023
           ],
           "legendgroup": "",
           "lon": [
            -78.940341,
            -74.73629779,
            -79.74479581,
            -79.87134089,
            -81.25401572,
            -79.2412197,
            -75.7639122,
            -79.7088933,
            -80.52091315,
            -79.68630597,
            -80.99805884,
            -79.37935801,
            -79.480239
           ],
           "marker": {
            "color": [
             50,
             0,
             0,
             0,
             100,
             0,
             0,
             100,
             100,
             0,
             0,
             91.66666666666667,
             100
            ],
            "coloraxis": "coloraxis",
            "size": [
             2,
             0,
             0,
             0,
             1,
             0,
             0,
             2,
             1,
             0,
             0,
             12,
             7
            ],
            "sizemode": "area",
            "sizeref": 0.034375
           },
           "mode": "markers",
           "name": "",
           "showlegend": false,
           "subplot": "mapbox",
           "type": "scattermapbox"
          }
         ],
         "name": "2020-02-29"
        },
        {
         "data": [
          {
           "hoverlabel": {
            "namelength": 0
           },
           "hovertemplate": "<b>%{hovertext}</b><br><br>Date=2020-03-01<br>Total=%{marker.size}<br>Reporting_PHU_Latitude=%{lat}<br>Reporting_PHU_Longitude=%{lon}<br>Total Percent Travelled=%{marker.color}",
           "hovertext": [
            "Durham Region Health Department",
            "Eastern Ontario Health Unit",
            "Halton Region Health Department",
            "Hamilton Public Health Services",
            "Middlesex-London Health Unit",
            "Niagara Region Public Health Department",
            "Ottawa Public Health",
            "Peel Public Health",
            "Region of Waterloo, Public Health",
            "Simcoe Muskoka District Health Unit",
            "Sudbury & District Health Unit",
            "Toronto Public Health",
            "York Region Public Health Services"
           ],
           "lat": [
            43.898605,
            45.02915233,
            43.41399692,
            43.2576311,
            42.98146842,
            43.1165366,
            45.3456651,
            43.6474713,
            43.46287573,
            44.41071258,
            46.46609195,
            43.65659125,
            44.048023
           ],
           "legendgroup": "",
           "lon": [
            -78.940341,
            -74.73629779,
            -79.74479581,
            -79.87134089,
            -81.25401572,
            -79.2412197,
            -75.7639122,
            -79.7088933,
            -80.52091315,
            -79.68630597,
            -80.99805884,
            -79.37935801,
            -79.480239
           ],
           "marker": {
            "color": [
             50,
             0,
             0,
             0,
             100,
             0,
             0,
             100,
             100,
             0,
             0,
             92.3076923076923,
             100
            ],
            "coloraxis": "coloraxis",
            "size": [
             2,
             0,
             0,
             0,
             1,
             0,
             0,
             2,
             2,
             0,
             0,
             13,
             7
            ],
            "sizemode": "area",
            "sizeref": 0.034375
           },
           "mode": "markers",
           "name": "",
           "showlegend": false,
           "subplot": "mapbox",
           "type": "scattermapbox"
          }
         ],
         "name": "2020-03-01"
        },
        {
         "data": [
          {
           "hoverlabel": {
            "namelength": 0
           },
           "hovertemplate": "<b>%{hovertext}</b><br><br>Date=2020-03-02<br>Total=%{marker.size}<br>Reporting_PHU_Latitude=%{lat}<br>Reporting_PHU_Longitude=%{lon}<br>Total Percent Travelled=%{marker.color}",
           "hovertext": [
            "Durham Region Health Department",
            "Eastern Ontario Health Unit",
            "Halton Region Health Department",
            "Hamilton Public Health Services",
            "Middlesex-London Health Unit",
            "Niagara Region Public Health Department",
            "Ottawa Public Health",
            "Peel Public Health",
            "Region of Waterloo, Public Health",
            "Simcoe Muskoka District Health Unit",
            "Sudbury & District Health Unit",
            "Toronto Public Health",
            "York Region Public Health Services"
           ],
           "lat": [
            43.898605,
            45.02915233,
            43.41399692,
            43.2576311,
            42.98146842,
            43.1165366,
            45.3456651,
            43.6474713,
            43.46287573,
            44.41071258,
            46.46609195,
            43.65659125,
            44.048023
           ],
           "legendgroup": "",
           "lon": [
            -78.940341,
            -74.73629779,
            -79.74479581,
            -79.87134089,
            -81.25401572,
            -79.2412197,
            -75.7639122,
            -79.7088933,
            -80.52091315,
            -79.68630597,
            -80.99805884,
            -79.37935801,
            -79.480239
           ],
           "marker": {
            "color": [
             50,
             0,
             0,
             0,
             100,
             0,
             100,
             100,
             100,
             0,
             0,
             94.44444444444444,
             100
            ],
            "coloraxis": "coloraxis",
            "size": [
             2,
             0,
             0,
             0,
             1,
             0,
             2,
             3,
             2,
             0,
             0,
             18,
             7
            ],
            "sizemode": "area",
            "sizeref": 0.034375
           },
           "mode": "markers",
           "name": "",
           "showlegend": false,
           "subplot": "mapbox",
           "type": "scattermapbox"
          }
         ],
         "name": "2020-03-02"
        },
        {
         "data": [
          {
           "hoverlabel": {
            "namelength": 0
           },
           "hovertemplate": "<b>%{hovertext}</b><br><br>Date=2020-03-03<br>Total=%{marker.size}<br>Reporting_PHU_Latitude=%{lat}<br>Reporting_PHU_Longitude=%{lon}<br>Total Percent Travelled=%{marker.color}",
           "hovertext": [
            "Durham Region Health Department",
            "Eastern Ontario Health Unit",
            "Halton Region Health Department",
            "Hamilton Public Health Services",
            "Middlesex-London Health Unit",
            "Niagara Region Public Health Department",
            "Ottawa Public Health",
            "Peel Public Health",
            "Region of Waterloo, Public Health",
            "Simcoe Muskoka District Health Unit",
            "Sudbury & District Health Unit",
            "Toronto Public Health",
            "York Region Public Health Services"
           ],
           "lat": [
            43.898605,
            45.02915233,
            43.41399692,
            43.2576311,
            42.98146842,
            43.1165366,
            45.3456651,
            43.6474713,
            43.46287573,
            44.41071258,
            46.46609195,
            43.65659125,
            44.048023
           ],
           "legendgroup": "",
           "lon": [
            -78.940341,
            -74.73629779,
            -79.74479581,
            -79.87134089,
            -81.25401572,
            -79.2412197,
            -75.7639122,
            -79.7088933,
            -80.52091315,
            -79.68630597,
            -80.99805884,
            -79.37935801,
            -79.480239
           ],
           "marker": {
            "color": [
             50,
             0,
             0,
             0,
             100,
             0,
             100,
             100,
             100,
             0,
             0,
             95.83333333333333,
             100
            ],
            "coloraxis": "coloraxis",
            "size": [
             2,
             0,
             0,
             0,
             1,
             0,
             2,
             3,
             2,
             0,
             0,
             24,
             7
            ],
            "sizemode": "area",
            "sizeref": 0.034375
           },
           "mode": "markers",
           "name": "",
           "showlegend": false,
           "subplot": "mapbox",
           "type": "scattermapbox"
          }
         ],
         "name": "2020-03-03"
        },
        {
         "data": [
          {
           "hoverlabel": {
            "namelength": 0
           },
           "hovertemplate": "<b>%{hovertext}</b><br><br>Date=2020-03-04<br>Total=%{marker.size}<br>Reporting_PHU_Latitude=%{lat}<br>Reporting_PHU_Longitude=%{lon}<br>Total Percent Travelled=%{marker.color}",
           "hovertext": [
            "Durham Region Health Department",
            "Eastern Ontario Health Unit",
            "Halton Region Health Department",
            "Hamilton Public Health Services",
            "Middlesex-London Health Unit",
            "Niagara Region Public Health Department",
            "Ottawa Public Health",
            "Peel Public Health",
            "Region of Waterloo, Public Health",
            "Simcoe Muskoka District Health Unit",
            "Sudbury & District Health Unit",
            "Toronto Public Health",
            "York Region Public Health Services"
           ],
           "lat": [
            43.898605,
            45.02915233,
            43.41399692,
            43.2576311,
            42.98146842,
            43.1165366,
            45.3456651,
            43.6474713,
            43.46287573,
            44.41071258,
            46.46609195,
            43.65659125,
            44.048023
           ],
           "legendgroup": "",
           "lon": [
            -78.940341,
            -74.73629779,
            -79.74479581,
            -79.87134089,
            -81.25401572,
            -79.2412197,
            -75.7639122,
            -79.7088933,
            -80.52091315,
            -79.68630597,
            -80.99805884,
            -79.37935801,
            -79.480239
           ],
           "marker": {
            "color": [
             50,
             0,
             0,
             0,
             100,
             0,
             100,
             100,
             100,
             0,
             0,
             96.29629629629629,
             100
            ],
            "coloraxis": "coloraxis",
            "size": [
             2,
             0,
             0,
             0,
             1,
             0,
             2,
             3,
             2,
             0,
             0,
             27,
             7
            ],
            "sizemode": "area",
            "sizeref": 0.034375
           },
           "mode": "markers",
           "name": "",
           "showlegend": false,
           "subplot": "mapbox",
           "type": "scattermapbox"
          }
         ],
         "name": "2020-03-04"
        },
        {
         "data": [
          {
           "hoverlabel": {
            "namelength": 0
           },
           "hovertemplate": "<b>%{hovertext}</b><br><br>Date=2020-03-05<br>Total=%{marker.size}<br>Reporting_PHU_Latitude=%{lat}<br>Reporting_PHU_Longitude=%{lon}<br>Total Percent Travelled=%{marker.color}",
           "hovertext": [
            "Durham Region Health Department",
            "Eastern Ontario Health Unit",
            "Halton Region Health Department",
            "Hamilton Public Health Services",
            "Middlesex-London Health Unit",
            "Niagara Region Public Health Department",
            "Ottawa Public Health",
            "Peel Public Health",
            "Region of Waterloo, Public Health",
            "Simcoe Muskoka District Health Unit",
            "Sudbury & District Health Unit",
            "Toronto Public Health",
            "York Region Public Health Services"
           ],
           "lat": [
            43.898605,
            45.02915233,
            43.41399692,
            43.2576311,
            42.98146842,
            43.1165366,
            45.3456651,
            43.6474713,
            43.46287573,
            44.41071258,
            46.46609195,
            43.65659125,
            44.048023
           ],
           "legendgroup": "",
           "lon": [
            -78.940341,
            -74.73629779,
            -79.74479581,
            -79.87134089,
            -81.25401572,
            -79.2412197,
            -75.7639122,
            -79.7088933,
            -80.52091315,
            -79.68630597,
            -80.99805884,
            -79.37935801,
            -79.480239
           ],
           "marker": {
            "color": [
             50,
             0,
             0,
             0,
             100,
             0,
             100,
             75,
             100,
             0,
             0,
             96.55172413793103,
             100
            ],
            "coloraxis": "coloraxis",
            "size": [
             2,
             0,
             0,
             0,
             1,
             0,
             3,
             4,
             2,
             0,
             0,
             29,
             7
            ],
            "sizemode": "area",
            "sizeref": 0.034375
           },
           "mode": "markers",
           "name": "",
           "showlegend": false,
           "subplot": "mapbox",
           "type": "scattermapbox"
          }
         ],
         "name": "2020-03-05"
        },
        {
         "data": [
          {
           "hoverlabel": {
            "namelength": 0
           },
           "hovertemplate": "<b>%{hovertext}</b><br><br>Date=2020-03-06<br>Total=%{marker.size}<br>Reporting_PHU_Latitude=%{lat}<br>Reporting_PHU_Longitude=%{lon}<br>Total Percent Travelled=%{marker.color}",
           "hovertext": [
            "Durham Region Health Department",
            "Eastern Ontario Health Unit",
            "Halton Region Health Department",
            "Hamilton Public Health Services",
            "Middlesex-London Health Unit",
            "Niagara Region Public Health Department",
            "Ottawa Public Health",
            "Peel Public Health",
            "Region of Waterloo, Public Health",
            "Simcoe Muskoka District Health Unit",
            "Sudbury & District Health Unit",
            "Toronto Public Health",
            "York Region Public Health Services"
           ],
           "lat": [
            43.898605,
            45.02915233,
            43.41399692,
            43.2576311,
            42.98146842,
            43.1165366,
            45.3456651,
            43.6474713,
            43.46287573,
            44.41071258,
            46.46609195,
            43.65659125,
            44.048023
           ],
           "legendgroup": "",
           "lon": [
            -78.940341,
            -74.73629779,
            -79.74479581,
            -79.87134089,
            -81.25401572,
            -79.2412197,
            -75.7639122,
            -79.7088933,
            -80.52091315,
            -79.68630597,
            -80.99805884,
            -79.37935801,
            -79.480239
           ],
           "marker": {
            "color": [
             50,
             0,
             0,
             0,
             100,
             0,
             100,
             75,
             100,
             0,
             0,
             93.54838709677419,
             100
            ],
            "coloraxis": "coloraxis",
            "size": [
             2,
             0,
             0,
             0,
             1,
             0,
             3,
             4,
             2,
             0,
             1,
             31,
             8
            ],
            "sizemode": "area",
            "sizeref": 0.034375
           },
           "mode": "markers",
           "name": "",
           "showlegend": false,
           "subplot": "mapbox",
           "type": "scattermapbox"
          }
         ],
         "name": "2020-03-06"
        },
        {
         "data": [
          {
           "hoverlabel": {
            "namelength": 0
           },
           "hovertemplate": "<b>%{hovertext}</b><br><br>Date=2020-03-07<br>Total=%{marker.size}<br>Reporting_PHU_Latitude=%{lat}<br>Reporting_PHU_Longitude=%{lon}<br>Total Percent Travelled=%{marker.color}",
           "hovertext": [
            "Durham Region Health Department",
            "Eastern Ontario Health Unit",
            "Halton Region Health Department",
            "Hamilton Public Health Services",
            "Middlesex-London Health Unit",
            "Niagara Region Public Health Department",
            "Ottawa Public Health",
            "Peel Public Health",
            "Region of Waterloo, Public Health",
            "Simcoe Muskoka District Health Unit",
            "Sudbury & District Health Unit",
            "Toronto Public Health",
            "York Region Public Health Services"
           ],
           "lat": [
            43.898605,
            45.02915233,
            43.41399692,
            43.2576311,
            42.98146842,
            43.1165366,
            45.3456651,
            43.6474713,
            43.46287573,
            44.41071258,
            46.46609195,
            43.65659125,
            44.048023
           ],
           "legendgroup": "",
           "lon": [
            -78.940341,
            -74.73629779,
            -79.74479581,
            -79.87134089,
            -81.25401572,
            -79.2412197,
            -75.7639122,
            -79.7088933,
            -80.52091315,
            -79.68630597,
            -80.99805884,
            -79.37935801,
            -79.480239
           ],
           "marker": {
            "color": [
             50,
             0,
             100,
             100,
             100,
             0,
             100,
             75,
             100,
             0,
             0,
             88.57142857142857,
             100
            ],
            "coloraxis": "coloraxis",
            "size": [
             2,
             0,
             1,
             1,
             1,
             0,
             3,
             4,
             2,
             0,
             1,
             35,
             9
            ],
            "sizemode": "area",
            "sizeref": 0.034375
           },
           "mode": "markers",
           "name": "",
           "showlegend": false,
           "subplot": "mapbox",
           "type": "scattermapbox"
          }
         ],
         "name": "2020-03-07"
        },
        {
         "data": [
          {
           "hoverlabel": {
            "namelength": 0
           },
           "hovertemplate": "<b>%{hovertext}</b><br><br>Date=2020-03-08<br>Total=%{marker.size}<br>Reporting_PHU_Latitude=%{lat}<br>Reporting_PHU_Longitude=%{lon}<br>Total Percent Travelled=%{marker.color}",
           "hovertext": [
            "Durham Region Health Department",
            "Eastern Ontario Health Unit",
            "Halton Region Health Department",
            "Hamilton Public Health Services",
            "Middlesex-London Health Unit",
            "Niagara Region Public Health Department",
            "Ottawa Public Health",
            "Peel Public Health",
            "Region of Waterloo, Public Health",
            "Simcoe Muskoka District Health Unit",
            "Sudbury & District Health Unit",
            "Toronto Public Health",
            "York Region Public Health Services"
           ],
           "lat": [
            43.898605,
            45.02915233,
            43.41399692,
            43.2576311,
            42.98146842,
            43.1165366,
            45.3456651,
            43.6474713,
            43.46287573,
            44.41071258,
            46.46609195,
            43.65659125,
            44.048023
           ],
           "legendgroup": "",
           "lon": [
            -78.940341,
            -74.73629779,
            -79.74479581,
            -79.87134089,
            -81.25401572,
            -79.2412197,
            -75.7639122,
            -79.7088933,
            -80.52091315,
            -79.68630597,
            -80.99805884,
            -79.37935801,
            -79.480239
           ],
           "marker": {
            "color": [
             50,
             0,
             100,
             100,
             100,
             0,
             100,
             75,
             100,
             100,
             0,
             84.21052631578948,
             100
            ],
            "coloraxis": "coloraxis",
            "size": [
             2,
             0,
             2,
             1,
             1,
             0,
             6,
             4,
             3,
             1,
             1,
             38,
             10
            ],
            "sizemode": "area",
            "sizeref": 0.034375
           },
           "mode": "markers",
           "name": "",
           "showlegend": false,
           "subplot": "mapbox",
           "type": "scattermapbox"
          }
         ],
         "name": "2020-03-08"
        },
        {
         "data": [
          {
           "hoverlabel": {
            "namelength": 0
           },
           "hovertemplate": "<b>%{hovertext}</b><br><br>Date=2020-03-09<br>Total=%{marker.size}<br>Reporting_PHU_Latitude=%{lat}<br>Reporting_PHU_Longitude=%{lon}<br>Total Percent Travelled=%{marker.color}",
           "hovertext": [
            "Durham Region Health Department",
            "Eastern Ontario Health Unit",
            "Halton Region Health Department",
            "Hamilton Public Health Services",
            "Middlesex-London Health Unit",
            "Niagara Region Public Health Department",
            "Ottawa Public Health",
            "Peel Public Health",
            "Region of Waterloo, Public Health",
            "Simcoe Muskoka District Health Unit",
            "Sudbury & District Health Unit",
            "Toronto Public Health",
            "York Region Public Health Services"
           ],
           "lat": [
            43.898605,
            45.02915233,
            43.41399692,
            43.2576311,
            42.98146842,
            43.1165366,
            45.3456651,
            43.6474713,
            43.46287573,
            44.41071258,
            46.46609195,
            43.65659125,
            44.048023
           ],
           "legendgroup": "",
           "lon": [
            -78.940341,
            -74.73629779,
            -79.74479581,
            -79.87134089,
            -81.25401572,
            -79.2412197,
            -75.7639122,
            -79.7088933,
            -80.52091315,
            -79.68630597,
            -80.99805884,
            -79.37935801,
            -79.480239
           ],
           "marker": {
            "color": [
             50,
             100,
             100,
             100,
             100,
             0,
             85.71428571428571,
             80,
             100,
             100,
             0,
             81.81818181818181,
             90.9090909090909
            ],
            "coloraxis": "coloraxis",
            "size": [
             2,
             1,
             3,
             1,
             1,
             0,
             7,
             5,
             3,
             1,
             1,
             44,
             11
            ],
            "sizemode": "area",
            "sizeref": 0.034375
           },
           "mode": "markers",
           "name": "",
           "showlegend": false,
           "subplot": "mapbox",
           "type": "scattermapbox"
          }
         ],
         "name": "2020-03-09"
        },
        {
         "data": [
          {
           "hoverlabel": {
            "namelength": 0
           },
           "hovertemplate": "<b>%{hovertext}</b><br><br>Date=2020-03-10<br>Total=%{marker.size}<br>Reporting_PHU_Latitude=%{lat}<br>Reporting_PHU_Longitude=%{lon}<br>Total Percent Travelled=%{marker.color}",
           "hovertext": [
            "Durham Region Health Department",
            "Eastern Ontario Health Unit",
            "Halton Region Health Department",
            "Hamilton Public Health Services",
            "Middlesex-London Health Unit",
            "Niagara Region Public Health Department",
            "Ottawa Public Health",
            "Peel Public Health",
            "Region of Waterloo, Public Health",
            "Simcoe Muskoka District Health Unit",
            "Sudbury & District Health Unit",
            "Toronto Public Health",
            "York Region Public Health Services"
           ],
           "lat": [
            43.898605,
            45.02915233,
            43.41399692,
            43.2576311,
            42.98146842,
            43.1165366,
            45.3456651,
            43.6474713,
            43.46287573,
            44.41071258,
            46.46609195,
            43.65659125,
            44.048023
           ],
           "legendgroup": "",
           "lon": [
            -78.940341,
            -74.73629779,
            -79.74479581,
            -79.87134089,
            -81.25401572,
            -79.2412197,
            -75.7639122,
            -79.7088933,
            -80.52091315,
            -79.68630597,
            -80.99805884,
            -79.37935801,
            -79.480239
           ],
           "marker": {
            "color": [
             50,
             100,
             100,
             100,
             100,
             0,
             85.71428571428571,
             75,
             100,
             100,
             0,
             80,
             90.9090909090909
            ],
            "coloraxis": "coloraxis",
            "size": [
             2,
             1,
             3,
             1,
             1,
             1,
             7,
             8,
             3,
             1,
             1,
             50,
             11
            ],
            "sizemode": "area",
            "sizeref": 0.034375
           },
           "mode": "markers",
           "name": "",
           "showlegend": false,
           "subplot": "mapbox",
           "type": "scattermapbox"
          }
         ],
         "name": "2020-03-10"
        },
        {
         "data": [
          {
           "hoverlabel": {
            "namelength": 0
           },
           "hovertemplate": "<b>%{hovertext}</b><br><br>Date=2020-03-11<br>Total=%{marker.size}<br>Reporting_PHU_Latitude=%{lat}<br>Reporting_PHU_Longitude=%{lon}<br>Total Percent Travelled=%{marker.color}",
           "hovertext": [
            "Durham Region Health Department",
            "Eastern Ontario Health Unit",
            "Halton Region Health Department",
            "Hamilton Public Health Services",
            "Middlesex-London Health Unit",
            "Niagara Region Public Health Department",
            "Ottawa Public Health",
            "Peel Public Health",
            "Region of Waterloo, Public Health",
            "Simcoe Muskoka District Health Unit",
            "Sudbury & District Health Unit",
            "Toronto Public Health",
            "York Region Public Health Services"
           ],
           "lat": [
            43.898605,
            45.02915233,
            43.41399692,
            43.2576311,
            42.98146842,
            43.1165366,
            45.3456651,
            43.6474713,
            43.46287573,
            44.41071258,
            46.46609195,
            43.65659125,
            44.048023
           ],
           "legendgroup": "",
           "lon": [
            -78.940341,
            -74.73629779,
            -79.74479581,
            -79.87134089,
            -81.25401572,
            -79.2412197,
            -75.7639122,
            -79.7088933,
            -80.52091315,
            -79.68630597,
            -80.99805884,
            -79.37935801,
            -79.480239
           ],
           "marker": {
            "color": [
             50,
             100,
             100,
             100,
             100,
             0,
             87.5,
             70,
             100,
             100,
             0,
             74.54545454545455,
             90.9090909090909
            ],
            "coloraxis": "coloraxis",
            "size": [
             2,
             1,
             3,
             1,
             1,
             1,
             8,
             10,
             3,
             1,
             2,
             55,
             11
            ],
            "sizemode": "area",
            "sizeref": 0.034375
           },
           "mode": "markers",
           "name": "",
           "showlegend": false,
           "subplot": "mapbox",
           "type": "scattermapbox"
          }
         ],
         "name": "2020-03-11"
        },
        {
         "data": [
          {
           "hoverlabel": {
            "namelength": 0
           },
           "hovertemplate": "<b>%{hovertext}</b><br><br>Date=2020-03-12<br>Total=%{marker.size}<br>Reporting_PHU_Latitude=%{lat}<br>Reporting_PHU_Longitude=%{lon}<br>Total Percent Travelled=%{marker.color}",
           "hovertext": [
            "Durham Region Health Department",
            "Eastern Ontario Health Unit",
            "Halton Region Health Department",
            "Hamilton Public Health Services",
            "Middlesex-London Health Unit",
            "Niagara Region Public Health Department",
            "Ottawa Public Health",
            "Peel Public Health",
            "Region of Waterloo, Public Health",
            "Simcoe Muskoka District Health Unit",
            "Sudbury & District Health Unit",
            "Toronto Public Health",
            "York Region Public Health Services"
           ],
           "lat": [
            43.898605,
            45.02915233,
            43.41399692,
            43.2576311,
            42.98146842,
            43.1165366,
            45.3456651,
            43.6474713,
            43.46287573,
            44.41071258,
            46.46609195,
            43.65659125,
            44.048023
           ],
           "legendgroup": "",
           "lon": [
            -78.940341,
            -74.73629779,
            -79.74479581,
            -79.87134089,
            -81.25401572,
            -79.2412197,
            -75.7639122,
            -79.7088933,
            -80.52091315,
            -79.68630597,
            -80.99805884,
            -79.37935801,
            -79.480239
           ],
           "marker": {
            "color": [
             50,
             100,
             100,
             100,
             100,
             0,
             88.88888888888889,
             70,
             100,
             100,
             0,
             74.54545454545455,
             90.9090909090909
            ],
            "coloraxis": "coloraxis",
            "size": [
             2,
             1,
             3,
             1,
             1,
             1,
             9,
             10,
             3,
             1,
             2,
             55,
             11
            ],
            "sizemode": "area",
            "sizeref": 0.034375
           },
           "mode": "markers",
           "name": "",
           "showlegend": false,
           "subplot": "mapbox",
           "type": "scattermapbox"
          }
         ],
         "name": "2020-03-12"
        }
       ],
       "layout": {
        "coloraxis": {
         "colorbar": {
          "title": {
           "text": "Total Percent Travelled"
          }
         },
         "colorscale": [
          [
           0,
           "red"
          ],
          [
           1,
           "blue"
          ]
         ]
        },
        "legend": {
         "itemsizing": "constant",
         "tracegroupgap": 0
        },
        "mapbox": {
         "center": {
          "lat": 44.05652471384615,
          "lon": -79.17889933692307
         },
         "domain": {
          "x": [
           0,
           1
          ],
          "y": [
           0,
           1
          ]
         },
         "style": "open-street-map",
         "zoom": 6
        },
        "sliders": [
         {
          "active": 0,
          "currentvalue": {
           "prefix": "Date="
          },
          "len": 0.9,
          "pad": {
           "b": 10,
           "t": 60
          },
          "steps": [
           {
            "args": [
             [
              "2020-01-21"
             ],
             {
              "frame": {
               "duration": 0,
               "redraw": true
              },
              "fromcurrent": true,
              "mode": "immediate",
              "transition": {
               "duration": 0,
               "easing": "linear"
              }
             }
            ],
            "label": "2020-01-21",
            "method": "animate"
           },
           {
            "args": [
             [
              "2020-01-22"
             ],
             {
              "frame": {
               "duration": 0,
               "redraw": true
              },
              "fromcurrent": true,
              "mode": "immediate",
              "transition": {
               "duration": 0,
               "easing": "linear"
              }
             }
            ],
            "label": "2020-01-22",
            "method": "animate"
           },
           {
            "args": [
             [
              "2020-01-23"
             ],
             {
              "frame": {
               "duration": 0,
               "redraw": true
              },
              "fromcurrent": true,
              "mode": "immediate",
              "transition": {
               "duration": 0,
               "easing": "linear"
              }
             }
            ],
            "label": "2020-01-23",
            "method": "animate"
           },
           {
            "args": [
             [
              "2020-01-24"
             ],
             {
              "frame": {
               "duration": 0,
               "redraw": true
              },
              "fromcurrent": true,
              "mode": "immediate",
              "transition": {
               "duration": 0,
               "easing": "linear"
              }
             }
            ],
            "label": "2020-01-24",
            "method": "animate"
           },
           {
            "args": [
             [
              "2020-01-25"
             ],
             {
              "frame": {
               "duration": 0,
               "redraw": true
              },
              "fromcurrent": true,
              "mode": "immediate",
              "transition": {
               "duration": 0,
               "easing": "linear"
              }
             }
            ],
            "label": "2020-01-25",
            "method": "animate"
           },
           {
            "args": [
             [
              "2020-01-26"
             ],
             {
              "frame": {
               "duration": 0,
               "redraw": true
              },
              "fromcurrent": true,
              "mode": "immediate",
              "transition": {
               "duration": 0,
               "easing": "linear"
              }
             }
            ],
            "label": "2020-01-26",
            "method": "animate"
           },
           {
            "args": [
             [
              "2020-01-27"
             ],
             {
              "frame": {
               "duration": 0,
               "redraw": true
              },
              "fromcurrent": true,
              "mode": "immediate",
              "transition": {
               "duration": 0,
               "easing": "linear"
              }
             }
            ],
            "label": "2020-01-27",
            "method": "animate"
           },
           {
            "args": [
             [
              "2020-01-28"
             ],
             {
              "frame": {
               "duration": 0,
               "redraw": true
              },
              "fromcurrent": true,
              "mode": "immediate",
              "transition": {
               "duration": 0,
               "easing": "linear"
              }
             }
            ],
            "label": "2020-01-28",
            "method": "animate"
           },
           {
            "args": [
             [
              "2020-01-29"
             ],
             {
              "frame": {
               "duration": 0,
               "redraw": true
              },
              "fromcurrent": true,
              "mode": "immediate",
              "transition": {
               "duration": 0,
               "easing": "linear"
              }
             }
            ],
            "label": "2020-01-29",
            "method": "animate"
           },
           {
            "args": [
             [
              "2020-01-30"
             ],
             {
              "frame": {
               "duration": 0,
               "redraw": true
              },
              "fromcurrent": true,
              "mode": "immediate",
              "transition": {
               "duration": 0,
               "easing": "linear"
              }
             }
            ],
            "label": "2020-01-30",
            "method": "animate"
           },
           {
            "args": [
             [
              "2020-01-31"
             ],
             {
              "frame": {
               "duration": 0,
               "redraw": true
              },
              "fromcurrent": true,
              "mode": "immediate",
              "transition": {
               "duration": 0,
               "easing": "linear"
              }
             }
            ],
            "label": "2020-01-31",
            "method": "animate"
           },
           {
            "args": [
             [
              "2020-02-01"
             ],
             {
              "frame": {
               "duration": 0,
               "redraw": true
              },
              "fromcurrent": true,
              "mode": "immediate",
              "transition": {
               "duration": 0,
               "easing": "linear"
              }
             }
            ],
            "label": "2020-02-01",
            "method": "animate"
           },
           {
            "args": [
             [
              "2020-02-02"
             ],
             {
              "frame": {
               "duration": 0,
               "redraw": true
              },
              "fromcurrent": true,
              "mode": "immediate",
              "transition": {
               "duration": 0,
               "easing": "linear"
              }
             }
            ],
            "label": "2020-02-02",
            "method": "animate"
           },
           {
            "args": [
             [
              "2020-02-03"
             ],
             {
              "frame": {
               "duration": 0,
               "redraw": true
              },
              "fromcurrent": true,
              "mode": "immediate",
              "transition": {
               "duration": 0,
               "easing": "linear"
              }
             }
            ],
            "label": "2020-02-03",
            "method": "animate"
           },
           {
            "args": [
             [
              "2020-02-04"
             ],
             {
              "frame": {
               "duration": 0,
               "redraw": true
              },
              "fromcurrent": true,
              "mode": "immediate",
              "transition": {
               "duration": 0,
               "easing": "linear"
              }
             }
            ],
            "label": "2020-02-04",
            "method": "animate"
           },
           {
            "args": [
             [
              "2020-02-05"
             ],
             {
              "frame": {
               "duration": 0,
               "redraw": true
              },
              "fromcurrent": true,
              "mode": "immediate",
              "transition": {
               "duration": 0,
               "easing": "linear"
              }
             }
            ],
            "label": "2020-02-05",
            "method": "animate"
           },
           {
            "args": [
             [
              "2020-02-06"
             ],
             {
              "frame": {
               "duration": 0,
               "redraw": true
              },
              "fromcurrent": true,
              "mode": "immediate",
              "transition": {
               "duration": 0,
               "easing": "linear"
              }
             }
            ],
            "label": "2020-02-06",
            "method": "animate"
           },
           {
            "args": [
             [
              "2020-02-07"
             ],
             {
              "frame": {
               "duration": 0,
               "redraw": true
              },
              "fromcurrent": true,
              "mode": "immediate",
              "transition": {
               "duration": 0,
               "easing": "linear"
              }
             }
            ],
            "label": "2020-02-07",
            "method": "animate"
           },
           {
            "args": [
             [
              "2020-02-08"
             ],
             {
              "frame": {
               "duration": 0,
               "redraw": true
              },
              "fromcurrent": true,
              "mode": "immediate",
              "transition": {
               "duration": 0,
               "easing": "linear"
              }
             }
            ],
            "label": "2020-02-08",
            "method": "animate"
           },
           {
            "args": [
             [
              "2020-02-09"
             ],
             {
              "frame": {
               "duration": 0,
               "redraw": true
              },
              "fromcurrent": true,
              "mode": "immediate",
              "transition": {
               "duration": 0,
               "easing": "linear"
              }
             }
            ],
            "label": "2020-02-09",
            "method": "animate"
           },
           {
            "args": [
             [
              "2020-02-10"
             ],
             {
              "frame": {
               "duration": 0,
               "redraw": true
              },
              "fromcurrent": true,
              "mode": "immediate",
              "transition": {
               "duration": 0,
               "easing": "linear"
              }
             }
            ],
            "label": "2020-02-10",
            "method": "animate"
           },
           {
            "args": [
             [
              "2020-02-11"
             ],
             {
              "frame": {
               "duration": 0,
               "redraw": true
              },
              "fromcurrent": true,
              "mode": "immediate",
              "transition": {
               "duration": 0,
               "easing": "linear"
              }
             }
            ],
            "label": "2020-02-11",
            "method": "animate"
           },
           {
            "args": [
             [
              "2020-02-12"
             ],
             {
              "frame": {
               "duration": 0,
               "redraw": true
              },
              "fromcurrent": true,
              "mode": "immediate",
              "transition": {
               "duration": 0,
               "easing": "linear"
              }
             }
            ],
            "label": "2020-02-12",
            "method": "animate"
           },
           {
            "args": [
             [
              "2020-02-13"
             ],
             {
              "frame": {
               "duration": 0,
               "redraw": true
              },
              "fromcurrent": true,
              "mode": "immediate",
              "transition": {
               "duration": 0,
               "easing": "linear"
              }
             }
            ],
            "label": "2020-02-13",
            "method": "animate"
           },
           {
            "args": [
             [
              "2020-02-14"
             ],
             {
              "frame": {
               "duration": 0,
               "redraw": true
              },
              "fromcurrent": true,
              "mode": "immediate",
              "transition": {
               "duration": 0,
               "easing": "linear"
              }
             }
            ],
            "label": "2020-02-14",
            "method": "animate"
           },
           {
            "args": [
             [
              "2020-02-15"
             ],
             {
              "frame": {
               "duration": 0,
               "redraw": true
              },
              "fromcurrent": true,
              "mode": "immediate",
              "transition": {
               "duration": 0,
               "easing": "linear"
              }
             }
            ],
            "label": "2020-02-15",
            "method": "animate"
           },
           {
            "args": [
             [
              "2020-02-16"
             ],
             {
              "frame": {
               "duration": 0,
               "redraw": true
              },
              "fromcurrent": true,
              "mode": "immediate",
              "transition": {
               "duration": 0,
               "easing": "linear"
              }
             }
            ],
            "label": "2020-02-16",
            "method": "animate"
           },
           {
            "args": [
             [
              "2020-02-17"
             ],
             {
              "frame": {
               "duration": 0,
               "redraw": true
              },
              "fromcurrent": true,
              "mode": "immediate",
              "transition": {
               "duration": 0,
               "easing": "linear"
              }
             }
            ],
            "label": "2020-02-17",
            "method": "animate"
           },
           {
            "args": [
             [
              "2020-02-18"
             ],
             {
              "frame": {
               "duration": 0,
               "redraw": true
              },
              "fromcurrent": true,
              "mode": "immediate",
              "transition": {
               "duration": 0,
               "easing": "linear"
              }
             }
            ],
            "label": "2020-02-18",
            "method": "animate"
           },
           {
            "args": [
             [
              "2020-02-19"
             ],
             {
              "frame": {
               "duration": 0,
               "redraw": true
              },
              "fromcurrent": true,
              "mode": "immediate",
              "transition": {
               "duration": 0,
               "easing": "linear"
              }
             }
            ],
            "label": "2020-02-19",
            "method": "animate"
           },
           {
            "args": [
             [
              "2020-02-20"
             ],
             {
              "frame": {
               "duration": 0,
               "redraw": true
              },
              "fromcurrent": true,
              "mode": "immediate",
              "transition": {
               "duration": 0,
               "easing": "linear"
              }
             }
            ],
            "label": "2020-02-20",
            "method": "animate"
           },
           {
            "args": [
             [
              "2020-02-21"
             ],
             {
              "frame": {
               "duration": 0,
               "redraw": true
              },
              "fromcurrent": true,
              "mode": "immediate",
              "transition": {
               "duration": 0,
               "easing": "linear"
              }
             }
            ],
            "label": "2020-02-21",
            "method": "animate"
           },
           {
            "args": [
             [
              "2020-02-22"
             ],
             {
              "frame": {
               "duration": 0,
               "redraw": true
              },
              "fromcurrent": true,
              "mode": "immediate",
              "transition": {
               "duration": 0,
               "easing": "linear"
              }
             }
            ],
            "label": "2020-02-22",
            "method": "animate"
           },
           {
            "args": [
             [
              "2020-02-23"
             ],
             {
              "frame": {
               "duration": 0,
               "redraw": true
              },
              "fromcurrent": true,
              "mode": "immediate",
              "transition": {
               "duration": 0,
               "easing": "linear"
              }
             }
            ],
            "label": "2020-02-23",
            "method": "animate"
           },
           {
            "args": [
             [
              "2020-02-24"
             ],
             {
              "frame": {
               "duration": 0,
               "redraw": true
              },
              "fromcurrent": true,
              "mode": "immediate",
              "transition": {
               "duration": 0,
               "easing": "linear"
              }
             }
            ],
            "label": "2020-02-24",
            "method": "animate"
           },
           {
            "args": [
             [
              "2020-02-25"
             ],
             {
              "frame": {
               "duration": 0,
               "redraw": true
              },
              "fromcurrent": true,
              "mode": "immediate",
              "transition": {
               "duration": 0,
               "easing": "linear"
              }
             }
            ],
            "label": "2020-02-25",
            "method": "animate"
           },
           {
            "args": [
             [
              "2020-02-26"
             ],
             {
              "frame": {
               "duration": 0,
               "redraw": true
              },
              "fromcurrent": true,
              "mode": "immediate",
              "transition": {
               "duration": 0,
               "easing": "linear"
              }
             }
            ],
            "label": "2020-02-26",
            "method": "animate"
           },
           {
            "args": [
             [
              "2020-02-27"
             ],
             {
              "frame": {
               "duration": 0,
               "redraw": true
              },
              "fromcurrent": true,
              "mode": "immediate",
              "transition": {
               "duration": 0,
               "easing": "linear"
              }
             }
            ],
            "label": "2020-02-27",
            "method": "animate"
           },
           {
            "args": [
             [
              "2020-02-28"
             ],
             {
              "frame": {
               "duration": 0,
               "redraw": true
              },
              "fromcurrent": true,
              "mode": "immediate",
              "transition": {
               "duration": 0,
               "easing": "linear"
              }
             }
            ],
            "label": "2020-02-28",
            "method": "animate"
           },
           {
            "args": [
             [
              "2020-02-29"
             ],
             {
              "frame": {
               "duration": 0,
               "redraw": true
              },
              "fromcurrent": true,
              "mode": "immediate",
              "transition": {
               "duration": 0,
               "easing": "linear"
              }
             }
            ],
            "label": "2020-02-29",
            "method": "animate"
           },
           {
            "args": [
             [
              "2020-03-01"
             ],
             {
              "frame": {
               "duration": 0,
               "redraw": true
              },
              "fromcurrent": true,
              "mode": "immediate",
              "transition": {
               "duration": 0,
               "easing": "linear"
              }
             }
            ],
            "label": "2020-03-01",
            "method": "animate"
           },
           {
            "args": [
             [
              "2020-03-02"
             ],
             {
              "frame": {
               "duration": 0,
               "redraw": true
              },
              "fromcurrent": true,
              "mode": "immediate",
              "transition": {
               "duration": 0,
               "easing": "linear"
              }
             }
            ],
            "label": "2020-03-02",
            "method": "animate"
           },
           {
            "args": [
             [
              "2020-03-03"
             ],
             {
              "frame": {
               "duration": 0,
               "redraw": true
              },
              "fromcurrent": true,
              "mode": "immediate",
              "transition": {
               "duration": 0,
               "easing": "linear"
              }
             }
            ],
            "label": "2020-03-03",
            "method": "animate"
           },
           {
            "args": [
             [
              "2020-03-04"
             ],
             {
              "frame": {
               "duration": 0,
               "redraw": true
              },
              "fromcurrent": true,
              "mode": "immediate",
              "transition": {
               "duration": 0,
               "easing": "linear"
              }
             }
            ],
            "label": "2020-03-04",
            "method": "animate"
           },
           {
            "args": [
             [
              "2020-03-05"
             ],
             {
              "frame": {
               "duration": 0,
               "redraw": true
              },
              "fromcurrent": true,
              "mode": "immediate",
              "transition": {
               "duration": 0,
               "easing": "linear"
              }
             }
            ],
            "label": "2020-03-05",
            "method": "animate"
           },
           {
            "args": [
             [
              "2020-03-06"
             ],
             {
              "frame": {
               "duration": 0,
               "redraw": true
              },
              "fromcurrent": true,
              "mode": "immediate",
              "transition": {
               "duration": 0,
               "easing": "linear"
              }
             }
            ],
            "label": "2020-03-06",
            "method": "animate"
           },
           {
            "args": [
             [
              "2020-03-07"
             ],
             {
              "frame": {
               "duration": 0,
               "redraw": true
              },
              "fromcurrent": true,
              "mode": "immediate",
              "transition": {
               "duration": 0,
               "easing": "linear"
              }
             }
            ],
            "label": "2020-03-07",
            "method": "animate"
           },
           {
            "args": [
             [
              "2020-03-08"
             ],
             {
              "frame": {
               "duration": 0,
               "redraw": true
              },
              "fromcurrent": true,
              "mode": "immediate",
              "transition": {
               "duration": 0,
               "easing": "linear"
              }
             }
            ],
            "label": "2020-03-08",
            "method": "animate"
           },
           {
            "args": [
             [
              "2020-03-09"
             ],
             {
              "frame": {
               "duration": 0,
               "redraw": true
              },
              "fromcurrent": true,
              "mode": "immediate",
              "transition": {
               "duration": 0,
               "easing": "linear"
              }
             }
            ],
            "label": "2020-03-09",
            "method": "animate"
           },
           {
            "args": [
             [
              "2020-03-10"
             ],
             {
              "frame": {
               "duration": 0,
               "redraw": true
              },
              "fromcurrent": true,
              "mode": "immediate",
              "transition": {
               "duration": 0,
               "easing": "linear"
              }
             }
            ],
            "label": "2020-03-10",
            "method": "animate"
           },
           {
            "args": [
             [
              "2020-03-11"
             ],
             {
              "frame": {
               "duration": 0,
               "redraw": true
              },
              "fromcurrent": true,
              "mode": "immediate",
              "transition": {
               "duration": 0,
               "easing": "linear"
              }
             }
            ],
            "label": "2020-03-11",
            "method": "animate"
           },
           {
            "args": [
             [
              "2020-03-12"
             ],
             {
              "frame": {
               "duration": 0,
               "redraw": true
              },
              "fromcurrent": true,
              "mode": "immediate",
              "transition": {
               "duration": 0,
               "easing": "linear"
              }
             }
            ],
            "label": "2020-03-12",
            "method": "animate"
           }
          ],
          "x": 0.1,
          "xanchor": "left",
          "y": 0,
          "yanchor": "top"
         }
        ],
        "template": {
         "data": {
          "bar": [
           {
            "error_x": {
             "color": "#2a3f5f"
            },
            "error_y": {
             "color": "#2a3f5f"
            },
            "marker": {
             "line": {
              "color": "#E5ECF6",
              "width": 0.5
             }
            },
            "type": "bar"
           }
          ],
          "barpolar": [
           {
            "marker": {
             "line": {
              "color": "#E5ECF6",
              "width": 0.5
             }
            },
            "type": "barpolar"
           }
          ],
          "carpet": [
           {
            "aaxis": {
             "endlinecolor": "#2a3f5f",
             "gridcolor": "white",
             "linecolor": "white",
             "minorgridcolor": "white",
             "startlinecolor": "#2a3f5f"
            },
            "baxis": {
             "endlinecolor": "#2a3f5f",
             "gridcolor": "white",
             "linecolor": "white",
             "minorgridcolor": "white",
             "startlinecolor": "#2a3f5f"
            },
            "type": "carpet"
           }
          ],
          "choropleth": [
           {
            "colorbar": {
             "outlinewidth": 0,
             "ticks": ""
            },
            "type": "choropleth"
           }
          ],
          "contour": [
           {
            "colorbar": {
             "outlinewidth": 0,
             "ticks": ""
            },
            "colorscale": [
             [
              0,
              "#0d0887"
             ],
             [
              0.1111111111111111,
              "#46039f"
             ],
             [
              0.2222222222222222,
              "#7201a8"
             ],
             [
              0.3333333333333333,
              "#9c179e"
             ],
             [
              0.4444444444444444,
              "#bd3786"
             ],
             [
              0.5555555555555556,
              "#d8576b"
             ],
             [
              0.6666666666666666,
              "#ed7953"
             ],
             [
              0.7777777777777778,
              "#fb9f3a"
             ],
             [
              0.8888888888888888,
              "#fdca26"
             ],
             [
              1,
              "#f0f921"
             ]
            ],
            "type": "contour"
           }
          ],
          "contourcarpet": [
           {
            "colorbar": {
             "outlinewidth": 0,
             "ticks": ""
            },
            "type": "contourcarpet"
           }
          ],
          "heatmap": [
           {
            "colorbar": {
             "outlinewidth": 0,
             "ticks": ""
            },
            "colorscale": [
             [
              0,
              "#0d0887"
             ],
             [
              0.1111111111111111,
              "#46039f"
             ],
             [
              0.2222222222222222,
              "#7201a8"
             ],
             [
              0.3333333333333333,
              "#9c179e"
             ],
             [
              0.4444444444444444,
              "#bd3786"
             ],
             [
              0.5555555555555556,
              "#d8576b"
             ],
             [
              0.6666666666666666,
              "#ed7953"
             ],
             [
              0.7777777777777778,
              "#fb9f3a"
             ],
             [
              0.8888888888888888,
              "#fdca26"
             ],
             [
              1,
              "#f0f921"
             ]
            ],
            "type": "heatmap"
           }
          ],
          "heatmapgl": [
           {
            "colorbar": {
             "outlinewidth": 0,
             "ticks": ""
            },
            "colorscale": [
             [
              0,
              "#0d0887"
             ],
             [
              0.1111111111111111,
              "#46039f"
             ],
             [
              0.2222222222222222,
              "#7201a8"
             ],
             [
              0.3333333333333333,
              "#9c179e"
             ],
             [
              0.4444444444444444,
              "#bd3786"
             ],
             [
              0.5555555555555556,
              "#d8576b"
             ],
             [
              0.6666666666666666,
              "#ed7953"
             ],
             [
              0.7777777777777778,
              "#fb9f3a"
             ],
             [
              0.8888888888888888,
              "#fdca26"
             ],
             [
              1,
              "#f0f921"
             ]
            ],
            "type": "heatmapgl"
           }
          ],
          "histogram": [
           {
            "marker": {
             "colorbar": {
              "outlinewidth": 0,
              "ticks": ""
             }
            },
            "type": "histogram"
           }
          ],
          "histogram2d": [
           {
            "colorbar": {
             "outlinewidth": 0,
             "ticks": ""
            },
            "colorscale": [
             [
              0,
              "#0d0887"
             ],
             [
              0.1111111111111111,
              "#46039f"
             ],
             [
              0.2222222222222222,
              "#7201a8"
             ],
             [
              0.3333333333333333,
              "#9c179e"
             ],
             [
              0.4444444444444444,
              "#bd3786"
             ],
             [
              0.5555555555555556,
              "#d8576b"
             ],
             [
              0.6666666666666666,
              "#ed7953"
             ],
             [
              0.7777777777777778,
              "#fb9f3a"
             ],
             [
              0.8888888888888888,
              "#fdca26"
             ],
             [
              1,
              "#f0f921"
             ]
            ],
            "type": "histogram2d"
           }
          ],
          "histogram2dcontour": [
           {
            "colorbar": {
             "outlinewidth": 0,
             "ticks": ""
            },
            "colorscale": [
             [
              0,
              "#0d0887"
             ],
             [
              0.1111111111111111,
              "#46039f"
             ],
             [
              0.2222222222222222,
              "#7201a8"
             ],
             [
              0.3333333333333333,
              "#9c179e"
             ],
             [
              0.4444444444444444,
              "#bd3786"
             ],
             [
              0.5555555555555556,
              "#d8576b"
             ],
             [
              0.6666666666666666,
              "#ed7953"
             ],
             [
              0.7777777777777778,
              "#fb9f3a"
             ],
             [
              0.8888888888888888,
              "#fdca26"
             ],
             [
              1,
              "#f0f921"
             ]
            ],
            "type": "histogram2dcontour"
           }
          ],
          "mesh3d": [
           {
            "colorbar": {
             "outlinewidth": 0,
             "ticks": ""
            },
            "type": "mesh3d"
           }
          ],
          "parcoords": [
           {
            "line": {
             "colorbar": {
              "outlinewidth": 0,
              "ticks": ""
             }
            },
            "type": "parcoords"
           }
          ],
          "pie": [
           {
            "automargin": true,
            "type": "pie"
           }
          ],
          "scatter": [
           {
            "marker": {
             "colorbar": {
              "outlinewidth": 0,
              "ticks": ""
             }
            },
            "type": "scatter"
           }
          ],
          "scatter3d": [
           {
            "line": {
             "colorbar": {
              "outlinewidth": 0,
              "ticks": ""
             }
            },
            "marker": {
             "colorbar": {
              "outlinewidth": 0,
              "ticks": ""
             }
            },
            "type": "scatter3d"
           }
          ],
          "scattercarpet": [
           {
            "marker": {
             "colorbar": {
              "outlinewidth": 0,
              "ticks": ""
             }
            },
            "type": "scattercarpet"
           }
          ],
          "scattergeo": [
           {
            "marker": {
             "colorbar": {
              "outlinewidth": 0,
              "ticks": ""
             }
            },
            "type": "scattergeo"
           }
          ],
          "scattergl": [
           {
            "marker": {
             "colorbar": {
              "outlinewidth": 0,
              "ticks": ""
             }
            },
            "type": "scattergl"
           }
          ],
          "scattermapbox": [
           {
            "marker": {
             "colorbar": {
              "outlinewidth": 0,
              "ticks": ""
             }
            },
            "type": "scattermapbox"
           }
          ],
          "scatterpolar": [
           {
            "marker": {
             "colorbar": {
              "outlinewidth": 0,
              "ticks": ""
             }
            },
            "type": "scatterpolar"
           }
          ],
          "scatterpolargl": [
           {
            "marker": {
             "colorbar": {
              "outlinewidth": 0,
              "ticks": ""
             }
            },
            "type": "scatterpolargl"
           }
          ],
          "scatterternary": [
           {
            "marker": {
             "colorbar": {
              "outlinewidth": 0,
              "ticks": ""
             }
            },
            "type": "scatterternary"
           }
          ],
          "surface": [
           {
            "colorbar": {
             "outlinewidth": 0,
             "ticks": ""
            },
            "colorscale": [
             [
              0,
              "#0d0887"
             ],
             [
              0.1111111111111111,
              "#46039f"
             ],
             [
              0.2222222222222222,
              "#7201a8"
             ],
             [
              0.3333333333333333,
              "#9c179e"
             ],
             [
              0.4444444444444444,
              "#bd3786"
             ],
             [
              0.5555555555555556,
              "#d8576b"
             ],
             [
              0.6666666666666666,
              "#ed7953"
             ],
             [
              0.7777777777777778,
              "#fb9f3a"
             ],
             [
              0.8888888888888888,
              "#fdca26"
             ],
             [
              1,
              "#f0f921"
             ]
            ],
            "type": "surface"
           }
          ],
          "table": [
           {
            "cells": {
             "fill": {
              "color": "#EBF0F8"
             },
             "line": {
              "color": "white"
             }
            },
            "header": {
             "fill": {
              "color": "#C8D4E3"
             },
             "line": {
              "color": "white"
             }
            },
            "type": "table"
           }
          ]
         },
         "layout": {
          "annotationdefaults": {
           "arrowcolor": "#2a3f5f",
           "arrowhead": 0,
           "arrowwidth": 1
          },
          "coloraxis": {
           "colorbar": {
            "outlinewidth": 0,
            "ticks": ""
           }
          },
          "colorscale": {
           "diverging": [
            [
             0,
             "#8e0152"
            ],
            [
             0.1,
             "#c51b7d"
            ],
            [
             0.2,
             "#de77ae"
            ],
            [
             0.3,
             "#f1b6da"
            ],
            [
             0.4,
             "#fde0ef"
            ],
            [
             0.5,
             "#f7f7f7"
            ],
            [
             0.6,
             "#e6f5d0"
            ],
            [
             0.7,
             "#b8e186"
            ],
            [
             0.8,
             "#7fbc41"
            ],
            [
             0.9,
             "#4d9221"
            ],
            [
             1,
             "#276419"
            ]
           ],
           "sequential": [
            [
             0,
             "#0d0887"
            ],
            [
             0.1111111111111111,
             "#46039f"
            ],
            [
             0.2222222222222222,
             "#7201a8"
            ],
            [
             0.3333333333333333,
             "#9c179e"
            ],
            [
             0.4444444444444444,
             "#bd3786"
            ],
            [
             0.5555555555555556,
             "#d8576b"
            ],
            [
             0.6666666666666666,
             "#ed7953"
            ],
            [
             0.7777777777777778,
             "#fb9f3a"
            ],
            [
             0.8888888888888888,
             "#fdca26"
            ],
            [
             1,
             "#f0f921"
            ]
           ],
           "sequentialminus": [
            [
             0,
             "#0d0887"
            ],
            [
             0.1111111111111111,
             "#46039f"
            ],
            [
             0.2222222222222222,
             "#7201a8"
            ],
            [
             0.3333333333333333,
             "#9c179e"
            ],
            [
             0.4444444444444444,
             "#bd3786"
            ],
            [
             0.5555555555555556,
             "#d8576b"
            ],
            [
             0.6666666666666666,
             "#ed7953"
            ],
            [
             0.7777777777777778,
             "#fb9f3a"
            ],
            [
             0.8888888888888888,
             "#fdca26"
            ],
            [
             1,
             "#f0f921"
            ]
           ]
          },
          "colorway": [
           "#636efa",
           "#EF553B",
           "#00cc96",
           "#ab63fa",
           "#FFA15A",
           "#19d3f3",
           "#FF6692",
           "#B6E880",
           "#FF97FF",
           "#FECB52"
          ],
          "font": {
           "color": "#2a3f5f"
          },
          "geo": {
           "bgcolor": "white",
           "lakecolor": "white",
           "landcolor": "#E5ECF6",
           "showlakes": true,
           "showland": true,
           "subunitcolor": "white"
          },
          "hoverlabel": {
           "align": "left"
          },
          "hovermode": "closest",
          "mapbox": {
           "style": "light"
          },
          "paper_bgcolor": "white",
          "plot_bgcolor": "#E5ECF6",
          "polar": {
           "angularaxis": {
            "gridcolor": "white",
            "linecolor": "white",
            "ticks": ""
           },
           "bgcolor": "#E5ECF6",
           "radialaxis": {
            "gridcolor": "white",
            "linecolor": "white",
            "ticks": ""
           }
          },
          "scene": {
           "xaxis": {
            "backgroundcolor": "#E5ECF6",
            "gridcolor": "white",
            "gridwidth": 2,
            "linecolor": "white",
            "showbackground": true,
            "ticks": "",
            "zerolinecolor": "white"
           },
           "yaxis": {
            "backgroundcolor": "#E5ECF6",
            "gridcolor": "white",
            "gridwidth": 2,
            "linecolor": "white",
            "showbackground": true,
            "ticks": "",
            "zerolinecolor": "white"
           },
           "zaxis": {
            "backgroundcolor": "#E5ECF6",
            "gridcolor": "white",
            "gridwidth": 2,
            "linecolor": "white",
            "showbackground": true,
            "ticks": "",
            "zerolinecolor": "white"
           }
          },
          "shapedefaults": {
           "line": {
            "color": "#2a3f5f"
           }
          },
          "ternary": {
           "aaxis": {
            "gridcolor": "white",
            "linecolor": "white",
            "ticks": ""
           },
           "baxis": {
            "gridcolor": "white",
            "linecolor": "white",
            "ticks": ""
           },
           "bgcolor": "#E5ECF6",
           "caxis": {
            "gridcolor": "white",
            "linecolor": "white",
            "ticks": ""
           }
          },
          "title": {
           "x": 0.05
          },
          "xaxis": {
           "automargin": true,
           "gridcolor": "white",
           "linecolor": "white",
           "ticks": "",
           "title": {
            "standoff": 15
           },
           "zerolinecolor": "white",
           "zerolinewidth": 2
          },
          "yaxis": {
           "automargin": true,
           "gridcolor": "white",
           "linecolor": "white",
           "ticks": "",
           "title": {
            "standoff": 15
           },
           "zerolinecolor": "white",
           "zerolinewidth": 2
          }
         }
        },
        "title": {
         "text": "Cumulative Cases per Region over Time from 2020-01-21 to 2020-03-12"
        },
        "updatemenus": [
         {
          "buttons": [
           {
            "args": [
             null,
             {
              "frame": {
               "duration": 500,
               "redraw": true
              },
              "fromcurrent": true,
              "mode": "immediate",
              "transition": {
               "duration": 500,
               "easing": "linear"
              }
             }
            ],
            "label": "&#9654;",
            "method": "animate"
           },
           {
            "args": [
             [
              null
             ],
             {
              "frame": {
               "duration": 0,
               "redraw": true
              },
              "fromcurrent": true,
              "mode": "immediate",
              "transition": {
               "duration": 0,
               "easing": "linear"
              }
             }
            ],
            "label": "&#9724;",
            "method": "animate"
           }
          ],
          "direction": "left",
          "pad": {
           "r": 10,
           "t": 70
          },
          "showactive": false,
          "type": "buttons",
          "x": 0.1,
          "xanchor": "right",
          "y": 0,
          "yanchor": "top"
         }
        ]
       }
      },
      "text/html": [
       "<div>\n",
       "        \n",
       "        \n",
       "            <div id=\"2ba9f83f-5983-4d41-a829-6ff8f103e9d7\" class=\"plotly-graph-div\" style=\"height:525px; width:100%;\"></div>\n",
       "            <script type=\"text/javascript\">\n",
       "                require([\"plotly\"], function(Plotly) {\n",
       "                    window.PLOTLYENV=window.PLOTLYENV || {};\n",
       "                    \n",
       "                if (document.getElementById(\"2ba9f83f-5983-4d41-a829-6ff8f103e9d7\")) {\n",
       "                    Plotly.newPlot(\n",
       "                        '2ba9f83f-5983-4d41-a829-6ff8f103e9d7',\n",
       "                        [{\"hoverlabel\": {\"namelength\": 0}, \"hovertemplate\": \"<b>%{hovertext}</b><br><br>Date=2020-01-21<br>Total=%{marker.size}<br>Reporting_PHU_Latitude=%{lat}<br>Reporting_PHU_Longitude=%{lon}<br>Total Percent Travelled=%{marker.color}\", \"hovertext\": [\"Durham Region Health Department\", \"Eastern Ontario Health Unit\", \"Halton Region Health Department\", \"Hamilton Public Health Services\", \"Middlesex-London Health Unit\", \"Niagara Region Public Health Department\", \"Ottawa Public Health\", \"Peel Public Health\", \"Region of Waterloo, Public Health\", \"Simcoe Muskoka District Health Unit\", \"Sudbury & District Health Unit\", \"Toronto Public Health\", \"York Region Public Health Services\"], \"lat\": [43.898605, 45.02915233, 43.41399692, 43.2576311, 42.98146842, 43.1165366, 45.3456651, 43.6474713, 43.46287573, 44.41071258, 46.46609195, 43.65659125, 44.048023], \"legendgroup\": \"\", \"lon\": [-78.940341, -74.73629779, -79.74479581, -79.87134089, -81.25401572, -79.2412197, -75.7639122, -79.7088933, -80.52091315, -79.68630597, -80.99805884, -79.37935801, -79.480239], \"marker\": {\"color\": [0.0, 0.0, 0.0, 0.0, 0.0, 0.0, 0.0, 0.0, 0.0, 0.0, 0.0, 100.0, 0.0], \"coloraxis\": \"coloraxis\", \"size\": [0, 0, 0, 0, 0, 0, 0, 0, 0, 0, 0, 1, 0], \"sizemode\": \"area\", \"sizeref\": 0.034375}, \"mode\": \"markers\", \"name\": \"\", \"showlegend\": false, \"subplot\": \"mapbox\", \"type\": \"scattermapbox\"}],\n",
       "                        {\"coloraxis\": {\"colorbar\": {\"title\": {\"text\": \"Total Percent Travelled\"}}, \"colorscale\": [[0.0, \"red\"], [1.0, \"blue\"]]}, \"legend\": {\"itemsizing\": \"constant\", \"tracegroupgap\": 0}, \"mapbox\": {\"center\": {\"lat\": 44.05652471384615, \"lon\": -79.17889933692307}, \"domain\": {\"x\": [0.0, 1.0], \"y\": [0.0, 1.0]}, \"style\": \"open-street-map\", \"zoom\": 6}, \"sliders\": [{\"active\": 0, \"currentvalue\": {\"prefix\": \"Date=\"}, \"len\": 0.9, \"pad\": {\"b\": 10, \"t\": 60}, \"steps\": [{\"args\": [[\"2020-01-21\"], {\"frame\": {\"duration\": 0, \"redraw\": true}, \"fromcurrent\": true, \"mode\": \"immediate\", \"transition\": {\"duration\": 0, \"easing\": \"linear\"}}], \"label\": \"2020-01-21\", \"method\": \"animate\"}, {\"args\": [[\"2020-01-22\"], {\"frame\": {\"duration\": 0, \"redraw\": true}, \"fromcurrent\": true, \"mode\": \"immediate\", \"transition\": {\"duration\": 0, \"easing\": \"linear\"}}], \"label\": \"2020-01-22\", \"method\": \"animate\"}, {\"args\": [[\"2020-01-23\"], {\"frame\": {\"duration\": 0, \"redraw\": true}, \"fromcurrent\": true, \"mode\": \"immediate\", \"transition\": {\"duration\": 0, \"easing\": \"linear\"}}], \"label\": \"2020-01-23\", \"method\": \"animate\"}, {\"args\": [[\"2020-01-24\"], {\"frame\": {\"duration\": 0, \"redraw\": true}, \"fromcurrent\": true, \"mode\": \"immediate\", \"transition\": {\"duration\": 0, \"easing\": \"linear\"}}], \"label\": \"2020-01-24\", \"method\": \"animate\"}, {\"args\": [[\"2020-01-25\"], {\"frame\": {\"duration\": 0, \"redraw\": true}, \"fromcurrent\": true, \"mode\": \"immediate\", \"transition\": {\"duration\": 0, \"easing\": \"linear\"}}], \"label\": \"2020-01-25\", \"method\": \"animate\"}, {\"args\": [[\"2020-01-26\"], {\"frame\": {\"duration\": 0, \"redraw\": true}, \"fromcurrent\": true, \"mode\": \"immediate\", \"transition\": {\"duration\": 0, \"easing\": \"linear\"}}], \"label\": \"2020-01-26\", \"method\": \"animate\"}, {\"args\": [[\"2020-01-27\"], {\"frame\": {\"duration\": 0, \"redraw\": true}, \"fromcurrent\": true, \"mode\": \"immediate\", \"transition\": {\"duration\": 0, \"easing\": \"linear\"}}], \"label\": \"2020-01-27\", \"method\": \"animate\"}, {\"args\": [[\"2020-01-28\"], {\"frame\": {\"duration\": 0, \"redraw\": true}, \"fromcurrent\": true, \"mode\": \"immediate\", \"transition\": {\"duration\": 0, \"easing\": \"linear\"}}], \"label\": \"2020-01-28\", \"method\": \"animate\"}, {\"args\": [[\"2020-01-29\"], {\"frame\": {\"duration\": 0, \"redraw\": true}, \"fromcurrent\": true, \"mode\": \"immediate\", \"transition\": {\"duration\": 0, \"easing\": \"linear\"}}], \"label\": \"2020-01-29\", \"method\": \"animate\"}, {\"args\": [[\"2020-01-30\"], {\"frame\": {\"duration\": 0, \"redraw\": true}, \"fromcurrent\": true, \"mode\": \"immediate\", \"transition\": {\"duration\": 0, \"easing\": \"linear\"}}], \"label\": \"2020-01-30\", \"method\": \"animate\"}, {\"args\": [[\"2020-01-31\"], {\"frame\": {\"duration\": 0, \"redraw\": true}, \"fromcurrent\": true, \"mode\": \"immediate\", \"transition\": {\"duration\": 0, \"easing\": \"linear\"}}], \"label\": \"2020-01-31\", \"method\": \"animate\"}, {\"args\": [[\"2020-02-01\"], {\"frame\": {\"duration\": 0, \"redraw\": true}, \"fromcurrent\": true, \"mode\": \"immediate\", \"transition\": {\"duration\": 0, \"easing\": \"linear\"}}], \"label\": \"2020-02-01\", \"method\": \"animate\"}, {\"args\": [[\"2020-02-02\"], {\"frame\": {\"duration\": 0, \"redraw\": true}, \"fromcurrent\": true, \"mode\": \"immediate\", \"transition\": {\"duration\": 0, \"easing\": \"linear\"}}], \"label\": \"2020-02-02\", \"method\": \"animate\"}, {\"args\": [[\"2020-02-03\"], {\"frame\": {\"duration\": 0, \"redraw\": true}, \"fromcurrent\": true, \"mode\": \"immediate\", \"transition\": {\"duration\": 0, \"easing\": \"linear\"}}], \"label\": \"2020-02-03\", \"method\": \"animate\"}, {\"args\": [[\"2020-02-04\"], {\"frame\": {\"duration\": 0, \"redraw\": true}, \"fromcurrent\": true, \"mode\": \"immediate\", \"transition\": {\"duration\": 0, \"easing\": \"linear\"}}], \"label\": \"2020-02-04\", \"method\": \"animate\"}, {\"args\": [[\"2020-02-05\"], {\"frame\": {\"duration\": 0, \"redraw\": true}, \"fromcurrent\": true, \"mode\": \"immediate\", \"transition\": {\"duration\": 0, \"easing\": \"linear\"}}], \"label\": \"2020-02-05\", \"method\": \"animate\"}, {\"args\": [[\"2020-02-06\"], {\"frame\": {\"duration\": 0, \"redraw\": true}, \"fromcurrent\": true, \"mode\": \"immediate\", \"transition\": {\"duration\": 0, \"easing\": \"linear\"}}], \"label\": \"2020-02-06\", \"method\": \"animate\"}, {\"args\": [[\"2020-02-07\"], {\"frame\": {\"duration\": 0, \"redraw\": true}, \"fromcurrent\": true, \"mode\": \"immediate\", \"transition\": {\"duration\": 0, \"easing\": \"linear\"}}], \"label\": \"2020-02-07\", \"method\": \"animate\"}, {\"args\": [[\"2020-02-08\"], {\"frame\": {\"duration\": 0, \"redraw\": true}, \"fromcurrent\": true, \"mode\": \"immediate\", \"transition\": {\"duration\": 0, \"easing\": \"linear\"}}], \"label\": \"2020-02-08\", \"method\": \"animate\"}, {\"args\": [[\"2020-02-09\"], {\"frame\": {\"duration\": 0, \"redraw\": true}, \"fromcurrent\": true, \"mode\": \"immediate\", \"transition\": {\"duration\": 0, \"easing\": \"linear\"}}], \"label\": \"2020-02-09\", \"method\": \"animate\"}, {\"args\": [[\"2020-02-10\"], {\"frame\": {\"duration\": 0, \"redraw\": true}, \"fromcurrent\": true, \"mode\": \"immediate\", \"transition\": {\"duration\": 0, \"easing\": \"linear\"}}], \"label\": \"2020-02-10\", \"method\": \"animate\"}, {\"args\": [[\"2020-02-11\"], {\"frame\": {\"duration\": 0, \"redraw\": true}, \"fromcurrent\": true, \"mode\": \"immediate\", \"transition\": {\"duration\": 0, \"easing\": \"linear\"}}], \"label\": \"2020-02-11\", \"method\": \"animate\"}, {\"args\": [[\"2020-02-12\"], {\"frame\": {\"duration\": 0, \"redraw\": true}, \"fromcurrent\": true, \"mode\": \"immediate\", \"transition\": {\"duration\": 0, \"easing\": \"linear\"}}], \"label\": \"2020-02-12\", \"method\": \"animate\"}, {\"args\": [[\"2020-02-13\"], {\"frame\": {\"duration\": 0, \"redraw\": true}, \"fromcurrent\": true, \"mode\": \"immediate\", \"transition\": {\"duration\": 0, \"easing\": \"linear\"}}], \"label\": \"2020-02-13\", \"method\": \"animate\"}, {\"args\": [[\"2020-02-14\"], {\"frame\": {\"duration\": 0, \"redraw\": true}, \"fromcurrent\": true, \"mode\": \"immediate\", \"transition\": {\"duration\": 0, \"easing\": \"linear\"}}], \"label\": \"2020-02-14\", \"method\": \"animate\"}, {\"args\": [[\"2020-02-15\"], {\"frame\": {\"duration\": 0, \"redraw\": true}, \"fromcurrent\": true, \"mode\": \"immediate\", \"transition\": {\"duration\": 0, \"easing\": \"linear\"}}], \"label\": \"2020-02-15\", \"method\": \"animate\"}, {\"args\": [[\"2020-02-16\"], {\"frame\": {\"duration\": 0, \"redraw\": true}, \"fromcurrent\": true, \"mode\": \"immediate\", \"transition\": {\"duration\": 0, \"easing\": \"linear\"}}], \"label\": \"2020-02-16\", \"method\": \"animate\"}, {\"args\": [[\"2020-02-17\"], {\"frame\": {\"duration\": 0, \"redraw\": true}, \"fromcurrent\": true, \"mode\": \"immediate\", \"transition\": {\"duration\": 0, \"easing\": \"linear\"}}], \"label\": \"2020-02-17\", \"method\": \"animate\"}, {\"args\": [[\"2020-02-18\"], {\"frame\": {\"duration\": 0, \"redraw\": true}, \"fromcurrent\": true, \"mode\": \"immediate\", \"transition\": {\"duration\": 0, \"easing\": \"linear\"}}], \"label\": \"2020-02-18\", \"method\": \"animate\"}, {\"args\": [[\"2020-02-19\"], {\"frame\": {\"duration\": 0, \"redraw\": true}, \"fromcurrent\": true, \"mode\": \"immediate\", \"transition\": {\"duration\": 0, \"easing\": \"linear\"}}], \"label\": \"2020-02-19\", \"method\": \"animate\"}, {\"args\": [[\"2020-02-20\"], {\"frame\": {\"duration\": 0, \"redraw\": true}, \"fromcurrent\": true, \"mode\": \"immediate\", \"transition\": {\"duration\": 0, \"easing\": \"linear\"}}], \"label\": \"2020-02-20\", \"method\": \"animate\"}, {\"args\": [[\"2020-02-21\"], {\"frame\": {\"duration\": 0, \"redraw\": true}, \"fromcurrent\": true, \"mode\": \"immediate\", \"transition\": {\"duration\": 0, \"easing\": \"linear\"}}], \"label\": \"2020-02-21\", \"method\": \"animate\"}, {\"args\": [[\"2020-02-22\"], {\"frame\": {\"duration\": 0, \"redraw\": true}, \"fromcurrent\": true, \"mode\": \"immediate\", \"transition\": {\"duration\": 0, \"easing\": \"linear\"}}], \"label\": \"2020-02-22\", \"method\": \"animate\"}, {\"args\": [[\"2020-02-23\"], {\"frame\": {\"duration\": 0, \"redraw\": true}, \"fromcurrent\": true, \"mode\": \"immediate\", \"transition\": {\"duration\": 0, \"easing\": \"linear\"}}], \"label\": \"2020-02-23\", \"method\": \"animate\"}, {\"args\": [[\"2020-02-24\"], {\"frame\": {\"duration\": 0, \"redraw\": true}, \"fromcurrent\": true, \"mode\": \"immediate\", \"transition\": {\"duration\": 0, \"easing\": \"linear\"}}], \"label\": \"2020-02-24\", \"method\": \"animate\"}, {\"args\": [[\"2020-02-25\"], {\"frame\": {\"duration\": 0, \"redraw\": true}, \"fromcurrent\": true, \"mode\": \"immediate\", \"transition\": {\"duration\": 0, \"easing\": \"linear\"}}], \"label\": \"2020-02-25\", \"method\": \"animate\"}, {\"args\": [[\"2020-02-26\"], {\"frame\": {\"duration\": 0, \"redraw\": true}, \"fromcurrent\": true, \"mode\": \"immediate\", \"transition\": {\"duration\": 0, \"easing\": \"linear\"}}], \"label\": \"2020-02-26\", \"method\": \"animate\"}, {\"args\": [[\"2020-02-27\"], {\"frame\": {\"duration\": 0, \"redraw\": true}, \"fromcurrent\": true, \"mode\": \"immediate\", \"transition\": {\"duration\": 0, \"easing\": \"linear\"}}], \"label\": \"2020-02-27\", \"method\": \"animate\"}, {\"args\": [[\"2020-02-28\"], {\"frame\": {\"duration\": 0, \"redraw\": true}, \"fromcurrent\": true, \"mode\": \"immediate\", \"transition\": {\"duration\": 0, \"easing\": \"linear\"}}], \"label\": \"2020-02-28\", \"method\": \"animate\"}, {\"args\": [[\"2020-02-29\"], {\"frame\": {\"duration\": 0, \"redraw\": true}, \"fromcurrent\": true, \"mode\": \"immediate\", \"transition\": {\"duration\": 0, \"easing\": \"linear\"}}], \"label\": \"2020-02-29\", \"method\": \"animate\"}, {\"args\": [[\"2020-03-01\"], {\"frame\": {\"duration\": 0, \"redraw\": true}, \"fromcurrent\": true, \"mode\": \"immediate\", \"transition\": {\"duration\": 0, \"easing\": \"linear\"}}], \"label\": \"2020-03-01\", \"method\": \"animate\"}, {\"args\": [[\"2020-03-02\"], {\"frame\": {\"duration\": 0, \"redraw\": true}, \"fromcurrent\": true, \"mode\": \"immediate\", \"transition\": {\"duration\": 0, \"easing\": \"linear\"}}], \"label\": \"2020-03-02\", \"method\": \"animate\"}, {\"args\": [[\"2020-03-03\"], {\"frame\": {\"duration\": 0, \"redraw\": true}, \"fromcurrent\": true, \"mode\": \"immediate\", \"transition\": {\"duration\": 0, \"easing\": \"linear\"}}], \"label\": \"2020-03-03\", \"method\": \"animate\"}, {\"args\": [[\"2020-03-04\"], {\"frame\": {\"duration\": 0, \"redraw\": true}, \"fromcurrent\": true, \"mode\": \"immediate\", \"transition\": {\"duration\": 0, \"easing\": \"linear\"}}], \"label\": \"2020-03-04\", \"method\": \"animate\"}, {\"args\": [[\"2020-03-05\"], {\"frame\": {\"duration\": 0, \"redraw\": true}, \"fromcurrent\": true, \"mode\": \"immediate\", \"transition\": {\"duration\": 0, \"easing\": \"linear\"}}], \"label\": \"2020-03-05\", \"method\": \"animate\"}, {\"args\": [[\"2020-03-06\"], {\"frame\": {\"duration\": 0, \"redraw\": true}, \"fromcurrent\": true, \"mode\": \"immediate\", \"transition\": {\"duration\": 0, \"easing\": \"linear\"}}], \"label\": \"2020-03-06\", \"method\": \"animate\"}, {\"args\": [[\"2020-03-07\"], {\"frame\": {\"duration\": 0, \"redraw\": true}, \"fromcurrent\": true, \"mode\": \"immediate\", \"transition\": {\"duration\": 0, \"easing\": \"linear\"}}], \"label\": \"2020-03-07\", \"method\": \"animate\"}, {\"args\": [[\"2020-03-08\"], {\"frame\": {\"duration\": 0, \"redraw\": true}, \"fromcurrent\": true, \"mode\": \"immediate\", \"transition\": {\"duration\": 0, \"easing\": \"linear\"}}], \"label\": \"2020-03-08\", \"method\": \"animate\"}, {\"args\": [[\"2020-03-09\"], {\"frame\": {\"duration\": 0, \"redraw\": true}, \"fromcurrent\": true, \"mode\": \"immediate\", \"transition\": {\"duration\": 0, \"easing\": \"linear\"}}], \"label\": \"2020-03-09\", \"method\": \"animate\"}, {\"args\": [[\"2020-03-10\"], {\"frame\": {\"duration\": 0, \"redraw\": true}, \"fromcurrent\": true, \"mode\": \"immediate\", \"transition\": {\"duration\": 0, \"easing\": \"linear\"}}], \"label\": \"2020-03-10\", \"method\": \"animate\"}, {\"args\": [[\"2020-03-11\"], {\"frame\": {\"duration\": 0, \"redraw\": true}, \"fromcurrent\": true, \"mode\": \"immediate\", \"transition\": {\"duration\": 0, \"easing\": \"linear\"}}], \"label\": \"2020-03-11\", \"method\": \"animate\"}, {\"args\": [[\"2020-03-12\"], {\"frame\": {\"duration\": 0, \"redraw\": true}, \"fromcurrent\": true, \"mode\": \"immediate\", \"transition\": {\"duration\": 0, \"easing\": \"linear\"}}], \"label\": \"2020-03-12\", \"method\": \"animate\"}], \"x\": 0.1, \"xanchor\": \"left\", \"y\": 0, \"yanchor\": \"top\"}], \"template\": {\"data\": {\"bar\": [{\"error_x\": {\"color\": \"#2a3f5f\"}, \"error_y\": {\"color\": \"#2a3f5f\"}, \"marker\": {\"line\": {\"color\": \"#E5ECF6\", \"width\": 0.5}}, \"type\": \"bar\"}], \"barpolar\": [{\"marker\": {\"line\": {\"color\": \"#E5ECF6\", \"width\": 0.5}}, \"type\": \"barpolar\"}], \"carpet\": [{\"aaxis\": {\"endlinecolor\": \"#2a3f5f\", \"gridcolor\": \"white\", \"linecolor\": \"white\", \"minorgridcolor\": \"white\", \"startlinecolor\": \"#2a3f5f\"}, \"baxis\": {\"endlinecolor\": \"#2a3f5f\", \"gridcolor\": \"white\", \"linecolor\": \"white\", \"minorgridcolor\": \"white\", \"startlinecolor\": \"#2a3f5f\"}, \"type\": \"carpet\"}], \"choropleth\": [{\"colorbar\": {\"outlinewidth\": 0, \"ticks\": \"\"}, \"type\": \"choropleth\"}], \"contour\": [{\"colorbar\": {\"outlinewidth\": 0, \"ticks\": \"\"}, \"colorscale\": [[0.0, \"#0d0887\"], [0.1111111111111111, \"#46039f\"], [0.2222222222222222, \"#7201a8\"], [0.3333333333333333, \"#9c179e\"], [0.4444444444444444, \"#bd3786\"], [0.5555555555555556, \"#d8576b\"], [0.6666666666666666, \"#ed7953\"], [0.7777777777777778, \"#fb9f3a\"], [0.8888888888888888, \"#fdca26\"], [1.0, \"#f0f921\"]], \"type\": \"contour\"}], \"contourcarpet\": [{\"colorbar\": {\"outlinewidth\": 0, \"ticks\": \"\"}, \"type\": \"contourcarpet\"}], \"heatmap\": [{\"colorbar\": {\"outlinewidth\": 0, \"ticks\": \"\"}, \"colorscale\": [[0.0, \"#0d0887\"], [0.1111111111111111, \"#46039f\"], [0.2222222222222222, \"#7201a8\"], [0.3333333333333333, \"#9c179e\"], [0.4444444444444444, \"#bd3786\"], [0.5555555555555556, \"#d8576b\"], [0.6666666666666666, \"#ed7953\"], [0.7777777777777778, \"#fb9f3a\"], [0.8888888888888888, \"#fdca26\"], [1.0, \"#f0f921\"]], \"type\": \"heatmap\"}], \"heatmapgl\": [{\"colorbar\": {\"outlinewidth\": 0, \"ticks\": \"\"}, \"colorscale\": [[0.0, \"#0d0887\"], [0.1111111111111111, \"#46039f\"], [0.2222222222222222, \"#7201a8\"], [0.3333333333333333, \"#9c179e\"], [0.4444444444444444, \"#bd3786\"], [0.5555555555555556, \"#d8576b\"], [0.6666666666666666, \"#ed7953\"], [0.7777777777777778, \"#fb9f3a\"], [0.8888888888888888, \"#fdca26\"], [1.0, \"#f0f921\"]], \"type\": \"heatmapgl\"}], \"histogram\": [{\"marker\": {\"colorbar\": {\"outlinewidth\": 0, \"ticks\": \"\"}}, \"type\": \"histogram\"}], \"histogram2d\": [{\"colorbar\": {\"outlinewidth\": 0, \"ticks\": \"\"}, \"colorscale\": [[0.0, \"#0d0887\"], [0.1111111111111111, \"#46039f\"], [0.2222222222222222, \"#7201a8\"], [0.3333333333333333, \"#9c179e\"], [0.4444444444444444, \"#bd3786\"], [0.5555555555555556, \"#d8576b\"], [0.6666666666666666, \"#ed7953\"], [0.7777777777777778, \"#fb9f3a\"], [0.8888888888888888, \"#fdca26\"], [1.0, \"#f0f921\"]], \"type\": \"histogram2d\"}], \"histogram2dcontour\": [{\"colorbar\": {\"outlinewidth\": 0, \"ticks\": \"\"}, \"colorscale\": [[0.0, \"#0d0887\"], [0.1111111111111111, \"#46039f\"], [0.2222222222222222, \"#7201a8\"], [0.3333333333333333, \"#9c179e\"], [0.4444444444444444, \"#bd3786\"], [0.5555555555555556, \"#d8576b\"], [0.6666666666666666, \"#ed7953\"], [0.7777777777777778, \"#fb9f3a\"], [0.8888888888888888, \"#fdca26\"], [1.0, \"#f0f921\"]], \"type\": \"histogram2dcontour\"}], \"mesh3d\": [{\"colorbar\": {\"outlinewidth\": 0, \"ticks\": \"\"}, \"type\": \"mesh3d\"}], \"parcoords\": [{\"line\": {\"colorbar\": {\"outlinewidth\": 0, \"ticks\": \"\"}}, \"type\": \"parcoords\"}], \"pie\": [{\"automargin\": true, \"type\": \"pie\"}], \"scatter\": [{\"marker\": {\"colorbar\": {\"outlinewidth\": 0, \"ticks\": \"\"}}, \"type\": \"scatter\"}], \"scatter3d\": [{\"line\": {\"colorbar\": {\"outlinewidth\": 0, \"ticks\": \"\"}}, \"marker\": {\"colorbar\": {\"outlinewidth\": 0, \"ticks\": \"\"}}, \"type\": \"scatter3d\"}], \"scattercarpet\": [{\"marker\": {\"colorbar\": {\"outlinewidth\": 0, \"ticks\": \"\"}}, \"type\": \"scattercarpet\"}], \"scattergeo\": [{\"marker\": {\"colorbar\": {\"outlinewidth\": 0, \"ticks\": \"\"}}, \"type\": \"scattergeo\"}], \"scattergl\": [{\"marker\": {\"colorbar\": {\"outlinewidth\": 0, \"ticks\": \"\"}}, \"type\": \"scattergl\"}], \"scattermapbox\": [{\"marker\": {\"colorbar\": {\"outlinewidth\": 0, \"ticks\": \"\"}}, \"type\": \"scattermapbox\"}], \"scatterpolar\": [{\"marker\": {\"colorbar\": {\"outlinewidth\": 0, \"ticks\": \"\"}}, \"type\": \"scatterpolar\"}], \"scatterpolargl\": [{\"marker\": {\"colorbar\": {\"outlinewidth\": 0, \"ticks\": \"\"}}, \"type\": \"scatterpolargl\"}], \"scatterternary\": [{\"marker\": {\"colorbar\": {\"outlinewidth\": 0, \"ticks\": \"\"}}, \"type\": \"scatterternary\"}], \"surface\": [{\"colorbar\": {\"outlinewidth\": 0, \"ticks\": \"\"}, \"colorscale\": [[0.0, \"#0d0887\"], [0.1111111111111111, \"#46039f\"], [0.2222222222222222, \"#7201a8\"], [0.3333333333333333, \"#9c179e\"], [0.4444444444444444, \"#bd3786\"], [0.5555555555555556, \"#d8576b\"], [0.6666666666666666, \"#ed7953\"], [0.7777777777777778, \"#fb9f3a\"], [0.8888888888888888, \"#fdca26\"], [1.0, \"#f0f921\"]], \"type\": \"surface\"}], \"table\": [{\"cells\": {\"fill\": {\"color\": \"#EBF0F8\"}, \"line\": {\"color\": \"white\"}}, \"header\": {\"fill\": {\"color\": \"#C8D4E3\"}, \"line\": {\"color\": \"white\"}}, \"type\": \"table\"}]}, \"layout\": {\"annotationdefaults\": {\"arrowcolor\": \"#2a3f5f\", \"arrowhead\": 0, \"arrowwidth\": 1}, \"coloraxis\": {\"colorbar\": {\"outlinewidth\": 0, \"ticks\": \"\"}}, \"colorscale\": {\"diverging\": [[0, \"#8e0152\"], [0.1, \"#c51b7d\"], [0.2, \"#de77ae\"], [0.3, \"#f1b6da\"], [0.4, \"#fde0ef\"], [0.5, \"#f7f7f7\"], [0.6, \"#e6f5d0\"], [0.7, \"#b8e186\"], [0.8, \"#7fbc41\"], [0.9, \"#4d9221\"], [1, \"#276419\"]], \"sequential\": [[0.0, \"#0d0887\"], [0.1111111111111111, \"#46039f\"], [0.2222222222222222, \"#7201a8\"], [0.3333333333333333, \"#9c179e\"], [0.4444444444444444, \"#bd3786\"], [0.5555555555555556, \"#d8576b\"], [0.6666666666666666, \"#ed7953\"], [0.7777777777777778, \"#fb9f3a\"], [0.8888888888888888, \"#fdca26\"], [1.0, \"#f0f921\"]], \"sequentialminus\": [[0.0, \"#0d0887\"], [0.1111111111111111, \"#46039f\"], [0.2222222222222222, \"#7201a8\"], [0.3333333333333333, \"#9c179e\"], [0.4444444444444444, \"#bd3786\"], [0.5555555555555556, \"#d8576b\"], [0.6666666666666666, \"#ed7953\"], [0.7777777777777778, \"#fb9f3a\"], [0.8888888888888888, \"#fdca26\"], [1.0, \"#f0f921\"]]}, \"colorway\": [\"#636efa\", \"#EF553B\", \"#00cc96\", \"#ab63fa\", \"#FFA15A\", \"#19d3f3\", \"#FF6692\", \"#B6E880\", \"#FF97FF\", \"#FECB52\"], \"font\": {\"color\": \"#2a3f5f\"}, \"geo\": {\"bgcolor\": \"white\", \"lakecolor\": \"white\", \"landcolor\": \"#E5ECF6\", \"showlakes\": true, \"showland\": true, \"subunitcolor\": \"white\"}, \"hoverlabel\": {\"align\": \"left\"}, \"hovermode\": \"closest\", \"mapbox\": {\"style\": \"light\"}, \"paper_bgcolor\": \"white\", \"plot_bgcolor\": \"#E5ECF6\", \"polar\": {\"angularaxis\": {\"gridcolor\": \"white\", \"linecolor\": \"white\", \"ticks\": \"\"}, \"bgcolor\": \"#E5ECF6\", \"radialaxis\": {\"gridcolor\": \"white\", \"linecolor\": \"white\", \"ticks\": \"\"}}, \"scene\": {\"xaxis\": {\"backgroundcolor\": \"#E5ECF6\", \"gridcolor\": \"white\", \"gridwidth\": 2, \"linecolor\": \"white\", \"showbackground\": true, \"ticks\": \"\", \"zerolinecolor\": \"white\"}, \"yaxis\": {\"backgroundcolor\": \"#E5ECF6\", \"gridcolor\": \"white\", \"gridwidth\": 2, \"linecolor\": \"white\", \"showbackground\": true, \"ticks\": \"\", \"zerolinecolor\": \"white\"}, \"zaxis\": {\"backgroundcolor\": \"#E5ECF6\", \"gridcolor\": \"white\", \"gridwidth\": 2, \"linecolor\": \"white\", \"showbackground\": true, \"ticks\": \"\", \"zerolinecolor\": \"white\"}}, \"shapedefaults\": {\"line\": {\"color\": \"#2a3f5f\"}}, \"ternary\": {\"aaxis\": {\"gridcolor\": \"white\", \"linecolor\": \"white\", \"ticks\": \"\"}, \"baxis\": {\"gridcolor\": \"white\", \"linecolor\": \"white\", \"ticks\": \"\"}, \"bgcolor\": \"#E5ECF6\", \"caxis\": {\"gridcolor\": \"white\", \"linecolor\": \"white\", \"ticks\": \"\"}}, \"title\": {\"x\": 0.05}, \"xaxis\": {\"automargin\": true, \"gridcolor\": \"white\", \"linecolor\": \"white\", \"ticks\": \"\", \"title\": {\"standoff\": 15}, \"zerolinecolor\": \"white\", \"zerolinewidth\": 2}, \"yaxis\": {\"automargin\": true, \"gridcolor\": \"white\", \"linecolor\": \"white\", \"ticks\": \"\", \"title\": {\"standoff\": 15}, \"zerolinecolor\": \"white\", \"zerolinewidth\": 2}}}, \"title\": {\"text\": \"Cumulative Cases per Region over Time from 2020-01-21 to 2020-03-12\"}, \"updatemenus\": [{\"buttons\": [{\"args\": [null, {\"frame\": {\"duration\": 500, \"redraw\": true}, \"fromcurrent\": true, \"mode\": \"immediate\", \"transition\": {\"duration\": 500, \"easing\": \"linear\"}}], \"label\": \"&#9654;\", \"method\": \"animate\"}, {\"args\": [[null], {\"frame\": {\"duration\": 0, \"redraw\": true}, \"fromcurrent\": true, \"mode\": \"immediate\", \"transition\": {\"duration\": 0, \"easing\": \"linear\"}}], \"label\": \"&#9724;\", \"method\": \"animate\"}], \"direction\": \"left\", \"pad\": {\"r\": 10, \"t\": 70}, \"showactive\": false, \"type\": \"buttons\", \"x\": 0.1, \"xanchor\": \"right\", \"y\": 0, \"yanchor\": \"top\"}]},\n",
       "                        {\"responsive\": true}\n",
       "                    ).then(function(){\n",
       "                            Plotly.addFrames('2ba9f83f-5983-4d41-a829-6ff8f103e9d7', [{\"data\": [{\"hoverlabel\": {\"namelength\": 0}, \"hovertemplate\": \"<b>%{hovertext}</b><br><br>Date=2020-01-21<br>Total=%{marker.size}<br>Reporting_PHU_Latitude=%{lat}<br>Reporting_PHU_Longitude=%{lon}<br>Total Percent Travelled=%{marker.color}\", \"hovertext\": [\"Durham Region Health Department\", \"Eastern Ontario Health Unit\", \"Halton Region Health Department\", \"Hamilton Public Health Services\", \"Middlesex-London Health Unit\", \"Niagara Region Public Health Department\", \"Ottawa Public Health\", \"Peel Public Health\", \"Region of Waterloo, Public Health\", \"Simcoe Muskoka District Health Unit\", \"Sudbury & District Health Unit\", \"Toronto Public Health\", \"York Region Public Health Services\"], \"lat\": [43.898605, 45.02915233, 43.41399692, 43.2576311, 42.98146842, 43.1165366, 45.3456651, 43.6474713, 43.46287573, 44.41071258, 46.46609195, 43.65659125, 44.048023], \"legendgroup\": \"\", \"lon\": [-78.940341, -74.73629779, -79.74479581, -79.87134089, -81.25401572, -79.2412197, -75.7639122, -79.7088933, -80.52091315, -79.68630597, -80.99805884, -79.37935801, -79.480239], \"marker\": {\"color\": [0.0, 0.0, 0.0, 0.0, 0.0, 0.0, 0.0, 0.0, 0.0, 0.0, 0.0, 100.0, 0.0], \"coloraxis\": \"coloraxis\", \"size\": [0, 0, 0, 0, 0, 0, 0, 0, 0, 0, 0, 1, 0], \"sizemode\": \"area\", \"sizeref\": 0.034375}, \"mode\": \"markers\", \"name\": \"\", \"showlegend\": false, \"subplot\": \"mapbox\", \"type\": \"scattermapbox\"}], \"name\": \"2020-01-21\"}, {\"data\": [{\"hoverlabel\": {\"namelength\": 0}, \"hovertemplate\": \"<b>%{hovertext}</b><br><br>Date=2020-01-22<br>Total=%{marker.size}<br>Reporting_PHU_Latitude=%{lat}<br>Reporting_PHU_Longitude=%{lon}<br>Total Percent Travelled=%{marker.color}\", \"hovertext\": [\"Durham Region Health Department\", \"Eastern Ontario Health Unit\", \"Halton Region Health Department\", \"Hamilton Public Health Services\", \"Middlesex-London Health Unit\", \"Niagara Region Public Health Department\", \"Ottawa Public Health\", \"Peel Public Health\", \"Region of Waterloo, Public Health\", \"Simcoe Muskoka District Health Unit\", \"Sudbury & District Health Unit\", \"Toronto Public Health\", \"York Region Public Health Services\"], \"lat\": [43.898605, 45.02915233, 43.41399692, 43.2576311, 42.98146842, 43.1165366, 45.3456651, 43.6474713, 43.46287573, 44.41071258, 46.46609195, 43.65659125, 44.048023], \"legendgroup\": \"\", \"lon\": [-78.940341, -74.73629779, -79.74479581, -79.87134089, -81.25401572, -79.2412197, -75.7639122, -79.7088933, -80.52091315, -79.68630597, -80.99805884, -79.37935801, -79.480239], \"marker\": {\"color\": [0.0, 0.0, 0.0, 0.0, 0.0, 0.0, 0.0, 0.0, 0.0, 0.0, 0.0, 100.0, 0.0], \"coloraxis\": \"coloraxis\", \"size\": [0, 0, 0, 0, 0, 0, 0, 0, 0, 0, 0, 2, 0], \"sizemode\": \"area\", \"sizeref\": 0.034375}, \"mode\": \"markers\", \"name\": \"\", \"showlegend\": false, \"subplot\": \"mapbox\", \"type\": \"scattermapbox\"}], \"name\": \"2020-01-22\"}, {\"data\": [{\"hoverlabel\": {\"namelength\": 0}, \"hovertemplate\": \"<b>%{hovertext}</b><br><br>Date=2020-01-23<br>Total=%{marker.size}<br>Reporting_PHU_Latitude=%{lat}<br>Reporting_PHU_Longitude=%{lon}<br>Total Percent Travelled=%{marker.color}\", \"hovertext\": [\"Durham Region Health Department\", \"Eastern Ontario Health Unit\", \"Halton Region Health Department\", \"Hamilton Public Health Services\", \"Middlesex-London Health Unit\", \"Niagara Region Public Health Department\", \"Ottawa Public Health\", \"Peel Public Health\", \"Region of Waterloo, Public Health\", \"Simcoe Muskoka District Health Unit\", \"Sudbury & District Health Unit\", \"Toronto Public Health\", \"York Region Public Health Services\"], \"lat\": [43.898605, 45.02915233, 43.41399692, 43.2576311, 42.98146842, 43.1165366, 45.3456651, 43.6474713, 43.46287573, 44.41071258, 46.46609195, 43.65659125, 44.048023], \"legendgroup\": \"\", \"lon\": [-78.940341, -74.73629779, -79.74479581, -79.87134089, -81.25401572, -79.2412197, -75.7639122, -79.7088933, -80.52091315, -79.68630597, -80.99805884, -79.37935801, -79.480239], \"marker\": {\"color\": [0.0, 0.0, 0.0, 0.0, 0.0, 0.0, 0.0, 0.0, 0.0, 0.0, 0.0, 100.0, 0.0], \"coloraxis\": \"coloraxis\", \"size\": [0, 0, 0, 0, 0, 0, 0, 0, 0, 0, 0, 2, 0], \"sizemode\": \"area\", \"sizeref\": 0.034375}, \"mode\": \"markers\", \"name\": \"\", \"showlegend\": false, \"subplot\": \"mapbox\", \"type\": \"scattermapbox\"}], \"name\": \"2020-01-23\"}, {\"data\": [{\"hoverlabel\": {\"namelength\": 0}, \"hovertemplate\": \"<b>%{hovertext}</b><br><br>Date=2020-01-24<br>Total=%{marker.size}<br>Reporting_PHU_Latitude=%{lat}<br>Reporting_PHU_Longitude=%{lon}<br>Total Percent Travelled=%{marker.color}\", \"hovertext\": [\"Durham Region Health Department\", \"Eastern Ontario Health Unit\", \"Halton Region Health Department\", \"Hamilton Public Health Services\", \"Middlesex-London Health Unit\", \"Niagara Region Public Health Department\", \"Ottawa Public Health\", \"Peel Public Health\", \"Region of Waterloo, Public Health\", \"Simcoe Muskoka District Health Unit\", \"Sudbury & District Health Unit\", \"Toronto Public Health\", \"York Region Public Health Services\"], \"lat\": [43.898605, 45.02915233, 43.41399692, 43.2576311, 42.98146842, 43.1165366, 45.3456651, 43.6474713, 43.46287573, 44.41071258, 46.46609195, 43.65659125, 44.048023], \"legendgroup\": \"\", \"lon\": [-78.940341, -74.73629779, -79.74479581, -79.87134089, -81.25401572, -79.2412197, -75.7639122, -79.7088933, -80.52091315, -79.68630597, -80.99805884, -79.37935801, -79.480239], \"marker\": {\"color\": [0.0, 0.0, 0.0, 0.0, 100.0, 0.0, 0.0, 0.0, 0.0, 0.0, 0.0, 100.0, 0.0], \"coloraxis\": \"coloraxis\", \"size\": [0, 0, 0, 0, 1, 0, 0, 0, 0, 0, 0, 2, 0], \"sizemode\": \"area\", \"sizeref\": 0.034375}, \"mode\": \"markers\", \"name\": \"\", \"showlegend\": false, \"subplot\": \"mapbox\", \"type\": \"scattermapbox\"}], \"name\": \"2020-01-24\"}, {\"data\": [{\"hoverlabel\": {\"namelength\": 0}, \"hovertemplate\": \"<b>%{hovertext}</b><br><br>Date=2020-01-25<br>Total=%{marker.size}<br>Reporting_PHU_Latitude=%{lat}<br>Reporting_PHU_Longitude=%{lon}<br>Total Percent Travelled=%{marker.color}\", \"hovertext\": [\"Durham Region Health Department\", \"Eastern Ontario Health Unit\", \"Halton Region Health Department\", \"Hamilton Public Health Services\", \"Middlesex-London Health Unit\", \"Niagara Region Public Health Department\", \"Ottawa Public Health\", \"Peel Public Health\", \"Region of Waterloo, Public Health\", \"Simcoe Muskoka District Health Unit\", \"Sudbury & District Health Unit\", \"Toronto Public Health\", \"York Region Public Health Services\"], \"lat\": [43.898605, 45.02915233, 43.41399692, 43.2576311, 42.98146842, 43.1165366, 45.3456651, 43.6474713, 43.46287573, 44.41071258, 46.46609195, 43.65659125, 44.048023], \"legendgroup\": \"\", \"lon\": [-78.940341, -74.73629779, -79.74479581, -79.87134089, -81.25401572, -79.2412197, -75.7639122, -79.7088933, -80.52091315, -79.68630597, -80.99805884, -79.37935801, -79.480239], \"marker\": {\"color\": [0.0, 0.0, 0.0, 0.0, 100.0, 0.0, 0.0, 0.0, 0.0, 0.0, 0.0, 100.0, 0.0], \"coloraxis\": \"coloraxis\", \"size\": [0, 0, 0, 0, 1, 0, 0, 0, 0, 0, 0, 2, 0], \"sizemode\": \"area\", \"sizeref\": 0.034375}, \"mode\": \"markers\", \"name\": \"\", \"showlegend\": false, \"subplot\": \"mapbox\", \"type\": \"scattermapbox\"}], \"name\": \"2020-01-25\"}, {\"data\": [{\"hoverlabel\": {\"namelength\": 0}, \"hovertemplate\": \"<b>%{hovertext}</b><br><br>Date=2020-01-26<br>Total=%{marker.size}<br>Reporting_PHU_Latitude=%{lat}<br>Reporting_PHU_Longitude=%{lon}<br>Total Percent Travelled=%{marker.color}\", \"hovertext\": [\"Durham Region Health Department\", \"Eastern Ontario Health Unit\", \"Halton Region Health Department\", \"Hamilton Public Health Services\", \"Middlesex-London Health Unit\", \"Niagara Region Public Health Department\", \"Ottawa Public Health\", \"Peel Public Health\", \"Region of Waterloo, Public Health\", \"Simcoe Muskoka District Health Unit\", \"Sudbury & District Health Unit\", \"Toronto Public Health\", \"York Region Public Health Services\"], \"lat\": [43.898605, 45.02915233, 43.41399692, 43.2576311, 42.98146842, 43.1165366, 45.3456651, 43.6474713, 43.46287573, 44.41071258, 46.46609195, 43.65659125, 44.048023], \"legendgroup\": \"\", \"lon\": [-78.940341, -74.73629779, -79.74479581, -79.87134089, -81.25401572, -79.2412197, -75.7639122, -79.7088933, -80.52091315, -79.68630597, -80.99805884, -79.37935801, -79.480239], \"marker\": {\"color\": [0.0, 0.0, 0.0, 0.0, 100.0, 0.0, 0.0, 0.0, 0.0, 0.0, 0.0, 100.0, 0.0], \"coloraxis\": \"coloraxis\", \"size\": [0, 0, 0, 0, 1, 0, 0, 0, 0, 0, 0, 2, 0], \"sizemode\": \"area\", \"sizeref\": 0.034375}, \"mode\": \"markers\", \"name\": \"\", \"showlegend\": false, \"subplot\": \"mapbox\", \"type\": \"scattermapbox\"}], \"name\": \"2020-01-26\"}, {\"data\": [{\"hoverlabel\": {\"namelength\": 0}, \"hovertemplate\": \"<b>%{hovertext}</b><br><br>Date=2020-01-27<br>Total=%{marker.size}<br>Reporting_PHU_Latitude=%{lat}<br>Reporting_PHU_Longitude=%{lon}<br>Total Percent Travelled=%{marker.color}\", \"hovertext\": [\"Durham Region Health Department\", \"Eastern Ontario Health Unit\", \"Halton Region Health Department\", \"Hamilton Public Health Services\", \"Middlesex-London Health Unit\", \"Niagara Region Public Health Department\", \"Ottawa Public Health\", \"Peel Public Health\", \"Region of Waterloo, Public Health\", \"Simcoe Muskoka District Health Unit\", \"Sudbury & District Health Unit\", \"Toronto Public Health\", \"York Region Public Health Services\"], \"lat\": [43.898605, 45.02915233, 43.41399692, 43.2576311, 42.98146842, 43.1165366, 45.3456651, 43.6474713, 43.46287573, 44.41071258, 46.46609195, 43.65659125, 44.048023], \"legendgroup\": \"\", \"lon\": [-78.940341, -74.73629779, -79.74479581, -79.87134089, -81.25401572, -79.2412197, -75.7639122, -79.7088933, -80.52091315, -79.68630597, -80.99805884, -79.37935801, -79.480239], \"marker\": {\"color\": [0.0, 0.0, 0.0, 0.0, 100.0, 0.0, 0.0, 0.0, 0.0, 0.0, 0.0, 100.0, 0.0], \"coloraxis\": \"coloraxis\", \"size\": [0, 0, 0, 0, 1, 0, 0, 0, 0, 0, 0, 2, 0], \"sizemode\": \"area\", \"sizeref\": 0.034375}, \"mode\": \"markers\", \"name\": \"\", \"showlegend\": false, \"subplot\": \"mapbox\", \"type\": \"scattermapbox\"}], \"name\": \"2020-01-27\"}, {\"data\": [{\"hoverlabel\": {\"namelength\": 0}, \"hovertemplate\": \"<b>%{hovertext}</b><br><br>Date=2020-01-28<br>Total=%{marker.size}<br>Reporting_PHU_Latitude=%{lat}<br>Reporting_PHU_Longitude=%{lon}<br>Total Percent Travelled=%{marker.color}\", \"hovertext\": [\"Durham Region Health Department\", \"Eastern Ontario Health Unit\", \"Halton Region Health Department\", \"Hamilton Public Health Services\", \"Middlesex-London Health Unit\", \"Niagara Region Public Health Department\", \"Ottawa Public Health\", \"Peel Public Health\", \"Region of Waterloo, Public Health\", \"Simcoe Muskoka District Health Unit\", \"Sudbury & District Health Unit\", \"Toronto Public Health\", \"York Region Public Health Services\"], \"lat\": [43.898605, 45.02915233, 43.41399692, 43.2576311, 42.98146842, 43.1165366, 45.3456651, 43.6474713, 43.46287573, 44.41071258, 46.46609195, 43.65659125, 44.048023], \"legendgroup\": \"\", \"lon\": [-78.940341, -74.73629779, -79.74479581, -79.87134089, -81.25401572, -79.2412197, -75.7639122, -79.7088933, -80.52091315, -79.68630597, -80.99805884, -79.37935801, -79.480239], \"marker\": {\"color\": [0.0, 0.0, 0.0, 0.0, 100.0, 0.0, 0.0, 0.0, 0.0, 0.0, 0.0, 100.0, 0.0], \"coloraxis\": \"coloraxis\", \"size\": [0, 0, 0, 0, 1, 0, 0, 0, 0, 0, 0, 2, 0], \"sizemode\": \"area\", \"sizeref\": 0.034375}, \"mode\": \"markers\", \"name\": \"\", \"showlegend\": false, \"subplot\": \"mapbox\", \"type\": \"scattermapbox\"}], \"name\": \"2020-01-28\"}, {\"data\": [{\"hoverlabel\": {\"namelength\": 0}, \"hovertemplate\": \"<b>%{hovertext}</b><br><br>Date=2020-01-29<br>Total=%{marker.size}<br>Reporting_PHU_Latitude=%{lat}<br>Reporting_PHU_Longitude=%{lon}<br>Total Percent Travelled=%{marker.color}\", \"hovertext\": [\"Durham Region Health Department\", \"Eastern Ontario Health Unit\", \"Halton Region Health Department\", \"Hamilton Public Health Services\", \"Middlesex-London Health Unit\", \"Niagara Region Public Health Department\", \"Ottawa Public Health\", \"Peel Public Health\", \"Region of Waterloo, Public Health\", \"Simcoe Muskoka District Health Unit\", \"Sudbury & District Health Unit\", \"Toronto Public Health\", \"York Region Public Health Services\"], \"lat\": [43.898605, 45.02915233, 43.41399692, 43.2576311, 42.98146842, 43.1165366, 45.3456651, 43.6474713, 43.46287573, 44.41071258, 46.46609195, 43.65659125, 44.048023], \"legendgroup\": \"\", \"lon\": [-78.940341, -74.73629779, -79.74479581, -79.87134089, -81.25401572, -79.2412197, -75.7639122, -79.7088933, -80.52091315, -79.68630597, -80.99805884, -79.37935801, -79.480239], \"marker\": {\"color\": [0.0, 0.0, 0.0, 0.0, 100.0, 0.0, 0.0, 0.0, 0.0, 0.0, 0.0, 100.0, 0.0], \"coloraxis\": \"coloraxis\", \"size\": [0, 0, 0, 0, 1, 0, 0, 0, 0, 0, 0, 2, 0], \"sizemode\": \"area\", \"sizeref\": 0.034375}, \"mode\": \"markers\", \"name\": \"\", \"showlegend\": false, \"subplot\": \"mapbox\", \"type\": \"scattermapbox\"}], \"name\": \"2020-01-29\"}, {\"data\": [{\"hoverlabel\": {\"namelength\": 0}, \"hovertemplate\": \"<b>%{hovertext}</b><br><br>Date=2020-01-30<br>Total=%{marker.size}<br>Reporting_PHU_Latitude=%{lat}<br>Reporting_PHU_Longitude=%{lon}<br>Total Percent Travelled=%{marker.color}\", \"hovertext\": [\"Durham Region Health Department\", \"Eastern Ontario Health Unit\", \"Halton Region Health Department\", \"Hamilton Public Health Services\", \"Middlesex-London Health Unit\", \"Niagara Region Public Health Department\", \"Ottawa Public Health\", \"Peel Public Health\", \"Region of Waterloo, Public Health\", \"Simcoe Muskoka District Health Unit\", \"Sudbury & District Health Unit\", \"Toronto Public Health\", \"York Region Public Health Services\"], \"lat\": [43.898605, 45.02915233, 43.41399692, 43.2576311, 42.98146842, 43.1165366, 45.3456651, 43.6474713, 43.46287573, 44.41071258, 46.46609195, 43.65659125, 44.048023], \"legendgroup\": \"\", \"lon\": [-78.940341, -74.73629779, -79.74479581, -79.87134089, -81.25401572, -79.2412197, -75.7639122, -79.7088933, -80.52091315, -79.68630597, -80.99805884, -79.37935801, -79.480239], \"marker\": {\"color\": [0.0, 0.0, 0.0, 0.0, 100.0, 0.0, 0.0, 0.0, 0.0, 0.0, 0.0, 100.0, 0.0], \"coloraxis\": \"coloraxis\", \"size\": [0, 0, 0, 0, 1, 0, 0, 0, 0, 0, 0, 2, 0], \"sizemode\": \"area\", \"sizeref\": 0.034375}, \"mode\": \"markers\", \"name\": \"\", \"showlegend\": false, \"subplot\": \"mapbox\", \"type\": \"scattermapbox\"}], \"name\": \"2020-01-30\"}, {\"data\": [{\"hoverlabel\": {\"namelength\": 0}, \"hovertemplate\": \"<b>%{hovertext}</b><br><br>Date=2020-01-31<br>Total=%{marker.size}<br>Reporting_PHU_Latitude=%{lat}<br>Reporting_PHU_Longitude=%{lon}<br>Total Percent Travelled=%{marker.color}\", \"hovertext\": [\"Durham Region Health Department\", \"Eastern Ontario Health Unit\", \"Halton Region Health Department\", \"Hamilton Public Health Services\", \"Middlesex-London Health Unit\", \"Niagara Region Public Health Department\", \"Ottawa Public Health\", \"Peel Public Health\", \"Region of Waterloo, Public Health\", \"Simcoe Muskoka District Health Unit\", \"Sudbury & District Health Unit\", \"Toronto Public Health\", \"York Region Public Health Services\"], \"lat\": [43.898605, 45.02915233, 43.41399692, 43.2576311, 42.98146842, 43.1165366, 45.3456651, 43.6474713, 43.46287573, 44.41071258, 46.46609195, 43.65659125, 44.048023], \"legendgroup\": \"\", \"lon\": [-78.940341, -74.73629779, -79.74479581, -79.87134089, -81.25401572, -79.2412197, -75.7639122, -79.7088933, -80.52091315, -79.68630597, -80.99805884, -79.37935801, -79.480239], \"marker\": {\"color\": [0.0, 0.0, 0.0, 0.0, 100.0, 0.0, 0.0, 0.0, 0.0, 0.0, 0.0, 100.0, 0.0], \"coloraxis\": \"coloraxis\", \"size\": [0, 0, 0, 0, 1, 0, 0, 0, 0, 0, 0, 2, 0], \"sizemode\": \"area\", \"sizeref\": 0.034375}, \"mode\": \"markers\", \"name\": \"\", \"showlegend\": false, \"subplot\": \"mapbox\", \"type\": \"scattermapbox\"}], \"name\": \"2020-01-31\"}, {\"data\": [{\"hoverlabel\": {\"namelength\": 0}, \"hovertemplate\": \"<b>%{hovertext}</b><br><br>Date=2020-02-01<br>Total=%{marker.size}<br>Reporting_PHU_Latitude=%{lat}<br>Reporting_PHU_Longitude=%{lon}<br>Total Percent Travelled=%{marker.color}\", \"hovertext\": [\"Durham Region Health Department\", \"Eastern Ontario Health Unit\", \"Halton Region Health Department\", \"Hamilton Public Health Services\", \"Middlesex-London Health Unit\", \"Niagara Region Public Health Department\", \"Ottawa Public Health\", \"Peel Public Health\", \"Region of Waterloo, Public Health\", \"Simcoe Muskoka District Health Unit\", \"Sudbury & District Health Unit\", \"Toronto Public Health\", \"York Region Public Health Services\"], \"lat\": [43.898605, 45.02915233, 43.41399692, 43.2576311, 42.98146842, 43.1165366, 45.3456651, 43.6474713, 43.46287573, 44.41071258, 46.46609195, 43.65659125, 44.048023], \"legendgroup\": \"\", \"lon\": [-78.940341, -74.73629779, -79.74479581, -79.87134089, -81.25401572, -79.2412197, -75.7639122, -79.7088933, -80.52091315, -79.68630597, -80.99805884, -79.37935801, -79.480239], \"marker\": {\"color\": [0.0, 0.0, 0.0, 0.0, 100.0, 0.0, 0.0, 0.0, 0.0, 0.0, 0.0, 100.0, 0.0], \"coloraxis\": \"coloraxis\", \"size\": [0, 0, 0, 0, 1, 0, 0, 0, 0, 0, 0, 2, 0], \"sizemode\": \"area\", \"sizeref\": 0.034375}, \"mode\": \"markers\", \"name\": \"\", \"showlegend\": false, \"subplot\": \"mapbox\", \"type\": \"scattermapbox\"}], \"name\": \"2020-02-01\"}, {\"data\": [{\"hoverlabel\": {\"namelength\": 0}, \"hovertemplate\": \"<b>%{hovertext}</b><br><br>Date=2020-02-02<br>Total=%{marker.size}<br>Reporting_PHU_Latitude=%{lat}<br>Reporting_PHU_Longitude=%{lon}<br>Total Percent Travelled=%{marker.color}\", \"hovertext\": [\"Durham Region Health Department\", \"Eastern Ontario Health Unit\", \"Halton Region Health Department\", \"Hamilton Public Health Services\", \"Middlesex-London Health Unit\", \"Niagara Region Public Health Department\", \"Ottawa Public Health\", \"Peel Public Health\", \"Region of Waterloo, Public Health\", \"Simcoe Muskoka District Health Unit\", \"Sudbury & District Health Unit\", \"Toronto Public Health\", \"York Region Public Health Services\"], \"lat\": [43.898605, 45.02915233, 43.41399692, 43.2576311, 42.98146842, 43.1165366, 45.3456651, 43.6474713, 43.46287573, 44.41071258, 46.46609195, 43.65659125, 44.048023], \"legendgroup\": \"\", \"lon\": [-78.940341, -74.73629779, -79.74479581, -79.87134089, -81.25401572, -79.2412197, -75.7639122, -79.7088933, -80.52091315, -79.68630597, -80.99805884, -79.37935801, -79.480239], \"marker\": {\"color\": [0.0, 0.0, 0.0, 0.0, 100.0, 0.0, 0.0, 0.0, 0.0, 0.0, 0.0, 100.0, 0.0], \"coloraxis\": \"coloraxis\", \"size\": [0, 0, 0, 0, 1, 0, 0, 0, 0, 0, 0, 2, 0], \"sizemode\": \"area\", \"sizeref\": 0.034375}, \"mode\": \"markers\", \"name\": \"\", \"showlegend\": false, \"subplot\": \"mapbox\", \"type\": \"scattermapbox\"}], \"name\": \"2020-02-02\"}, {\"data\": [{\"hoverlabel\": {\"namelength\": 0}, \"hovertemplate\": \"<b>%{hovertext}</b><br><br>Date=2020-02-03<br>Total=%{marker.size}<br>Reporting_PHU_Latitude=%{lat}<br>Reporting_PHU_Longitude=%{lon}<br>Total Percent Travelled=%{marker.color}\", \"hovertext\": [\"Durham Region Health Department\", \"Eastern Ontario Health Unit\", \"Halton Region Health Department\", \"Hamilton Public Health Services\", \"Middlesex-London Health Unit\", \"Niagara Region Public Health Department\", \"Ottawa Public Health\", \"Peel Public Health\", \"Region of Waterloo, Public Health\", \"Simcoe Muskoka District Health Unit\", \"Sudbury & District Health Unit\", \"Toronto Public Health\", \"York Region Public Health Services\"], \"lat\": [43.898605, 45.02915233, 43.41399692, 43.2576311, 42.98146842, 43.1165366, 45.3456651, 43.6474713, 43.46287573, 44.41071258, 46.46609195, 43.65659125, 44.048023], \"legendgroup\": \"\", \"lon\": [-78.940341, -74.73629779, -79.74479581, -79.87134089, -81.25401572, -79.2412197, -75.7639122, -79.7088933, -80.52091315, -79.68630597, -80.99805884, -79.37935801, -79.480239], \"marker\": {\"color\": [0.0, 0.0, 0.0, 0.0, 100.0, 0.0, 0.0, 0.0, 0.0, 0.0, 0.0, 100.0, 0.0], \"coloraxis\": \"coloraxis\", \"size\": [0, 0, 0, 0, 1, 0, 0, 0, 0, 0, 0, 2, 0], \"sizemode\": \"area\", \"sizeref\": 0.034375}, \"mode\": \"markers\", \"name\": \"\", \"showlegend\": false, \"subplot\": \"mapbox\", \"type\": \"scattermapbox\"}], \"name\": \"2020-02-03\"}, {\"data\": [{\"hoverlabel\": {\"namelength\": 0}, \"hovertemplate\": \"<b>%{hovertext}</b><br><br>Date=2020-02-04<br>Total=%{marker.size}<br>Reporting_PHU_Latitude=%{lat}<br>Reporting_PHU_Longitude=%{lon}<br>Total Percent Travelled=%{marker.color}\", \"hovertext\": [\"Durham Region Health Department\", \"Eastern Ontario Health Unit\", \"Halton Region Health Department\", \"Hamilton Public Health Services\", \"Middlesex-London Health Unit\", \"Niagara Region Public Health Department\", \"Ottawa Public Health\", \"Peel Public Health\", \"Region of Waterloo, Public Health\", \"Simcoe Muskoka District Health Unit\", \"Sudbury & District Health Unit\", \"Toronto Public Health\", \"York Region Public Health Services\"], \"lat\": [43.898605, 45.02915233, 43.41399692, 43.2576311, 42.98146842, 43.1165366, 45.3456651, 43.6474713, 43.46287573, 44.41071258, 46.46609195, 43.65659125, 44.048023], \"legendgroup\": \"\", \"lon\": [-78.940341, -74.73629779, -79.74479581, -79.87134089, -81.25401572, -79.2412197, -75.7639122, -79.7088933, -80.52091315, -79.68630597, -80.99805884, -79.37935801, -79.480239], \"marker\": {\"color\": [0.0, 0.0, 0.0, 0.0, 100.0, 0.0, 0.0, 0.0, 0.0, 0.0, 0.0, 100.0, 0.0], \"coloraxis\": \"coloraxis\", \"size\": [0, 0, 0, 0, 1, 0, 0, 0, 0, 0, 0, 2, 0], \"sizemode\": \"area\", \"sizeref\": 0.034375}, \"mode\": \"markers\", \"name\": \"\", \"showlegend\": false, \"subplot\": \"mapbox\", \"type\": \"scattermapbox\"}], \"name\": \"2020-02-04\"}, {\"data\": [{\"hoverlabel\": {\"namelength\": 0}, \"hovertemplate\": \"<b>%{hovertext}</b><br><br>Date=2020-02-05<br>Total=%{marker.size}<br>Reporting_PHU_Latitude=%{lat}<br>Reporting_PHU_Longitude=%{lon}<br>Total Percent Travelled=%{marker.color}\", \"hovertext\": [\"Durham Region Health Department\", \"Eastern Ontario Health Unit\", \"Halton Region Health Department\", \"Hamilton Public Health Services\", \"Middlesex-London Health Unit\", \"Niagara Region Public Health Department\", \"Ottawa Public Health\", \"Peel Public Health\", \"Region of Waterloo, Public Health\", \"Simcoe Muskoka District Health Unit\", \"Sudbury & District Health Unit\", \"Toronto Public Health\", \"York Region Public Health Services\"], \"lat\": [43.898605, 45.02915233, 43.41399692, 43.2576311, 42.98146842, 43.1165366, 45.3456651, 43.6474713, 43.46287573, 44.41071258, 46.46609195, 43.65659125, 44.048023], \"legendgroup\": \"\", \"lon\": [-78.940341, -74.73629779, -79.74479581, -79.87134089, -81.25401572, -79.2412197, -75.7639122, -79.7088933, -80.52091315, -79.68630597, -80.99805884, -79.37935801, -79.480239], \"marker\": {\"color\": [0.0, 0.0, 0.0, 0.0, 100.0, 0.0, 0.0, 0.0, 0.0, 0.0, 0.0, 100.0, 0.0], \"coloraxis\": \"coloraxis\", \"size\": [0, 0, 0, 0, 1, 0, 0, 0, 0, 0, 0, 3, 0], \"sizemode\": \"area\", \"sizeref\": 0.034375}, \"mode\": \"markers\", \"name\": \"\", \"showlegend\": false, \"subplot\": \"mapbox\", \"type\": \"scattermapbox\"}], \"name\": \"2020-02-05\"}, {\"data\": [{\"hoverlabel\": {\"namelength\": 0}, \"hovertemplate\": \"<b>%{hovertext}</b><br><br>Date=2020-02-06<br>Total=%{marker.size}<br>Reporting_PHU_Latitude=%{lat}<br>Reporting_PHU_Longitude=%{lon}<br>Total Percent Travelled=%{marker.color}\", \"hovertext\": [\"Durham Region Health Department\", \"Eastern Ontario Health Unit\", \"Halton Region Health Department\", \"Hamilton Public Health Services\", \"Middlesex-London Health Unit\", \"Niagara Region Public Health Department\", \"Ottawa Public Health\", \"Peel Public Health\", \"Region of Waterloo, Public Health\", \"Simcoe Muskoka District Health Unit\", \"Sudbury & District Health Unit\", \"Toronto Public Health\", \"York Region Public Health Services\"], \"lat\": [43.898605, 45.02915233, 43.41399692, 43.2576311, 42.98146842, 43.1165366, 45.3456651, 43.6474713, 43.46287573, 44.41071258, 46.46609195, 43.65659125, 44.048023], \"legendgroup\": \"\", \"lon\": [-78.940341, -74.73629779, -79.74479581, -79.87134089, -81.25401572, -79.2412197, -75.7639122, -79.7088933, -80.52091315, -79.68630597, -80.99805884, -79.37935801, -79.480239], \"marker\": {\"color\": [0.0, 0.0, 0.0, 0.0, 100.0, 0.0, 0.0, 0.0, 0.0, 0.0, 0.0, 100.0, 0.0], \"coloraxis\": \"coloraxis\", \"size\": [0, 0, 0, 0, 1, 0, 0, 0, 0, 0, 0, 3, 0], \"sizemode\": \"area\", \"sizeref\": 0.034375}, \"mode\": \"markers\", \"name\": \"\", \"showlegend\": false, \"subplot\": \"mapbox\", \"type\": \"scattermapbox\"}], \"name\": \"2020-02-06\"}, {\"data\": [{\"hoverlabel\": {\"namelength\": 0}, \"hovertemplate\": \"<b>%{hovertext}</b><br><br>Date=2020-02-07<br>Total=%{marker.size}<br>Reporting_PHU_Latitude=%{lat}<br>Reporting_PHU_Longitude=%{lon}<br>Total Percent Travelled=%{marker.color}\", \"hovertext\": [\"Durham Region Health Department\", \"Eastern Ontario Health Unit\", \"Halton Region Health Department\", \"Hamilton Public Health Services\", \"Middlesex-London Health Unit\", \"Niagara Region Public Health Department\", \"Ottawa Public Health\", \"Peel Public Health\", \"Region of Waterloo, Public Health\", \"Simcoe Muskoka District Health Unit\", \"Sudbury & District Health Unit\", \"Toronto Public Health\", \"York Region Public Health Services\"], \"lat\": [43.898605, 45.02915233, 43.41399692, 43.2576311, 42.98146842, 43.1165366, 45.3456651, 43.6474713, 43.46287573, 44.41071258, 46.46609195, 43.65659125, 44.048023], \"legendgroup\": \"\", \"lon\": [-78.940341, -74.73629779, -79.74479581, -79.87134089, -81.25401572, -79.2412197, -75.7639122, -79.7088933, -80.52091315, -79.68630597, -80.99805884, -79.37935801, -79.480239], \"marker\": {\"color\": [0.0, 0.0, 0.0, 0.0, 100.0, 0.0, 0.0, 0.0, 0.0, 0.0, 0.0, 100.0, 0.0], \"coloraxis\": \"coloraxis\", \"size\": [0, 0, 0, 0, 1, 0, 0, 0, 0, 0, 0, 3, 0], \"sizemode\": \"area\", \"sizeref\": 0.034375}, \"mode\": \"markers\", \"name\": \"\", \"showlegend\": false, \"subplot\": \"mapbox\", \"type\": \"scattermapbox\"}], \"name\": \"2020-02-07\"}, {\"data\": [{\"hoverlabel\": {\"namelength\": 0}, \"hovertemplate\": \"<b>%{hovertext}</b><br><br>Date=2020-02-08<br>Total=%{marker.size}<br>Reporting_PHU_Latitude=%{lat}<br>Reporting_PHU_Longitude=%{lon}<br>Total Percent Travelled=%{marker.color}\", \"hovertext\": [\"Durham Region Health Department\", \"Eastern Ontario Health Unit\", \"Halton Region Health Department\", \"Hamilton Public Health Services\", \"Middlesex-London Health Unit\", \"Niagara Region Public Health Department\", \"Ottawa Public Health\", \"Peel Public Health\", \"Region of Waterloo, Public Health\", \"Simcoe Muskoka District Health Unit\", \"Sudbury & District Health Unit\", \"Toronto Public Health\", \"York Region Public Health Services\"], \"lat\": [43.898605, 45.02915233, 43.41399692, 43.2576311, 42.98146842, 43.1165366, 45.3456651, 43.6474713, 43.46287573, 44.41071258, 46.46609195, 43.65659125, 44.048023], \"legendgroup\": \"\", \"lon\": [-78.940341, -74.73629779, -79.74479581, -79.87134089, -81.25401572, -79.2412197, -75.7639122, -79.7088933, -80.52091315, -79.68630597, -80.99805884, -79.37935801, -79.480239], \"marker\": {\"color\": [0.0, 0.0, 0.0, 0.0, 100.0, 0.0, 0.0, 0.0, 0.0, 0.0, 0.0, 100.0, 0.0], \"coloraxis\": \"coloraxis\", \"size\": [0, 0, 0, 0, 1, 0, 0, 0, 0, 0, 0, 3, 0], \"sizemode\": \"area\", \"sizeref\": 0.034375}, \"mode\": \"markers\", \"name\": \"\", \"showlegend\": false, \"subplot\": \"mapbox\", \"type\": \"scattermapbox\"}], \"name\": \"2020-02-08\"}, {\"data\": [{\"hoverlabel\": {\"namelength\": 0}, \"hovertemplate\": \"<b>%{hovertext}</b><br><br>Date=2020-02-09<br>Total=%{marker.size}<br>Reporting_PHU_Latitude=%{lat}<br>Reporting_PHU_Longitude=%{lon}<br>Total Percent Travelled=%{marker.color}\", \"hovertext\": [\"Durham Region Health Department\", \"Eastern Ontario Health Unit\", \"Halton Region Health Department\", \"Hamilton Public Health Services\", \"Middlesex-London Health Unit\", \"Niagara Region Public Health Department\", \"Ottawa Public Health\", \"Peel Public Health\", \"Region of Waterloo, Public Health\", \"Simcoe Muskoka District Health Unit\", \"Sudbury & District Health Unit\", \"Toronto Public Health\", \"York Region Public Health Services\"], \"lat\": [43.898605, 45.02915233, 43.41399692, 43.2576311, 42.98146842, 43.1165366, 45.3456651, 43.6474713, 43.46287573, 44.41071258, 46.46609195, 43.65659125, 44.048023], \"legendgroup\": \"\", \"lon\": [-78.940341, -74.73629779, -79.74479581, -79.87134089, -81.25401572, -79.2412197, -75.7639122, -79.7088933, -80.52091315, -79.68630597, -80.99805884, -79.37935801, -79.480239], \"marker\": {\"color\": [0.0, 0.0, 0.0, 0.0, 100.0, 0.0, 0.0, 0.0, 0.0, 0.0, 0.0, 100.0, 0.0], \"coloraxis\": \"coloraxis\", \"size\": [0, 0, 0, 0, 1, 0, 0, 0, 0, 0, 0, 3, 0], \"sizemode\": \"area\", \"sizeref\": 0.034375}, \"mode\": \"markers\", \"name\": \"\", \"showlegend\": false, \"subplot\": \"mapbox\", \"type\": \"scattermapbox\"}], \"name\": \"2020-02-09\"}, {\"data\": [{\"hoverlabel\": {\"namelength\": 0}, \"hovertemplate\": \"<b>%{hovertext}</b><br><br>Date=2020-02-10<br>Total=%{marker.size}<br>Reporting_PHU_Latitude=%{lat}<br>Reporting_PHU_Longitude=%{lon}<br>Total Percent Travelled=%{marker.color}\", \"hovertext\": [\"Durham Region Health Department\", \"Eastern Ontario Health Unit\", \"Halton Region Health Department\", \"Hamilton Public Health Services\", \"Middlesex-London Health Unit\", \"Niagara Region Public Health Department\", \"Ottawa Public Health\", \"Peel Public Health\", \"Region of Waterloo, Public Health\", \"Simcoe Muskoka District Health Unit\", \"Sudbury & District Health Unit\", \"Toronto Public Health\", \"York Region Public Health Services\"], \"lat\": [43.898605, 45.02915233, 43.41399692, 43.2576311, 42.98146842, 43.1165366, 45.3456651, 43.6474713, 43.46287573, 44.41071258, 46.46609195, 43.65659125, 44.048023], \"legendgroup\": \"\", \"lon\": [-78.940341, -74.73629779, -79.74479581, -79.87134089, -81.25401572, -79.2412197, -75.7639122, -79.7088933, -80.52091315, -79.68630597, -80.99805884, -79.37935801, -79.480239], \"marker\": {\"color\": [0.0, 0.0, 0.0, 0.0, 100.0, 0.0, 0.0, 0.0, 0.0, 0.0, 0.0, 100.0, 0.0], \"coloraxis\": \"coloraxis\", \"size\": [0, 0, 0, 0, 1, 0, 0, 0, 0, 0, 0, 3, 0], \"sizemode\": \"area\", \"sizeref\": 0.034375}, \"mode\": \"markers\", \"name\": \"\", \"showlegend\": false, \"subplot\": \"mapbox\", \"type\": \"scattermapbox\"}], \"name\": \"2020-02-10\"}, {\"data\": [{\"hoverlabel\": {\"namelength\": 0}, \"hovertemplate\": \"<b>%{hovertext}</b><br><br>Date=2020-02-11<br>Total=%{marker.size}<br>Reporting_PHU_Latitude=%{lat}<br>Reporting_PHU_Longitude=%{lon}<br>Total Percent Travelled=%{marker.color}\", \"hovertext\": [\"Durham Region Health Department\", \"Eastern Ontario Health Unit\", \"Halton Region Health Department\", \"Hamilton Public Health Services\", \"Middlesex-London Health Unit\", \"Niagara Region Public Health Department\", \"Ottawa Public Health\", \"Peel Public Health\", \"Region of Waterloo, Public Health\", \"Simcoe Muskoka District Health Unit\", \"Sudbury & District Health Unit\", \"Toronto Public Health\", \"York Region Public Health Services\"], \"lat\": [43.898605, 45.02915233, 43.41399692, 43.2576311, 42.98146842, 43.1165366, 45.3456651, 43.6474713, 43.46287573, 44.41071258, 46.46609195, 43.65659125, 44.048023], \"legendgroup\": \"\", \"lon\": [-78.940341, -74.73629779, -79.74479581, -79.87134089, -81.25401572, -79.2412197, -75.7639122, -79.7088933, -80.52091315, -79.68630597, -80.99805884, -79.37935801, -79.480239], \"marker\": {\"color\": [0.0, 0.0, 0.0, 0.0, 100.0, 0.0, 0.0, 0.0, 0.0, 0.0, 0.0, 100.0, 0.0], \"coloraxis\": \"coloraxis\", \"size\": [0, 0, 0, 0, 1, 0, 0, 0, 0, 0, 0, 3, 0], \"sizemode\": \"area\", \"sizeref\": 0.034375}, \"mode\": \"markers\", \"name\": \"\", \"showlegend\": false, \"subplot\": \"mapbox\", \"type\": \"scattermapbox\"}], \"name\": \"2020-02-11\"}, {\"data\": [{\"hoverlabel\": {\"namelength\": 0}, \"hovertemplate\": \"<b>%{hovertext}</b><br><br>Date=2020-02-12<br>Total=%{marker.size}<br>Reporting_PHU_Latitude=%{lat}<br>Reporting_PHU_Longitude=%{lon}<br>Total Percent Travelled=%{marker.color}\", \"hovertext\": [\"Durham Region Health Department\", \"Eastern Ontario Health Unit\", \"Halton Region Health Department\", \"Hamilton Public Health Services\", \"Middlesex-London Health Unit\", \"Niagara Region Public Health Department\", \"Ottawa Public Health\", \"Peel Public Health\", \"Region of Waterloo, Public Health\", \"Simcoe Muskoka District Health Unit\", \"Sudbury & District Health Unit\", \"Toronto Public Health\", \"York Region Public Health Services\"], \"lat\": [43.898605, 45.02915233, 43.41399692, 43.2576311, 42.98146842, 43.1165366, 45.3456651, 43.6474713, 43.46287573, 44.41071258, 46.46609195, 43.65659125, 44.048023], \"legendgroup\": \"\", \"lon\": [-78.940341, -74.73629779, -79.74479581, -79.87134089, -81.25401572, -79.2412197, -75.7639122, -79.7088933, -80.52091315, -79.68630597, -80.99805884, -79.37935801, -79.480239], \"marker\": {\"color\": [0.0, 0.0, 0.0, 0.0, 100.0, 0.0, 0.0, 0.0, 0.0, 0.0, 0.0, 100.0, 0.0], \"coloraxis\": \"coloraxis\", \"size\": [0, 0, 0, 0, 1, 0, 0, 0, 0, 0, 0, 3, 0], \"sizemode\": \"area\", \"sizeref\": 0.034375}, \"mode\": \"markers\", \"name\": \"\", \"showlegend\": false, \"subplot\": \"mapbox\", \"type\": \"scattermapbox\"}], \"name\": \"2020-02-12\"}, {\"data\": [{\"hoverlabel\": {\"namelength\": 0}, \"hovertemplate\": \"<b>%{hovertext}</b><br><br>Date=2020-02-13<br>Total=%{marker.size}<br>Reporting_PHU_Latitude=%{lat}<br>Reporting_PHU_Longitude=%{lon}<br>Total Percent Travelled=%{marker.color}\", \"hovertext\": [\"Durham Region Health Department\", \"Eastern Ontario Health Unit\", \"Halton Region Health Department\", \"Hamilton Public Health Services\", \"Middlesex-London Health Unit\", \"Niagara Region Public Health Department\", \"Ottawa Public Health\", \"Peel Public Health\", \"Region of Waterloo, Public Health\", \"Simcoe Muskoka District Health Unit\", \"Sudbury & District Health Unit\", \"Toronto Public Health\", \"York Region Public Health Services\"], \"lat\": [43.898605, 45.02915233, 43.41399692, 43.2576311, 42.98146842, 43.1165366, 45.3456651, 43.6474713, 43.46287573, 44.41071258, 46.46609195, 43.65659125, 44.048023], \"legendgroup\": \"\", \"lon\": [-78.940341, -74.73629779, -79.74479581, -79.87134089, -81.25401572, -79.2412197, -75.7639122, -79.7088933, -80.52091315, -79.68630597, -80.99805884, -79.37935801, -79.480239], \"marker\": {\"color\": [0.0, 0.0, 0.0, 0.0, 100.0, 0.0, 0.0, 0.0, 0.0, 0.0, 0.0, 100.0, 0.0], \"coloraxis\": \"coloraxis\", \"size\": [0, 0, 0, 0, 1, 0, 0, 0, 0, 0, 0, 3, 0], \"sizemode\": \"area\", \"sizeref\": 0.034375}, \"mode\": \"markers\", \"name\": \"\", \"showlegend\": false, \"subplot\": \"mapbox\", \"type\": \"scattermapbox\"}], \"name\": \"2020-02-13\"}, {\"data\": [{\"hoverlabel\": {\"namelength\": 0}, \"hovertemplate\": \"<b>%{hovertext}</b><br><br>Date=2020-02-14<br>Total=%{marker.size}<br>Reporting_PHU_Latitude=%{lat}<br>Reporting_PHU_Longitude=%{lon}<br>Total Percent Travelled=%{marker.color}\", \"hovertext\": [\"Durham Region Health Department\", \"Eastern Ontario Health Unit\", \"Halton Region Health Department\", \"Hamilton Public Health Services\", \"Middlesex-London Health Unit\", \"Niagara Region Public Health Department\", \"Ottawa Public Health\", \"Peel Public Health\", \"Region of Waterloo, Public Health\", \"Simcoe Muskoka District Health Unit\", \"Sudbury & District Health Unit\", \"Toronto Public Health\", \"York Region Public Health Services\"], \"lat\": [43.898605, 45.02915233, 43.41399692, 43.2576311, 42.98146842, 43.1165366, 45.3456651, 43.6474713, 43.46287573, 44.41071258, 46.46609195, 43.65659125, 44.048023], \"legendgroup\": \"\", \"lon\": [-78.940341, -74.73629779, -79.74479581, -79.87134089, -81.25401572, -79.2412197, -75.7639122, -79.7088933, -80.52091315, -79.68630597, -80.99805884, -79.37935801, -79.480239], \"marker\": {\"color\": [0.0, 0.0, 0.0, 0.0, 100.0, 0.0, 0.0, 0.0, 0.0, 0.0, 0.0, 100.0, 0.0], \"coloraxis\": \"coloraxis\", \"size\": [0, 0, 0, 0, 1, 0, 0, 0, 0, 0, 0, 4, 0], \"sizemode\": \"area\", \"sizeref\": 0.034375}, \"mode\": \"markers\", \"name\": \"\", \"showlegend\": false, \"subplot\": \"mapbox\", \"type\": \"scattermapbox\"}], \"name\": \"2020-02-14\"}, {\"data\": [{\"hoverlabel\": {\"namelength\": 0}, \"hovertemplate\": \"<b>%{hovertext}</b><br><br>Date=2020-02-15<br>Total=%{marker.size}<br>Reporting_PHU_Latitude=%{lat}<br>Reporting_PHU_Longitude=%{lon}<br>Total Percent Travelled=%{marker.color}\", \"hovertext\": [\"Durham Region Health Department\", \"Eastern Ontario Health Unit\", \"Halton Region Health Department\", \"Hamilton Public Health Services\", \"Middlesex-London Health Unit\", \"Niagara Region Public Health Department\", \"Ottawa Public Health\", \"Peel Public Health\", \"Region of Waterloo, Public Health\", \"Simcoe Muskoka District Health Unit\", \"Sudbury & District Health Unit\", \"Toronto Public Health\", \"York Region Public Health Services\"], \"lat\": [43.898605, 45.02915233, 43.41399692, 43.2576311, 42.98146842, 43.1165366, 45.3456651, 43.6474713, 43.46287573, 44.41071258, 46.46609195, 43.65659125, 44.048023], \"legendgroup\": \"\", \"lon\": [-78.940341, -74.73629779, -79.74479581, -79.87134089, -81.25401572, -79.2412197, -75.7639122, -79.7088933, -80.52091315, -79.68630597, -80.99805884, -79.37935801, -79.480239], \"marker\": {\"color\": [0.0, 0.0, 0.0, 0.0, 100.0, 0.0, 0.0, 0.0, 0.0, 0.0, 0.0, 100.0, 0.0], \"coloraxis\": \"coloraxis\", \"size\": [0, 0, 0, 0, 1, 0, 0, 0, 0, 0, 0, 4, 0], \"sizemode\": \"area\", \"sizeref\": 0.034375}, \"mode\": \"markers\", \"name\": \"\", \"showlegend\": false, \"subplot\": \"mapbox\", \"type\": \"scattermapbox\"}], \"name\": \"2020-02-15\"}, {\"data\": [{\"hoverlabel\": {\"namelength\": 0}, \"hovertemplate\": \"<b>%{hovertext}</b><br><br>Date=2020-02-16<br>Total=%{marker.size}<br>Reporting_PHU_Latitude=%{lat}<br>Reporting_PHU_Longitude=%{lon}<br>Total Percent Travelled=%{marker.color}\", \"hovertext\": [\"Durham Region Health Department\", \"Eastern Ontario Health Unit\", \"Halton Region Health Department\", \"Hamilton Public Health Services\", \"Middlesex-London Health Unit\", \"Niagara Region Public Health Department\", \"Ottawa Public Health\", \"Peel Public Health\", \"Region of Waterloo, Public Health\", \"Simcoe Muskoka District Health Unit\", \"Sudbury & District Health Unit\", \"Toronto Public Health\", \"York Region Public Health Services\"], \"lat\": [43.898605, 45.02915233, 43.41399692, 43.2576311, 42.98146842, 43.1165366, 45.3456651, 43.6474713, 43.46287573, 44.41071258, 46.46609195, 43.65659125, 44.048023], \"legendgroup\": \"\", \"lon\": [-78.940341, -74.73629779, -79.74479581, -79.87134089, -81.25401572, -79.2412197, -75.7639122, -79.7088933, -80.52091315, -79.68630597, -80.99805884, -79.37935801, -79.480239], \"marker\": {\"color\": [0.0, 0.0, 0.0, 0.0, 100.0, 0.0, 0.0, 0.0, 0.0, 0.0, 0.0, 100.0, 0.0], \"coloraxis\": \"coloraxis\", \"size\": [0, 0, 0, 0, 1, 0, 0, 0, 0, 0, 0, 5, 0], \"sizemode\": \"area\", \"sizeref\": 0.034375}, \"mode\": \"markers\", \"name\": \"\", \"showlegend\": false, \"subplot\": \"mapbox\", \"type\": \"scattermapbox\"}], \"name\": \"2020-02-16\"}, {\"data\": [{\"hoverlabel\": {\"namelength\": 0}, \"hovertemplate\": \"<b>%{hovertext}</b><br><br>Date=2020-02-17<br>Total=%{marker.size}<br>Reporting_PHU_Latitude=%{lat}<br>Reporting_PHU_Longitude=%{lon}<br>Total Percent Travelled=%{marker.color}\", \"hovertext\": [\"Durham Region Health Department\", \"Eastern Ontario Health Unit\", \"Halton Region Health Department\", \"Hamilton Public Health Services\", \"Middlesex-London Health Unit\", \"Niagara Region Public Health Department\", \"Ottawa Public Health\", \"Peel Public Health\", \"Region of Waterloo, Public Health\", \"Simcoe Muskoka District Health Unit\", \"Sudbury & District Health Unit\", \"Toronto Public Health\", \"York Region Public Health Services\"], \"lat\": [43.898605, 45.02915233, 43.41399692, 43.2576311, 42.98146842, 43.1165366, 45.3456651, 43.6474713, 43.46287573, 44.41071258, 46.46609195, 43.65659125, 44.048023], \"legendgroup\": \"\", \"lon\": [-78.940341, -74.73629779, -79.74479581, -79.87134089, -81.25401572, -79.2412197, -75.7639122, -79.7088933, -80.52091315, -79.68630597, -80.99805884, -79.37935801, -79.480239], \"marker\": {\"color\": [0.0, 0.0, 0.0, 0.0, 100.0, 0.0, 0.0, 0.0, 0.0, 0.0, 0.0, 100.0, 0.0], \"coloraxis\": \"coloraxis\", \"size\": [0, 0, 0, 0, 1, 0, 0, 0, 0, 0, 0, 5, 0], \"sizemode\": \"area\", \"sizeref\": 0.034375}, \"mode\": \"markers\", \"name\": \"\", \"showlegend\": false, \"subplot\": \"mapbox\", \"type\": \"scattermapbox\"}], \"name\": \"2020-02-17\"}, {\"data\": [{\"hoverlabel\": {\"namelength\": 0}, \"hovertemplate\": \"<b>%{hovertext}</b><br><br>Date=2020-02-18<br>Total=%{marker.size}<br>Reporting_PHU_Latitude=%{lat}<br>Reporting_PHU_Longitude=%{lon}<br>Total Percent Travelled=%{marker.color}\", \"hovertext\": [\"Durham Region Health Department\", \"Eastern Ontario Health Unit\", \"Halton Region Health Department\", \"Hamilton Public Health Services\", \"Middlesex-London Health Unit\", \"Niagara Region Public Health Department\", \"Ottawa Public Health\", \"Peel Public Health\", \"Region of Waterloo, Public Health\", \"Simcoe Muskoka District Health Unit\", \"Sudbury & District Health Unit\", \"Toronto Public Health\", \"York Region Public Health Services\"], \"lat\": [43.898605, 45.02915233, 43.41399692, 43.2576311, 42.98146842, 43.1165366, 45.3456651, 43.6474713, 43.46287573, 44.41071258, 46.46609195, 43.65659125, 44.048023], \"legendgroup\": \"\", \"lon\": [-78.940341, -74.73629779, -79.74479581, -79.87134089, -81.25401572, -79.2412197, -75.7639122, -79.7088933, -80.52091315, -79.68630597, -80.99805884, -79.37935801, -79.480239], \"marker\": {\"color\": [0.0, 0.0, 0.0, 0.0, 100.0, 0.0, 0.0, 0.0, 0.0, 0.0, 0.0, 100.0, 0.0], \"coloraxis\": \"coloraxis\", \"size\": [0, 0, 0, 0, 1, 0, 0, 0, 0, 0, 0, 5, 0], \"sizemode\": \"area\", \"sizeref\": 0.034375}, \"mode\": \"markers\", \"name\": \"\", \"showlegend\": false, \"subplot\": \"mapbox\", \"type\": \"scattermapbox\"}], \"name\": \"2020-02-18\"}, {\"data\": [{\"hoverlabel\": {\"namelength\": 0}, \"hovertemplate\": \"<b>%{hovertext}</b><br><br>Date=2020-02-19<br>Total=%{marker.size}<br>Reporting_PHU_Latitude=%{lat}<br>Reporting_PHU_Longitude=%{lon}<br>Total Percent Travelled=%{marker.color}\", \"hovertext\": [\"Durham Region Health Department\", \"Eastern Ontario Health Unit\", \"Halton Region Health Department\", \"Hamilton Public Health Services\", \"Middlesex-London Health Unit\", \"Niagara Region Public Health Department\", \"Ottawa Public Health\", \"Peel Public Health\", \"Region of Waterloo, Public Health\", \"Simcoe Muskoka District Health Unit\", \"Sudbury & District Health Unit\", \"Toronto Public Health\", \"York Region Public Health Services\"], \"lat\": [43.898605, 45.02915233, 43.41399692, 43.2576311, 42.98146842, 43.1165366, 45.3456651, 43.6474713, 43.46287573, 44.41071258, 46.46609195, 43.65659125, 44.048023], \"legendgroup\": \"\", \"lon\": [-78.940341, -74.73629779, -79.74479581, -79.87134089, -81.25401572, -79.2412197, -75.7639122, -79.7088933, -80.52091315, -79.68630597, -80.99805884, -79.37935801, -79.480239], \"marker\": {\"color\": [0.0, 0.0, 0.0, 0.0, 100.0, 0.0, 0.0, 0.0, 0.0, 0.0, 0.0, 100.0, 0.0], \"coloraxis\": \"coloraxis\", \"size\": [0, 0, 0, 0, 1, 0, 0, 0, 0, 0, 0, 5, 0], \"sizemode\": \"area\", \"sizeref\": 0.034375}, \"mode\": \"markers\", \"name\": \"\", \"showlegend\": false, \"subplot\": \"mapbox\", \"type\": \"scattermapbox\"}], \"name\": \"2020-02-19\"}, {\"data\": [{\"hoverlabel\": {\"namelength\": 0}, \"hovertemplate\": \"<b>%{hovertext}</b><br><br>Date=2020-02-20<br>Total=%{marker.size}<br>Reporting_PHU_Latitude=%{lat}<br>Reporting_PHU_Longitude=%{lon}<br>Total Percent Travelled=%{marker.color}\", \"hovertext\": [\"Durham Region Health Department\", \"Eastern Ontario Health Unit\", \"Halton Region Health Department\", \"Hamilton Public Health Services\", \"Middlesex-London Health Unit\", \"Niagara Region Public Health Department\", \"Ottawa Public Health\", \"Peel Public Health\", \"Region of Waterloo, Public Health\", \"Simcoe Muskoka District Health Unit\", \"Sudbury & District Health Unit\", \"Toronto Public Health\", \"York Region Public Health Services\"], \"lat\": [43.898605, 45.02915233, 43.41399692, 43.2576311, 42.98146842, 43.1165366, 45.3456651, 43.6474713, 43.46287573, 44.41071258, 46.46609195, 43.65659125, 44.048023], \"legendgroup\": \"\", \"lon\": [-78.940341, -74.73629779, -79.74479581, -79.87134089, -81.25401572, -79.2412197, -75.7639122, -79.7088933, -80.52091315, -79.68630597, -80.99805884, -79.37935801, -79.480239], \"marker\": {\"color\": [0.0, 0.0, 0.0, 0.0, 100.0, 0.0, 0.0, 0.0, 0.0, 0.0, 0.0, 85.71428571428571, 0.0], \"coloraxis\": \"coloraxis\", \"size\": [0, 0, 0, 0, 1, 0, 0, 0, 0, 0, 0, 7, 0], \"sizemode\": \"area\", \"sizeref\": 0.034375}, \"mode\": \"markers\", \"name\": \"\", \"showlegend\": false, \"subplot\": \"mapbox\", \"type\": \"scattermapbox\"}], \"name\": \"2020-02-20\"}, {\"data\": [{\"hoverlabel\": {\"namelength\": 0}, \"hovertemplate\": \"<b>%{hovertext}</b><br><br>Date=2020-02-21<br>Total=%{marker.size}<br>Reporting_PHU_Latitude=%{lat}<br>Reporting_PHU_Longitude=%{lon}<br>Total Percent Travelled=%{marker.color}\", \"hovertext\": [\"Durham Region Health Department\", \"Eastern Ontario Health Unit\", \"Halton Region Health Department\", \"Hamilton Public Health Services\", \"Middlesex-London Health Unit\", \"Niagara Region Public Health Department\", \"Ottawa Public Health\", \"Peel Public Health\", \"Region of Waterloo, Public Health\", \"Simcoe Muskoka District Health Unit\", \"Sudbury & District Health Unit\", \"Toronto Public Health\", \"York Region Public Health Services\"], \"lat\": [43.898605, 45.02915233, 43.41399692, 43.2576311, 42.98146842, 43.1165366, 45.3456651, 43.6474713, 43.46287573, 44.41071258, 46.46609195, 43.65659125, 44.048023], \"legendgroup\": \"\", \"lon\": [-78.940341, -74.73629779, -79.74479581, -79.87134089, -81.25401572, -79.2412197, -75.7639122, -79.7088933, -80.52091315, -79.68630597, -80.99805884, -79.37935801, -79.480239], \"marker\": {\"color\": [0.0, 0.0, 0.0, 0.0, 100.0, 0.0, 0.0, 0.0, 0.0, 0.0, 0.0, 87.5, 0.0], \"coloraxis\": \"coloraxis\", \"size\": [0, 0, 0, 0, 1, 0, 0, 0, 0, 0, 0, 8, 0], \"sizemode\": \"area\", \"sizeref\": 0.034375}, \"mode\": \"markers\", \"name\": \"\", \"showlegend\": false, \"subplot\": \"mapbox\", \"type\": \"scattermapbox\"}], \"name\": \"2020-02-21\"}, {\"data\": [{\"hoverlabel\": {\"namelength\": 0}, \"hovertemplate\": \"<b>%{hovertext}</b><br><br>Date=2020-02-22<br>Total=%{marker.size}<br>Reporting_PHU_Latitude=%{lat}<br>Reporting_PHU_Longitude=%{lon}<br>Total Percent Travelled=%{marker.color}\", \"hovertext\": [\"Durham Region Health Department\", \"Eastern Ontario Health Unit\", \"Halton Region Health Department\", \"Hamilton Public Health Services\", \"Middlesex-London Health Unit\", \"Niagara Region Public Health Department\", \"Ottawa Public Health\", \"Peel Public Health\", \"Region of Waterloo, Public Health\", \"Simcoe Muskoka District Health Unit\", \"Sudbury & District Health Unit\", \"Toronto Public Health\", \"York Region Public Health Services\"], \"lat\": [43.898605, 45.02915233, 43.41399692, 43.2576311, 42.98146842, 43.1165366, 45.3456651, 43.6474713, 43.46287573, 44.41071258, 46.46609195, 43.65659125, 44.048023], \"legendgroup\": \"\", \"lon\": [-78.940341, -74.73629779, -79.74479581, -79.87134089, -81.25401572, -79.2412197, -75.7639122, -79.7088933, -80.52091315, -79.68630597, -80.99805884, -79.37935801, -79.480239], \"marker\": {\"color\": [0.0, 0.0, 0.0, 0.0, 100.0, 0.0, 0.0, 0.0, 0.0, 0.0, 0.0, 87.5, 100.0], \"coloraxis\": \"coloraxis\", \"size\": [0, 0, 0, 0, 1, 0, 0, 0, 0, 0, 0, 8, 2], \"sizemode\": \"area\", \"sizeref\": 0.034375}, \"mode\": \"markers\", \"name\": \"\", \"showlegend\": false, \"subplot\": \"mapbox\", \"type\": \"scattermapbox\"}], \"name\": \"2020-02-22\"}, {\"data\": [{\"hoverlabel\": {\"namelength\": 0}, \"hovertemplate\": \"<b>%{hovertext}</b><br><br>Date=2020-02-23<br>Total=%{marker.size}<br>Reporting_PHU_Latitude=%{lat}<br>Reporting_PHU_Longitude=%{lon}<br>Total Percent Travelled=%{marker.color}\", \"hovertext\": [\"Durham Region Health Department\", \"Eastern Ontario Health Unit\", \"Halton Region Health Department\", \"Hamilton Public Health Services\", \"Middlesex-London Health Unit\", \"Niagara Region Public Health Department\", \"Ottawa Public Health\", \"Peel Public Health\", \"Region of Waterloo, Public Health\", \"Simcoe Muskoka District Health Unit\", \"Sudbury & District Health Unit\", \"Toronto Public Health\", \"York Region Public Health Services\"], \"lat\": [43.898605, 45.02915233, 43.41399692, 43.2576311, 42.98146842, 43.1165366, 45.3456651, 43.6474713, 43.46287573, 44.41071258, 46.46609195, 43.65659125, 44.048023], \"legendgroup\": \"\", \"lon\": [-78.940341, -74.73629779, -79.74479581, -79.87134089, -81.25401572, -79.2412197, -75.7639122, -79.7088933, -80.52091315, -79.68630597, -80.99805884, -79.37935801, -79.480239], \"marker\": {\"color\": [0.0, 0.0, 0.0, 0.0, 100.0, 0.0, 0.0, 0.0, 0.0, 0.0, 0.0, 87.5, 100.0], \"coloraxis\": \"coloraxis\", \"size\": [0, 0, 0, 0, 1, 0, 0, 0, 0, 0, 0, 8, 3], \"sizemode\": \"area\", \"sizeref\": 0.034375}, \"mode\": \"markers\", \"name\": \"\", \"showlegend\": false, \"subplot\": \"mapbox\", \"type\": \"scattermapbox\"}], \"name\": \"2020-02-23\"}, {\"data\": [{\"hoverlabel\": {\"namelength\": 0}, \"hovertemplate\": \"<b>%{hovertext}</b><br><br>Date=2020-02-24<br>Total=%{marker.size}<br>Reporting_PHU_Latitude=%{lat}<br>Reporting_PHU_Longitude=%{lon}<br>Total Percent Travelled=%{marker.color}\", \"hovertext\": [\"Durham Region Health Department\", \"Eastern Ontario Health Unit\", \"Halton Region Health Department\", \"Hamilton Public Health Services\", \"Middlesex-London Health Unit\", \"Niagara Region Public Health Department\", \"Ottawa Public Health\", \"Peel Public Health\", \"Region of Waterloo, Public Health\", \"Simcoe Muskoka District Health Unit\", \"Sudbury & District Health Unit\", \"Toronto Public Health\", \"York Region Public Health Services\"], \"lat\": [43.898605, 45.02915233, 43.41399692, 43.2576311, 42.98146842, 43.1165366, 45.3456651, 43.6474713, 43.46287573, 44.41071258, 46.46609195, 43.65659125, 44.048023], \"legendgroup\": \"\", \"lon\": [-78.940341, -74.73629779, -79.74479581, -79.87134089, -81.25401572, -79.2412197, -75.7639122, -79.7088933, -80.52091315, -79.68630597, -80.99805884, -79.37935801, -79.480239], \"marker\": {\"color\": [100.0, 0.0, 0.0, 0.0, 100.0, 0.0, 0.0, 0.0, 0.0, 0.0, 0.0, 88.88888888888889, 100.0], \"coloraxis\": \"coloraxis\", \"size\": [1, 0, 0, 0, 1, 0, 0, 0, 0, 0, 0, 9, 3], \"sizemode\": \"area\", \"sizeref\": 0.034375}, \"mode\": \"markers\", \"name\": \"\", \"showlegend\": false, \"subplot\": \"mapbox\", \"type\": \"scattermapbox\"}], \"name\": \"2020-02-24\"}, {\"data\": [{\"hoverlabel\": {\"namelength\": 0}, \"hovertemplate\": \"<b>%{hovertext}</b><br><br>Date=2020-02-25<br>Total=%{marker.size}<br>Reporting_PHU_Latitude=%{lat}<br>Reporting_PHU_Longitude=%{lon}<br>Total Percent Travelled=%{marker.color}\", \"hovertext\": [\"Durham Region Health Department\", \"Eastern Ontario Health Unit\", \"Halton Region Health Department\", \"Hamilton Public Health Services\", \"Middlesex-London Health Unit\", \"Niagara Region Public Health Department\", \"Ottawa Public Health\", \"Peel Public Health\", \"Region of Waterloo, Public Health\", \"Simcoe Muskoka District Health Unit\", \"Sudbury & District Health Unit\", \"Toronto Public Health\", \"York Region Public Health Services\"], \"lat\": [43.898605, 45.02915233, 43.41399692, 43.2576311, 42.98146842, 43.1165366, 45.3456651, 43.6474713, 43.46287573, 44.41071258, 46.46609195, 43.65659125, 44.048023], \"legendgroup\": \"\", \"lon\": [-78.940341, -74.73629779, -79.74479581, -79.87134089, -81.25401572, -79.2412197, -75.7639122, -79.7088933, -80.52091315, -79.68630597, -80.99805884, -79.37935801, -79.480239], \"marker\": {\"color\": [100.0, 0.0, 0.0, 0.0, 100.0, 0.0, 0.0, 100.0, 0.0, 0.0, 0.0, 88.88888888888889, 100.0], \"coloraxis\": \"coloraxis\", \"size\": [1, 0, 0, 0, 1, 0, 0, 1, 0, 0, 0, 9, 4], \"sizemode\": \"area\", \"sizeref\": 0.034375}, \"mode\": \"markers\", \"name\": \"\", \"showlegend\": false, \"subplot\": \"mapbox\", \"type\": \"scattermapbox\"}], \"name\": \"2020-02-25\"}, {\"data\": [{\"hoverlabel\": {\"namelength\": 0}, \"hovertemplate\": \"<b>%{hovertext}</b><br><br>Date=2020-02-26<br>Total=%{marker.size}<br>Reporting_PHU_Latitude=%{lat}<br>Reporting_PHU_Longitude=%{lon}<br>Total Percent Travelled=%{marker.color}\", \"hovertext\": [\"Durham Region Health Department\", \"Eastern Ontario Health Unit\", \"Halton Region Health Department\", \"Hamilton Public Health Services\", \"Middlesex-London Health Unit\", \"Niagara Region Public Health Department\", \"Ottawa Public Health\", \"Peel Public Health\", \"Region of Waterloo, Public Health\", \"Simcoe Muskoka District Health Unit\", \"Sudbury & District Health Unit\", \"Toronto Public Health\", \"York Region Public Health Services\"], \"lat\": [43.898605, 45.02915233, 43.41399692, 43.2576311, 42.98146842, 43.1165366, 45.3456651, 43.6474713, 43.46287573, 44.41071258, 46.46609195, 43.65659125, 44.048023], \"legendgroup\": \"\", \"lon\": [-78.940341, -74.73629779, -79.74479581, -79.87134089, -81.25401572, -79.2412197, -75.7639122, -79.7088933, -80.52091315, -79.68630597, -80.99805884, -79.37935801, -79.480239], \"marker\": {\"color\": [50.0, 0.0, 0.0, 0.0, 100.0, 0.0, 0.0, 100.0, 0.0, 0.0, 0.0, 90.0, 100.0], \"coloraxis\": \"coloraxis\", \"size\": [2, 0, 0, 0, 1, 0, 0, 1, 0, 0, 0, 10, 4], \"sizemode\": \"area\", \"sizeref\": 0.034375}, \"mode\": \"markers\", \"name\": \"\", \"showlegend\": false, \"subplot\": \"mapbox\", \"type\": \"scattermapbox\"}], \"name\": \"2020-02-26\"}, {\"data\": [{\"hoverlabel\": {\"namelength\": 0}, \"hovertemplate\": \"<b>%{hovertext}</b><br><br>Date=2020-02-27<br>Total=%{marker.size}<br>Reporting_PHU_Latitude=%{lat}<br>Reporting_PHU_Longitude=%{lon}<br>Total Percent Travelled=%{marker.color}\", \"hovertext\": [\"Durham Region Health Department\", \"Eastern Ontario Health Unit\", \"Halton Region Health Department\", \"Hamilton Public Health Services\", \"Middlesex-London Health Unit\", \"Niagara Region Public Health Department\", \"Ottawa Public Health\", \"Peel Public Health\", \"Region of Waterloo, Public Health\", \"Simcoe Muskoka District Health Unit\", \"Sudbury & District Health Unit\", \"Toronto Public Health\", \"York Region Public Health Services\"], \"lat\": [43.898605, 45.02915233, 43.41399692, 43.2576311, 42.98146842, 43.1165366, 45.3456651, 43.6474713, 43.46287573, 44.41071258, 46.46609195, 43.65659125, 44.048023], \"legendgroup\": \"\", \"lon\": [-78.940341, -74.73629779, -79.74479581, -79.87134089, -81.25401572, -79.2412197, -75.7639122, -79.7088933, -80.52091315, -79.68630597, -80.99805884, -79.37935801, -79.480239], \"marker\": {\"color\": [50.0, 0.0, 0.0, 0.0, 100.0, 0.0, 0.0, 100.0, 0.0, 0.0, 0.0, 90.0, 100.0], \"coloraxis\": \"coloraxis\", \"size\": [2, 0, 0, 0, 1, 0, 0, 1, 0, 0, 0, 10, 5], \"sizemode\": \"area\", \"sizeref\": 0.034375}, \"mode\": \"markers\", \"name\": \"\", \"showlegend\": false, \"subplot\": \"mapbox\", \"type\": \"scattermapbox\"}], \"name\": \"2020-02-27\"}, {\"data\": [{\"hoverlabel\": {\"namelength\": 0}, \"hovertemplate\": \"<b>%{hovertext}</b><br><br>Date=2020-02-28<br>Total=%{marker.size}<br>Reporting_PHU_Latitude=%{lat}<br>Reporting_PHU_Longitude=%{lon}<br>Total Percent Travelled=%{marker.color}\", \"hovertext\": [\"Durham Region Health Department\", \"Eastern Ontario Health Unit\", \"Halton Region Health Department\", \"Hamilton Public Health Services\", \"Middlesex-London Health Unit\", \"Niagara Region Public Health Department\", \"Ottawa Public Health\", \"Peel Public Health\", \"Region of Waterloo, Public Health\", \"Simcoe Muskoka District Health Unit\", \"Sudbury & District Health Unit\", \"Toronto Public Health\", \"York Region Public Health Services\"], \"lat\": [43.898605, 45.02915233, 43.41399692, 43.2576311, 42.98146842, 43.1165366, 45.3456651, 43.6474713, 43.46287573, 44.41071258, 46.46609195, 43.65659125, 44.048023], \"legendgroup\": \"\", \"lon\": [-78.940341, -74.73629779, -79.74479581, -79.87134089, -81.25401572, -79.2412197, -75.7639122, -79.7088933, -80.52091315, -79.68630597, -80.99805884, -79.37935801, -79.480239], \"marker\": {\"color\": [50.0, 0.0, 0.0, 0.0, 100.0, 0.0, 0.0, 100.0, 0.0, 0.0, 0.0, 90.9090909090909, 100.0], \"coloraxis\": \"coloraxis\", \"size\": [2, 0, 0, 0, 1, 0, 0, 1, 0, 0, 0, 11, 7], \"sizemode\": \"area\", \"sizeref\": 0.034375}, \"mode\": \"markers\", \"name\": \"\", \"showlegend\": false, \"subplot\": \"mapbox\", \"type\": \"scattermapbox\"}], \"name\": \"2020-02-28\"}, {\"data\": [{\"hoverlabel\": {\"namelength\": 0}, \"hovertemplate\": \"<b>%{hovertext}</b><br><br>Date=2020-02-29<br>Total=%{marker.size}<br>Reporting_PHU_Latitude=%{lat}<br>Reporting_PHU_Longitude=%{lon}<br>Total Percent Travelled=%{marker.color}\", \"hovertext\": [\"Durham Region Health Department\", \"Eastern Ontario Health Unit\", \"Halton Region Health Department\", \"Hamilton Public Health Services\", \"Middlesex-London Health Unit\", \"Niagara Region Public Health Department\", \"Ottawa Public Health\", \"Peel Public Health\", \"Region of Waterloo, Public Health\", \"Simcoe Muskoka District Health Unit\", \"Sudbury & District Health Unit\", \"Toronto Public Health\", \"York Region Public Health Services\"], \"lat\": [43.898605, 45.02915233, 43.41399692, 43.2576311, 42.98146842, 43.1165366, 45.3456651, 43.6474713, 43.46287573, 44.41071258, 46.46609195, 43.65659125, 44.048023], \"legendgroup\": \"\", \"lon\": [-78.940341, -74.73629779, -79.74479581, -79.87134089, -81.25401572, -79.2412197, -75.7639122, -79.7088933, -80.52091315, -79.68630597, -80.99805884, -79.37935801, -79.480239], \"marker\": {\"color\": [50.0, 0.0, 0.0, 0.0, 100.0, 0.0, 0.0, 100.0, 100.0, 0.0, 0.0, 91.66666666666667, 100.0], \"coloraxis\": \"coloraxis\", \"size\": [2, 0, 0, 0, 1, 0, 0, 2, 1, 0, 0, 12, 7], \"sizemode\": \"area\", \"sizeref\": 0.034375}, \"mode\": \"markers\", \"name\": \"\", \"showlegend\": false, \"subplot\": \"mapbox\", \"type\": \"scattermapbox\"}], \"name\": \"2020-02-29\"}, {\"data\": [{\"hoverlabel\": {\"namelength\": 0}, \"hovertemplate\": \"<b>%{hovertext}</b><br><br>Date=2020-03-01<br>Total=%{marker.size}<br>Reporting_PHU_Latitude=%{lat}<br>Reporting_PHU_Longitude=%{lon}<br>Total Percent Travelled=%{marker.color}\", \"hovertext\": [\"Durham Region Health Department\", \"Eastern Ontario Health Unit\", \"Halton Region Health Department\", \"Hamilton Public Health Services\", \"Middlesex-London Health Unit\", \"Niagara Region Public Health Department\", \"Ottawa Public Health\", \"Peel Public Health\", \"Region of Waterloo, Public Health\", \"Simcoe Muskoka District Health Unit\", \"Sudbury & District Health Unit\", \"Toronto Public Health\", \"York Region Public Health Services\"], \"lat\": [43.898605, 45.02915233, 43.41399692, 43.2576311, 42.98146842, 43.1165366, 45.3456651, 43.6474713, 43.46287573, 44.41071258, 46.46609195, 43.65659125, 44.048023], \"legendgroup\": \"\", \"lon\": [-78.940341, -74.73629779, -79.74479581, -79.87134089, -81.25401572, -79.2412197, -75.7639122, -79.7088933, -80.52091315, -79.68630597, -80.99805884, -79.37935801, -79.480239], \"marker\": {\"color\": [50.0, 0.0, 0.0, 0.0, 100.0, 0.0, 0.0, 100.0, 100.0, 0.0, 0.0, 92.3076923076923, 100.0], \"coloraxis\": \"coloraxis\", \"size\": [2, 0, 0, 0, 1, 0, 0, 2, 2, 0, 0, 13, 7], \"sizemode\": \"area\", \"sizeref\": 0.034375}, \"mode\": \"markers\", \"name\": \"\", \"showlegend\": false, \"subplot\": \"mapbox\", \"type\": \"scattermapbox\"}], \"name\": \"2020-03-01\"}, {\"data\": [{\"hoverlabel\": {\"namelength\": 0}, \"hovertemplate\": \"<b>%{hovertext}</b><br><br>Date=2020-03-02<br>Total=%{marker.size}<br>Reporting_PHU_Latitude=%{lat}<br>Reporting_PHU_Longitude=%{lon}<br>Total Percent Travelled=%{marker.color}\", \"hovertext\": [\"Durham Region Health Department\", \"Eastern Ontario Health Unit\", \"Halton Region Health Department\", \"Hamilton Public Health Services\", \"Middlesex-London Health Unit\", \"Niagara Region Public Health Department\", \"Ottawa Public Health\", \"Peel Public Health\", \"Region of Waterloo, Public Health\", \"Simcoe Muskoka District Health Unit\", \"Sudbury & District Health Unit\", \"Toronto Public Health\", \"York Region Public Health Services\"], \"lat\": [43.898605, 45.02915233, 43.41399692, 43.2576311, 42.98146842, 43.1165366, 45.3456651, 43.6474713, 43.46287573, 44.41071258, 46.46609195, 43.65659125, 44.048023], \"legendgroup\": \"\", \"lon\": [-78.940341, -74.73629779, -79.74479581, -79.87134089, -81.25401572, -79.2412197, -75.7639122, -79.7088933, -80.52091315, -79.68630597, -80.99805884, -79.37935801, -79.480239], \"marker\": {\"color\": [50.0, 0.0, 0.0, 0.0, 100.0, 0.0, 100.0, 100.0, 100.0, 0.0, 0.0, 94.44444444444444, 100.0], \"coloraxis\": \"coloraxis\", \"size\": [2, 0, 0, 0, 1, 0, 2, 3, 2, 0, 0, 18, 7], \"sizemode\": \"area\", \"sizeref\": 0.034375}, \"mode\": \"markers\", \"name\": \"\", \"showlegend\": false, \"subplot\": \"mapbox\", \"type\": \"scattermapbox\"}], \"name\": \"2020-03-02\"}, {\"data\": [{\"hoverlabel\": {\"namelength\": 0}, \"hovertemplate\": \"<b>%{hovertext}</b><br><br>Date=2020-03-03<br>Total=%{marker.size}<br>Reporting_PHU_Latitude=%{lat}<br>Reporting_PHU_Longitude=%{lon}<br>Total Percent Travelled=%{marker.color}\", \"hovertext\": [\"Durham Region Health Department\", \"Eastern Ontario Health Unit\", \"Halton Region Health Department\", \"Hamilton Public Health Services\", \"Middlesex-London Health Unit\", \"Niagara Region Public Health Department\", \"Ottawa Public Health\", \"Peel Public Health\", \"Region of Waterloo, Public Health\", \"Simcoe Muskoka District Health Unit\", \"Sudbury & District Health Unit\", \"Toronto Public Health\", \"York Region Public Health Services\"], \"lat\": [43.898605, 45.02915233, 43.41399692, 43.2576311, 42.98146842, 43.1165366, 45.3456651, 43.6474713, 43.46287573, 44.41071258, 46.46609195, 43.65659125, 44.048023], \"legendgroup\": \"\", \"lon\": [-78.940341, -74.73629779, -79.74479581, -79.87134089, -81.25401572, -79.2412197, -75.7639122, -79.7088933, -80.52091315, -79.68630597, -80.99805884, -79.37935801, -79.480239], \"marker\": {\"color\": [50.0, 0.0, 0.0, 0.0, 100.0, 0.0, 100.0, 100.0, 100.0, 0.0, 0.0, 95.83333333333333, 100.0], \"coloraxis\": \"coloraxis\", \"size\": [2, 0, 0, 0, 1, 0, 2, 3, 2, 0, 0, 24, 7], \"sizemode\": \"area\", \"sizeref\": 0.034375}, \"mode\": \"markers\", \"name\": \"\", \"showlegend\": false, \"subplot\": \"mapbox\", \"type\": \"scattermapbox\"}], \"name\": \"2020-03-03\"}, {\"data\": [{\"hoverlabel\": {\"namelength\": 0}, \"hovertemplate\": \"<b>%{hovertext}</b><br><br>Date=2020-03-04<br>Total=%{marker.size}<br>Reporting_PHU_Latitude=%{lat}<br>Reporting_PHU_Longitude=%{lon}<br>Total Percent Travelled=%{marker.color}\", \"hovertext\": [\"Durham Region Health Department\", \"Eastern Ontario Health Unit\", \"Halton Region Health Department\", \"Hamilton Public Health Services\", \"Middlesex-London Health Unit\", \"Niagara Region Public Health Department\", \"Ottawa Public Health\", \"Peel Public Health\", \"Region of Waterloo, Public Health\", \"Simcoe Muskoka District Health Unit\", \"Sudbury & District Health Unit\", \"Toronto Public Health\", \"York Region Public Health Services\"], \"lat\": [43.898605, 45.02915233, 43.41399692, 43.2576311, 42.98146842, 43.1165366, 45.3456651, 43.6474713, 43.46287573, 44.41071258, 46.46609195, 43.65659125, 44.048023], \"legendgroup\": \"\", \"lon\": [-78.940341, -74.73629779, -79.74479581, -79.87134089, -81.25401572, -79.2412197, -75.7639122, -79.7088933, -80.52091315, -79.68630597, -80.99805884, -79.37935801, -79.480239], \"marker\": {\"color\": [50.0, 0.0, 0.0, 0.0, 100.0, 0.0, 100.0, 100.0, 100.0, 0.0, 0.0, 96.29629629629629, 100.0], \"coloraxis\": \"coloraxis\", \"size\": [2, 0, 0, 0, 1, 0, 2, 3, 2, 0, 0, 27, 7], \"sizemode\": \"area\", \"sizeref\": 0.034375}, \"mode\": \"markers\", \"name\": \"\", \"showlegend\": false, \"subplot\": \"mapbox\", \"type\": \"scattermapbox\"}], \"name\": \"2020-03-04\"}, {\"data\": [{\"hoverlabel\": {\"namelength\": 0}, \"hovertemplate\": \"<b>%{hovertext}</b><br><br>Date=2020-03-05<br>Total=%{marker.size}<br>Reporting_PHU_Latitude=%{lat}<br>Reporting_PHU_Longitude=%{lon}<br>Total Percent Travelled=%{marker.color}\", \"hovertext\": [\"Durham Region Health Department\", \"Eastern Ontario Health Unit\", \"Halton Region Health Department\", \"Hamilton Public Health Services\", \"Middlesex-London Health Unit\", \"Niagara Region Public Health Department\", \"Ottawa Public Health\", \"Peel Public Health\", \"Region of Waterloo, Public Health\", \"Simcoe Muskoka District Health Unit\", \"Sudbury & District Health Unit\", \"Toronto Public Health\", \"York Region Public Health Services\"], \"lat\": [43.898605, 45.02915233, 43.41399692, 43.2576311, 42.98146842, 43.1165366, 45.3456651, 43.6474713, 43.46287573, 44.41071258, 46.46609195, 43.65659125, 44.048023], \"legendgroup\": \"\", \"lon\": [-78.940341, -74.73629779, -79.74479581, -79.87134089, -81.25401572, -79.2412197, -75.7639122, -79.7088933, -80.52091315, -79.68630597, -80.99805884, -79.37935801, -79.480239], \"marker\": {\"color\": [50.0, 0.0, 0.0, 0.0, 100.0, 0.0, 100.0, 75.0, 100.0, 0.0, 0.0, 96.55172413793103, 100.0], \"coloraxis\": \"coloraxis\", \"size\": [2, 0, 0, 0, 1, 0, 3, 4, 2, 0, 0, 29, 7], \"sizemode\": \"area\", \"sizeref\": 0.034375}, \"mode\": \"markers\", \"name\": \"\", \"showlegend\": false, \"subplot\": \"mapbox\", \"type\": \"scattermapbox\"}], \"name\": \"2020-03-05\"}, {\"data\": [{\"hoverlabel\": {\"namelength\": 0}, \"hovertemplate\": \"<b>%{hovertext}</b><br><br>Date=2020-03-06<br>Total=%{marker.size}<br>Reporting_PHU_Latitude=%{lat}<br>Reporting_PHU_Longitude=%{lon}<br>Total Percent Travelled=%{marker.color}\", \"hovertext\": [\"Durham Region Health Department\", \"Eastern Ontario Health Unit\", \"Halton Region Health Department\", \"Hamilton Public Health Services\", \"Middlesex-London Health Unit\", \"Niagara Region Public Health Department\", \"Ottawa Public Health\", \"Peel Public Health\", \"Region of Waterloo, Public Health\", \"Simcoe Muskoka District Health Unit\", \"Sudbury & District Health Unit\", \"Toronto Public Health\", \"York Region Public Health Services\"], \"lat\": [43.898605, 45.02915233, 43.41399692, 43.2576311, 42.98146842, 43.1165366, 45.3456651, 43.6474713, 43.46287573, 44.41071258, 46.46609195, 43.65659125, 44.048023], \"legendgroup\": \"\", \"lon\": [-78.940341, -74.73629779, -79.74479581, -79.87134089, -81.25401572, -79.2412197, -75.7639122, -79.7088933, -80.52091315, -79.68630597, -80.99805884, -79.37935801, -79.480239], \"marker\": {\"color\": [50.0, 0.0, 0.0, 0.0, 100.0, 0.0, 100.0, 75.0, 100.0, 0.0, 0.0, 93.54838709677419, 100.0], \"coloraxis\": \"coloraxis\", \"size\": [2, 0, 0, 0, 1, 0, 3, 4, 2, 0, 1, 31, 8], \"sizemode\": \"area\", \"sizeref\": 0.034375}, \"mode\": \"markers\", \"name\": \"\", \"showlegend\": false, \"subplot\": \"mapbox\", \"type\": \"scattermapbox\"}], \"name\": \"2020-03-06\"}, {\"data\": [{\"hoverlabel\": {\"namelength\": 0}, \"hovertemplate\": \"<b>%{hovertext}</b><br><br>Date=2020-03-07<br>Total=%{marker.size}<br>Reporting_PHU_Latitude=%{lat}<br>Reporting_PHU_Longitude=%{lon}<br>Total Percent Travelled=%{marker.color}\", \"hovertext\": [\"Durham Region Health Department\", \"Eastern Ontario Health Unit\", \"Halton Region Health Department\", \"Hamilton Public Health Services\", \"Middlesex-London Health Unit\", \"Niagara Region Public Health Department\", \"Ottawa Public Health\", \"Peel Public Health\", \"Region of Waterloo, Public Health\", \"Simcoe Muskoka District Health Unit\", \"Sudbury & District Health Unit\", \"Toronto Public Health\", \"York Region Public Health Services\"], \"lat\": [43.898605, 45.02915233, 43.41399692, 43.2576311, 42.98146842, 43.1165366, 45.3456651, 43.6474713, 43.46287573, 44.41071258, 46.46609195, 43.65659125, 44.048023], \"legendgroup\": \"\", \"lon\": [-78.940341, -74.73629779, -79.74479581, -79.87134089, -81.25401572, -79.2412197, -75.7639122, -79.7088933, -80.52091315, -79.68630597, -80.99805884, -79.37935801, -79.480239], \"marker\": {\"color\": [50.0, 0.0, 100.0, 100.0, 100.0, 0.0, 100.0, 75.0, 100.0, 0.0, 0.0, 88.57142857142857, 100.0], \"coloraxis\": \"coloraxis\", \"size\": [2, 0, 1, 1, 1, 0, 3, 4, 2, 0, 1, 35, 9], \"sizemode\": \"area\", \"sizeref\": 0.034375}, \"mode\": \"markers\", \"name\": \"\", \"showlegend\": false, \"subplot\": \"mapbox\", \"type\": \"scattermapbox\"}], \"name\": \"2020-03-07\"}, {\"data\": [{\"hoverlabel\": {\"namelength\": 0}, \"hovertemplate\": \"<b>%{hovertext}</b><br><br>Date=2020-03-08<br>Total=%{marker.size}<br>Reporting_PHU_Latitude=%{lat}<br>Reporting_PHU_Longitude=%{lon}<br>Total Percent Travelled=%{marker.color}\", \"hovertext\": [\"Durham Region Health Department\", \"Eastern Ontario Health Unit\", \"Halton Region Health Department\", \"Hamilton Public Health Services\", \"Middlesex-London Health Unit\", \"Niagara Region Public Health Department\", \"Ottawa Public Health\", \"Peel Public Health\", \"Region of Waterloo, Public Health\", \"Simcoe Muskoka District Health Unit\", \"Sudbury & District Health Unit\", \"Toronto Public Health\", \"York Region Public Health Services\"], \"lat\": [43.898605, 45.02915233, 43.41399692, 43.2576311, 42.98146842, 43.1165366, 45.3456651, 43.6474713, 43.46287573, 44.41071258, 46.46609195, 43.65659125, 44.048023], \"legendgroup\": \"\", \"lon\": [-78.940341, -74.73629779, -79.74479581, -79.87134089, -81.25401572, -79.2412197, -75.7639122, -79.7088933, -80.52091315, -79.68630597, -80.99805884, -79.37935801, -79.480239], \"marker\": {\"color\": [50.0, 0.0, 100.0, 100.0, 100.0, 0.0, 100.0, 75.0, 100.0, 100.0, 0.0, 84.21052631578948, 100.0], \"coloraxis\": \"coloraxis\", \"size\": [2, 0, 2, 1, 1, 0, 6, 4, 3, 1, 1, 38, 10], \"sizemode\": \"area\", \"sizeref\": 0.034375}, \"mode\": \"markers\", \"name\": \"\", \"showlegend\": false, \"subplot\": \"mapbox\", \"type\": \"scattermapbox\"}], \"name\": \"2020-03-08\"}, {\"data\": [{\"hoverlabel\": {\"namelength\": 0}, \"hovertemplate\": \"<b>%{hovertext}</b><br><br>Date=2020-03-09<br>Total=%{marker.size}<br>Reporting_PHU_Latitude=%{lat}<br>Reporting_PHU_Longitude=%{lon}<br>Total Percent Travelled=%{marker.color}\", \"hovertext\": [\"Durham Region Health Department\", \"Eastern Ontario Health Unit\", \"Halton Region Health Department\", \"Hamilton Public Health Services\", \"Middlesex-London Health Unit\", \"Niagara Region Public Health Department\", \"Ottawa Public Health\", \"Peel Public Health\", \"Region of Waterloo, Public Health\", \"Simcoe Muskoka District Health Unit\", \"Sudbury & District Health Unit\", \"Toronto Public Health\", \"York Region Public Health Services\"], \"lat\": [43.898605, 45.02915233, 43.41399692, 43.2576311, 42.98146842, 43.1165366, 45.3456651, 43.6474713, 43.46287573, 44.41071258, 46.46609195, 43.65659125, 44.048023], \"legendgroup\": \"\", \"lon\": [-78.940341, -74.73629779, -79.74479581, -79.87134089, -81.25401572, -79.2412197, -75.7639122, -79.7088933, -80.52091315, -79.68630597, -80.99805884, -79.37935801, -79.480239], \"marker\": {\"color\": [50.0, 100.0, 100.0, 100.0, 100.0, 0.0, 85.71428571428571, 80.0, 100.0, 100.0, 0.0, 81.81818181818181, 90.9090909090909], \"coloraxis\": \"coloraxis\", \"size\": [2, 1, 3, 1, 1, 0, 7, 5, 3, 1, 1, 44, 11], \"sizemode\": \"area\", \"sizeref\": 0.034375}, \"mode\": \"markers\", \"name\": \"\", \"showlegend\": false, \"subplot\": \"mapbox\", \"type\": \"scattermapbox\"}], \"name\": \"2020-03-09\"}, {\"data\": [{\"hoverlabel\": {\"namelength\": 0}, \"hovertemplate\": \"<b>%{hovertext}</b><br><br>Date=2020-03-10<br>Total=%{marker.size}<br>Reporting_PHU_Latitude=%{lat}<br>Reporting_PHU_Longitude=%{lon}<br>Total Percent Travelled=%{marker.color}\", \"hovertext\": [\"Durham Region Health Department\", \"Eastern Ontario Health Unit\", \"Halton Region Health Department\", \"Hamilton Public Health Services\", \"Middlesex-London Health Unit\", \"Niagara Region Public Health Department\", \"Ottawa Public Health\", \"Peel Public Health\", \"Region of Waterloo, Public Health\", \"Simcoe Muskoka District Health Unit\", \"Sudbury & District Health Unit\", \"Toronto Public Health\", \"York Region Public Health Services\"], \"lat\": [43.898605, 45.02915233, 43.41399692, 43.2576311, 42.98146842, 43.1165366, 45.3456651, 43.6474713, 43.46287573, 44.41071258, 46.46609195, 43.65659125, 44.048023], \"legendgroup\": \"\", \"lon\": [-78.940341, -74.73629779, -79.74479581, -79.87134089, -81.25401572, -79.2412197, -75.7639122, -79.7088933, -80.52091315, -79.68630597, -80.99805884, -79.37935801, -79.480239], \"marker\": {\"color\": [50.0, 100.0, 100.0, 100.0, 100.0, 0.0, 85.71428571428571, 75.0, 100.0, 100.0, 0.0, 80.0, 90.9090909090909], \"coloraxis\": \"coloraxis\", \"size\": [2, 1, 3, 1, 1, 1, 7, 8, 3, 1, 1, 50, 11], \"sizemode\": \"area\", \"sizeref\": 0.034375}, \"mode\": \"markers\", \"name\": \"\", \"showlegend\": false, \"subplot\": \"mapbox\", \"type\": \"scattermapbox\"}], \"name\": \"2020-03-10\"}, {\"data\": [{\"hoverlabel\": {\"namelength\": 0}, \"hovertemplate\": \"<b>%{hovertext}</b><br><br>Date=2020-03-11<br>Total=%{marker.size}<br>Reporting_PHU_Latitude=%{lat}<br>Reporting_PHU_Longitude=%{lon}<br>Total Percent Travelled=%{marker.color}\", \"hovertext\": [\"Durham Region Health Department\", \"Eastern Ontario Health Unit\", \"Halton Region Health Department\", \"Hamilton Public Health Services\", \"Middlesex-London Health Unit\", \"Niagara Region Public Health Department\", \"Ottawa Public Health\", \"Peel Public Health\", \"Region of Waterloo, Public Health\", \"Simcoe Muskoka District Health Unit\", \"Sudbury & District Health Unit\", \"Toronto Public Health\", \"York Region Public Health Services\"], \"lat\": [43.898605, 45.02915233, 43.41399692, 43.2576311, 42.98146842, 43.1165366, 45.3456651, 43.6474713, 43.46287573, 44.41071258, 46.46609195, 43.65659125, 44.048023], \"legendgroup\": \"\", \"lon\": [-78.940341, -74.73629779, -79.74479581, -79.87134089, -81.25401572, -79.2412197, -75.7639122, -79.7088933, -80.52091315, -79.68630597, -80.99805884, -79.37935801, -79.480239], \"marker\": {\"color\": [50.0, 100.0, 100.0, 100.0, 100.0, 0.0, 87.5, 70.0, 100.0, 100.0, 0.0, 74.54545454545455, 90.9090909090909], \"coloraxis\": \"coloraxis\", \"size\": [2, 1, 3, 1, 1, 1, 8, 10, 3, 1, 2, 55, 11], \"sizemode\": \"area\", \"sizeref\": 0.034375}, \"mode\": \"markers\", \"name\": \"\", \"showlegend\": false, \"subplot\": \"mapbox\", \"type\": \"scattermapbox\"}], \"name\": \"2020-03-11\"}, {\"data\": [{\"hoverlabel\": {\"namelength\": 0}, \"hovertemplate\": \"<b>%{hovertext}</b><br><br>Date=2020-03-12<br>Total=%{marker.size}<br>Reporting_PHU_Latitude=%{lat}<br>Reporting_PHU_Longitude=%{lon}<br>Total Percent Travelled=%{marker.color}\", \"hovertext\": [\"Durham Region Health Department\", \"Eastern Ontario Health Unit\", \"Halton Region Health Department\", \"Hamilton Public Health Services\", \"Middlesex-London Health Unit\", \"Niagara Region Public Health Department\", \"Ottawa Public Health\", \"Peel Public Health\", \"Region of Waterloo, Public Health\", \"Simcoe Muskoka District Health Unit\", \"Sudbury & District Health Unit\", \"Toronto Public Health\", \"York Region Public Health Services\"], \"lat\": [43.898605, 45.02915233, 43.41399692, 43.2576311, 42.98146842, 43.1165366, 45.3456651, 43.6474713, 43.46287573, 44.41071258, 46.46609195, 43.65659125, 44.048023], \"legendgroup\": \"\", \"lon\": [-78.940341, -74.73629779, -79.74479581, -79.87134089, -81.25401572, -79.2412197, -75.7639122, -79.7088933, -80.52091315, -79.68630597, -80.99805884, -79.37935801, -79.480239], \"marker\": {\"color\": [50.0, 100.0, 100.0, 100.0, 100.0, 0.0, 88.88888888888889, 70.0, 100.0, 100.0, 0.0, 74.54545454545455, 90.9090909090909], \"coloraxis\": \"coloraxis\", \"size\": [2, 1, 3, 1, 1, 1, 9, 10, 3, 1, 2, 55, 11], \"sizemode\": \"area\", \"sizeref\": 0.034375}, \"mode\": \"markers\", \"name\": \"\", \"showlegend\": false, \"subplot\": \"mapbox\", \"type\": \"scattermapbox\"}], \"name\": \"2020-03-12\"}]);\n",
       "                        }).then(function(){\n",
       "                            \n",
       "var gd = document.getElementById('2ba9f83f-5983-4d41-a829-6ff8f103e9d7');\n",
       "var x = new MutationObserver(function (mutations, observer) {{\n",
       "        var display = window.getComputedStyle(gd).display;\n",
       "        if (!display || display === 'none') {{\n",
       "            console.log([gd, 'removed!']);\n",
       "            Plotly.purge(gd);\n",
       "            observer.disconnect();\n",
       "        }}\n",
       "}});\n",
       "\n",
       "// Listen for the removal of the full notebook cells\n",
       "var notebookContainer = gd.closest('#notebook-container');\n",
       "if (notebookContainer) {{\n",
       "    x.observe(notebookContainer, {childList: true});\n",
       "}}\n",
       "\n",
       "// Listen for the clearing of the current output cell\n",
       "var outputEl = gd.closest('.output');\n",
       "if (outputEl) {{\n",
       "    x.observe(outputEl, {childList: true});\n",
       "}}\n",
       "\n",
       "                        })\n",
       "                };\n",
       "                });\n",
       "            </script>\n",
       "        </div>"
      ]
     },
     "metadata": {},
     "output_type": "display_data"
    }
   ],
   "source": [
    "#hide_input\n",
    "fromto = \"from \" + str(mindate) + \" to \" + str(maxdate)\n",
    "\n",
    "fig = px.scatter_mapbox(aggdf, lat=\"Reporting_PHU_Latitude\", lon=\"Reporting_PHU_Longitude\",     \n",
    "                        color=\"Total Percent Travelled\", \n",
    "                        animation_frame=\"Date\",\n",
    "                        size=\"Total\", hover_name=\"Reporting_PHU\",\n",
    "                        color_continuous_scale=[ \"red\",\"blue\"], \n",
    "                        size_max=40, zoom=6, \n",
    "                        title=\"Cumulative Cases per Region over Time \" + fromto)\n",
    "fig.update_layout(mapbox_style=\"open-street-map\")\n",
    "try:\n",
    "    fig.show()\n",
    "except:\n",
    "    fig.show()"
   ]
  },
  {
   "cell_type": "code",
   "execution_count": 8,
   "metadata": {},
   "outputs": [
    {
     "data": {
      "application/vnd.plotly.v1+json": {
       "config": {
        "plotlyServerURL": "https://plot.ly"
       },
       "data": [
        {
         "hoverlabel": {
          "namelength": 0
         },
         "hovertemplate": "Public Health Unit=Durham Region Health Department<br>Date=%{x}<br>Total=%{y}",
         "legendgroup": "Durham Region Health Department",
         "line": {
          "color": "#636efa",
          "dash": "solid"
         },
         "mode": "lines",
         "name": "Durham Region Health Department",
         "showlegend": true,
         "type": "scatter",
         "x": [
          "2020-01-21",
          "2020-01-22",
          "2020-01-23",
          "2020-01-24",
          "2020-01-25",
          "2020-01-26",
          "2020-01-27",
          "2020-01-28",
          "2020-01-29",
          "2020-01-30",
          "2020-01-31",
          "2020-02-01",
          "2020-02-02",
          "2020-02-03",
          "2020-02-04",
          "2020-02-05",
          "2020-02-06",
          "2020-02-07",
          "2020-02-08",
          "2020-02-09",
          "2020-02-10",
          "2020-02-11",
          "2020-02-12",
          "2020-02-13",
          "2020-02-14",
          "2020-02-15",
          "2020-02-16",
          "2020-02-17",
          "2020-02-18",
          "2020-02-19",
          "2020-02-20",
          "2020-02-21",
          "2020-02-22",
          "2020-02-23",
          "2020-02-24",
          "2020-02-25",
          "2020-02-26",
          "2020-02-27",
          "2020-02-28",
          "2020-02-29",
          "2020-03-01",
          "2020-03-02",
          "2020-03-03",
          "2020-03-04",
          "2020-03-05",
          "2020-03-06",
          "2020-03-07",
          "2020-03-08",
          "2020-03-09",
          "2020-03-10",
          "2020-03-11",
          "2020-03-12"
         ],
         "xaxis": "x",
         "y": [
          0,
          0,
          0,
          0,
          0,
          0,
          0,
          0,
          0,
          0,
          0,
          0,
          0,
          0,
          0,
          0,
          0,
          0,
          0,
          0,
          0,
          0,
          0,
          0,
          0,
          0,
          0,
          0,
          0,
          0,
          0,
          0,
          0,
          0,
          1,
          1,
          2,
          2,
          2,
          2,
          2,
          2,
          2,
          2,
          2,
          2,
          2,
          2,
          2,
          2,
          2,
          2
         ],
         "yaxis": "y"
        },
        {
         "hoverlabel": {
          "namelength": 0
         },
         "hovertemplate": "Public Health Unit=Eastern Ontario Health Unit<br>Date=%{x}<br>Total=%{y}",
         "legendgroup": "Eastern Ontario Health Unit",
         "line": {
          "color": "#EF553B",
          "dash": "solid"
         },
         "mode": "lines",
         "name": "Eastern Ontario Health Unit",
         "showlegend": true,
         "type": "scatter",
         "x": [
          "2020-01-21",
          "2020-01-22",
          "2020-01-23",
          "2020-01-24",
          "2020-01-25",
          "2020-01-26",
          "2020-01-27",
          "2020-01-28",
          "2020-01-29",
          "2020-01-30",
          "2020-01-31",
          "2020-02-01",
          "2020-02-02",
          "2020-02-03",
          "2020-02-04",
          "2020-02-05",
          "2020-02-06",
          "2020-02-07",
          "2020-02-08",
          "2020-02-09",
          "2020-02-10",
          "2020-02-11",
          "2020-02-12",
          "2020-02-13",
          "2020-02-14",
          "2020-02-15",
          "2020-02-16",
          "2020-02-17",
          "2020-02-18",
          "2020-02-19",
          "2020-02-20",
          "2020-02-21",
          "2020-02-22",
          "2020-02-23",
          "2020-02-24",
          "2020-02-25",
          "2020-02-26",
          "2020-02-27",
          "2020-02-28",
          "2020-02-29",
          "2020-03-01",
          "2020-03-02",
          "2020-03-03",
          "2020-03-04",
          "2020-03-05",
          "2020-03-06",
          "2020-03-07",
          "2020-03-08",
          "2020-03-09",
          "2020-03-10",
          "2020-03-11",
          "2020-03-12"
         ],
         "xaxis": "x",
         "y": [
          0,
          0,
          0,
          0,
          0,
          0,
          0,
          0,
          0,
          0,
          0,
          0,
          0,
          0,
          0,
          0,
          0,
          0,
          0,
          0,
          0,
          0,
          0,
          0,
          0,
          0,
          0,
          0,
          0,
          0,
          0,
          0,
          0,
          0,
          0,
          0,
          0,
          0,
          0,
          0,
          0,
          0,
          0,
          0,
          0,
          0,
          0,
          0,
          1,
          1,
          1,
          1
         ],
         "yaxis": "y"
        },
        {
         "hoverlabel": {
          "namelength": 0
         },
         "hovertemplate": "Public Health Unit=Halton Region Health Department<br>Date=%{x}<br>Total=%{y}",
         "legendgroup": "Halton Region Health Department",
         "line": {
          "color": "#00cc96",
          "dash": "solid"
         },
         "mode": "lines",
         "name": "Halton Region Health Department",
         "showlegend": true,
         "type": "scatter",
         "x": [
          "2020-01-21",
          "2020-01-22",
          "2020-01-23",
          "2020-01-24",
          "2020-01-25",
          "2020-01-26",
          "2020-01-27",
          "2020-01-28",
          "2020-01-29",
          "2020-01-30",
          "2020-01-31",
          "2020-02-01",
          "2020-02-02",
          "2020-02-03",
          "2020-02-04",
          "2020-02-05",
          "2020-02-06",
          "2020-02-07",
          "2020-02-08",
          "2020-02-09",
          "2020-02-10",
          "2020-02-11",
          "2020-02-12",
          "2020-02-13",
          "2020-02-14",
          "2020-02-15",
          "2020-02-16",
          "2020-02-17",
          "2020-02-18",
          "2020-02-19",
          "2020-02-20",
          "2020-02-21",
          "2020-02-22",
          "2020-02-23",
          "2020-02-24",
          "2020-02-25",
          "2020-02-26",
          "2020-02-27",
          "2020-02-28",
          "2020-02-29",
          "2020-03-01",
          "2020-03-02",
          "2020-03-03",
          "2020-03-04",
          "2020-03-05",
          "2020-03-06",
          "2020-03-07",
          "2020-03-08",
          "2020-03-09",
          "2020-03-10",
          "2020-03-11",
          "2020-03-12"
         ],
         "xaxis": "x",
         "y": [
          0,
          0,
          0,
          0,
          0,
          0,
          0,
          0,
          0,
          0,
          0,
          0,
          0,
          0,
          0,
          0,
          0,
          0,
          0,
          0,
          0,
          0,
          0,
          0,
          0,
          0,
          0,
          0,
          0,
          0,
          0,
          0,
          0,
          0,
          0,
          0,
          0,
          0,
          0,
          0,
          0,
          0,
          0,
          0,
          0,
          0,
          1,
          2,
          3,
          3,
          3,
          3
         ],
         "yaxis": "y"
        },
        {
         "hoverlabel": {
          "namelength": 0
         },
         "hovertemplate": "Public Health Unit=Hamilton Public Health Services<br>Date=%{x}<br>Total=%{y}",
         "legendgroup": "Hamilton Public Health Services",
         "line": {
          "color": "#ab63fa",
          "dash": "solid"
         },
         "mode": "lines",
         "name": "Hamilton Public Health Services",
         "showlegend": true,
         "type": "scatter",
         "x": [
          "2020-01-21",
          "2020-01-22",
          "2020-01-23",
          "2020-01-24",
          "2020-01-25",
          "2020-01-26",
          "2020-01-27",
          "2020-01-28",
          "2020-01-29",
          "2020-01-30",
          "2020-01-31",
          "2020-02-01",
          "2020-02-02",
          "2020-02-03",
          "2020-02-04",
          "2020-02-05",
          "2020-02-06",
          "2020-02-07",
          "2020-02-08",
          "2020-02-09",
          "2020-02-10",
          "2020-02-11",
          "2020-02-12",
          "2020-02-13",
          "2020-02-14",
          "2020-02-15",
          "2020-02-16",
          "2020-02-17",
          "2020-02-18",
          "2020-02-19",
          "2020-02-20",
          "2020-02-21",
          "2020-02-22",
          "2020-02-23",
          "2020-02-24",
          "2020-02-25",
          "2020-02-26",
          "2020-02-27",
          "2020-02-28",
          "2020-02-29",
          "2020-03-01",
          "2020-03-02",
          "2020-03-03",
          "2020-03-04",
          "2020-03-05",
          "2020-03-06",
          "2020-03-07",
          "2020-03-08",
          "2020-03-09",
          "2020-03-10",
          "2020-03-11",
          "2020-03-12"
         ],
         "xaxis": "x",
         "y": [
          0,
          0,
          0,
          0,
          0,
          0,
          0,
          0,
          0,
          0,
          0,
          0,
          0,
          0,
          0,
          0,
          0,
          0,
          0,
          0,
          0,
          0,
          0,
          0,
          0,
          0,
          0,
          0,
          0,
          0,
          0,
          0,
          0,
          0,
          0,
          0,
          0,
          0,
          0,
          0,
          0,
          0,
          0,
          0,
          0,
          0,
          1,
          1,
          1,
          1,
          1,
          1
         ],
         "yaxis": "y"
        },
        {
         "hoverlabel": {
          "namelength": 0
         },
         "hovertemplate": "Public Health Unit=Middlesex-London Health Unit<br>Date=%{x}<br>Total=%{y}",
         "legendgroup": "Middlesex-London Health Unit",
         "line": {
          "color": "#FFA15A",
          "dash": "solid"
         },
         "mode": "lines",
         "name": "Middlesex-London Health Unit",
         "showlegend": true,
         "type": "scatter",
         "x": [
          "2020-01-21",
          "2020-01-22",
          "2020-01-23",
          "2020-01-24",
          "2020-01-25",
          "2020-01-26",
          "2020-01-27",
          "2020-01-28",
          "2020-01-29",
          "2020-01-30",
          "2020-01-31",
          "2020-02-01",
          "2020-02-02",
          "2020-02-03",
          "2020-02-04",
          "2020-02-05",
          "2020-02-06",
          "2020-02-07",
          "2020-02-08",
          "2020-02-09",
          "2020-02-10",
          "2020-02-11",
          "2020-02-12",
          "2020-02-13",
          "2020-02-14",
          "2020-02-15",
          "2020-02-16",
          "2020-02-17",
          "2020-02-18",
          "2020-02-19",
          "2020-02-20",
          "2020-02-21",
          "2020-02-22",
          "2020-02-23",
          "2020-02-24",
          "2020-02-25",
          "2020-02-26",
          "2020-02-27",
          "2020-02-28",
          "2020-02-29",
          "2020-03-01",
          "2020-03-02",
          "2020-03-03",
          "2020-03-04",
          "2020-03-05",
          "2020-03-06",
          "2020-03-07",
          "2020-03-08",
          "2020-03-09",
          "2020-03-10",
          "2020-03-11",
          "2020-03-12"
         ],
         "xaxis": "x",
         "y": [
          0,
          0,
          0,
          1,
          1,
          1,
          1,
          1,
          1,
          1,
          1,
          1,
          1,
          1,
          1,
          1,
          1,
          1,
          1,
          1,
          1,
          1,
          1,
          1,
          1,
          1,
          1,
          1,
          1,
          1,
          1,
          1,
          1,
          1,
          1,
          1,
          1,
          1,
          1,
          1,
          1,
          1,
          1,
          1,
          1,
          1,
          1,
          1,
          1,
          1,
          1,
          1
         ],
         "yaxis": "y"
        },
        {
         "hoverlabel": {
          "namelength": 0
         },
         "hovertemplate": "Public Health Unit=Niagara Region Public Health Department<br>Date=%{x}<br>Total=%{y}",
         "legendgroup": "Niagara Region Public Health Department",
         "line": {
          "color": "#19d3f3",
          "dash": "solid"
         },
         "mode": "lines",
         "name": "Niagara Region Public Health Department",
         "showlegend": true,
         "type": "scatter",
         "x": [
          "2020-01-21",
          "2020-01-22",
          "2020-01-23",
          "2020-01-24",
          "2020-01-25",
          "2020-01-26",
          "2020-01-27",
          "2020-01-28",
          "2020-01-29",
          "2020-01-30",
          "2020-01-31",
          "2020-02-01",
          "2020-02-02",
          "2020-02-03",
          "2020-02-04",
          "2020-02-05",
          "2020-02-06",
          "2020-02-07",
          "2020-02-08",
          "2020-02-09",
          "2020-02-10",
          "2020-02-11",
          "2020-02-12",
          "2020-02-13",
          "2020-02-14",
          "2020-02-15",
          "2020-02-16",
          "2020-02-17",
          "2020-02-18",
          "2020-02-19",
          "2020-02-20",
          "2020-02-21",
          "2020-02-22",
          "2020-02-23",
          "2020-02-24",
          "2020-02-25",
          "2020-02-26",
          "2020-02-27",
          "2020-02-28",
          "2020-02-29",
          "2020-03-01",
          "2020-03-02",
          "2020-03-03",
          "2020-03-04",
          "2020-03-05",
          "2020-03-06",
          "2020-03-07",
          "2020-03-08",
          "2020-03-09",
          "2020-03-10",
          "2020-03-11",
          "2020-03-12"
         ],
         "xaxis": "x",
         "y": [
          0,
          0,
          0,
          0,
          0,
          0,
          0,
          0,
          0,
          0,
          0,
          0,
          0,
          0,
          0,
          0,
          0,
          0,
          0,
          0,
          0,
          0,
          0,
          0,
          0,
          0,
          0,
          0,
          0,
          0,
          0,
          0,
          0,
          0,
          0,
          0,
          0,
          0,
          0,
          0,
          0,
          0,
          0,
          0,
          0,
          0,
          0,
          0,
          0,
          1,
          1,
          1
         ],
         "yaxis": "y"
        },
        {
         "hoverlabel": {
          "namelength": 0
         },
         "hovertemplate": "Public Health Unit=Ottawa Public Health<br>Date=%{x}<br>Total=%{y}",
         "legendgroup": "Ottawa Public Health",
         "line": {
          "color": "#FF6692",
          "dash": "solid"
         },
         "mode": "lines",
         "name": "Ottawa Public Health",
         "showlegend": true,
         "type": "scatter",
         "x": [
          "2020-01-21",
          "2020-01-22",
          "2020-01-23",
          "2020-01-24",
          "2020-01-25",
          "2020-01-26",
          "2020-01-27",
          "2020-01-28",
          "2020-01-29",
          "2020-01-30",
          "2020-01-31",
          "2020-02-01",
          "2020-02-02",
          "2020-02-03",
          "2020-02-04",
          "2020-02-05",
          "2020-02-06",
          "2020-02-07",
          "2020-02-08",
          "2020-02-09",
          "2020-02-10",
          "2020-02-11",
          "2020-02-12",
          "2020-02-13",
          "2020-02-14",
          "2020-02-15",
          "2020-02-16",
          "2020-02-17",
          "2020-02-18",
          "2020-02-19",
          "2020-02-20",
          "2020-02-21",
          "2020-02-22",
          "2020-02-23",
          "2020-02-24",
          "2020-02-25",
          "2020-02-26",
          "2020-02-27",
          "2020-02-28",
          "2020-02-29",
          "2020-03-01",
          "2020-03-02",
          "2020-03-03",
          "2020-03-04",
          "2020-03-05",
          "2020-03-06",
          "2020-03-07",
          "2020-03-08",
          "2020-03-09",
          "2020-03-10",
          "2020-03-11",
          "2020-03-12"
         ],
         "xaxis": "x",
         "y": [
          0,
          0,
          0,
          0,
          0,
          0,
          0,
          0,
          0,
          0,
          0,
          0,
          0,
          0,
          0,
          0,
          0,
          0,
          0,
          0,
          0,
          0,
          0,
          0,
          0,
          0,
          0,
          0,
          0,
          0,
          0,
          0,
          0,
          0,
          0,
          0,
          0,
          0,
          0,
          0,
          0,
          2,
          2,
          2,
          3,
          3,
          3,
          6,
          7,
          7,
          8,
          9
         ],
         "yaxis": "y"
        },
        {
         "hoverlabel": {
          "namelength": 0
         },
         "hovertemplate": "Public Health Unit=Peel Public Health<br>Date=%{x}<br>Total=%{y}",
         "legendgroup": "Peel Public Health",
         "line": {
          "color": "#B6E880",
          "dash": "solid"
         },
         "mode": "lines",
         "name": "Peel Public Health",
         "showlegend": true,
         "type": "scatter",
         "x": [
          "2020-01-21",
          "2020-01-22",
          "2020-01-23",
          "2020-01-24",
          "2020-01-25",
          "2020-01-26",
          "2020-01-27",
          "2020-01-28",
          "2020-01-29",
          "2020-01-30",
          "2020-01-31",
          "2020-02-01",
          "2020-02-02",
          "2020-02-03",
          "2020-02-04",
          "2020-02-05",
          "2020-02-06",
          "2020-02-07",
          "2020-02-08",
          "2020-02-09",
          "2020-02-10",
          "2020-02-11",
          "2020-02-12",
          "2020-02-13",
          "2020-02-14",
          "2020-02-15",
          "2020-02-16",
          "2020-02-17",
          "2020-02-18",
          "2020-02-19",
          "2020-02-20",
          "2020-02-21",
          "2020-02-22",
          "2020-02-23",
          "2020-02-24",
          "2020-02-25",
          "2020-02-26",
          "2020-02-27",
          "2020-02-28",
          "2020-02-29",
          "2020-03-01",
          "2020-03-02",
          "2020-03-03",
          "2020-03-04",
          "2020-03-05",
          "2020-03-06",
          "2020-03-07",
          "2020-03-08",
          "2020-03-09",
          "2020-03-10",
          "2020-03-11",
          "2020-03-12"
         ],
         "xaxis": "x",
         "y": [
          0,
          0,
          0,
          0,
          0,
          0,
          0,
          0,
          0,
          0,
          0,
          0,
          0,
          0,
          0,
          0,
          0,
          0,
          0,
          0,
          0,
          0,
          0,
          0,
          0,
          0,
          0,
          0,
          0,
          0,
          0,
          0,
          0,
          0,
          0,
          1,
          1,
          1,
          1,
          2,
          2,
          3,
          3,
          3,
          4,
          4,
          4,
          4,
          5,
          8,
          10,
          10
         ],
         "yaxis": "y"
        },
        {
         "hoverlabel": {
          "namelength": 0
         },
         "hovertemplate": "Public Health Unit=Region of Waterloo, Public Health<br>Date=%{x}<br>Total=%{y}",
         "legendgroup": "Region of Waterloo, Public Health",
         "line": {
          "color": "#FF97FF",
          "dash": "solid"
         },
         "mode": "lines",
         "name": "Region of Waterloo, Public Health",
         "showlegend": true,
         "type": "scatter",
         "x": [
          "2020-01-21",
          "2020-01-22",
          "2020-01-23",
          "2020-01-24",
          "2020-01-25",
          "2020-01-26",
          "2020-01-27",
          "2020-01-28",
          "2020-01-29",
          "2020-01-30",
          "2020-01-31",
          "2020-02-01",
          "2020-02-02",
          "2020-02-03",
          "2020-02-04",
          "2020-02-05",
          "2020-02-06",
          "2020-02-07",
          "2020-02-08",
          "2020-02-09",
          "2020-02-10",
          "2020-02-11",
          "2020-02-12",
          "2020-02-13",
          "2020-02-14",
          "2020-02-15",
          "2020-02-16",
          "2020-02-17",
          "2020-02-18",
          "2020-02-19",
          "2020-02-20",
          "2020-02-21",
          "2020-02-22",
          "2020-02-23",
          "2020-02-24",
          "2020-02-25",
          "2020-02-26",
          "2020-02-27",
          "2020-02-28",
          "2020-02-29",
          "2020-03-01",
          "2020-03-02",
          "2020-03-03",
          "2020-03-04",
          "2020-03-05",
          "2020-03-06",
          "2020-03-07",
          "2020-03-08",
          "2020-03-09",
          "2020-03-10",
          "2020-03-11",
          "2020-03-12"
         ],
         "xaxis": "x",
         "y": [
          0,
          0,
          0,
          0,
          0,
          0,
          0,
          0,
          0,
          0,
          0,
          0,
          0,
          0,
          0,
          0,
          0,
          0,
          0,
          0,
          0,
          0,
          0,
          0,
          0,
          0,
          0,
          0,
          0,
          0,
          0,
          0,
          0,
          0,
          0,
          0,
          0,
          0,
          0,
          1,
          2,
          2,
          2,
          2,
          2,
          2,
          2,
          3,
          3,
          3,
          3,
          3
         ],
         "yaxis": "y"
        },
        {
         "hoverlabel": {
          "namelength": 0
         },
         "hovertemplate": "Public Health Unit=Simcoe Muskoka District Health Unit<br>Date=%{x}<br>Total=%{y}",
         "legendgroup": "Simcoe Muskoka District Health Unit",
         "line": {
          "color": "#FECB52",
          "dash": "solid"
         },
         "mode": "lines",
         "name": "Simcoe Muskoka District Health Unit",
         "showlegend": true,
         "type": "scatter",
         "x": [
          "2020-01-21",
          "2020-01-22",
          "2020-01-23",
          "2020-01-24",
          "2020-01-25",
          "2020-01-26",
          "2020-01-27",
          "2020-01-28",
          "2020-01-29",
          "2020-01-30",
          "2020-01-31",
          "2020-02-01",
          "2020-02-02",
          "2020-02-03",
          "2020-02-04",
          "2020-02-05",
          "2020-02-06",
          "2020-02-07",
          "2020-02-08",
          "2020-02-09",
          "2020-02-10",
          "2020-02-11",
          "2020-02-12",
          "2020-02-13",
          "2020-02-14",
          "2020-02-15",
          "2020-02-16",
          "2020-02-17",
          "2020-02-18",
          "2020-02-19",
          "2020-02-20",
          "2020-02-21",
          "2020-02-22",
          "2020-02-23",
          "2020-02-24",
          "2020-02-25",
          "2020-02-26",
          "2020-02-27",
          "2020-02-28",
          "2020-02-29",
          "2020-03-01",
          "2020-03-02",
          "2020-03-03",
          "2020-03-04",
          "2020-03-05",
          "2020-03-06",
          "2020-03-07",
          "2020-03-08",
          "2020-03-09",
          "2020-03-10",
          "2020-03-11",
          "2020-03-12"
         ],
         "xaxis": "x",
         "y": [
          0,
          0,
          0,
          0,
          0,
          0,
          0,
          0,
          0,
          0,
          0,
          0,
          0,
          0,
          0,
          0,
          0,
          0,
          0,
          0,
          0,
          0,
          0,
          0,
          0,
          0,
          0,
          0,
          0,
          0,
          0,
          0,
          0,
          0,
          0,
          0,
          0,
          0,
          0,
          0,
          0,
          0,
          0,
          0,
          0,
          0,
          0,
          1,
          1,
          1,
          1,
          1
         ],
         "yaxis": "y"
        },
        {
         "hoverlabel": {
          "namelength": 0
         },
         "hovertemplate": "Public Health Unit=Sudbury & District Health Unit<br>Date=%{x}<br>Total=%{y}",
         "legendgroup": "Sudbury & District Health Unit",
         "line": {
          "color": "#636efa",
          "dash": "solid"
         },
         "mode": "lines",
         "name": "Sudbury & District Health Unit",
         "showlegend": true,
         "type": "scatter",
         "x": [
          "2020-01-21",
          "2020-01-22",
          "2020-01-23",
          "2020-01-24",
          "2020-01-25",
          "2020-01-26",
          "2020-01-27",
          "2020-01-28",
          "2020-01-29",
          "2020-01-30",
          "2020-01-31",
          "2020-02-01",
          "2020-02-02",
          "2020-02-03",
          "2020-02-04",
          "2020-02-05",
          "2020-02-06",
          "2020-02-07",
          "2020-02-08",
          "2020-02-09",
          "2020-02-10",
          "2020-02-11",
          "2020-02-12",
          "2020-02-13",
          "2020-02-14",
          "2020-02-15",
          "2020-02-16",
          "2020-02-17",
          "2020-02-18",
          "2020-02-19",
          "2020-02-20",
          "2020-02-21",
          "2020-02-22",
          "2020-02-23",
          "2020-02-24",
          "2020-02-25",
          "2020-02-26",
          "2020-02-27",
          "2020-02-28",
          "2020-02-29",
          "2020-03-01",
          "2020-03-02",
          "2020-03-03",
          "2020-03-04",
          "2020-03-05",
          "2020-03-06",
          "2020-03-07",
          "2020-03-08",
          "2020-03-09",
          "2020-03-10",
          "2020-03-11",
          "2020-03-12"
         ],
         "xaxis": "x",
         "y": [
          0,
          0,
          0,
          0,
          0,
          0,
          0,
          0,
          0,
          0,
          0,
          0,
          0,
          0,
          0,
          0,
          0,
          0,
          0,
          0,
          0,
          0,
          0,
          0,
          0,
          0,
          0,
          0,
          0,
          0,
          0,
          0,
          0,
          0,
          0,
          0,
          0,
          0,
          0,
          0,
          0,
          0,
          0,
          0,
          0,
          1,
          1,
          1,
          1,
          1,
          2,
          2
         ],
         "yaxis": "y"
        },
        {
         "hoverlabel": {
          "namelength": 0
         },
         "hovertemplate": "Public Health Unit=Toronto Public Health<br>Date=%{x}<br>Total=%{y}",
         "legendgroup": "Toronto Public Health",
         "line": {
          "color": "#EF553B",
          "dash": "solid"
         },
         "mode": "lines",
         "name": "Toronto Public Health",
         "showlegend": true,
         "type": "scatter",
         "x": [
          "2020-01-21",
          "2020-01-22",
          "2020-01-23",
          "2020-01-24",
          "2020-01-25",
          "2020-01-26",
          "2020-01-27",
          "2020-01-28",
          "2020-01-29",
          "2020-01-30",
          "2020-01-31",
          "2020-02-01",
          "2020-02-02",
          "2020-02-03",
          "2020-02-04",
          "2020-02-05",
          "2020-02-06",
          "2020-02-07",
          "2020-02-08",
          "2020-02-09",
          "2020-02-10",
          "2020-02-11",
          "2020-02-12",
          "2020-02-13",
          "2020-02-14",
          "2020-02-15",
          "2020-02-16",
          "2020-02-17",
          "2020-02-18",
          "2020-02-19",
          "2020-02-20",
          "2020-02-21",
          "2020-02-22",
          "2020-02-23",
          "2020-02-24",
          "2020-02-25",
          "2020-02-26",
          "2020-02-27",
          "2020-02-28",
          "2020-02-29",
          "2020-03-01",
          "2020-03-02",
          "2020-03-03",
          "2020-03-04",
          "2020-03-05",
          "2020-03-06",
          "2020-03-07",
          "2020-03-08",
          "2020-03-09",
          "2020-03-10",
          "2020-03-11",
          "2020-03-12"
         ],
         "xaxis": "x",
         "y": [
          1,
          2,
          2,
          2,
          2,
          2,
          2,
          2,
          2,
          2,
          2,
          2,
          2,
          2,
          2,
          3,
          3,
          3,
          3,
          3,
          3,
          3,
          3,
          3,
          4,
          4,
          5,
          5,
          5,
          5,
          7,
          8,
          8,
          8,
          9,
          9,
          10,
          10,
          11,
          12,
          13,
          18,
          24,
          27,
          29,
          31,
          35,
          38,
          44,
          50,
          55,
          55
         ],
         "yaxis": "y"
        },
        {
         "hoverlabel": {
          "namelength": 0
         },
         "hovertemplate": "Public Health Unit=York Region Public Health Services<br>Date=%{x}<br>Total=%{y}",
         "legendgroup": "York Region Public Health Services",
         "line": {
          "color": "#00cc96",
          "dash": "solid"
         },
         "mode": "lines",
         "name": "York Region Public Health Services",
         "showlegend": true,
         "type": "scatter",
         "x": [
          "2020-01-21",
          "2020-01-22",
          "2020-01-23",
          "2020-01-24",
          "2020-01-25",
          "2020-01-26",
          "2020-01-27",
          "2020-01-28",
          "2020-01-29",
          "2020-01-30",
          "2020-01-31",
          "2020-02-01",
          "2020-02-02",
          "2020-02-03",
          "2020-02-04",
          "2020-02-05",
          "2020-02-06",
          "2020-02-07",
          "2020-02-08",
          "2020-02-09",
          "2020-02-10",
          "2020-02-11",
          "2020-02-12",
          "2020-02-13",
          "2020-02-14",
          "2020-02-15",
          "2020-02-16",
          "2020-02-17",
          "2020-02-18",
          "2020-02-19",
          "2020-02-20",
          "2020-02-21",
          "2020-02-22",
          "2020-02-23",
          "2020-02-24",
          "2020-02-25",
          "2020-02-26",
          "2020-02-27",
          "2020-02-28",
          "2020-02-29",
          "2020-03-01",
          "2020-03-02",
          "2020-03-03",
          "2020-03-04",
          "2020-03-05",
          "2020-03-06",
          "2020-03-07",
          "2020-03-08",
          "2020-03-09",
          "2020-03-10",
          "2020-03-11",
          "2020-03-12"
         ],
         "xaxis": "x",
         "y": [
          0,
          0,
          0,
          0,
          0,
          0,
          0,
          0,
          0,
          0,
          0,
          0,
          0,
          0,
          0,
          0,
          0,
          0,
          0,
          0,
          0,
          0,
          0,
          0,
          0,
          0,
          0,
          0,
          0,
          0,
          0,
          0,
          2,
          3,
          3,
          4,
          4,
          5,
          7,
          7,
          7,
          7,
          7,
          7,
          7,
          8,
          9,
          10,
          11,
          11,
          11,
          11
         ],
         "yaxis": "y"
        }
       ],
       "layout": {
        "legend": {
         "title": {
          "text": "Public Health Unit"
         },
         "tracegroupgap": 0
        },
        "template": {
         "data": {
          "bar": [
           {
            "error_x": {
             "color": "#2a3f5f"
            },
            "error_y": {
             "color": "#2a3f5f"
            },
            "marker": {
             "line": {
              "color": "#E5ECF6",
              "width": 0.5
             }
            },
            "type": "bar"
           }
          ],
          "barpolar": [
           {
            "marker": {
             "line": {
              "color": "#E5ECF6",
              "width": 0.5
             }
            },
            "type": "barpolar"
           }
          ],
          "carpet": [
           {
            "aaxis": {
             "endlinecolor": "#2a3f5f",
             "gridcolor": "white",
             "linecolor": "white",
             "minorgridcolor": "white",
             "startlinecolor": "#2a3f5f"
            },
            "baxis": {
             "endlinecolor": "#2a3f5f",
             "gridcolor": "white",
             "linecolor": "white",
             "minorgridcolor": "white",
             "startlinecolor": "#2a3f5f"
            },
            "type": "carpet"
           }
          ],
          "choropleth": [
           {
            "colorbar": {
             "outlinewidth": 0,
             "ticks": ""
            },
            "type": "choropleth"
           }
          ],
          "contour": [
           {
            "colorbar": {
             "outlinewidth": 0,
             "ticks": ""
            },
            "colorscale": [
             [
              0,
              "#0d0887"
             ],
             [
              0.1111111111111111,
              "#46039f"
             ],
             [
              0.2222222222222222,
              "#7201a8"
             ],
             [
              0.3333333333333333,
              "#9c179e"
             ],
             [
              0.4444444444444444,
              "#bd3786"
             ],
             [
              0.5555555555555556,
              "#d8576b"
             ],
             [
              0.6666666666666666,
              "#ed7953"
             ],
             [
              0.7777777777777778,
              "#fb9f3a"
             ],
             [
              0.8888888888888888,
              "#fdca26"
             ],
             [
              1,
              "#f0f921"
             ]
            ],
            "type": "contour"
           }
          ],
          "contourcarpet": [
           {
            "colorbar": {
             "outlinewidth": 0,
             "ticks": ""
            },
            "type": "contourcarpet"
           }
          ],
          "heatmap": [
           {
            "colorbar": {
             "outlinewidth": 0,
             "ticks": ""
            },
            "colorscale": [
             [
              0,
              "#0d0887"
             ],
             [
              0.1111111111111111,
              "#46039f"
             ],
             [
              0.2222222222222222,
              "#7201a8"
             ],
             [
              0.3333333333333333,
              "#9c179e"
             ],
             [
              0.4444444444444444,
              "#bd3786"
             ],
             [
              0.5555555555555556,
              "#d8576b"
             ],
             [
              0.6666666666666666,
              "#ed7953"
             ],
             [
              0.7777777777777778,
              "#fb9f3a"
             ],
             [
              0.8888888888888888,
              "#fdca26"
             ],
             [
              1,
              "#f0f921"
             ]
            ],
            "type": "heatmap"
           }
          ],
          "heatmapgl": [
           {
            "colorbar": {
             "outlinewidth": 0,
             "ticks": ""
            },
            "colorscale": [
             [
              0,
              "#0d0887"
             ],
             [
              0.1111111111111111,
              "#46039f"
             ],
             [
              0.2222222222222222,
              "#7201a8"
             ],
             [
              0.3333333333333333,
              "#9c179e"
             ],
             [
              0.4444444444444444,
              "#bd3786"
             ],
             [
              0.5555555555555556,
              "#d8576b"
             ],
             [
              0.6666666666666666,
              "#ed7953"
             ],
             [
              0.7777777777777778,
              "#fb9f3a"
             ],
             [
              0.8888888888888888,
              "#fdca26"
             ],
             [
              1,
              "#f0f921"
             ]
            ],
            "type": "heatmapgl"
           }
          ],
          "histogram": [
           {
            "marker": {
             "colorbar": {
              "outlinewidth": 0,
              "ticks": ""
             }
            },
            "type": "histogram"
           }
          ],
          "histogram2d": [
           {
            "colorbar": {
             "outlinewidth": 0,
             "ticks": ""
            },
            "colorscale": [
             [
              0,
              "#0d0887"
             ],
             [
              0.1111111111111111,
              "#46039f"
             ],
             [
              0.2222222222222222,
              "#7201a8"
             ],
             [
              0.3333333333333333,
              "#9c179e"
             ],
             [
              0.4444444444444444,
              "#bd3786"
             ],
             [
              0.5555555555555556,
              "#d8576b"
             ],
             [
              0.6666666666666666,
              "#ed7953"
             ],
             [
              0.7777777777777778,
              "#fb9f3a"
             ],
             [
              0.8888888888888888,
              "#fdca26"
             ],
             [
              1,
              "#f0f921"
             ]
            ],
            "type": "histogram2d"
           }
          ],
          "histogram2dcontour": [
           {
            "colorbar": {
             "outlinewidth": 0,
             "ticks": ""
            },
            "colorscale": [
             [
              0,
              "#0d0887"
             ],
             [
              0.1111111111111111,
              "#46039f"
             ],
             [
              0.2222222222222222,
              "#7201a8"
             ],
             [
              0.3333333333333333,
              "#9c179e"
             ],
             [
              0.4444444444444444,
              "#bd3786"
             ],
             [
              0.5555555555555556,
              "#d8576b"
             ],
             [
              0.6666666666666666,
              "#ed7953"
             ],
             [
              0.7777777777777778,
              "#fb9f3a"
             ],
             [
              0.8888888888888888,
              "#fdca26"
             ],
             [
              1,
              "#f0f921"
             ]
            ],
            "type": "histogram2dcontour"
           }
          ],
          "mesh3d": [
           {
            "colorbar": {
             "outlinewidth": 0,
             "ticks": ""
            },
            "type": "mesh3d"
           }
          ],
          "parcoords": [
           {
            "line": {
             "colorbar": {
              "outlinewidth": 0,
              "ticks": ""
             }
            },
            "type": "parcoords"
           }
          ],
          "pie": [
           {
            "automargin": true,
            "type": "pie"
           }
          ],
          "scatter": [
           {
            "marker": {
             "colorbar": {
              "outlinewidth": 0,
              "ticks": ""
             }
            },
            "type": "scatter"
           }
          ],
          "scatter3d": [
           {
            "line": {
             "colorbar": {
              "outlinewidth": 0,
              "ticks": ""
             }
            },
            "marker": {
             "colorbar": {
              "outlinewidth": 0,
              "ticks": ""
             }
            },
            "type": "scatter3d"
           }
          ],
          "scattercarpet": [
           {
            "marker": {
             "colorbar": {
              "outlinewidth": 0,
              "ticks": ""
             }
            },
            "type": "scattercarpet"
           }
          ],
          "scattergeo": [
           {
            "marker": {
             "colorbar": {
              "outlinewidth": 0,
              "ticks": ""
             }
            },
            "type": "scattergeo"
           }
          ],
          "scattergl": [
           {
            "marker": {
             "colorbar": {
              "outlinewidth": 0,
              "ticks": ""
             }
            },
            "type": "scattergl"
           }
          ],
          "scattermapbox": [
           {
            "marker": {
             "colorbar": {
              "outlinewidth": 0,
              "ticks": ""
             }
            },
            "type": "scattermapbox"
           }
          ],
          "scatterpolar": [
           {
            "marker": {
             "colorbar": {
              "outlinewidth": 0,
              "ticks": ""
             }
            },
            "type": "scatterpolar"
           }
          ],
          "scatterpolargl": [
           {
            "marker": {
             "colorbar": {
              "outlinewidth": 0,
              "ticks": ""
             }
            },
            "type": "scatterpolargl"
           }
          ],
          "scatterternary": [
           {
            "marker": {
             "colorbar": {
              "outlinewidth": 0,
              "ticks": ""
             }
            },
            "type": "scatterternary"
           }
          ],
          "surface": [
           {
            "colorbar": {
             "outlinewidth": 0,
             "ticks": ""
            },
            "colorscale": [
             [
              0,
              "#0d0887"
             ],
             [
              0.1111111111111111,
              "#46039f"
             ],
             [
              0.2222222222222222,
              "#7201a8"
             ],
             [
              0.3333333333333333,
              "#9c179e"
             ],
             [
              0.4444444444444444,
              "#bd3786"
             ],
             [
              0.5555555555555556,
              "#d8576b"
             ],
             [
              0.6666666666666666,
              "#ed7953"
             ],
             [
              0.7777777777777778,
              "#fb9f3a"
             ],
             [
              0.8888888888888888,
              "#fdca26"
             ],
             [
              1,
              "#f0f921"
             ]
            ],
            "type": "surface"
           }
          ],
          "table": [
           {
            "cells": {
             "fill": {
              "color": "#EBF0F8"
             },
             "line": {
              "color": "white"
             }
            },
            "header": {
             "fill": {
              "color": "#C8D4E3"
             },
             "line": {
              "color": "white"
             }
            },
            "type": "table"
           }
          ]
         },
         "layout": {
          "annotationdefaults": {
           "arrowcolor": "#2a3f5f",
           "arrowhead": 0,
           "arrowwidth": 1
          },
          "coloraxis": {
           "colorbar": {
            "outlinewidth": 0,
            "ticks": ""
           }
          },
          "colorscale": {
           "diverging": [
            [
             0,
             "#8e0152"
            ],
            [
             0.1,
             "#c51b7d"
            ],
            [
             0.2,
             "#de77ae"
            ],
            [
             0.3,
             "#f1b6da"
            ],
            [
             0.4,
             "#fde0ef"
            ],
            [
             0.5,
             "#f7f7f7"
            ],
            [
             0.6,
             "#e6f5d0"
            ],
            [
             0.7,
             "#b8e186"
            ],
            [
             0.8,
             "#7fbc41"
            ],
            [
             0.9,
             "#4d9221"
            ],
            [
             1,
             "#276419"
            ]
           ],
           "sequential": [
            [
             0,
             "#0d0887"
            ],
            [
             0.1111111111111111,
             "#46039f"
            ],
            [
             0.2222222222222222,
             "#7201a8"
            ],
            [
             0.3333333333333333,
             "#9c179e"
            ],
            [
             0.4444444444444444,
             "#bd3786"
            ],
            [
             0.5555555555555556,
             "#d8576b"
            ],
            [
             0.6666666666666666,
             "#ed7953"
            ],
            [
             0.7777777777777778,
             "#fb9f3a"
            ],
            [
             0.8888888888888888,
             "#fdca26"
            ],
            [
             1,
             "#f0f921"
            ]
           ],
           "sequentialminus": [
            [
             0,
             "#0d0887"
            ],
            [
             0.1111111111111111,
             "#46039f"
            ],
            [
             0.2222222222222222,
             "#7201a8"
            ],
            [
             0.3333333333333333,
             "#9c179e"
            ],
            [
             0.4444444444444444,
             "#bd3786"
            ],
            [
             0.5555555555555556,
             "#d8576b"
            ],
            [
             0.6666666666666666,
             "#ed7953"
            ],
            [
             0.7777777777777778,
             "#fb9f3a"
            ],
            [
             0.8888888888888888,
             "#fdca26"
            ],
            [
             1,
             "#f0f921"
            ]
           ]
          },
          "colorway": [
           "#636efa",
           "#EF553B",
           "#00cc96",
           "#ab63fa",
           "#FFA15A",
           "#19d3f3",
           "#FF6692",
           "#B6E880",
           "#FF97FF",
           "#FECB52"
          ],
          "font": {
           "color": "#2a3f5f"
          },
          "geo": {
           "bgcolor": "white",
           "lakecolor": "white",
           "landcolor": "#E5ECF6",
           "showlakes": true,
           "showland": true,
           "subunitcolor": "white"
          },
          "hoverlabel": {
           "align": "left"
          },
          "hovermode": "closest",
          "mapbox": {
           "style": "light"
          },
          "paper_bgcolor": "white",
          "plot_bgcolor": "#E5ECF6",
          "polar": {
           "angularaxis": {
            "gridcolor": "white",
            "linecolor": "white",
            "ticks": ""
           },
           "bgcolor": "#E5ECF6",
           "radialaxis": {
            "gridcolor": "white",
            "linecolor": "white",
            "ticks": ""
           }
          },
          "scene": {
           "xaxis": {
            "backgroundcolor": "#E5ECF6",
            "gridcolor": "white",
            "gridwidth": 2,
            "linecolor": "white",
            "showbackground": true,
            "ticks": "",
            "zerolinecolor": "white"
           },
           "yaxis": {
            "backgroundcolor": "#E5ECF6",
            "gridcolor": "white",
            "gridwidth": 2,
            "linecolor": "white",
            "showbackground": true,
            "ticks": "",
            "zerolinecolor": "white"
           },
           "zaxis": {
            "backgroundcolor": "#E5ECF6",
            "gridcolor": "white",
            "gridwidth": 2,
            "linecolor": "white",
            "showbackground": true,
            "ticks": "",
            "zerolinecolor": "white"
           }
          },
          "shapedefaults": {
           "line": {
            "color": "#2a3f5f"
           }
          },
          "ternary": {
           "aaxis": {
            "gridcolor": "white",
            "linecolor": "white",
            "ticks": ""
           },
           "baxis": {
            "gridcolor": "white",
            "linecolor": "white",
            "ticks": ""
           },
           "bgcolor": "#E5ECF6",
           "caxis": {
            "gridcolor": "white",
            "linecolor": "white",
            "ticks": ""
           }
          },
          "title": {
           "x": 0.05
          },
          "xaxis": {
           "automargin": true,
           "gridcolor": "white",
           "linecolor": "white",
           "ticks": "",
           "title": {
            "standoff": 15
           },
           "zerolinecolor": "white",
           "zerolinewidth": 2
          },
          "yaxis": {
           "automargin": true,
           "gridcolor": "white",
           "linecolor": "white",
           "ticks": "",
           "title": {
            "standoff": 15
           },
           "zerolinecolor": "white",
           "zerolinewidth": 2
          }
         }
        },
        "title": {
         "text": "Cumulative Confirmed Cases per Ontario Region from 2020-01-21 to 2020-03-12"
        },
        "xaxis": {
         "anchor": "y",
         "domain": [
          0,
          1
         ],
         "title": {
          "text": "Date"
         }
        },
        "yaxis": {
         "anchor": "x",
         "domain": [
          0,
          1
         ],
         "title": {
          "text": "Total"
         }
        }
       }
      },
      "text/html": [
       "<div>\n",
       "        \n",
       "        \n",
       "            <div id=\"bbc4ac70-fd89-4963-b49c-c3a927877c30\" class=\"plotly-graph-div\" style=\"height:525px; width:100%;\"></div>\n",
       "            <script type=\"text/javascript\">\n",
       "                require([\"plotly\"], function(Plotly) {\n",
       "                    window.PLOTLYENV=window.PLOTLYENV || {};\n",
       "                    \n",
       "                if (document.getElementById(\"bbc4ac70-fd89-4963-b49c-c3a927877c30\")) {\n",
       "                    Plotly.newPlot(\n",
       "                        'bbc4ac70-fd89-4963-b49c-c3a927877c30',\n",
       "                        [{\"hoverlabel\": {\"namelength\": 0}, \"hovertemplate\": \"Public Health Unit=Durham Region Health Department<br>Date=%{x}<br>Total=%{y}\", \"legendgroup\": \"Durham Region Health Department\", \"line\": {\"color\": \"#636efa\", \"dash\": \"solid\"}, \"mode\": \"lines\", \"name\": \"Durham Region Health Department\", \"showlegend\": true, \"type\": \"scatter\", \"x\": [\"2020-01-21\", \"2020-01-22\", \"2020-01-23\", \"2020-01-24\", \"2020-01-25\", \"2020-01-26\", \"2020-01-27\", \"2020-01-28\", \"2020-01-29\", \"2020-01-30\", \"2020-01-31\", \"2020-02-01\", \"2020-02-02\", \"2020-02-03\", \"2020-02-04\", \"2020-02-05\", \"2020-02-06\", \"2020-02-07\", \"2020-02-08\", \"2020-02-09\", \"2020-02-10\", \"2020-02-11\", \"2020-02-12\", \"2020-02-13\", \"2020-02-14\", \"2020-02-15\", \"2020-02-16\", \"2020-02-17\", \"2020-02-18\", \"2020-02-19\", \"2020-02-20\", \"2020-02-21\", \"2020-02-22\", \"2020-02-23\", \"2020-02-24\", \"2020-02-25\", \"2020-02-26\", \"2020-02-27\", \"2020-02-28\", \"2020-02-29\", \"2020-03-01\", \"2020-03-02\", \"2020-03-03\", \"2020-03-04\", \"2020-03-05\", \"2020-03-06\", \"2020-03-07\", \"2020-03-08\", \"2020-03-09\", \"2020-03-10\", \"2020-03-11\", \"2020-03-12\"], \"xaxis\": \"x\", \"y\": [0, 0, 0, 0, 0, 0, 0, 0, 0, 0, 0, 0, 0, 0, 0, 0, 0, 0, 0, 0, 0, 0, 0, 0, 0, 0, 0, 0, 0, 0, 0, 0, 0, 0, 1, 1, 2, 2, 2, 2, 2, 2, 2, 2, 2, 2, 2, 2, 2, 2, 2, 2], \"yaxis\": \"y\"}, {\"hoverlabel\": {\"namelength\": 0}, \"hovertemplate\": \"Public Health Unit=Eastern Ontario Health Unit<br>Date=%{x}<br>Total=%{y}\", \"legendgroup\": \"Eastern Ontario Health Unit\", \"line\": {\"color\": \"#EF553B\", \"dash\": \"solid\"}, \"mode\": \"lines\", \"name\": \"Eastern Ontario Health Unit\", \"showlegend\": true, \"type\": \"scatter\", \"x\": [\"2020-01-21\", \"2020-01-22\", \"2020-01-23\", \"2020-01-24\", \"2020-01-25\", \"2020-01-26\", \"2020-01-27\", \"2020-01-28\", \"2020-01-29\", \"2020-01-30\", \"2020-01-31\", \"2020-02-01\", \"2020-02-02\", \"2020-02-03\", \"2020-02-04\", \"2020-02-05\", \"2020-02-06\", \"2020-02-07\", \"2020-02-08\", \"2020-02-09\", \"2020-02-10\", \"2020-02-11\", \"2020-02-12\", \"2020-02-13\", \"2020-02-14\", \"2020-02-15\", \"2020-02-16\", \"2020-02-17\", \"2020-02-18\", \"2020-02-19\", \"2020-02-20\", \"2020-02-21\", \"2020-02-22\", \"2020-02-23\", \"2020-02-24\", \"2020-02-25\", \"2020-02-26\", \"2020-02-27\", \"2020-02-28\", \"2020-02-29\", \"2020-03-01\", \"2020-03-02\", \"2020-03-03\", \"2020-03-04\", \"2020-03-05\", \"2020-03-06\", \"2020-03-07\", \"2020-03-08\", \"2020-03-09\", \"2020-03-10\", \"2020-03-11\", \"2020-03-12\"], \"xaxis\": \"x\", \"y\": [0, 0, 0, 0, 0, 0, 0, 0, 0, 0, 0, 0, 0, 0, 0, 0, 0, 0, 0, 0, 0, 0, 0, 0, 0, 0, 0, 0, 0, 0, 0, 0, 0, 0, 0, 0, 0, 0, 0, 0, 0, 0, 0, 0, 0, 0, 0, 0, 1, 1, 1, 1], \"yaxis\": \"y\"}, {\"hoverlabel\": {\"namelength\": 0}, \"hovertemplate\": \"Public Health Unit=Halton Region Health Department<br>Date=%{x}<br>Total=%{y}\", \"legendgroup\": \"Halton Region Health Department\", \"line\": {\"color\": \"#00cc96\", \"dash\": \"solid\"}, \"mode\": \"lines\", \"name\": \"Halton Region Health Department\", \"showlegend\": true, \"type\": \"scatter\", \"x\": [\"2020-01-21\", \"2020-01-22\", \"2020-01-23\", \"2020-01-24\", \"2020-01-25\", \"2020-01-26\", \"2020-01-27\", \"2020-01-28\", \"2020-01-29\", \"2020-01-30\", \"2020-01-31\", \"2020-02-01\", \"2020-02-02\", \"2020-02-03\", \"2020-02-04\", \"2020-02-05\", \"2020-02-06\", \"2020-02-07\", \"2020-02-08\", \"2020-02-09\", \"2020-02-10\", \"2020-02-11\", \"2020-02-12\", \"2020-02-13\", \"2020-02-14\", \"2020-02-15\", \"2020-02-16\", \"2020-02-17\", \"2020-02-18\", \"2020-02-19\", \"2020-02-20\", \"2020-02-21\", \"2020-02-22\", \"2020-02-23\", \"2020-02-24\", \"2020-02-25\", \"2020-02-26\", \"2020-02-27\", \"2020-02-28\", \"2020-02-29\", \"2020-03-01\", \"2020-03-02\", \"2020-03-03\", \"2020-03-04\", \"2020-03-05\", \"2020-03-06\", \"2020-03-07\", \"2020-03-08\", \"2020-03-09\", \"2020-03-10\", \"2020-03-11\", \"2020-03-12\"], \"xaxis\": \"x\", \"y\": [0, 0, 0, 0, 0, 0, 0, 0, 0, 0, 0, 0, 0, 0, 0, 0, 0, 0, 0, 0, 0, 0, 0, 0, 0, 0, 0, 0, 0, 0, 0, 0, 0, 0, 0, 0, 0, 0, 0, 0, 0, 0, 0, 0, 0, 0, 1, 2, 3, 3, 3, 3], \"yaxis\": \"y\"}, {\"hoverlabel\": {\"namelength\": 0}, \"hovertemplate\": \"Public Health Unit=Hamilton Public Health Services<br>Date=%{x}<br>Total=%{y}\", \"legendgroup\": \"Hamilton Public Health Services\", \"line\": {\"color\": \"#ab63fa\", \"dash\": \"solid\"}, \"mode\": \"lines\", \"name\": \"Hamilton Public Health Services\", \"showlegend\": true, \"type\": \"scatter\", \"x\": [\"2020-01-21\", \"2020-01-22\", \"2020-01-23\", \"2020-01-24\", \"2020-01-25\", \"2020-01-26\", \"2020-01-27\", \"2020-01-28\", \"2020-01-29\", \"2020-01-30\", \"2020-01-31\", \"2020-02-01\", \"2020-02-02\", \"2020-02-03\", \"2020-02-04\", \"2020-02-05\", \"2020-02-06\", \"2020-02-07\", \"2020-02-08\", \"2020-02-09\", \"2020-02-10\", \"2020-02-11\", \"2020-02-12\", \"2020-02-13\", \"2020-02-14\", \"2020-02-15\", \"2020-02-16\", \"2020-02-17\", \"2020-02-18\", \"2020-02-19\", \"2020-02-20\", \"2020-02-21\", \"2020-02-22\", \"2020-02-23\", \"2020-02-24\", \"2020-02-25\", \"2020-02-26\", \"2020-02-27\", \"2020-02-28\", \"2020-02-29\", \"2020-03-01\", \"2020-03-02\", \"2020-03-03\", \"2020-03-04\", \"2020-03-05\", \"2020-03-06\", \"2020-03-07\", \"2020-03-08\", \"2020-03-09\", \"2020-03-10\", \"2020-03-11\", \"2020-03-12\"], \"xaxis\": \"x\", \"y\": [0, 0, 0, 0, 0, 0, 0, 0, 0, 0, 0, 0, 0, 0, 0, 0, 0, 0, 0, 0, 0, 0, 0, 0, 0, 0, 0, 0, 0, 0, 0, 0, 0, 0, 0, 0, 0, 0, 0, 0, 0, 0, 0, 0, 0, 0, 1, 1, 1, 1, 1, 1], \"yaxis\": \"y\"}, {\"hoverlabel\": {\"namelength\": 0}, \"hovertemplate\": \"Public Health Unit=Middlesex-London Health Unit<br>Date=%{x}<br>Total=%{y}\", \"legendgroup\": \"Middlesex-London Health Unit\", \"line\": {\"color\": \"#FFA15A\", \"dash\": \"solid\"}, \"mode\": \"lines\", \"name\": \"Middlesex-London Health Unit\", \"showlegend\": true, \"type\": \"scatter\", \"x\": [\"2020-01-21\", \"2020-01-22\", \"2020-01-23\", \"2020-01-24\", \"2020-01-25\", \"2020-01-26\", \"2020-01-27\", \"2020-01-28\", \"2020-01-29\", \"2020-01-30\", \"2020-01-31\", \"2020-02-01\", \"2020-02-02\", \"2020-02-03\", \"2020-02-04\", \"2020-02-05\", \"2020-02-06\", \"2020-02-07\", \"2020-02-08\", \"2020-02-09\", \"2020-02-10\", \"2020-02-11\", \"2020-02-12\", \"2020-02-13\", \"2020-02-14\", \"2020-02-15\", \"2020-02-16\", \"2020-02-17\", \"2020-02-18\", \"2020-02-19\", \"2020-02-20\", \"2020-02-21\", \"2020-02-22\", \"2020-02-23\", \"2020-02-24\", \"2020-02-25\", \"2020-02-26\", \"2020-02-27\", \"2020-02-28\", \"2020-02-29\", \"2020-03-01\", \"2020-03-02\", \"2020-03-03\", \"2020-03-04\", \"2020-03-05\", \"2020-03-06\", \"2020-03-07\", \"2020-03-08\", \"2020-03-09\", \"2020-03-10\", \"2020-03-11\", \"2020-03-12\"], \"xaxis\": \"x\", \"y\": [0, 0, 0, 1, 1, 1, 1, 1, 1, 1, 1, 1, 1, 1, 1, 1, 1, 1, 1, 1, 1, 1, 1, 1, 1, 1, 1, 1, 1, 1, 1, 1, 1, 1, 1, 1, 1, 1, 1, 1, 1, 1, 1, 1, 1, 1, 1, 1, 1, 1, 1, 1], \"yaxis\": \"y\"}, {\"hoverlabel\": {\"namelength\": 0}, \"hovertemplate\": \"Public Health Unit=Niagara Region Public Health Department<br>Date=%{x}<br>Total=%{y}\", \"legendgroup\": \"Niagara Region Public Health Department\", \"line\": {\"color\": \"#19d3f3\", \"dash\": \"solid\"}, \"mode\": \"lines\", \"name\": \"Niagara Region Public Health Department\", \"showlegend\": true, \"type\": \"scatter\", \"x\": [\"2020-01-21\", \"2020-01-22\", \"2020-01-23\", \"2020-01-24\", \"2020-01-25\", \"2020-01-26\", \"2020-01-27\", \"2020-01-28\", \"2020-01-29\", \"2020-01-30\", \"2020-01-31\", \"2020-02-01\", \"2020-02-02\", \"2020-02-03\", \"2020-02-04\", \"2020-02-05\", \"2020-02-06\", \"2020-02-07\", \"2020-02-08\", \"2020-02-09\", \"2020-02-10\", \"2020-02-11\", \"2020-02-12\", \"2020-02-13\", \"2020-02-14\", \"2020-02-15\", \"2020-02-16\", \"2020-02-17\", \"2020-02-18\", \"2020-02-19\", \"2020-02-20\", \"2020-02-21\", \"2020-02-22\", \"2020-02-23\", \"2020-02-24\", \"2020-02-25\", \"2020-02-26\", \"2020-02-27\", \"2020-02-28\", \"2020-02-29\", \"2020-03-01\", \"2020-03-02\", \"2020-03-03\", \"2020-03-04\", \"2020-03-05\", \"2020-03-06\", \"2020-03-07\", \"2020-03-08\", \"2020-03-09\", \"2020-03-10\", \"2020-03-11\", \"2020-03-12\"], \"xaxis\": \"x\", \"y\": [0, 0, 0, 0, 0, 0, 0, 0, 0, 0, 0, 0, 0, 0, 0, 0, 0, 0, 0, 0, 0, 0, 0, 0, 0, 0, 0, 0, 0, 0, 0, 0, 0, 0, 0, 0, 0, 0, 0, 0, 0, 0, 0, 0, 0, 0, 0, 0, 0, 1, 1, 1], \"yaxis\": \"y\"}, {\"hoverlabel\": {\"namelength\": 0}, \"hovertemplate\": \"Public Health Unit=Ottawa Public Health<br>Date=%{x}<br>Total=%{y}\", \"legendgroup\": \"Ottawa Public Health\", \"line\": {\"color\": \"#FF6692\", \"dash\": \"solid\"}, \"mode\": \"lines\", \"name\": \"Ottawa Public Health\", \"showlegend\": true, \"type\": \"scatter\", \"x\": [\"2020-01-21\", \"2020-01-22\", \"2020-01-23\", \"2020-01-24\", \"2020-01-25\", \"2020-01-26\", \"2020-01-27\", \"2020-01-28\", \"2020-01-29\", \"2020-01-30\", \"2020-01-31\", \"2020-02-01\", \"2020-02-02\", \"2020-02-03\", \"2020-02-04\", \"2020-02-05\", \"2020-02-06\", \"2020-02-07\", \"2020-02-08\", \"2020-02-09\", \"2020-02-10\", \"2020-02-11\", \"2020-02-12\", \"2020-02-13\", \"2020-02-14\", \"2020-02-15\", \"2020-02-16\", \"2020-02-17\", \"2020-02-18\", \"2020-02-19\", \"2020-02-20\", \"2020-02-21\", \"2020-02-22\", \"2020-02-23\", \"2020-02-24\", \"2020-02-25\", \"2020-02-26\", \"2020-02-27\", \"2020-02-28\", \"2020-02-29\", \"2020-03-01\", \"2020-03-02\", \"2020-03-03\", \"2020-03-04\", \"2020-03-05\", \"2020-03-06\", \"2020-03-07\", \"2020-03-08\", \"2020-03-09\", \"2020-03-10\", \"2020-03-11\", \"2020-03-12\"], \"xaxis\": \"x\", \"y\": [0, 0, 0, 0, 0, 0, 0, 0, 0, 0, 0, 0, 0, 0, 0, 0, 0, 0, 0, 0, 0, 0, 0, 0, 0, 0, 0, 0, 0, 0, 0, 0, 0, 0, 0, 0, 0, 0, 0, 0, 0, 2, 2, 2, 3, 3, 3, 6, 7, 7, 8, 9], \"yaxis\": \"y\"}, {\"hoverlabel\": {\"namelength\": 0}, \"hovertemplate\": \"Public Health Unit=Peel Public Health<br>Date=%{x}<br>Total=%{y}\", \"legendgroup\": \"Peel Public Health\", \"line\": {\"color\": \"#B6E880\", \"dash\": \"solid\"}, \"mode\": \"lines\", \"name\": \"Peel Public Health\", \"showlegend\": true, \"type\": \"scatter\", \"x\": [\"2020-01-21\", \"2020-01-22\", \"2020-01-23\", \"2020-01-24\", \"2020-01-25\", \"2020-01-26\", \"2020-01-27\", \"2020-01-28\", \"2020-01-29\", \"2020-01-30\", \"2020-01-31\", \"2020-02-01\", \"2020-02-02\", \"2020-02-03\", \"2020-02-04\", \"2020-02-05\", \"2020-02-06\", \"2020-02-07\", \"2020-02-08\", \"2020-02-09\", \"2020-02-10\", \"2020-02-11\", \"2020-02-12\", \"2020-02-13\", \"2020-02-14\", \"2020-02-15\", \"2020-02-16\", \"2020-02-17\", \"2020-02-18\", \"2020-02-19\", \"2020-02-20\", \"2020-02-21\", \"2020-02-22\", \"2020-02-23\", \"2020-02-24\", \"2020-02-25\", \"2020-02-26\", \"2020-02-27\", \"2020-02-28\", \"2020-02-29\", \"2020-03-01\", \"2020-03-02\", \"2020-03-03\", \"2020-03-04\", \"2020-03-05\", \"2020-03-06\", \"2020-03-07\", \"2020-03-08\", \"2020-03-09\", \"2020-03-10\", \"2020-03-11\", \"2020-03-12\"], \"xaxis\": \"x\", \"y\": [0, 0, 0, 0, 0, 0, 0, 0, 0, 0, 0, 0, 0, 0, 0, 0, 0, 0, 0, 0, 0, 0, 0, 0, 0, 0, 0, 0, 0, 0, 0, 0, 0, 0, 0, 1, 1, 1, 1, 2, 2, 3, 3, 3, 4, 4, 4, 4, 5, 8, 10, 10], \"yaxis\": \"y\"}, {\"hoverlabel\": {\"namelength\": 0}, \"hovertemplate\": \"Public Health Unit=Region of Waterloo, Public Health<br>Date=%{x}<br>Total=%{y}\", \"legendgroup\": \"Region of Waterloo, Public Health\", \"line\": {\"color\": \"#FF97FF\", \"dash\": \"solid\"}, \"mode\": \"lines\", \"name\": \"Region of Waterloo, Public Health\", \"showlegend\": true, \"type\": \"scatter\", \"x\": [\"2020-01-21\", \"2020-01-22\", \"2020-01-23\", \"2020-01-24\", \"2020-01-25\", \"2020-01-26\", \"2020-01-27\", \"2020-01-28\", \"2020-01-29\", \"2020-01-30\", \"2020-01-31\", \"2020-02-01\", \"2020-02-02\", \"2020-02-03\", \"2020-02-04\", \"2020-02-05\", \"2020-02-06\", \"2020-02-07\", \"2020-02-08\", \"2020-02-09\", \"2020-02-10\", \"2020-02-11\", \"2020-02-12\", \"2020-02-13\", \"2020-02-14\", \"2020-02-15\", \"2020-02-16\", \"2020-02-17\", \"2020-02-18\", \"2020-02-19\", \"2020-02-20\", \"2020-02-21\", \"2020-02-22\", \"2020-02-23\", \"2020-02-24\", \"2020-02-25\", \"2020-02-26\", \"2020-02-27\", \"2020-02-28\", \"2020-02-29\", \"2020-03-01\", \"2020-03-02\", \"2020-03-03\", \"2020-03-04\", \"2020-03-05\", \"2020-03-06\", \"2020-03-07\", \"2020-03-08\", \"2020-03-09\", \"2020-03-10\", \"2020-03-11\", \"2020-03-12\"], \"xaxis\": \"x\", \"y\": [0, 0, 0, 0, 0, 0, 0, 0, 0, 0, 0, 0, 0, 0, 0, 0, 0, 0, 0, 0, 0, 0, 0, 0, 0, 0, 0, 0, 0, 0, 0, 0, 0, 0, 0, 0, 0, 0, 0, 1, 2, 2, 2, 2, 2, 2, 2, 3, 3, 3, 3, 3], \"yaxis\": \"y\"}, {\"hoverlabel\": {\"namelength\": 0}, \"hovertemplate\": \"Public Health Unit=Simcoe Muskoka District Health Unit<br>Date=%{x}<br>Total=%{y}\", \"legendgroup\": \"Simcoe Muskoka District Health Unit\", \"line\": {\"color\": \"#FECB52\", \"dash\": \"solid\"}, \"mode\": \"lines\", \"name\": \"Simcoe Muskoka District Health Unit\", \"showlegend\": true, \"type\": \"scatter\", \"x\": [\"2020-01-21\", \"2020-01-22\", \"2020-01-23\", \"2020-01-24\", \"2020-01-25\", \"2020-01-26\", \"2020-01-27\", \"2020-01-28\", \"2020-01-29\", \"2020-01-30\", \"2020-01-31\", \"2020-02-01\", \"2020-02-02\", \"2020-02-03\", \"2020-02-04\", \"2020-02-05\", \"2020-02-06\", \"2020-02-07\", \"2020-02-08\", \"2020-02-09\", \"2020-02-10\", \"2020-02-11\", \"2020-02-12\", \"2020-02-13\", \"2020-02-14\", \"2020-02-15\", \"2020-02-16\", \"2020-02-17\", \"2020-02-18\", \"2020-02-19\", \"2020-02-20\", \"2020-02-21\", \"2020-02-22\", \"2020-02-23\", \"2020-02-24\", \"2020-02-25\", \"2020-02-26\", \"2020-02-27\", \"2020-02-28\", \"2020-02-29\", \"2020-03-01\", \"2020-03-02\", \"2020-03-03\", \"2020-03-04\", \"2020-03-05\", \"2020-03-06\", \"2020-03-07\", \"2020-03-08\", \"2020-03-09\", \"2020-03-10\", \"2020-03-11\", \"2020-03-12\"], \"xaxis\": \"x\", \"y\": [0, 0, 0, 0, 0, 0, 0, 0, 0, 0, 0, 0, 0, 0, 0, 0, 0, 0, 0, 0, 0, 0, 0, 0, 0, 0, 0, 0, 0, 0, 0, 0, 0, 0, 0, 0, 0, 0, 0, 0, 0, 0, 0, 0, 0, 0, 0, 1, 1, 1, 1, 1], \"yaxis\": \"y\"}, {\"hoverlabel\": {\"namelength\": 0}, \"hovertemplate\": \"Public Health Unit=Sudbury & District Health Unit<br>Date=%{x}<br>Total=%{y}\", \"legendgroup\": \"Sudbury & District Health Unit\", \"line\": {\"color\": \"#636efa\", \"dash\": \"solid\"}, \"mode\": \"lines\", \"name\": \"Sudbury & District Health Unit\", \"showlegend\": true, \"type\": \"scatter\", \"x\": [\"2020-01-21\", \"2020-01-22\", \"2020-01-23\", \"2020-01-24\", \"2020-01-25\", \"2020-01-26\", \"2020-01-27\", \"2020-01-28\", \"2020-01-29\", \"2020-01-30\", \"2020-01-31\", \"2020-02-01\", \"2020-02-02\", \"2020-02-03\", \"2020-02-04\", \"2020-02-05\", \"2020-02-06\", \"2020-02-07\", \"2020-02-08\", \"2020-02-09\", \"2020-02-10\", \"2020-02-11\", \"2020-02-12\", \"2020-02-13\", \"2020-02-14\", \"2020-02-15\", \"2020-02-16\", \"2020-02-17\", \"2020-02-18\", \"2020-02-19\", \"2020-02-20\", \"2020-02-21\", \"2020-02-22\", \"2020-02-23\", \"2020-02-24\", \"2020-02-25\", \"2020-02-26\", \"2020-02-27\", \"2020-02-28\", \"2020-02-29\", \"2020-03-01\", \"2020-03-02\", \"2020-03-03\", \"2020-03-04\", \"2020-03-05\", \"2020-03-06\", \"2020-03-07\", \"2020-03-08\", \"2020-03-09\", \"2020-03-10\", \"2020-03-11\", \"2020-03-12\"], \"xaxis\": \"x\", \"y\": [0, 0, 0, 0, 0, 0, 0, 0, 0, 0, 0, 0, 0, 0, 0, 0, 0, 0, 0, 0, 0, 0, 0, 0, 0, 0, 0, 0, 0, 0, 0, 0, 0, 0, 0, 0, 0, 0, 0, 0, 0, 0, 0, 0, 0, 1, 1, 1, 1, 1, 2, 2], \"yaxis\": \"y\"}, {\"hoverlabel\": {\"namelength\": 0}, \"hovertemplate\": \"Public Health Unit=Toronto Public Health<br>Date=%{x}<br>Total=%{y}\", \"legendgroup\": \"Toronto Public Health\", \"line\": {\"color\": \"#EF553B\", \"dash\": \"solid\"}, \"mode\": \"lines\", \"name\": \"Toronto Public Health\", \"showlegend\": true, \"type\": \"scatter\", \"x\": [\"2020-01-21\", \"2020-01-22\", \"2020-01-23\", \"2020-01-24\", \"2020-01-25\", \"2020-01-26\", \"2020-01-27\", \"2020-01-28\", \"2020-01-29\", \"2020-01-30\", \"2020-01-31\", \"2020-02-01\", \"2020-02-02\", \"2020-02-03\", \"2020-02-04\", \"2020-02-05\", \"2020-02-06\", \"2020-02-07\", \"2020-02-08\", \"2020-02-09\", \"2020-02-10\", \"2020-02-11\", \"2020-02-12\", \"2020-02-13\", \"2020-02-14\", \"2020-02-15\", \"2020-02-16\", \"2020-02-17\", \"2020-02-18\", \"2020-02-19\", \"2020-02-20\", \"2020-02-21\", \"2020-02-22\", \"2020-02-23\", \"2020-02-24\", \"2020-02-25\", \"2020-02-26\", \"2020-02-27\", \"2020-02-28\", \"2020-02-29\", \"2020-03-01\", \"2020-03-02\", \"2020-03-03\", \"2020-03-04\", \"2020-03-05\", \"2020-03-06\", \"2020-03-07\", \"2020-03-08\", \"2020-03-09\", \"2020-03-10\", \"2020-03-11\", \"2020-03-12\"], \"xaxis\": \"x\", \"y\": [1, 2, 2, 2, 2, 2, 2, 2, 2, 2, 2, 2, 2, 2, 2, 3, 3, 3, 3, 3, 3, 3, 3, 3, 4, 4, 5, 5, 5, 5, 7, 8, 8, 8, 9, 9, 10, 10, 11, 12, 13, 18, 24, 27, 29, 31, 35, 38, 44, 50, 55, 55], \"yaxis\": \"y\"}, {\"hoverlabel\": {\"namelength\": 0}, \"hovertemplate\": \"Public Health Unit=York Region Public Health Services<br>Date=%{x}<br>Total=%{y}\", \"legendgroup\": \"York Region Public Health Services\", \"line\": {\"color\": \"#00cc96\", \"dash\": \"solid\"}, \"mode\": \"lines\", \"name\": \"York Region Public Health Services\", \"showlegend\": true, \"type\": \"scatter\", \"x\": [\"2020-01-21\", \"2020-01-22\", \"2020-01-23\", \"2020-01-24\", \"2020-01-25\", \"2020-01-26\", \"2020-01-27\", \"2020-01-28\", \"2020-01-29\", \"2020-01-30\", \"2020-01-31\", \"2020-02-01\", \"2020-02-02\", \"2020-02-03\", \"2020-02-04\", \"2020-02-05\", \"2020-02-06\", \"2020-02-07\", \"2020-02-08\", \"2020-02-09\", \"2020-02-10\", \"2020-02-11\", \"2020-02-12\", \"2020-02-13\", \"2020-02-14\", \"2020-02-15\", \"2020-02-16\", \"2020-02-17\", \"2020-02-18\", \"2020-02-19\", \"2020-02-20\", \"2020-02-21\", \"2020-02-22\", \"2020-02-23\", \"2020-02-24\", \"2020-02-25\", \"2020-02-26\", \"2020-02-27\", \"2020-02-28\", \"2020-02-29\", \"2020-03-01\", \"2020-03-02\", \"2020-03-03\", \"2020-03-04\", \"2020-03-05\", \"2020-03-06\", \"2020-03-07\", \"2020-03-08\", \"2020-03-09\", \"2020-03-10\", \"2020-03-11\", \"2020-03-12\"], \"xaxis\": \"x\", \"y\": [0, 0, 0, 0, 0, 0, 0, 0, 0, 0, 0, 0, 0, 0, 0, 0, 0, 0, 0, 0, 0, 0, 0, 0, 0, 0, 0, 0, 0, 0, 0, 0, 2, 3, 3, 4, 4, 5, 7, 7, 7, 7, 7, 7, 7, 8, 9, 10, 11, 11, 11, 11], \"yaxis\": \"y\"}],\n",
       "                        {\"legend\": {\"title\": {\"text\": \"Public Health Unit\"}, \"tracegroupgap\": 0}, \"template\": {\"data\": {\"bar\": [{\"error_x\": {\"color\": \"#2a3f5f\"}, \"error_y\": {\"color\": \"#2a3f5f\"}, \"marker\": {\"line\": {\"color\": \"#E5ECF6\", \"width\": 0.5}}, \"type\": \"bar\"}], \"barpolar\": [{\"marker\": {\"line\": {\"color\": \"#E5ECF6\", \"width\": 0.5}}, \"type\": \"barpolar\"}], \"carpet\": [{\"aaxis\": {\"endlinecolor\": \"#2a3f5f\", \"gridcolor\": \"white\", \"linecolor\": \"white\", \"minorgridcolor\": \"white\", \"startlinecolor\": \"#2a3f5f\"}, \"baxis\": {\"endlinecolor\": \"#2a3f5f\", \"gridcolor\": \"white\", \"linecolor\": \"white\", \"minorgridcolor\": \"white\", \"startlinecolor\": \"#2a3f5f\"}, \"type\": \"carpet\"}], \"choropleth\": [{\"colorbar\": {\"outlinewidth\": 0, \"ticks\": \"\"}, \"type\": \"choropleth\"}], \"contour\": [{\"colorbar\": {\"outlinewidth\": 0, \"ticks\": \"\"}, \"colorscale\": [[0.0, \"#0d0887\"], [0.1111111111111111, \"#46039f\"], [0.2222222222222222, \"#7201a8\"], [0.3333333333333333, \"#9c179e\"], [0.4444444444444444, \"#bd3786\"], [0.5555555555555556, \"#d8576b\"], [0.6666666666666666, \"#ed7953\"], [0.7777777777777778, \"#fb9f3a\"], [0.8888888888888888, \"#fdca26\"], [1.0, \"#f0f921\"]], \"type\": \"contour\"}], \"contourcarpet\": [{\"colorbar\": {\"outlinewidth\": 0, \"ticks\": \"\"}, \"type\": \"contourcarpet\"}], \"heatmap\": [{\"colorbar\": {\"outlinewidth\": 0, \"ticks\": \"\"}, \"colorscale\": [[0.0, \"#0d0887\"], [0.1111111111111111, \"#46039f\"], [0.2222222222222222, \"#7201a8\"], [0.3333333333333333, \"#9c179e\"], [0.4444444444444444, \"#bd3786\"], [0.5555555555555556, \"#d8576b\"], [0.6666666666666666, \"#ed7953\"], [0.7777777777777778, \"#fb9f3a\"], [0.8888888888888888, \"#fdca26\"], [1.0, \"#f0f921\"]], \"type\": \"heatmap\"}], \"heatmapgl\": [{\"colorbar\": {\"outlinewidth\": 0, \"ticks\": \"\"}, \"colorscale\": [[0.0, \"#0d0887\"], [0.1111111111111111, \"#46039f\"], [0.2222222222222222, \"#7201a8\"], [0.3333333333333333, \"#9c179e\"], [0.4444444444444444, \"#bd3786\"], [0.5555555555555556, \"#d8576b\"], [0.6666666666666666, \"#ed7953\"], [0.7777777777777778, \"#fb9f3a\"], [0.8888888888888888, \"#fdca26\"], [1.0, \"#f0f921\"]], \"type\": \"heatmapgl\"}], \"histogram\": [{\"marker\": {\"colorbar\": {\"outlinewidth\": 0, \"ticks\": \"\"}}, \"type\": \"histogram\"}], \"histogram2d\": [{\"colorbar\": {\"outlinewidth\": 0, \"ticks\": \"\"}, \"colorscale\": [[0.0, \"#0d0887\"], [0.1111111111111111, \"#46039f\"], [0.2222222222222222, \"#7201a8\"], [0.3333333333333333, \"#9c179e\"], [0.4444444444444444, \"#bd3786\"], [0.5555555555555556, \"#d8576b\"], [0.6666666666666666, \"#ed7953\"], [0.7777777777777778, \"#fb9f3a\"], [0.8888888888888888, \"#fdca26\"], [1.0, \"#f0f921\"]], \"type\": \"histogram2d\"}], \"histogram2dcontour\": [{\"colorbar\": {\"outlinewidth\": 0, \"ticks\": \"\"}, \"colorscale\": [[0.0, \"#0d0887\"], [0.1111111111111111, \"#46039f\"], [0.2222222222222222, \"#7201a8\"], [0.3333333333333333, \"#9c179e\"], [0.4444444444444444, \"#bd3786\"], [0.5555555555555556, \"#d8576b\"], [0.6666666666666666, \"#ed7953\"], [0.7777777777777778, \"#fb9f3a\"], [0.8888888888888888, \"#fdca26\"], [1.0, \"#f0f921\"]], \"type\": \"histogram2dcontour\"}], \"mesh3d\": [{\"colorbar\": {\"outlinewidth\": 0, \"ticks\": \"\"}, \"type\": \"mesh3d\"}], \"parcoords\": [{\"line\": {\"colorbar\": {\"outlinewidth\": 0, \"ticks\": \"\"}}, \"type\": \"parcoords\"}], \"pie\": [{\"automargin\": true, \"type\": \"pie\"}], \"scatter\": [{\"marker\": {\"colorbar\": {\"outlinewidth\": 0, \"ticks\": \"\"}}, \"type\": \"scatter\"}], \"scatter3d\": [{\"line\": {\"colorbar\": {\"outlinewidth\": 0, \"ticks\": \"\"}}, \"marker\": {\"colorbar\": {\"outlinewidth\": 0, \"ticks\": \"\"}}, \"type\": \"scatter3d\"}], \"scattercarpet\": [{\"marker\": {\"colorbar\": {\"outlinewidth\": 0, \"ticks\": \"\"}}, \"type\": \"scattercarpet\"}], \"scattergeo\": [{\"marker\": {\"colorbar\": {\"outlinewidth\": 0, \"ticks\": \"\"}}, \"type\": \"scattergeo\"}], \"scattergl\": [{\"marker\": {\"colorbar\": {\"outlinewidth\": 0, \"ticks\": \"\"}}, \"type\": \"scattergl\"}], \"scattermapbox\": [{\"marker\": {\"colorbar\": {\"outlinewidth\": 0, \"ticks\": \"\"}}, \"type\": \"scattermapbox\"}], \"scatterpolar\": [{\"marker\": {\"colorbar\": {\"outlinewidth\": 0, \"ticks\": \"\"}}, \"type\": \"scatterpolar\"}], \"scatterpolargl\": [{\"marker\": {\"colorbar\": {\"outlinewidth\": 0, \"ticks\": \"\"}}, \"type\": \"scatterpolargl\"}], \"scatterternary\": [{\"marker\": {\"colorbar\": {\"outlinewidth\": 0, \"ticks\": \"\"}}, \"type\": \"scatterternary\"}], \"surface\": [{\"colorbar\": {\"outlinewidth\": 0, \"ticks\": \"\"}, \"colorscale\": [[0.0, \"#0d0887\"], [0.1111111111111111, \"#46039f\"], [0.2222222222222222, \"#7201a8\"], [0.3333333333333333, \"#9c179e\"], [0.4444444444444444, \"#bd3786\"], [0.5555555555555556, \"#d8576b\"], [0.6666666666666666, \"#ed7953\"], [0.7777777777777778, \"#fb9f3a\"], [0.8888888888888888, \"#fdca26\"], [1.0, \"#f0f921\"]], \"type\": \"surface\"}], \"table\": [{\"cells\": {\"fill\": {\"color\": \"#EBF0F8\"}, \"line\": {\"color\": \"white\"}}, \"header\": {\"fill\": {\"color\": \"#C8D4E3\"}, \"line\": {\"color\": \"white\"}}, \"type\": \"table\"}]}, \"layout\": {\"annotationdefaults\": {\"arrowcolor\": \"#2a3f5f\", \"arrowhead\": 0, \"arrowwidth\": 1}, \"coloraxis\": {\"colorbar\": {\"outlinewidth\": 0, \"ticks\": \"\"}}, \"colorscale\": {\"diverging\": [[0, \"#8e0152\"], [0.1, \"#c51b7d\"], [0.2, \"#de77ae\"], [0.3, \"#f1b6da\"], [0.4, \"#fde0ef\"], [0.5, \"#f7f7f7\"], [0.6, \"#e6f5d0\"], [0.7, \"#b8e186\"], [0.8, \"#7fbc41\"], [0.9, \"#4d9221\"], [1, \"#276419\"]], \"sequential\": [[0.0, \"#0d0887\"], [0.1111111111111111, \"#46039f\"], [0.2222222222222222, \"#7201a8\"], [0.3333333333333333, \"#9c179e\"], [0.4444444444444444, \"#bd3786\"], [0.5555555555555556, \"#d8576b\"], [0.6666666666666666, \"#ed7953\"], [0.7777777777777778, \"#fb9f3a\"], [0.8888888888888888, \"#fdca26\"], [1.0, \"#f0f921\"]], \"sequentialminus\": [[0.0, \"#0d0887\"], [0.1111111111111111, \"#46039f\"], [0.2222222222222222, \"#7201a8\"], [0.3333333333333333, \"#9c179e\"], [0.4444444444444444, \"#bd3786\"], [0.5555555555555556, \"#d8576b\"], [0.6666666666666666, \"#ed7953\"], [0.7777777777777778, \"#fb9f3a\"], [0.8888888888888888, \"#fdca26\"], [1.0, \"#f0f921\"]]}, \"colorway\": [\"#636efa\", \"#EF553B\", \"#00cc96\", \"#ab63fa\", \"#FFA15A\", \"#19d3f3\", \"#FF6692\", \"#B6E880\", \"#FF97FF\", \"#FECB52\"], \"font\": {\"color\": \"#2a3f5f\"}, \"geo\": {\"bgcolor\": \"white\", \"lakecolor\": \"white\", \"landcolor\": \"#E5ECF6\", \"showlakes\": true, \"showland\": true, \"subunitcolor\": \"white\"}, \"hoverlabel\": {\"align\": \"left\"}, \"hovermode\": \"closest\", \"mapbox\": {\"style\": \"light\"}, \"paper_bgcolor\": \"white\", \"plot_bgcolor\": \"#E5ECF6\", \"polar\": {\"angularaxis\": {\"gridcolor\": \"white\", \"linecolor\": \"white\", \"ticks\": \"\"}, \"bgcolor\": \"#E5ECF6\", \"radialaxis\": {\"gridcolor\": \"white\", \"linecolor\": \"white\", \"ticks\": \"\"}}, \"scene\": {\"xaxis\": {\"backgroundcolor\": \"#E5ECF6\", \"gridcolor\": \"white\", \"gridwidth\": 2, \"linecolor\": \"white\", \"showbackground\": true, \"ticks\": \"\", \"zerolinecolor\": \"white\"}, \"yaxis\": {\"backgroundcolor\": \"#E5ECF6\", \"gridcolor\": \"white\", \"gridwidth\": 2, \"linecolor\": \"white\", \"showbackground\": true, \"ticks\": \"\", \"zerolinecolor\": \"white\"}, \"zaxis\": {\"backgroundcolor\": \"#E5ECF6\", \"gridcolor\": \"white\", \"gridwidth\": 2, \"linecolor\": \"white\", \"showbackground\": true, \"ticks\": \"\", \"zerolinecolor\": \"white\"}}, \"shapedefaults\": {\"line\": {\"color\": \"#2a3f5f\"}}, \"ternary\": {\"aaxis\": {\"gridcolor\": \"white\", \"linecolor\": \"white\", \"ticks\": \"\"}, \"baxis\": {\"gridcolor\": \"white\", \"linecolor\": \"white\", \"ticks\": \"\"}, \"bgcolor\": \"#E5ECF6\", \"caxis\": {\"gridcolor\": \"white\", \"linecolor\": \"white\", \"ticks\": \"\"}}, \"title\": {\"x\": 0.05}, \"xaxis\": {\"automargin\": true, \"gridcolor\": \"white\", \"linecolor\": \"white\", \"ticks\": \"\", \"title\": {\"standoff\": 15}, \"zerolinecolor\": \"white\", \"zerolinewidth\": 2}, \"yaxis\": {\"automargin\": true, \"gridcolor\": \"white\", \"linecolor\": \"white\", \"ticks\": \"\", \"title\": {\"standoff\": 15}, \"zerolinecolor\": \"white\", \"zerolinewidth\": 2}}}, \"title\": {\"text\": \"Cumulative Confirmed Cases per Ontario Region from 2020-01-21 to 2020-03-12\"}, \"xaxis\": {\"anchor\": \"y\", \"domain\": [0.0, 1.0], \"title\": {\"text\": \"Date\"}}, \"yaxis\": {\"anchor\": \"x\", \"domain\": [0.0, 1.0], \"title\": {\"text\": \"Total\"}}},\n",
       "                        {\"responsive\": true}\n",
       "                    ).then(function(){\n",
       "                            \n",
       "var gd = document.getElementById('bbc4ac70-fd89-4963-b49c-c3a927877c30');\n",
       "var x = new MutationObserver(function (mutations, observer) {{\n",
       "        var display = window.getComputedStyle(gd).display;\n",
       "        if (!display || display === 'none') {{\n",
       "            console.log([gd, 'removed!']);\n",
       "            Plotly.purge(gd);\n",
       "            observer.disconnect();\n",
       "        }}\n",
       "}});\n",
       "\n",
       "// Listen for the removal of the full notebook cells\n",
       "var notebookContainer = gd.closest('#notebook-container');\n",
       "if (notebookContainer) {{\n",
       "    x.observe(notebookContainer, {childList: true});\n",
       "}}\n",
       "\n",
       "// Listen for the clearing of the current output cell\n",
       "var outputEl = gd.closest('.output');\n",
       "if (outputEl) {{\n",
       "    x.observe(outputEl, {childList: true});\n",
       "}}\n",
       "\n",
       "                        })\n",
       "                };\n",
       "                });\n",
       "            </script>\n",
       "        </div>"
      ]
     },
     "metadata": {},
     "output_type": "display_data"
    }
   ],
   "source": [
    "#hide_input\n",
    "cumline = px.line(aggdf, x=\"Date\", y=\"Total\", color=\"Reporting_PHU\", title=prefix + \" \" + fromto,\n",
    "        labels={'Reporting_PHU':'Public Health Unit'}\n",
    ")\n",
    "try:\n",
    "    cumline.show()\n",
    "except:\n",
    "    cumline.show()"
   ]
  },
  {
   "cell_type": "code",
   "execution_count": 9,
   "metadata": {},
   "outputs": [
    {
     "data": {
      "application/vnd.plotly.v1+json": {
       "config": {
        "plotlyServerURL": "https://plot.ly"
       },
       "data": [
        {
         "hoverlabel": {
          "namelength": 0
         },
         "hovertemplate": "Public Health Unit=Durham Region Health Department<br>Date=%{x}<br>Count=%{y}",
         "legendgroup": "Durham Region Health Department",
         "line": {
          "color": "#636efa",
          "dash": "solid"
         },
         "mode": "lines",
         "name": "Durham Region Health Department",
         "showlegend": true,
         "type": "scatter",
         "x": [
          "2020-01-21",
          "2020-01-22",
          "2020-01-23",
          "2020-01-24",
          "2020-01-25",
          "2020-01-26",
          "2020-01-27",
          "2020-01-28",
          "2020-01-29",
          "2020-01-30",
          "2020-01-31",
          "2020-02-01",
          "2020-02-02",
          "2020-02-03",
          "2020-02-04",
          "2020-02-05",
          "2020-02-06",
          "2020-02-07",
          "2020-02-08",
          "2020-02-09",
          "2020-02-10",
          "2020-02-11",
          "2020-02-12",
          "2020-02-13",
          "2020-02-14",
          "2020-02-15",
          "2020-02-16",
          "2020-02-17",
          "2020-02-18",
          "2020-02-19",
          "2020-02-20",
          "2020-02-21",
          "2020-02-22",
          "2020-02-23",
          "2020-02-24",
          "2020-02-25",
          "2020-02-26",
          "2020-02-27",
          "2020-02-28",
          "2020-02-29",
          "2020-03-01",
          "2020-03-02",
          "2020-03-03",
          "2020-03-04",
          "2020-03-05",
          "2020-03-06",
          "2020-03-07",
          "2020-03-08",
          "2020-03-09",
          "2020-03-10",
          "2020-03-11",
          "2020-03-12"
         ],
         "xaxis": "x",
         "y": [
          0,
          0,
          0,
          0,
          0,
          0,
          0,
          0,
          0,
          0,
          0,
          0,
          0,
          0,
          0,
          0,
          0,
          0,
          0,
          0,
          0,
          0,
          0,
          0,
          0,
          0,
          0,
          0,
          0,
          0,
          0,
          0,
          0,
          0,
          1,
          0,
          1,
          0,
          0,
          0,
          0,
          0,
          0,
          0,
          0,
          0,
          0,
          0,
          0,
          0,
          0,
          0
         ],
         "yaxis": "y"
        },
        {
         "hoverlabel": {
          "namelength": 0
         },
         "hovertemplate": "Public Health Unit=Eastern Ontario Health Unit<br>Date=%{x}<br>Count=%{y}",
         "legendgroup": "Eastern Ontario Health Unit",
         "line": {
          "color": "#EF553B",
          "dash": "solid"
         },
         "mode": "lines",
         "name": "Eastern Ontario Health Unit",
         "showlegend": true,
         "type": "scatter",
         "x": [
          "2020-01-21",
          "2020-01-22",
          "2020-01-23",
          "2020-01-24",
          "2020-01-25",
          "2020-01-26",
          "2020-01-27",
          "2020-01-28",
          "2020-01-29",
          "2020-01-30",
          "2020-01-31",
          "2020-02-01",
          "2020-02-02",
          "2020-02-03",
          "2020-02-04",
          "2020-02-05",
          "2020-02-06",
          "2020-02-07",
          "2020-02-08",
          "2020-02-09",
          "2020-02-10",
          "2020-02-11",
          "2020-02-12",
          "2020-02-13",
          "2020-02-14",
          "2020-02-15",
          "2020-02-16",
          "2020-02-17",
          "2020-02-18",
          "2020-02-19",
          "2020-02-20",
          "2020-02-21",
          "2020-02-22",
          "2020-02-23",
          "2020-02-24",
          "2020-02-25",
          "2020-02-26",
          "2020-02-27",
          "2020-02-28",
          "2020-02-29",
          "2020-03-01",
          "2020-03-02",
          "2020-03-03",
          "2020-03-04",
          "2020-03-05",
          "2020-03-06",
          "2020-03-07",
          "2020-03-08",
          "2020-03-09",
          "2020-03-10",
          "2020-03-11",
          "2020-03-12"
         ],
         "xaxis": "x",
         "y": [
          0,
          0,
          0,
          0,
          0,
          0,
          0,
          0,
          0,
          0,
          0,
          0,
          0,
          0,
          0,
          0,
          0,
          0,
          0,
          0,
          0,
          0,
          0,
          0,
          0,
          0,
          0,
          0,
          0,
          0,
          0,
          0,
          0,
          0,
          0,
          0,
          0,
          0,
          0,
          0,
          0,
          0,
          0,
          0,
          0,
          0,
          0,
          0,
          1,
          0,
          0,
          0
         ],
         "yaxis": "y"
        },
        {
         "hoverlabel": {
          "namelength": 0
         },
         "hovertemplate": "Public Health Unit=Halton Region Health Department<br>Date=%{x}<br>Count=%{y}",
         "legendgroup": "Halton Region Health Department",
         "line": {
          "color": "#00cc96",
          "dash": "solid"
         },
         "mode": "lines",
         "name": "Halton Region Health Department",
         "showlegend": true,
         "type": "scatter",
         "x": [
          "2020-01-21",
          "2020-01-22",
          "2020-01-23",
          "2020-01-24",
          "2020-01-25",
          "2020-01-26",
          "2020-01-27",
          "2020-01-28",
          "2020-01-29",
          "2020-01-30",
          "2020-01-31",
          "2020-02-01",
          "2020-02-02",
          "2020-02-03",
          "2020-02-04",
          "2020-02-05",
          "2020-02-06",
          "2020-02-07",
          "2020-02-08",
          "2020-02-09",
          "2020-02-10",
          "2020-02-11",
          "2020-02-12",
          "2020-02-13",
          "2020-02-14",
          "2020-02-15",
          "2020-02-16",
          "2020-02-17",
          "2020-02-18",
          "2020-02-19",
          "2020-02-20",
          "2020-02-21",
          "2020-02-22",
          "2020-02-23",
          "2020-02-24",
          "2020-02-25",
          "2020-02-26",
          "2020-02-27",
          "2020-02-28",
          "2020-02-29",
          "2020-03-01",
          "2020-03-02",
          "2020-03-03",
          "2020-03-04",
          "2020-03-05",
          "2020-03-06",
          "2020-03-07",
          "2020-03-08",
          "2020-03-09",
          "2020-03-10",
          "2020-03-11",
          "2020-03-12"
         ],
         "xaxis": "x",
         "y": [
          0,
          0,
          0,
          0,
          0,
          0,
          0,
          0,
          0,
          0,
          0,
          0,
          0,
          0,
          0,
          0,
          0,
          0,
          0,
          0,
          0,
          0,
          0,
          0,
          0,
          0,
          0,
          0,
          0,
          0,
          0,
          0,
          0,
          0,
          0,
          0,
          0,
          0,
          0,
          0,
          0,
          0,
          0,
          0,
          0,
          0,
          1,
          1,
          1,
          0,
          0,
          0
         ],
         "yaxis": "y"
        },
        {
         "hoverlabel": {
          "namelength": 0
         },
         "hovertemplate": "Public Health Unit=Hamilton Public Health Services<br>Date=%{x}<br>Count=%{y}",
         "legendgroup": "Hamilton Public Health Services",
         "line": {
          "color": "#ab63fa",
          "dash": "solid"
         },
         "mode": "lines",
         "name": "Hamilton Public Health Services",
         "showlegend": true,
         "type": "scatter",
         "x": [
          "2020-01-21",
          "2020-01-22",
          "2020-01-23",
          "2020-01-24",
          "2020-01-25",
          "2020-01-26",
          "2020-01-27",
          "2020-01-28",
          "2020-01-29",
          "2020-01-30",
          "2020-01-31",
          "2020-02-01",
          "2020-02-02",
          "2020-02-03",
          "2020-02-04",
          "2020-02-05",
          "2020-02-06",
          "2020-02-07",
          "2020-02-08",
          "2020-02-09",
          "2020-02-10",
          "2020-02-11",
          "2020-02-12",
          "2020-02-13",
          "2020-02-14",
          "2020-02-15",
          "2020-02-16",
          "2020-02-17",
          "2020-02-18",
          "2020-02-19",
          "2020-02-20",
          "2020-02-21",
          "2020-02-22",
          "2020-02-23",
          "2020-02-24",
          "2020-02-25",
          "2020-02-26",
          "2020-02-27",
          "2020-02-28",
          "2020-02-29",
          "2020-03-01",
          "2020-03-02",
          "2020-03-03",
          "2020-03-04",
          "2020-03-05",
          "2020-03-06",
          "2020-03-07",
          "2020-03-08",
          "2020-03-09",
          "2020-03-10",
          "2020-03-11",
          "2020-03-12"
         ],
         "xaxis": "x",
         "y": [
          0,
          0,
          0,
          0,
          0,
          0,
          0,
          0,
          0,
          0,
          0,
          0,
          0,
          0,
          0,
          0,
          0,
          0,
          0,
          0,
          0,
          0,
          0,
          0,
          0,
          0,
          0,
          0,
          0,
          0,
          0,
          0,
          0,
          0,
          0,
          0,
          0,
          0,
          0,
          0,
          0,
          0,
          0,
          0,
          0,
          0,
          1,
          0,
          0,
          0,
          0,
          0
         ],
         "yaxis": "y"
        },
        {
         "hoverlabel": {
          "namelength": 0
         },
         "hovertemplate": "Public Health Unit=Middlesex-London Health Unit<br>Date=%{x}<br>Count=%{y}",
         "legendgroup": "Middlesex-London Health Unit",
         "line": {
          "color": "#FFA15A",
          "dash": "solid"
         },
         "mode": "lines",
         "name": "Middlesex-London Health Unit",
         "showlegend": true,
         "type": "scatter",
         "x": [
          "2020-01-21",
          "2020-01-22",
          "2020-01-23",
          "2020-01-24",
          "2020-01-25",
          "2020-01-26",
          "2020-01-27",
          "2020-01-28",
          "2020-01-29",
          "2020-01-30",
          "2020-01-31",
          "2020-02-01",
          "2020-02-02",
          "2020-02-03",
          "2020-02-04",
          "2020-02-05",
          "2020-02-06",
          "2020-02-07",
          "2020-02-08",
          "2020-02-09",
          "2020-02-10",
          "2020-02-11",
          "2020-02-12",
          "2020-02-13",
          "2020-02-14",
          "2020-02-15",
          "2020-02-16",
          "2020-02-17",
          "2020-02-18",
          "2020-02-19",
          "2020-02-20",
          "2020-02-21",
          "2020-02-22",
          "2020-02-23",
          "2020-02-24",
          "2020-02-25",
          "2020-02-26",
          "2020-02-27",
          "2020-02-28",
          "2020-02-29",
          "2020-03-01",
          "2020-03-02",
          "2020-03-03",
          "2020-03-04",
          "2020-03-05",
          "2020-03-06",
          "2020-03-07",
          "2020-03-08",
          "2020-03-09",
          "2020-03-10",
          "2020-03-11",
          "2020-03-12"
         ],
         "xaxis": "x",
         "y": [
          0,
          0,
          0,
          1,
          0,
          0,
          0,
          0,
          0,
          0,
          0,
          0,
          0,
          0,
          0,
          0,
          0,
          0,
          0,
          0,
          0,
          0,
          0,
          0,
          0,
          0,
          0,
          0,
          0,
          0,
          0,
          0,
          0,
          0,
          0,
          0,
          0,
          0,
          0,
          0,
          0,
          0,
          0,
          0,
          0,
          0,
          0,
          0,
          0,
          0,
          0,
          0
         ],
         "yaxis": "y"
        },
        {
         "hoverlabel": {
          "namelength": 0
         },
         "hovertemplate": "Public Health Unit=Niagara Region Public Health Department<br>Date=%{x}<br>Count=%{y}",
         "legendgroup": "Niagara Region Public Health Department",
         "line": {
          "color": "#19d3f3",
          "dash": "solid"
         },
         "mode": "lines",
         "name": "Niagara Region Public Health Department",
         "showlegend": true,
         "type": "scatter",
         "x": [
          "2020-01-21",
          "2020-01-22",
          "2020-01-23",
          "2020-01-24",
          "2020-01-25",
          "2020-01-26",
          "2020-01-27",
          "2020-01-28",
          "2020-01-29",
          "2020-01-30",
          "2020-01-31",
          "2020-02-01",
          "2020-02-02",
          "2020-02-03",
          "2020-02-04",
          "2020-02-05",
          "2020-02-06",
          "2020-02-07",
          "2020-02-08",
          "2020-02-09",
          "2020-02-10",
          "2020-02-11",
          "2020-02-12",
          "2020-02-13",
          "2020-02-14",
          "2020-02-15",
          "2020-02-16",
          "2020-02-17",
          "2020-02-18",
          "2020-02-19",
          "2020-02-20",
          "2020-02-21",
          "2020-02-22",
          "2020-02-23",
          "2020-02-24",
          "2020-02-25",
          "2020-02-26",
          "2020-02-27",
          "2020-02-28",
          "2020-02-29",
          "2020-03-01",
          "2020-03-02",
          "2020-03-03",
          "2020-03-04",
          "2020-03-05",
          "2020-03-06",
          "2020-03-07",
          "2020-03-08",
          "2020-03-09",
          "2020-03-10",
          "2020-03-11",
          "2020-03-12"
         ],
         "xaxis": "x",
         "y": [
          0,
          0,
          0,
          0,
          0,
          0,
          0,
          0,
          0,
          0,
          0,
          0,
          0,
          0,
          0,
          0,
          0,
          0,
          0,
          0,
          0,
          0,
          0,
          0,
          0,
          0,
          0,
          0,
          0,
          0,
          0,
          0,
          0,
          0,
          0,
          0,
          0,
          0,
          0,
          0,
          0,
          0,
          0,
          0,
          0,
          0,
          0,
          0,
          0,
          1,
          0,
          0
         ],
         "yaxis": "y"
        },
        {
         "hoverlabel": {
          "namelength": 0
         },
         "hovertemplate": "Public Health Unit=Ottawa Public Health<br>Date=%{x}<br>Count=%{y}",
         "legendgroup": "Ottawa Public Health",
         "line": {
          "color": "#FF6692",
          "dash": "solid"
         },
         "mode": "lines",
         "name": "Ottawa Public Health",
         "showlegend": true,
         "type": "scatter",
         "x": [
          "2020-01-21",
          "2020-01-22",
          "2020-01-23",
          "2020-01-24",
          "2020-01-25",
          "2020-01-26",
          "2020-01-27",
          "2020-01-28",
          "2020-01-29",
          "2020-01-30",
          "2020-01-31",
          "2020-02-01",
          "2020-02-02",
          "2020-02-03",
          "2020-02-04",
          "2020-02-05",
          "2020-02-06",
          "2020-02-07",
          "2020-02-08",
          "2020-02-09",
          "2020-02-10",
          "2020-02-11",
          "2020-02-12",
          "2020-02-13",
          "2020-02-14",
          "2020-02-15",
          "2020-02-16",
          "2020-02-17",
          "2020-02-18",
          "2020-02-19",
          "2020-02-20",
          "2020-02-21",
          "2020-02-22",
          "2020-02-23",
          "2020-02-24",
          "2020-02-25",
          "2020-02-26",
          "2020-02-27",
          "2020-02-28",
          "2020-02-29",
          "2020-03-01",
          "2020-03-02",
          "2020-03-03",
          "2020-03-04",
          "2020-03-05",
          "2020-03-06",
          "2020-03-07",
          "2020-03-08",
          "2020-03-09",
          "2020-03-10",
          "2020-03-11",
          "2020-03-12"
         ],
         "xaxis": "x",
         "y": [
          0,
          0,
          0,
          0,
          0,
          0,
          0,
          0,
          0,
          0,
          0,
          0,
          0,
          0,
          0,
          0,
          0,
          0,
          0,
          0,
          0,
          0,
          0,
          0,
          0,
          0,
          0,
          0,
          0,
          0,
          0,
          0,
          0,
          0,
          0,
          0,
          0,
          0,
          0,
          0,
          0,
          2,
          0,
          0,
          1,
          0,
          0,
          3,
          1,
          0,
          1,
          1
         ],
         "yaxis": "y"
        },
        {
         "hoverlabel": {
          "namelength": 0
         },
         "hovertemplate": "Public Health Unit=Peel Public Health<br>Date=%{x}<br>Count=%{y}",
         "legendgroup": "Peel Public Health",
         "line": {
          "color": "#B6E880",
          "dash": "solid"
         },
         "mode": "lines",
         "name": "Peel Public Health",
         "showlegend": true,
         "type": "scatter",
         "x": [
          "2020-01-21",
          "2020-01-22",
          "2020-01-23",
          "2020-01-24",
          "2020-01-25",
          "2020-01-26",
          "2020-01-27",
          "2020-01-28",
          "2020-01-29",
          "2020-01-30",
          "2020-01-31",
          "2020-02-01",
          "2020-02-02",
          "2020-02-03",
          "2020-02-04",
          "2020-02-05",
          "2020-02-06",
          "2020-02-07",
          "2020-02-08",
          "2020-02-09",
          "2020-02-10",
          "2020-02-11",
          "2020-02-12",
          "2020-02-13",
          "2020-02-14",
          "2020-02-15",
          "2020-02-16",
          "2020-02-17",
          "2020-02-18",
          "2020-02-19",
          "2020-02-20",
          "2020-02-21",
          "2020-02-22",
          "2020-02-23",
          "2020-02-24",
          "2020-02-25",
          "2020-02-26",
          "2020-02-27",
          "2020-02-28",
          "2020-02-29",
          "2020-03-01",
          "2020-03-02",
          "2020-03-03",
          "2020-03-04",
          "2020-03-05",
          "2020-03-06",
          "2020-03-07",
          "2020-03-08",
          "2020-03-09",
          "2020-03-10",
          "2020-03-11",
          "2020-03-12"
         ],
         "xaxis": "x",
         "y": [
          0,
          0,
          0,
          0,
          0,
          0,
          0,
          0,
          0,
          0,
          0,
          0,
          0,
          0,
          0,
          0,
          0,
          0,
          0,
          0,
          0,
          0,
          0,
          0,
          0,
          0,
          0,
          0,
          0,
          0,
          0,
          0,
          0,
          0,
          0,
          1,
          0,
          0,
          0,
          1,
          0,
          1,
          0,
          0,
          1,
          0,
          0,
          0,
          1,
          3,
          2,
          0
         ],
         "yaxis": "y"
        },
        {
         "hoverlabel": {
          "namelength": 0
         },
         "hovertemplate": "Public Health Unit=Region of Waterloo, Public Health<br>Date=%{x}<br>Count=%{y}",
         "legendgroup": "Region of Waterloo, Public Health",
         "line": {
          "color": "#FF97FF",
          "dash": "solid"
         },
         "mode": "lines",
         "name": "Region of Waterloo, Public Health",
         "showlegend": true,
         "type": "scatter",
         "x": [
          "2020-01-21",
          "2020-01-22",
          "2020-01-23",
          "2020-01-24",
          "2020-01-25",
          "2020-01-26",
          "2020-01-27",
          "2020-01-28",
          "2020-01-29",
          "2020-01-30",
          "2020-01-31",
          "2020-02-01",
          "2020-02-02",
          "2020-02-03",
          "2020-02-04",
          "2020-02-05",
          "2020-02-06",
          "2020-02-07",
          "2020-02-08",
          "2020-02-09",
          "2020-02-10",
          "2020-02-11",
          "2020-02-12",
          "2020-02-13",
          "2020-02-14",
          "2020-02-15",
          "2020-02-16",
          "2020-02-17",
          "2020-02-18",
          "2020-02-19",
          "2020-02-20",
          "2020-02-21",
          "2020-02-22",
          "2020-02-23",
          "2020-02-24",
          "2020-02-25",
          "2020-02-26",
          "2020-02-27",
          "2020-02-28",
          "2020-02-29",
          "2020-03-01",
          "2020-03-02",
          "2020-03-03",
          "2020-03-04",
          "2020-03-05",
          "2020-03-06",
          "2020-03-07",
          "2020-03-08",
          "2020-03-09",
          "2020-03-10",
          "2020-03-11",
          "2020-03-12"
         ],
         "xaxis": "x",
         "y": [
          0,
          0,
          0,
          0,
          0,
          0,
          0,
          0,
          0,
          0,
          0,
          0,
          0,
          0,
          0,
          0,
          0,
          0,
          0,
          0,
          0,
          0,
          0,
          0,
          0,
          0,
          0,
          0,
          0,
          0,
          0,
          0,
          0,
          0,
          0,
          0,
          0,
          0,
          0,
          1,
          1,
          0,
          0,
          0,
          0,
          0,
          0,
          1,
          0,
          0,
          0,
          0
         ],
         "yaxis": "y"
        },
        {
         "hoverlabel": {
          "namelength": 0
         },
         "hovertemplate": "Public Health Unit=Simcoe Muskoka District Health Unit<br>Date=%{x}<br>Count=%{y}",
         "legendgroup": "Simcoe Muskoka District Health Unit",
         "line": {
          "color": "#FECB52",
          "dash": "solid"
         },
         "mode": "lines",
         "name": "Simcoe Muskoka District Health Unit",
         "showlegend": true,
         "type": "scatter",
         "x": [
          "2020-01-21",
          "2020-01-22",
          "2020-01-23",
          "2020-01-24",
          "2020-01-25",
          "2020-01-26",
          "2020-01-27",
          "2020-01-28",
          "2020-01-29",
          "2020-01-30",
          "2020-01-31",
          "2020-02-01",
          "2020-02-02",
          "2020-02-03",
          "2020-02-04",
          "2020-02-05",
          "2020-02-06",
          "2020-02-07",
          "2020-02-08",
          "2020-02-09",
          "2020-02-10",
          "2020-02-11",
          "2020-02-12",
          "2020-02-13",
          "2020-02-14",
          "2020-02-15",
          "2020-02-16",
          "2020-02-17",
          "2020-02-18",
          "2020-02-19",
          "2020-02-20",
          "2020-02-21",
          "2020-02-22",
          "2020-02-23",
          "2020-02-24",
          "2020-02-25",
          "2020-02-26",
          "2020-02-27",
          "2020-02-28",
          "2020-02-29",
          "2020-03-01",
          "2020-03-02",
          "2020-03-03",
          "2020-03-04",
          "2020-03-05",
          "2020-03-06",
          "2020-03-07",
          "2020-03-08",
          "2020-03-09",
          "2020-03-10",
          "2020-03-11",
          "2020-03-12"
         ],
         "xaxis": "x",
         "y": [
          0,
          0,
          0,
          0,
          0,
          0,
          0,
          0,
          0,
          0,
          0,
          0,
          0,
          0,
          0,
          0,
          0,
          0,
          0,
          0,
          0,
          0,
          0,
          0,
          0,
          0,
          0,
          0,
          0,
          0,
          0,
          0,
          0,
          0,
          0,
          0,
          0,
          0,
          0,
          0,
          0,
          0,
          0,
          0,
          0,
          0,
          0,
          1,
          0,
          0,
          0,
          0
         ],
         "yaxis": "y"
        },
        {
         "hoverlabel": {
          "namelength": 0
         },
         "hovertemplate": "Public Health Unit=Sudbury & District Health Unit<br>Date=%{x}<br>Count=%{y}",
         "legendgroup": "Sudbury & District Health Unit",
         "line": {
          "color": "#636efa",
          "dash": "solid"
         },
         "mode": "lines",
         "name": "Sudbury & District Health Unit",
         "showlegend": true,
         "type": "scatter",
         "x": [
          "2020-01-21",
          "2020-01-22",
          "2020-01-23",
          "2020-01-24",
          "2020-01-25",
          "2020-01-26",
          "2020-01-27",
          "2020-01-28",
          "2020-01-29",
          "2020-01-30",
          "2020-01-31",
          "2020-02-01",
          "2020-02-02",
          "2020-02-03",
          "2020-02-04",
          "2020-02-05",
          "2020-02-06",
          "2020-02-07",
          "2020-02-08",
          "2020-02-09",
          "2020-02-10",
          "2020-02-11",
          "2020-02-12",
          "2020-02-13",
          "2020-02-14",
          "2020-02-15",
          "2020-02-16",
          "2020-02-17",
          "2020-02-18",
          "2020-02-19",
          "2020-02-20",
          "2020-02-21",
          "2020-02-22",
          "2020-02-23",
          "2020-02-24",
          "2020-02-25",
          "2020-02-26",
          "2020-02-27",
          "2020-02-28",
          "2020-02-29",
          "2020-03-01",
          "2020-03-02",
          "2020-03-03",
          "2020-03-04",
          "2020-03-05",
          "2020-03-06",
          "2020-03-07",
          "2020-03-08",
          "2020-03-09",
          "2020-03-10",
          "2020-03-11",
          "2020-03-12"
         ],
         "xaxis": "x",
         "y": [
          0,
          0,
          0,
          0,
          0,
          0,
          0,
          0,
          0,
          0,
          0,
          0,
          0,
          0,
          0,
          0,
          0,
          0,
          0,
          0,
          0,
          0,
          0,
          0,
          0,
          0,
          0,
          0,
          0,
          0,
          0,
          0,
          0,
          0,
          0,
          0,
          0,
          0,
          0,
          0,
          0,
          0,
          0,
          0,
          0,
          1,
          0,
          0,
          0,
          0,
          1,
          0
         ],
         "yaxis": "y"
        },
        {
         "hoverlabel": {
          "namelength": 0
         },
         "hovertemplate": "Public Health Unit=Toronto Public Health<br>Date=%{x}<br>Count=%{y}",
         "legendgroup": "Toronto Public Health",
         "line": {
          "color": "#EF553B",
          "dash": "solid"
         },
         "mode": "lines",
         "name": "Toronto Public Health",
         "showlegend": true,
         "type": "scatter",
         "x": [
          "2020-01-21",
          "2020-01-22",
          "2020-01-23",
          "2020-01-24",
          "2020-01-25",
          "2020-01-26",
          "2020-01-27",
          "2020-01-28",
          "2020-01-29",
          "2020-01-30",
          "2020-01-31",
          "2020-02-01",
          "2020-02-02",
          "2020-02-03",
          "2020-02-04",
          "2020-02-05",
          "2020-02-06",
          "2020-02-07",
          "2020-02-08",
          "2020-02-09",
          "2020-02-10",
          "2020-02-11",
          "2020-02-12",
          "2020-02-13",
          "2020-02-14",
          "2020-02-15",
          "2020-02-16",
          "2020-02-17",
          "2020-02-18",
          "2020-02-19",
          "2020-02-20",
          "2020-02-21",
          "2020-02-22",
          "2020-02-23",
          "2020-02-24",
          "2020-02-25",
          "2020-02-26",
          "2020-02-27",
          "2020-02-28",
          "2020-02-29",
          "2020-03-01",
          "2020-03-02",
          "2020-03-03",
          "2020-03-04",
          "2020-03-05",
          "2020-03-06",
          "2020-03-07",
          "2020-03-08",
          "2020-03-09",
          "2020-03-10",
          "2020-03-11",
          "2020-03-12"
         ],
         "xaxis": "x",
         "y": [
          1,
          1,
          0,
          0,
          0,
          0,
          0,
          0,
          0,
          0,
          0,
          0,
          0,
          0,
          0,
          1,
          0,
          0,
          0,
          0,
          0,
          0,
          0,
          0,
          1,
          0,
          1,
          0,
          0,
          0,
          2,
          1,
          0,
          0,
          1,
          0,
          1,
          0,
          1,
          1,
          1,
          5,
          6,
          3,
          2,
          2,
          4,
          3,
          6,
          6,
          5,
          0
         ],
         "yaxis": "y"
        },
        {
         "hoverlabel": {
          "namelength": 0
         },
         "hovertemplate": "Public Health Unit=York Region Public Health Services<br>Date=%{x}<br>Count=%{y}",
         "legendgroup": "York Region Public Health Services",
         "line": {
          "color": "#00cc96",
          "dash": "solid"
         },
         "mode": "lines",
         "name": "York Region Public Health Services",
         "showlegend": true,
         "type": "scatter",
         "x": [
          "2020-01-21",
          "2020-01-22",
          "2020-01-23",
          "2020-01-24",
          "2020-01-25",
          "2020-01-26",
          "2020-01-27",
          "2020-01-28",
          "2020-01-29",
          "2020-01-30",
          "2020-01-31",
          "2020-02-01",
          "2020-02-02",
          "2020-02-03",
          "2020-02-04",
          "2020-02-05",
          "2020-02-06",
          "2020-02-07",
          "2020-02-08",
          "2020-02-09",
          "2020-02-10",
          "2020-02-11",
          "2020-02-12",
          "2020-02-13",
          "2020-02-14",
          "2020-02-15",
          "2020-02-16",
          "2020-02-17",
          "2020-02-18",
          "2020-02-19",
          "2020-02-20",
          "2020-02-21",
          "2020-02-22",
          "2020-02-23",
          "2020-02-24",
          "2020-02-25",
          "2020-02-26",
          "2020-02-27",
          "2020-02-28",
          "2020-02-29",
          "2020-03-01",
          "2020-03-02",
          "2020-03-03",
          "2020-03-04",
          "2020-03-05",
          "2020-03-06",
          "2020-03-07",
          "2020-03-08",
          "2020-03-09",
          "2020-03-10",
          "2020-03-11",
          "2020-03-12"
         ],
         "xaxis": "x",
         "y": [
          0,
          0,
          0,
          0,
          0,
          0,
          0,
          0,
          0,
          0,
          0,
          0,
          0,
          0,
          0,
          0,
          0,
          0,
          0,
          0,
          0,
          0,
          0,
          0,
          0,
          0,
          0,
          0,
          0,
          0,
          0,
          0,
          2,
          1,
          0,
          1,
          0,
          1,
          2,
          0,
          0,
          0,
          0,
          0,
          0,
          1,
          1,
          1,
          1,
          0,
          0,
          0
         ],
         "yaxis": "y"
        }
       ],
       "layout": {
        "legend": {
         "title": {
          "text": "Public Health Unit"
         },
         "tracegroupgap": 0
        },
        "template": {
         "data": {
          "bar": [
           {
            "error_x": {
             "color": "#2a3f5f"
            },
            "error_y": {
             "color": "#2a3f5f"
            },
            "marker": {
             "line": {
              "color": "#E5ECF6",
              "width": 0.5
             }
            },
            "type": "bar"
           }
          ],
          "barpolar": [
           {
            "marker": {
             "line": {
              "color": "#E5ECF6",
              "width": 0.5
             }
            },
            "type": "barpolar"
           }
          ],
          "carpet": [
           {
            "aaxis": {
             "endlinecolor": "#2a3f5f",
             "gridcolor": "white",
             "linecolor": "white",
             "minorgridcolor": "white",
             "startlinecolor": "#2a3f5f"
            },
            "baxis": {
             "endlinecolor": "#2a3f5f",
             "gridcolor": "white",
             "linecolor": "white",
             "minorgridcolor": "white",
             "startlinecolor": "#2a3f5f"
            },
            "type": "carpet"
           }
          ],
          "choropleth": [
           {
            "colorbar": {
             "outlinewidth": 0,
             "ticks": ""
            },
            "type": "choropleth"
           }
          ],
          "contour": [
           {
            "colorbar": {
             "outlinewidth": 0,
             "ticks": ""
            },
            "colorscale": [
             [
              0,
              "#0d0887"
             ],
             [
              0.1111111111111111,
              "#46039f"
             ],
             [
              0.2222222222222222,
              "#7201a8"
             ],
             [
              0.3333333333333333,
              "#9c179e"
             ],
             [
              0.4444444444444444,
              "#bd3786"
             ],
             [
              0.5555555555555556,
              "#d8576b"
             ],
             [
              0.6666666666666666,
              "#ed7953"
             ],
             [
              0.7777777777777778,
              "#fb9f3a"
             ],
             [
              0.8888888888888888,
              "#fdca26"
             ],
             [
              1,
              "#f0f921"
             ]
            ],
            "type": "contour"
           }
          ],
          "contourcarpet": [
           {
            "colorbar": {
             "outlinewidth": 0,
             "ticks": ""
            },
            "type": "contourcarpet"
           }
          ],
          "heatmap": [
           {
            "colorbar": {
             "outlinewidth": 0,
             "ticks": ""
            },
            "colorscale": [
             [
              0,
              "#0d0887"
             ],
             [
              0.1111111111111111,
              "#46039f"
             ],
             [
              0.2222222222222222,
              "#7201a8"
             ],
             [
              0.3333333333333333,
              "#9c179e"
             ],
             [
              0.4444444444444444,
              "#bd3786"
             ],
             [
              0.5555555555555556,
              "#d8576b"
             ],
             [
              0.6666666666666666,
              "#ed7953"
             ],
             [
              0.7777777777777778,
              "#fb9f3a"
             ],
             [
              0.8888888888888888,
              "#fdca26"
             ],
             [
              1,
              "#f0f921"
             ]
            ],
            "type": "heatmap"
           }
          ],
          "heatmapgl": [
           {
            "colorbar": {
             "outlinewidth": 0,
             "ticks": ""
            },
            "colorscale": [
             [
              0,
              "#0d0887"
             ],
             [
              0.1111111111111111,
              "#46039f"
             ],
             [
              0.2222222222222222,
              "#7201a8"
             ],
             [
              0.3333333333333333,
              "#9c179e"
             ],
             [
              0.4444444444444444,
              "#bd3786"
             ],
             [
              0.5555555555555556,
              "#d8576b"
             ],
             [
              0.6666666666666666,
              "#ed7953"
             ],
             [
              0.7777777777777778,
              "#fb9f3a"
             ],
             [
              0.8888888888888888,
              "#fdca26"
             ],
             [
              1,
              "#f0f921"
             ]
            ],
            "type": "heatmapgl"
           }
          ],
          "histogram": [
           {
            "marker": {
             "colorbar": {
              "outlinewidth": 0,
              "ticks": ""
             }
            },
            "type": "histogram"
           }
          ],
          "histogram2d": [
           {
            "colorbar": {
             "outlinewidth": 0,
             "ticks": ""
            },
            "colorscale": [
             [
              0,
              "#0d0887"
             ],
             [
              0.1111111111111111,
              "#46039f"
             ],
             [
              0.2222222222222222,
              "#7201a8"
             ],
             [
              0.3333333333333333,
              "#9c179e"
             ],
             [
              0.4444444444444444,
              "#bd3786"
             ],
             [
              0.5555555555555556,
              "#d8576b"
             ],
             [
              0.6666666666666666,
              "#ed7953"
             ],
             [
              0.7777777777777778,
              "#fb9f3a"
             ],
             [
              0.8888888888888888,
              "#fdca26"
             ],
             [
              1,
              "#f0f921"
             ]
            ],
            "type": "histogram2d"
           }
          ],
          "histogram2dcontour": [
           {
            "colorbar": {
             "outlinewidth": 0,
             "ticks": ""
            },
            "colorscale": [
             [
              0,
              "#0d0887"
             ],
             [
              0.1111111111111111,
              "#46039f"
             ],
             [
              0.2222222222222222,
              "#7201a8"
             ],
             [
              0.3333333333333333,
              "#9c179e"
             ],
             [
              0.4444444444444444,
              "#bd3786"
             ],
             [
              0.5555555555555556,
              "#d8576b"
             ],
             [
              0.6666666666666666,
              "#ed7953"
             ],
             [
              0.7777777777777778,
              "#fb9f3a"
             ],
             [
              0.8888888888888888,
              "#fdca26"
             ],
             [
              1,
              "#f0f921"
             ]
            ],
            "type": "histogram2dcontour"
           }
          ],
          "mesh3d": [
           {
            "colorbar": {
             "outlinewidth": 0,
             "ticks": ""
            },
            "type": "mesh3d"
           }
          ],
          "parcoords": [
           {
            "line": {
             "colorbar": {
              "outlinewidth": 0,
              "ticks": ""
             }
            },
            "type": "parcoords"
           }
          ],
          "pie": [
           {
            "automargin": true,
            "type": "pie"
           }
          ],
          "scatter": [
           {
            "marker": {
             "colorbar": {
              "outlinewidth": 0,
              "ticks": ""
             }
            },
            "type": "scatter"
           }
          ],
          "scatter3d": [
           {
            "line": {
             "colorbar": {
              "outlinewidth": 0,
              "ticks": ""
             }
            },
            "marker": {
             "colorbar": {
              "outlinewidth": 0,
              "ticks": ""
             }
            },
            "type": "scatter3d"
           }
          ],
          "scattercarpet": [
           {
            "marker": {
             "colorbar": {
              "outlinewidth": 0,
              "ticks": ""
             }
            },
            "type": "scattercarpet"
           }
          ],
          "scattergeo": [
           {
            "marker": {
             "colorbar": {
              "outlinewidth": 0,
              "ticks": ""
             }
            },
            "type": "scattergeo"
           }
          ],
          "scattergl": [
           {
            "marker": {
             "colorbar": {
              "outlinewidth": 0,
              "ticks": ""
             }
            },
            "type": "scattergl"
           }
          ],
          "scattermapbox": [
           {
            "marker": {
             "colorbar": {
              "outlinewidth": 0,
              "ticks": ""
             }
            },
            "type": "scattermapbox"
           }
          ],
          "scatterpolar": [
           {
            "marker": {
             "colorbar": {
              "outlinewidth": 0,
              "ticks": ""
             }
            },
            "type": "scatterpolar"
           }
          ],
          "scatterpolargl": [
           {
            "marker": {
             "colorbar": {
              "outlinewidth": 0,
              "ticks": ""
             }
            },
            "type": "scatterpolargl"
           }
          ],
          "scatterternary": [
           {
            "marker": {
             "colorbar": {
              "outlinewidth": 0,
              "ticks": ""
             }
            },
            "type": "scatterternary"
           }
          ],
          "surface": [
           {
            "colorbar": {
             "outlinewidth": 0,
             "ticks": ""
            },
            "colorscale": [
             [
              0,
              "#0d0887"
             ],
             [
              0.1111111111111111,
              "#46039f"
             ],
             [
              0.2222222222222222,
              "#7201a8"
             ],
             [
              0.3333333333333333,
              "#9c179e"
             ],
             [
              0.4444444444444444,
              "#bd3786"
             ],
             [
              0.5555555555555556,
              "#d8576b"
             ],
             [
              0.6666666666666666,
              "#ed7953"
             ],
             [
              0.7777777777777778,
              "#fb9f3a"
             ],
             [
              0.8888888888888888,
              "#fdca26"
             ],
             [
              1,
              "#f0f921"
             ]
            ],
            "type": "surface"
           }
          ],
          "table": [
           {
            "cells": {
             "fill": {
              "color": "#EBF0F8"
             },
             "line": {
              "color": "white"
             }
            },
            "header": {
             "fill": {
              "color": "#C8D4E3"
             },
             "line": {
              "color": "white"
             }
            },
            "type": "table"
           }
          ]
         },
         "layout": {
          "annotationdefaults": {
           "arrowcolor": "#2a3f5f",
           "arrowhead": 0,
           "arrowwidth": 1
          },
          "coloraxis": {
           "colorbar": {
            "outlinewidth": 0,
            "ticks": ""
           }
          },
          "colorscale": {
           "diverging": [
            [
             0,
             "#8e0152"
            ],
            [
             0.1,
             "#c51b7d"
            ],
            [
             0.2,
             "#de77ae"
            ],
            [
             0.3,
             "#f1b6da"
            ],
            [
             0.4,
             "#fde0ef"
            ],
            [
             0.5,
             "#f7f7f7"
            ],
            [
             0.6,
             "#e6f5d0"
            ],
            [
             0.7,
             "#b8e186"
            ],
            [
             0.8,
             "#7fbc41"
            ],
            [
             0.9,
             "#4d9221"
            ],
            [
             1,
             "#276419"
            ]
           ],
           "sequential": [
            [
             0,
             "#0d0887"
            ],
            [
             0.1111111111111111,
             "#46039f"
            ],
            [
             0.2222222222222222,
             "#7201a8"
            ],
            [
             0.3333333333333333,
             "#9c179e"
            ],
            [
             0.4444444444444444,
             "#bd3786"
            ],
            [
             0.5555555555555556,
             "#d8576b"
            ],
            [
             0.6666666666666666,
             "#ed7953"
            ],
            [
             0.7777777777777778,
             "#fb9f3a"
            ],
            [
             0.8888888888888888,
             "#fdca26"
            ],
            [
             1,
             "#f0f921"
            ]
           ],
           "sequentialminus": [
            [
             0,
             "#0d0887"
            ],
            [
             0.1111111111111111,
             "#46039f"
            ],
            [
             0.2222222222222222,
             "#7201a8"
            ],
            [
             0.3333333333333333,
             "#9c179e"
            ],
            [
             0.4444444444444444,
             "#bd3786"
            ],
            [
             0.5555555555555556,
             "#d8576b"
            ],
            [
             0.6666666666666666,
             "#ed7953"
            ],
            [
             0.7777777777777778,
             "#fb9f3a"
            ],
            [
             0.8888888888888888,
             "#fdca26"
            ],
            [
             1,
             "#f0f921"
            ]
           ]
          },
          "colorway": [
           "#636efa",
           "#EF553B",
           "#00cc96",
           "#ab63fa",
           "#FFA15A",
           "#19d3f3",
           "#FF6692",
           "#B6E880",
           "#FF97FF",
           "#FECB52"
          ],
          "font": {
           "color": "#2a3f5f"
          },
          "geo": {
           "bgcolor": "white",
           "lakecolor": "white",
           "landcolor": "#E5ECF6",
           "showlakes": true,
           "showland": true,
           "subunitcolor": "white"
          },
          "hoverlabel": {
           "align": "left"
          },
          "hovermode": "closest",
          "mapbox": {
           "style": "light"
          },
          "paper_bgcolor": "white",
          "plot_bgcolor": "#E5ECF6",
          "polar": {
           "angularaxis": {
            "gridcolor": "white",
            "linecolor": "white",
            "ticks": ""
           },
           "bgcolor": "#E5ECF6",
           "radialaxis": {
            "gridcolor": "white",
            "linecolor": "white",
            "ticks": ""
           }
          },
          "scene": {
           "xaxis": {
            "backgroundcolor": "#E5ECF6",
            "gridcolor": "white",
            "gridwidth": 2,
            "linecolor": "white",
            "showbackground": true,
            "ticks": "",
            "zerolinecolor": "white"
           },
           "yaxis": {
            "backgroundcolor": "#E5ECF6",
            "gridcolor": "white",
            "gridwidth": 2,
            "linecolor": "white",
            "showbackground": true,
            "ticks": "",
            "zerolinecolor": "white"
           },
           "zaxis": {
            "backgroundcolor": "#E5ECF6",
            "gridcolor": "white",
            "gridwidth": 2,
            "linecolor": "white",
            "showbackground": true,
            "ticks": "",
            "zerolinecolor": "white"
           }
          },
          "shapedefaults": {
           "line": {
            "color": "#2a3f5f"
           }
          },
          "ternary": {
           "aaxis": {
            "gridcolor": "white",
            "linecolor": "white",
            "ticks": ""
           },
           "baxis": {
            "gridcolor": "white",
            "linecolor": "white",
            "ticks": ""
           },
           "bgcolor": "#E5ECF6",
           "caxis": {
            "gridcolor": "white",
            "linecolor": "white",
            "ticks": ""
           }
          },
          "title": {
           "x": 0.05
          },
          "xaxis": {
           "automargin": true,
           "gridcolor": "white",
           "linecolor": "white",
           "ticks": "",
           "title": {
            "standoff": 15
           },
           "zerolinecolor": "white",
           "zerolinewidth": 2
          },
          "yaxis": {
           "automargin": true,
           "gridcolor": "white",
           "linecolor": "white",
           "ticks": "",
           "title": {
            "standoff": 15
           },
           "zerolinecolor": "white",
           "zerolinewidth": 2
          }
         }
        },
        "title": {
         "text": "Daily Confirmed Cases per Ontario Region from 2020-01-21 to 2020-03-12"
        },
        "xaxis": {
         "anchor": "y",
         "domain": [
          0,
          1
         ],
         "title": {
          "text": "Date"
         }
        },
        "yaxis": {
         "anchor": "x",
         "domain": [
          0,
          1
         ],
         "title": {
          "text": "Count"
         }
        }
       }
      },
      "text/html": [
       "<div>\n",
       "        \n",
       "        \n",
       "            <div id=\"7ddaa686-0164-4df5-9043-12d3806b9b9f\" class=\"plotly-graph-div\" style=\"height:525px; width:100%;\"></div>\n",
       "            <script type=\"text/javascript\">\n",
       "                require([\"plotly\"], function(Plotly) {\n",
       "                    window.PLOTLYENV=window.PLOTLYENV || {};\n",
       "                    \n",
       "                if (document.getElementById(\"7ddaa686-0164-4df5-9043-12d3806b9b9f\")) {\n",
       "                    Plotly.newPlot(\n",
       "                        '7ddaa686-0164-4df5-9043-12d3806b9b9f',\n",
       "                        [{\"hoverlabel\": {\"namelength\": 0}, \"hovertemplate\": \"Public Health Unit=Durham Region Health Department<br>Date=%{x}<br>Count=%{y}\", \"legendgroup\": \"Durham Region Health Department\", \"line\": {\"color\": \"#636efa\", \"dash\": \"solid\"}, \"mode\": \"lines\", \"name\": \"Durham Region Health Department\", \"showlegend\": true, \"type\": \"scatter\", \"x\": [\"2020-01-21\", \"2020-01-22\", \"2020-01-23\", \"2020-01-24\", \"2020-01-25\", \"2020-01-26\", \"2020-01-27\", \"2020-01-28\", \"2020-01-29\", \"2020-01-30\", \"2020-01-31\", \"2020-02-01\", \"2020-02-02\", \"2020-02-03\", \"2020-02-04\", \"2020-02-05\", \"2020-02-06\", \"2020-02-07\", \"2020-02-08\", \"2020-02-09\", \"2020-02-10\", \"2020-02-11\", \"2020-02-12\", \"2020-02-13\", \"2020-02-14\", \"2020-02-15\", \"2020-02-16\", \"2020-02-17\", \"2020-02-18\", \"2020-02-19\", \"2020-02-20\", \"2020-02-21\", \"2020-02-22\", \"2020-02-23\", \"2020-02-24\", \"2020-02-25\", \"2020-02-26\", \"2020-02-27\", \"2020-02-28\", \"2020-02-29\", \"2020-03-01\", \"2020-03-02\", \"2020-03-03\", \"2020-03-04\", \"2020-03-05\", \"2020-03-06\", \"2020-03-07\", \"2020-03-08\", \"2020-03-09\", \"2020-03-10\", \"2020-03-11\", \"2020-03-12\"], \"xaxis\": \"x\", \"y\": [0, 0, 0, 0, 0, 0, 0, 0, 0, 0, 0, 0, 0, 0, 0, 0, 0, 0, 0, 0, 0, 0, 0, 0, 0, 0, 0, 0, 0, 0, 0, 0, 0, 0, 1, 0, 1, 0, 0, 0, 0, 0, 0, 0, 0, 0, 0, 0, 0, 0, 0, 0], \"yaxis\": \"y\"}, {\"hoverlabel\": {\"namelength\": 0}, \"hovertemplate\": \"Public Health Unit=Eastern Ontario Health Unit<br>Date=%{x}<br>Count=%{y}\", \"legendgroup\": \"Eastern Ontario Health Unit\", \"line\": {\"color\": \"#EF553B\", \"dash\": \"solid\"}, \"mode\": \"lines\", \"name\": \"Eastern Ontario Health Unit\", \"showlegend\": true, \"type\": \"scatter\", \"x\": [\"2020-01-21\", \"2020-01-22\", \"2020-01-23\", \"2020-01-24\", \"2020-01-25\", \"2020-01-26\", \"2020-01-27\", \"2020-01-28\", \"2020-01-29\", \"2020-01-30\", \"2020-01-31\", \"2020-02-01\", \"2020-02-02\", \"2020-02-03\", \"2020-02-04\", \"2020-02-05\", \"2020-02-06\", \"2020-02-07\", \"2020-02-08\", \"2020-02-09\", \"2020-02-10\", \"2020-02-11\", \"2020-02-12\", \"2020-02-13\", \"2020-02-14\", \"2020-02-15\", \"2020-02-16\", \"2020-02-17\", \"2020-02-18\", \"2020-02-19\", \"2020-02-20\", \"2020-02-21\", \"2020-02-22\", \"2020-02-23\", \"2020-02-24\", \"2020-02-25\", \"2020-02-26\", \"2020-02-27\", \"2020-02-28\", \"2020-02-29\", \"2020-03-01\", \"2020-03-02\", \"2020-03-03\", \"2020-03-04\", \"2020-03-05\", \"2020-03-06\", \"2020-03-07\", \"2020-03-08\", \"2020-03-09\", \"2020-03-10\", \"2020-03-11\", \"2020-03-12\"], \"xaxis\": \"x\", \"y\": [0, 0, 0, 0, 0, 0, 0, 0, 0, 0, 0, 0, 0, 0, 0, 0, 0, 0, 0, 0, 0, 0, 0, 0, 0, 0, 0, 0, 0, 0, 0, 0, 0, 0, 0, 0, 0, 0, 0, 0, 0, 0, 0, 0, 0, 0, 0, 0, 1, 0, 0, 0], \"yaxis\": \"y\"}, {\"hoverlabel\": {\"namelength\": 0}, \"hovertemplate\": \"Public Health Unit=Halton Region Health Department<br>Date=%{x}<br>Count=%{y}\", \"legendgroup\": \"Halton Region Health Department\", \"line\": {\"color\": \"#00cc96\", \"dash\": \"solid\"}, \"mode\": \"lines\", \"name\": \"Halton Region Health Department\", \"showlegend\": true, \"type\": \"scatter\", \"x\": [\"2020-01-21\", \"2020-01-22\", \"2020-01-23\", \"2020-01-24\", \"2020-01-25\", \"2020-01-26\", \"2020-01-27\", \"2020-01-28\", \"2020-01-29\", \"2020-01-30\", \"2020-01-31\", \"2020-02-01\", \"2020-02-02\", \"2020-02-03\", \"2020-02-04\", \"2020-02-05\", \"2020-02-06\", \"2020-02-07\", \"2020-02-08\", \"2020-02-09\", \"2020-02-10\", \"2020-02-11\", \"2020-02-12\", \"2020-02-13\", \"2020-02-14\", \"2020-02-15\", \"2020-02-16\", \"2020-02-17\", \"2020-02-18\", \"2020-02-19\", \"2020-02-20\", \"2020-02-21\", \"2020-02-22\", \"2020-02-23\", \"2020-02-24\", \"2020-02-25\", \"2020-02-26\", \"2020-02-27\", \"2020-02-28\", \"2020-02-29\", \"2020-03-01\", \"2020-03-02\", \"2020-03-03\", \"2020-03-04\", \"2020-03-05\", \"2020-03-06\", \"2020-03-07\", \"2020-03-08\", \"2020-03-09\", \"2020-03-10\", \"2020-03-11\", \"2020-03-12\"], \"xaxis\": \"x\", \"y\": [0, 0, 0, 0, 0, 0, 0, 0, 0, 0, 0, 0, 0, 0, 0, 0, 0, 0, 0, 0, 0, 0, 0, 0, 0, 0, 0, 0, 0, 0, 0, 0, 0, 0, 0, 0, 0, 0, 0, 0, 0, 0, 0, 0, 0, 0, 1, 1, 1, 0, 0, 0], \"yaxis\": \"y\"}, {\"hoverlabel\": {\"namelength\": 0}, \"hovertemplate\": \"Public Health Unit=Hamilton Public Health Services<br>Date=%{x}<br>Count=%{y}\", \"legendgroup\": \"Hamilton Public Health Services\", \"line\": {\"color\": \"#ab63fa\", \"dash\": \"solid\"}, \"mode\": \"lines\", \"name\": \"Hamilton Public Health Services\", \"showlegend\": true, \"type\": \"scatter\", \"x\": [\"2020-01-21\", \"2020-01-22\", \"2020-01-23\", \"2020-01-24\", \"2020-01-25\", \"2020-01-26\", \"2020-01-27\", \"2020-01-28\", \"2020-01-29\", \"2020-01-30\", \"2020-01-31\", \"2020-02-01\", \"2020-02-02\", \"2020-02-03\", \"2020-02-04\", \"2020-02-05\", \"2020-02-06\", \"2020-02-07\", \"2020-02-08\", \"2020-02-09\", \"2020-02-10\", \"2020-02-11\", \"2020-02-12\", \"2020-02-13\", \"2020-02-14\", \"2020-02-15\", \"2020-02-16\", \"2020-02-17\", \"2020-02-18\", \"2020-02-19\", \"2020-02-20\", \"2020-02-21\", \"2020-02-22\", \"2020-02-23\", \"2020-02-24\", \"2020-02-25\", \"2020-02-26\", \"2020-02-27\", \"2020-02-28\", \"2020-02-29\", \"2020-03-01\", \"2020-03-02\", \"2020-03-03\", \"2020-03-04\", \"2020-03-05\", \"2020-03-06\", \"2020-03-07\", \"2020-03-08\", \"2020-03-09\", \"2020-03-10\", \"2020-03-11\", \"2020-03-12\"], \"xaxis\": \"x\", \"y\": [0, 0, 0, 0, 0, 0, 0, 0, 0, 0, 0, 0, 0, 0, 0, 0, 0, 0, 0, 0, 0, 0, 0, 0, 0, 0, 0, 0, 0, 0, 0, 0, 0, 0, 0, 0, 0, 0, 0, 0, 0, 0, 0, 0, 0, 0, 1, 0, 0, 0, 0, 0], \"yaxis\": \"y\"}, {\"hoverlabel\": {\"namelength\": 0}, \"hovertemplate\": \"Public Health Unit=Middlesex-London Health Unit<br>Date=%{x}<br>Count=%{y}\", \"legendgroup\": \"Middlesex-London Health Unit\", \"line\": {\"color\": \"#FFA15A\", \"dash\": \"solid\"}, \"mode\": \"lines\", \"name\": \"Middlesex-London Health Unit\", \"showlegend\": true, \"type\": \"scatter\", \"x\": [\"2020-01-21\", \"2020-01-22\", \"2020-01-23\", \"2020-01-24\", \"2020-01-25\", \"2020-01-26\", \"2020-01-27\", \"2020-01-28\", \"2020-01-29\", \"2020-01-30\", \"2020-01-31\", \"2020-02-01\", \"2020-02-02\", \"2020-02-03\", \"2020-02-04\", \"2020-02-05\", \"2020-02-06\", \"2020-02-07\", \"2020-02-08\", \"2020-02-09\", \"2020-02-10\", \"2020-02-11\", \"2020-02-12\", \"2020-02-13\", \"2020-02-14\", \"2020-02-15\", \"2020-02-16\", \"2020-02-17\", \"2020-02-18\", \"2020-02-19\", \"2020-02-20\", \"2020-02-21\", \"2020-02-22\", \"2020-02-23\", \"2020-02-24\", \"2020-02-25\", \"2020-02-26\", \"2020-02-27\", \"2020-02-28\", \"2020-02-29\", \"2020-03-01\", \"2020-03-02\", \"2020-03-03\", \"2020-03-04\", \"2020-03-05\", \"2020-03-06\", \"2020-03-07\", \"2020-03-08\", \"2020-03-09\", \"2020-03-10\", \"2020-03-11\", \"2020-03-12\"], \"xaxis\": \"x\", \"y\": [0, 0, 0, 1, 0, 0, 0, 0, 0, 0, 0, 0, 0, 0, 0, 0, 0, 0, 0, 0, 0, 0, 0, 0, 0, 0, 0, 0, 0, 0, 0, 0, 0, 0, 0, 0, 0, 0, 0, 0, 0, 0, 0, 0, 0, 0, 0, 0, 0, 0, 0, 0], \"yaxis\": \"y\"}, {\"hoverlabel\": {\"namelength\": 0}, \"hovertemplate\": \"Public Health Unit=Niagara Region Public Health Department<br>Date=%{x}<br>Count=%{y}\", \"legendgroup\": \"Niagara Region Public Health Department\", \"line\": {\"color\": \"#19d3f3\", \"dash\": \"solid\"}, \"mode\": \"lines\", \"name\": \"Niagara Region Public Health Department\", \"showlegend\": true, \"type\": \"scatter\", \"x\": [\"2020-01-21\", \"2020-01-22\", \"2020-01-23\", \"2020-01-24\", \"2020-01-25\", \"2020-01-26\", \"2020-01-27\", \"2020-01-28\", \"2020-01-29\", \"2020-01-30\", \"2020-01-31\", \"2020-02-01\", \"2020-02-02\", \"2020-02-03\", \"2020-02-04\", \"2020-02-05\", \"2020-02-06\", \"2020-02-07\", \"2020-02-08\", \"2020-02-09\", \"2020-02-10\", \"2020-02-11\", \"2020-02-12\", \"2020-02-13\", \"2020-02-14\", \"2020-02-15\", \"2020-02-16\", \"2020-02-17\", \"2020-02-18\", \"2020-02-19\", \"2020-02-20\", \"2020-02-21\", \"2020-02-22\", \"2020-02-23\", \"2020-02-24\", \"2020-02-25\", \"2020-02-26\", \"2020-02-27\", \"2020-02-28\", \"2020-02-29\", \"2020-03-01\", \"2020-03-02\", \"2020-03-03\", \"2020-03-04\", \"2020-03-05\", \"2020-03-06\", \"2020-03-07\", \"2020-03-08\", \"2020-03-09\", \"2020-03-10\", \"2020-03-11\", \"2020-03-12\"], \"xaxis\": \"x\", \"y\": [0, 0, 0, 0, 0, 0, 0, 0, 0, 0, 0, 0, 0, 0, 0, 0, 0, 0, 0, 0, 0, 0, 0, 0, 0, 0, 0, 0, 0, 0, 0, 0, 0, 0, 0, 0, 0, 0, 0, 0, 0, 0, 0, 0, 0, 0, 0, 0, 0, 1, 0, 0], \"yaxis\": \"y\"}, {\"hoverlabel\": {\"namelength\": 0}, \"hovertemplate\": \"Public Health Unit=Ottawa Public Health<br>Date=%{x}<br>Count=%{y}\", \"legendgroup\": \"Ottawa Public Health\", \"line\": {\"color\": \"#FF6692\", \"dash\": \"solid\"}, \"mode\": \"lines\", \"name\": \"Ottawa Public Health\", \"showlegend\": true, \"type\": \"scatter\", \"x\": [\"2020-01-21\", \"2020-01-22\", \"2020-01-23\", \"2020-01-24\", \"2020-01-25\", \"2020-01-26\", \"2020-01-27\", \"2020-01-28\", \"2020-01-29\", \"2020-01-30\", \"2020-01-31\", \"2020-02-01\", \"2020-02-02\", \"2020-02-03\", \"2020-02-04\", \"2020-02-05\", \"2020-02-06\", \"2020-02-07\", \"2020-02-08\", \"2020-02-09\", \"2020-02-10\", \"2020-02-11\", \"2020-02-12\", \"2020-02-13\", \"2020-02-14\", \"2020-02-15\", \"2020-02-16\", \"2020-02-17\", \"2020-02-18\", \"2020-02-19\", \"2020-02-20\", \"2020-02-21\", \"2020-02-22\", \"2020-02-23\", \"2020-02-24\", \"2020-02-25\", \"2020-02-26\", \"2020-02-27\", \"2020-02-28\", \"2020-02-29\", \"2020-03-01\", \"2020-03-02\", \"2020-03-03\", \"2020-03-04\", \"2020-03-05\", \"2020-03-06\", \"2020-03-07\", \"2020-03-08\", \"2020-03-09\", \"2020-03-10\", \"2020-03-11\", \"2020-03-12\"], \"xaxis\": \"x\", \"y\": [0, 0, 0, 0, 0, 0, 0, 0, 0, 0, 0, 0, 0, 0, 0, 0, 0, 0, 0, 0, 0, 0, 0, 0, 0, 0, 0, 0, 0, 0, 0, 0, 0, 0, 0, 0, 0, 0, 0, 0, 0, 2, 0, 0, 1, 0, 0, 3, 1, 0, 1, 1], \"yaxis\": \"y\"}, {\"hoverlabel\": {\"namelength\": 0}, \"hovertemplate\": \"Public Health Unit=Peel Public Health<br>Date=%{x}<br>Count=%{y}\", \"legendgroup\": \"Peel Public Health\", \"line\": {\"color\": \"#B6E880\", \"dash\": \"solid\"}, \"mode\": \"lines\", \"name\": \"Peel Public Health\", \"showlegend\": true, \"type\": \"scatter\", \"x\": [\"2020-01-21\", \"2020-01-22\", \"2020-01-23\", \"2020-01-24\", \"2020-01-25\", \"2020-01-26\", \"2020-01-27\", \"2020-01-28\", \"2020-01-29\", \"2020-01-30\", \"2020-01-31\", \"2020-02-01\", \"2020-02-02\", \"2020-02-03\", \"2020-02-04\", \"2020-02-05\", \"2020-02-06\", \"2020-02-07\", \"2020-02-08\", \"2020-02-09\", \"2020-02-10\", \"2020-02-11\", \"2020-02-12\", \"2020-02-13\", \"2020-02-14\", \"2020-02-15\", \"2020-02-16\", \"2020-02-17\", \"2020-02-18\", \"2020-02-19\", \"2020-02-20\", \"2020-02-21\", \"2020-02-22\", \"2020-02-23\", \"2020-02-24\", \"2020-02-25\", \"2020-02-26\", \"2020-02-27\", \"2020-02-28\", \"2020-02-29\", \"2020-03-01\", \"2020-03-02\", \"2020-03-03\", \"2020-03-04\", \"2020-03-05\", \"2020-03-06\", \"2020-03-07\", \"2020-03-08\", \"2020-03-09\", \"2020-03-10\", \"2020-03-11\", \"2020-03-12\"], \"xaxis\": \"x\", \"y\": [0, 0, 0, 0, 0, 0, 0, 0, 0, 0, 0, 0, 0, 0, 0, 0, 0, 0, 0, 0, 0, 0, 0, 0, 0, 0, 0, 0, 0, 0, 0, 0, 0, 0, 0, 1, 0, 0, 0, 1, 0, 1, 0, 0, 1, 0, 0, 0, 1, 3, 2, 0], \"yaxis\": \"y\"}, {\"hoverlabel\": {\"namelength\": 0}, \"hovertemplate\": \"Public Health Unit=Region of Waterloo, Public Health<br>Date=%{x}<br>Count=%{y}\", \"legendgroup\": \"Region of Waterloo, Public Health\", \"line\": {\"color\": \"#FF97FF\", \"dash\": \"solid\"}, \"mode\": \"lines\", \"name\": \"Region of Waterloo, Public Health\", \"showlegend\": true, \"type\": \"scatter\", \"x\": [\"2020-01-21\", \"2020-01-22\", \"2020-01-23\", \"2020-01-24\", \"2020-01-25\", \"2020-01-26\", \"2020-01-27\", \"2020-01-28\", \"2020-01-29\", \"2020-01-30\", \"2020-01-31\", \"2020-02-01\", \"2020-02-02\", \"2020-02-03\", \"2020-02-04\", \"2020-02-05\", \"2020-02-06\", \"2020-02-07\", \"2020-02-08\", \"2020-02-09\", \"2020-02-10\", \"2020-02-11\", \"2020-02-12\", \"2020-02-13\", \"2020-02-14\", \"2020-02-15\", \"2020-02-16\", \"2020-02-17\", \"2020-02-18\", \"2020-02-19\", \"2020-02-20\", \"2020-02-21\", \"2020-02-22\", \"2020-02-23\", \"2020-02-24\", \"2020-02-25\", \"2020-02-26\", \"2020-02-27\", \"2020-02-28\", \"2020-02-29\", \"2020-03-01\", \"2020-03-02\", \"2020-03-03\", \"2020-03-04\", \"2020-03-05\", \"2020-03-06\", \"2020-03-07\", \"2020-03-08\", \"2020-03-09\", \"2020-03-10\", \"2020-03-11\", \"2020-03-12\"], \"xaxis\": \"x\", \"y\": [0, 0, 0, 0, 0, 0, 0, 0, 0, 0, 0, 0, 0, 0, 0, 0, 0, 0, 0, 0, 0, 0, 0, 0, 0, 0, 0, 0, 0, 0, 0, 0, 0, 0, 0, 0, 0, 0, 0, 1, 1, 0, 0, 0, 0, 0, 0, 1, 0, 0, 0, 0], \"yaxis\": \"y\"}, {\"hoverlabel\": {\"namelength\": 0}, \"hovertemplate\": \"Public Health Unit=Simcoe Muskoka District Health Unit<br>Date=%{x}<br>Count=%{y}\", \"legendgroup\": \"Simcoe Muskoka District Health Unit\", \"line\": {\"color\": \"#FECB52\", \"dash\": \"solid\"}, \"mode\": \"lines\", \"name\": \"Simcoe Muskoka District Health Unit\", \"showlegend\": true, \"type\": \"scatter\", \"x\": [\"2020-01-21\", \"2020-01-22\", \"2020-01-23\", \"2020-01-24\", \"2020-01-25\", \"2020-01-26\", \"2020-01-27\", \"2020-01-28\", \"2020-01-29\", \"2020-01-30\", \"2020-01-31\", \"2020-02-01\", \"2020-02-02\", \"2020-02-03\", \"2020-02-04\", \"2020-02-05\", \"2020-02-06\", \"2020-02-07\", \"2020-02-08\", \"2020-02-09\", \"2020-02-10\", \"2020-02-11\", \"2020-02-12\", \"2020-02-13\", \"2020-02-14\", \"2020-02-15\", \"2020-02-16\", \"2020-02-17\", \"2020-02-18\", \"2020-02-19\", \"2020-02-20\", \"2020-02-21\", \"2020-02-22\", \"2020-02-23\", \"2020-02-24\", \"2020-02-25\", \"2020-02-26\", \"2020-02-27\", \"2020-02-28\", \"2020-02-29\", \"2020-03-01\", \"2020-03-02\", \"2020-03-03\", \"2020-03-04\", \"2020-03-05\", \"2020-03-06\", \"2020-03-07\", \"2020-03-08\", \"2020-03-09\", \"2020-03-10\", \"2020-03-11\", \"2020-03-12\"], \"xaxis\": \"x\", \"y\": [0, 0, 0, 0, 0, 0, 0, 0, 0, 0, 0, 0, 0, 0, 0, 0, 0, 0, 0, 0, 0, 0, 0, 0, 0, 0, 0, 0, 0, 0, 0, 0, 0, 0, 0, 0, 0, 0, 0, 0, 0, 0, 0, 0, 0, 0, 0, 1, 0, 0, 0, 0], \"yaxis\": \"y\"}, {\"hoverlabel\": {\"namelength\": 0}, \"hovertemplate\": \"Public Health Unit=Sudbury & District Health Unit<br>Date=%{x}<br>Count=%{y}\", \"legendgroup\": \"Sudbury & District Health Unit\", \"line\": {\"color\": \"#636efa\", \"dash\": \"solid\"}, \"mode\": \"lines\", \"name\": \"Sudbury & District Health Unit\", \"showlegend\": true, \"type\": \"scatter\", \"x\": [\"2020-01-21\", \"2020-01-22\", \"2020-01-23\", \"2020-01-24\", \"2020-01-25\", \"2020-01-26\", \"2020-01-27\", \"2020-01-28\", \"2020-01-29\", \"2020-01-30\", \"2020-01-31\", \"2020-02-01\", \"2020-02-02\", \"2020-02-03\", \"2020-02-04\", \"2020-02-05\", \"2020-02-06\", \"2020-02-07\", \"2020-02-08\", \"2020-02-09\", \"2020-02-10\", \"2020-02-11\", \"2020-02-12\", \"2020-02-13\", \"2020-02-14\", \"2020-02-15\", \"2020-02-16\", \"2020-02-17\", \"2020-02-18\", \"2020-02-19\", \"2020-02-20\", \"2020-02-21\", \"2020-02-22\", \"2020-02-23\", \"2020-02-24\", \"2020-02-25\", \"2020-02-26\", \"2020-02-27\", \"2020-02-28\", \"2020-02-29\", \"2020-03-01\", \"2020-03-02\", \"2020-03-03\", \"2020-03-04\", \"2020-03-05\", \"2020-03-06\", \"2020-03-07\", \"2020-03-08\", \"2020-03-09\", \"2020-03-10\", \"2020-03-11\", \"2020-03-12\"], \"xaxis\": \"x\", \"y\": [0, 0, 0, 0, 0, 0, 0, 0, 0, 0, 0, 0, 0, 0, 0, 0, 0, 0, 0, 0, 0, 0, 0, 0, 0, 0, 0, 0, 0, 0, 0, 0, 0, 0, 0, 0, 0, 0, 0, 0, 0, 0, 0, 0, 0, 1, 0, 0, 0, 0, 1, 0], \"yaxis\": \"y\"}, {\"hoverlabel\": {\"namelength\": 0}, \"hovertemplate\": \"Public Health Unit=Toronto Public Health<br>Date=%{x}<br>Count=%{y}\", \"legendgroup\": \"Toronto Public Health\", \"line\": {\"color\": \"#EF553B\", \"dash\": \"solid\"}, \"mode\": \"lines\", \"name\": \"Toronto Public Health\", \"showlegend\": true, \"type\": \"scatter\", \"x\": [\"2020-01-21\", \"2020-01-22\", \"2020-01-23\", \"2020-01-24\", \"2020-01-25\", \"2020-01-26\", \"2020-01-27\", \"2020-01-28\", \"2020-01-29\", \"2020-01-30\", \"2020-01-31\", \"2020-02-01\", \"2020-02-02\", \"2020-02-03\", \"2020-02-04\", \"2020-02-05\", \"2020-02-06\", \"2020-02-07\", \"2020-02-08\", \"2020-02-09\", \"2020-02-10\", \"2020-02-11\", \"2020-02-12\", \"2020-02-13\", \"2020-02-14\", \"2020-02-15\", \"2020-02-16\", \"2020-02-17\", \"2020-02-18\", \"2020-02-19\", \"2020-02-20\", \"2020-02-21\", \"2020-02-22\", \"2020-02-23\", \"2020-02-24\", \"2020-02-25\", \"2020-02-26\", \"2020-02-27\", \"2020-02-28\", \"2020-02-29\", \"2020-03-01\", \"2020-03-02\", \"2020-03-03\", \"2020-03-04\", \"2020-03-05\", \"2020-03-06\", \"2020-03-07\", \"2020-03-08\", \"2020-03-09\", \"2020-03-10\", \"2020-03-11\", \"2020-03-12\"], \"xaxis\": \"x\", \"y\": [1, 1, 0, 0, 0, 0, 0, 0, 0, 0, 0, 0, 0, 0, 0, 1, 0, 0, 0, 0, 0, 0, 0, 0, 1, 0, 1, 0, 0, 0, 2, 1, 0, 0, 1, 0, 1, 0, 1, 1, 1, 5, 6, 3, 2, 2, 4, 3, 6, 6, 5, 0], \"yaxis\": \"y\"}, {\"hoverlabel\": {\"namelength\": 0}, \"hovertemplate\": \"Public Health Unit=York Region Public Health Services<br>Date=%{x}<br>Count=%{y}\", \"legendgroup\": \"York Region Public Health Services\", \"line\": {\"color\": \"#00cc96\", \"dash\": \"solid\"}, \"mode\": \"lines\", \"name\": \"York Region Public Health Services\", \"showlegend\": true, \"type\": \"scatter\", \"x\": [\"2020-01-21\", \"2020-01-22\", \"2020-01-23\", \"2020-01-24\", \"2020-01-25\", \"2020-01-26\", \"2020-01-27\", \"2020-01-28\", \"2020-01-29\", \"2020-01-30\", \"2020-01-31\", \"2020-02-01\", \"2020-02-02\", \"2020-02-03\", \"2020-02-04\", \"2020-02-05\", \"2020-02-06\", \"2020-02-07\", \"2020-02-08\", \"2020-02-09\", \"2020-02-10\", \"2020-02-11\", \"2020-02-12\", \"2020-02-13\", \"2020-02-14\", \"2020-02-15\", \"2020-02-16\", \"2020-02-17\", \"2020-02-18\", \"2020-02-19\", \"2020-02-20\", \"2020-02-21\", \"2020-02-22\", \"2020-02-23\", \"2020-02-24\", \"2020-02-25\", \"2020-02-26\", \"2020-02-27\", \"2020-02-28\", \"2020-02-29\", \"2020-03-01\", \"2020-03-02\", \"2020-03-03\", \"2020-03-04\", \"2020-03-05\", \"2020-03-06\", \"2020-03-07\", \"2020-03-08\", \"2020-03-09\", \"2020-03-10\", \"2020-03-11\", \"2020-03-12\"], \"xaxis\": \"x\", \"y\": [0, 0, 0, 0, 0, 0, 0, 0, 0, 0, 0, 0, 0, 0, 0, 0, 0, 0, 0, 0, 0, 0, 0, 0, 0, 0, 0, 0, 0, 0, 0, 0, 2, 1, 0, 1, 0, 1, 2, 0, 0, 0, 0, 0, 0, 1, 1, 1, 1, 0, 0, 0], \"yaxis\": \"y\"}],\n",
       "                        {\"legend\": {\"title\": {\"text\": \"Public Health Unit\"}, \"tracegroupgap\": 0}, \"template\": {\"data\": {\"bar\": [{\"error_x\": {\"color\": \"#2a3f5f\"}, \"error_y\": {\"color\": \"#2a3f5f\"}, \"marker\": {\"line\": {\"color\": \"#E5ECF6\", \"width\": 0.5}}, \"type\": \"bar\"}], \"barpolar\": [{\"marker\": {\"line\": {\"color\": \"#E5ECF6\", \"width\": 0.5}}, \"type\": \"barpolar\"}], \"carpet\": [{\"aaxis\": {\"endlinecolor\": \"#2a3f5f\", \"gridcolor\": \"white\", \"linecolor\": \"white\", \"minorgridcolor\": \"white\", \"startlinecolor\": \"#2a3f5f\"}, \"baxis\": {\"endlinecolor\": \"#2a3f5f\", \"gridcolor\": \"white\", \"linecolor\": \"white\", \"minorgridcolor\": \"white\", \"startlinecolor\": \"#2a3f5f\"}, \"type\": \"carpet\"}], \"choropleth\": [{\"colorbar\": {\"outlinewidth\": 0, \"ticks\": \"\"}, \"type\": \"choropleth\"}], \"contour\": [{\"colorbar\": {\"outlinewidth\": 0, \"ticks\": \"\"}, \"colorscale\": [[0.0, \"#0d0887\"], [0.1111111111111111, \"#46039f\"], [0.2222222222222222, \"#7201a8\"], [0.3333333333333333, \"#9c179e\"], [0.4444444444444444, \"#bd3786\"], [0.5555555555555556, \"#d8576b\"], [0.6666666666666666, \"#ed7953\"], [0.7777777777777778, \"#fb9f3a\"], [0.8888888888888888, \"#fdca26\"], [1.0, \"#f0f921\"]], \"type\": \"contour\"}], \"contourcarpet\": [{\"colorbar\": {\"outlinewidth\": 0, \"ticks\": \"\"}, \"type\": \"contourcarpet\"}], \"heatmap\": [{\"colorbar\": {\"outlinewidth\": 0, \"ticks\": \"\"}, \"colorscale\": [[0.0, \"#0d0887\"], [0.1111111111111111, \"#46039f\"], [0.2222222222222222, \"#7201a8\"], [0.3333333333333333, \"#9c179e\"], [0.4444444444444444, \"#bd3786\"], [0.5555555555555556, \"#d8576b\"], [0.6666666666666666, \"#ed7953\"], [0.7777777777777778, \"#fb9f3a\"], [0.8888888888888888, \"#fdca26\"], [1.0, \"#f0f921\"]], \"type\": \"heatmap\"}], \"heatmapgl\": [{\"colorbar\": {\"outlinewidth\": 0, \"ticks\": \"\"}, \"colorscale\": [[0.0, \"#0d0887\"], [0.1111111111111111, \"#46039f\"], [0.2222222222222222, \"#7201a8\"], [0.3333333333333333, \"#9c179e\"], [0.4444444444444444, \"#bd3786\"], [0.5555555555555556, \"#d8576b\"], [0.6666666666666666, \"#ed7953\"], [0.7777777777777778, \"#fb9f3a\"], [0.8888888888888888, \"#fdca26\"], [1.0, \"#f0f921\"]], \"type\": \"heatmapgl\"}], \"histogram\": [{\"marker\": {\"colorbar\": {\"outlinewidth\": 0, \"ticks\": \"\"}}, \"type\": \"histogram\"}], \"histogram2d\": [{\"colorbar\": {\"outlinewidth\": 0, \"ticks\": \"\"}, \"colorscale\": [[0.0, \"#0d0887\"], [0.1111111111111111, \"#46039f\"], [0.2222222222222222, \"#7201a8\"], [0.3333333333333333, \"#9c179e\"], [0.4444444444444444, \"#bd3786\"], [0.5555555555555556, \"#d8576b\"], [0.6666666666666666, \"#ed7953\"], [0.7777777777777778, \"#fb9f3a\"], [0.8888888888888888, \"#fdca26\"], [1.0, \"#f0f921\"]], \"type\": \"histogram2d\"}], \"histogram2dcontour\": [{\"colorbar\": {\"outlinewidth\": 0, \"ticks\": \"\"}, \"colorscale\": [[0.0, \"#0d0887\"], [0.1111111111111111, \"#46039f\"], [0.2222222222222222, \"#7201a8\"], [0.3333333333333333, \"#9c179e\"], [0.4444444444444444, \"#bd3786\"], [0.5555555555555556, \"#d8576b\"], [0.6666666666666666, \"#ed7953\"], [0.7777777777777778, \"#fb9f3a\"], [0.8888888888888888, \"#fdca26\"], [1.0, \"#f0f921\"]], \"type\": \"histogram2dcontour\"}], \"mesh3d\": [{\"colorbar\": {\"outlinewidth\": 0, \"ticks\": \"\"}, \"type\": \"mesh3d\"}], \"parcoords\": [{\"line\": {\"colorbar\": {\"outlinewidth\": 0, \"ticks\": \"\"}}, \"type\": \"parcoords\"}], \"pie\": [{\"automargin\": true, \"type\": \"pie\"}], \"scatter\": [{\"marker\": {\"colorbar\": {\"outlinewidth\": 0, \"ticks\": \"\"}}, \"type\": \"scatter\"}], \"scatter3d\": [{\"line\": {\"colorbar\": {\"outlinewidth\": 0, \"ticks\": \"\"}}, \"marker\": {\"colorbar\": {\"outlinewidth\": 0, \"ticks\": \"\"}}, \"type\": \"scatter3d\"}], \"scattercarpet\": [{\"marker\": {\"colorbar\": {\"outlinewidth\": 0, \"ticks\": \"\"}}, \"type\": \"scattercarpet\"}], \"scattergeo\": [{\"marker\": {\"colorbar\": {\"outlinewidth\": 0, \"ticks\": \"\"}}, \"type\": \"scattergeo\"}], \"scattergl\": [{\"marker\": {\"colorbar\": {\"outlinewidth\": 0, \"ticks\": \"\"}}, \"type\": \"scattergl\"}], \"scattermapbox\": [{\"marker\": {\"colorbar\": {\"outlinewidth\": 0, \"ticks\": \"\"}}, \"type\": \"scattermapbox\"}], \"scatterpolar\": [{\"marker\": {\"colorbar\": {\"outlinewidth\": 0, \"ticks\": \"\"}}, \"type\": \"scatterpolar\"}], \"scatterpolargl\": [{\"marker\": {\"colorbar\": {\"outlinewidth\": 0, \"ticks\": \"\"}}, \"type\": \"scatterpolargl\"}], \"scatterternary\": [{\"marker\": {\"colorbar\": {\"outlinewidth\": 0, \"ticks\": \"\"}}, \"type\": \"scatterternary\"}], \"surface\": [{\"colorbar\": {\"outlinewidth\": 0, \"ticks\": \"\"}, \"colorscale\": [[0.0, \"#0d0887\"], [0.1111111111111111, \"#46039f\"], [0.2222222222222222, \"#7201a8\"], [0.3333333333333333, \"#9c179e\"], [0.4444444444444444, \"#bd3786\"], [0.5555555555555556, \"#d8576b\"], [0.6666666666666666, \"#ed7953\"], [0.7777777777777778, \"#fb9f3a\"], [0.8888888888888888, \"#fdca26\"], [1.0, \"#f0f921\"]], \"type\": \"surface\"}], \"table\": [{\"cells\": {\"fill\": {\"color\": \"#EBF0F8\"}, \"line\": {\"color\": \"white\"}}, \"header\": {\"fill\": {\"color\": \"#C8D4E3\"}, \"line\": {\"color\": \"white\"}}, \"type\": \"table\"}]}, \"layout\": {\"annotationdefaults\": {\"arrowcolor\": \"#2a3f5f\", \"arrowhead\": 0, \"arrowwidth\": 1}, \"coloraxis\": {\"colorbar\": {\"outlinewidth\": 0, \"ticks\": \"\"}}, \"colorscale\": {\"diverging\": [[0, \"#8e0152\"], [0.1, \"#c51b7d\"], [0.2, \"#de77ae\"], [0.3, \"#f1b6da\"], [0.4, \"#fde0ef\"], [0.5, \"#f7f7f7\"], [0.6, \"#e6f5d0\"], [0.7, \"#b8e186\"], [0.8, \"#7fbc41\"], [0.9, \"#4d9221\"], [1, \"#276419\"]], \"sequential\": [[0.0, \"#0d0887\"], [0.1111111111111111, \"#46039f\"], [0.2222222222222222, \"#7201a8\"], [0.3333333333333333, \"#9c179e\"], [0.4444444444444444, \"#bd3786\"], [0.5555555555555556, \"#d8576b\"], [0.6666666666666666, \"#ed7953\"], [0.7777777777777778, \"#fb9f3a\"], [0.8888888888888888, \"#fdca26\"], [1.0, \"#f0f921\"]], \"sequentialminus\": [[0.0, \"#0d0887\"], [0.1111111111111111, \"#46039f\"], [0.2222222222222222, \"#7201a8\"], [0.3333333333333333, \"#9c179e\"], [0.4444444444444444, \"#bd3786\"], [0.5555555555555556, \"#d8576b\"], [0.6666666666666666, \"#ed7953\"], [0.7777777777777778, \"#fb9f3a\"], [0.8888888888888888, \"#fdca26\"], [1.0, \"#f0f921\"]]}, \"colorway\": [\"#636efa\", \"#EF553B\", \"#00cc96\", \"#ab63fa\", \"#FFA15A\", \"#19d3f3\", \"#FF6692\", \"#B6E880\", \"#FF97FF\", \"#FECB52\"], \"font\": {\"color\": \"#2a3f5f\"}, \"geo\": {\"bgcolor\": \"white\", \"lakecolor\": \"white\", \"landcolor\": \"#E5ECF6\", \"showlakes\": true, \"showland\": true, \"subunitcolor\": \"white\"}, \"hoverlabel\": {\"align\": \"left\"}, \"hovermode\": \"closest\", \"mapbox\": {\"style\": \"light\"}, \"paper_bgcolor\": \"white\", \"plot_bgcolor\": \"#E5ECF6\", \"polar\": {\"angularaxis\": {\"gridcolor\": \"white\", \"linecolor\": \"white\", \"ticks\": \"\"}, \"bgcolor\": \"#E5ECF6\", \"radialaxis\": {\"gridcolor\": \"white\", \"linecolor\": \"white\", \"ticks\": \"\"}}, \"scene\": {\"xaxis\": {\"backgroundcolor\": \"#E5ECF6\", \"gridcolor\": \"white\", \"gridwidth\": 2, \"linecolor\": \"white\", \"showbackground\": true, \"ticks\": \"\", \"zerolinecolor\": \"white\"}, \"yaxis\": {\"backgroundcolor\": \"#E5ECF6\", \"gridcolor\": \"white\", \"gridwidth\": 2, \"linecolor\": \"white\", \"showbackground\": true, \"ticks\": \"\", \"zerolinecolor\": \"white\"}, \"zaxis\": {\"backgroundcolor\": \"#E5ECF6\", \"gridcolor\": \"white\", \"gridwidth\": 2, \"linecolor\": \"white\", \"showbackground\": true, \"ticks\": \"\", \"zerolinecolor\": \"white\"}}, \"shapedefaults\": {\"line\": {\"color\": \"#2a3f5f\"}}, \"ternary\": {\"aaxis\": {\"gridcolor\": \"white\", \"linecolor\": \"white\", \"ticks\": \"\"}, \"baxis\": {\"gridcolor\": \"white\", \"linecolor\": \"white\", \"ticks\": \"\"}, \"bgcolor\": \"#E5ECF6\", \"caxis\": {\"gridcolor\": \"white\", \"linecolor\": \"white\", \"ticks\": \"\"}}, \"title\": {\"x\": 0.05}, \"xaxis\": {\"automargin\": true, \"gridcolor\": \"white\", \"linecolor\": \"white\", \"ticks\": \"\", \"title\": {\"standoff\": 15}, \"zerolinecolor\": \"white\", \"zerolinewidth\": 2}, \"yaxis\": {\"automargin\": true, \"gridcolor\": \"white\", \"linecolor\": \"white\", \"ticks\": \"\", \"title\": {\"standoff\": 15}, \"zerolinecolor\": \"white\", \"zerolinewidth\": 2}}}, \"title\": {\"text\": \"Daily Confirmed Cases per Ontario Region from 2020-01-21 to 2020-03-12\"}, \"xaxis\": {\"anchor\": \"y\", \"domain\": [0.0, 1.0], \"title\": {\"text\": \"Date\"}}, \"yaxis\": {\"anchor\": \"x\", \"domain\": [0.0, 1.0], \"title\": {\"text\": \"Count\"}}},\n",
       "                        {\"responsive\": true}\n",
       "                    ).then(function(){\n",
       "                            \n",
       "var gd = document.getElementById('7ddaa686-0164-4df5-9043-12d3806b9b9f');\n",
       "var x = new MutationObserver(function (mutations, observer) {{\n",
       "        var display = window.getComputedStyle(gd).display;\n",
       "        if (!display || display === 'none') {{\n",
       "            console.log([gd, 'removed!']);\n",
       "            Plotly.purge(gd);\n",
       "            observer.disconnect();\n",
       "        }}\n",
       "}});\n",
       "\n",
       "// Listen for the removal of the full notebook cells\n",
       "var notebookContainer = gd.closest('#notebook-container');\n",
       "if (notebookContainer) {{\n",
       "    x.observe(notebookContainer, {childList: true});\n",
       "}}\n",
       "\n",
       "// Listen for the clearing of the current output cell\n",
       "var outputEl = gd.closest('.output');\n",
       "if (outputEl) {{\n",
       "    x.observe(outputEl, {childList: true});\n",
       "}}\n",
       "\n",
       "                        })\n",
       "                };\n",
       "                });\n",
       "            </script>\n",
       "        </div>"
      ]
     },
     "metadata": {},
     "output_type": "display_data"
    }
   ],
   "source": [
    "#hide_input\n",
    "dailyline = px.line(aggdf, x=\"Date\", y=\"Count\", color=\"Reporting_PHU\", title=\"Daily Confirmed Cases per Ontario Region \" + fromto,\n",
    "       labels={'Reporting_PHU':'Public Health Unit'}\n",
    "       )\n",
    "try:\n",
    "    dailyline.show()\n",
    "except:\n",
    "    dailyline.show()"
   ]
  },
  {
   "cell_type": "code",
   "execution_count": 10,
   "metadata": {},
   "outputs": [
    {
     "data": {
      "text/html": [
       "Data was last retrieved from <a href=\"https://data.ontario.ca/en/dataset/confirmed-positive-cases-of-covid-19-in-ontario/resource/455fd63b-603d-4608-8216-7d8647f43350\" title=\"Ontario Data\">Confirmed positive cases of COVID19 in Ontario</a> on 2020-04-26."
      ],
      "text/plain": [
       "<IPython.core.display.HTML object>"
      ]
     },
     "execution_count": 10,
     "metadata": {},
     "output_type": "execute_result"
    }
   ],
   "source": [
    "#hide_input\n",
    "from datetime import date\n",
    "\n",
    "HTML(f'Data was last retrieved from <a href=\"https://data.ontario.ca/en/dataset/confirmed-positive-cases-of-covid-19-in-ontario/resource/455fd63b-603d-4608-8216-7d8647f43350\" title=\"Ontario Data\">Confirmed positive cases of COVID19 in Ontario</a> on {str(date.today())}.')"
   ]
  }
 ],
 "metadata": {
  "kernelspec": {
   "display_name": "Python 3",
   "language": "python",
   "name": "python3"
  },
  "language_info": {
   "codemirror_mode": {
    "name": "ipython",
    "version": 3
   },
   "file_extension": ".py",
   "mimetype": "text/x-python",
   "name": "python",
   "nbconvert_exporter": "python",
   "pygments_lexer": "ipython3",
   "version": "3.7.6"
  }
 },
 "nbformat": 4,
 "nbformat_minor": 4
}
