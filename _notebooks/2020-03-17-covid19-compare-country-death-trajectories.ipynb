{
 "cells": [
  {
   "cell_type": "markdown",
   "metadata": {
    "papermill": {
     "duration": 0.015536,
     "end_time": "2020-03-22T20:04:04.840595",
     "exception": false,
     "start_time": "2020-03-22T20:04:04.825059",
     "status": "completed"
    },
    "tags": []
   },
   "source": [
    "# Compare Country Trajectories - Death Rate\n",
    "> Comparing different countries' death rate trajectories with those of Italy, South Korea, Japan and Lombardy\n",
    "\n",
    "- comments: false\n",
    "- author: Pratap Vardhan\n",
    "- categories: [growth, compare, death, interactive]\n",
    "- image: images/covid-compare-country-death-trajectories.png\n",
    "- permalink: /compare-country-death-trajectories/"
   ]
  },
  {
   "cell_type": "code",
   "execution_count": 1,
   "metadata": {
    "papermill": {
     "duration": 0.489587,
     "end_time": "2020-03-22T20:04:05.342666",
     "exception": false,
     "start_time": "2020-03-22T20:04:04.853079",
     "status": "completed"
    },
    "tags": []
   },
   "outputs": [],
   "source": [
    "#hide\n",
    "import pandas as pd\n",
    "import altair as alt\n",
    "from IPython.display import HTML\n",
    "\n",
    "pd.options.mode.chained_assignment = None  # default='warn'"
   ]
  },
  {
   "cell_type": "code",
   "execution_count": 2,
   "metadata": {
    "papermill": {
     "duration": 0.061154,
     "end_time": "2020-03-22T20:04:05.415167",
     "exception": false,
     "start_time": "2020-03-22T20:04:05.354013",
     "status": "completed"
    },
    "tags": []
   },
   "outputs": [],
   "source": [
    "#hide\n",
    "url = ('https://raw.githubusercontent.com/CSSEGISandData/COVID-19/master/csse_covid_19_data/csse_covid_19_time_series/time_series_covid19_deaths_global.csv')\n",
    "df = pd.read_csv(url)\n",
    "# rename countries\n",
    "df['Country/Region'] = df['Country/Region'].replace({'Korea, South': 'South Korea'})\n",
    "df = df[~df['Country/Region'].isin(['Cruise Ship'])]   # Remove Ships\n",
    "dt_cols = df.columns[~df.columns.isin(['Province/State', 'Country/Region', 'Lat', 'Long'])]"
   ]
  },
  {
   "cell_type": "code",
   "execution_count": null,
   "metadata": {},
   "outputs": [],
   "source": [
    "#hide\n",
    "url_italy = ('https://raw.githubusercontent.com/pcm-dpc/COVID-19/master/dati-regioni/dpc-covid19-ita-regioni.csv')\n",
    "df_italy = pd.read_csv(url_italy)"
   ]
  },
  {
   "cell_type": "code",
   "execution_count": 3,
   "metadata": {
    "papermill": {
     "duration": 0.039118,
     "end_time": "2020-03-22T20:04:05.466206",
     "exception": false,
     "start_time": "2020-03-22T20:04:05.427088",
     "status": "completed"
    },
    "tags": []
   },
   "outputs": [],
   "source": [
    "#hide\n",
    "dff = (df.groupby('Country/Region')[dt_cols].sum()\n",
    "       .stack().reset_index(name='Confirmed Cases')\n",
    "       .rename(columns={'level_1': 'Date', 'Country/Region': 'Country'}))\n",
    "dff['Date'] = pd.to_datetime(dff['Date'], format='%m/%d/%y')"
   ]
  },
  {
   "cell_type": "code",
   "execution_count": 4,
   "metadata": {
    "papermill": {
     "duration": 0.029722,
     "end_time": "2020-03-22T20:04:05.507363",
     "exception": false,
     "start_time": "2020-03-22T20:04:05.477641",
     "status": "completed"
    },
    "tags": []
   },
   "outputs": [],
   "source": [
    "#hide\n",
    "MIN_CASES = 10\n",
    "LAST_DATE = dt_cols[-1]\n",
    "# sometimes last column may be empty, then go backwards\n",
    "for c in dt_cols[::-1]:\n",
    "    if not df[c].fillna(0).eq(0).all():\n",
    "        LAST_DATE = c\n",
    "        break\n",
    "countries = dff[dff['Date'].eq(LAST_DATE) & dff['Confirmed Cases'].ge(MIN_CASES) & \n",
    "        dff['Country'].ne('China')\n",
    "       ].sort_values(by='Confirmed Cases', ascending=False)\n",
    "countries = countries['Country'].values"
   ]
  },
  {
   "cell_type": "code",
   "execution_count": null,
   "metadata": {},
   "outputs": [],
   "source": [
    "#hide\n",
    "# more regions of Italy can be added alongside Lombardia in the next line of code (ex: 'Emilia Romagna', 'Veneto', etc.)\n",
    "df_reg = df_italy[df_italy['denominazione_regione'].isin(['Lombardia'])]\n",
    "df_reg = df_reg.sort_values(by=['denominazione_regione', 'deceduti'])\n",
    "mask = (df_reg['deceduti'] >= MIN_CASES)\n",
    "df_reg_gt10 = df_reg.loc[mask]\n",
    "df_simple = df_reg_gt10[['denominazione_regione','data', 'deceduti']]\n",
    "df_simple.rename(columns={'denominazione_regione':'Country'}, inplace=True)\n",
    "df_simple.rename(columns={'data':'Date'}, inplace=True)\n",
    "df_simple.rename(columns={'deceduti':'Confirmed Cases'}, inplace=True)\n",
    "df_simple['Date'] = pd.to_datetime(df_simple[\"Date\"]).dt.strftime('%Y-%m-%d')\n",
    "df_simple['Date'] = pd.to_datetime(df_simple[\"Date\"])"
   ]
  },
  {
   "cell_type": "code",
   "execution_count": null,
   "metadata": {},
   "outputs": [],
   "source": [
    "#hide\n",
    "df_simple[f'Days since {MIN_CASES}th death'] = ''\n",
    "current_region = df_simple.iloc[0]['Country']\n",
    "days = 0\n",
    "for index, row in df_simple.iterrows():\n",
    "  if row['Country'] == current_region:\n",
    "    df_simple[f'Days since {MIN_CASES}th death'][index] = days\n",
    "    days += 1\n",
    "  else:\n",
    "    days = 0\n",
    "    current_region = df_simple['Country'][index]\n",
    "    df_simple[f'Days since {MIN_CASES}th death'][index] = days\n",
    "    days += 1\n",
    "\n",
    "df_simple[\"Country\"]= df_simple[\"Country\"].replace(\"Lombardia\", \"Lombardy\")"
   ]
  },
  {
   "cell_type": "code",
   "execution_count": null,
   "metadata": {
    "papermill": {
     "duration": 0.041098,
     "end_time": "2020-03-22T20:04:05.560561",
     "exception": false,
     "start_time": "2020-03-22T20:04:05.519463",
     "status": "completed"
    },
    "tags": []
   },
   "outputs": [],
   "source": [
    "#hide\n",
    "SINCE_CASES_NUM = 10\n",
    "COL_X = f'Days since {SINCE_CASES_NUM}th death'\n",
    "dff2 = dff[dff['Country'].isin(countries)].copy()\n",
    "days_since = (dff2.assign(F=dff2['Confirmed Cases'].ge(SINCE_CASES_NUM))\n",
    "              .set_index('Date')\n",
    "              .groupby('Country')['F'].transform('idxmax'))\n",
    "dff2[COL_X] = (dff2['Date'] - days_since.values).dt.days.values\n",
    "dff2 = dff2[dff2[COL_X].ge(0)]\n",
    "\n",
    "# append Italy data to the rest of the data\n",
    "dff2 = dff2.append(df_simple)"
   ]
  },
  {
   "cell_type": "code",
   "execution_count": null,
   "metadata": {
    "papermill": {
     "duration": 0.020435,
     "end_time": "2020-03-22T20:04:05.592749",
     "exception": false,
     "start_time": "2020-03-22T20:04:05.572314",
     "status": "completed"
    },
    "tags": []
   },
   "outputs": [],
   "source": [
    "#hide\n",
    "def get_country_colors(x):\n",
    "    mapping = {\n",
    "        'Italy': 'black',\n",
    "        'Lombardy': '#DC143C',\n",
    "        'Iran': '#A1BA59',\n",
    "        'South Korea': '#E45756',\n",
    "        'Spain': 'green',\n",
    "        'Germany': '#9D755D',\n",
    "        'France': 'purple',\n",
    "        'US': '#0059B3',\n",
    "        'Switzerland': '#9D755D',\n",
    "        'Norway': '#C1B7AD',\n",
    "        'United Kingdom': '#2495D3',\n",
    "        'Netherlands': 'orange',\n",
    "        'Sweden': '#FFCD00',\n",
    "        'Belgium': '#C1B7AD',\n",
    "        'Denmark': '#C1B7AD',\n",
    "        'Austria': '#C1B7AD',\n",
    "        'Japan': '#9467bd'}\n",
    "    return mapping.get(x, '#C1B7AD')"
   ]
  },
  {
   "cell_type": "code",
   "execution_count": null,
   "metadata": {
    "papermill": {
     "duration": 0.02846,
     "end_time": "2020-03-22T20:04:05.632479",
     "exception": false,
     "start_time": "2020-03-22T20:04:05.604019",
     "status": "completed"
    },
    "tags": []
   },
   "outputs": [],
   "source": [
    "#hide_input\n",
    "baseline_countries = ['Italy', 'South Korea', 'Japan']\n",
    "max_date = dff2['Date'].max()\n",
    "color_domain = list(dff2['Country'].unique())\n",
    "color_range = list(map(get_country_colors, color_domain))\n",
    "\n",
    "def make_since_chart(highlight_countries=[], baseline_countries=baseline_countries):\n",
    "    selection = alt.selection_multi(fields=['Country'], bind='legend', \n",
    "                                    init=[{'Country': x} for x in highlight_countries + baseline_countries])\n",
    "\n",
    "    base = alt.Chart(dff2, width=550).encode(\n",
    "        x=f'{COL_X}:Q',\n",
    "        y=alt.Y('Confirmed Cases:Q', scale=alt.Scale(type='log'), axis=alt.Axis(title='Cumulative Deaths')),\n",
    "        color=alt.Color(\n",
    "            'Country:N',\n",
    "            scale=alt.Scale(domain=color_domain, range=color_range),\n",
    "            legend=alt.Legend(columns=2, symbolLimit=100)),\n",
    "        tooltip=list(dff2),\n",
    "        opacity=alt.condition(selection, alt.value(1), alt.value(0.05))\n",
    "    )\n",
    "    max_day = dff2[COL_X].max()\n",
    "    ref = pd.DataFrame([[x, SINCE_CASES_NUM*1.33**x] for x in range(max_day+1)], columns=[COL_X, 'Confirmed Cases'])\n",
    "    base_ref = alt.Chart(ref).encode(x=f'{COL_X}:Q', y='Confirmed Cases:Q')\n",
    "    return (\n",
    "        base_ref.mark_line(color='black', opacity=.5, strokeDash=[3,3]) +\n",
    "        base_ref.transform_filter(\n",
    "            alt.datum[COL_X] >= max_day\n",
    "        ).mark_text(dy=-6, align='right', fontSize=10, text='33% Daily Growth') +\n",
    "        base.mark_line(point=True).add_selection(selection) + \n",
    "        base.transform_filter(\n",
    "            alt.datum['Date'] >= int(max_date.timestamp() * 1000)\n",
    "        ).mark_text(dy=-8, align='right', fontWeight='bold').encode(text='Country:N')\n",
    "    ).properties(\n",
    "        title=f\"Compare {', '.join(highlight_countries)} death trajectory with {', '.join(baseline_countries)}\"\n",
    "    )"
   ]
  },
  {
   "cell_type": "markdown",
   "metadata": {
    "papermill": {
     "duration": 0.010959,
     "end_time": "2020-03-22T20:04:05.655371",
     "exception": false,
     "start_time": "2020-03-22T20:04:05.644412",
     "status": "completed"
    },
    "tags": []
   },
   "source": [
    "## Learning from Italy, South Korea, Japan & Lombardy"
   ]
  },
  {
   "cell_type": "markdown",
   "metadata": {
    "papermill": {
     "duration": 0.011825,
     "end_time": "2020-03-22T20:04:05.679112",
     "exception": false,
     "start_time": "2020-03-22T20:04:05.667287",
     "status": "completed"
    },
    "tags": []
   },
   "source": [
    "Italy, South Korea & Japan are three countries which show significantly different total deaths growth rates and evolution over time. \n",
    "\n",
    "**South Korea** and **Japan** have a lower growth rate since thier 10th death. **Italy** has been growing close to 33% until 3 weeks since their 10th death.\n",
    "\n",
    "Where does your country stand today?\n",
    "\n",
    "Click (Shift+ for multiple) on Countries legend to filter the visualization."
   ]
  },
  {
   "cell_type": "code",
   "execution_count": null,
   "metadata": {
    "papermill": {
     "duration": 0.053554,
     "end_time": "2020-03-22T20:04:05.743516",
     "exception": false,
     "start_time": "2020-03-22T20:04:05.689962",
     "status": "completed"
    },
    "tags": []
   },
   "outputs": [],
   "source": [
    "#hide_input\n",
    "HTML(f'<small class=\"float-right\">Last Updated on {pd.to_datetime(LAST_DATE).strftime(\"%B, %d %Y\")}</small>')"
   ]
  },
  {
   "cell_type": "code",
   "execution_count": null,
   "metadata": {
    "papermill": {
     "duration": 0.151377,
     "end_time": "2020-03-22T20:04:05.907676",
     "exception": false,
     "start_time": "2020-03-22T20:04:05.756299",
     "status": "completed"
    },
    "tags": []
   },
   "outputs": [],
   "source": [
    "#hide_input\n",
    "chart = make_since_chart()\n",
    "chart"
   ]
  },
  {
   "cell_type": "code",
   "execution_count": null,
   "metadata": {
    "papermill": {
     "duration": 0.135915,
     "end_time": "2020-03-22T20:04:06.057728",
     "exception": false,
     "start_time": "2020-03-22T20:04:05.921813",
     "status": "completed"
    },
    "tags": []
   },
   "outputs": [
    {
     "output_type": "error",
     "ename": "Error",
     "evalue": "Jupyter cannot be started. Error attempting to locate jupyter: Data Science libraries jupyter and notebook are not installed in interpreter Python 3.8.1 64-bit.",
     "traceback": [
      "Error: Jupyter cannot be started. Error attempting to locate jupyter: Data Science libraries jupyter and notebook are not installed in interpreter Python 3.8.1 64-bit.",
      "at C.startServer (c:\\Users\\vladp\\.vscode\\extensions\\ms-python.python-2020.3.69010\\out\\client\\extension.js:1:776232)",
      "at async C.ensureServerAndNotebookImpl (c:\\Users\\vladp\\.vscode\\extensions\\ms-python.python-2020.3.69010\\out\\client\\extension.js:1:775687)",
      "at async C.ensureServerAndNotebook (c:\\Users\\vladp\\.vscode\\extensions\\ms-python.python-2020.3.69010\\out\\client\\extension.js:1:775377)",
      "at async C.clearResult (c:\\Users\\vladp\\.vscode\\extensions\\ms-python.python-2020.3.69010\\out\\client\\extension.js:1:771418)",
      "at async C.reexecuteCell (c:\\Users\\vladp\\.vscode\\extensions\\ms-python.python-2020.3.69010\\out\\client\\extension.js:1:760783)",
      "at async C.reexecuteCells (c:\\Users\\vladp\\.vscode\\extensions\\ms-python.python-2020.3.69010\\out\\client\\extension.js:1:757797)"
     ]
    }
   ],
   "source": [
    "#hide_input\n",
    "chart2 = make_since_chart(['Spain', 'Germany'])\n",
    "chart2"
   ]
  },
  {
   "cell_type": "code",
   "execution_count": null,
   "metadata": {},
   "outputs": [],
   "source": [
    "#hide_input\n",
    "chart2 = make_since_chart(['Lombardy', 'Netherlands', 'US', 'United Kingdom', 'Spain'])\n",
    "chart2"
   ]
  },
  {
   "cell_type": "code",
   "execution_count": null,
   "metadata": {
    "papermill": {
     "duration": 0.132407,
     "end_time": "2020-03-22T20:04:06.204515",
     "exception": false,
     "start_time": "2020-03-22T20:04:06.072108",
     "status": "completed"
    },
    "tags": []
   },
   "outputs": [],
   "source": [
    "#hide_input\n",
    "chart3 = make_since_chart(['US', 'France'])\n",
    "chart3"
   ]
  },
  {
   "cell_type": "code",
   "execution_count": null,
   "metadata": {
    "papermill": {
     "duration": 0.131032,
     "end_time": "2020-03-22T20:04:06.350238",
     "exception": false,
     "start_time": "2020-03-22T20:04:06.219206",
     "status": "completed"
    },
    "tags": []
   },
   "outputs": [],
   "source": [
    "#hide_input\n",
    "chart4 = make_since_chart(['Germany', 'United Kingdom'])\n",
    "chart4"
   ]
  },
  {
   "cell_type": "markdown",
   "metadata": {},
   "source": [
    "**Lombardy**, a region of Italy with a population of only 10 million people, has reached over 4000 deaths due to covid-19, which is more than 60% of the total deaths in Italy from the viral disease. At its highest daily death toll, Lombardy had 546 deaths in one day, which equivalates to a rate of 5.46 deaths per 100,000 inhabitants per day. This shows that the virus has a high mortality rate even on a small demographic scale, likely due to overwhelmed healthcare services. The following chart compares the growth rate in total deaths of several countries with that of Lombardy."
   ]
  },
  {
   "cell_type": "code",
   "execution_count": null,
   "metadata": {},
   "outputs": [],
   "source": [
    "#hide_input\n",
    "chart5 = make_since_chart(['United Kingdom', 'US', 'Spain', 'Netherlands', 'France'], ['Lombardy', 'South Korea'])\n",
    "chart5"
   ]
  },
  {
   "cell_type": "markdown",
   "metadata": {
    "papermill": {
     "duration": 0.0162,
     "end_time": "2020-03-22T20:04:06.388362",
     "exception": false,
     "start_time": "2020-03-22T20:04:06.372162",
     "status": "completed"
    },
    "tags": []
   },
   "source": [
    "Select a country from the drop down list below to toggle  the visualization."
   ]
  },
  {
   "cell_type": "code",
   "execution_count": null,
   "metadata": {
    "papermill": {
     "duration": 0.215808,
     "end_time": "2020-03-22T20:04:06.620975",
     "exception": false,
     "start_time": "2020-03-22T20:04:06.405167",
     "status": "completed"
    },
    "tags": []
   },
   "outputs": [],
   "source": [
    "#hide_input\n",
    "base = alt.Chart(dff2, width=600).encode(\n",
    "    x=f'{COL_X}:Q',\n",
    "    y=alt.Y('Confirmed Cases:Q', scale=alt.Scale(type='log'), axis=alt.Axis(title='Cumulative Deaths')),\n",
    "    color=alt.Color('Country:N', scale=alt.Scale(domain=color_domain, range=color_range), legend=None),\n",
    "    tooltip=['Country', 'Date', 'Confirmed Cases', COL_X]\n",
    ")\n",
    "\n",
    "country_selection = alt.selection_single(\n",
    "    name='Select', fields=['Country'], \n",
    "    bind=alt.binding_select(options=list(sorted(set(countries) - set(baseline_countries)))),\n",
    "    init={'Country': 'US'})\n",
    "\n",
    "date_filter = alt.datum['Date'] >= int(max_date.timestamp() * 1000)\n",
    "base2 = base.transform_filter(alt.FieldOneOfPredicate('Country', baseline_countries))\n",
    "base3 = base.transform_filter(country_selection)\n",
    "base4 = base3.transform_filter(date_filter)\n",
    "\n",
    "max_day = dff2[COL_X].max()\n",
    "ref = pd.DataFrame([[x, SINCE_CASES_NUM*1.33**x] for x in range(max_day+1)], columns=[COL_X, 'Confirmed Cases'])\n",
    "base_ref = alt.Chart(ref).encode(x=f'{COL_X}:Q', y='Confirmed Cases:Q')\n",
    "base_ref_f = base_ref.transform_filter(alt.datum[COL_X] >= max_day)\n",
    "\n",
    "chart5 = (\n",
    " base_ref.mark_line(color='black', opacity=.5, strokeDash=[3,3]) + \n",
    " base_ref_f.mark_text(dy=-6, align='right', fontSize=10, text='33% Daily Growth') + \n",
    " base2.mark_line(point=True, tooltip=True) +\n",
    " base3.mark_line(point={'size':50}, tooltip=True) +\n",
    " base2.transform_filter(date_filter).mark_text(dy=-8, align='right').encode(text='Country:N') +\n",
    " base4.mark_text(dx=8, align='left', fontWeight='bold').encode(text='Country:N') +\n",
    " base4.mark_text(dx=8, dy=12, align='left', fontWeight='bold').encode(text='Confirmed Cases:Q')\n",
    ").add_selection(country_selection).properties(\n",
    "    title=f\"Country's death trajectory compared to {', '.join(baseline_countries)}\"\n",
    ")\n",
    "chart5"
   ]
  },
  {
   "cell_type": "markdown",
   "metadata": {
    "papermill": {
     "duration": 0.015699,
     "end_time": "2020-03-22T20:04:06.654144",
     "exception": false,
     "start_time": "2020-03-22T20:04:06.638445",
     "status": "completed"
    },
    "tags": []
   },
   "source": [
    "Interactive by [Pratap Vardhan](https://twitter.com/PratapVardhan)[^1]\n",
    "\n",
    "[^1]: Source: [\"2019 Novel Coronavirus COVID-19 (2019-nCoV) Data Repository by Johns Hopkins CSSE\"](https://systems.jhu.edu/research/public-health/ncov/) [GitHub repository](https://github.com/CSSEGISandData/COVID-19). Link to [original notebook](https://github.com/pratapvardhan/notebooks/blob/master/covid19/covid19-compare-country-death-trajectories.ipynb)."
   ]
  }
 ],
 "metadata": {
  "kernelspec": {
   "display_name": "Python 3",
   "language": "python",
   "name": "python3"
  },
  "language_info": {
   "codemirror_mode": {
    "name": "ipython",
    "version": 3
   },
   "file_extension": ".py",
   "mimetype": "text/x-python",
   "name": "python",
   "nbconvert_exporter": "python",
   "pygments_lexer": "ipython3",
   "version": "3.7.1"
  },
  "papermill": {
   "duration": 2.791879,
   "end_time": "2020-03-22T20:04:06.674962",
   "environment_variables": {},
   "exception": null,
   "input_path": "2020-03-17-covid19-compare-country-death-trajectories.ipynb",
   "output_path": "2020-03-17-covid19-compare-country-death-trajectories.ipynb",
   "parameters": {},
   "start_time": "2020-03-22T20:04:03.883083",
   "version": "2.0.0"
  }
 },
 "nbformat": 4,
 "nbformat_minor": 2
}