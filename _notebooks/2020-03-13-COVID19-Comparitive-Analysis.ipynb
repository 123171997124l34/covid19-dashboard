{
 "cells": [
  {
   "cell_type": "markdown",
   "metadata": {
    "papermill": {
     "duration": 0.026176,
     "end_time": "2020-03-25T06:13:29.029815",
     "exception": false,
     "start_time": "2020-03-25T06:13:29.003639",
     "status": "completed"
    },
    "tags": []
   },
   "source": [
    "# COVID-19 Comparative Analysis\n",
    "> A Comparison of COVID-19 wtih SARS, MERS, EBOLA and H1N1\n",
    "- author: Devakumar kp\n",
    "- comments: true\n",
    "- permalink: /comparitive-analysis/\n",
    "- toc: true\n",
    "- image: images/copied_from_nb/covid-compare-1-1.png\n"
   ]
  },
  {
   "cell_type": "markdown",
   "metadata": {
    "papermill": {
     "duration": 0.034326,
     "end_time": "2020-03-25T06:13:29.089438",
     "exception": false,
     "start_time": "2020-03-25T06:13:29.055112",
     "status": "completed"
    },
    "tags": []
   },
   "source": [
    "These visualizations were made by [Devakumar kp](https://twitter.com/imdevskp), from [this kaggle kernel](https://www.kaggle.com/imdevskp/covid-19-analysis-viz-prediction-comparisons)."
   ]
  },
  {
   "cell_type": "code",
   "execution_count": 1,
   "metadata": {
    "papermill": {
     "duration": 0.034228,
     "end_time": "2020-03-25T06:13:29.151303",
     "exception": false,
     "start_time": "2020-03-25T06:13:29.117075",
     "status": "completed"
    },
    "tags": []
   },
   "outputs": [],
   "source": [
    "#hide\n",
    "# ! pip install folium plotly plotnine psutil"
   ]
  },
  {
   "cell_type": "code",
   "execution_count": 2,
   "metadata": {
    "papermill": {
     "duration": 8.25362,
     "end_time": "2020-03-25T06:13:37.429429",
     "exception": false,
     "start_time": "2020-03-25T06:13:29.175809",
     "status": "completed"
    },
    "tags": []
   },
   "outputs": [
    {
     "name": "stdout",
     "output_type": "stream",
     "text": [
      "\u001b[K\u001b[?25h\u001b[37;40mnpm\u001b[0m \u001b[0m\u001b[30;43mWARN\u001b[0m \u001b[0m\u001b[35mdeprecated\u001b[0m request@2.88.2: request has been deprecated, see https://github.com/request/request/issues/3142\n",
      "\u001b[K\u001b[?25h\u001b[37;40mnpm\u001b[0m \u001b[0m\u001b[30;43mWARN\u001b[0m \u001b[0m\u001b[35mdeprecated\u001b[0m mkdirp@0.5.4: Legacy versions of mkdirp are no longer supported. Please update to mkdirp 1.x. (Note that the API surface has changed to use Promises in 1.x.)\n",
      "\u001b[K\u001b[?25h\u001b[37;40mnpm\u001b[0m \u001b[0m\u001b[30;43mWARN\u001b[0m \u001b[0m\u001b[35mdeprecated\u001b[0m left-pad@1.3.0: use String.prototype.padStart()m\u001b[K ch\u001b[0m\u001b[K\n",
      "\u001b[K\u001b[?25h/opt/hostedtoolcache/node/10.19.0/x64/bin/electron -> /opt/hostedtoolcache/node/10.19.0/x64/lib/node_modules/electron/cli.js[K\n",
      "/opt/hostedtoolcache/node/10.19.0/x64/bin/orca -> /opt/hostedtoolcache/node/10.19.0/x64/lib/node_modules/orca/bin/orca.js\n",
      "\n",
      "> electron@6.1.4 postinstall /opt/hostedtoolcache/node/10.19.0/x64/lib/node_modules/electron\n",
      "> node install.js\n",
      "\n",
      "+ orca@1.3.0\n",
      "+ electron@6.1.4\n",
      "updated 2 packages in 7.521s\n"
     ]
    }
   ],
   "source": [
    "#hide\n",
    "! npm install -g electron@6.1.4 orca"
   ]
  },
  {
   "cell_type": "code",
   "execution_count": 1,
   "metadata": {
    "_cell_guid": "b1076dfc-b9ad-4769-8c92-a6c4dae69d19",
    "_uuid": "8f2839f25d086af736a60e9eeb907d3b93b6e0e5",
    "papermill": {
     "duration": 2.01671,
     "end_time": "2020-03-25T06:13:39.493028",
     "exception": false,
     "start_time": "2020-03-25T06:13:37.476318",
     "status": "completed"
    },
    "tags": []
   },
   "outputs": [],
   "source": [
    "#hide\n",
    "# storing and anaysis\n",
    "import numpy as np\n",
    "import pandas as pd\n",
    "\n",
    "# visualization\n",
    "import matplotlib.pyplot as plt\n",
    "import matplotlib.dates as mdates\n",
    "import seaborn as sns\n",
    "from plotnine import *\n",
    "import plotly.express as px\n",
    "import folium\n",
    "\n",
    "from IPython.display import Javascript\n",
    "from IPython.core.display import display, HTML\n",
    "\n",
    "# color pallette\n",
    "cdr = ['#393e46', '#ff2e63', '#30e3ca'] # grey - red - blue\n",
    "idr = ['#f8b400', '#ff2e63', '#30e3ca'] # yellow - red - blue\n",
    "\n",
    "s = '#f0134d'\n",
    "h = '#12cad6'\n",
    "e = '#4a47a3'\n",
    "m = '#42e6a4'\n",
    "c = '#333333'\n",
    "\n",
    "shemc = [s, h, e, m, c]\n",
    "sec = [s, e, c]"
   ]
  },
  {
   "cell_type": "markdown",
   "metadata": {
    "papermill": {
     "duration": 0.051084,
     "end_time": "2020-03-25T06:13:39.596355",
     "exception": false,
     "start_time": "2020-03-25T06:13:39.545271",
     "status": "completed"
    },
    "tags": []
   },
   "source": []
  },
  {
   "cell_type": "code",
   "execution_count": 3,
   "metadata": {
    "_cell_guid": "79c7e3d0-c299-4dcb-8224-4455121ee9b0",
    "_uuid": "d629ff2d2480ee46fbb7e2d37f6b5fab8052498a",
    "papermill": {
     "duration": 0.352645,
     "end_time": "2020-03-25T06:13:40.001860",
     "exception": false,
     "start_time": "2020-03-25T06:13:39.649215",
     "status": "completed"
    },
    "tags": []
   },
   "outputs": [
    {
     "name": "stderr",
     "output_type": "stream",
     "text": [
      "/Users/hamelsmu/.local/share/virtualenvs/visualization-curriculum-gF8wUgMm/lib/python3.6/site-packages/ipykernel_launcher.py:19: FutureWarning:\n",
      "\n",
      "Indexing with multiple keys (implicitly converted to a tuple of keys) will be deprecated, use a list instead.\n",
      "\n",
      "/Users/hamelsmu/.local/share/virtualenvs/visualization-curriculum-gF8wUgMm/lib/python3.6/site-packages/ipykernel_launcher.py:26: FutureWarning:\n",
      "\n",
      "Indexing with multiple keys (implicitly converted to a tuple of keys) will be deprecated, use a list instead.\n",
      "\n",
      "/Users/hamelsmu/.local/share/virtualenvs/visualization-curriculum-gF8wUgMm/lib/python3.6/site-packages/ipykernel_launcher.py:32: FutureWarning:\n",
      "\n",
      "Indexing with multiple keys (implicitly converted to a tuple of keys) will be deprecated, use a list instead.\n",
      "\n"
     ]
    },
    {
     "data": {
      "text/html": [
       "<div>\n",
       "<style scoped>\n",
       "    .dataframe tbody tr th:only-of-type {\n",
       "        vertical-align: middle;\n",
       "    }\n",
       "\n",
       "    .dataframe tbody tr th {\n",
       "        vertical-align: top;\n",
       "    }\n",
       "\n",
       "    .dataframe thead th {\n",
       "        text-align: right;\n",
       "    }\n",
       "</style>\n",
       "<table border=\"1\" class=\"dataframe\">\n",
       "  <thead>\n",
       "    <tr style=\"text-align: right;\">\n",
       "      <th></th>\n",
       "      <th>Date</th>\n",
       "      <th>Country</th>\n",
       "      <th>Cases</th>\n",
       "      <th>Deaths</th>\n",
       "      <th>nth_day</th>\n",
       "    </tr>\n",
       "  </thead>\n",
       "  <tbody>\n",
       "    <tr>\n",
       "      <th>0</th>\n",
       "      <td>2020-01-22</td>\n",
       "      <td>Afghanistan</td>\n",
       "      <td>0</td>\n",
       "      <td>0</td>\n",
       "      <td>0</td>\n",
       "    </tr>\n",
       "    <tr>\n",
       "      <th>1</th>\n",
       "      <td>2020-01-22</td>\n",
       "      <td>Albania</td>\n",
       "      <td>0</td>\n",
       "      <td>0</td>\n",
       "      <td>0</td>\n",
       "    </tr>\n",
       "    <tr>\n",
       "      <th>2</th>\n",
       "      <td>2020-01-22</td>\n",
       "      <td>Algeria</td>\n",
       "      <td>0</td>\n",
       "      <td>0</td>\n",
       "      <td>0</td>\n",
       "    </tr>\n",
       "    <tr>\n",
       "      <th>3</th>\n",
       "      <td>2020-01-22</td>\n",
       "      <td>Andorra</td>\n",
       "      <td>0</td>\n",
       "      <td>0</td>\n",
       "      <td>0</td>\n",
       "    </tr>\n",
       "    <tr>\n",
       "      <th>4</th>\n",
       "      <td>2020-01-22</td>\n",
       "      <td>Angola</td>\n",
       "      <td>0</td>\n",
       "      <td>0</td>\n",
       "      <td>0</td>\n",
       "    </tr>\n",
       "  </tbody>\n",
       "</table>\n",
       "</div>"
      ],
      "text/plain": [
       "        Date      Country  Cases  Deaths  nth_day\n",
       "0 2020-01-22  Afghanistan      0       0        0\n",
       "1 2020-01-22      Albania      0       0        0\n",
       "2 2020-01-22      Algeria      0       0        0\n",
       "3 2020-01-22      Andorra      0       0        0\n",
       "4 2020-01-22       Angola      0       0        0"
      ]
     },
     "execution_count": 3,
     "metadata": {},
     "output_type": "execute_result"
    }
   ],
   "source": [
    "#hide\n",
    "# COVID-19\n",
    "# --------\n",
    "\n",
    "# covid_19 dataset\n",
    "covid_19 = pd.read_csv('https://raw.githubusercontent.com/imdevskp/covid_19_jhu_data_web_scrap_and_cleaning/master/new/complete_data.csv', \n",
    "                       parse_dates=['Date'])\n",
    "\n",
    "# selecting important columns only\n",
    "covid_19 = covid_19[['Date', 'Country/Region', 'Confirmed', 'Deaths']]\n",
    "\n",
    "# replacing Mainland china with just China\n",
    "covid_19['Country/Region'] = covid_19['Country/Region'].replace('Mainland China', 'China')\n",
    "\n",
    "# renaming columns\n",
    "covid_19.columns = ['Date', 'Country', 'Cases', 'Deaths']\n",
    "\n",
    "# group by date and country\n",
    "covid_19 = covid_19.groupby(['Date', 'Country'])['Cases', 'Deaths']\n",
    "covid_19 = covid_19.sum().reset_index()\n",
    "\n",
    "# latest\n",
    "c_lat = covid_19[covid_19['Date'] == max(covid_19['Date'])].reset_index()\n",
    "\n",
    "# latest grouped by country\n",
    "c_lat_grp = c_lat.groupby('Country')['Cases', 'Deaths'].sum().reset_index()\n",
    "\n",
    "# nth day\n",
    "covid_19['nth_day'] = (covid_19['Date'] - min(covid_19['Date'])).dt.days\n",
    "\n",
    "# day by day\n",
    "c_dbd = covid_19.groupby('Date')['Cases', 'Deaths'].sum().reset_index()\n",
    "\n",
    "# nth day\n",
    "c_dbd['nth_day'] = covid_19.groupby('Date')['nth_day'].max().values\n",
    "\n",
    "# no. of countries\n",
    "temp = covid_19[covid_19['Cases']>0]\n",
    "c_dbd['n_countries'] = temp.groupby('Date')['Country'].apply(len).values\n",
    "\n",
    "c_dbd['new_cases'] = c_dbd['Cases'].diff()\n",
    "c_dbd['new_deaths'] = c_dbd['Deaths'].diff()\n",
    "c_dbd['epidemic'] = 'COVID-19'\n",
    "\n",
    "covid_19.head()"
   ]
  },
  {
   "cell_type": "code",
   "execution_count": 4,
   "metadata": {
    "papermill": {
     "duration": 0.293826,
     "end_time": "2020-03-25T06:13:40.340775",
     "exception": false,
     "start_time": "2020-03-25T06:13:40.046949",
     "status": "completed"
    },
    "tags": []
   },
   "outputs": [
    {
     "name": "stderr",
     "output_type": "stream",
     "text": [
      "/Users/hamelsmu/.local/share/virtualenvs/visualization-curriculum-gF8wUgMm/lib/python3.6/site-packages/ipykernel_launcher.py:20: FutureWarning:\n",
      "\n",
      "Indexing with multiple keys (implicitly converted to a tuple of keys) will be deprecated, use a list instead.\n",
      "\n",
      "/Users/hamelsmu/.local/share/virtualenvs/visualization-curriculum-gF8wUgMm/lib/python3.6/site-packages/ipykernel_launcher.py:35: FutureWarning:\n",
      "\n",
      "Indexing with multiple keys (implicitly converted to a tuple of keys) will be deprecated, use a list instead.\n",
      "\n",
      "/Users/hamelsmu/.local/share/virtualenvs/visualization-curriculum-gF8wUgMm/lib/python3.6/site-packages/ipykernel_launcher.py:41: FutureWarning:\n",
      "\n",
      "Indexing with multiple keys (implicitly converted to a tuple of keys) will be deprecated, use a list instead.\n",
      "\n"
     ]
    },
    {
     "data": {
      "text/html": [
       "<div>\n",
       "<style scoped>\n",
       "    .dataframe tbody tr th:only-of-type {\n",
       "        vertical-align: middle;\n",
       "    }\n",
       "\n",
       "    .dataframe tbody tr th {\n",
       "        vertical-align: top;\n",
       "    }\n",
       "\n",
       "    .dataframe thead th {\n",
       "        text-align: right;\n",
       "    }\n",
       "</style>\n",
       "<table border=\"1\" class=\"dataframe\">\n",
       "  <thead>\n",
       "    <tr style=\"text-align: right;\">\n",
       "      <th></th>\n",
       "      <th>Date</th>\n",
       "      <th>Country</th>\n",
       "      <th>Cases</th>\n",
       "      <th>Deaths</th>\n",
       "      <th>nth_day</th>\n",
       "    </tr>\n",
       "  </thead>\n",
       "  <tbody>\n",
       "    <tr>\n",
       "      <th>0</th>\n",
       "      <td>2014-08-29</td>\n",
       "      <td>Guinea</td>\n",
       "      <td>648</td>\n",
       "      <td>430</td>\n",
       "      <td>0</td>\n",
       "    </tr>\n",
       "    <tr>\n",
       "      <th>1</th>\n",
       "      <td>2014-08-29</td>\n",
       "      <td>Liberia</td>\n",
       "      <td>1378</td>\n",
       "      <td>694</td>\n",
       "      <td>0</td>\n",
       "    </tr>\n",
       "    <tr>\n",
       "      <th>2</th>\n",
       "      <td>2014-08-29</td>\n",
       "      <td>Nigeria</td>\n",
       "      <td>19</td>\n",
       "      <td>7</td>\n",
       "      <td>0</td>\n",
       "    </tr>\n",
       "    <tr>\n",
       "      <th>3</th>\n",
       "      <td>2014-08-29</td>\n",
       "      <td>Sierra Leone</td>\n",
       "      <td>1026</td>\n",
       "      <td>422</td>\n",
       "      <td>0</td>\n",
       "    </tr>\n",
       "    <tr>\n",
       "      <th>4</th>\n",
       "      <td>2014-09-05</td>\n",
       "      <td>Guinea</td>\n",
       "      <td>812</td>\n",
       "      <td>517</td>\n",
       "      <td>7</td>\n",
       "    </tr>\n",
       "  </tbody>\n",
       "</table>\n",
       "</div>"
      ],
      "text/plain": [
       "        Date       Country  Cases  Deaths  nth_day\n",
       "0 2014-08-29        Guinea    648     430        0\n",
       "1 2014-08-29       Liberia   1378     694        0\n",
       "2 2014-08-29       Nigeria     19       7        0\n",
       "3 2014-08-29  Sierra Leone   1026     422        0\n",
       "4 2014-09-05        Guinea    812     517        7"
      ]
     },
     "execution_count": 4,
     "metadata": {},
     "output_type": "execute_result"
    }
   ],
   "source": [
    "#hide\n",
    "# EBOLA\n",
    "# ------\n",
    "\n",
    "# ebola dataset\n",
    "ebola_14 = pd.read_csv(\"https://raw.githubusercontent.com/imdevskp/ebola_outbreak_dataset/master/ebola_2014_2016_clean.csv\", \n",
    "                       parse_dates=['Date'])\n",
    "\n",
    "# ebola_14 = ebola_14[ebola_14['Date']!=max(ebola_14['Date'])]\n",
    "\n",
    "# selecting important columns only\n",
    "ebola_14 = ebola_14[['Date', 'Country', 'No. of confirmed, probable and suspected cases',\n",
    "                     'No. of confirmed, probable and suspected deaths']]\n",
    "\n",
    "# renaming columns\n",
    "ebola_14.columns = ['Date', 'Country', 'Cases', 'Deaths']\n",
    "ebola_14.head()\n",
    "\n",
    "# group by date and country\n",
    "ebola_14 = ebola_14.groupby(['Date', 'Country'])['Cases', 'Deaths']\n",
    "ebola_14 = ebola_14.sum().reset_index()\n",
    "\n",
    "# filling missing values\n",
    "ebola_14['Cases'] = ebola_14['Cases'].fillna(0)\n",
    "ebola_14['Deaths'] = ebola_14['Deaths'].fillna(0)\n",
    "\n",
    "# converting datatypes\n",
    "ebola_14['Cases'] = ebola_14['Cases'].astype('int')\n",
    "ebola_14['Deaths'] = ebola_14['Deaths'].astype('int')\n",
    "\n",
    "# latest\n",
    "e_lat = ebola_14[ebola_14['Date'] == max(ebola_14['Date'])].reset_index()\n",
    "\n",
    "# latest grouped by country\n",
    "e_lat_grp = e_lat.groupby('Country')['Cases', 'Deaths'].sum().reset_index()\n",
    "\n",
    "# nth day\n",
    "ebola_14['nth_day'] = (ebola_14['Date'] - min(ebola_14['Date'])).dt.days\n",
    "\n",
    "# day by day\n",
    "e_dbd = ebola_14.groupby('Date')['Cases', 'Deaths'].sum().reset_index()\n",
    "\n",
    "# nth day\n",
    "e_dbd['nth_day'] = ebola_14.groupby('Date')['nth_day'].max().values\n",
    "\n",
    "# no. of countries\n",
    "temp = ebola_14[ebola_14['Cases']>0]\n",
    "e_dbd['n_countries'] = temp.groupby('Date')['Country'].apply(len).values\n",
    "\n",
    "e_dbd['new_cases'] = e_dbd['Cases'].diff()\n",
    "e_dbd['new_deaths'] = e_dbd['Deaths'].diff()\n",
    "e_dbd['epidemic'] = 'EBOLA'\n",
    "\n",
    "ebola_14.head()"
   ]
  },
  {
   "cell_type": "code",
   "execution_count": 5,
   "metadata": {
    "papermill": {
     "duration": 0.240213,
     "end_time": "2020-03-25T06:13:40.638133",
     "exception": false,
     "start_time": "2020-03-25T06:13:40.397920",
     "status": "completed"
    },
    "tags": []
   },
   "outputs": [
    {
     "name": "stderr",
     "output_type": "stream",
     "text": [
      "/Users/hamelsmu/.local/share/virtualenvs/visualization-curriculum-gF8wUgMm/lib/python3.6/site-packages/ipykernel_launcher.py:17: FutureWarning:\n",
      "\n",
      "Indexing with multiple keys (implicitly converted to a tuple of keys) will be deprecated, use a list instead.\n",
      "\n",
      "/Users/hamelsmu/.local/share/virtualenvs/visualization-curriculum-gF8wUgMm/lib/python3.6/site-packages/ipykernel_launcher.py:24: FutureWarning:\n",
      "\n",
      "Indexing with multiple keys (implicitly converted to a tuple of keys) will be deprecated, use a list instead.\n",
      "\n",
      "/Users/hamelsmu/.local/share/virtualenvs/visualization-curriculum-gF8wUgMm/lib/python3.6/site-packages/ipykernel_launcher.py:30: FutureWarning:\n",
      "\n",
      "Indexing with multiple keys (implicitly converted to a tuple of keys) will be deprecated, use a list instead.\n",
      "\n"
     ]
    },
    {
     "data": {
      "text/html": [
       "<div>\n",
       "<style scoped>\n",
       "    .dataframe tbody tr th:only-of-type {\n",
       "        vertical-align: middle;\n",
       "    }\n",
       "\n",
       "    .dataframe tbody tr th {\n",
       "        vertical-align: top;\n",
       "    }\n",
       "\n",
       "    .dataframe thead th {\n",
       "        text-align: right;\n",
       "    }\n",
       "</style>\n",
       "<table border=\"1\" class=\"dataframe\">\n",
       "  <thead>\n",
       "    <tr style=\"text-align: right;\">\n",
       "      <th></th>\n",
       "      <th>Date</th>\n",
       "      <th>Cases</th>\n",
       "      <th>Deaths</th>\n",
       "      <th>Recovered</th>\n",
       "      <th>nth_day</th>\n",
       "      <th>n_countries</th>\n",
       "      <th>new_cases</th>\n",
       "      <th>new_deaths</th>\n",
       "      <th>epidemic</th>\n",
       "    </tr>\n",
       "  </thead>\n",
       "  <tbody>\n",
       "    <tr>\n",
       "      <th>0</th>\n",
       "      <td>2003-03-17</td>\n",
       "      <td>167</td>\n",
       "      <td>4</td>\n",
       "      <td>0</td>\n",
       "      <td>0</td>\n",
       "      <td>7</td>\n",
       "      <td>NaN</td>\n",
       "      <td>NaN</td>\n",
       "      <td>SARS</td>\n",
       "    </tr>\n",
       "    <tr>\n",
       "      <th>1</th>\n",
       "      <td>2003-03-18</td>\n",
       "      <td>219</td>\n",
       "      <td>4</td>\n",
       "      <td>0</td>\n",
       "      <td>1</td>\n",
       "      <td>9</td>\n",
       "      <td>52.0</td>\n",
       "      <td>0.0</td>\n",
       "      <td>SARS</td>\n",
       "    </tr>\n",
       "    <tr>\n",
       "      <th>2</th>\n",
       "      <td>2003-03-19</td>\n",
       "      <td>264</td>\n",
       "      <td>9</td>\n",
       "      <td>0</td>\n",
       "      <td>2</td>\n",
       "      <td>11</td>\n",
       "      <td>45.0</td>\n",
       "      <td>5.0</td>\n",
       "      <td>SARS</td>\n",
       "    </tr>\n",
       "    <tr>\n",
       "      <th>3</th>\n",
       "      <td>2003-03-20</td>\n",
       "      <td>306</td>\n",
       "      <td>10</td>\n",
       "      <td>0</td>\n",
       "      <td>3</td>\n",
       "      <td>12</td>\n",
       "      <td>42.0</td>\n",
       "      <td>1.0</td>\n",
       "      <td>SARS</td>\n",
       "    </tr>\n",
       "    <tr>\n",
       "      <th>4</th>\n",
       "      <td>2003-03-21</td>\n",
       "      <td>350</td>\n",
       "      <td>10</td>\n",
       "      <td>0</td>\n",
       "      <td>4</td>\n",
       "      <td>14</td>\n",
       "      <td>44.0</td>\n",
       "      <td>0.0</td>\n",
       "      <td>SARS</td>\n",
       "    </tr>\n",
       "  </tbody>\n",
       "</table>\n",
       "</div>"
      ],
      "text/plain": [
       "        Date  Cases  Deaths  Recovered  nth_day  n_countries  new_cases  \\\n",
       "0 2003-03-17    167       4          0        0            7        NaN   \n",
       "1 2003-03-18    219       4          0        1            9       52.0   \n",
       "2 2003-03-19    264       9          0        2           11       45.0   \n",
       "3 2003-03-20    306      10          0        3           12       42.0   \n",
       "4 2003-03-21    350      10          0        4           14       44.0   \n",
       "\n",
       "   new_deaths epidemic  \n",
       "0         NaN     SARS  \n",
       "1         0.0     SARS  \n",
       "2         5.0     SARS  \n",
       "3         1.0     SARS  \n",
       "4         0.0     SARS  "
      ]
     },
     "execution_count": 5,
     "metadata": {},
     "output_type": "execute_result"
    }
   ],
   "source": [
    "#hide\n",
    "# SARS\n",
    "# ----\n",
    "\n",
    "# sars dataset\n",
    "sars_03 = pd.read_csv(\"https://raw.githubusercontent.com/imdevskp/sars-2003-outbreak-data-with-web-scrapping-munging-and-cleaning-code/master/sars_2003_complete_dataset_clean.csv\", \n",
    "                       parse_dates=['Date'])\n",
    "\n",
    "# selecting important columns only\n",
    "sars_03 = sars_03[['Date', 'Country', 'Cumulative number of case(s)', \n",
    "                   'Number of deaths', 'Number recovered']]\n",
    "\n",
    "# renaming columns\n",
    "sars_03.columns = ['Date', 'Country', 'Cases', 'Deaths', 'Recovered']\n",
    "\n",
    "# group by date and country\n",
    "sars_03 = sars_03.groupby(['Date', 'Country'])['Cases', 'Deaths', 'Recovered']\n",
    "sars_03 = sars_03.sum().reset_index()\n",
    "\n",
    "# latest\n",
    "s_lat = sars_03[sars_03['Date'] == max(sars_03['Date'])].reset_index()\n",
    "\n",
    "# latest grouped by country\n",
    "s_lat_grp = s_lat.groupby('Country')['Cases', 'Deaths', 'Recovered'].sum().reset_index()\n",
    "\n",
    "# nth day\n",
    "sars_03['nth_day'] = (sars_03['Date'] - min(sars_03['Date'])).dt.days\n",
    "\n",
    "# day by day\n",
    "s_dbd = sars_03.groupby('Date')['Cases', 'Deaths', 'Recovered'].sum().reset_index()\n",
    "\n",
    "# nth day\n",
    "s_dbd['nth_day'] = sars_03.groupby('Date')['nth_day'].max().values\n",
    "\n",
    "# no. of countries\n",
    "temp = sars_03[sars_03['Cases']>0]\n",
    "s_dbd['n_countries'] = temp.groupby('Date')['Country'].apply(len).values\n",
    "\n",
    "\n",
    "s_dbd['new_cases'] = s_dbd['Cases'].diff()\n",
    "s_dbd['new_deaths'] = s_dbd['Deaths'].diff()\n",
    "s_dbd['epidemic'] = 'SARS'\n",
    "\n",
    "s_dbd.head()"
   ]
  },
  {
   "cell_type": "code",
   "execution_count": 6,
   "metadata": {
    "papermill": {
     "duration": 0.247381,
     "end_time": "2020-03-25T06:13:40.938775",
     "exception": false,
     "start_time": "2020-03-25T06:13:40.691394",
     "status": "completed"
    },
    "tags": []
   },
   "outputs": [
    {
     "data": {
      "text/html": [
       "<div>\n",
       "<style scoped>\n",
       "    .dataframe tbody tr th:only-of-type {\n",
       "        vertical-align: middle;\n",
       "    }\n",
       "\n",
       "    .dataframe tbody tr th {\n",
       "        vertical-align: top;\n",
       "    }\n",
       "\n",
       "    .dataframe thead th {\n",
       "        text-align: right;\n",
       "    }\n",
       "</style>\n",
       "<table border=\"1\" class=\"dataframe\">\n",
       "  <thead>\n",
       "    <tr style=\"text-align: right;\">\n",
       "      <th></th>\n",
       "      <th>Year</th>\n",
       "      <th>Week</th>\n",
       "      <th>Region</th>\n",
       "      <th>New Cases</th>\n",
       "      <th>Year-Week</th>\n",
       "      <th>Date</th>\n",
       "    </tr>\n",
       "  </thead>\n",
       "  <tbody>\n",
       "    <tr>\n",
       "      <th>0</th>\n",
       "      <td>2012</td>\n",
       "      <td>12</td>\n",
       "      <td>Other Countries</td>\n",
       "      <td>1</td>\n",
       "      <td>2012 - 12</td>\n",
       "      <td>2012-03-19</td>\n",
       "    </tr>\n",
       "    <tr>\n",
       "      <th>1</th>\n",
       "      <td>2012</td>\n",
       "      <td>12</td>\n",
       "      <td>Republic of Korea</td>\n",
       "      <td>0</td>\n",
       "      <td>2012 - 12</td>\n",
       "      <td>2012-03-19</td>\n",
       "    </tr>\n",
       "    <tr>\n",
       "      <th>2</th>\n",
       "      <td>2012</td>\n",
       "      <td>12</td>\n",
       "      <td>Saudi Arabia</td>\n",
       "      <td>0</td>\n",
       "      <td>2012 - 12</td>\n",
       "      <td>2012-03-19</td>\n",
       "    </tr>\n",
       "    <tr>\n",
       "      <th>3</th>\n",
       "      <td>2012</td>\n",
       "      <td>13</td>\n",
       "      <td>Other Countries</td>\n",
       "      <td>0</td>\n",
       "      <td>2012 - 13</td>\n",
       "      <td>2012-03-26</td>\n",
       "    </tr>\n",
       "    <tr>\n",
       "      <th>4</th>\n",
       "      <td>2012</td>\n",
       "      <td>13</td>\n",
       "      <td>Republic of Korea</td>\n",
       "      <td>0</td>\n",
       "      <td>2012 - 13</td>\n",
       "      <td>2012-03-26</td>\n",
       "    </tr>\n",
       "  </tbody>\n",
       "</table>\n",
       "</div>"
      ],
      "text/plain": [
       "   Year  Week             Region  New Cases  Year-Week       Date\n",
       "0  2012    12    Other Countries          1  2012 - 12 2012-03-19\n",
       "1  2012    12  Republic of Korea          0  2012 - 12 2012-03-19\n",
       "2  2012    12       Saudi Arabia          0  2012 - 12 2012-03-19\n",
       "3  2012    13    Other Countries          0  2012 - 13 2012-03-26\n",
       "4  2012    13  Republic of Korea          0  2012 - 13 2012-03-26"
      ]
     },
     "execution_count": 6,
     "metadata": {},
     "output_type": "execute_result"
    }
   ],
   "source": [
    "#hide\n",
    "# MERS\n",
    "mers_cntry = pd.read_csv(\"https://raw.githubusercontent.com/imdevskp/mers_dataset_collection_cleaning/master/country_count_latest.csv\")\n",
    "mers_weekly = pd.read_csv(\"https://raw.githubusercontent.com/imdevskp/mers_dataset_collection_cleaning/master/weekly_clean.csv\")\n",
    "\n",
    "# cleaning\n",
    "mers_weekly['Year-Week'] = mers_weekly['Year'].astype(str) + ' - ' + mers_weekly['Week'].astype(str)\n",
    "mers_weekly['Date'] = pd.to_datetime(mers_weekly['Week'].astype(str) + \n",
    "                                     mers_weekly['Year'].astype(str).add('-1'),format='%V%G-%u')\n",
    "\n",
    "mers_weekly.head()"
   ]
  },
  {
   "cell_type": "code",
   "execution_count": 7,
   "metadata": {
    "papermill": {
     "duration": 0.066415,
     "end_time": "2020-03-25T06:13:41.053088",
     "exception": false,
     "start_time": "2020-03-25T06:13:40.986673",
     "status": "completed"
    },
    "tags": []
   },
   "outputs": [
    {
     "data": {
      "text/html": [
       "<div>\n",
       "<style scoped>\n",
       "    .dataframe tbody tr th:only-of-type {\n",
       "        vertical-align: middle;\n",
       "    }\n",
       "\n",
       "    .dataframe tbody tr th {\n",
       "        vertical-align: top;\n",
       "    }\n",
       "\n",
       "    .dataframe thead th {\n",
       "        text-align: right;\n",
       "    }\n",
       "</style>\n",
       "<table border=\"1\" class=\"dataframe\">\n",
       "  <thead>\n",
       "    <tr style=\"text-align: right;\">\n",
       "      <th></th>\n",
       "      <th>Country</th>\n",
       "      <th>Confirmed</th>\n",
       "    </tr>\n",
       "  </thead>\n",
       "  <tbody>\n",
       "    <tr>\n",
       "      <th>0</th>\n",
       "      <td>Algeria</td>\n",
       "      <td>2</td>\n",
       "    </tr>\n",
       "    <tr>\n",
       "      <th>1</th>\n",
       "      <td>Austria</td>\n",
       "      <td>2</td>\n",
       "    </tr>\n",
       "    <tr>\n",
       "      <th>2</th>\n",
       "      <td>Bahrain</td>\n",
       "      <td>1</td>\n",
       "    </tr>\n",
       "    <tr>\n",
       "      <th>3</th>\n",
       "      <td>China</td>\n",
       "      <td>1</td>\n",
       "    </tr>\n",
       "    <tr>\n",
       "      <th>4</th>\n",
       "      <td>Egypt</td>\n",
       "      <td>1</td>\n",
       "    </tr>\n",
       "  </tbody>\n",
       "</table>\n",
       "</div>"
      ],
      "text/plain": [
       "   Country  Confirmed\n",
       "0  Algeria          2\n",
       "1  Austria          2\n",
       "2  Bahrain          1\n",
       "3    China          1\n",
       "4    Egypt          1"
      ]
     },
     "execution_count": 7,
     "metadata": {},
     "output_type": "execute_result"
    }
   ],
   "source": [
    "#hide\n",
    "mers_cntry.head()"
   ]
  },
  {
   "cell_type": "code",
   "execution_count": 8,
   "metadata": {
    "papermill": {
     "duration": 0.076588,
     "end_time": "2020-03-25T06:13:41.186525",
     "exception": false,
     "start_time": "2020-03-25T06:13:41.109937",
     "status": "completed"
    },
    "tags": []
   },
   "outputs": [
    {
     "data": {
      "text/html": [
       "<div>\n",
       "<style scoped>\n",
       "    .dataframe tbody tr th:only-of-type {\n",
       "        vertical-align: middle;\n",
       "    }\n",
       "\n",
       "    .dataframe tbody tr th {\n",
       "        vertical-align: top;\n",
       "    }\n",
       "\n",
       "    .dataframe thead th {\n",
       "        text-align: right;\n",
       "    }\n",
       "</style>\n",
       "<table border=\"1\" class=\"dataframe\">\n",
       "  <thead>\n",
       "    <tr style=\"text-align: right;\">\n",
       "      <th></th>\n",
       "      <th>Year</th>\n",
       "      <th>Week</th>\n",
       "      <th>Region</th>\n",
       "      <th>New Cases</th>\n",
       "      <th>Year-Week</th>\n",
       "      <th>Date</th>\n",
       "    </tr>\n",
       "  </thead>\n",
       "  <tbody>\n",
       "    <tr>\n",
       "      <th>0</th>\n",
       "      <td>2012</td>\n",
       "      <td>12</td>\n",
       "      <td>Other Countries</td>\n",
       "      <td>1</td>\n",
       "      <td>2012 - 12</td>\n",
       "      <td>2012-03-19</td>\n",
       "    </tr>\n",
       "    <tr>\n",
       "      <th>1</th>\n",
       "      <td>2012</td>\n",
       "      <td>12</td>\n",
       "      <td>Republic of Korea</td>\n",
       "      <td>0</td>\n",
       "      <td>2012 - 12</td>\n",
       "      <td>2012-03-19</td>\n",
       "    </tr>\n",
       "    <tr>\n",
       "      <th>2</th>\n",
       "      <td>2012</td>\n",
       "      <td>12</td>\n",
       "      <td>Saudi Arabia</td>\n",
       "      <td>0</td>\n",
       "      <td>2012 - 12</td>\n",
       "      <td>2012-03-19</td>\n",
       "    </tr>\n",
       "    <tr>\n",
       "      <th>3</th>\n",
       "      <td>2012</td>\n",
       "      <td>13</td>\n",
       "      <td>Other Countries</td>\n",
       "      <td>0</td>\n",
       "      <td>2012 - 13</td>\n",
       "      <td>2012-03-26</td>\n",
       "    </tr>\n",
       "    <tr>\n",
       "      <th>4</th>\n",
       "      <td>2012</td>\n",
       "      <td>13</td>\n",
       "      <td>Republic of Korea</td>\n",
       "      <td>0</td>\n",
       "      <td>2012 - 13</td>\n",
       "      <td>2012-03-26</td>\n",
       "    </tr>\n",
       "  </tbody>\n",
       "</table>\n",
       "</div>"
      ],
      "text/plain": [
       "   Year  Week             Region  New Cases  Year-Week       Date\n",
       "0  2012    12    Other Countries          1  2012 - 12 2012-03-19\n",
       "1  2012    12  Republic of Korea          0  2012 - 12 2012-03-19\n",
       "2  2012    12       Saudi Arabia          0  2012 - 12 2012-03-19\n",
       "3  2012    13    Other Countries          0  2012 - 13 2012-03-26\n",
       "4  2012    13  Republic of Korea          0  2012 - 13 2012-03-26"
      ]
     },
     "execution_count": 8,
     "metadata": {},
     "output_type": "execute_result"
    }
   ],
   "source": [
    "#hide\n",
    "mers_weekly.head()"
   ]
  },
  {
   "cell_type": "markdown",
   "metadata": {
    "papermill": {
     "duration": 0.051484,
     "end_time": "2020-03-25T06:13:41.293703",
     "exception": false,
     "start_time": "2020-03-25T06:13:41.242219",
     "status": "completed"
    },
    "tags": []
   },
   "source": [
    "# Reported Countries"
   ]
  },
  {
   "cell_type": "code",
   "execution_count": 9,
   "metadata": {
    "papermill": {
     "duration": 7.150543,
     "end_time": "2020-03-25T06:13:48.492855",
     "exception": false,
     "start_time": "2020-03-25T06:13:41.342312",
     "status": "completed"
    },
    "scrolled": false,
    "tags": []
   },
   "outputs": [],
   "source": [
    "#hide\n",
    "fig = px.choropleth(c_lat_grp, locations=\"Country\", locationmode='country names',\n",
    "                    color=\"Cases\", hover_name=\"Country\", \n",
    "                    color_continuous_scale=\"Emrld\", title='COVID-19')\n",
    "fig.update(layout_coloraxis_showscale=False)\n",
    "fig.write_image('covid-compare-1-1.png')\n",
    "\n",
    "#-----------------------------------------------------------------------------------------\n",
    "\n",
    "fig = px.choropleth(e_lat_grp, locations=\"Country\", locationmode='country names',\n",
    "                    color=\"Cases\", hover_name=\"Country\", \n",
    "                    color_continuous_scale=\"Emrld\", title='EBOLA 2014')\n",
    "fig.update(layout_coloraxis_showscale=False)\n",
    "fig.write_image('covid-compare-1-2.png')\n",
    "\n",
    "#-----------------------------------------------------------------------------------------\n",
    "\n",
    "fig = px.choropleth(s_lat_grp, locations=\"Country\", locationmode='country names',\n",
    "                    color=\"Cases\", hover_name=\"Country\", \n",
    "                    color_continuous_scale=\"Emrld\", title='SARS 2003')\n",
    "fig.update(layout_coloraxis_showscale=False)\n",
    "fig.write_image('covid-compare-1-3.png')\n",
    "\n",
    "#-----------------------------------------------------------------------------------------\n",
    "\n",
    "fig = px.choropleth(mers_cntry, locations=\"Country\", locationmode='country names',\n",
    "                    color=\"Confirmed\", hover_name=\"Country\", \n",
    "                    color_continuous_scale='Emrld', title='MERS')\n",
    "fig.update(layout_coloraxis_showscale=False)\n",
    "fig.write_image('covid-compare-1-4.png')"
   ]
  },
  {
   "cell_type": "markdown",
   "metadata": {
    "papermill": {
     "duration": 0.056998,
     "end_time": "2020-03-25T06:13:48.595294",
     "exception": false,
     "start_time": "2020-03-25T06:13:48.538296",
     "status": "completed"
    },
    "tags": []
   },
   "source": [
    "![](covid-compare-1-1.png)\n",
    "![](covid-compare-1-2.png)\n",
    "![](covid-compare-1-3.png)\n",
    "![](covid-compare-1-4.png)"
   ]
  },
  {
   "cell_type": "markdown",
   "metadata": {
    "papermill": {
     "duration": 0.051317,
     "end_time": "2020-03-25T06:13:48.699400",
     "exception": false,
     "start_time": "2020-03-25T06:13:48.648083",
     "status": "completed"
    },
    "tags": []
   },
   "source": [
    "# Deaths"
   ]
  },
  {
   "cell_type": "code",
   "execution_count": 10,
   "metadata": {
    "papermill": {
     "duration": 1.433624,
     "end_time": "2020-03-25T06:13:50.185820",
     "exception": false,
     "start_time": "2020-03-25T06:13:48.752196",
     "status": "completed"
    },
    "tags": []
   },
   "outputs": [],
   "source": [
    "#hide\n",
    "fig = px.choropleth(c_lat_grp[c_lat_grp['Deaths']>0], locations=\"Country\", locationmode='country names',\n",
    "                    color=\"Deaths\", hover_name=\"Country\", \n",
    "                    color_continuous_scale=\"Sunsetdark\", title='COVID-19')\n",
    "fig.update(layout_coloraxis_showscale=False)\n",
    "fig.write_image('covid-compare-2-1.png')\n",
    "\n",
    "#-----------------------------------------------------------------------------------------\n",
    "\n",
    "fig = px.choropleth(e_lat_grp[e_lat_grp['Deaths']>0], locations=\"Country\", locationmode='country names',\n",
    "                    color=\"Deaths\", hover_name=\"Country\", \n",
    "                    color_continuous_scale=\"Sunsetdark\", title='EBOLA 2014')\n",
    "fig.update(layout_coloraxis_showscale=False)\n",
    "fig.write_image('covid-compare-2-2.png')\n",
    "\n",
    "\n",
    "#-----------------------------------------------------------------------------------------\n",
    "\n",
    "fig = px.choropleth(s_lat_grp[s_lat_grp['Deaths']>0], locations=\"Country\", locationmode='country names',\n",
    "                    color=\"Deaths\", hover_name=\"Country\", \n",
    "                    color_continuous_scale=\"Sunsetdark\", title='SARS 2003')\n",
    "fig.update(layout_coloraxis_showscale=False)\n",
    "# fig.write_image('covid-compare-2-3.png')\n",
    "fig.write_image('covid-compare-2-3.png')"
   ]
  },
  {
   "cell_type": "markdown",
   "metadata": {
    "papermill": {
     "duration": 0.051192,
     "end_time": "2020-03-25T06:13:50.294135",
     "exception": false,
     "start_time": "2020-03-25T06:13:50.242943",
     "status": "completed"
    },
    "tags": []
   },
   "source": [
    "![](covid-compare-2-1.png)\n",
    "![](covid-compare-2-2.png)\n",
    "![](covid-compare-2-3.png)"
   ]
  },
  {
   "cell_type": "markdown",
   "metadata": {
    "papermill": {
     "duration": 0.05183,
     "end_time": "2020-03-25T06:13:50.398229",
     "exception": false,
     "start_time": "2020-03-25T06:13:50.346399",
     "status": "completed"
    },
    "tags": []
   },
   "source": [
    "# Proportion"
   ]
  },
  {
   "cell_type": "code",
   "execution_count": 11,
   "metadata": {
    "papermill": {
     "duration": 2.164264,
     "end_time": "2020-03-25T06:13:52.617810",
     "exception": false,
     "start_time": "2020-03-25T06:13:50.453546",
     "status": "completed"
    },
    "tags": []
   },
   "outputs": [],
   "source": [
    "#hide\n",
    "fig = px.treemap(c_lat_grp.sort_values(by='Cases', ascending=False).reset_index(drop=True), \n",
    "                 path=[\"Country\"], values=\"Cases\", title='COVID-19',\n",
    "                 color_discrete_sequence = px.colors.qualitative.Dark2)\n",
    "fig.write_image('covid-compare-3-1.png')\n",
    "\n",
    "fig = px.treemap(e_lat_grp.sort_values(by='Cases', ascending=False).reset_index(drop=True), \n",
    "                 path=[\"Country\"], values=\"Cases\", title='EBOLA',\n",
    "                 color_discrete_sequence = px.colors.qualitative.Dark2)\n",
    "fig.write_image('covid-compare-3-2.png')\n",
    "\n",
    "fig = px.treemap(s_lat_grp.sort_values(by='Cases', ascending=False).reset_index(drop=True), \n",
    "                 path=[\"Country\"], values=\"Cases\", title='SARS',\n",
    "                 color_discrete_sequence = px.colors.qualitative.Dark2)\n",
    "fig.write_image('covid-compare-3-3.png')\n",
    "\n",
    "fig = px.treemap(mers_cntry, \n",
    "                 path=[\"Country\"], values=\"Confirmed\", title='MERS',\n",
    "                 color_discrete_sequence = px.colors.qualitative.Dark2)\n",
    "fig.write_image('covid-compare-3-4.png')"
   ]
  },
  {
   "cell_type": "markdown",
   "metadata": {
    "papermill": {
     "duration": 0.051217,
     "end_time": "2020-03-25T06:13:52.720476",
     "exception": false,
     "start_time": "2020-03-25T06:13:52.669259",
     "status": "completed"
    },
    "tags": []
   },
   "source": [
    "![](covid-compare-3-1.png)\n",
    "![](covid-compare-3-2.png)\n",
    "![](covid-compare-3-3.png)\n",
    "![](covid-compare-3-4.png)"
   ]
  },
  {
   "cell_type": "markdown",
   "metadata": {
    "papermill": {
     "duration": 0.049959,
     "end_time": "2020-03-25T06:13:52.817327",
     "exception": false,
     "start_time": "2020-03-25T06:13:52.767368",
     "status": "completed"
    },
    "tags": []
   },
   "source": [
    "# Comparison"
   ]
  },
  {
   "cell_type": "code",
   "execution_count": 12,
   "metadata": {
    "papermill": {
     "duration": 0.060893,
     "end_time": "2020-03-25T06:13:52.926969",
     "exception": false,
     "start_time": "2020-03-25T06:13:52.866076",
     "status": "completed"
    },
    "tags": []
   },
   "outputs": [],
   "source": [
    "#hide\n",
    "# sum of cases\n",
    "# -----------\n",
    "\n",
    "c_cases = sum(c_lat_grp['Cases'])\n",
    "c_deaths = sum(c_lat_grp['Deaths'])\n",
    "c_no_countries = len(c_lat_grp['Country'].value_counts())\n",
    "\n",
    "s_cases = sum(s_lat_grp['Cases'])\n",
    "s_deaths = sum(s_lat_grp['Deaths'])\n",
    "s_no_countries = len(s_lat_grp['Country'].value_counts())\n",
    "\n",
    "e_cases = sum(e_lat_grp['Cases'])\n",
    "e_deaths = sum(e_lat_grp['Deaths'])\n",
    "e_no_countries = len(e_lat_grp['Country'].value_counts())"
   ]
  },
  {
   "cell_type": "code",
   "execution_count": 13,
   "metadata": {
    "papermill": {
     "duration": 0.07315,
     "end_time": "2020-03-25T06:13:53.048354",
     "exception": false,
     "start_time": "2020-03-25T06:13:52.975204",
     "status": "completed"
    },
    "tags": []
   },
   "outputs": [
    {
     "data": {
      "text/html": [
       "<div>\n",
       "<style scoped>\n",
       "    .dataframe tbody tr th:only-of-type {\n",
       "        vertical-align: middle;\n",
       "    }\n",
       "\n",
       "    .dataframe tbody tr th {\n",
       "        vertical-align: top;\n",
       "    }\n",
       "\n",
       "    .dataframe thead th {\n",
       "        text-align: right;\n",
       "    }\n",
       "</style>\n",
       "<table border=\"1\" class=\"dataframe\">\n",
       "  <thead>\n",
       "    <tr style=\"text-align: right;\">\n",
       "      <th></th>\n",
       "      <th>epidemic</th>\n",
       "      <th>start_year</th>\n",
       "      <th>end_year</th>\n",
       "      <th>confirmed</th>\n",
       "      <th>deaths</th>\n",
       "      <th>no_of_countries</th>\n",
       "      <th>mortality</th>\n",
       "    </tr>\n",
       "  </thead>\n",
       "  <tbody>\n",
       "    <tr>\n",
       "      <th>0</th>\n",
       "      <td>SARS</td>\n",
       "      <td>2003</td>\n",
       "      <td>2004</td>\n",
       "      <td>8432</td>\n",
       "      <td>813</td>\n",
       "      <td>31</td>\n",
       "      <td>9.64</td>\n",
       "    </tr>\n",
       "    <tr>\n",
       "      <th>1</th>\n",
       "      <td>H1N1</td>\n",
       "      <td>2009</td>\n",
       "      <td>2010</td>\n",
       "      <td>6724149</td>\n",
       "      <td>19654</td>\n",
       "      <td>178</td>\n",
       "      <td>0.29</td>\n",
       "    </tr>\n",
       "    <tr>\n",
       "      <th>2</th>\n",
       "      <td>EBOLA</td>\n",
       "      <td>2014</td>\n",
       "      <td>2016</td>\n",
       "      <td>28642</td>\n",
       "      <td>11319</td>\n",
       "      <td>10</td>\n",
       "      <td>39.52</td>\n",
       "    </tr>\n",
       "    <tr>\n",
       "      <th>3</th>\n",
       "      <td>MERS</td>\n",
       "      <td>2012</td>\n",
       "      <td>2017</td>\n",
       "      <td>2494</td>\n",
       "      <td>858</td>\n",
       "      <td>27</td>\n",
       "      <td>34.40</td>\n",
       "    </tr>\n",
       "    <tr>\n",
       "      <th>4</th>\n",
       "      <td>COVID-19</td>\n",
       "      <td>2019</td>\n",
       "      <td>2020</td>\n",
       "      <td>418678</td>\n",
       "      <td>18625</td>\n",
       "      <td>170</td>\n",
       "      <td>4.45</td>\n",
       "    </tr>\n",
       "  </tbody>\n",
       "</table>\n",
       "</div>"
      ],
      "text/plain": [
       "   epidemic  start_year  end_year  confirmed  deaths  no_of_countries  \\\n",
       "0      SARS        2003      2004       8432     813               31   \n",
       "1      H1N1        2009      2010    6724149   19654              178   \n",
       "2     EBOLA        2014      2016      28642   11319               10   \n",
       "3      MERS        2012      2017       2494     858               27   \n",
       "4  COVID-19        2019      2020     418678   18625              170   \n",
       "\n",
       "   mortality  \n",
       "0       9.64  \n",
       "1       0.29  \n",
       "2      39.52  \n",
       "3      34.40  \n",
       "4       4.45  "
      ]
     },
     "execution_count": 13,
     "metadata": {},
     "output_type": "execute_result"
    }
   ],
   "source": [
    "#hide\n",
    "epidemics = pd.DataFrame({\n",
    "    'epidemic' : ['COVID-19', 'SARS', 'EBOLA', 'MERS', 'H1N1'],\n",
    "    'start_year' : [2019, 2003, 2014, 2012, 2009],\n",
    "    'end_year' : [2020, 2004, 2016, 2017, 2010],\n",
    "    'confirmed' : [c_cases, s_cases, e_cases, 2494, 6724149],\n",
    "    'deaths' : [c_deaths, s_deaths, e_deaths, 858, 19654],\n",
    "    'no_of_countries' : [c_no_countries, s_no_countries, e_no_countries, 27, 178]\n",
    "})\n",
    "\n",
    "epidemics['mortality'] = round((epidemics['deaths']/epidemics['confirmed'])*100, 2)\n",
    "epidemics = epidemics.sort_values('end_year').reset_index(drop=True)\n",
    "epidemics.head()"
   ]
  },
  {
   "cell_type": "code",
   "execution_count": 14,
   "metadata": {
    "papermill": {
     "duration": 0.741682,
     "end_time": "2020-03-25T06:13:53.872356",
     "exception": false,
     "start_time": "2020-03-25T06:13:53.130674",
     "status": "completed"
    },
    "tags": []
   },
   "outputs": [],
   "source": [
    "#hide\n",
    "fig = px.bar(epidemics.sort_values('confirmed',ascending=False), \n",
    "             x=\"confirmed\", y=\"epidemic\", color='epidemic', \n",
    "             text='confirmed', orientation='h', title='No. of Cases', \n",
    "             range_x=[0,7500000],\n",
    "             color_discrete_sequence = [h, c, e, s, m])\n",
    "fig.update_traces(textposition='outside')\n",
    "fig.update_layout(uniformtext_minsize=8, uniformtext_mode='hide')\n",
    "fig.write_image('covid-compare-4-1.png')"
   ]
  },
  {
   "cell_type": "code",
   "execution_count": 15,
   "metadata": {
    "papermill": {
     "duration": 0.524036,
     "end_time": "2020-03-25T06:13:54.450380",
     "exception": false,
     "start_time": "2020-03-25T06:13:53.926344",
     "status": "completed"
    },
    "tags": []
   },
   "outputs": [],
   "source": [
    "#hide\n",
    "fig = px.bar(epidemics.sort_values('deaths',ascending=False), \n",
    "             x=\"deaths\", y=\"epidemic\", color='epidemic', \n",
    "             text='deaths', orientation='h', title='No. of Deaths',\n",
    "             range_x=[0,25000],\n",
    "             color_discrete_sequence = [h, e, c, m, s])\n",
    "fig.update_traces(textposition='outside')\n",
    "fig.update_layout(uniformtext_minsize=8, uniformtext_mode='hide')\n",
    "fig.write_image('covid-compare-4-2.png')"
   ]
  },
  {
   "cell_type": "code",
   "execution_count": 16,
   "metadata": {
    "papermill": {
     "duration": 0.669981,
     "end_time": "2020-03-25T06:13:55.169098",
     "exception": false,
     "start_time": "2020-03-25T06:13:54.499117",
     "status": "completed"
    },
    "tags": []
   },
   "outputs": [],
   "source": [
    "#hide\n",
    "fig = px.bar(epidemics.sort_values('mortality',ascending=False),\n",
    "             x=\"mortality\", y=\"epidemic\", color='epidemic', \n",
    "             text='mortality', orientation='h', title='Mortality rate', \n",
    "             range_x=[0,100],\n",
    "             color_discrete_sequence = [e, m, s, c, h])\n",
    "fig.update_traces(textposition='outside')\n",
    "fig.update_layout(uniformtext_minsize=8, uniformtext_mode='hide')\n",
    "fig.write_image('covid-compare-4-3.png')"
   ]
  },
  {
   "cell_type": "code",
   "execution_count": 17,
   "metadata": {
    "papermill": {
     "duration": 0.523445,
     "end_time": "2020-03-25T06:13:55.747408",
     "exception": false,
     "start_time": "2020-03-25T06:13:55.223963",
     "status": "completed"
    },
    "tags": []
   },
   "outputs": [],
   "source": [
    "#hide\n",
    "fig = px.bar(epidemics.sort_values('no_of_countries', ascending=False),\n",
    "             x=\"no_of_countries\", y=\"epidemic\", color='epidemic', \n",
    "             text='no_of_countries', orientation='h', title='No. of Countries', \n",
    "             range_x=[0,200],\n",
    "             color_discrete_sequence = [h, c, s, m, e])\n",
    "fig.update_traces(textposition='outside')\n",
    "fig.update_layout(uniformtext_minsize=8, uniformtext_mode='hide')\n",
    "fig.write_image('covid-compare-4-4.png')"
   ]
  },
  {
   "cell_type": "code",
   "execution_count": 18,
   "metadata": {
    "papermill": {
     "duration": 1.158609,
     "end_time": "2020-03-25T06:13:56.956942",
     "exception": false,
     "start_time": "2020-03-25T06:13:55.798333",
     "status": "completed"
    },
    "tags": []
   },
   "outputs": [],
   "source": [
    "#hide\n",
    "temp = pd.concat([s_dbd, e_dbd, c_dbd], axis=0, sort=True)\n",
    "                \n",
    "fig = px.line(temp, x=\"Date\", y=\"Cases\", color='epidemic', \n",
    "             title='No. of new cases',\n",
    "             color_discrete_sequence = sec)\n",
    "fig.update_layout(xaxis_rangeslider_visible=True)\n",
    "fig.write_image('covid-compare-4-5.png')\n",
    "\n",
    "fig = px.line(temp, x=\"Date\", y=\"Deaths\", color='epidemic', \n",
    "             title='No. of new deaths',\n",
    "             color_discrete_sequence = sec)\n",
    "fig.update_layout(xaxis_rangeslider_visible=True)\n",
    "fig.write_image('covid-compare-4-6.png')"
   ]
  },
  {
   "cell_type": "markdown",
   "metadata": {
    "papermill": {
     "duration": 0.049975,
     "end_time": "2020-03-25T06:13:57.055036",
     "exception": false,
     "start_time": "2020-03-25T06:13:57.005061",
     "status": "completed"
    },
    "tags": []
   },
   "source": [
    "![](covid-compare-4-1.png)\n",
    "![](covid-compare-4-2.png)\n",
    "![](covid-compare-4-3.png)\n",
    "![](covid-compare-4-4.png)\n",
    "![](covid-compare-4-5.png)\n",
    "![](covid-compare-4-6.png)"
   ]
  },
  {
   "cell_type": "markdown",
   "metadata": {
    "papermill": {
     "duration": 0.057582,
     "end_time": "2020-03-25T06:13:57.169487",
     "exception": false,
     "start_time": "2020-03-25T06:13:57.111905",
     "status": "completed"
    },
    "tags": []
   },
   "source": [
    "# In the first N days"
   ]
  },
  {
   "cell_type": "code",
   "execution_count": 19,
   "metadata": {
    "papermill": {
     "duration": 1.538467,
     "end_time": "2020-03-25T06:13:58.770343",
     "exception": false,
     "start_time": "2020-03-25T06:13:57.231876",
     "status": "completed"
    },
    "tags": []
   },
   "outputs": [],
   "source": [
    "#hide\n",
    "fig = px.line(temp, x=\"nth_day\", y=\"Cases\", color='epidemic', \n",
    "             title='Cases', color_discrete_sequence = sec)\n",
    "fig.update_layout(xaxis_rangeslider_visible=True)\n",
    "fig.write_image('covid-compare-5-1.png')\n",
    "\n",
    "fig = px.line(temp, x=\"nth_day\", y=\"Deaths\", color='epidemic', \n",
    "             title='Deaths', color_discrete_sequence = sec)\n",
    "fig.update_layout(xaxis_rangeslider_visible=True)\n",
    "fig.write_image('covid-compare-5-2.png')\n",
    "\n",
    "fig = px.line(temp, x=\"nth_day\", y=\"n_countries\", color='epidemic', \n",
    "             title='No. of Countries', color_discrete_sequence = sec)\n",
    "fig.update_layout(xaxis_rangeslider_visible=True)\n",
    "fig.write_image('covid-compare-5-3.png')"
   ]
  },
  {
   "cell_type": "code",
   "execution_count": 20,
   "metadata": {
    "papermill": {
     "duration": 1.079828,
     "end_time": "2020-03-25T06:13:59.902705",
     "exception": false,
     "start_time": "2020-03-25T06:13:58.822877",
     "status": "completed"
    },
    "tags": []
   },
   "outputs": [],
   "source": [
    "#hide\n",
    "fig = px.scatter(epidemics, x='start_year', y = [1 for i in range(len(epidemics))], \n",
    "                 size=epidemics['confirmed']**0.3, color='epidemic', title='Confirmed Cases',\n",
    "                 color_discrete_sequence = shemc, hover_name='epidemic', height=400,\n",
    "                 text=epidemics['epidemic']+'<br> Cases : '+epidemics['confirmed'].apply(str))\n",
    "fig.update_traces(textposition='bottom center')\n",
    "fig.update_yaxes(showticklabels=False)\n",
    "fig.update_layout(showlegend=False)\n",
    "fig.write_image('covid-compare-5-4.png')\n",
    "\n",
    "fig = px.scatter(epidemics, x='start_year', y = [1 for i in range(len(epidemics))], \n",
    "                 size=epidemics['deaths']**0.5, color='epidemic', title='Deaths',\n",
    "                 color_discrete_sequence = shemc, hover_name='epidemic', height=400,\n",
    "                 text=epidemics['epidemic']+'<br> Deaths : '+epidemics['deaths'].apply(str))\n",
    "fig.update_traces(textposition='bottom center')\n",
    "fig.update_yaxes(showticklabels=False)\n",
    "fig.update_layout(showlegend=False)\n",
    "fig.write_image('covid-compare-5-5.png')"
   ]
  },
  {
   "cell_type": "markdown",
   "metadata": {
    "papermill": {
     "duration": 0.04982,
     "end_time": "2020-03-25T06:14:00.006509",
     "exception": false,
     "start_time": "2020-03-25T06:13:59.956689",
     "status": "completed"
    },
    "tags": []
   },
   "source": [
    "![](covid-compare-5-1.png)\n",
    "![](covid-compare-5-2.png)\n",
    "![](covid-compare-5-3.png)\n",
    "![](covid-compare-5-4.png)\n",
    "![](covid-compare-5-5.png)"
   ]
  },
  {
   "cell_type": "code",
   "execution_count": 21,
   "metadata": {
    "papermill": {
     "duration": 0.071893,
     "end_time": "2020-03-25T06:14:00.124167",
     "exception": false,
     "start_time": "2020-03-25T06:14:00.052274",
     "status": "completed"
    },
    "tags": []
   },
   "outputs": [
    {
     "data": {
      "text/html": [
       "<div>\n",
       "<style scoped>\n",
       "    .dataframe tbody tr th:only-of-type {\n",
       "        vertical-align: middle;\n",
       "    }\n",
       "\n",
       "    .dataframe tbody tr th {\n",
       "        vertical-align: top;\n",
       "    }\n",
       "\n",
       "    .dataframe thead th {\n",
       "        text-align: right;\n",
       "    }\n",
       "</style>\n",
       "<table border=\"1\" class=\"dataframe\">\n",
       "  <thead>\n",
       "    <tr style=\"text-align: right;\">\n",
       "      <th></th>\n",
       "      <th>Country</th>\n",
       "      <th>Cases</th>\n",
       "      <th>Deaths</th>\n",
       "    </tr>\n",
       "  </thead>\n",
       "  <tbody>\n",
       "    <tr>\n",
       "      <th>0</th>\n",
       "      <td>Afghanistan</td>\n",
       "      <td>74</td>\n",
       "      <td>1</td>\n",
       "    </tr>\n",
       "    <tr>\n",
       "      <th>1</th>\n",
       "      <td>Albania</td>\n",
       "      <td>123</td>\n",
       "      <td>5</td>\n",
       "    </tr>\n",
       "    <tr>\n",
       "      <th>2</th>\n",
       "      <td>Algeria</td>\n",
       "      <td>264</td>\n",
       "      <td>19</td>\n",
       "    </tr>\n",
       "    <tr>\n",
       "      <th>3</th>\n",
       "      <td>Andorra</td>\n",
       "      <td>164</td>\n",
       "      <td>1</td>\n",
       "    </tr>\n",
       "    <tr>\n",
       "      <th>4</th>\n",
       "      <td>Angola</td>\n",
       "      <td>3</td>\n",
       "      <td>0</td>\n",
       "    </tr>\n",
       "  </tbody>\n",
       "</table>\n",
       "</div>"
      ],
      "text/plain": [
       "       Country  Cases  Deaths\n",
       "0  Afghanistan     74       1\n",
       "1      Albania    123       5\n",
       "2      Algeria    264      19\n",
       "3      Andorra    164       1\n",
       "4       Angola      3       0"
      ]
     },
     "execution_count": 21,
     "metadata": {},
     "output_type": "execute_result"
    }
   ],
   "source": [
    "#hide\n",
    "c_lat_grp.head()"
   ]
  },
  {
   "cell_type": "code",
   "execution_count": 22,
   "metadata": {
    "papermill": {
     "duration": 0.399424,
     "end_time": "2020-03-25T06:14:00.579197",
     "exception": false,
     "start_time": "2020-03-25T06:14:00.179773",
     "status": "completed"
    },
    "tags": []
   },
   "outputs": [
    {
     "data": {
      "image/png": "[encoded data removed]",
      "text/plain": [
       "<Figure size 1440x576 with 1 Axes>"
      ]
     },
     "metadata": {},
     "output_type": "display_data"
    }
   ],
   "source": [
    "#hide_input\n",
    "temp = covid_19.groupby('Date')['Cases'].sum().reset_index()\n",
    "\n",
    "covid = temp['Cases']\n",
    "sars = [8096 for i in range(len(temp))]\n",
    "ebola = [28646 for i in range(len(temp))]\n",
    "mers = [2494 for i in range(len(temp))]\n",
    "h1n1 = [6724149 for i in range(len(temp))]\n",
    "\n",
    "plt.style.use('seaborn-whitegrid')\n",
    "plt.figure(figsize=(20, 8))\n",
    "ax = plt.plot(temp['Date'], covid, label='COVID-19 (2019-2020)', c='#555555', alpha=0.8)\n",
    "ax = plt.plot(temp['Date'], sars, label='SARS (2003-2004)', c='#E71D36', ls='--', alpha=0.8)\n",
    "ax = plt.plot(temp['Date'], ebola, label='EBOLA (2014-2016)', c='#FF9F1C', ls='--', alpha=0.8)\n",
    "ax = plt.plot(temp['Date'], mers, label='MERS', c='#2EC4B6', ls='--', alpha=0.8)\n",
    "plt.title('Number of Cases')\n",
    "plt.legend()\n",
    "plt.show()"
   ]
  },
  {
   "cell_type": "code",
   "execution_count": 23,
   "metadata": {
    "papermill": {
     "duration": 0.407038,
     "end_time": "2020-03-25T06:14:01.040656",
     "exception": false,
     "start_time": "2020-03-25T06:14:00.633618",
     "status": "completed"
    },
    "tags": []
   },
   "outputs": [
    {
     "data": {
      "image/png": "[encoded data removed]",
      "text/plain": [
       "<Figure size 1440x576 with 1 Axes>"
      ]
     },
     "metadata": {},
     "output_type": "display_data"
    }
   ],
   "source": [
    "#hide_input\n",
    "temp = covid_19.groupby('Date')['Deaths'].sum().reset_index()\n",
    "\n",
    "covid = temp['Deaths']\n",
    "sars = [774 for i in range(len(temp))]\n",
    "ebola = [11323 for i in range(len(temp))]\n",
    "mers = [858 for i in range(len(temp))]\n",
    "h1n1 = [19654 for i in range(len(temp))]\n",
    "\n",
    "plt.figure(figsize=(20, 8))\n",
    "ax = plt.plot(temp['Date'], covid, label='COVID-19 (2019-2020)', c='#555555', alpha=0.8)\n",
    "ax = plt.plot(temp['Date'], sars, label='SARS (2003-2004)', c='#E71D36', ls='--', alpha=0.8)\n",
    "ax = plt.plot(temp['Date'], ebola, label='EBOLA (2014-2016)', c='#FF9F1C', ls='--', alpha=0.8)\n",
    "ax = plt.plot(temp['Date'], mers, label='MERS', c='#2EC4B6', ls='--', alpha=0.8)\n",
    "ax = plt.plot(temp['Date'], h1n1, label='H1N1', c='#2345BA', ls='--', alpha=0.8)\n",
    "plt.title('Number of Deaths')\n",
    "plt.legend()\n",
    "plt.show()"
   ]
  },
  {
   "cell_type": "markdown",
   "metadata": {
    "papermill": {
     "duration": 0.056196,
     "end_time": "2020-03-25T06:14:01.529228",
     "exception": false,
     "start_time": "2020-03-25T06:14:01.473032",
     "status": "completed"
    },
    "tags": []
   },
   "source": [
    "# Related Work"
   ]
  },
  {
   "cell_type": "markdown",
   "metadata": {
    "papermill": {
     "duration": 0.056663,
     "end_time": "2020-03-25T06:14:01.644644",
     "exception": false,
     "start_time": "2020-03-25T06:14:01.587981",
     "status": "completed"
    },
    "tags": []
   },
   "source": [
    "1. [https://www.kaggle.com/imdevskp/covid-19-analysis-viz-prediction-comparisons](https://www.kaggle.com/imdevskp/covid-19-analysis-viz-prediction-comparisons)  \n",
    "2. [https://www.kaggle.com/imdevskp/western-africa-ebola-outbreak-analysis](https://www.kaggle.com/imdevskp/western-africa-ebola-outbreak-analysis)  \n",
    "3. [https://www.kaggle.com/imdevskp/sars-2003-outbreak-analysis](https://www.kaggle.com/imdevskp/sars-2003-outbreak-analysis)"
   ]
  }
 ],
 "metadata": {
  "kernelspec": {
   "display_name": "visualization-curriculum-gF8wUgMm",
   "language": "python",
   "name": "visualization-curriculum-gf8wugmm"
  },
  "language_info": {
   "codemirror_mode": {
    "name": "ipython",
    "version": 3
   },
   "file_extension": ".py",
   "mimetype": "text/x-python",
   "name": "python",
   "nbconvert_exporter": "python",
   "pygments_lexer": "ipython3",
   "version": "3.6.7"
  },
  "papermill": {
   "duration": 33.731568,
   "end_time": "2020-03-25T06:14:01.815905",
   "environment_variables": {},
   "exception": null,
   "input_path": "2020-03-13-COVID19-Comparitive-Analysis.ipynb",
   "output_path": "2020-03-13-COVID19-Comparitive-Analysis.ipynb",
   "parameters": {},
   "start_time": "2020-03-25T06:13:28.084337",
   "version": "2.0.0"
  }
 },
 "nbformat": 4,
 "nbformat_minor": 4
}
