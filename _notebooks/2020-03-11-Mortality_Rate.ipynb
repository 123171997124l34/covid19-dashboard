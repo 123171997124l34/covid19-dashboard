{
 "cells": [
  {
   "cell_type": "markdown",
   "metadata": {
    "colab_type": "text",
    "id": "bMoe_6i9CVfd",
    "papermill": {
     "duration": 0.016363,
     "end_time": "2020-03-16T02:12:29.135018",
     "exception": false,
     "start_time": "2020-03-16T02:12:29.118655",
     "status": "completed"
    },
    "tags": []
   },
   "source": [
    "# Estimating The Mortality Rate For COVID-19\n",
    "> Using Country-Level Covariates To Correct For Testing & Reporting Biases And Estimate a True Mortality Rate.\n",
    "- author: Joseph Richards\n",
    "- image: images/corvid-mortality.png\n",
    "- comments: true\n",
    "- categories: [MCMC, mortality]\n",
    "- permalink: /covid-19-mortality-estimation/\n",
    "- toc: true"
   ]
  },
  {
   "cell_type": "code",
   "execution_count": 1,
   "metadata": {
    "colab": {
     "base_uri": "https://localhost:8080/",
     "height": 358
    },
    "colab_type": "code",
    "id": "XtQpnxQeDuc4",
    "outputId": "fdce59d4-f94b-4f92-e9b1-c749c7512b6f",
    "papermill": {
     "duration": 0.019548,
     "end_time": "2020-03-16T02:12:29.166577",
     "exception": false,
     "start_time": "2020-03-16T02:12:29.147029",
     "status": "completed"
    },
    "tags": []
   },
   "outputs": [],
   "source": [
    "#hide\n",
    "# ! pip install pymc3 arviz xlrd"
   ]
  },
  {
   "cell_type": "code",
   "execution_count": 2,
   "metadata": {
    "colab": {},
    "colab_type": "code",
    "id": "gYLQETHHEsHR",
    "papermill": {
     "duration": 1.597356,
     "end_time": "2020-03-16T02:12:30.775388",
     "exception": false,
     "start_time": "2020-03-16T02:12:29.178032",
     "status": "completed"
    },
    "tags": []
   },
   "outputs": [
    {
     "name": "stderr",
     "output_type": "stream",
     "text": [
      "WARNING (theano.tensor.blas): Using NumPy C-API based implementation for BLAS functions.\n"
     ]
    }
   ],
   "source": [
    "#hide\n",
    "\n",
    "# Setup and imports\n",
    "%matplotlib inline\n",
    "\n",
    "import warnings\n",
    "warnings.simplefilter('ignore')\n",
    "\n",
    "import matplotlib.pyplot as plt\n",
    "import numpy as np\n",
    "import pandas as pd\n",
    "import pymc3 as pm\n",
    "from IPython.display import display, Markdown"
   ]
  },
  {
   "cell_type": "code",
   "execution_count": 3,
   "metadata": {
    "colab": {},
    "colab_type": "code",
    "id": "-SYMy6oJMw9t",
    "papermill": {
     "duration": 0.022033,
     "end_time": "2020-03-16T02:12:30.808826",
     "exception": false,
     "start_time": "2020-03-16T02:12:30.786793",
     "status": "completed"
    },
    "tags": []
   },
   "outputs": [],
   "source": [
    "#hide\n",
    "\n",
    "# constants\n",
    "\n",
    "ignore_countries = [\n",
    "    'Others',\n",
    "    'Cruise Ship'\n",
    "]\n",
    "\n",
    "cpi_country_mapping = {\n",
    "    'United States of America': 'US',\n",
    "    'China': 'Mainland China'\n",
    "}\n",
    "\n",
    "wb_country_mapping = {\n",
    "    'United States': 'US',\n",
    "    'Egypt, Arab Rep.': 'Egypt',\n",
    "    'Hong Kong SAR, China': 'Hong Kong',\n",
    "    'Iran, Islamic Rep.': 'Iran',\n",
    "    'China': 'Mainland China',\n",
    "    'Russian Federation': 'Russia',\n",
    "    'Slovak Republic': 'Slovakia',\n",
    "    'Korea, Rep.': 'Korea, South'\n",
    "}\n",
    "\n",
    "wb_covariates = [\n",
    "    ('SH.XPD.OOPC.CH.ZS',\n",
    "        'healthcare_oop_expenditure'),\n",
    "    ('SH.MED.BEDS.ZS',\n",
    "        'hospital_beds'),\n",
    "    ('HD.HCI.OVRL',\n",
    "        'hci'),\n",
    "    ('SP.POP.65UP.TO.ZS',\n",
    "        'population_perc_over65'),\n",
    "    ('SP.RUR.TOTL.ZS',\n",
    "        'population_perc_rural')\n",
    "]"
   ]
  },
  {
   "cell_type": "code",
   "execution_count": 4,
   "metadata": {
    "colab": {},
    "colab_type": "code",
    "id": "phZcRKGJMzJ3",
    "papermill": {
     "duration": 0.038074,
     "end_time": "2020-03-16T02:12:30.857924",
     "exception": false,
     "start_time": "2020-03-16T02:12:30.819850",
     "status": "completed"
    },
    "tags": []
   },
   "outputs": [],
   "source": [
    "#hide\n",
    "\n",
    "# data loading and manipulation\n",
    "\n",
    "from datetime import datetime\n",
    "import os\n",
    "\n",
    "import numpy as np\n",
    "import pandas as pd\n",
    "\n",
    "\n",
    "def get_all_data():\n",
    "    '''\n",
    "    Main routine that grabs all COVID and covariate data and\n",
    "    returns them as a single dataframe that contains:\n",
    "\n",
    "    * count of cumulative cases and deaths by country (by today's date)\n",
    "    * days since first case for each country\n",
    "    * CPI gov't transparency index\n",
    "    * World Bank data on population, healthcare, etc. by country\n",
    "    '''\n",
    "\n",
    "    all_covid_data = _get_latest_covid_timeseries()\n",
    "\n",
    "    covid_cases_rollup = _rollup_by_country(all_covid_data['Confirmed'])\n",
    "    covid_deaths_rollup = _rollup_by_country(all_covid_data['Deaths'])\n",
    "\n",
    "    todays_date = covid_cases_rollup.columns.max()\n",
    "\n",
    "    # Create DataFrame with today's cumulative case and death count, by country\n",
    "    df_out = pd.DataFrame({'cases': covid_cases_rollup[todays_date],\n",
    "                           'deaths': covid_deaths_rollup[todays_date]})\n",
    "\n",
    "    _clean_country_list(df_out)\n",
    "    _clean_country_list(covid_cases_rollup)\n",
    "\n",
    "    # Add observed death rate:\n",
    "    df_out['death_rate_observed'] = df_out.apply(\n",
    "        lambda row: row['deaths'] / float(row['cases']),\n",
    "        axis=1)\n",
    "\n",
    "    # Add covariate for days since first case\n",
    "    df_out['days_since_first_case'] = _compute_days_since_first_case(\n",
    "        covid_cases_rollup)\n",
    "\n",
    "    # Add CPI covariate:\n",
    "    _add_cpi_data(df_out)\n",
    "\n",
    "    # Add World Bank covariates:\n",
    "    _add_wb_data(df_out)\n",
    "\n",
    "    # Drop any country w/o covariate data:\n",
    "    num_null = df_out.isnull().sum(axis=1)\n",
    "    to_drop_idx = df_out.index[num_null > 1]\n",
    "    print('Dropping %i/%i countries due to lack of data' %\n",
    "          (len(to_drop_idx), len(df_out)))\n",
    "    df_out.drop(to_drop_idx, axis=0, inplace=True)\n",
    "\n",
    "    return df_out, todays_date\n",
    "\n",
    "\n",
    "def _get_latest_covid_timeseries():\n",
    "    ''' Pull latest time-series data from JHU CSSE database '''\n",
    "\n",
    "    repo = 'https://raw.githubusercontent.com/CSSEGISandData/COVID-19/master/'\n",
    "    data_path = 'csse_covid_19_data/csse_covid_19_time_series/'\n",
    "\n",
    "    all_data = {}\n",
    "    for status in ['Confirmed', 'Deaths', 'Recovered']:\n",
    "        file_name = 'time_series_19-covid-%s.csv' % status\n",
    "        all_data[status] = pd.read_csv(\n",
    "            '%s%s%s' % (repo, data_path, file_name))\n",
    "\n",
    "    return all_data\n",
    "\n",
    "\n",
    "def _rollup_by_country(df):\n",
    "    '''\n",
    "    Roll up each raw time-series by country, adding up the cases\n",
    "    across the individual states/provinces within the country\n",
    "\n",
    "    :param df: Pandas DataFrame of raw data from CSSE\n",
    "    :return: DataFrame of country counts\n",
    "    '''\n",
    "    gb = df.groupby('Country/Region')\n",
    "    df_rollup = gb.sum()\n",
    "    df_rollup.drop(['Lat', 'Long'], axis=1, inplace=True, errors='ignore')\n",
    "    \n",
    "    # Drop dates with all 0 count data\n",
    "    df_rollup.drop(df_rollup.columns[df_rollup.sum(axis=0) == 0],\n",
    "                   axis=1,\n",
    "                   inplace=True)\n",
    "\n",
    "    # Convert column strings to dates:\n",
    "    idx_as_dt = [datetime.strptime(x, '%m/%d/%y') for x in df_rollup.columns]\n",
    "    df_rollup.columns = idx_as_dt\n",
    "    return df_rollup\n",
    "\n",
    "\n",
    "def _clean_country_list(df):\n",
    "    ''' Clean up input country list in df '''\n",
    "    # handle recent changes in country names:\n",
    "    country_rename = {\n",
    "        'Hong Kong SAR': 'Hong Kong',\n",
    "        'Taiwan*': 'Taiwan',\n",
    "        'Czechia': 'Czech Republic',\n",
    "        'Brunei': 'Brunei Darussalam',\n",
    "        'Iran (Islamic Republic of)': 'Iran',\n",
    "        'Viet Nam': 'Vietnam',\n",
    "        'Russian Federation': 'Russia',\n",
    "        'Republic of Korea': 'South Korea',\n",
    "        'Republic of Moldova': 'Moldova',\n",
    "        'China': 'Mainland China'\n",
    "    }\n",
    "    df.rename(country_rename, axis=0, inplace=True)\n",
    "    df.drop(ignore_countries, axis=0, inplace=True, errors='ignore')\n",
    "\n",
    "\n",
    "def _compute_days_since_first_case(df_cases):\n",
    "    ''' Compute the country-wise days since first confirmed case\n",
    "\n",
    "    :param df_cases: country-wise time-series of confirmed case counts\n",
    "    :return: Series of country-wise days since first case\n",
    "    '''\n",
    "    date_first_case = df_cases[df_cases > 0].idxmin(axis=1)\n",
    "    days_since_first_case = date_first_case.apply(\n",
    "        lambda x: (df_cases.columns.max() - x).days)\n",
    "    # Add 1 month for China, since outbreak started late 2019:\n",
    "    days_since_first_case.loc['Mainland China'] += 30\n",
    "\n",
    "    return days_since_first_case\n",
    "\n",
    "\n",
    "def _add_cpi_data(df_input):\n",
    "    '''\n",
    "    Add the Government transparency (CPI - corruption perceptions index)\n",
    "    data (by country) as a column in the COVID cases dataframe.\n",
    "\n",
    "    :param df_input: COVID-19 data rolled up country-wise\n",
    "    :return: None, add CPI data to df_input in place\n",
    "    '''\n",
    "    cpi_data = pd.read_excel(\n",
    "        'https://github.com/jwrichar/COVID19-mortality/blob/master/data/CPI2019.xlsx?raw=true',\n",
    "        skiprows=2)\n",
    "    cpi_data.set_index('Country', inplace=True, drop=True)\n",
    "    cpi_data.rename(cpi_country_mapping, axis=0, inplace=True)\n",
    "\n",
    "    # Add CPI score to input df:\n",
    "    df_input['cpi_score_2019'] = cpi_data['CPI score 2019']\n",
    "\n",
    "\n",
    "def _add_wb_data(df_input):\n",
    "    '''\n",
    "    Add the World Bank data covariates as columns in the COVID cases dataframe.\n",
    "\n",
    "    :param df_input: COVID-19 data rolled up country-wise\n",
    "    :return: None, add World Bank data to df_input in place\n",
    "    '''\n",
    "    wb_data = pd.read_csv(\n",
    "        'https://raw.githubusercontent.com/jwrichar/COVID19-mortality/master/data/world_bank_data.csv',\n",
    "        na_values='..')\n",
    "\n",
    "    for (wb_name, var_name) in wb_covariates:\n",
    "        wb_series = wb_data.loc[wb_data['Series Code'] == wb_name]\n",
    "        wb_series.set_index('Country Name', inplace=True, drop=True)\n",
    "        wb_series.rename(wb_country_mapping, axis=0, inplace=True)\n",
    "\n",
    "        # Add WB data:\n",
    "        df_input[var_name] = _get_most_recent_value(wb_series)\n",
    "\n",
    "\n",
    "def _get_most_recent_value(wb_series):\n",
    "    '''\n",
    "    Get most recent non-null value for each country in the World Bank\n",
    "    time-series data\n",
    "    '''\n",
    "    ts_data = wb_series[wb_series.columns[3::]]\n",
    "\n",
    "    def _helper(row):\n",
    "        row_nn = row[row.notnull()]\n",
    "        if len(row_nn):\n",
    "            return row_nn[-1]\n",
    "        else:\n",
    "            return np.nan\n",
    "\n",
    "    return ts_data.apply(_helper, axis=1)\n"
   ]
  },
  {
   "cell_type": "code",
   "execution_count": 5,
   "metadata": {
    "colab": {
     "base_uri": "https://localhost:8080/",
     "height": 33
    },
    "colab_type": "code",
    "id": "AlGjkxH9N4Bt",
    "outputId": "746bd546-5ded-4565-e10e-64aa5af0df0c",
    "papermill": {
     "duration": 2.571911,
     "end_time": "2020-03-16T02:12:33.441122",
     "exception": false,
     "start_time": "2020-03-16T02:12:30.869211",
     "status": "completed"
    },
    "tags": []
   },
   "outputs": [
    {
     "name": "stdout",
     "output_type": "stream",
     "text": [
      "Dropping 23/146 countries due to lack of data\n"
     ]
    }
   ],
   "source": [
    "#hide\n",
    "\n",
    "# Load the data (see source/data.py):\n",
    "df, todays_date = get_all_data()\n",
    "# Impute NA's column-wise:\n",
    "df = df.apply(lambda x: x.fillna(x.mean()),axis=0)"
   ]
  },
  {
   "cell_type": "markdown",
   "metadata": {
    "colab_type": "text",
    "id": "dwPgV5dBO1Ll",
    "papermill": {
     "duration": 0.011757,
     "end_time": "2020-03-16T02:12:33.465397",
     "exception": false,
     "start_time": "2020-03-16T02:12:33.453640",
     "status": "completed"
    },
    "tags": []
   },
   "source": [
    "# Observed mortality rates"
   ]
  },
  {
   "cell_type": "code",
   "execution_count": 6,
   "metadata": {
    "colab": {
     "base_uri": "https://localhost:8080/",
     "height": 618
    },
    "colab_type": "code",
    "id": "afCZhOL-OSOd",
    "outputId": "227444ff-df43-4936-e652-9974a7843a56",
    "papermill": {
     "duration": 0.348792,
     "end_time": "2020-03-16T02:12:33.825612",
     "exception": false,
     "start_time": "2020-03-16T02:12:33.476820",
     "status": "completed"
    },
    "tags": []
   },
   "outputs": [
    {
     "data": {
      "text/markdown": [
       "Data as of 2020-03-15 00:00:00"
      ],
      "text/plain": [
       "<IPython.core.display.Markdown object>"
      ]
     },
     "metadata": {},
     "output_type": "display_data"
    },
    {
     "data": {
      "text/markdown": [
       "Overall reported mortality rate: 3.86%"
      ],
      "text/plain": [
       "<IPython.core.display.Markdown object>"
      ]
     },
     "metadata": {},
     "output_type": "display_data"
    },
    {
     "data": {
      "image/png": "[encoded data removed]",
      "text/plain": [
       "<Figure size 1008x504 with 1 Axes>"
      ]
     },
     "metadata": {
      "needs_background": "light"
     },
     "output_type": "display_data"
    }
   ],
   "source": [
    "#collapse-hide\n",
    "\n",
    "display(Markdown('Data as of %s' % todays_date))\n",
    "\n",
    "reported_mortality_rate = df['deaths'].sum() / df['cases'].sum()\n",
    "display(Markdown('Overall reported mortality rate: %.2f%%' % (100.0 * reported_mortality_rate)))\n",
    "\n",
    "df_highest = df.sort_values('cases', ascending=False).head(15)\n",
    "mortality_rate = pd.Series(\n",
    "    data=(df_highest['deaths']/df_highest['cases']).values,\n",
    "    index=map(lambda x: '%s (%i cases)' % (x, df_highest.loc[x]['cases']),\n",
    "              df_highest.index))\n",
    "ax = mortality_rate.plot.bar(\n",
    "    figsize=(14,7), title='Reported Mortality Rate by Country (countries w/ highest case counts)')\n",
    "ax.axhline(reported_mortality_rate, color='k', ls='--')\n",
    "\n",
    "plt.show()"
   ]
  },
  {
   "cell_type": "markdown",
   "metadata": {
    "colab_type": "text",
    "id": "Z5qTKZtBTTCb",
    "papermill": {
     "duration": 0.014015,
     "end_time": "2020-03-16T02:12:33.853392",
     "exception": false,
     "start_time": "2020-03-16T02:12:33.839377",
     "status": "completed"
    },
    "tags": []
   },
   "source": [
    "# Model"
   ]
  },
  {
   "cell_type": "markdown",
   "metadata": {
    "papermill": {
     "duration": 0.013386,
     "end_time": "2020-03-16T02:12:33.880331",
     "exception": false,
     "start_time": "2020-03-16T02:12:33.866945",
     "status": "completed"
    },
    "tags": []
   },
   "source": [
    "Estimate COVID-19 mortality rate, controling for country factors."
   ]
  },
  {
   "cell_type": "code",
   "execution_count": 7,
   "metadata": {
    "colab": {},
    "colab_type": "code",
    "id": "SZeyDBm3O8g6",
    "papermill": {
     "duration": 0.034359,
     "end_time": "2020-03-16T02:12:33.928211",
     "exception": false,
     "start_time": "2020-03-16T02:12:33.893852",
     "status": "completed"
    },
    "tags": []
   },
   "outputs": [],
   "source": [
    "#hide\n",
    "\n",
    "import numpy as np\n",
    "\n",
    "import pymc3 as pm\n",
    "\n",
    "\n",
    "def initialize_model(df):\n",
    "\n",
    "    # Normalize input covariates in a way that is sensible:\n",
    "\n",
    "    # (1) days since first case: upper\n",
    "    # mu_0 to reflect asymptotic mortality rate months after outbreak\n",
    "    _normalize_col(df, 'days_since_first_case', how='upper')\n",
    "    # (2) CPI score: upper\n",
    "    # mu_0 to reflect scenario in absence of corrupt govts\n",
    "    _normalize_col(df, 'cpi_score_2019', how='upper')\n",
    "    # (3) healthcare OOP spending: mean\n",
    "    # not sure which way this will go\n",
    "    _normalize_col(df, 'healthcare_oop_expenditure', how='mean')\n",
    "    # (4) hospital beds: upper\n",
    "    # more beds, more healthcare and tests\n",
    "    _normalize_col(df, 'hospital_beds', how='mean')\n",
    "    # (5) hci = human capital index: upper\n",
    "    # HCI measures education/health; mu_0 should reflect best scenario\n",
    "    _normalize_col(df, 'hci', how='mean')\n",
    "    # (6) % over 65: mean\n",
    "    # mu_0 to reflect average world demographic\n",
    "    _normalize_col(df, 'population_perc_over65', how='mean')\n",
    "    # (7) % rural: mean\n",
    "    # mu_0 to reflect average world demographic\n",
    "    _normalize_col(df, 'population_perc_rural', how='mean')\n",
    "\n",
    "    n = len(df)\n",
    "\n",
    "    covid_mortality_model = pm.Model()\n",
    "\n",
    "    with covid_mortality_model:\n",
    "\n",
    "        # Priors:\n",
    "        mu_0 = pm.Beta('mu_0', alpha=0.3, beta=10)\n",
    "        sig_0 = pm.Uniform('sig_0', lower=0.0, upper=mu_0 * (1 - mu_0))\n",
    "        beta = pm.Normal('beta', mu=0, sigma=5, shape=7)\n",
    "        sigma = pm.HalfNormal('sigma', sigma=5)\n",
    "\n",
    "        # Model mu from country-wise covariates:\n",
    "        # Apply logit transformation so logistic regression performed\n",
    "        mu_0_logit = np.log(mu_0 / (1 - mu_0))\n",
    "        mu_est = mu_0_logit + \\\n",
    "            beta[0] * df['days_since_first_case_normalized'].values + \\\n",
    "            beta[1] * df['cpi_score_2019_normalized'].values + \\\n",
    "            beta[2] * df['healthcare_oop_expenditure_normalized'].values + \\\n",
    "            beta[3] * df['hospital_beds_normalized'].values + \\\n",
    "            beta[4] * df['hci_normalized'].values + \\\n",
    "            beta[5] * df['population_perc_over65_normalized'].values + \\\n",
    "            beta[6] * df['population_perc_rural_normalized'].values\n",
    "        mu_model_logit = pm.Normal('mu_model_logit',\n",
    "                                   mu=mu_est,\n",
    "                                   sigma=sigma,\n",
    "                                   shape=n)\n",
    "        # Transform back to probability space:\n",
    "        mu_model = np.exp(mu_model_logit) / (np.exp(mu_model_logit) + 1)\n",
    "\n",
    "        # tau_i, mortality rate for each country\n",
    "        # Parametrize with (mu, sigma)\n",
    "        # instead of (alpha, beta) to ease interpretability.\n",
    "        tau = pm.Beta('tau', mu=mu_model, sigma=sig_0, shape=n)\n",
    "        # tau = pm.Beta('tau', mu=mu_0, sigma=sig_0, shape=n)\n",
    "\n",
    "        # Binomial likelihood:\n",
    "        d_obs = pm.Binomial('d_obs',\n",
    "                            n=df['cases'].values,\n",
    "                            p=tau,\n",
    "                            observed=df['deaths'].values)\n",
    "\n",
    "    return covid_mortality_model\n",
    "\n",
    "\n",
    "def _normalize_col(df, colname, how='mean'):\n",
    "    '''\n",
    "    Normalize an input column in one of 3 ways:\n",
    "\n",
    "    * how=mean: unit normal N(0,1)\n",
    "    * how=upper: normalize to [-1, 0] with highest value set to 0\n",
    "    * how=lower: normalize to [0, 1] with lowest value set to 0\n",
    "\n",
    "    Returns df modified in place with extra column added.\n",
    "    '''\n",
    "    colname_new = '%s_normalized' % colname\n",
    "    if how == 'mean':\n",
    "        mu = df[colname].mean()\n",
    "        sig = df[colname].std()\n",
    "        df[colname_new] = (df[colname] - mu) / sig\n",
    "    elif how == 'upper':\n",
    "        maxval = df[colname].max()\n",
    "        minval = df[colname].min()\n",
    "        df[colname_new] = (df[colname] - maxval) / (maxval - minval)\n",
    "    elif how == 'lower':\n",
    "        maxval = df[colname].max()\n",
    "        minval = df[colname].min()\n",
    "        df[colname_new] = (df[colname] - minval) / (maxval - minval)"
   ]
  },
  {
   "cell_type": "code",
   "execution_count": 8,
   "metadata": {
    "colab": {
     "base_uri": "https://localhost:8080/",
     "height": 228
    },
    "colab_type": "code",
    "id": "W8t6hN76TiCE",
    "outputId": "83c6739f-2868-4b53-b36e-78283e58ea14",
    "papermill": {
     "duration": 150.203112,
     "end_time": "2020-03-16T02:15:04.145286",
     "exception": false,
     "start_time": "2020-03-16T02:12:33.942174",
     "status": "completed"
    },
    "tags": []
   },
   "outputs": [
    {
     "name": "stderr",
     "output_type": "stream",
     "text": [
      "Only 300 samples in chain.\n"
     ]
    },
    {
     "name": "stderr",
     "output_type": "stream",
     "text": [
      "Auto-assigning NUTS sampler...\n"
     ]
    },
    {
     "name": "stderr",
     "output_type": "stream",
     "text": [
      "Initializing NUTS using jitter+adapt_diag...\n"
     ]
    },
    {
     "name": "stderr",
     "output_type": "stream",
     "text": [
      "Multiprocess sampling (3 chains in 2 jobs)\n"
     ]
    },
    {
     "name": "stderr",
     "output_type": "stream",
     "text": [
      "NUTS: [tau, mu_model_logit, sigma, beta, sig_0, mu_0]\n"
     ]
    },
    {
     "name": "stderr",
     "output_type": "stream",
     "text": [
      "\r",
      "Sampling 3 chains, 0 divergences:   0%|          | 0/1200 [00:00<?, ?draws/s]"
     ]
    },
    {
     "name": "stderr",
     "output_type": "stream",
     "text": [
      "\r",
      "Sampling 3 chains, 0 divergences:   1%|          | 10/1200 [00:00<00:12, 97.32draws/s]"
     ]
    },
    {
     "name": "stderr",
     "output_type": "stream",
     "text": [
      "\r",
      "Sampling 3 chains, 0 divergences:   1%|          | 13/1200 [00:00<00:32, 36.29draws/s]"
     ]
    },
    {
     "name": "stderr",
     "output_type": "stream",
     "text": [
      "\r",
      "Sampling 3 chains, 0 divergences:   1%|▏         | 17/1200 [00:00<00:35, 32.91draws/s]"
     ]
    },
    {
     "name": "stderr",
     "output_type": "stream",
     "text": [
      "\r",
      "Sampling 3 chains, 0 divergences:   2%|▏         | 21/1200 [00:00<00:36, 31.91draws/s]"
     ]
    },
    {
     "name": "stderr",
     "output_type": "stream",
     "text": [
      "\r",
      "Sampling 3 chains, 0 divergences:   2%|▏         | 24/1200 [00:00<00:44, 26.65draws/s]"
     ]
    },
    {
     "name": "stderr",
     "output_type": "stream",
     "text": [
      "\r",
      "Sampling 3 chains, 0 divergences:   2%|▏         | 29/1200 [00:00<00:43, 27.19draws/s]"
     ]
    },
    {
     "name": "stderr",
     "output_type": "stream",
     "text": [
      "\r",
      "Sampling 3 chains, 0 divergences:   3%|▎         | 32/1200 [00:01<00:43, 26.95draws/s]"
     ]
    },
    {
     "name": "stderr",
     "output_type": "stream",
     "text": [
      "\r",
      "Sampling 3 chains, 0 divergences:   3%|▎         | 35/1200 [00:01<00:45, 25.52draws/s]"
     ]
    },
    {
     "name": "stderr",
     "output_type": "stream",
     "text": [
      "\r",
      "Sampling 3 chains, 0 divergences:   3%|▎         | 39/1200 [00:01<00:41, 28.15draws/s]"
     ]
    },
    {
     "name": "stderr",
     "output_type": "stream",
     "text": [
      "\r",
      "Sampling 3 chains, 0 divergences:   4%|▎         | 42/1200 [00:01<00:44, 25.98draws/s]"
     ]
    },
    {
     "name": "stderr",
     "output_type": "stream",
     "text": [
      "\r",
      "Sampling 3 chains, 0 divergences:   4%|▍         | 45/1200 [00:01<00:42, 26.90draws/s]"
     ]
    },
    {
     "name": "stderr",
     "output_type": "stream",
     "text": [
      "\r",
      "Sampling 3 chains, 0 divergences:   4%|▍         | 49/1200 [00:01<00:40, 28.56draws/s]"
     ]
    },
    {
     "name": "stderr",
     "output_type": "stream",
     "text": [
      "\r",
      "Sampling 3 chains, 0 divergences:   4%|▍         | 53/1200 [00:01<00:36, 31.02draws/s]"
     ]
    },
    {
     "name": "stderr",
     "output_type": "stream",
     "text": [
      "\r",
      "Sampling 3 chains, 0 divergences:   5%|▍         | 57/1200 [00:01<00:36, 31.25draws/s]"
     ]
    },
    {
     "name": "stderr",
     "output_type": "stream",
     "text": [
      "\r",
      "Sampling 3 chains, 0 divergences:   5%|▌         | 61/1200 [00:02<00:39, 28.54draws/s]"
     ]
    },
    {
     "name": "stderr",
     "output_type": "stream",
     "text": [
      "\r",
      "Sampling 3 chains, 0 divergences:   5%|▌         | 64/1200 [00:02<00:41, 27.55draws/s]"
     ]
    },
    {
     "name": "stderr",
     "output_type": "stream",
     "text": [
      "\r",
      "Sampling 3 chains, 0 divergences:   6%|▌         | 67/1200 [00:02<00:45, 24.91draws/s]"
     ]
    },
    {
     "name": "stderr",
     "output_type": "stream",
     "text": [
      "\r",
      "Sampling 3 chains, 0 divergences:   6%|▌         | 70/1200 [00:02<00:47, 23.89draws/s]"
     ]
    },
    {
     "name": "stderr",
     "output_type": "stream",
     "text": [
      "\r",
      "Sampling 3 chains, 0 divergences:   6%|▌         | 73/1200 [00:02<00:50, 22.42draws/s]"
     ]
    },
    {
     "name": "stderr",
     "output_type": "stream",
     "text": [
      "\r",
      "Sampling 3 chains, 0 divergences:   6%|▋         | 77/1200 [00:02<00:45, 24.81draws/s]"
     ]
    },
    {
     "name": "stderr",
     "output_type": "stream",
     "text": [
      "\r",
      "Sampling 3 chains, 0 divergences:   7%|▋         | 81/1200 [00:02<00:43, 25.96draws/s]"
     ]
    },
    {
     "name": "stderr",
     "output_type": "stream",
     "text": [
      "\r",
      "Sampling 3 chains, 0 divergences:   7%|▋         | 84/1200 [00:02<00:47, 23.67draws/s]"
     ]
    },
    {
     "name": "stderr",
     "output_type": "stream",
     "text": [
      "\r",
      "Sampling 3 chains, 0 divergences:   7%|▋         | 88/1200 [00:03<00:44, 25.04draws/s]"
     ]
    },
    {
     "name": "stderr",
     "output_type": "stream",
     "text": [
      "\r",
      "Sampling 3 chains, 0 divergences:   8%|▊         | 92/1200 [00:03<00:43, 25.25draws/s]"
     ]
    },
    {
     "name": "stderr",
     "output_type": "stream",
     "text": [
      "\r",
      "Sampling 3 chains, 0 divergences:   8%|▊         | 95/1200 [00:03<00:42, 26.16draws/s]"
     ]
    },
    {
     "name": "stderr",
     "output_type": "stream",
     "text": [
      "\r",
      "Sampling 3 chains, 0 divergences:   8%|▊         | 98/1200 [00:03<00:41, 26.77draws/s]"
     ]
    },
    {
     "name": "stderr",
     "output_type": "stream",
     "text": [
      "\r",
      "Sampling 3 chains, 0 divergences:   8%|▊         | 101/1200 [00:03<00:41, 26.61draws/s]"
     ]
    },
    {
     "name": "stderr",
     "output_type": "stream",
     "text": [
      "\r",
      "Sampling 3 chains, 0 divergences:   9%|▊         | 104/1200 [00:03<00:42, 26.06draws/s]"
     ]
    },
    {
     "name": "stderr",
     "output_type": "stream",
     "text": [
      "\r",
      "Sampling 3 chains, 0 divergences:   9%|▉         | 108/1200 [00:03<00:38, 28.46draws/s]"
     ]
    },
    {
     "name": "stderr",
     "output_type": "stream",
     "text": [
      "\r",
      "Sampling 3 chains, 0 divergences:   9%|▉         | 111/1200 [00:03<00:41, 26.29draws/s]"
     ]
    },
    {
     "name": "stderr",
     "output_type": "stream",
     "text": [
      "\r",
      "Sampling 3 chains, 0 divergences:  10%|▉         | 115/1200 [00:04<00:41, 26.35draws/s]"
     ]
    },
    {
     "name": "stderr",
     "output_type": "stream",
     "text": [
      "\r",
      "Sampling 3 chains, 0 divergences:  10%|▉         | 118/1200 [00:04<00:43, 24.82draws/s]"
     ]
    },
    {
     "name": "stderr",
     "output_type": "stream",
     "text": [
      "\r",
      "Sampling 3 chains, 0 divergences:  10%|█         | 123/1200 [00:04<00:36, 29.12draws/s]"
     ]
    },
    {
     "name": "stderr",
     "output_type": "stream",
     "text": [
      "\r",
      "Sampling 3 chains, 0 divergences:  11%|█         | 127/1200 [00:04<00:38, 27.87draws/s]"
     ]
    },
    {
     "name": "stderr",
     "output_type": "stream",
     "text": [
      "\r",
      "Sampling 3 chains, 0 divergences:  11%|█         | 132/1200 [00:04<00:35, 30.41draws/s]"
     ]
    },
    {
     "name": "stderr",
     "output_type": "stream",
     "text": [
      "\r",
      "Sampling 3 chains, 0 divergences:  11%|█▏        | 136/1200 [00:04<00:39, 26.93draws/s]"
     ]
    },
    {
     "name": "stderr",
     "output_type": "stream",
     "text": [
      "\r",
      "Sampling 3 chains, 0 divergences:  12%|█▏        | 139/1200 [00:05<00:44, 23.95draws/s]"
     ]
    },
    {
     "name": "stderr",
     "output_type": "stream",
     "text": [
      "\r",
      "Sampling 3 chains, 0 divergences:  12%|█▏        | 144/1200 [00:05<00:38, 27.12draws/s]"
     ]
    },
    {
     "name": "stderr",
     "output_type": "stream",
     "text": [
      "\r",
      "Sampling 3 chains, 0 divergences:  12%|█▏        | 148/1200 [00:05<00:36, 29.20draws/s]"
     ]
    },
    {
     "name": "stderr",
     "output_type": "stream",
     "text": [
      "\r",
      "Sampling 3 chains, 0 divergences:  13%|█▎        | 152/1200 [00:05<00:35, 29.51draws/s]"
     ]
    },
    {
     "name": "stderr",
     "output_type": "stream",
     "text": [
      "\r",
      "Sampling 3 chains, 0 divergences:  13%|█▎        | 156/1200 [00:05<00:36, 28.46draws/s]"
     ]
    },
    {
     "name": "stderr",
     "output_type": "stream",
     "text": [
      "\r",
      "Sampling 3 chains, 0 divergences:  13%|█▎        | 160/1200 [00:05<00:35, 28.91draws/s]"
     ]
    },
    {
     "name": "stderr",
     "output_type": "stream",
     "text": [
      "\r",
      "Sampling 3 chains, 0 divergences:  14%|█▎        | 163/1200 [00:05<00:41, 25.13draws/s]"
     ]
    },
    {
     "name": "stderr",
     "output_type": "stream",
     "text": [
      "\r",
      "Sampling 3 chains, 0 divergences:  14%|█▍        | 166/1200 [00:05<00:41, 24.69draws/s]"
     ]
    },
    {
     "name": "stderr",
     "output_type": "stream",
     "text": [
      "\r",
      "Sampling 3 chains, 0 divergences:  14%|█▍        | 170/1200 [00:06<00:42, 24.49draws/s]"
     ]
    },
    {
     "name": "stderr",
     "output_type": "stream",
     "text": [
      "\r",
      "Sampling 3 chains, 0 divergences:  14%|█▍        | 174/1200 [00:06<00:37, 27.53draws/s]"
     ]
    },
    {
     "name": "stderr",
     "output_type": "stream",
     "text": [
      "\r",
      "Sampling 3 chains, 0 divergences:  15%|█▍        | 178/1200 [00:06<00:37, 27.49draws/s]"
     ]
    },
    {
     "name": "stderr",
     "output_type": "stream",
     "text": [
      "\r",
      "Sampling 3 chains, 0 divergences:  15%|█▌        | 182/1200 [00:06<00:34, 29.87draws/s]"
     ]
    },
    {
     "name": "stderr",
     "output_type": "stream",
     "text": [
      "\r",
      "Sampling 3 chains, 0 divergences:  16%|█▌        | 186/1200 [00:06<00:33, 29.86draws/s]"
     ]
    },
    {
     "name": "stderr",
     "output_type": "stream",
     "text": [
      "\r",
      "Sampling 3 chains, 0 divergences:  16%|█▌        | 190/1200 [00:06<00:37, 27.17draws/s]"
     ]
    },
    {
     "name": "stderr",
     "output_type": "stream",
     "text": [
      "\r",
      "Sampling 3 chains, 0 divergences:  16%|█▌        | 194/1200 [00:06<00:34, 29.58draws/s]"
     ]
    },
    {
     "name": "stderr",
     "output_type": "stream",
     "text": [
      "\r",
      "Sampling 3 chains, 0 divergences:  16%|█▋        | 198/1200 [00:07<00:37, 26.53draws/s]"
     ]
    },
    {
     "name": "stderr",
     "output_type": "stream",
     "text": [
      "\r",
      "Sampling 3 chains, 0 divergences:  17%|█▋        | 201/1200 [00:07<00:38, 25.81draws/s]"
     ]
    },
    {
     "name": "stderr",
     "output_type": "stream",
     "text": [
      "\r",
      "Sampling 3 chains, 1 divergences:  17%|█▋        | 202/1200 [00:07<00:38, 25.81draws/s]"
     ]
    },
    {
     "name": "stderr",
     "output_type": "stream",
     "text": [
      "\r",
      "Sampling 3 chains, 1 divergences:  17%|█▋        | 205/1200 [00:07<00:36, 27.40draws/s]"
     ]
    },
    {
     "name": "stderr",
     "output_type": "stream",
     "text": [
      "\r",
      "Sampling 3 chains, 1 divergences:  17%|█▋        | 208/1200 [00:07<00:43, 22.64draws/s]"
     ]
    },
    {
     "name": "stderr",
     "output_type": "stream",
     "text": [
      "\r",
      "Sampling 3 chains, 1 divergences:  18%|█▊        | 211/1200 [00:07<00:49, 19.81draws/s]"
     ]
    },
    {
     "name": "stderr",
     "output_type": "stream",
     "text": [
      "\r",
      "Sampling 3 chains, 1 divergences:  18%|█▊        | 214/1200 [00:07<00:54, 18.06draws/s]"
     ]
    },
    {
     "name": "stderr",
     "output_type": "stream",
     "text": [
      "\r",
      "Sampling 3 chains, 1 divergences:  18%|█▊        | 216/1200 [00:08<00:53, 18.29draws/s]"
     ]
    },
    {
     "name": "stderr",
     "output_type": "stream",
     "text": [
      "\r",
      "Sampling 3 chains, 2 divergences:  18%|█▊        | 216/1200 [00:08<00:53, 18.29draws/s]"
     ]
    },
    {
     "name": "stderr",
     "output_type": "stream",
     "text": [
      "\r",
      "Sampling 3 chains, 2 divergences:  18%|█▊        | 218/1200 [00:08<00:53, 18.32draws/s]"
     ]
    },
    {
     "name": "stderr",
     "output_type": "stream",
     "text": [
      "\r",
      "Sampling 3 chains, 2 divergences:  18%|█▊        | 220/1200 [00:08<00:52, 18.50draws/s]"
     ]
    },
    {
     "name": "stderr",
     "output_type": "stream",
     "text": [
      "\r",
      "Sampling 3 chains, 2 divergences:  19%|█▊        | 223/1200 [00:08<00:49, 19.58draws/s]"
     ]
    },
    {
     "name": "stderr",
     "output_type": "stream",
     "text": [
      "\r",
      "Sampling 3 chains, 3 divergences:  19%|█▊        | 223/1200 [00:08<00:49, 19.58draws/s]"
     ]
    },
    {
     "name": "stderr",
     "output_type": "stream",
     "text": [
      "\r",
      "Sampling 3 chains, 4 divergences:  19%|█▉        | 225/1200 [00:08<00:49, 19.58draws/s]"
     ]
    },
    {
     "name": "stderr",
     "output_type": "stream",
     "text": [
      "\r",
      "Sampling 3 chains, 4 divergences:  19%|█▉        | 226/1200 [00:08<00:53, 18.38draws/s]"
     ]
    },
    {
     "name": "stderr",
     "output_type": "stream",
     "text": [
      "\r",
      "Sampling 3 chains, 5 divergences:  19%|█▉        | 226/1200 [00:08<00:53, 18.38draws/s]"
     ]
    },
    {
     "name": "stderr",
     "output_type": "stream",
     "text": [
      "\r",
      "Sampling 3 chains, 6 divergences:  19%|█▉        | 227/1200 [00:08<00:52, 18.38draws/s]"
     ]
    },
    {
     "name": "stderr",
     "output_type": "stream",
     "text": [
      "\r",
      "Sampling 3 chains, 6 divergences:  19%|█▉        | 229/1200 [00:08<00:51, 18.68draws/s]"
     ]
    },
    {
     "name": "stderr",
     "output_type": "stream",
     "text": [
      "\r",
      "Sampling 3 chains, 6 divergences:  19%|█▉        | 232/1200 [00:08<00:50, 19.35draws/s]"
     ]
    },
    {
     "name": "stderr",
     "output_type": "stream",
     "text": [
      "\r",
      "Sampling 3 chains, 7 divergences:  19%|█▉        | 232/1200 [00:08<00:50, 19.35draws/s]"
     ]
    },
    {
     "name": "stderr",
     "output_type": "stream",
     "text": [
      "\r",
      "Sampling 3 chains, 7 divergences:  20%|█▉        | 234/1200 [00:08<00:50, 19.18draws/s]"
     ]
    },
    {
     "name": "stderr",
     "output_type": "stream",
     "text": [
      "\r",
      "Sampling 3 chains, 8 divergences:  20%|█▉        | 235/1200 [00:09<00:50, 19.18draws/s]"
     ]
    },
    {
     "name": "stderr",
     "output_type": "stream",
     "text": [
      "\r",
      "Sampling 3 chains, 8 divergences:  20%|█▉        | 236/1200 [00:09<00:59, 16.11draws/s]"
     ]
    },
    {
     "name": "stderr",
     "output_type": "stream",
     "text": [
      "\r",
      "Sampling 3 chains, 8 divergences:  20%|█▉        | 239/1200 [00:09<01:09, 13.86draws/s]"
     ]
    },
    {
     "name": "stderr",
     "output_type": "stream",
     "text": [
      "\r",
      "Sampling 3 chains, 8 divergences:  20%|██        | 242/1200 [00:09<00:58, 16.44draws/s]"
     ]
    },
    {
     "name": "stderr",
     "output_type": "stream",
     "text": [
      "\r",
      "Sampling 3 chains, 8 divergences:  20%|██        | 244/1200 [00:09<01:06, 14.48draws/s]"
     ]
    },
    {
     "name": "stderr",
     "output_type": "stream",
     "text": [
      "\r",
      "Sampling 3 chains, 9 divergences:  20%|██        | 244/1200 [00:09<01:06, 14.48draws/s]"
     ]
    },
    {
     "name": "stderr",
     "output_type": "stream",
     "text": [
      "\r",
      "Sampling 3 chains, 10 divergences:  20%|██        | 245/1200 [00:09<01:05, 14.48draws/s]"
     ]
    },
    {
     "name": "stderr",
     "output_type": "stream",
     "text": [
      "\r",
      "Sampling 3 chains, 10 divergences:  21%|██        | 247/1200 [00:09<00:58, 16.22draws/s]"
     ]
    },
    {
     "name": "stderr",
     "output_type": "stream",
     "text": [
      "\r",
      "Sampling 3 chains, 10 divergences:  21%|██        | 249/1200 [00:10<01:09, 13.66draws/s]"
     ]
    },
    {
     "name": "stderr",
     "output_type": "stream",
     "text": [
      "\r",
      "Sampling 3 chains, 11 divergences:  21%|██        | 249/1200 [00:10<01:09, 13.66draws/s]"
     ]
    },
    {
     "name": "stderr",
     "output_type": "stream",
     "text": [
      "\r",
      "Sampling 3 chains, 11 divergences:  21%|██        | 251/1200 [00:10<01:09, 13.69draws/s]"
     ]
    },
    {
     "name": "stderr",
     "output_type": "stream",
     "text": [
      "\r",
      "Sampling 3 chains, 12 divergences:  21%|██        | 253/1200 [00:10<01:09, 13.69draws/s]"
     ]
    },
    {
     "name": "stderr",
     "output_type": "stream",
     "text": [
      "\r",
      "Sampling 3 chains, 12 divergences:  21%|██        | 254/1200 [00:10<00:59, 15.97draws/s]"
     ]
    },
    {
     "name": "stderr",
     "output_type": "stream",
     "text": [
      "\r",
      "Sampling 3 chains, 13 divergences:  21%|██        | 254/1200 [00:10<00:59, 15.97draws/s]"
     ]
    },
    {
     "name": "stderr",
     "output_type": "stream",
     "text": [
      "\r",
      "Sampling 3 chains, 13 divergences:  21%|██▏       | 257/1200 [00:10<00:53, 17.70draws/s]"
     ]
    },
    {
     "name": "stderr",
     "output_type": "stream",
     "text": [
      "\r",
      "Sampling 3 chains, 14 divergences:  21%|██▏       | 257/1200 [00:10<00:53, 17.70draws/s]"
     ]
    },
    {
     "name": "stderr",
     "output_type": "stream",
     "text": [
      "\r",
      "Sampling 3 chains, 15 divergences:  22%|██▏       | 259/1200 [00:10<00:53, 17.70draws/s]"
     ]
    },
    {
     "name": "stderr",
     "output_type": "stream",
     "text": [
      "\r",
      "Sampling 3 chains, 15 divergences:  22%|██▏       | 260/1200 [00:10<00:54, 17.22draws/s]"
     ]
    },
    {
     "name": "stderr",
     "output_type": "stream",
     "text": [
      "\r",
      "Sampling 3 chains, 15 divergences:  22%|██▏       | 262/1200 [00:10<00:52, 17.96draws/s]"
     ]
    },
    {
     "name": "stderr",
     "output_type": "stream",
     "text": [
      "\r",
      "Sampling 3 chains, 16 divergences:  22%|██▏       | 263/1200 [00:10<00:52, 17.96draws/s]"
     ]
    },
    {
     "name": "stderr",
     "output_type": "stream",
     "text": [
      "\r",
      "Sampling 3 chains, 16 divergences:  22%|██▏       | 264/1200 [00:10<00:53, 17.65draws/s]"
     ]
    },
    {
     "name": "stderr",
     "output_type": "stream",
     "text": [
      "\r",
      "Sampling 3 chains, 17 divergences:  22%|██▏       | 264/1200 [00:10<00:53, 17.65draws/s]"
     ]
    },
    {
     "name": "stderr",
     "output_type": "stream",
     "text": [
      "\r",
      "Sampling 3 chains, 17 divergences:  22%|██▏       | 266/1200 [00:10<00:54, 17.13draws/s]"
     ]
    },
    {
     "name": "stderr",
     "output_type": "stream",
     "text": [
      "\r",
      "Sampling 3 chains, 18 divergences:  22%|██▏       | 267/1200 [00:10<00:54, 17.13draws/s]"
     ]
    },
    {
     "name": "stderr",
     "output_type": "stream",
     "text": [
      "\r",
      "Sampling 3 chains, 18 divergences:  22%|██▏       | 269/1200 [00:11<00:50, 18.50draws/s]"
     ]
    },
    {
     "name": "stderr",
     "output_type": "stream",
     "text": [
      "\r",
      "Sampling 3 chains, 19 divergences:  22%|██▎       | 270/1200 [00:11<00:50, 18.50draws/s]"
     ]
    },
    {
     "name": "stderr",
     "output_type": "stream",
     "text": [
      "\r",
      "Sampling 3 chains, 20 divergences:  23%|██▎       | 271/1200 [00:11<00:50, 18.50draws/s]"
     ]
    },
    {
     "name": "stderr",
     "output_type": "stream",
     "text": [
      "\r",
      "Sampling 3 chains, 20 divergences:  23%|██▎       | 272/1200 [00:11<00:48, 19.30draws/s]"
     ]
    },
    {
     "name": "stderr",
     "output_type": "stream",
     "text": [
      "\r",
      "Sampling 3 chains, 21 divergences:  23%|██▎       | 274/1200 [00:11<00:47, 19.30draws/s]"
     ]
    },
    {
     "name": "stderr",
     "output_type": "stream",
     "text": [
      "\r",
      "Sampling 3 chains, 21 divergences:  23%|██▎       | 275/1200 [00:11<00:47, 19.67draws/s]"
     ]
    },
    {
     "name": "stderr",
     "output_type": "stream",
     "text": [
      "\r",
      "Sampling 3 chains, 22 divergences:  23%|██▎       | 277/1200 [00:11<00:46, 19.67draws/s]"
     ]
    },
    {
     "name": "stderr",
     "output_type": "stream",
     "text": [
      "\r",
      "Sampling 3 chains, 22 divergences:  23%|██▎       | 278/1200 [00:11<00:49, 18.78draws/s]"
     ]
    },
    {
     "name": "stderr",
     "output_type": "stream",
     "text": [
      "\r",
      "Sampling 3 chains, 22 divergences:  23%|██▎       | 280/1200 [00:11<00:48, 18.80draws/s]"
     ]
    },
    {
     "name": "stderr",
     "output_type": "stream",
     "text": [
      "\r",
      "Sampling 3 chains, 23 divergences:  23%|██▎       | 281/1200 [00:11<00:48, 18.80draws/s]"
     ]
    },
    {
     "name": "stderr",
     "output_type": "stream",
     "text": [
      "\r",
      "Sampling 3 chains, 23 divergences:  24%|██▎       | 282/1200 [00:11<00:55, 16.59draws/s]"
     ]
    },
    {
     "name": "stderr",
     "output_type": "stream",
     "text": [
      "\r",
      "Sampling 3 chains, 24 divergences:  24%|██▎       | 283/1200 [00:11<00:55, 16.59draws/s]"
     ]
    },
    {
     "name": "stderr",
     "output_type": "stream",
     "text": [
      "\r",
      "Sampling 3 chains, 24 divergences:  24%|██▍       | 285/1200 [00:11<00:50, 17.95draws/s]"
     ]
    },
    {
     "name": "stderr",
     "output_type": "stream",
     "text": [
      "\r",
      "Sampling 3 chains, 24 divergences:  24%|██▍       | 287/1200 [00:12<00:51, 17.65draws/s]"
     ]
    },
    {
     "name": "stderr",
     "output_type": "stream",
     "text": [
      "\r",
      "Sampling 3 chains, 25 divergences:  24%|██▍       | 287/1200 [00:12<00:51, 17.65draws/s]"
     ]
    },
    {
     "name": "stderr",
     "output_type": "stream",
     "text": [
      "\r",
      "Sampling 3 chains, 26 divergences:  24%|██▍       | 289/1200 [00:12<00:51, 17.65draws/s]"
     ]
    },
    {
     "name": "stderr",
     "output_type": "stream",
     "text": [
      "\r",
      "Sampling 3 chains, 26 divergences:  24%|██▍       | 290/1200 [00:12<00:50, 17.99draws/s]"
     ]
    },
    {
     "name": "stderr",
     "output_type": "stream",
     "text": [
      "\r",
      "Sampling 3 chains, 27 divergences:  24%|██▍       | 290/1200 [00:12<00:50, 17.99draws/s]"
     ]
    },
    {
     "name": "stderr",
     "output_type": "stream",
     "text": [
      "\r",
      "Sampling 3 chains, 27 divergences:  24%|██▍       | 293/1200 [00:12<00:45, 19.90draws/s]"
     ]
    },
    {
     "name": "stderr",
     "output_type": "stream",
     "text": [
      "\r",
      "Sampling 3 chains, 28 divergences:  24%|██▍       | 293/1200 [00:12<00:45, 19.90draws/s]"
     ]
    },
    {
     "name": "stderr",
     "output_type": "stream",
     "text": [
      "\r",
      "Sampling 3 chains, 29 divergences:  24%|██▍       | 294/1200 [00:12<00:45, 19.90draws/s]"
     ]
    },
    {
     "name": "stderr",
     "output_type": "stream",
     "text": [
      "\r",
      "Sampling 3 chains, 30 divergences:  25%|██▍       | 295/1200 [00:12<00:45, 19.90draws/s]"
     ]
    },
    {
     "name": "stderr",
     "output_type": "stream",
     "text": [
      "\r",
      "Sampling 3 chains, 30 divergences:  25%|██▍       | 297/1200 [00:12<00:38, 23.38draws/s]"
     ]
    },
    {
     "name": "stderr",
     "output_type": "stream",
     "text": [
      "\r",
      "Sampling 3 chains, 31 divergences:  25%|██▍       | 297/1200 [00:12<00:38, 23.38draws/s]"
     ]
    },
    {
     "name": "stderr",
     "output_type": "stream",
     "text": [
      "\r",
      "Sampling 3 chains, 32 divergences:  25%|██▍       | 298/1200 [00:12<00:38, 23.38draws/s]"
     ]
    },
    {
     "name": "stderr",
     "output_type": "stream",
     "text": [
      "\r",
      "Sampling 3 chains, 32 divergences:  25%|██▌       | 300/1200 [00:12<00:40, 22.46draws/s]"
     ]
    },
    {
     "name": "stderr",
     "output_type": "stream",
     "text": [
      "\r",
      "Sampling 3 chains, 33 divergences:  25%|██▌       | 301/1200 [00:12<00:40, 22.46draws/s]"
     ]
    },
    {
     "name": "stderr",
     "output_type": "stream",
     "text": [
      "\r",
      "Sampling 3 chains, 34 divergences:  25%|██▌       | 302/1200 [00:12<00:39, 22.46draws/s]"
     ]
    },
    {
     "name": "stderr",
     "output_type": "stream",
     "text": [
      "\r",
      "Sampling 3 chains, 34 divergences:  25%|██▌       | 303/1200 [00:12<00:40, 22.17draws/s]"
     ]
    },
    {
     "name": "stderr",
     "output_type": "stream",
     "text": [
      "\r",
      "Sampling 3 chains, 35 divergences:  25%|██▌       | 304/1200 [00:12<00:40, 22.17draws/s]"
     ]
    },
    {
     "name": "stderr",
     "output_type": "stream",
     "text": [
      "\r",
      "Sampling 3 chains, 35 divergences:  26%|██▌       | 306/1200 [00:12<00:45, 19.78draws/s]"
     ]
    },
    {
     "name": "stderr",
     "output_type": "stream",
     "text": [
      "\r",
      "Sampling 3 chains, 36 divergences:  26%|██▌       | 307/1200 [00:12<00:45, 19.78draws/s]"
     ]
    },
    {
     "name": "stderr",
     "output_type": "stream",
     "text": [
      "\r",
      "Sampling 3 chains, 37 divergences:  26%|██▌       | 308/1200 [00:13<00:45, 19.78draws/s]"
     ]
    },
    {
     "name": "stderr",
     "output_type": "stream",
     "text": [
      "\r",
      "Sampling 3 chains, 37 divergences:  26%|██▌       | 309/1200 [00:13<00:42, 21.15draws/s]"
     ]
    },
    {
     "name": "stderr",
     "output_type": "stream",
     "text": [
      "\r",
      "Sampling 3 chains, 38 divergences:  26%|██▌       | 309/1200 [00:13<00:42, 21.15draws/s]"
     ]
    },
    {
     "name": "stderr",
     "output_type": "stream",
     "text": [
      "\r",
      "Sampling 3 chains, 39 divergences:  26%|██▌       | 310/1200 [00:13<00:42, 21.15draws/s]"
     ]
    },
    {
     "name": "stderr",
     "output_type": "stream",
     "text": [
      "\r",
      "Sampling 3 chains, 39 divergences:  26%|██▌       | 312/1200 [00:13<00:38, 22.77draws/s]"
     ]
    },
    {
     "name": "stderr",
     "output_type": "stream",
     "text": [
      "\r",
      "Sampling 3 chains, 40 divergences:  26%|██▌       | 312/1200 [00:13<00:38, 22.77draws/s]"
     ]
    },
    {
     "name": "stderr",
     "output_type": "stream",
     "text": [
      "\r",
      "Sampling 3 chains, 41 divergences:  26%|██▌       | 314/1200 [00:13<00:38, 22.77draws/s]"
     ]
    },
    {
     "name": "stderr",
     "output_type": "stream",
     "text": [
      "\r",
      "Sampling 3 chains, 41 divergences:  26%|██▋       | 315/1200 [00:13<00:36, 24.30draws/s]"
     ]
    },
    {
     "name": "stderr",
     "output_type": "stream",
     "text": [
      "\r",
      "Sampling 3 chains, 42 divergences:  26%|██▋       | 315/1200 [00:13<00:36, 24.30draws/s]"
     ]
    },
    {
     "name": "stderr",
     "output_type": "stream",
     "text": [
      "\r",
      "Sampling 3 chains, 43 divergences:  26%|██▋       | 317/1200 [00:13<00:36, 24.30draws/s]"
     ]
    },
    {
     "name": "stderr",
     "output_type": "stream",
     "text": [
      "\r",
      "Sampling 3 chains, 43 divergences:  26%|██▋       | 318/1200 [00:13<00:37, 23.74draws/s]"
     ]
    },
    {
     "name": "stderr",
     "output_type": "stream",
     "text": [
      "\r",
      "Sampling 3 chains, 44 divergences:  26%|██▋       | 318/1200 [00:13<00:37, 23.74draws/s]"
     ]
    },
    {
     "name": "stderr",
     "output_type": "stream",
     "text": [
      "\r",
      "Sampling 3 chains, 45 divergences:  27%|██▋       | 320/1200 [00:13<00:37, 23.74draws/s]"
     ]
    },
    {
     "name": "stderr",
     "output_type": "stream",
     "text": [
      "\r",
      "Sampling 3 chains, 45 divergences:  27%|██▋       | 321/1200 [00:13<00:42, 20.54draws/s]"
     ]
    },
    {
     "name": "stderr",
     "output_type": "stream",
     "text": [
      "\r",
      "Sampling 3 chains, 46 divergences:  27%|██▋       | 321/1200 [00:13<00:42, 20.54draws/s]"
     ]
    },
    {
     "name": "stderr",
     "output_type": "stream",
     "text": [
      "\r",
      "Sampling 3 chains, 47 divergences:  27%|██▋       | 322/1200 [00:13<00:42, 20.54draws/s]"
     ]
    },
    {
     "name": "stderr",
     "output_type": "stream",
     "text": [
      "\r",
      "Sampling 3 chains, 48 divergences:  27%|██▋       | 323/1200 [00:13<00:42, 20.54draws/s]"
     ]
    },
    {
     "name": "stderr",
     "output_type": "stream",
     "text": [
      "\r",
      "Sampling 3 chains, 48 divergences:  27%|██▋       | 324/1200 [00:13<00:41, 21.36draws/s]"
     ]
    },
    {
     "name": "stderr",
     "output_type": "stream",
     "text": [
      "\r",
      "Sampling 3 chains, 49 divergences:  27%|██▋       | 324/1200 [00:13<00:41, 21.36draws/s]"
     ]
    },
    {
     "name": "stderr",
     "output_type": "stream",
     "text": [
      "\r",
      "Sampling 3 chains, 49 divergences:  27%|██▋       | 327/1200 [00:13<00:45, 19.03draws/s]"
     ]
    },
    {
     "name": "stderr",
     "output_type": "stream",
     "text": [
      "\r",
      "Sampling 3 chains, 49 divergences:  28%|██▊       | 330/1200 [00:14<00:45, 19.10draws/s]"
     ]
    },
    {
     "name": "stderr",
     "output_type": "stream",
     "text": [
      "\r",
      "Sampling 3 chains, 50 divergences:  28%|██▊       | 330/1200 [00:14<00:45, 19.10draws/s]"
     ]
    },
    {
     "name": "stderr",
     "output_type": "stream",
     "text": [
      "\r",
      "Sampling 3 chains, 51 divergences:  28%|██▊       | 331/1200 [00:14<00:45, 19.10draws/s]"
     ]
    },
    {
     "name": "stderr",
     "output_type": "stream",
     "text": [
      "\r",
      "Sampling 3 chains, 51 divergences:  28%|██▊       | 333/1200 [00:14<00:42, 20.52draws/s]"
     ]
    },
    {
     "name": "stderr",
     "output_type": "stream",
     "text": [
      "\r",
      "Sampling 3 chains, 52 divergences:  28%|██▊       | 334/1200 [00:14<00:42, 20.52draws/s]"
     ]
    },
    {
     "name": "stderr",
     "output_type": "stream",
     "text": [
      "\r",
      "Sampling 3 chains, 52 divergences:  28%|██▊       | 336/1200 [00:14<00:40, 21.51draws/s]"
     ]
    },
    {
     "name": "stderr",
     "output_type": "stream",
     "text": [
      "\r",
      "Sampling 3 chains, 53 divergences:  28%|██▊       | 336/1200 [00:14<00:40, 21.51draws/s]"
     ]
    },
    {
     "name": "stderr",
     "output_type": "stream",
     "text": [
      "\r",
      "Sampling 3 chains, 54 divergences:  28%|██▊       | 338/1200 [00:14<00:40, 21.51draws/s]"
     ]
    },
    {
     "name": "stderr",
     "output_type": "stream",
     "text": [
      "\r",
      "Sampling 3 chains, 55 divergences:  28%|██▊       | 339/1200 [00:14<00:40, 21.51draws/s]"
     ]
    },
    {
     "name": "stderr",
     "output_type": "stream",
     "text": [
      "\r",
      "Sampling 3 chains, 56 divergences:  28%|██▊       | 340/1200 [00:14<00:39, 21.51draws/s]"
     ]
    },
    {
     "name": "stderr",
     "output_type": "stream",
     "text": [
      "\r",
      "Sampling 3 chains, 56 divergences:  28%|██▊       | 341/1200 [00:14<00:33, 25.30draws/s]"
     ]
    },
    {
     "name": "stderr",
     "output_type": "stream",
     "text": [
      "\r",
      "Sampling 3 chains, 57 divergences:  28%|██▊       | 342/1200 [00:14<00:33, 25.30draws/s]"
     ]
    },
    {
     "name": "stderr",
     "output_type": "stream",
     "text": [
      "\r",
      "Sampling 3 chains, 57 divergences:  29%|██▉       | 345/1200 [00:14<00:35, 23.94draws/s]"
     ]
    },
    {
     "name": "stderr",
     "output_type": "stream",
     "text": [
      "\r",
      "Sampling 3 chains, 57 divergences:  29%|██▉       | 348/1200 [00:14<00:40, 20.80draws/s]"
     ]
    },
    {
     "name": "stderr",
     "output_type": "stream",
     "text": [
      "\r",
      "Sampling 3 chains, 57 divergences:  29%|██▉       | 351/1200 [00:14<00:44, 18.95draws/s]"
     ]
    },
    {
     "name": "stderr",
     "output_type": "stream",
     "text": [
      "\r",
      "Sampling 3 chains, 58 divergences:  29%|██▉       | 352/1200 [00:15<00:44, 18.95draws/s]"
     ]
    },
    {
     "name": "stderr",
     "output_type": "stream",
     "text": [
      "\r",
      "Sampling 3 chains, 58 divergences:  30%|██▉       | 354/1200 [00:15<00:47, 17.91draws/s]"
     ]
    },
    {
     "name": "stderr",
     "output_type": "stream",
     "text": [
      "\r",
      "Sampling 3 chains, 58 divergences:  30%|██▉       | 357/1200 [00:15<00:45, 18.71draws/s]"
     ]
    },
    {
     "name": "stderr",
     "output_type": "stream",
     "text": [
      "\r",
      "Sampling 3 chains, 58 divergences:  30%|███       | 360/1200 [00:15<00:40, 20.97draws/s]"
     ]
    },
    {
     "name": "stderr",
     "output_type": "stream",
     "text": [
      "\r",
      "Sampling 3 chains, 59 divergences:  30%|███       | 360/1200 [00:15<00:40, 20.97draws/s]"
     ]
    },
    {
     "name": "stderr",
     "output_type": "stream",
     "text": [
      "\r",
      "Sampling 3 chains, 59 divergences:  30%|███       | 363/1200 [00:15<00:55, 15.08draws/s]"
     ]
    },
    {
     "name": "stderr",
     "output_type": "stream",
     "text": [
      "\r",
      "Sampling 3 chains, 59 divergences:  30%|███       | 365/1200 [00:15<00:54, 15.31draws/s]"
     ]
    },
    {
     "name": "stderr",
     "output_type": "stream",
     "text": [
      "\r",
      "Sampling 3 chains, 60 divergences:  30%|███       | 365/1200 [00:15<00:54, 15.31draws/s]"
     ]
    },
    {
     "name": "stderr",
     "output_type": "stream",
     "text": [
      "\r",
      "Sampling 3 chains, 61 divergences:  30%|███       | 366/1200 [00:15<00:54, 15.31draws/s]"
     ]
    },
    {
     "name": "stderr",
     "output_type": "stream",
     "text": [
      "\r",
      "Sampling 3 chains, 61 divergences:  31%|███       | 367/1200 [00:15<00:51, 16.21draws/s]"
     ]
    },
    {
     "name": "stderr",
     "output_type": "stream",
     "text": [
      "\r",
      "Sampling 3 chains, 61 divergences:  31%|███       | 370/1200 [00:16<00:51, 15.98draws/s]"
     ]
    },
    {
     "name": "stderr",
     "output_type": "stream",
     "text": [
      "\r",
      "Sampling 3 chains, 61 divergences:  31%|███       | 373/1200 [00:16<00:52, 15.77draws/s]"
     ]
    },
    {
     "name": "stderr",
     "output_type": "stream",
     "text": [
      "\r",
      "Sampling 3 chains, 61 divergences:  31%|███▏      | 376/1200 [00:16<00:52, 15.63draws/s]"
     ]
    },
    {
     "name": "stderr",
     "output_type": "stream",
     "text": [
      "\r",
      "Sampling 3 chains, 62 divergences:  31%|███▏      | 376/1200 [00:16<00:52, 15.63draws/s]"
     ]
    },
    {
     "name": "stderr",
     "output_type": "stream",
     "text": [
      "\r",
      "Sampling 3 chains, 63 divergences:  31%|███▏      | 377/1200 [00:16<00:52, 15.63draws/s]"
     ]
    },
    {
     "name": "stderr",
     "output_type": "stream",
     "text": [
      "\r",
      "Sampling 3 chains, 63 divergences:  32%|███▏      | 379/1200 [00:16<00:47, 17.38draws/s]"
     ]
    },
    {
     "name": "stderr",
     "output_type": "stream",
     "text": [
      "\r",
      "Sampling 3 chains, 64 divergences:  32%|███▏      | 379/1200 [00:16<00:47, 17.38draws/s]"
     ]
    },
    {
     "name": "stderr",
     "output_type": "stream",
     "text": [
      "\r",
      "Sampling 3 chains, 64 divergences:  32%|███▏      | 381/1200 [00:16<00:56, 14.42draws/s]"
     ]
    },
    {
     "name": "stderr",
     "output_type": "stream",
     "text": [
      "\r",
      "Sampling 3 chains, 64 divergences:  32%|███▏      | 383/1200 [00:16<00:52, 15.64draws/s]"
     ]
    },
    {
     "name": "stderr",
     "output_type": "stream",
     "text": [
      "\r",
      "Sampling 3 chains, 64 divergences:  32%|███▏      | 386/1200 [00:17<00:51, 15.69draws/s]"
     ]
    },
    {
     "name": "stderr",
     "output_type": "stream",
     "text": [
      "\r",
      "Sampling 3 chains, 64 divergences:  32%|███▏      | 388/1200 [00:17<00:50, 15.95draws/s]"
     ]
    },
    {
     "name": "stderr",
     "output_type": "stream",
     "text": [
      "\r",
      "Sampling 3 chains, 64 divergences:  32%|███▎      | 390/1200 [00:17<00:58, 13.80draws/s]"
     ]
    },
    {
     "name": "stderr",
     "output_type": "stream",
     "text": [
      "\r",
      "Sampling 3 chains, 65 divergences:  33%|███▎      | 391/1200 [00:17<00:58, 13.80draws/s]"
     ]
    },
    {
     "name": "stderr",
     "output_type": "stream",
     "text": [
      "\r",
      "Sampling 3 chains, 65 divergences:  33%|███▎      | 393/1200 [00:17<00:55, 14.46draws/s]"
     ]
    },
    {
     "name": "stderr",
     "output_type": "stream",
     "text": [
      "\r",
      "Sampling 3 chains, 66 divergences:  33%|███▎      | 393/1200 [00:17<00:55, 14.46draws/s]"
     ]
    },
    {
     "name": "stderr",
     "output_type": "stream",
     "text": [
      "\r",
      "Sampling 3 chains, 67 divergences:  33%|███▎      | 395/1200 [00:17<00:55, 14.46draws/s]"
     ]
    },
    {
     "name": "stderr",
     "output_type": "stream",
     "text": [
      "\r",
      "Sampling 3 chains, 67 divergences:  33%|███▎      | 396/1200 [00:17<00:47, 16.95draws/s]"
     ]
    },
    {
     "name": "stderr",
     "output_type": "stream",
     "text": [
      "\r",
      "Sampling 3 chains, 67 divergences:  33%|███▎      | 399/1200 [00:17<00:48, 16.67draws/s]"
     ]
    },
    {
     "name": "stderr",
     "output_type": "stream",
     "text": [
      "\r",
      "Sampling 3 chains, 68 divergences:  33%|███▎      | 400/1200 [00:18<00:47, 16.67draws/s]"
     ]
    },
    {
     "name": "stderr",
     "output_type": "stream",
     "text": [
      "\r",
      "Sampling 3 chains, 68 divergences:  33%|███▎      | 401/1200 [00:18<00:49, 16.08draws/s]"
     ]
    },
    {
     "name": "stderr",
     "output_type": "stream",
     "text": [
      "\r",
      "Sampling 3 chains, 69 divergences:  33%|███▎      | 401/1200 [00:18<00:49, 16.08draws/s]"
     ]
    },
    {
     "name": "stderr",
     "output_type": "stream",
     "text": [
      "\r",
      "Sampling 3 chains, 70 divergences:  34%|███▎      | 402/1200 [00:18<00:49, 16.08draws/s]"
     ]
    },
    {
     "name": "stderr",
     "output_type": "stream",
     "text": [
      "\r",
      "Sampling 3 chains, 71 divergences:  34%|███▎      | 403/1200 [00:18<00:49, 16.08draws/s]"
     ]
    },
    {
     "name": "stderr",
     "output_type": "stream",
     "text": [
      "\r",
      "Sampling 3 chains, 71 divergences:  34%|███▎      | 404/1200 [00:18<00:45, 17.44draws/s]"
     ]
    },
    {
     "name": "stderr",
     "output_type": "stream",
     "text": [
      "\r",
      "Sampling 3 chains, 72 divergences:  34%|███▍      | 405/1200 [00:18<00:45, 17.44draws/s]"
     ]
    },
    {
     "name": "stderr",
     "output_type": "stream",
     "text": [
      "\r",
      "Sampling 3 chains, 73 divergences:  34%|███▍      | 406/1200 [00:18<00:45, 17.44draws/s]"
     ]
    },
    {
     "name": "stderr",
     "output_type": "stream",
     "text": [
      "\r",
      "Sampling 3 chains, 73 divergences:  34%|███▍      | 407/1200 [00:18<00:39, 19.83draws/s]"
     ]
    },
    {
     "name": "stderr",
     "output_type": "stream",
     "text": [
      "\r",
      "Sampling 3 chains, 74 divergences:  34%|███▍      | 409/1200 [00:18<00:39, 19.83draws/s]"
     ]
    },
    {
     "name": "stderr",
     "output_type": "stream",
     "text": [
      "\r",
      "Sampling 3 chains, 74 divergences:  34%|███▍      | 410/1200 [00:18<00:38, 20.33draws/s]"
     ]
    },
    {
     "name": "stderr",
     "output_type": "stream",
     "text": [
      "\r",
      "Sampling 3 chains, 75 divergences:  34%|███▍      | 412/1200 [00:18<00:38, 20.33draws/s]"
     ]
    },
    {
     "name": "stderr",
     "output_type": "stream",
     "text": [
      "\r",
      "Sampling 3 chains, 75 divergences:  34%|███▍      | 413/1200 [00:18<00:38, 20.33draws/s]"
     ]
    },
    {
     "name": "stderr",
     "output_type": "stream",
     "text": [
      "\r",
      "Sampling 3 chains, 76 divergences:  34%|███▍      | 413/1200 [00:18<00:38, 20.33draws/s]"
     ]
    },
    {
     "name": "stderr",
     "output_type": "stream",
     "text": [
      "\r",
      "Sampling 3 chains, 77 divergences:  34%|███▍      | 414/1200 [00:18<00:38, 20.33draws/s]"
     ]
    },
    {
     "name": "stderr",
     "output_type": "stream",
     "text": [
      "\r",
      "Sampling 3 chains, 77 divergences:  35%|███▍      | 416/1200 [00:18<00:39, 19.84draws/s]"
     ]
    },
    {
     "name": "stderr",
     "output_type": "stream",
     "text": [
      "\r",
      "Sampling 3 chains, 77 divergences:  35%|███▍      | 419/1200 [00:18<00:35, 21.70draws/s]"
     ]
    },
    {
     "name": "stderr",
     "output_type": "stream",
     "text": [
      "\r",
      "Sampling 3 chains, 78 divergences:  35%|███▍      | 419/1200 [00:18<00:35, 21.70draws/s]"
     ]
    },
    {
     "name": "stderr",
     "output_type": "stream",
     "text": [
      "\r",
      "Sampling 3 chains, 79 divergences:  35%|███▌      | 420/1200 [00:18<00:35, 21.70draws/s]"
     ]
    },
    {
     "name": "stderr",
     "output_type": "stream",
     "text": [
      "\r",
      "Sampling 3 chains, 80 divergences:  35%|███▌      | 421/1200 [00:18<00:35, 21.70draws/s]"
     ]
    },
    {
     "name": "stderr",
     "output_type": "stream",
     "text": [
      "\r",
      "Sampling 3 chains, 80 divergences:  35%|███▌      | 422/1200 [00:18<00:35, 22.16draws/s]"
     ]
    },
    {
     "name": "stderr",
     "output_type": "stream",
     "text": [
      "\r",
      "Sampling 3 chains, 81 divergences:  35%|███▌      | 422/1200 [00:19<00:35, 22.16draws/s]"
     ]
    },
    {
     "name": "stderr",
     "output_type": "stream",
     "text": [
      "\r",
      "Sampling 3 chains, 82 divergences:  35%|███▌      | 424/1200 [00:19<00:35, 22.16draws/s]"
     ]
    },
    {
     "name": "stderr",
     "output_type": "stream",
     "text": [
      "\r",
      "Sampling 3 chains, 82 divergences:  36%|███▌      | 426/1200 [00:19<00:33, 23.18draws/s]"
     ]
    },
    {
     "name": "stderr",
     "output_type": "stream",
     "text": [
      "\r",
      "Sampling 3 chains, 83 divergences:  36%|███▌      | 426/1200 [00:19<00:33, 23.18draws/s]"
     ]
    },
    {
     "name": "stderr",
     "output_type": "stream",
     "text": [
      "\r",
      "Sampling 3 chains, 84 divergences:  36%|███▌      | 428/1200 [00:19<00:33, 23.18draws/s]"
     ]
    },
    {
     "name": "stderr",
     "output_type": "stream",
     "text": [
      "\r",
      "Sampling 3 chains, 84 divergences:  36%|███▌      | 429/1200 [00:19<00:32, 23.68draws/s]"
     ]
    },
    {
     "name": "stderr",
     "output_type": "stream",
     "text": [
      "\r",
      "Sampling 3 chains, 85 divergences:  36%|███▌      | 429/1200 [00:19<00:32, 23.68draws/s]"
     ]
    },
    {
     "name": "stderr",
     "output_type": "stream",
     "text": [
      "\r",
      "Sampling 3 chains, 86 divergences:  36%|███▌      | 430/1200 [00:19<00:32, 23.68draws/s]"
     ]
    },
    {
     "name": "stderr",
     "output_type": "stream",
     "text": [
      "\r",
      "Sampling 3 chains, 87 divergences:  36%|███▌      | 432/1200 [00:19<00:32, 23.68draws/s]"
     ]
    },
    {
     "name": "stderr",
     "output_type": "stream",
     "text": [
      "\r",
      "Sampling 3 chains, 87 divergences:  36%|███▌      | 433/1200 [00:19<00:28, 26.60draws/s]"
     ]
    },
    {
     "name": "stderr",
     "output_type": "stream",
     "text": [
      "\r",
      "Sampling 3 chains, 88 divergences:  36%|███▌      | 433/1200 [00:19<00:28, 26.60draws/s]"
     ]
    },
    {
     "name": "stderr",
     "output_type": "stream",
     "text": [
      "\r",
      "Sampling 3 chains, 89 divergences:  36%|███▌      | 434/1200 [00:19<00:28, 26.60draws/s]"
     ]
    },
    {
     "name": "stderr",
     "output_type": "stream",
     "text": [
      "\r",
      "Sampling 3 chains, 90 divergences:  36%|███▋      | 436/1200 [00:19<00:28, 26.60draws/s]"
     ]
    },
    {
     "name": "stderr",
     "output_type": "stream",
     "text": [
      "\r",
      "Sampling 3 chains, 91 divergences:  36%|███▋      | 437/1200 [00:19<00:28, 26.60draws/s]"
     ]
    },
    {
     "name": "stderr",
     "output_type": "stream",
     "text": [
      "\r",
      "Sampling 3 chains, 91 divergences:  36%|███▋      | 438/1200 [00:19<00:25, 29.56draws/s]"
     ]
    },
    {
     "name": "stderr",
     "output_type": "stream",
     "text": [
      "\r",
      "Sampling 3 chains, 92 divergences:  37%|███▋      | 439/1200 [00:19<00:25, 29.56draws/s]"
     ]
    },
    {
     "name": "stderr",
     "output_type": "stream",
     "text": [
      "\r",
      "Sampling 3 chains, 93 divergences:  37%|███▋      | 440/1200 [00:19<00:25, 29.56draws/s]"
     ]
    },
    {
     "name": "stderr",
     "output_type": "stream",
     "text": [
      "\r",
      "Sampling 3 chains, 94 divergences:  37%|███▋      | 441/1200 [00:19<00:25, 29.56draws/s]"
     ]
    },
    {
     "name": "stderr",
     "output_type": "stream",
     "text": [
      "\r",
      "Sampling 3 chains, 94 divergences:  37%|███▋      | 442/1200 [00:19<00:27, 27.23draws/s]"
     ]
    },
    {
     "name": "stderr",
     "output_type": "stream",
     "text": [
      "\r",
      "Sampling 3 chains, 95 divergences:  37%|███▋      | 444/1200 [00:19<00:27, 27.23draws/s]"
     ]
    },
    {
     "name": "stderr",
     "output_type": "stream",
     "text": [
      "\r",
      "Sampling 3 chains, 96 divergences:  37%|███▋      | 445/1200 [00:19<00:27, 27.23draws/s]"
     ]
    },
    {
     "name": "stderr",
     "output_type": "stream",
     "text": [
      "\r",
      "Sampling 3 chains, 96 divergences:  37%|███▋      | 446/1200 [00:19<00:27, 27.13draws/s]"
     ]
    },
    {
     "name": "stderr",
     "output_type": "stream",
     "text": [
      "\r",
      "Sampling 3 chains, 97 divergences:  37%|███▋      | 447/1200 [00:19<00:27, 27.13draws/s]"
     ]
    },
    {
     "name": "stderr",
     "output_type": "stream",
     "text": [
      "\r",
      "Sampling 3 chains, 97 divergences:  37%|███▋      | 449/1200 [00:19<00:27, 27.81draws/s]"
     ]
    },
    {
     "name": "stderr",
     "output_type": "stream",
     "text": [
      "\r",
      "Sampling 3 chains, 98 divergences:  37%|███▋      | 449/1200 [00:19<00:27, 27.81draws/s]"
     ]
    },
    {
     "name": "stderr",
     "output_type": "stream",
     "text": [
      "\r",
      "Sampling 3 chains, 99 divergences:  38%|███▊      | 451/1200 [00:19<00:26, 27.81draws/s]"
     ]
    },
    {
     "name": "stderr",
     "output_type": "stream",
     "text": [
      "\r",
      "Sampling 3 chains, 100 divergences:  38%|███▊      | 452/1200 [00:20<00:26, 27.81draws/s]"
     ]
    },
    {
     "name": "stderr",
     "output_type": "stream",
     "text": [
      "\r",
      "Sampling 3 chains, 101 divergences:  38%|███▊      | 454/1200 [00:20<00:26, 27.81draws/s]"
     ]
    },
    {
     "name": "stderr",
     "output_type": "stream",
     "text": [
      "\r",
      "Sampling 3 chains, 101 divergences:  38%|███▊      | 455/1200 [00:20<00:23, 31.65draws/s]"
     ]
    },
    {
     "name": "stderr",
     "output_type": "stream",
     "text": [
      "\r",
      "Sampling 3 chains, 102 divergences:  38%|███▊      | 455/1200 [00:20<00:23, 31.65draws/s]"
     ]
    },
    {
     "name": "stderr",
     "output_type": "stream",
     "text": [
      "\r",
      "Sampling 3 chains, 103 divergences:  38%|███▊      | 456/1200 [00:20<00:23, 31.65draws/s]"
     ]
    },
    {
     "name": "stderr",
     "output_type": "stream",
     "text": [
      "\r",
      "Sampling 3 chains, 104 divergences:  38%|███▊      | 457/1200 [00:20<00:23, 31.65draws/s]"
     ]
    },
    {
     "name": "stderr",
     "output_type": "stream",
     "text": [
      "\r",
      "Sampling 3 chains, 104 divergences:  38%|███▊      | 460/1200 [00:20<00:23, 31.75draws/s]"
     ]
    },
    {
     "name": "stderr",
     "output_type": "stream",
     "text": [
      "\r",
      "Sampling 3 chains, 105 divergences:  38%|███▊      | 461/1200 [00:20<00:23, 31.75draws/s]"
     ]
    },
    {
     "name": "stderr",
     "output_type": "stream",
     "text": [
      "\r",
      "Sampling 3 chains, 106 divergences:  39%|███▊      | 463/1200 [00:20<00:23, 31.75draws/s]"
     ]
    },
    {
     "name": "stderr",
     "output_type": "stream",
     "text": [
      "\r",
      "Sampling 3 chains, 106 divergences:  39%|███▊      | 464/1200 [00:20<00:23, 30.93draws/s]"
     ]
    },
    {
     "name": "stderr",
     "output_type": "stream",
     "text": [
      "\r",
      "Sampling 3 chains, 107 divergences:  39%|███▊      | 464/1200 [00:20<00:23, 30.93draws/s]"
     ]
    },
    {
     "name": "stderr",
     "output_type": "stream",
     "text": [
      "\r",
      "Sampling 3 chains, 108 divergences:  39%|███▉      | 466/1200 [00:20<00:23, 30.93draws/s]"
     ]
    },
    {
     "name": "stderr",
     "output_type": "stream",
     "text": [
      "\r",
      "Sampling 3 chains, 108 divergences:  39%|███▉      | 468/1200 [00:20<00:22, 32.21draws/s]"
     ]
    },
    {
     "name": "stderr",
     "output_type": "stream",
     "text": [
      "\r",
      "Sampling 3 chains, 109 divergences:  39%|███▉      | 469/1200 [00:20<00:22, 32.21draws/s]"
     ]
    },
    {
     "name": "stderr",
     "output_type": "stream",
     "text": [
      "\r",
      "Sampling 3 chains, 110 divergences:  39%|███▉      | 470/1200 [00:20<00:22, 32.21draws/s]"
     ]
    },
    {
     "name": "stderr",
     "output_type": "stream",
     "text": [
      "\r",
      "Sampling 3 chains, 110 divergences:  39%|███▉      | 472/1200 [00:20<00:23, 30.84draws/s]"
     ]
    },
    {
     "name": "stderr",
     "output_type": "stream",
     "text": [
      "\r",
      "Sampling 3 chains, 110 divergences:  40%|███▉      | 476/1200 [00:20<00:28, 25.38draws/s]"
     ]
    },
    {
     "name": "stderr",
     "output_type": "stream",
     "text": [
      "\r",
      "Sampling 3 chains, 111 divergences:  40%|███▉      | 476/1200 [00:20<00:28, 25.38draws/s]"
     ]
    },
    {
     "name": "stderr",
     "output_type": "stream",
     "text": [
      "\r",
      "Sampling 3 chains, 111 divergences:  40%|███▉      | 479/1200 [00:20<00:30, 23.88draws/s]"
     ]
    },
    {
     "name": "stderr",
     "output_type": "stream",
     "text": [
      "\r",
      "Sampling 3 chains, 111 divergences:  40%|████      | 482/1200 [00:21<00:28, 25.27draws/s]"
     ]
    },
    {
     "name": "stderr",
     "output_type": "stream",
     "text": [
      "\r",
      "Sampling 3 chains, 112 divergences:  40%|████      | 482/1200 [00:21<00:28, 25.27draws/s]"
     ]
    },
    {
     "name": "stderr",
     "output_type": "stream",
     "text": [
      "\r",
      "Sampling 3 chains, 113 divergences:  40%|████      | 483/1200 [00:21<00:28, 25.27draws/s]"
     ]
    },
    {
     "name": "stderr",
     "output_type": "stream",
     "text": [
      "\r",
      "Sampling 3 chains, 113 divergences:  40%|████      | 486/1200 [00:21<00:30, 23.79draws/s]"
     ]
    },
    {
     "name": "stderr",
     "output_type": "stream",
     "text": [
      "\r",
      "Sampling 3 chains, 113 divergences:  41%|████      | 489/1200 [00:21<00:34, 20.76draws/s]"
     ]
    },
    {
     "name": "stderr",
     "output_type": "stream",
     "text": [
      "\r",
      "Sampling 3 chains, 113 divergences:  41%|████      | 493/1200 [00:21<00:35, 19.74draws/s]"
     ]
    },
    {
     "name": "stderr",
     "output_type": "stream",
     "text": [
      "\r",
      "Sampling 3 chains, 114 divergences:  41%|████      | 493/1200 [00:21<00:35, 19.74draws/s]"
     ]
    },
    {
     "name": "stderr",
     "output_type": "stream",
     "text": [
      "\r",
      "Sampling 3 chains, 115 divergences:  41%|████      | 494/1200 [00:21<00:35, 19.74draws/s]"
     ]
    },
    {
     "name": "stderr",
     "output_type": "stream",
     "text": [
      "\r",
      "Sampling 3 chains, 115 divergences:  41%|████▏     | 496/1200 [00:21<00:36, 19.27draws/s]"
     ]
    },
    {
     "name": "stderr",
     "output_type": "stream",
     "text": [
      "\r",
      "Sampling 3 chains, 116 divergences:  41%|████▏     | 496/1200 [00:21<00:36, 19.27draws/s]"
     ]
    },
    {
     "name": "stderr",
     "output_type": "stream",
     "text": [
      "\r",
      "Sampling 3 chains, 116 divergences:  42%|████▏     | 499/1200 [00:21<00:32, 21.46draws/s]"
     ]
    },
    {
     "name": "stderr",
     "output_type": "stream",
     "text": [
      "\r",
      "Sampling 3 chains, 117 divergences:  42%|████▏     | 499/1200 [00:22<00:32, 21.46draws/s]"
     ]
    },
    {
     "name": "stderr",
     "output_type": "stream",
     "text": [
      "\r",
      "Sampling 3 chains, 118 divergences:  42%|████▏     | 501/1200 [00:22<00:32, 21.46draws/s]"
     ]
    },
    {
     "name": "stderr",
     "output_type": "stream",
     "text": [
      "\r",
      "Sampling 3 chains, 118 divergences:  42%|████▏     | 502/1200 [00:22<00:31, 22.15draws/s]"
     ]
    },
    {
     "name": "stderr",
     "output_type": "stream",
     "text": [
      "\r",
      "Sampling 3 chains, 118 divergences:  42%|████▏     | 505/1200 [00:22<00:32, 21.16draws/s]"
     ]
    },
    {
     "name": "stderr",
     "output_type": "stream",
     "text": [
      "\r",
      "Sampling 3 chains, 119 divergences:  42%|████▏     | 505/1200 [00:22<00:32, 21.16draws/s]"
     ]
    },
    {
     "name": "stderr",
     "output_type": "stream",
     "text": [
      "\r",
      "Sampling 3 chains, 119 divergences:  42%|████▏     | 508/1200 [00:22<00:37, 18.32draws/s]"
     ]
    },
    {
     "name": "stderr",
     "output_type": "stream",
     "text": [
      "\r",
      "Sampling 3 chains, 119 divergences:  42%|████▎     | 510/1200 [00:22<00:38, 17.78draws/s]"
     ]
    },
    {
     "name": "stderr",
     "output_type": "stream",
     "text": [
      "\r",
      "Sampling 3 chains, 120 divergences:  42%|████▎     | 510/1200 [00:22<00:38, 17.78draws/s]"
     ]
    },
    {
     "name": "stderr",
     "output_type": "stream",
     "text": [
      "\r",
      "Sampling 3 chains, 121 divergences:  43%|████▎     | 511/1200 [00:22<00:38, 17.78draws/s]"
     ]
    },
    {
     "name": "stderr",
     "output_type": "stream",
     "text": [
      "\r",
      "Sampling 3 chains, 122 divergences:  43%|████▎     | 512/1200 [00:22<00:38, 17.78draws/s]"
     ]
    },
    {
     "name": "stderr",
     "output_type": "stream",
     "text": [
      "\r",
      "Sampling 3 chains, 122 divergences:  43%|████▎     | 513/1200 [00:22<00:36, 18.98draws/s]"
     ]
    },
    {
     "name": "stderr",
     "output_type": "stream",
     "text": [
      "\r",
      "Sampling 3 chains, 123 divergences:  43%|████▎     | 515/1200 [00:22<00:36, 18.98draws/s]"
     ]
    },
    {
     "name": "stderr",
     "output_type": "stream",
     "text": [
      "\r",
      "Sampling 3 chains, 123 divergences:  43%|████▎     | 516/1200 [00:22<00:38, 17.94draws/s]"
     ]
    },
    {
     "name": "stderr",
     "output_type": "stream",
     "text": [
      "\r",
      "Sampling 3 chains, 124 divergences:  43%|████▎     | 516/1200 [00:22<00:38, 17.94draws/s]"
     ]
    },
    {
     "name": "stderr",
     "output_type": "stream",
     "text": [
      "\r",
      "Sampling 3 chains, 124 divergences:  43%|████▎     | 518/1200 [00:22<00:36, 18.47draws/s]"
     ]
    },
    {
     "name": "stderr",
     "output_type": "stream",
     "text": [
      "\r",
      "Sampling 3 chains, 125 divergences:  43%|████▎     | 519/1200 [00:23<00:36, 18.47draws/s]"
     ]
    },
    {
     "name": "stderr",
     "output_type": "stream",
     "text": [
      "\r",
      "Sampling 3 chains, 125 divergences:  43%|████▎     | 520/1200 [00:23<00:48, 14.10draws/s]"
     ]
    },
    {
     "name": "stderr",
     "output_type": "stream",
     "text": [
      "\r",
      "Sampling 3 chains, 126 divergences:  43%|████▎     | 520/1200 [00:23<00:48, 14.10draws/s]"
     ]
    },
    {
     "name": "stderr",
     "output_type": "stream",
     "text": [
      "\r",
      "Sampling 3 chains, 126 divergences:  44%|████▎     | 523/1200 [00:23<00:42, 15.85draws/s]"
     ]
    },
    {
     "name": "stderr",
     "output_type": "stream",
     "text": [
      "\r",
      "Sampling 3 chains, 127 divergences:  44%|████▎     | 523/1200 [00:23<00:42, 15.85draws/s]"
     ]
    },
    {
     "name": "stderr",
     "output_type": "stream",
     "text": [
      "\r",
      "Sampling 3 chains, 128 divergences:  44%|████▎     | 524/1200 [00:23<00:42, 15.85draws/s]"
     ]
    },
    {
     "name": "stderr",
     "output_type": "stream",
     "text": [
      "\r",
      "Sampling 3 chains, 128 divergences:  44%|████▍     | 526/1200 [00:23<00:37, 18.17draws/s]"
     ]
    },
    {
     "name": "stderr",
     "output_type": "stream",
     "text": [
      "\r",
      "Sampling 3 chains, 129 divergences:  44%|████▍     | 526/1200 [00:23<00:37, 18.17draws/s]"
     ]
    },
    {
     "name": "stderr",
     "output_type": "stream",
     "text": [
      "\r",
      "Sampling 3 chains, 129 divergences:  44%|████▍     | 529/1200 [00:23<00:36, 18.16draws/s]"
     ]
    },
    {
     "name": "stderr",
     "output_type": "stream",
     "text": [
      "\r",
      "Sampling 3 chains, 130 divergences:  44%|████▍     | 529/1200 [00:23<00:36, 18.16draws/s]"
     ]
    },
    {
     "name": "stderr",
     "output_type": "stream",
     "text": [
      "\r",
      "Sampling 3 chains, 131 divergences:  44%|████▍     | 531/1200 [00:23<00:36, 18.16draws/s]"
     ]
    },
    {
     "name": "stderr",
     "output_type": "stream",
     "text": [
      "\r",
      "Sampling 3 chains, 131 divergences:  44%|████▍     | 532/1200 [00:23<00:36, 18.48draws/s]"
     ]
    },
    {
     "name": "stderr",
     "output_type": "stream",
     "text": [
      "\r",
      "Sampling 3 chains, 132 divergences:  44%|████▍     | 532/1200 [00:23<00:36, 18.48draws/s]"
     ]
    },
    {
     "name": "stderr",
     "output_type": "stream",
     "text": [
      "\r",
      "Sampling 3 chains, 133 divergences:  44%|████▍     | 533/1200 [00:23<00:36, 18.48draws/s]"
     ]
    },
    {
     "name": "stderr",
     "output_type": "stream",
     "text": [
      "\r",
      "Sampling 3 chains, 133 divergences:  45%|████▍     | 535/1200 [00:23<00:31, 20.83draws/s]"
     ]
    },
    {
     "name": "stderr",
     "output_type": "stream",
     "text": [
      "\r",
      "Sampling 3 chains, 134 divergences:  45%|████▍     | 537/1200 [00:23<00:31, 20.83draws/s]"
     ]
    },
    {
     "name": "stderr",
     "output_type": "stream",
     "text": [
      "\r",
      "Sampling 3 chains, 134 divergences:  45%|████▍     | 538/1200 [00:23<00:29, 22.25draws/s]"
     ]
    },
    {
     "name": "stderr",
     "output_type": "stream",
     "text": [
      "\r",
      "Sampling 3 chains, 135 divergences:  45%|████▍     | 539/1200 [00:24<00:29, 22.25draws/s]"
     ]
    },
    {
     "name": "stderr",
     "output_type": "stream",
     "text": [
      "\r",
      "Sampling 3 chains, 135 divergences:  45%|████▌     | 541/1200 [00:24<00:29, 22.43draws/s]"
     ]
    },
    {
     "name": "stderr",
     "output_type": "stream",
     "text": [
      "\r",
      "Sampling 3 chains, 136 divergences:  45%|████▌     | 541/1200 [00:24<00:29, 22.43draws/s]"
     ]
    },
    {
     "name": "stderr",
     "output_type": "stream",
     "text": [
      "\r",
      "Sampling 3 chains, 137 divergences:  45%|████▌     | 542/1200 [00:24<00:29, 22.43draws/s]"
     ]
    },
    {
     "name": "stderr",
     "output_type": "stream",
     "text": [
      "\r",
      "Sampling 3 chains, 137 divergences:  45%|████▌     | 545/1200 [00:24<00:26, 24.84draws/s]"
     ]
    },
    {
     "name": "stderr",
     "output_type": "stream",
     "text": [
      "\r",
      "Sampling 3 chains, 137 divergences:  46%|████▌     | 548/1200 [00:24<00:34, 19.06draws/s]"
     ]
    },
    {
     "name": "stderr",
     "output_type": "stream",
     "text": [
      "\r",
      "Sampling 3 chains, 138 divergences:  46%|████▌     | 548/1200 [00:24<00:34, 19.06draws/s]"
     ]
    },
    {
     "name": "stderr",
     "output_type": "stream",
     "text": [
      "\r",
      "Sampling 3 chains, 139 divergences:  46%|████▌     | 549/1200 [00:24<00:34, 19.06draws/s]"
     ]
    },
    {
     "name": "stderr",
     "output_type": "stream",
     "text": [
      "\r",
      "Sampling 3 chains, 140 divergences:  46%|████▌     | 551/1200 [00:24<00:34, 19.06draws/s]"
     ]
    },
    {
     "name": "stderr",
     "output_type": "stream",
     "text": [
      "\r",
      "Sampling 3 chains, 140 divergences:  46%|████▌     | 552/1200 [00:24<00:28, 22.50draws/s]"
     ]
    },
    {
     "name": "stderr",
     "output_type": "stream",
     "text": [
      "\r",
      "Sampling 3 chains, 141 divergences:  46%|████▌     | 552/1200 [00:24<00:28, 22.50draws/s]"
     ]
    },
    {
     "name": "stderr",
     "output_type": "stream",
     "text": [
      "\r",
      "Sampling 3 chains, 142 divergences:  46%|████▌     | 554/1200 [00:24<00:28, 22.50draws/s]"
     ]
    },
    {
     "name": "stderr",
     "output_type": "stream",
     "text": [
      "\r",
      "Sampling 3 chains, 142 divergences:  46%|████▋     | 555/1200 [00:24<00:29, 21.75draws/s]"
     ]
    },
    {
     "name": "stderr",
     "output_type": "stream",
     "text": [
      "\r",
      "Sampling 3 chains, 143 divergences:  46%|████▋     | 555/1200 [00:24<00:29, 21.75draws/s]"
     ]
    },
    {
     "name": "stderr",
     "output_type": "stream",
     "text": [
      "\r",
      "Sampling 3 chains, 144 divergences:  46%|████▋     | 556/1200 [00:24<00:29, 21.75draws/s]"
     ]
    },
    {
     "name": "stderr",
     "output_type": "stream",
     "text": [
      "\r",
      "Sampling 3 chains, 145 divergences:  46%|████▋     | 557/1200 [00:24<00:29, 21.75draws/s]"
     ]
    },
    {
     "name": "stderr",
     "output_type": "stream",
     "text": [
      "\r",
      "Sampling 3 chains, 146 divergences:  46%|████▋     | 558/1200 [00:24<00:29, 21.75draws/s]"
     ]
    },
    {
     "name": "stderr",
     "output_type": "stream",
     "text": [
      "\r",
      "Sampling 3 chains, 146 divergences:  47%|████▋     | 560/1200 [00:24<00:27, 23.26draws/s]"
     ]
    },
    {
     "name": "stderr",
     "output_type": "stream",
     "text": [
      "\r",
      "Sampling 3 chains, 147 divergences:  47%|████▋     | 561/1200 [00:24<00:27, 23.26draws/s]"
     ]
    },
    {
     "name": "stderr",
     "output_type": "stream",
     "text": [
      "\r",
      "Sampling 3 chains, 148 divergences:  47%|████▋     | 562/1200 [00:24<00:27, 23.26draws/s]"
     ]
    },
    {
     "name": "stderr",
     "output_type": "stream",
     "text": [
      "\r",
      "Sampling 3 chains, 149 divergences:  47%|████▋     | 563/1200 [00:24<00:27, 23.26draws/s]"
     ]
    },
    {
     "name": "stderr",
     "output_type": "stream",
     "text": [
      "\r",
      "Sampling 3 chains, 149 divergences:  47%|████▋     | 565/1200 [00:25<00:25, 24.77draws/s]"
     ]
    },
    {
     "name": "stderr",
     "output_type": "stream",
     "text": [
      "\r",
      "Sampling 3 chains, 150 divergences:  47%|████▋     | 566/1200 [00:25<00:25, 24.77draws/s]"
     ]
    },
    {
     "name": "stderr",
     "output_type": "stream",
     "text": [
      "\r",
      "Sampling 3 chains, 151 divergences:  47%|████▋     | 567/1200 [00:25<00:25, 24.77draws/s]"
     ]
    },
    {
     "name": "stderr",
     "output_type": "stream",
     "text": [
      "\r",
      "Sampling 3 chains, 152 divergences:  47%|████▋     | 568/1200 [00:25<00:25, 24.77draws/s]"
     ]
    },
    {
     "name": "stderr",
     "output_type": "stream",
     "text": [
      "\r",
      "Sampling 3 chains, 153 divergences:  47%|████▋     | 569/1200 [00:25<00:25, 24.77draws/s]"
     ]
    },
    {
     "name": "stderr",
     "output_type": "stream",
     "text": [
      "\r",
      "Sampling 3 chains, 153 divergences:  48%|████▊     | 571/1200 [00:25<00:24, 26.15draws/s]"
     ]
    },
    {
     "name": "stderr",
     "output_type": "stream",
     "text": [
      "\r",
      "Sampling 3 chains, 154 divergences:  48%|████▊     | 571/1200 [00:25<00:24, 26.15draws/s]"
     ]
    },
    {
     "name": "stderr",
     "output_type": "stream",
     "text": [
      "\r",
      "Sampling 3 chains, 155 divergences:  48%|████▊     | 573/1200 [00:25<00:23, 26.15draws/s]"
     ]
    },
    {
     "name": "stderr",
     "output_type": "stream",
     "text": [
      "\r",
      "Sampling 3 chains, 155 divergences:  48%|████▊     | 574/1200 [00:25<00:23, 26.28draws/s]"
     ]
    },
    {
     "name": "stderr",
     "output_type": "stream",
     "text": [
      "\r",
      "Sampling 3 chains, 156 divergences:  48%|████▊     | 574/1200 [00:25<00:23, 26.28draws/s]"
     ]
    },
    {
     "name": "stderr",
     "output_type": "stream",
     "text": [
      "\r",
      "Sampling 3 chains, 156 divergences:  48%|████▊     | 577/1200 [00:25<00:26, 23.82draws/s]"
     ]
    },
    {
     "name": "stderr",
     "output_type": "stream",
     "text": [
      "\r",
      "Sampling 3 chains, 157 divergences:  48%|████▊     | 578/1200 [00:25<00:26, 23.82draws/s]"
     ]
    },
    {
     "name": "stderr",
     "output_type": "stream",
     "text": [
      "\r",
      "Sampling 3 chains, 157 divergences:  48%|████▊     | 580/1200 [00:25<00:28, 21.97draws/s]"
     ]
    },
    {
     "name": "stderr",
     "output_type": "stream",
     "text": [
      "\r",
      "Sampling 3 chains, 158 divergences:  48%|████▊     | 580/1200 [00:25<00:28, 21.97draws/s]"
     ]
    },
    {
     "name": "stderr",
     "output_type": "stream",
     "text": [
      "\r",
      "Sampling 3 chains, 159 divergences:  48%|████▊     | 581/1200 [00:25<00:28, 21.97draws/s]"
     ]
    },
    {
     "name": "stderr",
     "output_type": "stream",
     "text": [
      "\r",
      "Sampling 3 chains, 160 divergences:  48%|████▊     | 582/1200 [00:25<00:28, 21.97draws/s]"
     ]
    },
    {
     "name": "stderr",
     "output_type": "stream",
     "text": [
      "\r",
      "Sampling 3 chains, 160 divergences:  49%|████▊     | 583/1200 [00:25<00:26, 23.45draws/s]"
     ]
    },
    {
     "name": "stderr",
     "output_type": "stream",
     "text": [
      "\r",
      "Sampling 3 chains, 161 divergences:  49%|████▊     | 583/1200 [00:25<00:26, 23.45draws/s]"
     ]
    },
    {
     "name": "stderr",
     "output_type": "stream",
     "text": [
      "\r",
      "Sampling 3 chains, 162 divergences:  49%|████▊     | 584/1200 [00:25<00:26, 23.45draws/s]"
     ]
    },
    {
     "name": "stderr",
     "output_type": "stream",
     "text": [
      "\r",
      "Sampling 3 chains, 163 divergences:  49%|████▉     | 585/1200 [00:25<00:26, 23.45draws/s]"
     ]
    },
    {
     "name": "stderr",
     "output_type": "stream",
     "text": [
      "\r",
      "Sampling 3 chains, 163 divergences:  49%|████▉     | 586/1200 [00:25<00:26, 23.45draws/s]"
     ]
    },
    {
     "name": "stderr",
     "output_type": "stream",
     "text": [
      "\r",
      "Sampling 3 chains, 164 divergences:  49%|████▉     | 587/1200 [00:26<00:26, 23.45draws/s]"
     ]
    },
    {
     "name": "stderr",
     "output_type": "stream",
     "text": [
      "\r",
      "Sampling 3 chains, 164 divergences:  49%|████▉     | 590/1200 [00:26<00:25, 23.67draws/s]"
     ]
    },
    {
     "name": "stderr",
     "output_type": "stream",
     "text": [
      "\r",
      "Sampling 3 chains, 164 divergences:  49%|████▉     | 593/1200 [00:26<00:25, 23.68draws/s]"
     ]
    },
    {
     "name": "stderr",
     "output_type": "stream",
     "text": [
      "\r",
      "Sampling 3 chains, 165 divergences:  49%|████▉     | 593/1200 [00:26<00:25, 23.68draws/s]"
     ]
    },
    {
     "name": "stderr",
     "output_type": "stream",
     "text": [
      "\r",
      "Sampling 3 chains, 165 divergences:  50%|████▉     | 597/1200 [00:26<00:22, 26.50draws/s]"
     ]
    },
    {
     "name": "stderr",
     "output_type": "stream",
     "text": [
      "\r",
      "Sampling 3 chains, 165 divergences:  50%|█████     | 600/1200 [00:26<00:26, 22.51draws/s]"
     ]
    },
    {
     "name": "stderr",
     "output_type": "stream",
     "text": [
      "\r",
      "Sampling 3 chains, 166 divergences:  50%|█████     | 601/1200 [00:26<00:26, 22.51draws/s]"
     ]
    },
    {
     "name": "stderr",
     "output_type": "stream",
     "text": [
      "\r",
      "Sampling 3 chains, 167 divergences:  50%|█████     | 602/1200 [00:26<00:26, 22.51draws/s]"
     ]
    },
    {
     "name": "stderr",
     "output_type": "stream",
     "text": [
      "\r",
      "Sampling 3 chains, 167 divergences:  50%|█████     | 604/1200 [00:26<00:23, 25.61draws/s]"
     ]
    },
    {
     "name": "stderr",
     "output_type": "stream",
     "text": [
      "\r",
      "Sampling 3 chains, 168 divergences:  50%|█████     | 604/1200 [00:26<00:23, 25.61draws/s]"
     ]
    },
    {
     "name": "stderr",
     "output_type": "stream",
     "text": [
      "\r",
      "Sampling 3 chains, 169 divergences:  50%|█████     | 606/1200 [00:26<00:23, 25.61draws/s]"
     ]
    },
    {
     "name": "stderr",
     "output_type": "stream",
     "text": [
      "\r",
      "Sampling 3 chains, 170 divergences:  51%|█████     | 607/1200 [00:26<00:23, 25.61draws/s]"
     ]
    },
    {
     "name": "stderr",
     "output_type": "stream",
     "text": [
      "\r",
      "Sampling 3 chains, 170 divergences:  51%|█████     | 608/1200 [00:26<00:22, 26.85draws/s]"
     ]
    },
    {
     "name": "stderr",
     "output_type": "stream",
     "text": [
      "\r",
      "Sampling 3 chains, 171 divergences:  51%|█████     | 608/1200 [00:26<00:22, 26.85draws/s]"
     ]
    },
    {
     "name": "stderr",
     "output_type": "stream",
     "text": [
      "\r",
      "Sampling 3 chains, 172 divergences:  51%|█████     | 610/1200 [00:26<00:21, 26.85draws/s]"
     ]
    },
    {
     "name": "stderr",
     "output_type": "stream",
     "text": [
      "\r",
      "Sampling 3 chains, 173 divergences:  51%|█████     | 611/1200 [00:26<00:21, 26.85draws/s]"
     ]
    },
    {
     "name": "stderr",
     "output_type": "stream",
     "text": [
      "\r",
      "Sampling 3 chains, 174 divergences:  51%|█████     | 612/1200 [00:26<00:21, 26.85draws/s]"
     ]
    },
    {
     "name": "stderr",
     "output_type": "stream",
     "text": [
      "\r",
      "Sampling 3 chains, 174 divergences:  51%|█████     | 613/1200 [00:26<00:19, 30.65draws/s]"
     ]
    },
    {
     "name": "stderr",
     "output_type": "stream",
     "text": [
      "\r",
      "Sampling 3 chains, 175 divergences:  51%|█████     | 613/1200 [00:26<00:19, 30.65draws/s]"
     ]
    },
    {
     "name": "stderr",
     "output_type": "stream",
     "text": [
      "\r",
      "Sampling 3 chains, 176 divergences:  51%|█████     | 614/1200 [00:26<00:19, 30.65draws/s]"
     ]
    },
    {
     "name": "stderr",
     "output_type": "stream",
     "text": [
      "\r",
      "Sampling 3 chains, 177 divergences:  51%|█████▏    | 615/1200 [00:27<00:19, 30.65draws/s]"
     ]
    },
    {
     "name": "stderr",
     "output_type": "stream",
     "text": [
      "\r",
      "Sampling 3 chains, 178 divergences:  51%|█████▏    | 616/1200 [00:27<00:19, 30.65draws/s]"
     ]
    },
    {
     "name": "stderr",
     "output_type": "stream",
     "text": [
      "\r",
      "Sampling 3 chains, 178 divergences:  51%|█████▏    | 617/1200 [00:27<00:21, 27.34draws/s]"
     ]
    },
    {
     "name": "stderr",
     "output_type": "stream",
     "text": [
      "\r",
      "Sampling 3 chains, 179 divergences:  51%|█████▏    | 617/1200 [00:27<00:21, 27.34draws/s]"
     ]
    },
    {
     "name": "stderr",
     "output_type": "stream",
     "text": [
      "\r",
      "Sampling 3 chains, 180 divergences:  52%|█████▏    | 618/1200 [00:27<00:21, 27.34draws/s]"
     ]
    },
    {
     "name": "stderr",
     "output_type": "stream",
     "text": [
      "\r",
      "Sampling 3 chains, 181 divergences:  52%|█████▏    | 619/1200 [00:27<00:21, 27.34draws/s]"
     ]
    },
    {
     "name": "stderr",
     "output_type": "stream",
     "text": [
      "\r",
      "Sampling 3 chains, 181 divergences:  52%|█████▏    | 621/1200 [00:27<00:31, 18.10draws/s]"
     ]
    },
    {
     "name": "stderr",
     "output_type": "stream",
     "text": [
      "\r",
      "Sampling 3 chains, 182 divergences:  52%|█████▏    | 621/1200 [00:27<00:31, 18.10draws/s]"
     ]
    },
    {
     "name": "stderr",
     "output_type": "stream",
     "text": [
      "\r",
      "Sampling 3 chains, 183 divergences:  52%|█████▏    | 622/1200 [00:27<00:31, 18.10draws/s]"
     ]
    },
    {
     "name": "stderr",
     "output_type": "stream",
     "text": [
      "\r",
      "Sampling 3 chains, 184 divergences:  52%|█████▏    | 624/1200 [00:27<00:31, 18.10draws/s]"
     ]
    },
    {
     "name": "stderr",
     "output_type": "stream",
     "text": [
      "\r",
      "Sampling 3 chains, 185 divergences:  52%|█████▏    | 625/1200 [00:27<00:31, 18.10draws/s]"
     ]
    },
    {
     "name": "stderr",
     "output_type": "stream",
     "text": [
      "\r",
      "Sampling 3 chains, 185 divergences:  52%|█████▏    | 626/1200 [00:27<00:25, 22.21draws/s]"
     ]
    },
    {
     "name": "stderr",
     "output_type": "stream",
     "text": [
      "\r",
      "Sampling 3 chains, 186 divergences:  52%|█████▏    | 626/1200 [00:27<00:25, 22.21draws/s]"
     ]
    },
    {
     "name": "stderr",
     "output_type": "stream",
     "text": [
      "\r",
      "Sampling 3 chains, 187 divergences:  52%|█████▏    | 628/1200 [00:27<00:25, 22.21draws/s]"
     ]
    },
    {
     "name": "stderr",
     "output_type": "stream",
     "text": [
      "\r",
      "Sampling 3 chains, 188 divergences:  52%|█████▎    | 630/1200 [00:27<00:25, 22.21draws/s]"
     ]
    },
    {
     "name": "stderr",
     "output_type": "stream",
     "text": [
      "\r",
      "Sampling 3 chains, 188 divergences:  53%|█████▎    | 631/1200 [00:27<00:21, 26.56draws/s]"
     ]
    },
    {
     "name": "stderr",
     "output_type": "stream",
     "text": [
      "\r",
      "Sampling 3 chains, 189 divergences:  53%|█████▎    | 631/1200 [00:27<00:21, 26.56draws/s]"
     ]
    },
    {
     "name": "stderr",
     "output_type": "stream",
     "text": [
      "\r",
      "Sampling 3 chains, 190 divergences:  53%|█████▎    | 632/1200 [00:27<00:21, 26.56draws/s]"
     ]
    },
    {
     "name": "stderr",
     "output_type": "stream",
     "text": [
      "\r",
      "Sampling 3 chains, 191 divergences:  53%|█████▎    | 633/1200 [00:27<00:21, 26.56draws/s]"
     ]
    },
    {
     "name": "stderr",
     "output_type": "stream",
     "text": [
      "\r",
      "Sampling 3 chains, 192 divergences:  53%|█████▎    | 634/1200 [00:27<00:21, 26.56draws/s]"
     ]
    },
    {
     "name": "stderr",
     "output_type": "stream",
     "text": [
      "\r",
      "Sampling 3 chains, 192 divergences:  53%|█████▎    | 636/1200 [00:27<00:20, 28.20draws/s]"
     ]
    },
    {
     "name": "stderr",
     "output_type": "stream",
     "text": [
      "\r",
      "Sampling 3 chains, 193 divergences:  53%|█████▎    | 636/1200 [00:27<00:20, 28.20draws/s]"
     ]
    },
    {
     "name": "stderr",
     "output_type": "stream",
     "text": [
      "\r",
      "Sampling 3 chains, 194 divergences:  53%|█████▎    | 638/1200 [00:27<00:19, 28.20draws/s]"
     ]
    },
    {
     "name": "stderr",
     "output_type": "stream",
     "text": [
      "\r",
      "Sampling 3 chains, 195 divergences:  53%|█████▎    | 639/1200 [00:27<00:19, 28.20draws/s]"
     ]
    },
    {
     "name": "stderr",
     "output_type": "stream",
     "text": [
      "\r",
      "Sampling 3 chains, 195 divergences:  53%|█████▎    | 640/1200 [00:27<00:18, 30.21draws/s]"
     ]
    },
    {
     "name": "stderr",
     "output_type": "stream",
     "text": [
      "\r",
      "Sampling 3 chains, 196 divergences:  53%|█████▎    | 641/1200 [00:27<00:18, 30.21draws/s]"
     ]
    },
    {
     "name": "stderr",
     "output_type": "stream",
     "text": [
      "\r",
      "Sampling 3 chains, 197 divergences:  54%|█████▎    | 643/1200 [00:28<00:18, 30.21draws/s]"
     ]
    },
    {
     "name": "stderr",
     "output_type": "stream",
     "text": [
      "\r",
      "Sampling 3 chains, 197 divergences:  54%|█████▎    | 644/1200 [00:28<00:19, 29.22draws/s]"
     ]
    },
    {
     "name": "stderr",
     "output_type": "stream",
     "text": [
      "\r",
      "Sampling 3 chains, 198 divergences:  54%|█████▎    | 644/1200 [00:28<00:19, 29.22draws/s]"
     ]
    },
    {
     "name": "stderr",
     "output_type": "stream",
     "text": [
      "\r",
      "Sampling 3 chains, 199 divergences:  54%|█████▍    | 647/1200 [00:28<00:18, 29.22draws/s]"
     ]
    },
    {
     "name": "stderr",
     "output_type": "stream",
     "text": [
      "\r",
      "Sampling 3 chains, 199 divergences:  54%|█████▍    | 648/1200 [00:28<00:20, 27.47draws/s]"
     ]
    },
    {
     "name": "stderr",
     "output_type": "stream",
     "text": [
      "\r",
      "Sampling 3 chains, 200 divergences:  54%|█████▍    | 648/1200 [00:28<00:20, 27.47draws/s]"
     ]
    },
    {
     "name": "stderr",
     "output_type": "stream",
     "text": [
      "\r",
      "Sampling 3 chains, 201 divergences:  54%|█████▍    | 649/1200 [00:28<00:20, 27.47draws/s]"
     ]
    },
    {
     "name": "stderr",
     "output_type": "stream",
     "text": [
      "\r",
      "Sampling 3 chains, 202 divergences:  54%|█████▍    | 650/1200 [00:28<00:20, 27.47draws/s]"
     ]
    },
    {
     "name": "stderr",
     "output_type": "stream",
     "text": [
      "\r",
      "Sampling 3 chains, 202 divergences:  54%|█████▍    | 652/1200 [00:28<00:20, 27.38draws/s]"
     ]
    },
    {
     "name": "stderr",
     "output_type": "stream",
     "text": [
      "\r",
      "Sampling 3 chains, 203 divergences:  54%|█████▍    | 652/1200 [00:28<00:20, 27.38draws/s]"
     ]
    },
    {
     "name": "stderr",
     "output_type": "stream",
     "text": [
      "\r",
      "Sampling 3 chains, 203 divergences:  55%|█████▍    | 655/1200 [00:28<00:19, 27.86draws/s]"
     ]
    },
    {
     "name": "stderr",
     "output_type": "stream",
     "text": [
      "\r",
      "Sampling 3 chains, 204 divergences:  55%|█████▍    | 655/1200 [00:28<00:19, 27.86draws/s]"
     ]
    },
    {
     "name": "stderr",
     "output_type": "stream",
     "text": [
      "\r",
      "Sampling 3 chains, 205 divergences:  55%|█████▍    | 656/1200 [00:28<00:19, 27.86draws/s]"
     ]
    },
    {
     "name": "stderr",
     "output_type": "stream",
     "text": [
      "\r",
      "Sampling 3 chains, 206 divergences:  55%|█████▍    | 657/1200 [00:28<00:19, 27.86draws/s]"
     ]
    },
    {
     "name": "stderr",
     "output_type": "stream",
     "text": [
      "\r",
      "Sampling 3 chains, 206 divergences:  55%|█████▍    | 658/1200 [00:28<00:19, 27.23draws/s]"
     ]
    },
    {
     "name": "stderr",
     "output_type": "stream",
     "text": [
      "\r",
      "Sampling 3 chains, 207 divergences:  55%|█████▍    | 658/1200 [00:28<00:19, 27.23draws/s]"
     ]
    },
    {
     "name": "stderr",
     "output_type": "stream",
     "text": [
      "\r",
      "Sampling 3 chains, 208 divergences:  55%|█████▍    | 659/1200 [00:28<00:19, 27.23draws/s]"
     ]
    },
    {
     "name": "stderr",
     "output_type": "stream",
     "text": [
      "\r",
      "Sampling 3 chains, 208 divergences:  55%|█████▌    | 661/1200 [00:28<00:21, 25.41draws/s]"
     ]
    },
    {
     "name": "stderr",
     "output_type": "stream",
     "text": [
      "\r",
      "Sampling 3 chains, 208 divergences:  55%|█████▌    | 664/1200 [00:28<00:24, 21.49draws/s]"
     ]
    },
    {
     "name": "stderr",
     "output_type": "stream",
     "text": [
      "\r",
      "Sampling 3 chains, 209 divergences:  55%|█████▌    | 664/1200 [00:28<00:24, 21.49draws/s]"
     ]
    },
    {
     "name": "stderr",
     "output_type": "stream",
     "text": [
      "\r",
      "Sampling 3 chains, 210 divergences:  56%|█████▌    | 666/1200 [00:29<00:24, 21.49draws/s]"
     ]
    },
    {
     "name": "stderr",
     "output_type": "stream",
     "text": [
      "\r",
      "Sampling 3 chains, 210 divergences:  56%|█████▌    | 667/1200 [00:29<00:23, 22.55draws/s]"
     ]
    },
    {
     "name": "stderr",
     "output_type": "stream",
     "text": [
      "\r",
      "Sampling 3 chains, 211 divergences:  56%|█████▌    | 668/1200 [00:29<00:23, 22.55draws/s]"
     ]
    },
    {
     "name": "stderr",
     "output_type": "stream",
     "text": [
      "\r",
      "Sampling 3 chains, 211 divergences:  56%|█████▌    | 670/1200 [00:29<00:26, 19.97draws/s]"
     ]
    },
    {
     "name": "stderr",
     "output_type": "stream",
     "text": [
      "\r",
      "Sampling 3 chains, 212 divergences:  56%|█████▌    | 671/1200 [00:29<00:26, 19.97draws/s]"
     ]
    },
    {
     "name": "stderr",
     "output_type": "stream",
     "text": [
      "\r",
      "Sampling 3 chains, 212 divergences:  56%|█████▌    | 673/1200 [00:29<00:27, 19.11draws/s]"
     ]
    },
    {
     "name": "stderr",
     "output_type": "stream",
     "text": [
      "\r",
      "Sampling 3 chains, 212 divergences:  56%|█████▋    | 676/1200 [00:29<00:29, 17.72draws/s]"
     ]
    },
    {
     "name": "stderr",
     "output_type": "stream",
     "text": [
      "\r",
      "Sampling 3 chains, 213 divergences:  56%|█████▋    | 676/1200 [00:29<00:29, 17.72draws/s]"
     ]
    },
    {
     "name": "stderr",
     "output_type": "stream",
     "text": [
      "\r",
      "Sampling 3 chains, 213 divergences:  56%|█████▋    | 678/1200 [00:29<00:28, 18.12draws/s]"
     ]
    },
    {
     "name": "stderr",
     "output_type": "stream",
     "text": [
      "\r",
      "Sampling 3 chains, 214 divergences:  56%|█████▋    | 678/1200 [00:29<00:28, 18.12draws/s]"
     ]
    },
    {
     "name": "stderr",
     "output_type": "stream",
     "text": [
      "\r",
      "Sampling 3 chains, 215 divergences:  57%|█████▋    | 679/1200 [00:29<00:28, 18.12draws/s]"
     ]
    },
    {
     "name": "stderr",
     "output_type": "stream",
     "text": [
      "\r",
      "Sampling 3 chains, 216 divergences:  57%|█████▋    | 680/1200 [00:29<00:28, 18.12draws/s]"
     ]
    },
    {
     "name": "stderr",
     "output_type": "stream",
     "text": [
      "\r",
      "Sampling 3 chains, 217 divergences:  57%|█████▋    | 681/1200 [00:29<00:28, 18.12draws/s]"
     ]
    },
    {
     "name": "stderr",
     "output_type": "stream",
     "text": [
      "\r",
      "Sampling 3 chains, 217 divergences:  57%|█████▋    | 682/1200 [00:29<00:26, 19.74draws/s]"
     ]
    },
    {
     "name": "stderr",
     "output_type": "stream",
     "text": [
      "\r",
      "Sampling 3 chains, 218 divergences:  57%|█████▋    | 682/1200 [00:29<00:26, 19.74draws/s]"
     ]
    },
    {
     "name": "stderr",
     "output_type": "stream",
     "text": [
      "\r",
      "Sampling 3 chains, 218 divergences:  57%|█████▋    | 685/1200 [00:29<00:24, 21.11draws/s]"
     ]
    },
    {
     "name": "stderr",
     "output_type": "stream",
     "text": [
      "\r",
      "Sampling 3 chains, 219 divergences:  57%|█████▋    | 688/1200 [00:30<00:24, 21.11draws/s]"
     ]
    },
    {
     "name": "stderr",
     "output_type": "stream",
     "text": [
      "\r",
      "Sampling 3 chains, 219 divergences:  57%|█████▋    | 689/1200 [00:30<00:22, 22.88draws/s]"
     ]
    },
    {
     "name": "stderr",
     "output_type": "stream",
     "text": [
      "\r",
      "Sampling 3 chains, 220 divergences:  57%|█████▋    | 689/1200 [00:30<00:22, 22.88draws/s]"
     ]
    },
    {
     "name": "stderr",
     "output_type": "stream",
     "text": [
      "\r",
      "Sampling 3 chains, 220 divergences:  58%|█████▊    | 692/1200 [00:30<00:23, 21.74draws/s]"
     ]
    },
    {
     "name": "stderr",
     "output_type": "stream",
     "text": [
      "\r",
      "Sampling 3 chains, 220 divergences:  58%|█████▊    | 695/1200 [00:30<00:23, 21.60draws/s]"
     ]
    },
    {
     "name": "stderr",
     "output_type": "stream",
     "text": [
      "\r",
      "Sampling 3 chains, 221 divergences:  58%|█████▊    | 696/1200 [00:30<00:23, 21.60draws/s]"
     ]
    },
    {
     "name": "stderr",
     "output_type": "stream",
     "text": [
      "\r",
      "Sampling 3 chains, 222 divergences:  58%|█████▊    | 697/1200 [00:30<00:23, 21.60draws/s]"
     ]
    },
    {
     "name": "stderr",
     "output_type": "stream",
     "text": [
      "\r",
      "Sampling 3 chains, 222 divergences:  58%|█████▊    | 698/1200 [00:30<00:28, 17.84draws/s]"
     ]
    },
    {
     "name": "stderr",
     "output_type": "stream",
     "text": [
      "\r",
      "Sampling 3 chains, 223 divergences:  58%|█████▊    | 699/1200 [00:30<00:28, 17.84draws/s]"
     ]
    },
    {
     "name": "stderr",
     "output_type": "stream",
     "text": [
      "\r",
      "Sampling 3 chains, 224 divergences:  58%|█████▊    | 700/1200 [00:30<00:28, 17.84draws/s]"
     ]
    },
    {
     "name": "stderr",
     "output_type": "stream",
     "text": [
      "\r",
      "Sampling 3 chains, 224 divergences:  58%|█████▊    | 702/1200 [00:30<00:25, 19.58draws/s]"
     ]
    },
    {
     "name": "stderr",
     "output_type": "stream",
     "text": [
      "\r",
      "Sampling 3 chains, 224 divergences:  59%|█████▉    | 705/1200 [00:31<00:27, 18.08draws/s]"
     ]
    },
    {
     "name": "stderr",
     "output_type": "stream",
     "text": [
      "\r",
      "Sampling 3 chains, 225 divergences:  59%|█████▉    | 705/1200 [00:31<00:27, 18.08draws/s]"
     ]
    },
    {
     "name": "stderr",
     "output_type": "stream",
     "text": [
      "\r",
      "Sampling 3 chains, 226 divergences:  59%|█████▉    | 707/1200 [00:31<00:27, 18.08draws/s]"
     ]
    },
    {
     "name": "stderr",
     "output_type": "stream",
     "text": [
      "\r",
      "Sampling 3 chains, 226 divergences:  59%|█████▉    | 709/1200 [00:31<00:24, 19.97draws/s]"
     ]
    },
    {
     "name": "stderr",
     "output_type": "stream",
     "text": [
      "\r",
      "Sampling 3 chains, 226 divergences:  60%|█████▉    | 714/1200 [00:31<00:20, 23.93draws/s]"
     ]
    },
    {
     "name": "stderr",
     "output_type": "stream",
     "text": [
      "\r",
      "Sampling 3 chains, 226 divergences:  60%|█████▉    | 718/1200 [00:31<00:18, 25.59draws/s]"
     ]
    },
    {
     "name": "stderr",
     "output_type": "stream",
     "text": [
      "\r",
      "Sampling 3 chains, 226 divergences:  60%|██████    | 721/1200 [00:31<00:18, 26.25draws/s]"
     ]
    },
    {
     "name": "stderr",
     "output_type": "stream",
     "text": [
      "\r",
      "Sampling 3 chains, 226 divergences:  60%|██████    | 724/1200 [00:31<00:19, 24.42draws/s]"
     ]
    },
    {
     "name": "stderr",
     "output_type": "stream",
     "text": [
      "\r",
      "Sampling 3 chains, 226 divergences:  61%|██████    | 727/1200 [00:31<00:22, 20.68draws/s]"
     ]
    },
    {
     "name": "stderr",
     "output_type": "stream",
     "text": [
      "\r",
      "Sampling 3 chains, 227 divergences:  61%|██████    | 728/1200 [00:31<00:22, 20.68draws/s]"
     ]
    },
    {
     "name": "stderr",
     "output_type": "stream",
     "text": [
      "\r",
      "Sampling 3 chains, 228 divergences:  61%|██████    | 729/1200 [00:31<00:22, 20.68draws/s]"
     ]
    },
    {
     "name": "stderr",
     "output_type": "stream",
     "text": [
      "\r",
      "Sampling 3 chains, 229 divergences:  61%|██████    | 731/1200 [00:31<00:22, 20.68draws/s]"
     ]
    },
    {
     "name": "stderr",
     "output_type": "stream",
     "text": [
      "\r",
      "Sampling 3 chains, 229 divergences:  61%|██████    | 732/1200 [00:31<00:19, 24.47draws/s]"
     ]
    },
    {
     "name": "stderr",
     "output_type": "stream",
     "text": [
      "\r",
      "Sampling 3 chains, 229 divergences:  61%|██████▏   | 737/1200 [00:32<00:18, 25.35draws/s]"
     ]
    },
    {
     "name": "stderr",
     "output_type": "stream",
     "text": [
      "\r",
      "Sampling 3 chains, 230 divergences:  62%|██████▏   | 740/1200 [00:32<00:18, 25.35draws/s]"
     ]
    },
    {
     "name": "stderr",
     "output_type": "stream",
     "text": [
      "\r",
      "Sampling 3 chains, 230 divergences:  62%|██████▏   | 741/1200 [00:32<00:16, 27.78draws/s]"
     ]
    },
    {
     "name": "stderr",
     "output_type": "stream",
     "text": [
      "\r",
      "Sampling 3 chains, 230 divergences:  62%|██████▏   | 745/1200 [00:32<00:16, 28.02draws/s]"
     ]
    },
    {
     "name": "stderr",
     "output_type": "stream",
     "text": [
      "\r",
      "Sampling 3 chains, 231 divergences:  62%|██████▏   | 745/1200 [00:32<00:16, 28.02draws/s]"
     ]
    },
    {
     "name": "stderr",
     "output_type": "stream",
     "text": [
      "\r",
      "Sampling 3 chains, 231 divergences:  62%|██████▎   | 750/1200 [00:32<00:15, 28.96draws/s]"
     ]
    },
    {
     "name": "stderr",
     "output_type": "stream",
     "text": [
      "\r",
      "Sampling 3 chains, 231 divergences:  63%|██████▎   | 754/1200 [00:32<00:17, 25.18draws/s]"
     ]
    },
    {
     "name": "stderr",
     "output_type": "stream",
     "text": [
      "\r",
      "Sampling 3 chains, 232 divergences:  63%|██████▎   | 756/1200 [00:32<00:17, 25.18draws/s]"
     ]
    },
    {
     "name": "stderr",
     "output_type": "stream",
     "text": [
      "\r",
      "Sampling 3 chains, 232 divergences:  63%|██████▎   | 757/1200 [00:32<00:17, 25.66draws/s]"
     ]
    },
    {
     "name": "stderr",
     "output_type": "stream",
     "text": [
      "\r",
      "Sampling 3 chains, 233 divergences:  63%|██████▎   | 758/1200 [00:32<00:17, 25.66draws/s]"
     ]
    },
    {
     "name": "stderr",
     "output_type": "stream",
     "text": [
      "\r",
      "Sampling 3 chains, 234 divergences:  64%|██████▎   | 762/1200 [00:32<00:17, 25.66draws/s]"
     ]
    },
    {
     "name": "stderr",
     "output_type": "stream",
     "text": [
      "\r",
      "Sampling 3 chains, 234 divergences:  64%|██████▎   | 763/1200 [00:32<00:14, 30.77draws/s]"
     ]
    },
    {
     "name": "stderr",
     "output_type": "stream",
     "text": [
      "\r",
      "Sampling 3 chains, 235 divergences:  64%|██████▎   | 763/1200 [00:33<00:14, 30.77draws/s]"
     ]
    },
    {
     "name": "stderr",
     "output_type": "stream",
     "text": [
      "\r",
      "Sampling 3 chains, 235 divergences:  64%|██████▍   | 767/1200 [00:33<00:15, 28.19draws/s]"
     ]
    },
    {
     "name": "stderr",
     "output_type": "stream",
     "text": [
      "\r",
      "Sampling 3 chains, 236 divergences:  64%|██████▍   | 767/1200 [00:33<00:15, 28.19draws/s]"
     ]
    },
    {
     "name": "stderr",
     "output_type": "stream",
     "text": [
      "\r",
      "Sampling 3 chains, 237 divergences:  64%|██████▍   | 769/1200 [00:33<00:15, 28.19draws/s]"
     ]
    },
    {
     "name": "stderr",
     "output_type": "stream",
     "text": [
      "\r",
      "Sampling 3 chains, 238 divergences:  64%|██████▍   | 770/1200 [00:33<00:15, 28.19draws/s]"
     ]
    },
    {
     "name": "stderr",
     "output_type": "stream",
     "text": [
      "\r",
      "Sampling 3 chains, 239 divergences:  64%|██████▍   | 771/1200 [00:33<00:15, 28.19draws/s]"
     ]
    },
    {
     "name": "stderr",
     "output_type": "stream",
     "text": [
      "\r",
      "Sampling 3 chains, 240 divergences:  64%|██████▍   | 772/1200 [00:33<00:15, 28.19draws/s]"
     ]
    },
    {
     "name": "stderr",
     "output_type": "stream",
     "text": [
      "\r",
      "Sampling 3 chains, 240 divergences:  64%|██████▍   | 773/1200 [00:33<00:12, 33.49draws/s]"
     ]
    },
    {
     "name": "stderr",
     "output_type": "stream",
     "text": [
      "\r",
      "Sampling 3 chains, 241 divergences:  64%|██████▍   | 774/1200 [00:33<00:12, 33.49draws/s]"
     ]
    },
    {
     "name": "stderr",
     "output_type": "stream",
     "text": [
      "\r",
      "Sampling 3 chains, 242 divergences:  65%|██████▍   | 775/1200 [00:33<00:12, 33.49draws/s]"
     ]
    },
    {
     "name": "stderr",
     "output_type": "stream",
     "text": [
      "\r",
      "Sampling 3 chains, 243 divergences:  65%|██████▍   | 776/1200 [00:33<00:12, 33.49draws/s]"
     ]
    },
    {
     "name": "stderr",
     "output_type": "stream",
     "text": [
      "\r",
      "Sampling 3 chains, 244 divergences:  65%|██████▍   | 777/1200 [00:33<00:12, 33.49draws/s]"
     ]
    },
    {
     "name": "stderr",
     "output_type": "stream",
     "text": [
      "\r",
      "Sampling 3 chains, 245 divergences:  65%|██████▍   | 778/1200 [00:33<00:12, 33.49draws/s]"
     ]
    },
    {
     "name": "stderr",
     "output_type": "stream",
     "text": [
      "\r",
      "Sampling 3 chains, 246 divergences:  65%|██████▍   | 779/1200 [00:33<00:12, 33.49draws/s]"
     ]
    },
    {
     "name": "stderr",
     "output_type": "stream",
     "text": [
      "\r",
      "Sampling 3 chains, 247 divergences:  65%|██████▌   | 780/1200 [00:33<00:12, 33.49draws/s]"
     ]
    },
    {
     "name": "stderr",
     "output_type": "stream",
     "text": [
      "\r",
      "Sampling 3 chains, 248 divergences:  65%|██████▌   | 781/1200 [00:33<00:12, 33.49draws/s]"
     ]
    },
    {
     "name": "stderr",
     "output_type": "stream",
     "text": [
      "\r",
      "Sampling 3 chains, 249 divergences:  65%|██████▌   | 782/1200 [00:33<00:12, 33.49draws/s]"
     ]
    },
    {
     "name": "stderr",
     "output_type": "stream",
     "text": [
      "\r",
      "Sampling 3 chains, 250 divergences:  65%|██████▌   | 784/1200 [00:33<00:12, 33.49draws/s]"
     ]
    },
    {
     "name": "stderr",
     "output_type": "stream",
     "text": [
      "\r",
      "Sampling 3 chains, 250 divergences:  65%|██████▌   | 785/1200 [00:33<00:09, 42.24draws/s]"
     ]
    },
    {
     "name": "stderr",
     "output_type": "stream",
     "text": [
      "\r",
      "Sampling 3 chains, 251 divergences:  65%|██████▌   | 785/1200 [00:33<00:09, 42.24draws/s]"
     ]
    },
    {
     "name": "stderr",
     "output_type": "stream",
     "text": [
      "\r",
      "Sampling 3 chains, 252 divergences:  66%|██████▌   | 786/1200 [00:33<00:09, 42.24draws/s]"
     ]
    },
    {
     "name": "stderr",
     "output_type": "stream",
     "text": [
      "\r",
      "Sampling 3 chains, 253 divergences:  66%|██████▌   | 787/1200 [00:33<00:09, 42.24draws/s]"
     ]
    },
    {
     "name": "stderr",
     "output_type": "stream",
     "text": [
      "\r",
      "Sampling 3 chains, 254 divergences:  66%|██████▌   | 788/1200 [00:33<00:09, 42.24draws/s]"
     ]
    },
    {
     "name": "stderr",
     "output_type": "stream",
     "text": [
      "\r",
      "Sampling 3 chains, 255 divergences:  66%|██████▌   | 789/1200 [00:33<00:09, 42.24draws/s]"
     ]
    },
    {
     "name": "stderr",
     "output_type": "stream",
     "text": [
      "\r",
      "Sampling 3 chains, 256 divergences:  66%|██████▌   | 791/1200 [00:33<00:09, 42.24draws/s]"
     ]
    },
    {
     "name": "stderr",
     "output_type": "stream",
     "text": [
      "\r",
      "Sampling 3 chains, 257 divergences:  66%|██████▌   | 792/1200 [00:33<00:09, 42.24draws/s]"
     ]
    },
    {
     "name": "stderr",
     "output_type": "stream",
     "text": [
      "\r",
      "Sampling 3 chains, 258 divergences:  66%|██████▌   | 793/1200 [00:33<00:09, 42.24draws/s]"
     ]
    },
    {
     "name": "stderr",
     "output_type": "stream",
     "text": [
      "\r",
      "Sampling 3 chains, 259 divergences:  66%|██████▋   | 795/1200 [00:33<00:09, 42.24draws/s]"
     ]
    },
    {
     "name": "stderr",
     "output_type": "stream",
     "text": [
      "\r",
      "Sampling 3 chains, 259 divergences:  66%|██████▋   | 796/1200 [00:33<00:07, 50.83draws/s]"
     ]
    },
    {
     "name": "stderr",
     "output_type": "stream",
     "text": [
      "\r",
      "Sampling 3 chains, 260 divergences:  66%|██████▋   | 796/1200 [00:33<00:07, 50.83draws/s]"
     ]
    },
    {
     "name": "stderr",
     "output_type": "stream",
     "text": [
      "\r",
      "Sampling 3 chains, 261 divergences:  66%|██████▋   | 797/1200 [00:33<00:07, 50.83draws/s]"
     ]
    },
    {
     "name": "stderr",
     "output_type": "stream",
     "text": [
      "\r",
      "Sampling 3 chains, 262 divergences:  66%|██████▋   | 798/1200 [00:33<00:07, 50.83draws/s]"
     ]
    },
    {
     "name": "stderr",
     "output_type": "stream",
     "text": [
      "\r",
      "Sampling 3 chains, 263 divergences:  67%|██████▋   | 799/1200 [00:33<00:07, 50.83draws/s]"
     ]
    },
    {
     "name": "stderr",
     "output_type": "stream",
     "text": [
      "\r",
      "Sampling 3 chains, 264 divergences:  67%|██████▋   | 800/1200 [00:33<00:07, 50.83draws/s]"
     ]
    },
    {
     "name": "stderr",
     "output_type": "stream",
     "text": [
      "\r",
      "Sampling 3 chains, 265 divergences:  67%|██████▋   | 801/1200 [00:33<00:07, 50.83draws/s]"
     ]
    },
    {
     "name": "stderr",
     "output_type": "stream",
     "text": [
      "\r",
      "Sampling 3 chains, 266 divergences:  67%|██████▋   | 802/1200 [00:33<00:07, 50.83draws/s]"
     ]
    },
    {
     "name": "stderr",
     "output_type": "stream",
     "text": [
      "\r",
      "Sampling 3 chains, 267 divergences:  67%|██████▋   | 803/1200 [00:33<00:07, 50.83draws/s]"
     ]
    },
    {
     "name": "stderr",
     "output_type": "stream",
     "text": [
      "\r",
      "Sampling 3 chains, 268 divergences:  67%|██████▋   | 805/1200 [00:33<00:07, 50.83draws/s]"
     ]
    },
    {
     "name": "stderr",
     "output_type": "stream",
     "text": [
      "\r",
      "Sampling 3 chains, 269 divergences:  67%|██████▋   | 806/1200 [00:33<00:07, 50.83draws/s]"
     ]
    },
    {
     "name": "stderr",
     "output_type": "stream",
     "text": [
      "\r",
      "Sampling 3 chains, 270 divergences:  67%|██████▋   | 807/1200 [00:33<00:07, 50.83draws/s]"
     ]
    },
    {
     "name": "stderr",
     "output_type": "stream",
     "text": [
      "\r",
      "Sampling 3 chains, 271 divergences:  67%|██████▋   | 808/1200 [00:33<00:07, 50.83draws/s]"
     ]
    },
    {
     "name": "stderr",
     "output_type": "stream",
     "text": [
      "\r",
      "Sampling 3 chains, 271 divergences:  67%|██████▋   | 809/1200 [00:33<00:06, 60.88draws/s]"
     ]
    },
    {
     "name": "stderr",
     "output_type": "stream",
     "text": [
      "\r",
      "Sampling 3 chains, 272 divergences:  67%|██████▋   | 809/1200 [00:33<00:06, 60.88draws/s]"
     ]
    },
    {
     "name": "stderr",
     "output_type": "stream",
     "text": [
      "\r",
      "Sampling 3 chains, 273 divergences:  68%|██████▊   | 810/1200 [00:33<00:06, 60.88draws/s]"
     ]
    },
    {
     "name": "stderr",
     "output_type": "stream",
     "text": [
      "\r",
      "Sampling 3 chains, 274 divergences:  68%|██████▊   | 814/1200 [00:33<00:06, 60.88draws/s]"
     ]
    },
    {
     "name": "stderr",
     "output_type": "stream",
     "text": [
      "\r",
      "Sampling 3 chains, 275 divergences:  68%|██████▊   | 815/1200 [00:33<00:06, 60.88draws/s]"
     ]
    },
    {
     "name": "stderr",
     "output_type": "stream",
     "text": [
      "\r",
      "Sampling 3 chains, 276 divergences:  68%|██████▊   | 816/1200 [00:33<00:06, 60.88draws/s]"
     ]
    },
    {
     "name": "stderr",
     "output_type": "stream",
     "text": [
      "\r",
      "Sampling 3 chains, 277 divergences:  68%|██████▊   | 817/1200 [00:33<00:06, 60.88draws/s]"
     ]
    },
    {
     "name": "stderr",
     "output_type": "stream",
     "text": [
      "\r",
      "Sampling 3 chains, 277 divergences:  68%|██████▊   | 818/1200 [00:33<00:07, 49.60draws/s]"
     ]
    },
    {
     "name": "stderr",
     "output_type": "stream",
     "text": [
      "\r",
      "Sampling 3 chains, 278 divergences:  68%|██████▊   | 819/1200 [00:33<00:07, 49.60draws/s]"
     ]
    },
    {
     "name": "stderr",
     "output_type": "stream",
     "text": [
      "\r",
      "Sampling 3 chains, 279 divergences:  68%|██████▊   | 820/1200 [00:33<00:07, 49.60draws/s]"
     ]
    },
    {
     "name": "stderr",
     "output_type": "stream",
     "text": [
      "\r",
      "Sampling 3 chains, 280 divergences:  68%|██████▊   | 822/1200 [00:33<00:07, 49.60draws/s]"
     ]
    },
    {
     "name": "stderr",
     "output_type": "stream",
     "text": [
      "\r",
      "Sampling 3 chains, 281 divergences:  69%|██████▊   | 824/1200 [00:34<00:07, 49.60draws/s]"
     ]
    },
    {
     "name": "stderr",
     "output_type": "stream",
     "text": [
      "\r",
      "Sampling 3 chains, 281 divergences:  69%|██████▉   | 825/1200 [00:34<00:07, 48.48draws/s]"
     ]
    },
    {
     "name": "stderr",
     "output_type": "stream",
     "text": [
      "\r",
      "Sampling 3 chains, 282 divergences:  69%|██████▉   | 828/1200 [00:34<00:07, 48.48draws/s]"
     ]
    },
    {
     "name": "stderr",
     "output_type": "stream",
     "text": [
      "\r",
      "Sampling 3 chains, 282 divergences:  69%|██████▉   | 832/1200 [00:34<00:10, 33.94draws/s]"
     ]
    },
    {
     "name": "stderr",
     "output_type": "stream",
     "text": [
      "\r",
      "Sampling 3 chains, 282 divergences:  70%|██████▉   | 837/1200 [00:34<00:11, 32.82draws/s]"
     ]
    },
    {
     "name": "stderr",
     "output_type": "stream",
     "text": [
      "\r",
      "Sampling 3 chains, 282 divergences:  70%|███████   | 842/1200 [00:34<00:10, 32.65draws/s]"
     ]
    },
    {
     "name": "stderr",
     "output_type": "stream",
     "text": [
      "\r",
      "Sampling 3 chains, 282 divergences:  71%|███████   | 847/1200 [00:34<00:11, 31.48draws/s]"
     ]
    },
    {
     "name": "stderr",
     "output_type": "stream",
     "text": [
      "\r",
      "Sampling 3 chains, 282 divergences:  71%|███████   | 851/1200 [00:34<00:11, 30.66draws/s]"
     ]
    },
    {
     "name": "stderr",
     "output_type": "stream",
     "text": [
      "\r",
      "Sampling 3 chains, 282 divergences:  71%|███████▏  | 855/1200 [00:35<00:12, 26.89draws/s]"
     ]
    },
    {
     "name": "stderr",
     "output_type": "stream",
     "text": [
      "\r",
      "Sampling 3 chains, 283 divergences:  71%|███████▏  | 855/1200 [00:35<00:12, 26.89draws/s]"
     ]
    },
    {
     "name": "stderr",
     "output_type": "stream",
     "text": [
      "\r",
      "Sampling 3 chains, 283 divergences:  72%|███████▏  | 859/1200 [00:35<00:16, 21.03draws/s]"
     ]
    },
    {
     "name": "stderr",
     "output_type": "stream",
     "text": [
      "\r",
      "Sampling 3 chains, 283 divergences:  72%|███████▏  | 862/1200 [00:35<00:16, 20.09draws/s]"
     ]
    },
    {
     "name": "stderr",
     "output_type": "stream",
     "text": [
      "\r",
      "Sampling 3 chains, 283 divergences:  72%|███████▏  | 865/1200 [00:35<00:17, 19.02draws/s]"
     ]
    },
    {
     "name": "stderr",
     "output_type": "stream",
     "text": [
      "\r",
      "Sampling 3 chains, 284 divergences:  72%|███████▏  | 865/1200 [00:35<00:17, 19.02draws/s]"
     ]
    },
    {
     "name": "stderr",
     "output_type": "stream",
     "text": [
      "\r",
      "Sampling 3 chains, 284 divergences:  72%|███████▏  | 868/1200 [00:35<00:15, 20.95draws/s]"
     ]
    },
    {
     "name": "stderr",
     "output_type": "stream",
     "text": [
      "\r",
      "Sampling 3 chains, 284 divergences:  73%|███████▎  | 871/1200 [00:36<00:17, 18.87draws/s]"
     ]
    },
    {
     "name": "stderr",
     "output_type": "stream",
     "text": [
      "\r",
      "Sampling 3 chains, 284 divergences:  73%|███████▎  | 874/1200 [00:36<00:20, 15.63draws/s]"
     ]
    },
    {
     "name": "stderr",
     "output_type": "stream",
     "text": [
      "\r",
      "Sampling 3 chains, 284 divergences:  73%|███████▎  | 877/1200 [00:36<00:19, 16.94draws/s]"
     ]
    },
    {
     "name": "stderr",
     "output_type": "stream",
     "text": [
      "\r",
      "Sampling 3 chains, 284 divergences:  73%|███████▎  | 880/1200 [00:36<00:17, 17.90draws/s]"
     ]
    },
    {
     "name": "stderr",
     "output_type": "stream",
     "text": [
      "\r",
      "Sampling 3 chains, 284 divergences:  74%|███████▎  | 882/1200 [00:36<00:19, 16.68draws/s]"
     ]
    },
    {
     "name": "stderr",
     "output_type": "stream",
     "text": [
      "\r",
      "Sampling 3 chains, 284 divergences:  74%|███████▍  | 885/1200 [00:36<00:16, 18.57draws/s]"
     ]
    },
    {
     "name": "stderr",
     "output_type": "stream",
     "text": [
      "\r",
      "Sampling 3 chains, 284 divergences:  74%|███████▍  | 888/1200 [00:37<00:15, 20.23draws/s]"
     ]
    },
    {
     "name": "stderr",
     "output_type": "stream",
     "text": [
      "\r",
      "Sampling 3 chains, 284 divergences:  74%|███████▍  | 892/1200 [00:37<00:15, 20.51draws/s]"
     ]
    },
    {
     "name": "stderr",
     "output_type": "stream",
     "text": [
      "\r",
      "Sampling 3 chains, 284 divergences:  75%|███████▍  | 895/1200 [00:37<00:14, 20.76draws/s]"
     ]
    },
    {
     "name": "stderr",
     "output_type": "stream",
     "text": [
      "\r",
      "Sampling 3 chains, 284 divergences:  75%|███████▍  | 899/1200 [00:37<00:12, 23.51draws/s]"
     ]
    },
    {
     "name": "stderr",
     "output_type": "stream",
     "text": [
      "\r",
      "Sampling 3 chains, 285 divergences:  75%|███████▌  | 900/1200 [00:37<00:12, 23.51draws/s]"
     ]
    },
    {
     "name": "stderr",
     "output_type": "stream",
     "text": [
      "\r",
      "Sampling 3 chains, 285 divergences:  75%|███████▌  | 903/1200 [00:37<00:11, 25.49draws/s]"
     ]
    },
    {
     "name": "stderr",
     "output_type": "stream",
     "text": [
      "\r",
      "Sampling 3 chains, 285 divergences:  76%|███████▌  | 906/1200 [00:37<00:13, 21.79draws/s]"
     ]
    },
    {
     "name": "stderr",
     "output_type": "stream",
     "text": [
      "\r",
      "Sampling 3 chains, 285 divergences:  76%|███████▌  | 909/1200 [00:37<00:14, 19.64draws/s]"
     ]
    },
    {
     "name": "stderr",
     "output_type": "stream",
     "text": [
      "\r",
      "Sampling 3 chains, 285 divergences:  76%|███████▌  | 912/1200 [00:38<00:18, 15.81draws/s]"
     ]
    },
    {
     "name": "stderr",
     "output_type": "stream",
     "text": [
      "\r",
      "Sampling 3 chains, 286 divergences:  76%|███████▌  | 913/1200 [00:38<00:18, 15.81draws/s]"
     ]
    },
    {
     "name": "stderr",
     "output_type": "stream",
     "text": [
      "\r",
      "Sampling 3 chains, 286 divergences:  76%|███████▌  | 914/1200 [00:38<00:19, 14.50draws/s]"
     ]
    },
    {
     "name": "stderr",
     "output_type": "stream",
     "text": [
      "\r",
      "Sampling 3 chains, 287 divergences:  76%|███████▌  | 914/1200 [00:38<00:19, 14.50draws/s]"
     ]
    },
    {
     "name": "stderr",
     "output_type": "stream",
     "text": [
      "\r",
      "Sampling 3 chains, 288 divergences:  76%|███████▋  | 915/1200 [00:38<00:19, 14.50draws/s]"
     ]
    },
    {
     "name": "stderr",
     "output_type": "stream",
     "text": [
      "\r",
      "Sampling 3 chains, 289 divergences:  76%|███████▋  | 916/1200 [00:38<00:19, 14.50draws/s]"
     ]
    },
    {
     "name": "stderr",
     "output_type": "stream",
     "text": [
      "\r",
      "Sampling 3 chains, 289 divergences:  76%|███████▋  | 917/1200 [00:38<00:17, 16.41draws/s]"
     ]
    },
    {
     "name": "stderr",
     "output_type": "stream",
     "text": [
      "\r",
      "Sampling 3 chains, 290 divergences:  76%|███████▋  | 917/1200 [00:38<00:17, 16.41draws/s]"
     ]
    },
    {
     "name": "stderr",
     "output_type": "stream",
     "text": [
      "\r",
      "Sampling 3 chains, 290 divergences:  77%|███████▋  | 919/1200 [00:38<00:17, 16.48draws/s]"
     ]
    },
    {
     "name": "stderr",
     "output_type": "stream",
     "text": [
      "\r",
      "Sampling 3 chains, 291 divergences:  77%|███████▋  | 920/1200 [00:38<00:16, 16.48draws/s]"
     ]
    },
    {
     "name": "stderr",
     "output_type": "stream",
     "text": [
      "\r",
      "Sampling 3 chains, 291 divergences:  77%|███████▋  | 921/1200 [00:38<00:17, 16.38draws/s]"
     ]
    },
    {
     "name": "stderr",
     "output_type": "stream",
     "text": [
      "\r",
      "Sampling 3 chains, 291 divergences:  77%|███████▋  | 923/1200 [00:39<00:21, 12.82draws/s]"
     ]
    },
    {
     "name": "stderr",
     "output_type": "stream",
     "text": [
      "\r",
      "Sampling 3 chains, 291 divergences:  77%|███████▋  | 925/1200 [00:39<00:21, 13.01draws/s]"
     ]
    },
    {
     "name": "stderr",
     "output_type": "stream",
     "text": [
      "\r",
      "Sampling 3 chains, 291 divergences:  77%|███████▋  | 928/1200 [00:39<00:18, 14.70draws/s]"
     ]
    },
    {
     "name": "stderr",
     "output_type": "stream",
     "text": [
      "\r",
      "Sampling 3 chains, 292 divergences:  77%|███████▋  | 929/1200 [00:39<00:18, 14.70draws/s]"
     ]
    },
    {
     "name": "stderr",
     "output_type": "stream",
     "text": [
      "\r",
      "Sampling 3 chains, 293 divergences:  78%|███████▊  | 930/1200 [00:39<00:18, 14.70draws/s]"
     ]
    },
    {
     "name": "stderr",
     "output_type": "stream",
     "text": [
      "\r",
      "Sampling 3 chains, 293 divergences:  78%|███████▊  | 931/1200 [00:39<00:16, 16.24draws/s]"
     ]
    },
    {
     "name": "stderr",
     "output_type": "stream",
     "text": [
      "\r",
      "Sampling 3 chains, 293 divergences:  78%|███████▊  | 934/1200 [00:39<00:16, 16.15draws/s]"
     ]
    },
    {
     "name": "stderr",
     "output_type": "stream",
     "text": [
      "\r",
      "Sampling 3 chains, 294 divergences:  78%|███████▊  | 934/1200 [00:39<00:16, 16.15draws/s]"
     ]
    },
    {
     "name": "stderr",
     "output_type": "stream",
     "text": [
      "\r",
      "Sampling 3 chains, 294 divergences:  78%|███████▊  | 936/1200 [00:39<00:16, 15.76draws/s]"
     ]
    },
    {
     "name": "stderr",
     "output_type": "stream",
     "text": [
      "\r",
      "Sampling 3 chains, 294 divergences:  78%|███████▊  | 938/1200 [00:39<00:17, 15.25draws/s]"
     ]
    },
    {
     "name": "stderr",
     "output_type": "stream",
     "text": [
      "\r",
      "Sampling 3 chains, 294 divergences:  78%|███████▊  | 940/1200 [00:40<00:17, 14.99draws/s]"
     ]
    },
    {
     "name": "stderr",
     "output_type": "stream",
     "text": [
      "\r",
      "Sampling 3 chains, 294 divergences:  78%|███████▊  | 942/1200 [00:40<00:17, 14.80draws/s]"
     ]
    },
    {
     "name": "stderr",
     "output_type": "stream",
     "text": [
      "\r",
      "Sampling 3 chains, 294 divergences:  79%|███████▉  | 945/1200 [00:40<00:15, 16.30draws/s]"
     ]
    },
    {
     "name": "stderr",
     "output_type": "stream",
     "text": [
      "\r",
      "Sampling 3 chains, 294 divergences:  79%|███████▉  | 948/1200 [00:40<00:15, 15.88draws/s]"
     ]
    },
    {
     "name": "stderr",
     "output_type": "stream",
     "text": [
      "\r",
      "Sampling 3 chains, 294 divergences:  79%|███████▉  | 951/1200 [00:40<00:14, 17.14draws/s]"
     ]
    },
    {
     "name": "stderr",
     "output_type": "stream",
     "text": [
      "\r",
      "Sampling 3 chains, 294 divergences:  80%|███████▉  | 954/1200 [00:40<00:13, 18.22draws/s]"
     ]
    },
    {
     "name": "stderr",
     "output_type": "stream",
     "text": [
      "\r",
      "Sampling 3 chains, 294 divergences:  80%|███████▉  | 957/1200 [00:40<00:12, 19.81draws/s]"
     ]
    },
    {
     "name": "stderr",
     "output_type": "stream",
     "text": [
      "\r",
      "Sampling 3 chains, 294 divergences:  80%|████████  | 960/1200 [00:41<00:11, 20.10draws/s]"
     ]
    },
    {
     "name": "stderr",
     "output_type": "stream",
     "text": [
      "\r",
      "Sampling 3 chains, 294 divergences:  80%|████████  | 963/1200 [00:41<00:11, 20.38draws/s]"
     ]
    },
    {
     "name": "stderr",
     "output_type": "stream",
     "text": [
      "\r",
      "Sampling 3 chains, 294 divergences:  80%|████████  | 966/1200 [00:41<00:10, 21.71draws/s]"
     ]
    },
    {
     "name": "stderr",
     "output_type": "stream",
     "text": [
      "\r",
      "Sampling 3 chains, 294 divergences:  81%|████████  | 969/1200 [00:41<00:10, 21.28draws/s]"
     ]
    },
    {
     "name": "stderr",
     "output_type": "stream",
     "text": [
      "\r",
      "Sampling 3 chains, 294 divergences:  81%|████████  | 972/1200 [00:41<00:10, 21.21draws/s]"
     ]
    },
    {
     "name": "stderr",
     "output_type": "stream",
     "text": [
      "\r",
      "Sampling 3 chains, 294 divergences:  81%|████████▏ | 975/1200 [00:41<00:10, 21.27draws/s]"
     ]
    },
    {
     "name": "stderr",
     "output_type": "stream",
     "text": [
      "\r",
      "Sampling 3 chains, 294 divergences:  82%|████████▏ | 978/1200 [00:41<00:10, 21.28draws/s]"
     ]
    },
    {
     "name": "stderr",
     "output_type": "stream",
     "text": [
      "\r",
      "Sampling 3 chains, 294 divergences:  82%|████████▏ | 981/1200 [00:42<00:11, 19.29draws/s]"
     ]
    },
    {
     "name": "stderr",
     "output_type": "stream",
     "text": [
      "\r",
      "Sampling 3 chains, 294 divergences:  82%|████████▏ | 983/1200 [00:42<00:12, 17.23draws/s]"
     ]
    },
    {
     "name": "stderr",
     "output_type": "stream",
     "text": [
      "\r",
      "Sampling 3 chains, 294 divergences:  82%|████████▏ | 986/1200 [00:42<00:11, 18.14draws/s]"
     ]
    },
    {
     "name": "stderr",
     "output_type": "stream",
     "text": [
      "\r",
      "Sampling 3 chains, 294 divergences:  82%|████████▏ | 988/1200 [00:42<00:11, 18.63draws/s]"
     ]
    },
    {
     "name": "stderr",
     "output_type": "stream",
     "text": [
      "\r",
      "Sampling 3 chains, 294 divergences:  83%|████████▎ | 991/1200 [00:42<00:10, 19.24draws/s]"
     ]
    },
    {
     "name": "stderr",
     "output_type": "stream",
     "text": [
      "\r",
      "Sampling 3 chains, 294 divergences:  83%|████████▎ | 994/1200 [00:42<00:10, 19.78draws/s]"
     ]
    },
    {
     "name": "stderr",
     "output_type": "stream",
     "text": [
      "\r",
      "Sampling 3 chains, 294 divergences:  83%|████████▎ | 997/1200 [00:42<00:10, 20.24draws/s]"
     ]
    },
    {
     "name": "stderr",
     "output_type": "stream",
     "text": [
      "\r",
      "Sampling 3 chains, 294 divergences:  83%|████████▎ | 1000/1200 [00:43<00:09, 20.42draws/s]"
     ]
    },
    {
     "name": "stderr",
     "output_type": "stream",
     "text": [
      "\r",
      "Sampling 3 chains, 294 divergences:  84%|████████▎ | 1003/1200 [00:43<00:11, 17.33draws/s]"
     ]
    },
    {
     "name": "stderr",
     "output_type": "stream",
     "text": [
      "\r",
      "Sampling 3 chains, 294 divergences:  84%|████████▍ | 1006/1200 [00:43<00:10, 18.37draws/s]"
     ]
    },
    {
     "name": "stderr",
     "output_type": "stream",
     "text": [
      "\r",
      "Sampling 3 chains, 294 divergences:  84%|████████▍ | 1008/1200 [00:43<00:11, 16.93draws/s]"
     ]
    },
    {
     "name": "stderr",
     "output_type": "stream",
     "text": [
      "\r",
      "Sampling 3 chains, 294 divergences:  84%|████████▍ | 1011/1200 [00:43<00:10, 17.94draws/s]"
     ]
    },
    {
     "name": "stderr",
     "output_type": "stream",
     "text": [
      "\r",
      "Sampling 3 chains, 295 divergences:  84%|████████▍ | 1012/1200 [00:43<00:10, 17.94draws/s]"
     ]
    },
    {
     "name": "stderr",
     "output_type": "stream",
     "text": [
      "\r",
      "Sampling 3 chains, 295 divergences:  84%|████████▍ | 1013/1200 [00:43<00:10, 17.48draws/s]"
     ]
    },
    {
     "name": "stderr",
     "output_type": "stream",
     "text": [
      "\r",
      "Sampling 3 chains, 295 divergences:  85%|████████▍ | 1015/1200 [00:44<00:19,  9.72draws/s]"
     ]
    },
    {
     "name": "stderr",
     "output_type": "stream",
     "text": [
      "\r",
      "Sampling 3 chains, 296 divergences:  85%|████████▍ | 1015/1200 [00:44<00:19,  9.72draws/s]"
     ]
    },
    {
     "name": "stderr",
     "output_type": "stream",
     "text": [
      "\r",
      "Sampling 3 chains, 296 divergences:  85%|████████▍ | 1018/1200 [00:44<00:15, 11.64draws/s]"
     ]
    },
    {
     "name": "stderr",
     "output_type": "stream",
     "text": [
      "\r",
      "Sampling 3 chains, 296 divergences:  85%|████████▌ | 1020/1200 [00:44<00:14, 12.30draws/s]"
     ]
    },
    {
     "name": "stderr",
     "output_type": "stream",
     "text": [
      "\r",
      "Sampling 3 chains, 297 divergences:  85%|████████▌ | 1020/1200 [00:44<00:14, 12.30draws/s]"
     ]
    },
    {
     "name": "stderr",
     "output_type": "stream",
     "text": [
      "\r",
      "Sampling 3 chains, 297 divergences:  85%|████████▌ | 1023/1200 [00:44<00:12, 14.65draws/s]"
     ]
    },
    {
     "name": "stderr",
     "output_type": "stream",
     "text": [
      "\r",
      "Sampling 3 chains, 298 divergences:  85%|████████▌ | 1025/1200 [00:44<00:11, 14.65draws/s]"
     ]
    },
    {
     "name": "stderr",
     "output_type": "stream",
     "text": [
      "\r",
      "Sampling 3 chains, 298 divergences:  86%|████████▌ | 1026/1200 [00:44<00:10, 16.60draws/s]"
     ]
    },
    {
     "name": "stderr",
     "output_type": "stream",
     "text": [
      "\r",
      "Sampling 3 chains, 299 divergences:  86%|████████▌ | 1026/1200 [00:44<00:10, 16.60draws/s]"
     ]
    },
    {
     "name": "stderr",
     "output_type": "stream",
     "text": [
      "\r",
      "Sampling 3 chains, 299 divergences:  86%|████████▌ | 1029/1200 [00:44<00:10, 16.75draws/s]"
     ]
    },
    {
     "name": "stderr",
     "output_type": "stream",
     "text": [
      "\r",
      "Sampling 3 chains, 300 divergences:  86%|████████▌ | 1029/1200 [00:44<00:10, 16.75draws/s]"
     ]
    },
    {
     "name": "stderr",
     "output_type": "stream",
     "text": [
      "\r",
      "Sampling 3 chains, 301 divergences:  86%|████████▌ | 1030/1200 [00:45<00:10, 16.75draws/s]"
     ]
    },
    {
     "name": "stderr",
     "output_type": "stream",
     "text": [
      "\r",
      "Sampling 3 chains, 302 divergences:  86%|████████▌ | 1032/1200 [00:45<00:10, 16.75draws/s]"
     ]
    },
    {
     "name": "stderr",
     "output_type": "stream",
     "text": [
      "\r",
      "Sampling 3 chains, 302 divergences:  86%|████████▌ | 1033/1200 [00:45<00:08, 19.36draws/s]"
     ]
    },
    {
     "name": "stderr",
     "output_type": "stream",
     "text": [
      "\r",
      "Sampling 3 chains, 303 divergences:  86%|████████▌ | 1033/1200 [00:45<00:08, 19.36draws/s]"
     ]
    },
    {
     "name": "stderr",
     "output_type": "stream",
     "text": [
      "\r",
      "Sampling 3 chains, 304 divergences:  86%|████████▌ | 1034/1200 [00:45<00:08, 19.36draws/s]"
     ]
    },
    {
     "name": "stderr",
     "output_type": "stream",
     "text": [
      "\r",
      "Sampling 3 chains, 305 divergences:  86%|████████▋ | 1035/1200 [00:45<00:08, 19.36draws/s]"
     ]
    },
    {
     "name": "stderr",
     "output_type": "stream",
     "text": [
      "\r",
      "Sampling 3 chains, 306 divergences:  86%|████████▋ | 1036/1200 [00:45<00:08, 19.36draws/s]"
     ]
    },
    {
     "name": "stderr",
     "output_type": "stream",
     "text": [
      "\r",
      "Sampling 3 chains, 306 divergences:  86%|████████▋ | 1037/1200 [00:45<00:07, 22.21draws/s]"
     ]
    },
    {
     "name": "stderr",
     "output_type": "stream",
     "text": [
      "\r",
      "Sampling 3 chains, 307 divergences:  86%|████████▋ | 1037/1200 [00:45<00:07, 22.21draws/s]"
     ]
    },
    {
     "name": "stderr",
     "output_type": "stream",
     "text": [
      "\r",
      "Sampling 3 chains, 308 divergences:  86%|████████▋ | 1038/1200 [00:45<00:07, 22.21draws/s]"
     ]
    },
    {
     "name": "stderr",
     "output_type": "stream",
     "text": [
      "\r",
      "Sampling 3 chains, 309 divergences:  87%|████████▋ | 1039/1200 [00:45<00:07, 22.21draws/s]"
     ]
    },
    {
     "name": "stderr",
     "output_type": "stream",
     "text": [
      "\r",
      "Sampling 3 chains, 310 divergences:  87%|████████▋ | 1040/1200 [00:45<00:07, 22.21draws/s]"
     ]
    },
    {
     "name": "stderr",
     "output_type": "stream",
     "text": [
      "\r",
      "Sampling 3 chains, 311 divergences:  87%|████████▋ | 1041/1200 [00:45<00:07, 22.21draws/s]"
     ]
    },
    {
     "name": "stderr",
     "output_type": "stream",
     "text": [
      "\r",
      "Sampling 3 chains, 311 divergences:  87%|████████▋ | 1042/1200 [00:45<00:05, 26.49draws/s]"
     ]
    },
    {
     "name": "stderr",
     "output_type": "stream",
     "text": [
      "\r",
      "Sampling 3 chains, 312 divergences:  87%|████████▋ | 1042/1200 [00:45<00:05, 26.49draws/s]"
     ]
    },
    {
     "name": "stderr",
     "output_type": "stream",
     "text": [
      "\r",
      "Sampling 3 chains, 313 divergences:  87%|████████▋ | 1043/1200 [00:45<00:05, 26.49draws/s]"
     ]
    },
    {
     "name": "stderr",
     "output_type": "stream",
     "text": [
      "\r",
      "Sampling 3 chains, 314 divergences:  87%|████████▋ | 1044/1200 [00:45<00:05, 26.49draws/s]"
     ]
    },
    {
     "name": "stderr",
     "output_type": "stream",
     "text": [
      "\r",
      "Sampling 3 chains, 315 divergences:  87%|████████▋ | 1045/1200 [00:45<00:05, 26.49draws/s]"
     ]
    },
    {
     "name": "stderr",
     "output_type": "stream",
     "text": [
      "\r",
      "Sampling 3 chains, 315 divergences:  87%|████████▋ | 1047/1200 [00:45<00:05, 28.85draws/s]"
     ]
    },
    {
     "name": "stderr",
     "output_type": "stream",
     "text": [
      "\r",
      "Sampling 3 chains, 316 divergences:  87%|████████▋ | 1047/1200 [00:45<00:05, 28.85draws/s]"
     ]
    },
    {
     "name": "stderr",
     "output_type": "stream",
     "text": [
      "\r",
      "Sampling 3 chains, 316 divergences:  88%|████████▊ | 1051/1200 [00:45<00:06, 24.28draws/s]"
     ]
    },
    {
     "name": "stderr",
     "output_type": "stream",
     "text": [
      "\r",
      "Sampling 3 chains, 317 divergences:  88%|████████▊ | 1051/1200 [00:45<00:06, 24.28draws/s]"
     ]
    },
    {
     "name": "stderr",
     "output_type": "stream",
     "text": [
      "\r",
      "Sampling 3 chains, 318 divergences:  88%|████████▊ | 1053/1200 [00:45<00:06, 24.28draws/s]"
     ]
    },
    {
     "name": "stderr",
     "output_type": "stream",
     "text": [
      "\r",
      "Sampling 3 chains, 318 divergences:  88%|████████▊ | 1054/1200 [00:45<00:06, 21.80draws/s]"
     ]
    },
    {
     "name": "stderr",
     "output_type": "stream",
     "text": [
      "\r",
      "Sampling 3 chains, 319 divergences:  88%|████████▊ | 1054/1200 [00:45<00:06, 21.80draws/s]"
     ]
    },
    {
     "name": "stderr",
     "output_type": "stream",
     "text": [
      "\r",
      "Sampling 3 chains, 320 divergences:  88%|████████▊ | 1055/1200 [00:45<00:06, 21.80draws/s]"
     ]
    },
    {
     "name": "stderr",
     "output_type": "stream",
     "text": [
      "\r",
      "Sampling 3 chains, 321 divergences:  88%|████████▊ | 1056/1200 [00:46<00:06, 21.80draws/s]"
     ]
    },
    {
     "name": "stderr",
     "output_type": "stream",
     "text": [
      "\r",
      "Sampling 3 chains, 321 divergences:  88%|████████▊ | 1057/1200 [00:46<00:06, 20.85draws/s]"
     ]
    },
    {
     "name": "stderr",
     "output_type": "stream",
     "text": [
      "\r",
      "Sampling 3 chains, 322 divergences:  88%|████████▊ | 1058/1200 [00:46<00:06, 20.85draws/s]"
     ]
    },
    {
     "name": "stderr",
     "output_type": "stream",
     "text": [
      "\r",
      "Sampling 3 chains, 323 divergences:  88%|████████▊ | 1059/1200 [00:46<00:06, 20.85draws/s]"
     ]
    },
    {
     "name": "stderr",
     "output_type": "stream",
     "text": [
      "\r",
      "Sampling 3 chains, 323 divergences:  88%|████████▊ | 1060/1200 [00:46<00:06, 21.04draws/s]"
     ]
    },
    {
     "name": "stderr",
     "output_type": "stream",
     "text": [
      "\r",
      "Sampling 3 chains, 324 divergences:  88%|████████▊ | 1061/1200 [00:46<00:06, 21.04draws/s]"
     ]
    },
    {
     "name": "stderr",
     "output_type": "stream",
     "text": [
      "\r",
      "Sampling 3 chains, 325 divergences:  88%|████████▊ | 1062/1200 [00:46<00:06, 21.04draws/s]"
     ]
    },
    {
     "name": "stderr",
     "output_type": "stream",
     "text": [
      "\r",
      "Sampling 3 chains, 325 divergences:  89%|████████▊ | 1063/1200 [00:46<00:06, 22.46draws/s]"
     ]
    },
    {
     "name": "stderr",
     "output_type": "stream",
     "text": [
      "\r",
      "Sampling 3 chains, 326 divergences:  89%|████████▊ | 1063/1200 [00:46<00:06, 22.46draws/s]"
     ]
    },
    {
     "name": "stderr",
     "output_type": "stream",
     "text": [
      "\r",
      "Sampling 3 chains, 327 divergences:  89%|████████▊ | 1064/1200 [00:46<00:06, 22.46draws/s]"
     ]
    },
    {
     "name": "stderr",
     "output_type": "stream",
     "text": [
      "\r",
      "Sampling 3 chains, 328 divergences:  89%|████████▉ | 1065/1200 [00:46<00:06, 22.46draws/s]"
     ]
    },
    {
     "name": "stderr",
     "output_type": "stream",
     "text": [
      "\r",
      "Sampling 3 chains, 329 divergences:  89%|████████▉ | 1066/1200 [00:46<00:05, 22.46draws/s]"
     ]
    },
    {
     "name": "stderr",
     "output_type": "stream",
     "text": [
      "\r",
      "Sampling 3 chains, 329 divergences:  89%|████████▉ | 1067/1200 [00:46<00:05, 25.66draws/s]"
     ]
    },
    {
     "name": "stderr",
     "output_type": "stream",
     "text": [
      "\r",
      "Sampling 3 chains, 330 divergences:  89%|████████▉ | 1067/1200 [00:46<00:05, 25.66draws/s]"
     ]
    },
    {
     "name": "stderr",
     "output_type": "stream",
     "text": [
      "\r",
      "Sampling 3 chains, 331 divergences:  89%|████████▉ | 1068/1200 [00:46<00:05, 25.66draws/s]"
     ]
    },
    {
     "name": "stderr",
     "output_type": "stream",
     "text": [
      "\r",
      "Sampling 3 chains, 332 divergences:  89%|████████▉ | 1069/1200 [00:46<00:05, 25.66draws/s]"
     ]
    },
    {
     "name": "stderr",
     "output_type": "stream",
     "text": [
      "\r",
      "Sampling 3 chains, 333 divergences:  89%|████████▉ | 1070/1200 [00:46<00:05, 25.66draws/s]"
     ]
    },
    {
     "name": "stderr",
     "output_type": "stream",
     "text": [
      "\r",
      "Sampling 3 chains, 333 divergences:  89%|████████▉ | 1071/1200 [00:46<00:04, 26.39draws/s]"
     ]
    },
    {
     "name": "stderr",
     "output_type": "stream",
     "text": [
      "\r",
      "Sampling 3 chains, 334 divergences:  89%|████████▉ | 1071/1200 [00:46<00:04, 26.39draws/s]"
     ]
    },
    {
     "name": "stderr",
     "output_type": "stream",
     "text": [
      "\r",
      "Sampling 3 chains, 335 divergences:  89%|████████▉ | 1072/1200 [00:46<00:04, 26.39draws/s]"
     ]
    },
    {
     "name": "stderr",
     "output_type": "stream",
     "text": [
      "\r",
      "Sampling 3 chains, 336 divergences:  89%|████████▉ | 1073/1200 [00:46<00:04, 26.39draws/s]"
     ]
    },
    {
     "name": "stderr",
     "output_type": "stream",
     "text": [
      "\r",
      "Sampling 3 chains, 336 divergences:  90%|████████▉ | 1074/1200 [00:46<00:07, 16.20draws/s]"
     ]
    },
    {
     "name": "stderr",
     "output_type": "stream",
     "text": [
      "\r",
      "Sampling 3 chains, 337 divergences:  90%|████████▉ | 1074/1200 [00:46<00:07, 16.20draws/s]"
     ]
    },
    {
     "name": "stderr",
     "output_type": "stream",
     "text": [
      "\r",
      "Sampling 3 chains, 338 divergences:  90%|████████▉ | 1075/1200 [00:46<00:07, 16.20draws/s]"
     ]
    },
    {
     "name": "stderr",
     "output_type": "stream",
     "text": [
      "\r",
      "Sampling 3 chains, 339 divergences:  90%|████████▉ | 1076/1200 [00:46<00:07, 16.20draws/s]"
     ]
    },
    {
     "name": "stderr",
     "output_type": "stream",
     "text": [
      "\r",
      "Sampling 3 chains, 340 divergences:  90%|████████▉ | 1077/1200 [00:46<00:07, 16.20draws/s]"
     ]
    },
    {
     "name": "stderr",
     "output_type": "stream",
     "text": [
      "\r",
      "Sampling 3 chains, 341 divergences:  90%|████████▉ | 1078/1200 [00:46<00:07, 16.20draws/s]"
     ]
    },
    {
     "name": "stderr",
     "output_type": "stream",
     "text": [
      "\r",
      "Sampling 3 chains, 342 divergences:  90%|████████▉ | 1079/1200 [00:46<00:07, 16.20draws/s]"
     ]
    },
    {
     "name": "stderr",
     "output_type": "stream",
     "text": [
      "\r",
      "Sampling 3 chains, 343 divergences:  90%|█████████ | 1080/1200 [00:46<00:07, 16.20draws/s]"
     ]
    },
    {
     "name": "stderr",
     "output_type": "stream",
     "text": [
      "\r",
      "Sampling 3 chains, 344 divergences:  90%|█████████ | 1081/1200 [00:46<00:07, 16.20draws/s]"
     ]
    },
    {
     "name": "stderr",
     "output_type": "stream",
     "text": [
      "\r",
      "Sampling 3 chains, 345 divergences:  90%|█████████ | 1082/1200 [00:46<00:07, 16.20draws/s]"
     ]
    },
    {
     "name": "stderr",
     "output_type": "stream",
     "text": [
      "\r",
      "Sampling 3 chains, 346 divergences:  90%|█████████ | 1083/1200 [00:46<00:07, 16.20draws/s]"
     ]
    },
    {
     "name": "stderr",
     "output_type": "stream",
     "text": [
      "\r",
      "Sampling 3 chains, 346 divergences:  90%|█████████ | 1084/1200 [00:46<00:05, 21.48draws/s]"
     ]
    },
    {
     "name": "stderr",
     "output_type": "stream",
     "text": [
      "\r",
      "Sampling 3 chains, 347 divergences:  90%|█████████ | 1084/1200 [00:46<00:05, 21.48draws/s]"
     ]
    },
    {
     "name": "stderr",
     "output_type": "stream",
     "text": [
      "\r",
      "Sampling 3 chains, 348 divergences:  90%|█████████ | 1085/1200 [00:46<00:05, 21.48draws/s]"
     ]
    },
    {
     "name": "stderr",
     "output_type": "stream",
     "text": [
      "\r",
      "Sampling 3 chains, 349 divergences:  90%|█████████ | 1086/1200 [00:47<00:05, 21.48draws/s]"
     ]
    },
    {
     "name": "stderr",
     "output_type": "stream",
     "text": [
      "\r",
      "Sampling 3 chains, 350 divergences:  91%|█████████ | 1087/1200 [00:47<00:05, 21.48draws/s]"
     ]
    },
    {
     "name": "stderr",
     "output_type": "stream",
     "text": [
      "\r",
      "Sampling 3 chains, 351 divergences:  91%|█████████ | 1088/1200 [00:47<00:05, 21.48draws/s]"
     ]
    },
    {
     "name": "stderr",
     "output_type": "stream",
     "text": [
      "\r",
      "Sampling 3 chains, 351 divergences:  91%|█████████ | 1089/1200 [00:47<00:04, 24.87draws/s]"
     ]
    },
    {
     "name": "stderr",
     "output_type": "stream",
     "text": [
      "\r",
      "Sampling 3 chains, 352 divergences:  91%|█████████ | 1090/1200 [00:47<00:04, 24.87draws/s]"
     ]
    },
    {
     "name": "stderr",
     "output_type": "stream",
     "text": [
      "\r",
      "Sampling 3 chains, 353 divergences:  91%|█████████ | 1091/1200 [00:47<00:04, 24.87draws/s]"
     ]
    },
    {
     "name": "stderr",
     "output_type": "stream",
     "text": [
      "\r",
      "Sampling 3 chains, 354 divergences:  91%|█████████ | 1092/1200 [00:47<00:04, 24.87draws/s]"
     ]
    },
    {
     "name": "stderr",
     "output_type": "stream",
     "text": [
      "\r",
      "Sampling 3 chains, 354 divergences:  91%|█████████ | 1094/1200 [00:47<00:05, 19.38draws/s]"
     ]
    },
    {
     "name": "stderr",
     "output_type": "stream",
     "text": [
      "\r",
      "Sampling 3 chains, 355 divergences:  91%|█████████ | 1094/1200 [00:47<00:05, 19.38draws/s]"
     ]
    },
    {
     "name": "stderr",
     "output_type": "stream",
     "text": [
      "\r",
      "Sampling 3 chains, 356 divergences:  91%|█████████▏| 1095/1200 [00:47<00:05, 19.38draws/s]"
     ]
    },
    {
     "name": "stderr",
     "output_type": "stream",
     "text": [
      "\r",
      "Sampling 3 chains, 356 divergences:  92%|█████████▏| 1098/1200 [00:47<00:04, 21.73draws/s]"
     ]
    },
    {
     "name": "stderr",
     "output_type": "stream",
     "text": [
      "\r",
      "Sampling 3 chains, 357 divergences:  92%|█████████▏| 1100/1200 [00:47<00:04, 21.73draws/s]"
     ]
    },
    {
     "name": "stderr",
     "output_type": "stream",
     "text": [
      "\r",
      "Sampling 3 chains, 357 divergences:  92%|█████████▏| 1102/1200 [00:47<00:05, 18.87draws/s]"
     ]
    },
    {
     "name": "stderr",
     "output_type": "stream",
     "text": [
      "\r",
      "Sampling 3 chains, 358 divergences:  92%|█████████▏| 1103/1200 [00:47<00:05, 18.87draws/s]"
     ]
    },
    {
     "name": "stderr",
     "output_type": "stream",
     "text": [
      "\r",
      "Sampling 3 chains, 359 divergences:  92%|█████████▏| 1104/1200 [00:48<00:05, 18.87draws/s]"
     ]
    },
    {
     "name": "stderr",
     "output_type": "stream",
     "text": [
      "\r",
      "Sampling 3 chains, 359 divergences:  92%|█████████▏| 1105/1200 [00:48<00:04, 20.62draws/s]"
     ]
    },
    {
     "name": "stderr",
     "output_type": "stream",
     "text": [
      "\r",
      "Sampling 3 chains, 360 divergences:  92%|█████████▏| 1105/1200 [00:48<00:04, 20.62draws/s]"
     ]
    },
    {
     "name": "stderr",
     "output_type": "stream",
     "text": [
      "\r",
      "Sampling 3 chains, 361 divergences:  92%|█████████▏| 1106/1200 [00:48<00:04, 20.62draws/s]"
     ]
    },
    {
     "name": "stderr",
     "output_type": "stream",
     "text": [
      "\r",
      "Sampling 3 chains, 362 divergences:  92%|█████████▏| 1107/1200 [00:48<00:04, 20.62draws/s]"
     ]
    },
    {
     "name": "stderr",
     "output_type": "stream",
     "text": [
      "\r",
      "Sampling 3 chains, 362 divergences:  92%|█████████▏| 1108/1200 [00:48<00:04, 18.57draws/s]"
     ]
    },
    {
     "name": "stderr",
     "output_type": "stream",
     "text": [
      "\r",
      "Sampling 3 chains, 363 divergences:  92%|█████████▏| 1108/1200 [00:48<00:04, 18.57draws/s]"
     ]
    },
    {
     "name": "stderr",
     "output_type": "stream",
     "text": [
      "\r",
      "Sampling 3 chains, 364 divergences:  92%|█████████▏| 1109/1200 [00:48<00:04, 18.57draws/s]"
     ]
    },
    {
     "name": "stderr",
     "output_type": "stream",
     "text": [
      "\r",
      "Sampling 3 chains, 365 divergences:  92%|█████████▎| 1110/1200 [00:48<00:04, 18.57draws/s]"
     ]
    },
    {
     "name": "stderr",
     "output_type": "stream",
     "text": [
      "\r",
      "Sampling 3 chains, 365 divergences:  93%|█████████▎| 1112/1200 [00:48<00:04, 21.42draws/s]"
     ]
    },
    {
     "name": "stderr",
     "output_type": "stream",
     "text": [
      "\r",
      "Sampling 3 chains, 365 divergences:  93%|█████████▎| 1115/1200 [00:48<00:04, 18.61draws/s]"
     ]
    },
    {
     "name": "stderr",
     "output_type": "stream",
     "text": [
      "\r",
      "Sampling 3 chains, 366 divergences:  93%|█████████▎| 1116/1200 [00:48<00:04, 18.61draws/s]"
     ]
    },
    {
     "name": "stderr",
     "output_type": "stream",
     "text": [
      "\r",
      "Sampling 3 chains, 367 divergences:  93%|█████████▎| 1117/1200 [00:48<00:04, 18.61draws/s]"
     ]
    },
    {
     "name": "stderr",
     "output_type": "stream",
     "text": [
      "\r",
      "Sampling 3 chains, 367 divergences:  93%|█████████▎| 1118/1200 [00:48<00:04, 17.38draws/s]"
     ]
    },
    {
     "name": "stderr",
     "output_type": "stream",
     "text": [
      "\r",
      "Sampling 3 chains, 367 divergences:  93%|█████████▎| 1121/1200 [00:48<00:04, 18.49draws/s]"
     ]
    },
    {
     "name": "stderr",
     "output_type": "stream",
     "text": [
      "\r",
      "Sampling 3 chains, 368 divergences:  93%|█████████▎| 1121/1200 [00:48<00:04, 18.49draws/s]"
     ]
    },
    {
     "name": "stderr",
     "output_type": "stream",
     "text": [
      "\r",
      "Sampling 3 chains, 369 divergences:  94%|█████████▎| 1122/1200 [00:49<00:04, 18.49draws/s]"
     ]
    },
    {
     "name": "stderr",
     "output_type": "stream",
     "text": [
      "\r",
      "Sampling 3 chains, 369 divergences:  94%|█████████▎| 1124/1200 [00:49<00:03, 19.04draws/s]"
     ]
    },
    {
     "name": "stderr",
     "output_type": "stream",
     "text": [
      "\r",
      "Sampling 3 chains, 370 divergences:  94%|█████████▍| 1126/1200 [00:49<00:03, 19.04draws/s]"
     ]
    },
    {
     "name": "stderr",
     "output_type": "stream",
     "text": [
      "\r",
      "Sampling 3 chains, 370 divergences:  94%|█████████▍| 1127/1200 [00:49<00:04, 15.80draws/s]"
     ]
    },
    {
     "name": "stderr",
     "output_type": "stream",
     "text": [
      "\r",
      "Sampling 3 chains, 370 divergences:  94%|█████████▍| 1129/1200 [00:49<00:04, 15.46draws/s]"
     ]
    },
    {
     "name": "stderr",
     "output_type": "stream",
     "text": [
      "\r",
      "Sampling 3 chains, 370 divergences:  94%|█████████▍| 1131/1200 [00:49<00:04, 16.49draws/s]"
     ]
    },
    {
     "name": "stderr",
     "output_type": "stream",
     "text": [
      "\r",
      "Sampling 3 chains, 370 divergences:  94%|█████████▍| 1134/1200 [00:49<00:04, 15.20draws/s]"
     ]
    },
    {
     "name": "stderr",
     "output_type": "stream",
     "text": [
      "\r",
      "Sampling 3 chains, 371 divergences:  95%|█████████▍| 1136/1200 [00:49<00:04, 15.20draws/s]"
     ]
    },
    {
     "name": "stderr",
     "output_type": "stream",
     "text": [
      "\r",
      "Sampling 3 chains, 371 divergences:  95%|█████████▍| 1137/1200 [00:49<00:03, 17.05draws/s]"
     ]
    },
    {
     "name": "stderr",
     "output_type": "stream",
     "text": [
      "\r",
      "Sampling 3 chains, 372 divergences:  95%|█████████▍| 1137/1200 [00:49<00:03, 17.05draws/s]"
     ]
    },
    {
     "name": "stderr",
     "output_type": "stream",
     "text": [
      "\r",
      "Sampling 3 chains, 372 divergences:  95%|█████████▌| 1140/1200 [00:50<00:03, 18.78draws/s]"
     ]
    },
    {
     "name": "stderr",
     "output_type": "stream",
     "text": [
      "\r",
      "Sampling 3 chains, 372 divergences:  95%|█████████▌| 1143/1200 [00:50<00:02, 19.20draws/s]"
     ]
    },
    {
     "name": "stderr",
     "output_type": "stream",
     "text": [
      "\r",
      "Sampling 3 chains, 372 divergences:  96%|█████████▌| 1146/1200 [00:50<00:02, 18.18draws/s]"
     ]
    },
    {
     "name": "stderr",
     "output_type": "stream",
     "text": [
      "\r",
      "Sampling 3 chains, 372 divergences:  96%|█████████▌| 1149/1200 [00:50<00:02, 18.99draws/s]"
     ]
    },
    {
     "name": "stderr",
     "output_type": "stream",
     "text": [
      "\r",
      "Sampling 3 chains, 372 divergences:  96%|█████████▌| 1151/1200 [00:50<00:03, 13.85draws/s]"
     ]
    },
    {
     "name": "stderr",
     "output_type": "stream",
     "text": [
      "\r",
      "Sampling 3 chains, 373 divergences:  96%|█████████▌| 1152/1200 [00:50<00:03, 13.85draws/s]"
     ]
    },
    {
     "name": "stderr",
     "output_type": "stream",
     "text": [
      "\r",
      "Sampling 3 chains, 373 divergences:  96%|█████████▌| 1153/1200 [00:50<00:04, 11.54draws/s]"
     ]
    },
    {
     "name": "stderr",
     "output_type": "stream",
     "text": [
      "\r",
      "Sampling 3 chains, 373 divergences:  96%|█████████▋| 1155/1200 [00:51<00:05,  8.56draws/s]"
     ]
    },
    {
     "name": "stderr",
     "output_type": "stream",
     "text": [
      "\r",
      "Sampling 3 chains, 374 divergences:  96%|█████████▋| 1156/1200 [00:51<00:05,  8.56draws/s]"
     ]
    },
    {
     "name": "stderr",
     "output_type": "stream",
     "text": [
      "\r",
      "Sampling 3 chains, 374 divergences:  96%|█████████▋| 1157/1200 [00:51<00:06,  6.60draws/s]"
     ]
    },
    {
     "name": "stderr",
     "output_type": "stream",
     "text": [
      "\r",
      "Sampling 3 chains, 375 divergences:  96%|█████████▋| 1157/1200 [00:51<00:06,  6.60draws/s]"
     ]
    },
    {
     "name": "stderr",
     "output_type": "stream",
     "text": [
      "\r",
      "Sampling 3 chains, 375 divergences:  97%|█████████▋| 1159/1200 [00:52<00:05,  7.30draws/s]"
     ]
    },
    {
     "name": "stderr",
     "output_type": "stream",
     "text": [
      "\r",
      "Sampling 3 chains, 375 divergences:  97%|█████████▋| 1160/1200 [00:52<00:06,  6.53draws/s]"
     ]
    },
    {
     "name": "stderr",
     "output_type": "stream",
     "text": [
      "\r",
      "Sampling 3 chains, 375 divergences:  97%|█████████▋| 1161/1200 [00:52<00:05,  6.61draws/s]"
     ]
    },
    {
     "name": "stderr",
     "output_type": "stream",
     "text": [
      "\r",
      "Sampling 3 chains, 375 divergences:  97%|█████████▋| 1163/1200 [00:52<00:04,  7.87draws/s]"
     ]
    },
    {
     "name": "stderr",
     "output_type": "stream",
     "text": [
      "\r",
      "Sampling 3 chains, 376 divergences:  97%|█████████▋| 1163/1200 [00:52<00:04,  7.87draws/s]"
     ]
    },
    {
     "name": "stderr",
     "output_type": "stream",
     "text": [
      "\r",
      "Sampling 3 chains, 376 divergences:  97%|█████████▋| 1164/1200 [00:52<00:07,  5.02draws/s]"
     ]
    },
    {
     "name": "stderr",
     "output_type": "stream",
     "text": [
      "\r",
      "Sampling 3 chains, 377 divergences:  97%|█████████▋| 1164/1200 [00:52<00:07,  5.02draws/s]"
     ]
    },
    {
     "name": "stderr",
     "output_type": "stream",
     "text": [
      "\r",
      "Sampling 3 chains, 377 divergences:  97%|█████████▋| 1166/1200 [00:53<00:06,  5.53draws/s]"
     ]
    },
    {
     "name": "stderr",
     "output_type": "stream",
     "text": [
      "\r",
      "Sampling 3 chains, 377 divergences:  97%|█████████▋| 1167/1200 [00:53<00:06,  5.49draws/s]"
     ]
    },
    {
     "name": "stderr",
     "output_type": "stream",
     "text": [
      "\r",
      "Sampling 3 chains, 377 divergences:  97%|█████████▋| 1168/1200 [00:53<00:05,  5.48draws/s]"
     ]
    },
    {
     "name": "stderr",
     "output_type": "stream",
     "text": [
      "\r",
      "Sampling 3 chains, 377 divergences:  98%|█████████▊| 1170/1200 [00:53<00:05,  5.04draws/s]"
     ]
    },
    {
     "name": "stderr",
     "output_type": "stream",
     "text": [
      "\r",
      "Sampling 3 chains, 377 divergences:  98%|█████████▊| 1172/1200 [00:54<00:05,  5.44draws/s]"
     ]
    },
    {
     "name": "stderr",
     "output_type": "stream",
     "text": [
      "\r",
      "Sampling 3 chains, 377 divergences:  98%|█████████▊| 1173/1200 [00:54<00:06,  4.15draws/s]"
     ]
    },
    {
     "name": "stderr",
     "output_type": "stream",
     "text": [
      "\r",
      "Sampling 3 chains, 377 divergences:  98%|█████████▊| 1175/1200 [00:55<00:05,  4.45draws/s]"
     ]
    },
    {
     "name": "stderr",
     "output_type": "stream",
     "text": [
      "\r",
      "Sampling 3 chains, 377 divergences:  98%|█████████▊| 1176/1200 [00:55<00:06,  3.70draws/s]"
     ]
    },
    {
     "name": "stderr",
     "output_type": "stream",
     "text": [
      "\r",
      "Sampling 3 chains, 377 divergences:  98%|█████████▊| 1177/1200 [00:55<00:06,  3.33draws/s]"
     ]
    },
    {
     "name": "stderr",
     "output_type": "stream",
     "text": [
      "\r",
      "Sampling 3 chains, 377 divergences:  98%|█████████▊| 1178/1200 [00:56<00:07,  3.09draws/s]"
     ]
    },
    {
     "name": "stderr",
     "output_type": "stream",
     "text": [
      "\r",
      "Sampling 3 chains, 377 divergences:  98%|█████████▊| 1179/1200 [00:56<00:05,  3.53draws/s]"
     ]
    },
    {
     "name": "stderr",
     "output_type": "stream",
     "text": [
      "\r",
      "Sampling 3 chains, 377 divergences:  98%|█████████▊| 1180/1200 [00:56<00:06,  3.23draws/s]"
     ]
    },
    {
     "name": "stderr",
     "output_type": "stream",
     "text": [
      "\r",
      "Sampling 3 chains, 377 divergences:  98%|█████████▊| 1181/1200 [00:57<00:06,  3.06draws/s]"
     ]
    },
    {
     "name": "stderr",
     "output_type": "stream",
     "text": [
      "\r",
      "Sampling 3 chains, 378 divergences:  98%|█████████▊| 1182/1200 [00:57<00:05,  3.06draws/s]"
     ]
    },
    {
     "name": "stderr",
     "output_type": "stream",
     "text": [
      "\r",
      "Sampling 3 chains, 378 divergences:  99%|█████████▊| 1183/1200 [00:57<00:04,  4.05draws/s]"
     ]
    },
    {
     "name": "stderr",
     "output_type": "stream",
     "text": [
      "\r",
      "Sampling 3 chains, 378 divergences:  99%|█████████▊| 1184/1200 [00:57<00:04,  3.54draws/s]"
     ]
    },
    {
     "name": "stderr",
     "output_type": "stream",
     "text": [
      "\r",
      "Sampling 3 chains, 378 divergences:  99%|█████████▉| 1185/1200 [00:57<00:03,  3.95draws/s]"
     ]
    },
    {
     "name": "stderr",
     "output_type": "stream",
     "text": [
      "\r",
      "Sampling 3 chains, 379 divergences:  99%|█████████▉| 1186/1200 [00:57<00:03,  3.95draws/s]"
     ]
    },
    {
     "name": "stderr",
     "output_type": "stream",
     "text": [
      "\r",
      "Sampling 3 chains, 379 divergences:  99%|█████████▉| 1188/1200 [00:57<00:02,  5.11draws/s]"
     ]
    },
    {
     "name": "stderr",
     "output_type": "stream",
     "text": [
      "\r",
      "Sampling 3 chains, 379 divergences:  99%|█████████▉| 1190/1200 [00:58<00:01,  6.34draws/s]"
     ]
    },
    {
     "name": "stderr",
     "output_type": "stream",
     "text": [
      "\r",
      "Sampling 3 chains, 379 divergences:  99%|█████████▉| 1192/1200 [00:58<00:01,  6.56draws/s]"
     ]
    },
    {
     "name": "stderr",
     "output_type": "stream",
     "text": [
      "\r",
      "Sampling 3 chains, 379 divergences:  99%|█████████▉| 1193/1200 [00:58<00:01,  6.17draws/s]"
     ]
    },
    {
     "name": "stderr",
     "output_type": "stream",
     "text": [
      "\r",
      "Sampling 3 chains, 379 divergences: 100%|█████████▉| 1194/1200 [00:58<00:00,  6.90draws/s]"
     ]
    },
    {
     "name": "stderr",
     "output_type": "stream",
     "text": [
      "\r",
      "Sampling 3 chains, 379 divergences: 100%|█████████▉| 1196/1200 [00:58<00:00,  7.74draws/s]"
     ]
    },
    {
     "name": "stderr",
     "output_type": "stream",
     "text": [
      "\r",
      "Sampling 3 chains, 380 divergences: 100%|█████████▉| 1196/1200 [00:58<00:00,  7.74draws/s]"
     ]
    },
    {
     "name": "stderr",
     "output_type": "stream",
     "text": [
      "\r",
      "Sampling 3 chains, 380 divergences: 100%|█████████▉| 1198/1200 [00:59<00:00,  8.01draws/s]"
     ]
    },
    {
     "name": "stderr",
     "output_type": "stream",
     "text": [
      "\r",
      "Sampling 3 chains, 380 divergences: 100%|██████████| 1200/1200 [00:59<00:00,  6.26draws/s]"
     ]
    },
    {
     "name": "stderr",
     "output_type": "stream",
     "text": [
      "\r",
      "Sampling 3 chains, 380 divergences: 100%|██████████| 1200/1200 [00:59<00:00, 20.16draws/s]"
     ]
    },
    {
     "name": "stderr",
     "output_type": "stream",
     "text": [
      "\n"
     ]
    },
    {
     "name": "stderr",
     "output_type": "stream",
     "text": [
      "There were 153 divergences after tuning. Increase `target_accept` or reparameterize.\n"
     ]
    },
    {
     "name": "stderr",
     "output_type": "stream",
     "text": [
      "The acceptance probability does not match the target. It is 0.3636066747932343, but should be close to 0.8. Try to increase the number of tuning steps.\n"
     ]
    },
    {
     "name": "stderr",
     "output_type": "stream",
     "text": [
      "There were 131 divergences after tuning. Increase `target_accept` or reparameterize.\n"
     ]
    },
    {
     "name": "stderr",
     "output_type": "stream",
     "text": [
      "The acceptance probability does not match the target. It is 0.5923765806243085, but should be close to 0.8. Try to increase the number of tuning steps.\n"
     ]
    },
    {
     "name": "stderr",
     "output_type": "stream",
     "text": [
      "There were 95 divergences after tuning. Increase `target_accept` or reparameterize.\n"
     ]
    },
    {
     "name": "stderr",
     "output_type": "stream",
     "text": [
      "The acceptance probability does not match the target. It is 0.6329376587520027, but should be close to 0.8. Try to increase the number of tuning steps.\n"
     ]
    },
    {
     "name": "stderr",
     "output_type": "stream",
     "text": [
      "The rhat statistic is larger than 1.4 for some parameters. The sampler did not converge.\n"
     ]
    },
    {
     "name": "stderr",
     "output_type": "stream",
     "text": [
      "The estimated number of effective samples is smaller than 200 for some parameters.\n"
     ]
    }
   ],
   "source": [
    "#hide\n",
    "\n",
    "# Initialize the model:\n",
    "mod = initialize_model(df)\n",
    "\n",
    "# Run MCMC sampler1\n",
    "with mod:\n",
    "    trace = pm.sample(300, tune=100,\n",
    "                      chains=3, cores=2)"
   ]
  },
  {
   "cell_type": "code",
   "execution_count": 9,
   "metadata": {
    "colab": {
     "base_uri": "https://localhost:8080/",
     "height": 572
    },
    "colab_type": "code",
    "id": "avV7l1JWTtAp",
    "outputId": "786c8ebb-d672-4ef1-d16b-b6ffbe8d168f",
    "papermill": {
     "duration": 3.103418,
     "end_time": "2020-03-16T02:15:07.481565",
     "exception": false,
     "start_time": "2020-03-16T02:15:04.378147",
     "status": "completed"
    },
    "tags": []
   },
   "outputs": [
    {
     "name": "stdout",
     "output_type": "stream",
     "text": [
      "COVID-19 Global Mortality Rate Estimation:\n",
      "Posterior mean: 0.83%\n",
      "Posterior median: 0.74%\n",
      "95% posterior interval: (0.27%, 2.06%)\n",
      "Probability true rate less than reported rate (3.86%) = 100.00%\n",
      "\n",
      "Posterior probability density for COVID-19 mortality rate, controlling for country factors:\n"
     ]
    },
    {
     "data": {
      "image/png": "[encoded data removed]",
      "text/plain": [
       "<Figure size 1296x576 with 1 Axes>"
      ]
     },
     "metadata": {
      "needs_background": "light"
     },
     "output_type": "display_data"
    }
   ],
   "source": [
    "#collapse-hide\n",
    "\n",
    "n_samp = len(trace['mu_0'])\n",
    "mu0_summary = pm.summary(trace).loc['mu_0']\n",
    "print(\"COVID-19 Global Mortality Rate Estimation:\")\n",
    "print(\"Posterior mean: %0.2f%%\" % (100*trace['mu_0'].mean()))\n",
    "print(\"Posterior median: %0.2f%%\" % (100*np.median(trace['mu_0'])))\n",
    "lower = np.sort(trace['mu_0'])[int(n_samp*0.025)]\n",
    "upper = np.sort(trace['mu_0'])[int(n_samp*0.975)]\n",
    "print(\"95%% posterior interval: (%0.2f%%, %0.2f%%)\" % (100*lower, 100*upper))\n",
    "prob_lt_reported = sum(trace['mu_0'] < reported_mortality_rate) / len(trace['mu_0'])\n",
    "print(\"Probability true rate less than reported rate (%.2f%%) = %.2f%%\" %\n",
    "     (100*reported_mortality_rate, 100*prob_lt_reported))\n",
    "print(\"\")\n",
    "\n",
    "# Posterior plot for mu0\n",
    "print('Posterior probability density for COVID-19 mortality rate, controlling for country factors:')\n",
    "ax = pm.plot_posterior(trace, var_names=['mu_0'], figsize=(18, 8), textsize=18,\n",
    "                       credible_interval=0.95, bw=3.0, lw=3, kind='kde',\n",
    "                       ref_val=round(reported_mortality_rate, 3))"
   ]
  },
  {
   "cell_type": "markdown",
   "metadata": {
    "colab_type": "text",
    "id": "8kGfpMrGU1ML",
    "papermill": {
     "duration": 0.241742,
     "end_time": "2020-03-16T02:15:07.963111",
     "exception": false,
     "start_time": "2020-03-16T02:15:07.721369",
     "status": "completed"
    },
    "tags": []
   },
   "source": [
    "## Magnitude and Significance of Factors \n",
    "\n",
    "For bias in reported COVID-19 mortality rate"
   ]
  },
  {
   "cell_type": "code",
   "execution_count": 10,
   "metadata": {
    "colab": {},
    "colab_type": "code",
    "id": "HUgv4QaNVOMt",
    "papermill": {
     "duration": 2.909545,
     "end_time": "2020-03-16T02:15:11.108651",
     "exception": false,
     "start_time": "2020-03-16T02:15:08.199106",
     "status": "completed"
    },
    "tags": []
   },
   "outputs": [
    {
     "data": {
      "image/png": "[encoded data removed]",
      "text/plain": [
       "<Figure size 1008x504 with 1 Axes>"
      ]
     },
     "metadata": {
      "needs_background": "light"
     },
     "output_type": "display_data"
    }
   ],
   "source": [
    "#collapse-hide\n",
    "\n",
    "# Posterior summary for the beta parameters:\n",
    "beta_summary = pm.summary(trace).head(7)\n",
    "beta_summary.index = ['days_since_first_case', 'cpi', 'healthcare_oop', 'hospital_beds', 'hci', 'percent_over65', 'percent_rural']\n",
    "beta_summary.reset_index(drop=False, inplace=True)\n",
    "\n",
    "err_vals = ((beta_summary['hpd_3%'] - beta_summary['mean']).values,\n",
    "            (beta_summary['hpd_97%'] - beta_summary['mean']).values)\n",
    "ax = beta_summary.plot(x='index', y='mean', kind='bar', figsize=(14, 7),\n",
    "                 title='Posterior Distribution of Beta Parameters',\n",
    "                 yerr=err_vals, color='lightgrey',\n",
    "                 legend=False, grid=True,\n",
    "                 capsize=5)\n",
    "beta_summary.plot(x='index', y='mean', color='k', marker='o', linestyle='None',\n",
    "                  ax=ax, grid=True, legend=False, xlim=plt.gca().get_xlim())\n",
    "\n",
    "plt.savefig('../images/corvid-mortality.png')"
   ]
  },
  {
   "cell_type": "markdown",
   "metadata": {
    "papermill": {
     "duration": 0.236425,
     "end_time": "2020-03-16T02:15:11.596962",
     "exception": false,
     "start_time": "2020-03-16T02:15:11.360537",
     "status": "completed"
    },
    "tags": []
   },
   "source": [
    "# About This Analysis\n",
    "\n",
    "This analysis was done by [Joseph Richards](https://twitter.com/joeyrichar)\n",
    "\n",
    "In this project[^3], we attempt to estimate the true mortality rate[^1] for COVID-19 while controlling for country-level covariates[^2][^4] such as:\n",
    "* age of outbreak in the country\n",
    "* transparency of the country's government\n",
    "* access to healthcare\n",
    "* demographics such as age of population and rural vs. urban\n",
    "\n",
    "Estimating a mortality rate lower than the overall reported rate likely implies that there has been **significant under-testing and under-reporting of cases globally**.\n",
    "\n",
    "## Interpretation of Country-Level Parameters \n",
    "\n",
    "1. days_since_first_case - positive (very statistically significant).  As time since outbreak increases, expected mortality rate **increases**, as expected.\n",
    "2. cpi - negative (statistically significant).  As government transparency increases, expected mortality rate **decreases**.  This may mean that less transparent governments under-report cases, hence inflating the mortality rate.\n",
    "3. healthcare avg. out-of-pocket spending - no significant trend.\n",
    "4. hospital beds per capita - no significant trend.\n",
    "5. Human Capital Index - no significant trend (slightly negative = mortality rates decrease with increased mobilization of the country)\n",
    "6. percent over 65 - positive (statistically significant).  As population age increases, the mortality rate also **increases**, as expected.\n",
    "7. percent rural - no significant trend.\n",
    "\n",
    "\n",
    "[^1]: As of March 10, the **overall reported mortality rate is 3.5%**.  However, this figure does not account for **systematic biases in case reporting and testing**.  The observed mortality of COVID-19 has varied widely from country to country (as of early March 2020).  For instance, as of March 10, mortality rates have ranged from < 0.1% in places like Germany (1100+ cases) to upwards of 5% in Italy (9000+ cases) and 3.9% in China (80k+ cases).\n",
    "\n",
    "[^2]: The point of our modelling work here is to **try to understand and correct for the country-to-country differences that may cause the observed discrepancies in COVID-19 country-wide mortality rates**.  That way we can \"undo\" those biases and try to **pin down an overall *real* mortality rate**.\n",
    "\n",
    "[^3]: Full details about the model are available at:  https://github.com/jwrichar/COVID19-mortality\n",
    "\n",
    "[^4]: The affects of these parameters are subject to change as more data are collected.\n",
    "            "
   ]
  },
  {
   "cell_type": "markdown",
   "metadata": {
    "papermill": {
     "duration": 0.260235,
     "end_time": "2020-03-16T02:15:12.098723",
     "exception": false,
     "start_time": "2020-03-16T02:15:11.838488",
     "status": "completed"
    },
    "tags": []
   },
   "source": [
    "# Appendix: Model Diagnostics\n",
    "\n",
    "The following trace plots help to assess the convergence of the MCMC sampler."
   ]
  },
  {
   "cell_type": "code",
   "execution_count": 11,
   "metadata": {
    "papermill": {
     "duration": 12.962444,
     "end_time": "2020-03-16T02:15:25.299736",
     "exception": false,
     "start_time": "2020-03-16T02:15:12.337292",
     "status": "completed"
    },
    "tags": []
   },
   "outputs": [
    {
     "data": {
      "image/png": "[encoded data removed]",
      "text/plain": [
       "<Figure size 864x864 with 12 Axes>"
      ]
     },
     "metadata": {
      "needs_background": "light"
     },
     "output_type": "display_data"
    }
   ],
   "source": [
    "#hide_input\n",
    "import arviz as az\n",
    "az.plot_trace(trace, compact=True);"
   ]
  },
  {
   "cell_type": "code",
   "execution_count": null,
   "metadata": {
    "papermill": {
     "duration": 0.244141,
     "end_time": "2020-03-16T02:15:25.792523",
     "exception": false,
     "start_time": "2020-03-16T02:15:25.548382",
     "status": "completed"
    },
    "tags": []
   },
   "outputs": [],
   "source": []
  }
 ],
 "metadata": {
  "colab": {
   "collapsed_sections": [],
   "name": "2020-03-13-Mortality-Rate.ipynb",
   "provenance": []
  },
  "kernelspec": {
   "display_name": "visualization-curriculum-gF8wUgMm",
   "language": "python",
   "name": "visualization-curriculum-gf8wugmm"
  },
  "language_info": {
   "codemirror_mode": {
    "name": "ipython",
    "version": 3
   },
   "file_extension": ".py",
   "mimetype": "text/x-python",
   "name": "python",
   "nbconvert_exporter": "python",
   "pygments_lexer": "ipython3",
   "version": "3.6.10"
  },
  "papermill": {
   "duration": 177.764324,
   "end_time": "2020-03-16T02:15:26.052065",
   "environment_variables": {},
   "exception": null,
   "input_path": "2020-03-11-Mortality_Rate.ipynb",
   "output_path": "2020-03-11-Mortality_Rate.ipynb",
   "parameters": {},
   "start_time": "2020-03-16T02:12:28.287741",
   "version": "2.0.0"
  }
 },
 "nbformat": 4,
 "nbformat_minor": 1
}