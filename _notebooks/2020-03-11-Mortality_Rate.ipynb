{
 "cells": [
  {
   "cell_type": "markdown",
   "metadata": {
    "colab_type": "text",
    "id": "bMoe_6i9CVfd",
    "papermill": {
     "duration": 0.014511,
     "end_time": "2020-03-14T23:03:51.580665",
     "exception": false,
     "start_time": "2020-03-14T23:03:51.566154",
     "status": "completed"
    },
    "tags": []
   },
   "source": [
    "# Estimating The Mortality Rate For COVID-19\n",
    "> Using Country-Level Covariates To Correct For Testing & Reporting Biases And Estimate a True Mortality Rate.\n",
    "- author: Joseph Richards\n",
    "- image: images/corvid-mortality.png\n",
    "- comments: true\n",
    "- categories: [MCMC, mortality]\n",
    "- permalink: /covid-19-mortality-estimation/\n",
    "- toc: true"
   ]
  },
  {
   "cell_type": "code",
   "execution_count": 1,
   "metadata": {
    "colab": {
     "base_uri": "https://localhost:8080/",
     "height": 358
    },
    "colab_type": "code",
    "id": "XtQpnxQeDuc4",
    "outputId": "fdce59d4-f94b-4f92-e9b1-c749c7512b6f",
    "papermill": {
     "duration": 0.016434,
     "end_time": "2020-03-14T23:03:51.607582",
     "exception": false,
     "start_time": "2020-03-14T23:03:51.591148",
     "status": "completed"
    },
    "tags": []
   },
   "outputs": [],
   "source": [
    "#hide\n",
    "# ! pip install pymc3 arviz xlrd"
   ]
  },
  {
   "cell_type": "code",
   "execution_count": 2,
   "metadata": {
    "colab": {},
    "colab_type": "code",
    "id": "gYLQETHHEsHR",
    "papermill": {
     "duration": 3.577087,
     "end_time": "2020-03-14T23:03:55.194829",
     "exception": false,
     "start_time": "2020-03-14T23:03:51.617742",
     "status": "completed"
    },
    "tags": []
   },
   "outputs": [
    {
     "name": "stderr",
     "output_type": "stream",
     "text": [
      "WARNING (theano.tensor.blas): Using NumPy C-API based implementation for BLAS functions.\n"
     ]
    }
   ],
   "source": [
    "#hide\n",
    "\n",
    "# Setup and imports\n",
    "%matplotlib inline\n",
    "\n",
    "import warnings\n",
    "warnings.simplefilter('ignore')\n",
    "\n",
    "import matplotlib.pyplot as plt\n",
    "import numpy as np\n",
    "import pandas as pd\n",
    "import pymc3 as pm\n",
    "from IPython.display import display, Markdown"
   ]
  },
  {
   "cell_type": "code",
   "execution_count": 3,
   "metadata": {
    "colab": {},
    "colab_type": "code",
    "id": "-SYMy6oJMw9t",
    "papermill": {
     "duration": 0.019921,
     "end_time": "2020-03-14T23:03:55.225175",
     "exception": false,
     "start_time": "2020-03-14T23:03:55.205254",
     "status": "completed"
    },
    "tags": []
   },
   "outputs": [],
   "source": [
    "#hide\n",
    "\n",
    "# constants\n",
    "\n",
    "ignore_countries = [\n",
    "    'Others',\n",
    "    'Cruise Ship'\n",
    "]\n",
    "\n",
    "cpi_country_mapping = {\n",
    "    'United States of America': 'US',\n",
    "    'China': 'Mainland China'\n",
    "}\n",
    "\n",
    "wb_country_mapping = {\n",
    "    'United States': 'US',\n",
    "    'Egypt, Arab Rep.': 'Egypt',\n",
    "    'Hong Kong SAR, China': 'Hong Kong',\n",
    "    'Iran, Islamic Rep.': 'Iran',\n",
    "    'China': 'Mainland China',\n",
    "    'Russian Federation': 'Russia',\n",
    "    'Slovak Republic': 'Slovakia',\n",
    "    'Korea, Rep.': 'Korea, South'\n",
    "}\n",
    "\n",
    "wb_covariates = [\n",
    "    ('SH.XPD.OOPC.CH.ZS',\n",
    "        'healthcare_oop_expenditure'),\n",
    "    ('SH.MED.BEDS.ZS',\n",
    "        'hospital_beds'),\n",
    "    ('HD.HCI.OVRL',\n",
    "        'hci'),\n",
    "    ('SP.POP.65UP.TO.ZS',\n",
    "        'population_perc_over65'),\n",
    "    ('SP.RUR.TOTL.ZS',\n",
    "        'population_perc_rural')\n",
    "]"
   ]
  },
  {
   "cell_type": "code",
   "execution_count": 4,
   "metadata": {
    "colab": {},
    "colab_type": "code",
    "id": "phZcRKGJMzJ3",
    "papermill": {
     "duration": 0.037216,
     "end_time": "2020-03-14T23:03:55.272422",
     "exception": false,
     "start_time": "2020-03-14T23:03:55.235206",
     "status": "completed"
    },
    "tags": []
   },
   "outputs": [],
   "source": [
    "#hide\n",
    "\n",
    "# data loading and manipulation\n",
    "\n",
    "from datetime import datetime\n",
    "import os\n",
    "\n",
    "import numpy as np\n",
    "import pandas as pd\n",
    "\n",
    "\n",
    "def get_all_data():\n",
    "    '''\n",
    "    Main routine that grabs all COVID and covariate data and\n",
    "    returns them as a single dataframe that contains:\n",
    "\n",
    "    * count of cumulative cases and deaths by country (by today's date)\n",
    "    * days since first case for each country\n",
    "    * CPI gov't transparency index\n",
    "    * World Bank data on population, healthcare, etc. by country\n",
    "    '''\n",
    "\n",
    "    all_covid_data = _get_latest_covid_timeseries()\n",
    "\n",
    "    covid_cases_rollup = _rollup_by_country(all_covid_data['Confirmed'])\n",
    "    covid_deaths_rollup = _rollup_by_country(all_covid_data['Deaths'])\n",
    "\n",
    "    todays_date = covid_cases_rollup.columns.max()\n",
    "\n",
    "    # Create DataFrame with today's cumulative case and death count, by country\n",
    "    df_out = pd.DataFrame({'cases': covid_cases_rollup[todays_date],\n",
    "                           'deaths': covid_deaths_rollup[todays_date]})\n",
    "\n",
    "    _clean_country_list(df_out)\n",
    "    _clean_country_list(covid_cases_rollup)\n",
    "\n",
    "    # Add observed death rate:\n",
    "    df_out['death_rate_observed'] = df_out.apply(\n",
    "        lambda row: row['deaths'] / float(row['cases']),\n",
    "        axis=1)\n",
    "\n",
    "    # Add covariate for days since first case\n",
    "    df_out['days_since_first_case'] = _compute_days_since_first_case(\n",
    "        covid_cases_rollup)\n",
    "\n",
    "    # Add CPI covariate:\n",
    "    _add_cpi_data(df_out)\n",
    "\n",
    "    # Add World Bank covariates:\n",
    "    _add_wb_data(df_out)\n",
    "\n",
    "    # Drop any country w/o covariate data:\n",
    "    num_null = df_out.isnull().sum(axis=1)\n",
    "    to_drop_idx = df_out.index[num_null > 1]\n",
    "    print('Dropping %i/%i countries due to lack of data' %\n",
    "          (len(to_drop_idx), len(df_out)))\n",
    "    df_out.drop(to_drop_idx, axis=0, inplace=True)\n",
    "\n",
    "    return df_out\n",
    "\n",
    "\n",
    "def _get_latest_covid_timeseries():\n",
    "    ''' Pull latest time-series data from JHU CSSE database '''\n",
    "\n",
    "    repo = 'https://raw.githubusercontent.com/CSSEGISandData/COVID-19/master/'\n",
    "    data_path = 'csse_covid_19_data/csse_covid_19_time_series/'\n",
    "\n",
    "    all_data = {}\n",
    "    for status in ['Confirmed', 'Deaths', 'Recovered']:\n",
    "        file_name = 'time_series_19-covid-%s.csv' % status\n",
    "        all_data[status] = pd.read_csv(\n",
    "            '%s%s%s' % (repo, data_path, file_name))\n",
    "\n",
    "    return all_data\n",
    "\n",
    "\n",
    "def _rollup_by_country(df):\n",
    "    '''\n",
    "    Roll up each raw time-series by country, adding up the cases\n",
    "    across the individual states/provinces within the country\n",
    "\n",
    "    :param df: Pandas DataFrame of raw data from CSSE\n",
    "    :return: DataFrame of country counts\n",
    "    '''\n",
    "    gb = df.groupby('Country/Region')\n",
    "    df_rollup = gb.sum()\n",
    "    df_rollup.drop(['Lat', 'Long'], axis=1, inplace=True, errors='ignore')\n",
    "\n",
    "    # Convert column strings to dates:\n",
    "    idx_as_dt = [datetime.strptime(x, '%m/%d/%y') for x in df_rollup.columns]\n",
    "    df_rollup.columns = idx_as_dt\n",
    "    return df_rollup\n",
    "\n",
    "\n",
    "def _clean_country_list(df):\n",
    "    ''' Clean up input country list in df '''\n",
    "    # handle recent changes in country names:\n",
    "    country_rename = {\n",
    "        'Hong Kong SAR': 'Hong Kong',\n",
    "        'Taiwan*': 'Taiwan',\n",
    "        'Czechia': 'Czech Republic',\n",
    "        'Brunei': 'Brunei Darussalam',\n",
    "        'Iran (Islamic Republic of)': 'Iran',\n",
    "        'Viet Nam': 'Vietnam',\n",
    "        'Russian Federation': 'Russia',\n",
    "        'Republic of Korea': 'South Korea',\n",
    "        'Republic of Moldova': 'Moldova',\n",
    "        'China': 'Mainland China'\n",
    "    }\n",
    "    df.rename(country_rename, axis=0, inplace=True)\n",
    "    df.drop(ignore_countries, axis=0, inplace=True, errors='ignore')\n",
    "\n",
    "\n",
    "def _compute_days_since_first_case(df_cases):\n",
    "    ''' Compute the country-wise days since first confirmed case\n",
    "\n",
    "    :param df_cases: country-wise time-series of confirmed case counts\n",
    "    :return: Series of country-wise days since first case\n",
    "    '''\n",
    "    date_first_case = df_cases[df_cases > 0].idxmin(axis=1)\n",
    "    days_since_first_case = date_first_case.apply(\n",
    "        lambda x: (df_cases.columns.max() - x).days)\n",
    "    # Add 1 month for China, since outbreak started late 2019:\n",
    "    days_since_first_case.loc['Mainland China'] += 30\n",
    "\n",
    "    return days_since_first_case\n",
    "\n",
    "\n",
    "def _add_cpi_data(df_input):\n",
    "    '''\n",
    "    Add the Government transparency (CPI - corruption perceptions index)\n",
    "    data (by country) as a column in the COVID cases dataframe.\n",
    "\n",
    "    :param df_input: COVID-19 data rolled up country-wise\n",
    "    :return: None, add CPI data to df_input in place\n",
    "    '''\n",
    "    cpi_data = pd.read_excel(\n",
    "        'https://github.com/jwrichar/COVID19-mortality/blob/master/data/CPI2019.xlsx?raw=true',\n",
    "        skiprows=2)\n",
    "    cpi_data.set_index('Country', inplace=True, drop=True)\n",
    "    cpi_data.rename(cpi_country_mapping, axis=0, inplace=True)\n",
    "\n",
    "    # Add CPI score to input df:\n",
    "    df_input['cpi_score_2019'] = cpi_data['CPI score 2019']\n",
    "\n",
    "\n",
    "def _add_wb_data(df_input):\n",
    "    '''\n",
    "    Add the World Bank data covariates as columns in the COVID cases dataframe.\n",
    "\n",
    "    :param df_input: COVID-19 data rolled up country-wise\n",
    "    :return: None, add World Bank data to df_input in place\n",
    "    '''\n",
    "    wb_data = pd.read_csv(\n",
    "        'https://raw.githubusercontent.com/jwrichar/COVID19-mortality/master/data/world_bank_data.csv',\n",
    "        na_values='..')\n",
    "\n",
    "    for (wb_name, var_name) in wb_covariates:\n",
    "        wb_series = wb_data.loc[wb_data['Series Code'] == wb_name]\n",
    "        wb_series.set_index('Country Name', inplace=True, drop=True)\n",
    "        wb_series.rename(wb_country_mapping, axis=0, inplace=True)\n",
    "\n",
    "        # Add WB data:\n",
    "        df_input[var_name] = _get_most_recent_value(wb_series)\n",
    "\n",
    "\n",
    "def _get_most_recent_value(wb_series):\n",
    "    '''\n",
    "    Get most recent non-null value for each country in the World Bank\n",
    "    time-series data\n",
    "    '''\n",
    "    ts_data = wb_series[wb_series.columns[3::]]\n",
    "\n",
    "    def _helper(row):\n",
    "        row_nn = row[row.notnull()]\n",
    "        if len(row_nn):\n",
    "            return row_nn[-1]\n",
    "        else:\n",
    "            return np.nan\n",
    "\n",
    "    return ts_data.apply(_helper, axis=1)\n"
   ]
  },
  {
   "cell_type": "code",
   "execution_count": 5,
   "metadata": {
    "colab": {
     "base_uri": "https://localhost:8080/",
     "height": 33
    },
    "colab_type": "code",
    "id": "AlGjkxH9N4Bt",
    "outputId": "746bd546-5ded-4565-e10e-64aa5af0df0c",
    "papermill": {
     "duration": 1.737276,
     "end_time": "2020-03-14T23:03:57.018480",
     "exception": false,
     "start_time": "2020-03-14T23:03:55.281204",
     "status": "completed"
    },
    "tags": []
   },
   "outputs": [
    {
     "name": "stdout",
     "output_type": "stream",
     "text": [
      "Dropping 15/124 countries due to lack of data\n"
     ]
    }
   ],
   "source": [
    "#hide\n",
    "\n",
    "# Load the data (see source/data.py):\n",
    "df = get_all_data()\n",
    "# Impute NA's column-wise:\n",
    "df = df.apply(lambda x: x.fillna(x.mean()),axis=0)\n"
   ]
  },
  {
   "cell_type": "markdown",
   "metadata": {
    "colab_type": "text",
    "id": "dwPgV5dBO1Ll",
    "papermill": {
     "duration": 0.010777,
     "end_time": "2020-03-14T23:03:57.040182",
     "exception": false,
     "start_time": "2020-03-14T23:03:57.029405",
     "status": "completed"
    },
    "tags": []
   },
   "source": [
    "# Observed mortality rates"
   ]
  },
  {
   "cell_type": "code",
   "execution_count": 6,
   "metadata": {
    "colab": {
     "base_uri": "https://localhost:8080/",
     "height": 618
    },
    "colab_type": "code",
    "id": "afCZhOL-OSOd",
    "outputId": "227444ff-df43-4936-e652-9974a7843a56",
    "papermill": {
     "duration": 0.314558,
     "end_time": "2020-03-14T23:03:57.365029",
     "exception": false,
     "start_time": "2020-03-14T23:03:57.050471",
     "status": "completed"
    },
    "tags": []
   },
   "outputs": [
    {
     "data": {
      "text/markdown": [
       "Overall reported mortality rate: 3.74%"
      ],
      "text/plain": [
       "<IPython.core.display.Markdown object>"
      ]
     },
     "metadata": {},
     "output_type": "display_data"
    },
    {
     "data": {
      "image/png": "[encoded data removed]",
      "text/plain": [
       "<Figure size 1008x504 with 1 Axes>"
      ]
     },
     "metadata": {
      "needs_background": "light"
     },
     "output_type": "display_data"
    }
   ],
   "source": [
    "#collapse-hide\n",
    "\n",
    "display(Markdown('Overall reported mortality rate: %.2f%%' % (100.0 * df['deaths'].sum() / df['cases'].sum())))\n",
    "\n",
    "df_highest = df.sort_values('cases', ascending=False).head(15)\n",
    "mortality_rate = pd.Series(\n",
    "    data=(df_highest['deaths']/df_highest['cases']).values,\n",
    "    index=map(lambda x: '%s (%i cases)' % (x, df_highest.loc[x]['cases']),\n",
    "              df_highest.index))\n",
    "ax = mortality_rate.plot.bar(\n",
    "    figsize=(14,7), title='Reported Mortality Rate by Country (countries w/ highest case counts)')\n",
    "ax.axhline(df['deaths'].sum() / df['cases'].sum(), color='k', ls='--')\n",
    "\n",
    "plt.show()"
   ]
  },
  {
   "cell_type": "markdown",
   "metadata": {
    "colab_type": "text",
    "id": "Z5qTKZtBTTCb",
    "papermill": {
     "duration": 0.011757,
     "end_time": "2020-03-14T23:03:57.388423",
     "exception": false,
     "start_time": "2020-03-14T23:03:57.376666",
     "status": "completed"
    },
    "tags": []
   },
   "source": [
    "# Model"
   ]
  },
  {
   "cell_type": "markdown",
   "metadata": {
    "papermill": {
     "duration": 0.011105,
     "end_time": "2020-03-14T23:03:57.411488",
     "exception": false,
     "start_time": "2020-03-14T23:03:57.400383",
     "status": "completed"
    },
    "tags": []
   },
   "source": [
    "Estimate COVID-19 mortality rate, controling for country factors"
   ]
  },
  {
   "cell_type": "code",
   "execution_count": 7,
   "metadata": {
    "colab": {},
    "colab_type": "code",
    "id": "SZeyDBm3O8g6",
    "papermill": {
     "duration": 0.034324,
     "end_time": "2020-03-14T23:03:57.456786",
     "exception": false,
     "start_time": "2020-03-14T23:03:57.422462",
     "status": "completed"
    },
    "tags": []
   },
   "outputs": [],
   "source": [
    "#hide\n",
    "\n",
    "import numpy as np\n",
    "\n",
    "import pymc3 as pm\n",
    "\n",
    "\n",
    "def initialize_model(df):\n",
    "\n",
    "    # Normalize input covariates in a way that is sensible:\n",
    "\n",
    "    # (1) days since first case: upper\n",
    "    # mu_0 to reflect asymptotic mortality rate months after outbreak\n",
    "    _normalize_col(df, 'days_since_first_case', how='upper')\n",
    "    # (2) CPI score: upper\n",
    "    # mu_0 to reflect scenario in absence of corrupt govts\n",
    "    _normalize_col(df, 'cpi_score_2019', how='upper')\n",
    "    # (3) healthcare OOP spending: mean\n",
    "    # not sure which way this will go\n",
    "    _normalize_col(df, 'healthcare_oop_expenditure', how='mean')\n",
    "    # (4) hospital beds: upper\n",
    "    # more beds, more healthcare and tests\n",
    "    _normalize_col(df, 'hospital_beds', how='mean')\n",
    "    # (5) hci = human capital index: upper\n",
    "    # HCI measures education/health; mu_0 should reflect best scenario\n",
    "    _normalize_col(df, 'hci', how='mean')\n",
    "    # (6) % over 65: mean\n",
    "    # mu_0 to reflect average world demographic\n",
    "    _normalize_col(df, 'population_perc_over65', how='mean')\n",
    "    # (7) % rural: mean\n",
    "    # mu_0 to reflect average world demographic\n",
    "    _normalize_col(df, 'population_perc_rural', how='mean')\n",
    "\n",
    "    n = len(df)\n",
    "\n",
    "    covid_mortality_model = pm.Model()\n",
    "\n",
    "    with covid_mortality_model:\n",
    "\n",
    "        # Priors:\n",
    "        mu_0 = pm.Beta('mu_0', alpha=0.3, beta=10)\n",
    "        sig_0 = pm.Uniform('sig_0', lower=0.0, upper=mu_0 * (1 - mu_0))\n",
    "        beta = pm.Normal('beta', mu=0, sigma=5, shape=7)\n",
    "        sigma = pm.HalfNormal('sigma', sigma=5)\n",
    "\n",
    "        # Model mu from country-wise covariates:\n",
    "        # Apply logit transformation so logistic regression performed\n",
    "        mu_0_logit = np.log(mu_0 / (1 - mu_0))\n",
    "        mu_est = mu_0_logit + \\\n",
    "            beta[0] * df['days_since_first_case_normalized'].values + \\\n",
    "            beta[1] * df['cpi_score_2019_normalized'].values + \\\n",
    "            beta[2] * df['healthcare_oop_expenditure_normalized'].values + \\\n",
    "            beta[3] * df['hospital_beds_normalized'].values + \\\n",
    "            beta[4] * df['hci_normalized'].values + \\\n",
    "            beta[5] * df['population_perc_over65_normalized'].values + \\\n",
    "            beta[6] * df['population_perc_rural_normalized'].values\n",
    "        mu_model_logit = pm.Normal('mu_model_logit',\n",
    "                                   mu=mu_est,\n",
    "                                   sigma=sigma,\n",
    "                                   shape=n)\n",
    "        # Transform back to probability space:\n",
    "        mu_model = np.exp(mu_model_logit) / (np.exp(mu_model_logit) + 1)\n",
    "\n",
    "        # tau_i, mortality rate for each country\n",
    "        # Parametrize with (mu, sigma)\n",
    "        # instead of (alpha, beta) to ease interpretability.\n",
    "        tau = pm.Beta('tau', mu=mu_model, sigma=sig_0, shape=n)\n",
    "        # tau = pm.Beta('tau', mu=mu_0, sigma=sig_0, shape=n)\n",
    "\n",
    "        # Binomial likelihood:\n",
    "        d_obs = pm.Binomial('d_obs',\n",
    "                            n=df['cases'].values,\n",
    "                            p=tau,\n",
    "                            observed=df['deaths'].values)\n",
    "\n",
    "    return covid_mortality_model\n",
    "\n",
    "\n",
    "def _normalize_col(df, colname, how='mean'):\n",
    "    '''\n",
    "    Normalize an input column in one of 3 ways:\n",
    "\n",
    "    * how=mean: unit normal N(0,1)\n",
    "    * how=upper: normalize to [-1, 0] with highest value set to 0\n",
    "    * how=lower: normalize to [0, 1] with lowest value set to 0\n",
    "\n",
    "    Returns df modified in place with extra column added.\n",
    "    '''\n",
    "    colname_new = '%s_normalized' % colname\n",
    "    if how == 'mean':\n",
    "        mu = df[colname].mean()\n",
    "        sig = df[colname].std()\n",
    "        df[colname_new] = (df[colname] - mu) / sig\n",
    "    elif how == 'upper':\n",
    "        maxval = df[colname].max()\n",
    "        minval = df[colname].min()\n",
    "        df[colname_new] = (df[colname] - maxval) / (maxval - minval)\n",
    "    elif how == 'lower':\n",
    "        maxval = df[colname].max()\n",
    "        minval = df[colname].min()\n",
    "        df[colname_new] = (df[colname] - minval) / (maxval - minval)"
   ]
  },
  {
   "cell_type": "code",
   "execution_count": 8,
   "metadata": {
    "colab": {
     "base_uri": "https://localhost:8080/",
     "height": 228
    },
    "colab_type": "code",
    "id": "W8t6hN76TiCE",
    "outputId": "83c6739f-2868-4b53-b36e-78283e58ea14",
    "papermill": {
     "duration": 277.10279,
     "end_time": "2020-03-14T23:08:34.570972",
     "exception": false,
     "start_time": "2020-03-14T23:03:57.468182",
     "status": "completed"
    },
    "tags": []
   },
   "outputs": [
    {
     "name": "stderr",
     "output_type": "stream",
     "text": [
      "Only 300 samples in chain.\n"
     ]
    },
    {
     "name": "stderr",
     "output_type": "stream",
     "text": [
      "Auto-assigning NUTS sampler...\n"
     ]
    },
    {
     "name": "stderr",
     "output_type": "stream",
     "text": [
      "Initializing NUTS using jitter+adapt_diag...\n"
     ]
    },
    {
     "name": "stderr",
     "output_type": "stream",
     "text": [
      "Multiprocess sampling (3 chains in 2 jobs)\n"
     ]
    },
    {
     "name": "stderr",
     "output_type": "stream",
     "text": [
      "NUTS: [tau, mu_model_logit, sigma, beta, sig_0, mu_0]\n"
     ]
    },
    {
     "name": "stderr",
     "output_type": "stream",
     "text": [
      "\r",
      "Sampling 3 chains, 0 divergences:   0%|          | 0/1200 [00:00<?, ?draws/s]"
     ]
    },
    {
     "name": "stderr",
     "output_type": "stream",
     "text": [
      "\r",
      "Sampling 3 chains, 0 divergences:   1%|          | 9/1200 [00:00<00:13, 88.80draws/s]"
     ]
    },
    {
     "name": "stderr",
     "output_type": "stream",
     "text": [
      "\r",
      "Sampling 3 chains, 0 divergences:   1%|          | 12/1200 [00:00<00:24, 48.98draws/s]"
     ]
    },
    {
     "name": "stderr",
     "output_type": "stream",
     "text": [
      "\r",
      "Sampling 3 chains, 0 divergences:   1%|▏         | 16/1200 [00:00<00:29, 40.70draws/s]"
     ]
    },
    {
     "name": "stderr",
     "output_type": "stream",
     "text": [
      "\r",
      "Sampling 3 chains, 0 divergences:   2%|▏         | 19/1200 [00:00<00:37, 31.85draws/s]"
     ]
    },
    {
     "name": "stderr",
     "output_type": "stream",
     "text": [
      "\r",
      "Sampling 3 chains, 0 divergences:   2%|▏         | 22/1200 [00:00<00:38, 30.34draws/s]"
     ]
    },
    {
     "name": "stderr",
     "output_type": "stream",
     "text": [
      "\r",
      "Sampling 3 chains, 0 divergences:   2%|▏         | 26/1200 [00:00<00:40, 29.02draws/s]"
     ]
    },
    {
     "name": "stderr",
     "output_type": "stream",
     "text": [
      "\r",
      "Sampling 3 chains, 0 divergences:   2%|▏         | 29/1200 [00:00<00:40, 28.64draws/s]"
     ]
    },
    {
     "name": "stderr",
     "output_type": "stream",
     "text": [
      "\r",
      "Sampling 3 chains, 0 divergences:   3%|▎         | 33/1200 [00:01<00:40, 28.53draws/s]"
     ]
    },
    {
     "name": "stderr",
     "output_type": "stream",
     "text": [
      "\r",
      "Sampling 3 chains, 0 divergences:   3%|▎         | 36/1200 [00:01<00:40, 28.93draws/s]"
     ]
    },
    {
     "name": "stderr",
     "output_type": "stream",
     "text": [
      "\r",
      "Sampling 3 chains, 0 divergences:   3%|▎         | 40/1200 [00:01<00:40, 28.36draws/s]"
     ]
    },
    {
     "name": "stderr",
     "output_type": "stream",
     "text": [
      "\r",
      "Sampling 3 chains, 0 divergences:   4%|▎         | 44/1200 [00:01<00:41, 27.67draws/s]"
     ]
    },
    {
     "name": "stderr",
     "output_type": "stream",
     "text": [
      "\r",
      "Sampling 3 chains, 0 divergences:   4%|▍         | 47/1200 [00:01<00:45, 25.52draws/s]"
     ]
    },
    {
     "name": "stderr",
     "output_type": "stream",
     "text": [
      "\r",
      "Sampling 3 chains, 0 divergences:   4%|▍         | 50/1200 [00:01<00:50, 22.99draws/s]"
     ]
    },
    {
     "name": "stderr",
     "output_type": "stream",
     "text": [
      "\r",
      "Sampling 3 chains, 0 divergences:   4%|▍         | 54/1200 [00:01<00:43, 26.29draws/s]"
     ]
    },
    {
     "name": "stderr",
     "output_type": "stream",
     "text": [
      "\r",
      "Sampling 3 chains, 0 divergences:   5%|▍         | 59/1200 [00:01<00:41, 27.64draws/s]"
     ]
    },
    {
     "name": "stderr",
     "output_type": "stream",
     "text": [
      "\r",
      "Sampling 3 chains, 0 divergences:   5%|▌         | 62/1200 [00:02<00:41, 27.71draws/s]"
     ]
    },
    {
     "name": "stderr",
     "output_type": "stream",
     "text": [
      "\r",
      "Sampling 3 chains, 0 divergences:   5%|▌         | 65/1200 [00:02<00:46, 24.40draws/s]"
     ]
    },
    {
     "name": "stderr",
     "output_type": "stream",
     "text": [
      "\r",
      "Sampling 3 chains, 0 divergences:   6%|▌         | 68/1200 [00:02<00:46, 24.42draws/s]"
     ]
    },
    {
     "name": "stderr",
     "output_type": "stream",
     "text": [
      "\r",
      "Sampling 3 chains, 0 divergences:   6%|▌         | 71/1200 [00:02<00:47, 23.67draws/s]"
     ]
    },
    {
     "name": "stderr",
     "output_type": "stream",
     "text": [
      "\r",
      "Sampling 3 chains, 0 divergences:   6%|▌         | 74/1200 [00:02<00:49, 22.79draws/s]"
     ]
    },
    {
     "name": "stderr",
     "output_type": "stream",
     "text": [
      "\r",
      "Sampling 3 chains, 0 divergences:   6%|▋         | 77/1200 [00:02<00:47, 23.79draws/s]"
     ]
    },
    {
     "name": "stderr",
     "output_type": "stream",
     "text": [
      "\r",
      "Sampling 3 chains, 0 divergences:   7%|▋         | 80/1200 [00:02<00:46, 24.20draws/s]"
     ]
    },
    {
     "name": "stderr",
     "output_type": "stream",
     "text": [
      "\r",
      "Sampling 3 chains, 0 divergences:   7%|▋         | 83/1200 [00:03<00:51, 21.72draws/s]"
     ]
    },
    {
     "name": "stderr",
     "output_type": "stream",
     "text": [
      "\r",
      "Sampling 3 chains, 0 divergences:   7%|▋         | 88/1200 [00:03<00:48, 23.10draws/s]"
     ]
    },
    {
     "name": "stderr",
     "output_type": "stream",
     "text": [
      "\r",
      "Sampling 3 chains, 0 divergences:   8%|▊         | 92/1200 [00:03<00:44, 24.74draws/s]"
     ]
    },
    {
     "name": "stderr",
     "output_type": "stream",
     "text": [
      "\r",
      "Sampling 3 chains, 0 divergences:   8%|▊         | 95/1200 [00:03<00:47, 23.16draws/s]"
     ]
    },
    {
     "name": "stderr",
     "output_type": "stream",
     "text": [
      "\r",
      "Sampling 3 chains, 0 divergences:   8%|▊         | 99/1200 [00:03<00:46, 23.43draws/s]"
     ]
    },
    {
     "name": "stderr",
     "output_type": "stream",
     "text": [
      "\r",
      "Sampling 3 chains, 0 divergences:   8%|▊         | 102/1200 [00:03<00:43, 24.99draws/s]"
     ]
    },
    {
     "name": "stderr",
     "output_type": "stream",
     "text": [
      "\r",
      "Sampling 3 chains, 0 divergences:   9%|▉         | 106/1200 [00:03<00:41, 26.11draws/s]"
     ]
    },
    {
     "name": "stderr",
     "output_type": "stream",
     "text": [
      "\r",
      "Sampling 3 chains, 0 divergences:   9%|▉         | 109/1200 [00:04<00:45, 24.06draws/s]"
     ]
    },
    {
     "name": "stderr",
     "output_type": "stream",
     "text": [
      "\r",
      "Sampling 3 chains, 0 divergences:   9%|▉         | 112/1200 [00:04<00:43, 24.80draws/s]"
     ]
    },
    {
     "name": "stderr",
     "output_type": "stream",
     "text": [
      "\r",
      "Sampling 3 chains, 0 divergences:  10%|▉         | 115/1200 [00:04<00:43, 24.78draws/s]"
     ]
    },
    {
     "name": "stderr",
     "output_type": "stream",
     "text": [
      "\r",
      "Sampling 3 chains, 0 divergences:  10%|▉         | 118/1200 [00:04<00:43, 25.00draws/s]"
     ]
    },
    {
     "name": "stderr",
     "output_type": "stream",
     "text": [
      "\r",
      "Sampling 3 chains, 0 divergences:  10%|█         | 121/1200 [00:04<00:43, 24.64draws/s]"
     ]
    },
    {
     "name": "stderr",
     "output_type": "stream",
     "text": [
      "\r",
      "Sampling 3 chains, 0 divergences:  10%|█         | 124/1200 [00:04<00:47, 22.64draws/s]"
     ]
    },
    {
     "name": "stderr",
     "output_type": "stream",
     "text": [
      "\r",
      "Sampling 3 chains, 0 divergences:  11%|█         | 127/1200 [00:04<00:44, 24.18draws/s]"
     ]
    },
    {
     "name": "stderr",
     "output_type": "stream",
     "text": [
      "\r",
      "Sampling 3 chains, 0 divergences:  11%|█         | 131/1200 [00:04<00:44, 24.13draws/s]"
     ]
    },
    {
     "name": "stderr",
     "output_type": "stream",
     "text": [
      "\r",
      "Sampling 3 chains, 0 divergences:  11%|█         | 134/1200 [00:05<00:41, 25.49draws/s]"
     ]
    },
    {
     "name": "stderr",
     "output_type": "stream",
     "text": [
      "\r",
      "Sampling 3 chains, 0 divergences:  11%|█▏        | 137/1200 [00:05<00:41, 25.51draws/s]"
     ]
    },
    {
     "name": "stderr",
     "output_type": "stream",
     "text": [
      "\r",
      "Sampling 3 chains, 0 divergences:  12%|█▏        | 140/1200 [00:05<00:44, 24.04draws/s]"
     ]
    },
    {
     "name": "stderr",
     "output_type": "stream",
     "text": [
      "\r",
      "Sampling 3 chains, 0 divergences:  12%|█▏        | 143/1200 [00:05<00:43, 24.18draws/s]"
     ]
    },
    {
     "name": "stderr",
     "output_type": "stream",
     "text": [
      "\r",
      "Sampling 3 chains, 0 divergences:  12%|█▏        | 146/1200 [00:05<00:46, 22.74draws/s]"
     ]
    },
    {
     "name": "stderr",
     "output_type": "stream",
     "text": [
      "\r",
      "Sampling 3 chains, 0 divergences:  12%|█▎        | 150/1200 [00:05<00:42, 24.92draws/s]"
     ]
    },
    {
     "name": "stderr",
     "output_type": "stream",
     "text": [
      "\r",
      "Sampling 3 chains, 0 divergences:  13%|█▎        | 153/1200 [00:05<00:42, 24.90draws/s]"
     ]
    },
    {
     "name": "stderr",
     "output_type": "stream",
     "text": [
      "\r",
      "Sampling 3 chains, 0 divergences:  13%|█▎        | 156/1200 [00:05<00:44, 23.55draws/s]"
     ]
    },
    {
     "name": "stderr",
     "output_type": "stream",
     "text": [
      "\r",
      "Sampling 3 chains, 0 divergences:  13%|█▎        | 159/1200 [00:06<00:42, 24.37draws/s]"
     ]
    },
    {
     "name": "stderr",
     "output_type": "stream",
     "text": [
      "\r",
      "Sampling 3 chains, 0 divergences:  14%|█▎        | 162/1200 [00:06<00:46, 22.32draws/s]"
     ]
    },
    {
     "name": "stderr",
     "output_type": "stream",
     "text": [
      "\r",
      "Sampling 3 chains, 0 divergences:  14%|█▍        | 165/1200 [00:06<00:48, 21.26draws/s]"
     ]
    },
    {
     "name": "stderr",
     "output_type": "stream",
     "text": [
      "\r",
      "Sampling 3 chains, 0 divergences:  14%|█▍        | 168/1200 [00:06<00:44, 22.97draws/s]"
     ]
    },
    {
     "name": "stderr",
     "output_type": "stream",
     "text": [
      "\r",
      "Sampling 3 chains, 0 divergences:  14%|█▍        | 171/1200 [00:06<00:44, 23.34draws/s]"
     ]
    },
    {
     "name": "stderr",
     "output_type": "stream",
     "text": [
      "\r",
      "Sampling 3 chains, 0 divergences:  14%|█▍        | 174/1200 [00:06<00:46, 22.02draws/s]"
     ]
    },
    {
     "name": "stderr",
     "output_type": "stream",
     "text": [
      "\r",
      "Sampling 3 chains, 0 divergences:  15%|█▍        | 177/1200 [00:06<00:42, 23.90draws/s]"
     ]
    },
    {
     "name": "stderr",
     "output_type": "stream",
     "text": [
      "\r",
      "Sampling 3 chains, 0 divergences:  15%|█▌        | 180/1200 [00:07<00:47, 21.61draws/s]"
     ]
    },
    {
     "name": "stderr",
     "output_type": "stream",
     "text": [
      "\r",
      "Sampling 3 chains, 0 divergences:  15%|█▌        | 183/1200 [00:07<00:44, 22.87draws/s]"
     ]
    },
    {
     "name": "stderr",
     "output_type": "stream",
     "text": [
      "\r",
      "Sampling 3 chains, 0 divergences:  16%|█▌        | 186/1200 [00:07<00:41, 24.48draws/s]"
     ]
    },
    {
     "name": "stderr",
     "output_type": "stream",
     "text": [
      "\r",
      "Sampling 3 chains, 0 divergences:  16%|█▌        | 189/1200 [00:07<00:42, 23.73draws/s]"
     ]
    },
    {
     "name": "stderr",
     "output_type": "stream",
     "text": [
      "\r",
      "Sampling 3 chains, 0 divergences:  16%|█▌        | 192/1200 [00:07<00:42, 23.46draws/s]"
     ]
    },
    {
     "name": "stderr",
     "output_type": "stream",
     "text": [
      "\r",
      "Sampling 3 chains, 0 divergences:  16%|█▋        | 195/1200 [00:07<00:45, 22.31draws/s]"
     ]
    },
    {
     "name": "stderr",
     "output_type": "stream",
     "text": [
      "\r",
      "Sampling 3 chains, 0 divergences:  16%|█▋        | 198/1200 [00:07<00:42, 23.66draws/s]"
     ]
    },
    {
     "name": "stderr",
     "output_type": "stream",
     "text": [
      "\r",
      "Sampling 3 chains, 0 divergences:  17%|█▋        | 201/1200 [00:08<00:48, 20.79draws/s]"
     ]
    },
    {
     "name": "stderr",
     "output_type": "stream",
     "text": [
      "\r",
      "Sampling 3 chains, 1 divergences:  17%|█▋        | 203/1200 [00:08<00:47, 20.79draws/s]"
     ]
    },
    {
     "name": "stderr",
     "output_type": "stream",
     "text": [
      "\r",
      "Sampling 3 chains, 1 divergences:  17%|█▋        | 204/1200 [00:08<00:49, 20.13draws/s]"
     ]
    },
    {
     "name": "stderr",
     "output_type": "stream",
     "text": [
      "\r",
      "Sampling 3 chains, 1 divergences:  17%|█▋        | 207/1200 [00:08<01:03, 15.60draws/s]"
     ]
    },
    {
     "name": "stderr",
     "output_type": "stream",
     "text": [
      "\r",
      "Sampling 3 chains, 1 divergences:  17%|█▋        | 209/1200 [00:08<01:12, 13.76draws/s]"
     ]
    },
    {
     "name": "stderr",
     "output_type": "stream",
     "text": [
      "\r",
      "Sampling 3 chains, 1 divergences:  18%|█▊        | 211/1200 [00:08<01:14, 13.19draws/s]"
     ]
    },
    {
     "name": "stderr",
     "output_type": "stream",
     "text": [
      "\r",
      "Sampling 3 chains, 1 divergences:  18%|█▊        | 213/1200 [00:08<01:16, 12.87draws/s]"
     ]
    },
    {
     "name": "stderr",
     "output_type": "stream",
     "text": [
      "\r",
      "Sampling 3 chains, 1 divergences:  18%|█▊        | 215/1200 [00:09<01:18, 12.50draws/s]"
     ]
    },
    {
     "name": "stderr",
     "output_type": "stream",
     "text": [
      "\r",
      "Sampling 3 chains, 1 divergences:  18%|█▊        | 217/1200 [00:09<01:19, 12.31draws/s]"
     ]
    },
    {
     "name": "stderr",
     "output_type": "stream",
     "text": [
      "\r",
      "Sampling 3 chains, 1 divergences:  18%|█▊        | 219/1200 [00:09<01:29, 10.93draws/s]"
     ]
    },
    {
     "name": "stderr",
     "output_type": "stream",
     "text": [
      "\r",
      "Sampling 3 chains, 2 divergences:  18%|█▊        | 219/1200 [00:09<01:29, 10.93draws/s]"
     ]
    },
    {
     "name": "stderr",
     "output_type": "stream",
     "text": [
      "\r",
      "Sampling 3 chains, 2 divergences:  18%|█▊        | 221/1200 [00:09<01:29, 10.89draws/s]"
     ]
    },
    {
     "name": "stderr",
     "output_type": "stream",
     "text": [
      "\r",
      "Sampling 3 chains, 3 divergences:  18%|█▊        | 221/1200 [00:09<01:29, 10.89draws/s]"
     ]
    },
    {
     "name": "stderr",
     "output_type": "stream",
     "text": [
      "\r",
      "Sampling 3 chains, 3 divergences:  19%|█▊        | 223/1200 [00:09<01:27, 11.14draws/s]"
     ]
    },
    {
     "name": "stderr",
     "output_type": "stream",
     "text": [
      "\r",
      "Sampling 3 chains, 3 divergences:  19%|█▉        | 225/1200 [00:10<01:25, 11.42draws/s]"
     ]
    },
    {
     "name": "stderr",
     "output_type": "stream",
     "text": [
      "\r",
      "Sampling 3 chains, 3 divergences:  19%|█▉        | 227/1200 [00:10<01:23, 11.69draws/s]"
     ]
    },
    {
     "name": "stderr",
     "output_type": "stream",
     "text": [
      "\r",
      "Sampling 3 chains, 3 divergences:  19%|█▉        | 229/1200 [00:10<01:21, 11.89draws/s]"
     ]
    },
    {
     "name": "stderr",
     "output_type": "stream",
     "text": [
      "\r",
      "Sampling 3 chains, 3 divergences:  19%|█▉        | 231/1200 [00:10<01:20, 12.04draws/s]"
     ]
    },
    {
     "name": "stderr",
     "output_type": "stream",
     "text": [
      "\r",
      "Sampling 3 chains, 3 divergences:  19%|█▉        | 233/1200 [00:10<01:20, 12.04draws/s]"
     ]
    },
    {
     "name": "stderr",
     "output_type": "stream",
     "text": [
      "\r",
      "Sampling 3 chains, 3 divergences:  20%|█▉        | 235/1200 [00:10<01:20, 11.96draws/s]"
     ]
    },
    {
     "name": "stderr",
     "output_type": "stream",
     "text": [
      "\r",
      "Sampling 3 chains, 4 divergences:  20%|█▉        | 236/1200 [00:10<01:20, 11.96draws/s]"
     ]
    },
    {
     "name": "stderr",
     "output_type": "stream",
     "text": [
      "\r",
      "Sampling 3 chains, 4 divergences:  20%|█▉        | 238/1200 [00:11<01:15, 12.75draws/s]"
     ]
    },
    {
     "name": "stderr",
     "output_type": "stream",
     "text": [
      "\r",
      "Sampling 3 chains, 4 divergences:  20%|██        | 240/1200 [00:11<01:18, 12.28draws/s]"
     ]
    },
    {
     "name": "stderr",
     "output_type": "stream",
     "text": [
      "\r",
      "Sampling 3 chains, 4 divergences:  20%|██        | 242/1200 [00:11<01:18, 12.17draws/s]"
     ]
    },
    {
     "name": "stderr",
     "output_type": "stream",
     "text": [
      "\r",
      "Sampling 3 chains, 5 divergences:  20%|██        | 242/1200 [00:11<01:18, 12.17draws/s]"
     ]
    },
    {
     "name": "stderr",
     "output_type": "stream",
     "text": [
      "\r",
      "Sampling 3 chains, 5 divergences:  20%|██        | 244/1200 [00:11<01:19, 11.99draws/s]"
     ]
    },
    {
     "name": "stderr",
     "output_type": "stream",
     "text": [
      "\r",
      "Sampling 3 chains, 5 divergences:  20%|██        | 246/1200 [00:11<01:20, 11.85draws/s]"
     ]
    },
    {
     "name": "stderr",
     "output_type": "stream",
     "text": [
      "\r",
      "Sampling 3 chains, 5 divergences:  21%|██        | 248/1200 [00:11<01:19, 12.02draws/s]"
     ]
    },
    {
     "name": "stderr",
     "output_type": "stream",
     "text": [
      "\r",
      "Sampling 3 chains, 5 divergences:  21%|██        | 250/1200 [00:12<01:19, 11.89draws/s]"
     ]
    },
    {
     "name": "stderr",
     "output_type": "stream",
     "text": [
      "\r",
      "Sampling 3 chains, 5 divergences:  21%|██        | 252/1200 [00:12<01:27, 10.89draws/s]"
     ]
    },
    {
     "name": "stderr",
     "output_type": "stream",
     "text": [
      "\r",
      "Sampling 3 chains, 5 divergences:  21%|██        | 254/1200 [00:12<01:25, 11.00draws/s]"
     ]
    },
    {
     "name": "stderr",
     "output_type": "stream",
     "text": [
      "\r",
      "Sampling 3 chains, 5 divergences:  21%|██▏       | 256/1200 [00:12<01:25, 11.05draws/s]"
     ]
    },
    {
     "name": "stderr",
     "output_type": "stream",
     "text": [
      "\r",
      "Sampling 3 chains, 5 divergences:  22%|██▏       | 258/1200 [00:12<01:26, 10.94draws/s]"
     ]
    },
    {
     "name": "stderr",
     "output_type": "stream",
     "text": [
      "\r",
      "Sampling 3 chains, 5 divergences:  22%|██▏       | 260/1200 [00:13<01:23, 11.23draws/s]"
     ]
    },
    {
     "name": "stderr",
     "output_type": "stream",
     "text": [
      "\r",
      "Sampling 3 chains, 5 divergences:  22%|██▏       | 262/1200 [00:13<01:22, 11.34draws/s]"
     ]
    },
    {
     "name": "stderr",
     "output_type": "stream",
     "text": [
      "\r",
      "Sampling 3 chains, 5 divergences:  22%|██▏       | 264/1200 [00:13<01:21, 11.45draws/s]"
     ]
    },
    {
     "name": "stderr",
     "output_type": "stream",
     "text": [
      "\r",
      "Sampling 3 chains, 5 divergences:  22%|██▏       | 266/1200 [00:13<01:21, 11.43draws/s]"
     ]
    },
    {
     "name": "stderr",
     "output_type": "stream",
     "text": [
      "\r",
      "Sampling 3 chains, 5 divergences:  22%|██▏       | 268/1200 [00:13<01:20, 11.51draws/s]"
     ]
    },
    {
     "name": "stderr",
     "output_type": "stream",
     "text": [
      "\r",
      "Sampling 3 chains, 5 divergences:  22%|██▎       | 270/1200 [00:13<01:20, 11.48draws/s]"
     ]
    },
    {
     "name": "stderr",
     "output_type": "stream",
     "text": [
      "\r",
      "Sampling 3 chains, 5 divergences:  23%|██▎       | 272/1200 [00:14<01:19, 11.66draws/s]"
     ]
    },
    {
     "name": "stderr",
     "output_type": "stream",
     "text": [
      "\r",
      "Sampling 3 chains, 5 divergences:  23%|██▎       | 274/1200 [00:14<01:19, 11.68draws/s]"
     ]
    },
    {
     "name": "stderr",
     "output_type": "stream",
     "text": [
      "\r",
      "Sampling 3 chains, 5 divergences:  23%|██▎       | 276/1200 [00:14<01:20, 11.53draws/s]"
     ]
    },
    {
     "name": "stderr",
     "output_type": "stream",
     "text": [
      "\r",
      "Sampling 3 chains, 5 divergences:  23%|██▎       | 278/1200 [00:14<01:21, 11.38draws/s]"
     ]
    },
    {
     "name": "stderr",
     "output_type": "stream",
     "text": [
      "\r",
      "Sampling 3 chains, 5 divergences:  23%|██▎       | 280/1200 [00:14<01:21, 11.31draws/s]"
     ]
    },
    {
     "name": "stderr",
     "output_type": "stream",
     "text": [
      "\r",
      "Sampling 3 chains, 5 divergences:  24%|██▎       | 282/1200 [00:14<01:20, 11.40draws/s]"
     ]
    },
    {
     "name": "stderr",
     "output_type": "stream",
     "text": [
      "\r",
      "Sampling 3 chains, 5 divergences:  24%|██▎       | 284/1200 [00:15<01:15, 12.13draws/s]"
     ]
    },
    {
     "name": "stderr",
     "output_type": "stream",
     "text": [
      "\r",
      "Sampling 3 chains, 5 divergences:  24%|██▍       | 286/1200 [00:15<01:17, 11.82draws/s]"
     ]
    },
    {
     "name": "stderr",
     "output_type": "stream",
     "text": [
      "\r",
      "Sampling 3 chains, 5 divergences:  24%|██▍       | 288/1200 [00:15<01:32,  9.84draws/s]"
     ]
    },
    {
     "name": "stderr",
     "output_type": "stream",
     "text": [
      "\r",
      "Sampling 3 chains, 5 divergences:  24%|██▍       | 290/1200 [00:15<01:27, 10.36draws/s]"
     ]
    },
    {
     "name": "stderr",
     "output_type": "stream",
     "text": [
      "\r",
      "Sampling 3 chains, 5 divergences:  24%|██▍       | 292/1200 [00:15<01:26, 10.46draws/s]"
     ]
    },
    {
     "name": "stderr",
     "output_type": "stream",
     "text": [
      "\r",
      "Sampling 3 chains, 5 divergences:  24%|██▍       | 294/1200 [00:16<01:23, 10.82draws/s]"
     ]
    },
    {
     "name": "stderr",
     "output_type": "stream",
     "text": [
      "\r",
      "Sampling 3 chains, 5 divergences:  25%|██▍       | 296/1200 [00:16<01:22, 11.02draws/s]"
     ]
    },
    {
     "name": "stderr",
     "output_type": "stream",
     "text": [
      "\r",
      "Sampling 3 chains, 5 divergences:  25%|██▍       | 298/1200 [00:16<01:20, 11.15draws/s]"
     ]
    },
    {
     "name": "stderr",
     "output_type": "stream",
     "text": [
      "\r",
      "Sampling 3 chains, 5 divergences:  25%|██▌       | 300/1200 [00:16<01:19, 11.30draws/s]"
     ]
    },
    {
     "name": "stderr",
     "output_type": "stream",
     "text": [
      "\r",
      "Sampling 3 chains, 5 divergences:  25%|██▌       | 302/1200 [00:16<01:18, 11.40draws/s]"
     ]
    },
    {
     "name": "stderr",
     "output_type": "stream",
     "text": [
      "\r",
      "Sampling 3 chains, 5 divergences:  25%|██▌       | 304/1200 [00:16<01:18, 11.48draws/s]"
     ]
    },
    {
     "name": "stderr",
     "output_type": "stream",
     "text": [
      "\r",
      "Sampling 3 chains, 5 divergences:  26%|██▌       | 306/1200 [00:17<01:17, 11.53draws/s]"
     ]
    },
    {
     "name": "stderr",
     "output_type": "stream",
     "text": [
      "\r",
      "Sampling 3 chains, 5 divergences:  26%|██▌       | 308/1200 [00:17<01:27, 10.20draws/s]"
     ]
    },
    {
     "name": "stderr",
     "output_type": "stream",
     "text": [
      "\r",
      "Sampling 3 chains, 5 divergences:  26%|██▌       | 310/1200 [00:17<01:24, 10.50draws/s]"
     ]
    },
    {
     "name": "stderr",
     "output_type": "stream",
     "text": [
      "\r",
      "Sampling 3 chains, 5 divergences:  26%|██▌       | 312/1200 [00:17<01:24, 10.52draws/s]"
     ]
    },
    {
     "name": "stderr",
     "output_type": "stream",
     "text": [
      "\r",
      "Sampling 3 chains, 5 divergences:  26%|██▌       | 314/1200 [00:18<01:43,  8.60draws/s]"
     ]
    },
    {
     "name": "stderr",
     "output_type": "stream",
     "text": [
      "\r",
      "Sampling 3 chains, 5 divergences:  26%|██▋       | 317/1200 [00:18<01:27, 10.09draws/s]"
     ]
    },
    {
     "name": "stderr",
     "output_type": "stream",
     "text": [
      "\r",
      "Sampling 3 chains, 5 divergences:  27%|██▋       | 319/1200 [00:18<01:24, 10.43draws/s]"
     ]
    },
    {
     "name": "stderr",
     "output_type": "stream",
     "text": [
      "\r",
      "Sampling 3 chains, 5 divergences:  27%|██▋       | 321/1200 [00:18<01:34,  9.30draws/s]"
     ]
    },
    {
     "name": "stderr",
     "output_type": "stream",
     "text": [
      "\r",
      "Sampling 3 chains, 5 divergences:  27%|██▋       | 323/1200 [00:18<01:29,  9.82draws/s]"
     ]
    },
    {
     "name": "stderr",
     "output_type": "stream",
     "text": [
      "\r",
      "Sampling 3 chains, 5 divergences:  27%|██▋       | 325/1200 [00:18<01:16, 11.44draws/s]"
     ]
    },
    {
     "name": "stderr",
     "output_type": "stream",
     "text": [
      "\r",
      "Sampling 3 chains, 5 divergences:  27%|██▋       | 327/1200 [00:19<01:14, 11.64draws/s]"
     ]
    },
    {
     "name": "stderr",
     "output_type": "stream",
     "text": [
      "\r",
      "Sampling 3 chains, 5 divergences:  27%|██▋       | 329/1200 [00:19<01:17, 11.23draws/s]"
     ]
    },
    {
     "name": "stderr",
     "output_type": "stream",
     "text": [
      "\r",
      "Sampling 3 chains, 5 divergences:  28%|██▊       | 331/1200 [00:19<01:18, 11.12draws/s]"
     ]
    },
    {
     "name": "stderr",
     "output_type": "stream",
     "text": [
      "\r",
      "Sampling 3 chains, 5 divergences:  28%|██▊       | 333/1200 [00:19<01:18, 11.11draws/s]"
     ]
    },
    {
     "name": "stderr",
     "output_type": "stream",
     "text": [
      "\r",
      "Sampling 3 chains, 5 divergences:  28%|██▊       | 335/1200 [00:19<01:20, 10.72draws/s]"
     ]
    },
    {
     "name": "stderr",
     "output_type": "stream",
     "text": [
      "\r",
      "Sampling 3 chains, 5 divergences:  28%|██▊       | 337/1200 [00:20<01:18, 10.95draws/s]"
     ]
    },
    {
     "name": "stderr",
     "output_type": "stream",
     "text": [
      "\r",
      "Sampling 3 chains, 5 divergences:  28%|██▊       | 339/1200 [00:20<01:19, 10.82draws/s]"
     ]
    },
    {
     "name": "stderr",
     "output_type": "stream",
     "text": [
      "\r",
      "Sampling 3 chains, 5 divergences:  28%|██▊       | 341/1200 [00:20<01:18, 10.91draws/s]"
     ]
    },
    {
     "name": "stderr",
     "output_type": "stream",
     "text": [
      "\r",
      "Sampling 3 chains, 5 divergences:  29%|██▊       | 343/1200 [00:20<01:17, 11.03draws/s]"
     ]
    },
    {
     "name": "stderr",
     "output_type": "stream",
     "text": [
      "\r",
      "Sampling 3 chains, 5 divergences:  29%|██▉       | 345/1200 [00:20<01:17, 11.09draws/s]"
     ]
    },
    {
     "name": "stderr",
     "output_type": "stream",
     "text": [
      "\r",
      "Sampling 3 chains, 5 divergences:  29%|██▉       | 347/1200 [00:20<01:16, 11.22draws/s]"
     ]
    },
    {
     "name": "stderr",
     "output_type": "stream",
     "text": [
      "\r",
      "Sampling 3 chains, 5 divergences:  29%|██▉       | 349/1200 [00:21<01:31,  9.31draws/s]"
     ]
    },
    {
     "name": "stderr",
     "output_type": "stream",
     "text": [
      "\r",
      "Sampling 3 chains, 5 divergences:  29%|██▉       | 351/1200 [00:21<01:24, 10.00draws/s]"
     ]
    },
    {
     "name": "stderr",
     "output_type": "stream",
     "text": [
      "\r",
      "Sampling 3 chains, 5 divergences:  29%|██▉       | 353/1200 [00:21<01:27,  9.65draws/s]"
     ]
    },
    {
     "name": "stderr",
     "output_type": "stream",
     "text": [
      "\r",
      "Sampling 3 chains, 5 divergences:  30%|██▉       | 355/1200 [00:21<01:23, 10.08draws/s]"
     ]
    },
    {
     "name": "stderr",
     "output_type": "stream",
     "text": [
      "\r",
      "Sampling 3 chains, 5 divergences:  30%|██▉       | 357/1200 [00:22<01:22, 10.25draws/s]"
     ]
    },
    {
     "name": "stderr",
     "output_type": "stream",
     "text": [
      "\r",
      "Sampling 3 chains, 5 divergences:  30%|██▉       | 359/1200 [00:22<01:18, 10.66draws/s]"
     ]
    },
    {
     "name": "stderr",
     "output_type": "stream",
     "text": [
      "\r",
      "Sampling 3 chains, 5 divergences:  30%|███       | 361/1200 [00:22<01:17, 10.85draws/s]"
     ]
    },
    {
     "name": "stderr",
     "output_type": "stream",
     "text": [
      "\r",
      "Sampling 3 chains, 5 divergences:  30%|███       | 363/1200 [00:22<01:37,  8.55draws/s]"
     ]
    },
    {
     "name": "stderr",
     "output_type": "stream",
     "text": [
      "\r",
      "Sampling 3 chains, 5 divergences:  30%|███       | 365/1200 [00:22<01:30,  9.24draws/s]"
     ]
    },
    {
     "name": "stderr",
     "output_type": "stream",
     "text": [
      "\r",
      "Sampling 3 chains, 5 divergences:  31%|███       | 367/1200 [00:23<01:34,  8.84draws/s]"
     ]
    },
    {
     "name": "stderr",
     "output_type": "stream",
     "text": [
      "\r",
      "Sampling 3 chains, 5 divergences:  31%|███       | 368/1200 [00:23<01:32,  8.99draws/s]"
     ]
    },
    {
     "name": "stderr",
     "output_type": "stream",
     "text": [
      "\r",
      "Sampling 3 chains, 5 divergences:  31%|███       | 369/1200 [00:23<01:33,  8.91draws/s]"
     ]
    },
    {
     "name": "stderr",
     "output_type": "stream",
     "text": [
      "\r",
      "Sampling 3 chains, 5 divergences:  31%|███       | 371/1200 [00:23<01:27,  9.43draws/s]"
     ]
    },
    {
     "name": "stderr",
     "output_type": "stream",
     "text": [
      "\r",
      "Sampling 3 chains, 5 divergences:  31%|███       | 372/1200 [00:23<01:45,  7.85draws/s]"
     ]
    },
    {
     "name": "stderr",
     "output_type": "stream",
     "text": [
      "\r",
      "Sampling 3 chains, 5 divergences:  31%|███       | 374/1200 [00:23<01:36,  8.56draws/s]"
     ]
    },
    {
     "name": "stderr",
     "output_type": "stream",
     "text": [
      "\r",
      "Sampling 3 chains, 5 divergences:  31%|███▏      | 376/1200 [00:24<01:29,  9.22draws/s]"
     ]
    },
    {
     "name": "stderr",
     "output_type": "stream",
     "text": [
      "\r",
      "Sampling 3 chains, 5 divergences:  31%|███▏      | 377/1200 [00:24<01:46,  7.73draws/s]"
     ]
    },
    {
     "name": "stderr",
     "output_type": "stream",
     "text": [
      "\r",
      "Sampling 3 chains, 5 divergences:  32%|███▏      | 379/1200 [00:24<01:36,  8.49draws/s]"
     ]
    },
    {
     "name": "stderr",
     "output_type": "stream",
     "text": [
      "\r",
      "Sampling 3 chains, 5 divergences:  32%|███▏      | 381/1200 [00:24<01:29,  9.18draws/s]"
     ]
    },
    {
     "name": "stderr",
     "output_type": "stream",
     "text": [
      "\r",
      "Sampling 3 chains, 5 divergences:  32%|███▏      | 382/1200 [00:24<01:46,  7.71draws/s]"
     ]
    },
    {
     "name": "stderr",
     "output_type": "stream",
     "text": [
      "\r",
      "Sampling 3 chains, 5 divergences:  32%|███▏      | 384/1200 [00:25<01:45,  7.72draws/s]"
     ]
    },
    {
     "name": "stderr",
     "output_type": "stream",
     "text": [
      "\r",
      "Sampling 3 chains, 5 divergences:  32%|███▏      | 385/1200 [00:25<01:38,  8.27draws/s]"
     ]
    },
    {
     "name": "stderr",
     "output_type": "stream",
     "text": [
      "\r",
      "Sampling 3 chains, 5 divergences:  32%|███▏      | 386/1200 [00:25<01:53,  7.20draws/s]"
     ]
    },
    {
     "name": "stderr",
     "output_type": "stream",
     "text": [
      "\r",
      "Sampling 3 chains, 5 divergences:  32%|███▏      | 388/1200 [00:25<01:40,  8.10draws/s]"
     ]
    },
    {
     "name": "stderr",
     "output_type": "stream",
     "text": [
      "\r",
      "Sampling 3 chains, 6 divergences:  32%|███▏      | 388/1200 [00:25<01:40,  8.10draws/s]"
     ]
    },
    {
     "name": "stderr",
     "output_type": "stream",
     "text": [
      "\r",
      "Sampling 3 chains, 6 divergences:  32%|███▏      | 389/1200 [00:25<01:49,  7.41draws/s]"
     ]
    },
    {
     "name": "stderr",
     "output_type": "stream",
     "text": [
      "\r",
      "Sampling 3 chains, 6 divergences:  33%|███▎      | 391/1200 [00:25<01:38,  8.18draws/s]"
     ]
    },
    {
     "name": "stderr",
     "output_type": "stream",
     "text": [
      "\r",
      "Sampling 3 chains, 6 divergences:  33%|███▎      | 392/1200 [00:26<01:47,  7.53draws/s]"
     ]
    },
    {
     "name": "stderr",
     "output_type": "stream",
     "text": [
      "\r",
      "Sampling 3 chains, 6 divergences:  33%|███▎      | 393/1200 [00:26<02:00,  6.72draws/s]"
     ]
    },
    {
     "name": "stderr",
     "output_type": "stream",
     "text": [
      "\r",
      "Sampling 3 chains, 6 divergences:  33%|███▎      | 394/1200 [00:26<02:02,  6.60draws/s]"
     ]
    },
    {
     "name": "stderr",
     "output_type": "stream",
     "text": [
      "\r",
      "Sampling 3 chains, 6 divergences:  33%|███▎      | 396/1200 [00:26<01:49,  7.36draws/s]"
     ]
    },
    {
     "name": "stderr",
     "output_type": "stream",
     "text": [
      "\r",
      "Sampling 3 chains, 6 divergences:  33%|███▎      | 397/1200 [00:26<01:52,  7.15draws/s]"
     ]
    },
    {
     "name": "stderr",
     "output_type": "stream",
     "text": [
      "\r",
      "Sampling 3 chains, 6 divergences:  33%|███▎      | 399/1200 [00:27<02:00,  6.62draws/s]"
     ]
    },
    {
     "name": "stderr",
     "output_type": "stream",
     "text": [
      "\r",
      "Sampling 3 chains, 6 divergences:  33%|███▎      | 401/1200 [00:27<02:04,  6.39draws/s]"
     ]
    },
    {
     "name": "stderr",
     "output_type": "stream",
     "text": [
      "\r",
      "Sampling 3 chains, 6 divergences:  34%|███▎      | 403/1200 [00:27<02:08,  6.19draws/s]"
     ]
    },
    {
     "name": "stderr",
     "output_type": "stream",
     "text": [
      "\r",
      "Sampling 3 chains, 6 divergences:  34%|███▍      | 405/1200 [00:28<02:12,  6.02draws/s]"
     ]
    },
    {
     "name": "stderr",
     "output_type": "stream",
     "text": [
      "\r",
      "Sampling 3 chains, 6 divergences:  34%|███▍      | 407/1200 [00:28<01:54,  6.93draws/s]"
     ]
    },
    {
     "name": "stderr",
     "output_type": "stream",
     "text": [
      "\r",
      "Sampling 3 chains, 6 divergences:  34%|███▍      | 408/1200 [00:28<02:01,  6.53draws/s]"
     ]
    },
    {
     "name": "stderr",
     "output_type": "stream",
     "text": [
      "\r",
      "Sampling 3 chains, 6 divergences:  34%|███▍      | 410/1200 [00:28<02:06,  6.24draws/s]"
     ]
    },
    {
     "name": "stderr",
     "output_type": "stream",
     "text": [
      "\r",
      "Sampling 3 chains, 6 divergences:  34%|███▍      | 412/1200 [00:28<01:49,  7.22draws/s]"
     ]
    },
    {
     "name": "stderr",
     "output_type": "stream",
     "text": [
      "\r",
      "Sampling 3 chains, 6 divergences:  34%|███▍      | 413/1200 [00:29<01:56,  6.75draws/s]"
     ]
    },
    {
     "name": "stderr",
     "output_type": "stream",
     "text": [
      "\r",
      "Sampling 3 chains, 6 divergences:  34%|███▍      | 414/1200 [00:29<02:02,  6.41draws/s]"
     ]
    },
    {
     "name": "stderr",
     "output_type": "stream",
     "text": [
      "\r",
      "Sampling 3 chains, 6 divergences:  35%|███▍      | 416/1200 [00:29<01:46,  7.37draws/s]"
     ]
    },
    {
     "name": "stderr",
     "output_type": "stream",
     "text": [
      "\r",
      "Sampling 3 chains, 6 divergences:  35%|███▍      | 418/1200 [00:29<01:34,  8.27draws/s]"
     ]
    },
    {
     "name": "stderr",
     "output_type": "stream",
     "text": [
      "\r",
      "Sampling 3 chains, 6 divergences:  35%|███▌      | 420/1200 [00:29<01:25,  9.13draws/s]"
     ]
    },
    {
     "name": "stderr",
     "output_type": "stream",
     "text": [
      "\r",
      "Sampling 3 chains, 6 divergences:  35%|███▌      | 422/1200 [00:30<01:18,  9.86draws/s]"
     ]
    },
    {
     "name": "stderr",
     "output_type": "stream",
     "text": [
      "\r",
      "Sampling 3 chains, 6 divergences:  35%|███▌      | 424/1200 [00:30<01:14, 10.44draws/s]"
     ]
    },
    {
     "name": "stderr",
     "output_type": "stream",
     "text": [
      "\r",
      "Sampling 3 chains, 6 divergences:  36%|███▌      | 426/1200 [00:30<01:11, 10.83draws/s]"
     ]
    },
    {
     "name": "stderr",
     "output_type": "stream",
     "text": [
      "\r",
      "Sampling 3 chains, 6 divergences:  36%|███▌      | 428/1200 [00:30<01:16, 10.07draws/s]"
     ]
    },
    {
     "name": "stderr",
     "output_type": "stream",
     "text": [
      "\r",
      "Sampling 3 chains, 6 divergences:  36%|███▌      | 430/1200 [00:30<01:25,  9.02draws/s]"
     ]
    },
    {
     "name": "stderr",
     "output_type": "stream",
     "text": [
      "\r",
      "Sampling 3 chains, 6 divergences:  36%|███▌      | 432/1200 [00:31<01:18,  9.74draws/s]"
     ]
    },
    {
     "name": "stderr",
     "output_type": "stream",
     "text": [
      "\r",
      "Sampling 3 chains, 6 divergences:  36%|███▌      | 434/1200 [00:31<01:16,  9.96draws/s]"
     ]
    },
    {
     "name": "stderr",
     "output_type": "stream",
     "text": [
      "\r",
      "Sampling 3 chains, 6 divergences:  36%|███▋      | 436/1200 [00:31<01:19,  9.56draws/s]"
     ]
    },
    {
     "name": "stderr",
     "output_type": "stream",
     "text": [
      "\r",
      "Sampling 3 chains, 6 divergences:  36%|███▋      | 437/1200 [00:31<01:22,  9.22draws/s]"
     ]
    },
    {
     "name": "stderr",
     "output_type": "stream",
     "text": [
      "\r",
      "Sampling 3 chains, 6 divergences:  36%|███▋      | 438/1200 [00:31<01:50,  6.89draws/s]"
     ]
    },
    {
     "name": "stderr",
     "output_type": "stream",
     "text": [
      "\r",
      "Sampling 3 chains, 6 divergences:  37%|███▋      | 439/1200 [00:31<01:43,  7.39draws/s]"
     ]
    },
    {
     "name": "stderr",
     "output_type": "stream",
     "text": [
      "\r",
      "Sampling 3 chains, 6 divergences:  37%|███▋      | 440/1200 [00:32<01:50,  6.85draws/s]"
     ]
    },
    {
     "name": "stderr",
     "output_type": "stream",
     "text": [
      "\r",
      "Sampling 3 chains, 6 divergences:  37%|███▋      | 442/1200 [00:32<01:36,  7.86draws/s]"
     ]
    },
    {
     "name": "stderr",
     "output_type": "stream",
     "text": [
      "\r",
      "Sampling 3 chains, 6 divergences:  37%|███▋      | 443/1200 [00:32<02:00,  6.26draws/s]"
     ]
    },
    {
     "name": "stderr",
     "output_type": "stream",
     "text": [
      "\r",
      "Sampling 3 chains, 6 divergences:  37%|███▋      | 445/1200 [00:32<02:01,  6.20draws/s]"
     ]
    },
    {
     "name": "stderr",
     "output_type": "stream",
     "text": [
      "\r",
      "Sampling 3 chains, 6 divergences:  37%|███▋      | 447/1200 [00:32<01:44,  7.22draws/s]"
     ]
    },
    {
     "name": "stderr",
     "output_type": "stream",
     "text": [
      "\r",
      "Sampling 3 chains, 6 divergences:  37%|███▋      | 449/1200 [00:33<01:40,  7.47draws/s]"
     ]
    },
    {
     "name": "stderr",
     "output_type": "stream",
     "text": [
      "\r",
      "Sampling 3 chains, 6 divergences:  38%|███▊      | 451/1200 [00:33<01:47,  6.96draws/s]"
     ]
    },
    {
     "name": "stderr",
     "output_type": "stream",
     "text": [
      "\r",
      "Sampling 3 chains, 6 divergences:  38%|███▊      | 452/1200 [00:33<01:38,  7.56draws/s]"
     ]
    },
    {
     "name": "stderr",
     "output_type": "stream",
     "text": [
      "\r",
      "Sampling 3 chains, 6 divergences:  38%|███▊      | 453/1200 [00:33<01:47,  6.96draws/s]"
     ]
    },
    {
     "name": "stderr",
     "output_type": "stream",
     "text": [
      "\r",
      "Sampling 3 chains, 6 divergences:  38%|███▊      | 455/1200 [00:34<01:53,  6.56draws/s]"
     ]
    },
    {
     "name": "stderr",
     "output_type": "stream",
     "text": [
      "\r",
      "Sampling 3 chains, 6 divergences:  38%|███▊      | 457/1200 [00:34<01:56,  6.36draws/s]"
     ]
    },
    {
     "name": "stderr",
     "output_type": "stream",
     "text": [
      "\r",
      "Sampling 3 chains, 6 divergences:  38%|███▊      | 459/1200 [00:34<01:40,  7.36draws/s]"
     ]
    },
    {
     "name": "stderr",
     "output_type": "stream",
     "text": [
      "\r",
      "Sampling 3 chains, 6 divergences:  38%|███▊      | 460/1200 [00:34<01:47,  6.89draws/s]"
     ]
    },
    {
     "name": "stderr",
     "output_type": "stream",
     "text": [
      "\r",
      "Sampling 3 chains, 6 divergences:  38%|███▊      | 462/1200 [00:35<01:39,  7.41draws/s]"
     ]
    },
    {
     "name": "stderr",
     "output_type": "stream",
     "text": [
      "\r",
      "Sampling 3 chains, 6 divergences:  39%|███▊      | 463/1200 [00:35<01:32,  7.93draws/s]"
     ]
    },
    {
     "name": "stderr",
     "output_type": "stream",
     "text": [
      "\r",
      "Sampling 3 chains, 6 divergences:  39%|███▊      | 464/1200 [00:35<01:53,  6.50draws/s]"
     ]
    },
    {
     "name": "stderr",
     "output_type": "stream",
     "text": [
      "\r",
      "Sampling 3 chains, 6 divergences:  39%|███▉      | 465/1200 [00:35<01:43,  7.07draws/s]"
     ]
    },
    {
     "name": "stderr",
     "output_type": "stream",
     "text": [
      "\r",
      "Sampling 3 chains, 6 divergences:  39%|███▉      | 467/1200 [00:35<01:47,  6.84draws/s]"
     ]
    },
    {
     "name": "stderr",
     "output_type": "stream",
     "text": [
      "\r",
      "Sampling 3 chains, 6 divergences:  39%|███▉      | 469/1200 [00:36<01:38,  7.43draws/s]"
     ]
    },
    {
     "name": "stderr",
     "output_type": "stream",
     "text": [
      "\r",
      "Sampling 3 chains, 6 divergences:  39%|███▉      | 470/1200 [00:36<01:33,  7.77draws/s]"
     ]
    },
    {
     "name": "stderr",
     "output_type": "stream",
     "text": [
      "\r",
      "Sampling 3 chains, 6 divergences:  39%|███▉      | 472/1200 [00:36<01:29,  8.14draws/s]"
     ]
    },
    {
     "name": "stderr",
     "output_type": "stream",
     "text": [
      "\r",
      "Sampling 3 chains, 6 divergences:  39%|███▉      | 473/1200 [00:36<01:25,  8.45draws/s]"
     ]
    },
    {
     "name": "stderr",
     "output_type": "stream",
     "text": [
      "\r",
      "Sampling 3 chains, 6 divergences:  40%|███▉      | 475/1200 [00:36<01:24,  8.54draws/s]"
     ]
    },
    {
     "name": "stderr",
     "output_type": "stream",
     "text": [
      "\r",
      "Sampling 3 chains, 6 divergences:  40%|███▉      | 476/1200 [00:36<01:21,  8.85draws/s]"
     ]
    },
    {
     "name": "stderr",
     "output_type": "stream",
     "text": [
      "\r",
      "Sampling 3 chains, 6 divergences:  40%|███▉      | 478/1200 [00:37<01:20,  8.99draws/s]"
     ]
    },
    {
     "name": "stderr",
     "output_type": "stream",
     "text": [
      "\r",
      "Sampling 3 chains, 6 divergences:  40%|███▉      | 479/1200 [00:37<01:20,  8.93draws/s]"
     ]
    },
    {
     "name": "stderr",
     "output_type": "stream",
     "text": [
      "\r",
      "Sampling 3 chains, 6 divergences:  40%|████      | 481/1200 [00:37<01:21,  8.81draws/s]"
     ]
    },
    {
     "name": "stderr",
     "output_type": "stream",
     "text": [
      "\r",
      "Sampling 3 chains, 6 divergences:  40%|████      | 483/1200 [00:37<01:14,  9.65draws/s]"
     ]
    },
    {
     "name": "stderr",
     "output_type": "stream",
     "text": [
      "\r",
      "Sampling 3 chains, 6 divergences:  40%|████      | 484/1200 [00:37<01:27,  8.22draws/s]"
     ]
    },
    {
     "name": "stderr",
     "output_type": "stream",
     "text": [
      "\r",
      "Sampling 3 chains, 6 divergences:  40%|████      | 486/1200 [00:37<01:17,  9.18draws/s]"
     ]
    },
    {
     "name": "stderr",
     "output_type": "stream",
     "text": [
      "\r",
      "Sampling 3 chains, 6 divergences:  41%|████      | 487/1200 [00:38<01:48,  6.55draws/s]"
     ]
    },
    {
     "name": "stderr",
     "output_type": "stream",
     "text": [
      "\r",
      "Sampling 3 chains, 6 divergences:  41%|████      | 489/1200 [00:38<01:41,  7.01draws/s]"
     ]
    },
    {
     "name": "stderr",
     "output_type": "stream",
     "text": [
      "\r",
      "Sampling 3 chains, 6 divergences:  41%|████      | 491/1200 [00:38<01:27,  8.11draws/s]"
     ]
    },
    {
     "name": "stderr",
     "output_type": "stream",
     "text": [
      "\r",
      "Sampling 3 chains, 6 divergences:  41%|████      | 492/1200 [00:38<01:35,  7.38draws/s]"
     ]
    },
    {
     "name": "stderr",
     "output_type": "stream",
     "text": [
      "\r",
      "Sampling 3 chains, 6 divergences:  41%|████      | 494/1200 [00:38<01:23,  8.45draws/s]"
     ]
    },
    {
     "name": "stderr",
     "output_type": "stream",
     "text": [
      "\r",
      "Sampling 3 chains, 6 divergences:  41%|████▏     | 496/1200 [00:38<01:15,  9.32draws/s]"
     ]
    },
    {
     "name": "stderr",
     "output_type": "stream",
     "text": [
      "\r",
      "Sampling 3 chains, 6 divergences:  42%|████▏     | 498/1200 [00:39<01:09, 10.03draws/s]"
     ]
    },
    {
     "name": "stderr",
     "output_type": "stream",
     "text": [
      "\r",
      "Sampling 3 chains, 6 divergences:  42%|████▏     | 500/1200 [00:39<01:17,  9.00draws/s]"
     ]
    },
    {
     "name": "stderr",
     "output_type": "stream",
     "text": [
      "\r",
      "Sampling 3 chains, 6 divergences:  42%|████▏     | 502/1200 [00:39<01:31,  7.62draws/s]"
     ]
    },
    {
     "name": "stderr",
     "output_type": "stream",
     "text": [
      "\r",
      "Sampling 3 chains, 6 divergences:  42%|████▏     | 504/1200 [00:40<01:28,  7.84draws/s]"
     ]
    },
    {
     "name": "stderr",
     "output_type": "stream",
     "text": [
      "\r",
      "Sampling 3 chains, 6 divergences:  42%|████▏     | 505/1200 [00:40<01:25,  8.17draws/s]"
     ]
    },
    {
     "name": "stderr",
     "output_type": "stream",
     "text": [
      "\r",
      "Sampling 3 chains, 6 divergences:  42%|████▏     | 507/1200 [00:40<01:25,  8.10draws/s]"
     ]
    },
    {
     "name": "stderr",
     "output_type": "stream",
     "text": [
      "\r",
      "Sampling 3 chains, 6 divergences:  42%|████▏     | 508/1200 [00:40<01:21,  8.48draws/s]"
     ]
    },
    {
     "name": "stderr",
     "output_type": "stream",
     "text": [
      "\r",
      "Sampling 3 chains, 6 divergences:  42%|████▎     | 510/1200 [00:40<01:22,  8.32draws/s]"
     ]
    },
    {
     "name": "stderr",
     "output_type": "stream",
     "text": [
      "\r",
      "Sampling 3 chains, 6 divergences:  43%|████▎     | 511/1200 [00:40<01:18,  8.74draws/s]"
     ]
    },
    {
     "name": "stderr",
     "output_type": "stream",
     "text": [
      "\r",
      "Sampling 3 chains, 6 divergences:  43%|████▎     | 512/1200 [00:41<01:41,  6.81draws/s]"
     ]
    },
    {
     "name": "stderr",
     "output_type": "stream",
     "text": [
      "\r",
      "Sampling 3 chains, 6 divergences:  43%|████▎     | 513/1200 [00:41<01:31,  7.48draws/s]"
     ]
    },
    {
     "name": "stderr",
     "output_type": "stream",
     "text": [
      "\r",
      "Sampling 3 chains, 6 divergences:  43%|████▎     | 515/1200 [00:41<01:28,  7.71draws/s]"
     ]
    },
    {
     "name": "stderr",
     "output_type": "stream",
     "text": [
      "\r",
      "Sampling 3 chains, 6 divergences:  43%|████▎     | 516/1200 [00:41<01:25,  8.03draws/s]"
     ]
    },
    {
     "name": "stderr",
     "output_type": "stream",
     "text": [
      "\r",
      "Sampling 3 chains, 6 divergences:  43%|████▎     | 518/1200 [00:41<01:35,  7.16draws/s]"
     ]
    },
    {
     "name": "stderr",
     "output_type": "stream",
     "text": [
      "\r",
      "Sampling 3 chains, 6 divergences:  43%|████▎     | 520/1200 [00:42<01:41,  6.71draws/s]"
     ]
    },
    {
     "name": "stderr",
     "output_type": "stream",
     "text": [
      "\r",
      "Sampling 3 chains, 6 divergences:  44%|████▎     | 522/1200 [00:42<01:44,  6.47draws/s]"
     ]
    },
    {
     "name": "stderr",
     "output_type": "stream",
     "text": [
      "\r",
      "Sampling 3 chains, 6 divergences:  44%|████▎     | 524/1200 [00:42<01:46,  6.33draws/s]"
     ]
    },
    {
     "name": "stderr",
     "output_type": "stream",
     "text": [
      "\r",
      "Sampling 3 chains, 6 divergences:  44%|████▍     | 526/1200 [00:43<01:31,  7.37draws/s]"
     ]
    },
    {
     "name": "stderr",
     "output_type": "stream",
     "text": [
      "\r",
      "Sampling 3 chains, 6 divergences:  44%|████▍     | 527/1200 [00:43<01:45,  6.37draws/s]"
     ]
    },
    {
     "name": "stderr",
     "output_type": "stream",
     "text": [
      "\r",
      "Sampling 3 chains, 6 divergences:  44%|████▍     | 528/1200 [00:43<01:39,  6.74draws/s]"
     ]
    },
    {
     "name": "stderr",
     "output_type": "stream",
     "text": [
      "\r",
      "Sampling 3 chains, 6 divergences:  44%|████▍     | 529/1200 [00:43<01:56,  5.75draws/s]"
     ]
    },
    {
     "name": "stderr",
     "output_type": "stream",
     "text": [
      "\r",
      "Sampling 3 chains, 6 divergences:  44%|████▍     | 530/1200 [00:43<01:44,  6.38draws/s]"
     ]
    },
    {
     "name": "stderr",
     "output_type": "stream",
     "text": [
      "\r",
      "Sampling 3 chains, 6 divergences:  44%|████▍     | 532/1200 [00:44<01:48,  6.16draws/s]"
     ]
    },
    {
     "name": "stderr",
     "output_type": "stream",
     "text": [
      "\r",
      "Sampling 3 chains, 6 divergences:  44%|████▍     | 534/1200 [00:44<01:50,  6.03draws/s]"
     ]
    },
    {
     "name": "stderr",
     "output_type": "stream",
     "text": [
      "\r",
      "Sampling 3 chains, 6 divergences:  45%|████▍     | 536/1200 [00:44<01:52,  5.92draws/s]"
     ]
    },
    {
     "name": "stderr",
     "output_type": "stream",
     "text": [
      "\r",
      "Sampling 3 chains, 6 divergences:  45%|████▍     | 538/1200 [00:45<01:53,  5.85draws/s]"
     ]
    },
    {
     "name": "stderr",
     "output_type": "stream",
     "text": [
      "\r",
      "Sampling 3 chains, 6 divergences:  45%|████▌     | 540/1200 [00:45<01:36,  6.84draws/s]"
     ]
    },
    {
     "name": "stderr",
     "output_type": "stream",
     "text": [
      "\r",
      "Sampling 3 chains, 6 divergences:  45%|████▌     | 542/1200 [00:45<01:25,  7.74draws/s]"
     ]
    },
    {
     "name": "stderr",
     "output_type": "stream",
     "text": [
      "\r",
      "Sampling 3 chains, 6 divergences:  45%|████▌     | 543/1200 [00:45<01:33,  7.05draws/s]"
     ]
    },
    {
     "name": "stderr",
     "output_type": "stream",
     "text": [
      "\r",
      "Sampling 3 chains, 6 divergences:  45%|████▌     | 545/1200 [00:45<01:22,  7.89draws/s]"
     ]
    },
    {
     "name": "stderr",
     "output_type": "stream",
     "text": [
      "\r",
      "Sampling 3 chains, 6 divergences:  46%|████▌     | 546/1200 [00:46<01:30,  7.23draws/s]"
     ]
    },
    {
     "name": "stderr",
     "output_type": "stream",
     "text": [
      "\r",
      "Sampling 3 chains, 6 divergences:  46%|████▌     | 548/1200 [00:46<01:19,  8.21draws/s]"
     ]
    },
    {
     "name": "stderr",
     "output_type": "stream",
     "text": [
      "\r",
      "Sampling 3 chains, 6 divergences:  46%|████▌     | 550/1200 [00:46<01:14,  8.76draws/s]"
     ]
    },
    {
     "name": "stderr",
     "output_type": "stream",
     "text": [
      "\r",
      "Sampling 3 chains, 6 divergences:  46%|████▌     | 551/1200 [00:46<01:20,  8.05draws/s]"
     ]
    },
    {
     "name": "stderr",
     "output_type": "stream",
     "text": [
      "\r",
      "Sampling 3 chains, 6 divergences:  46%|████▌     | 552/1200 [00:46<01:31,  7.05draws/s]"
     ]
    },
    {
     "name": "stderr",
     "output_type": "stream",
     "text": [
      "\r",
      "Sampling 3 chains, 6 divergences:  46%|████▌     | 554/1200 [00:46<01:20,  8.03draws/s]"
     ]
    },
    {
     "name": "stderr",
     "output_type": "stream",
     "text": [
      "\r",
      "Sampling 3 chains, 7 divergences:  46%|████▌     | 554/1200 [00:46<01:20,  8.03draws/s]"
     ]
    },
    {
     "name": "stderr",
     "output_type": "stream",
     "text": [
      "\r",
      "Sampling 3 chains, 7 divergences:  46%|████▋     | 556/1200 [00:47<01:14,  8.60draws/s]"
     ]
    },
    {
     "name": "stderr",
     "output_type": "stream",
     "text": [
      "\r",
      "Sampling 3 chains, 7 divergences:  46%|████▋     | 557/1200 [00:47<01:33,  6.86draws/s]"
     ]
    },
    {
     "name": "stderr",
     "output_type": "stream",
     "text": [
      "\r",
      "Sampling 3 chains, 7 divergences:  46%|████▋     | 558/1200 [00:47<01:29,  7.21draws/s]"
     ]
    },
    {
     "name": "stderr",
     "output_type": "stream",
     "text": [
      "\r",
      "Sampling 3 chains, 7 divergences:  47%|████▋     | 560/1200 [00:47<01:19,  8.10draws/s]"
     ]
    },
    {
     "name": "stderr",
     "output_type": "stream",
     "text": [
      "\r",
      "Sampling 3 chains, 7 divergences:  47%|████▋     | 562/1200 [00:47<01:26,  7.38draws/s]"
     ]
    },
    {
     "name": "stderr",
     "output_type": "stream",
     "text": [
      "\r",
      "Sampling 3 chains, 7 divergences:  47%|████▋     | 564/1200 [00:48<01:17,  8.19draws/s]"
     ]
    },
    {
     "name": "stderr",
     "output_type": "stream",
     "text": [
      "\r",
      "Sampling 3 chains, 7 divergences:  47%|████▋     | 566/1200 [00:48<01:11,  8.85draws/s]"
     ]
    },
    {
     "name": "stderr",
     "output_type": "stream",
     "text": [
      "\r",
      "Sampling 3 chains, 7 divergences:  47%|████▋     | 567/1200 [00:48<01:20,  7.85draws/s]"
     ]
    },
    {
     "name": "stderr",
     "output_type": "stream",
     "text": [
      "\r",
      "Sampling 3 chains, 7 divergences:  47%|████▋     | 569/1200 [00:48<01:11,  8.76draws/s]"
     ]
    },
    {
     "name": "stderr",
     "output_type": "stream",
     "text": [
      "\r",
      "Sampling 3 chains, 7 divergences:  48%|████▊     | 570/1200 [00:48<01:21,  7.74draws/s]"
     ]
    },
    {
     "name": "stderr",
     "output_type": "stream",
     "text": [
      "\r",
      "Sampling 3 chains, 8 divergences:  48%|████▊     | 571/1200 [00:48<01:21,  7.74draws/s]"
     ]
    },
    {
     "name": "stderr",
     "output_type": "stream",
     "text": [
      "\r",
      "Sampling 3 chains, 8 divergences:  48%|████▊     | 573/1200 [00:48<01:09,  9.03draws/s]"
     ]
    },
    {
     "name": "stderr",
     "output_type": "stream",
     "text": [
      "\r",
      "Sampling 3 chains, 8 divergences:  48%|████▊     | 575/1200 [00:49<01:05,  9.51draws/s]"
     ]
    },
    {
     "name": "stderr",
     "output_type": "stream",
     "text": [
      "\r",
      "Sampling 3 chains, 8 divergences:  48%|████▊     | 577/1200 [00:49<01:17,  8.08draws/s]"
     ]
    },
    {
     "name": "stderr",
     "output_type": "stream",
     "text": [
      "\r",
      "Sampling 3 chains, 8 divergences:  48%|████▊     | 579/1200 [00:49<01:09,  8.90draws/s]"
     ]
    },
    {
     "name": "stderr",
     "output_type": "stream",
     "text": [
      "\r",
      "Sampling 3 chains, 8 divergences:  48%|████▊     | 581/1200 [00:49<01:12,  8.60draws/s]"
     ]
    },
    {
     "name": "stderr",
     "output_type": "stream",
     "text": [
      "\r",
      "Sampling 3 chains, 8 divergences:  49%|████▊     | 583/1200 [00:50<01:14,  8.23draws/s]"
     ]
    },
    {
     "name": "stderr",
     "output_type": "stream",
     "text": [
      "\r",
      "Sampling 3 chains, 9 divergences:  49%|████▊     | 583/1200 [00:50<01:14,  8.23draws/s]"
     ]
    },
    {
     "name": "stderr",
     "output_type": "stream",
     "text": [
      "\r",
      "Sampling 3 chains, 9 divergences:  49%|████▉     | 585/1200 [00:50<01:08,  8.93draws/s]"
     ]
    },
    {
     "name": "stderr",
     "output_type": "stream",
     "text": [
      "\r",
      "Sampling 3 chains, 9 divergences:  49%|████▉     | 586/1200 [00:50<01:24,  7.30draws/s]"
     ]
    },
    {
     "name": "stderr",
     "output_type": "stream",
     "text": [
      "\r",
      "Sampling 3 chains, 9 divergences:  49%|████▉     | 587/1200 [00:50<01:27,  6.97draws/s]"
     ]
    },
    {
     "name": "stderr",
     "output_type": "stream",
     "text": [
      "\r",
      "Sampling 3 chains, 9 divergences:  49%|████▉     | 588/1200 [00:50<01:33,  6.53draws/s]"
     ]
    },
    {
     "name": "stderr",
     "output_type": "stream",
     "text": [
      "\r",
      "Sampling 3 chains, 9 divergences:  49%|████▉     | 590/1200 [00:51<01:21,  7.46draws/s]"
     ]
    },
    {
     "name": "stderr",
     "output_type": "stream",
     "text": [
      "\r",
      "Sampling 3 chains, 9 divergences:  49%|████▉     | 591/1200 [00:51<01:29,  6.79draws/s]"
     ]
    },
    {
     "name": "stderr",
     "output_type": "stream",
     "text": [
      "\r",
      "Sampling 3 chains, 9 divergences:  49%|████▉     | 593/1200 [00:51<01:18,  7.74draws/s]"
     ]
    },
    {
     "name": "stderr",
     "output_type": "stream",
     "text": [
      "\r",
      "Sampling 3 chains, 9 divergences:  50%|████▉     | 594/1200 [00:51<01:27,  6.92draws/s]"
     ]
    },
    {
     "name": "stderr",
     "output_type": "stream",
     "text": [
      "\r",
      "Sampling 3 chains, 9 divergences:  50%|████▉     | 595/1200 [00:51<01:35,  6.37draws/s]"
     ]
    },
    {
     "name": "stderr",
     "output_type": "stream",
     "text": [
      "\r",
      "Sampling 3 chains, 9 divergences:  50%|████▉     | 596/1200 [00:51<01:35,  6.35draws/s]"
     ]
    },
    {
     "name": "stderr",
     "output_type": "stream",
     "text": [
      "\r",
      "Sampling 3 chains, 9 divergences:  50%|████▉     | 598/1200 [00:52<01:37,  6.20draws/s]"
     ]
    },
    {
     "name": "stderr",
     "output_type": "stream",
     "text": [
      "\r",
      "Sampling 3 chains, 9 divergences:  50%|█████     | 600/1200 [00:52<01:39,  6.04draws/s]"
     ]
    },
    {
     "name": "stderr",
     "output_type": "stream",
     "text": [
      "\r",
      "Sampling 3 chains, 9 divergences:  50%|█████     | 602/1200 [00:52<01:28,  6.75draws/s]"
     ]
    },
    {
     "name": "stderr",
     "output_type": "stream",
     "text": [
      "\r",
      "Sampling 3 chains, 9 divergences:  50%|█████     | 604/1200 [00:53<01:34,  6.33draws/s]"
     ]
    },
    {
     "name": "stderr",
     "output_type": "stream",
     "text": [
      "\r",
      "Sampling 3 chains, 9 divergences:  50%|█████     | 606/1200 [00:53<01:21,  7.28draws/s]"
     ]
    },
    {
     "name": "stderr",
     "output_type": "stream",
     "text": [
      "\r",
      "Sampling 3 chains, 9 divergences:  51%|█████     | 607/1200 [00:53<01:27,  6.80draws/s]"
     ]
    },
    {
     "name": "stderr",
     "output_type": "stream",
     "text": [
      "\r",
      "Sampling 3 chains, 9 divergences:  51%|█████     | 609/1200 [00:53<01:15,  7.82draws/s]"
     ]
    },
    {
     "name": "stderr",
     "output_type": "stream",
     "text": [
      "\r",
      "Sampling 3 chains, 9 divergences:  51%|█████     | 610/1200 [00:53<01:21,  7.21draws/s]"
     ]
    },
    {
     "name": "stderr",
     "output_type": "stream",
     "text": [
      "\r",
      "Sampling 3 chains, 9 divergences:  51%|█████     | 612/1200 [00:54<01:11,  8.23draws/s]"
     ]
    },
    {
     "name": "stderr",
     "output_type": "stream",
     "text": [
      "\r",
      "Sampling 3 chains, 9 divergences:  51%|█████     | 613/1200 [00:54<01:18,  7.45draws/s]"
     ]
    },
    {
     "name": "stderr",
     "output_type": "stream",
     "text": [
      "\r",
      "Sampling 3 chains, 9 divergences:  51%|█████▏    | 615/1200 [00:54<01:10,  8.32draws/s]"
     ]
    },
    {
     "name": "stderr",
     "output_type": "stream",
     "text": [
      "\r",
      "Sampling 3 chains, 9 divergences:  51%|█████▏    | 616/1200 [00:54<01:15,  7.78draws/s]"
     ]
    },
    {
     "name": "stderr",
     "output_type": "stream",
     "text": [
      "\r",
      "Sampling 3 chains, 9 divergences:  51%|█████▏    | 617/1200 [00:54<01:23,  6.96draws/s]"
     ]
    },
    {
     "name": "stderr",
     "output_type": "stream",
     "text": [
      "\r",
      "Sampling 3 chains, 9 divergences:  52%|█████▏    | 618/1200 [00:54<01:25,  6.80draws/s]"
     ]
    },
    {
     "name": "stderr",
     "output_type": "stream",
     "text": [
      "\r",
      "Sampling 3 chains, 9 divergences:  52%|█████▏    | 619/1200 [00:55<01:32,  6.27draws/s]"
     ]
    },
    {
     "name": "stderr",
     "output_type": "stream",
     "text": [
      "\r",
      "Sampling 3 chains, 9 divergences:  52%|█████▏    | 620/1200 [00:55<01:31,  6.36draws/s]"
     ]
    },
    {
     "name": "stderr",
     "output_type": "stream",
     "text": [
      "\r",
      "Sampling 3 chains, 10 divergences:  52%|█████▏    | 620/1200 [00:55<01:31,  6.36draws/s]"
     ]
    },
    {
     "name": "stderr",
     "output_type": "stream",
     "text": [
      "\r",
      "Sampling 3 chains, 10 divergences:  52%|█████▏    | 621/1200 [00:55<01:28,  6.55draws/s]"
     ]
    },
    {
     "name": "stderr",
     "output_type": "stream",
     "text": [
      "\r",
      "Sampling 3 chains, 10 divergences:  52%|█████▏    | 623/1200 [00:55<01:24,  6.86draws/s]"
     ]
    },
    {
     "name": "stderr",
     "output_type": "stream",
     "text": [
      "\r",
      "Sampling 3 chains, 10 divergences:  52%|█████▏    | 625/1200 [00:55<01:12,  7.89draws/s]"
     ]
    },
    {
     "name": "stderr",
     "output_type": "stream",
     "text": [
      "\r",
      "Sampling 3 chains, 10 divergences:  52%|█████▏    | 626/1200 [00:55<01:20,  7.14draws/s]"
     ]
    },
    {
     "name": "stderr",
     "output_type": "stream",
     "text": [
      "\r",
      "Sampling 3 chains, 10 divergences:  52%|█████▏    | 627/1200 [00:56<01:15,  7.60draws/s]"
     ]
    },
    {
     "name": "stderr",
     "output_type": "stream",
     "text": [
      "\r",
      "Sampling 3 chains, 10 divergences:  52%|█████▏    | 629/1200 [00:56<01:13,  7.78draws/s]"
     ]
    },
    {
     "name": "stderr",
     "output_type": "stream",
     "text": [
      "\r",
      "Sampling 3 chains, 10 divergences:  52%|█████▎    | 630/1200 [00:56<01:09,  8.24draws/s]"
     ]
    },
    {
     "name": "stderr",
     "output_type": "stream",
     "text": [
      "\r",
      "Sampling 3 chains, 10 divergences:  53%|█████▎    | 631/1200 [00:56<01:18,  7.21draws/s]"
     ]
    },
    {
     "name": "stderr",
     "output_type": "stream",
     "text": [
      "\r",
      "Sampling 3 chains, 10 divergences:  53%|█████▎    | 633/1200 [00:56<01:14,  7.57draws/s]"
     ]
    },
    {
     "name": "stderr",
     "output_type": "stream",
     "text": [
      "\r",
      "Sampling 3 chains, 10 divergences:  53%|█████▎    | 634/1200 [00:56<01:10,  7.98draws/s]"
     ]
    },
    {
     "name": "stderr",
     "output_type": "stream",
     "text": [
      "\r",
      "Sampling 3 chains, 11 divergences:  53%|█████▎    | 634/1200 [00:56<01:10,  7.98draws/s]"
     ]
    },
    {
     "name": "stderr",
     "output_type": "stream",
     "text": [
      "\r",
      "Sampling 3 chains, 11 divergences:  53%|█████▎    | 637/1200 [00:57<01:02,  9.08draws/s]"
     ]
    },
    {
     "name": "stderr",
     "output_type": "stream",
     "text": [
      "\r",
      "Sampling 3 chains, 11 divergences:  53%|█████▎    | 638/1200 [00:57<01:07,  8.37draws/s]"
     ]
    },
    {
     "name": "stderr",
     "output_type": "stream",
     "text": [
      "\r",
      "Sampling 3 chains, 11 divergences:  53%|█████▎    | 640/1200 [00:57<01:03,  8.85draws/s]"
     ]
    },
    {
     "name": "stderr",
     "output_type": "stream",
     "text": [
      "\r",
      "Sampling 3 chains, 11 divergences:  53%|█████▎    | 641/1200 [00:57<01:06,  8.39draws/s]"
     ]
    },
    {
     "name": "stderr",
     "output_type": "stream",
     "text": [
      "\r",
      "Sampling 3 chains, 11 divergences:  54%|█████▎    | 642/1200 [00:57<01:21,  6.85draws/s]"
     ]
    },
    {
     "name": "stderr",
     "output_type": "stream",
     "text": [
      "\r",
      "Sampling 3 chains, 11 divergences:  54%|█████▎    | 643/1200 [00:57<01:18,  7.07draws/s]"
     ]
    },
    {
     "name": "stderr",
     "output_type": "stream",
     "text": [
      "\r",
      "Sampling 3 chains, 11 divergences:  54%|█████▍    | 645/1200 [00:58<01:12,  7.70draws/s]"
     ]
    },
    {
     "name": "stderr",
     "output_type": "stream",
     "text": [
      "\r",
      "Sampling 3 chains, 11 divergences:  54%|█████▍    | 646/1200 [00:58<01:12,  7.66draws/s]"
     ]
    },
    {
     "name": "stderr",
     "output_type": "stream",
     "text": [
      "\r",
      "Sampling 3 chains, 11 divergences:  54%|█████▍    | 648/1200 [00:58<01:07,  8.16draws/s]"
     ]
    },
    {
     "name": "stderr",
     "output_type": "stream",
     "text": [
      "\r",
      "Sampling 3 chains, 11 divergences:  54%|█████▍    | 649/1200 [00:58<01:07,  8.11draws/s]"
     ]
    },
    {
     "name": "stderr",
     "output_type": "stream",
     "text": [
      "\r",
      "Sampling 3 chains, 11 divergences:  54%|█████▍    | 651/1200 [00:59<01:18,  6.98draws/s]"
     ]
    },
    {
     "name": "stderr",
     "output_type": "stream",
     "text": [
      "\r",
      "Sampling 3 chains, 11 divergences:  54%|█████▍    | 653/1200 [00:59<01:22,  6.66draws/s]"
     ]
    },
    {
     "name": "stderr",
     "output_type": "stream",
     "text": [
      "\r",
      "Sampling 3 chains, 11 divergences:  55%|█████▍    | 655/1200 [00:59<01:11,  7.60draws/s]"
     ]
    },
    {
     "name": "stderr",
     "output_type": "stream",
     "text": [
      "\r",
      "Sampling 3 chains, 12 divergences:  55%|█████▍    | 655/1200 [00:59<01:11,  7.60draws/s]"
     ]
    },
    {
     "name": "stderr",
     "output_type": "stream",
     "text": [
      "\r",
      "Sampling 3 chains, 12 divergences:  55%|█████▍    | 656/1200 [00:59<01:11,  7.61draws/s]"
     ]
    },
    {
     "name": "stderr",
     "output_type": "stream",
     "text": [
      "\r",
      "Sampling 3 chains, 12 divergences:  55%|█████▍    | 657/1200 [00:59<01:26,  6.25draws/s]"
     ]
    },
    {
     "name": "stderr",
     "output_type": "stream",
     "text": [
      "\r",
      "Sampling 3 chains, 13 divergences:  55%|█████▍    | 657/1200 [00:59<01:26,  6.25draws/s]"
     ]
    },
    {
     "name": "stderr",
     "output_type": "stream",
     "text": [
      "\r",
      "Sampling 3 chains, 13 divergences:  55%|█████▍    | 659/1200 [01:00<01:15,  7.17draws/s]"
     ]
    },
    {
     "name": "stderr",
     "output_type": "stream",
     "text": [
      "\r",
      "Sampling 3 chains, 13 divergences:  55%|█████▌    | 660/1200 [01:00<01:21,  6.62draws/s]"
     ]
    },
    {
     "name": "stderr",
     "output_type": "stream",
     "text": [
      "\r",
      "Sampling 3 chains, 14 divergences:  55%|█████▌    | 661/1200 [01:00<01:21,  6.62draws/s]"
     ]
    },
    {
     "name": "stderr",
     "output_type": "stream",
     "text": [
      "\r",
      "Sampling 3 chains, 14 divergences:  55%|█████▌    | 662/1200 [01:00<01:12,  7.42draws/s]"
     ]
    },
    {
     "name": "stderr",
     "output_type": "stream",
     "text": [
      "\r",
      "Sampling 3 chains, 14 divergences:  55%|█████▌    | 663/1200 [01:00<01:20,  6.66draws/s]"
     ]
    },
    {
     "name": "stderr",
     "output_type": "stream",
     "text": [
      "\r",
      "Sampling 3 chains, 14 divergences:  55%|█████▌    | 664/1200 [01:00<01:21,  6.55draws/s]"
     ]
    },
    {
     "name": "stderr",
     "output_type": "stream",
     "text": [
      "\r",
      "Sampling 3 chains, 14 divergences:  56%|█████▌    | 666/1200 [01:00<01:12,  7.37draws/s]"
     ]
    },
    {
     "name": "stderr",
     "output_type": "stream",
     "text": [
      "\r",
      "Sampling 3 chains, 15 divergences:  56%|█████▌    | 666/1200 [01:00<01:12,  7.37draws/s]"
     ]
    },
    {
     "name": "stderr",
     "output_type": "stream",
     "text": [
      "\r",
      "Sampling 3 chains, 15 divergences:  56%|█████▌    | 668/1200 [01:01<01:18,  6.77draws/s]"
     ]
    },
    {
     "name": "stderr",
     "output_type": "stream",
     "text": [
      "\r",
      "Sampling 3 chains, 15 divergences:  56%|█████▌    | 670/1200 [01:01<01:09,  7.64draws/s]"
     ]
    },
    {
     "name": "stderr",
     "output_type": "stream",
     "text": [
      "\r",
      "Sampling 3 chains, 15 divergences:  56%|█████▌    | 671/1200 [01:01<01:15,  6.96draws/s]"
     ]
    },
    {
     "name": "stderr",
     "output_type": "stream",
     "text": [
      "\r",
      "Sampling 3 chains, 15 divergences:  56%|█████▌    | 673/1200 [01:02<01:20,  6.57draws/s]"
     ]
    },
    {
     "name": "stderr",
     "output_type": "stream",
     "text": [
      "\r",
      "Sampling 3 chains, 15 divergences:  56%|█████▋    | 675/1200 [01:02<01:08,  7.64draws/s]"
     ]
    },
    {
     "name": "stderr",
     "output_type": "stream",
     "text": [
      "\r",
      "Sampling 3 chains, 15 divergences:  56%|█████▋    | 676/1200 [01:02<01:24,  6.21draws/s]"
     ]
    },
    {
     "name": "stderr",
     "output_type": "stream",
     "text": [
      "\r",
      "Sampling 3 chains, 15 divergences:  56%|█████▋    | 678/1200 [01:02<01:19,  6.56draws/s]"
     ]
    },
    {
     "name": "stderr",
     "output_type": "stream",
     "text": [
      "\r",
      "Sampling 3 chains, 15 divergences:  57%|█████▋    | 680/1200 [01:03<01:22,  6.34draws/s]"
     ]
    },
    {
     "name": "stderr",
     "output_type": "stream",
     "text": [
      "\r",
      "Sampling 3 chains, 15 divergences:  57%|█████▋    | 682/1200 [01:03<01:24,  6.14draws/s]"
     ]
    },
    {
     "name": "stderr",
     "output_type": "stream",
     "text": [
      "\r",
      "Sampling 3 chains, 15 divergences:  57%|█████▋    | 684/1200 [01:03<01:24,  6.12draws/s]"
     ]
    },
    {
     "name": "stderr",
     "output_type": "stream",
     "text": [
      "\r",
      "Sampling 3 chains, 15 divergences:  57%|█████▋    | 686/1200 [01:03<01:11,  7.20draws/s]"
     ]
    },
    {
     "name": "stderr",
     "output_type": "stream",
     "text": [
      "\r",
      "Sampling 3 chains, 15 divergences:  57%|█████▋    | 688/1200 [01:04<01:02,  8.15draws/s]"
     ]
    },
    {
     "name": "stderr",
     "output_type": "stream",
     "text": [
      "\r",
      "Sampling 3 chains, 15 divergences:  57%|█████▊    | 690/1200 [01:04<00:56,  8.95draws/s]"
     ]
    },
    {
     "name": "stderr",
     "output_type": "stream",
     "text": [
      "\r",
      "Sampling 3 chains, 15 divergences:  58%|█████▊    | 691/1200 [01:04<01:05,  7.82draws/s]"
     ]
    },
    {
     "name": "stderr",
     "output_type": "stream",
     "text": [
      "\r",
      "Sampling 3 chains, 15 divergences:  58%|█████▊    | 693/1200 [01:04<00:57,  8.79draws/s]"
     ]
    },
    {
     "name": "stderr",
     "output_type": "stream",
     "text": [
      "\r",
      "Sampling 3 chains, 15 divergences:  58%|█████▊    | 694/1200 [01:04<01:05,  7.74draws/s]"
     ]
    },
    {
     "name": "stderr",
     "output_type": "stream",
     "text": [
      "\r",
      "Sampling 3 chains, 15 divergences:  58%|█████▊    | 696/1200 [01:04<00:59,  8.53draws/s]"
     ]
    },
    {
     "name": "stderr",
     "output_type": "stream",
     "text": [
      "\r",
      "Sampling 3 chains, 15 divergences:  58%|█████▊    | 697/1200 [01:05<01:07,  7.41draws/s]"
     ]
    },
    {
     "name": "stderr",
     "output_type": "stream",
     "text": [
      "\r",
      "Sampling 3 chains, 15 divergences:  58%|█████▊    | 699/1200 [01:05<01:00,  8.34draws/s]"
     ]
    },
    {
     "name": "stderr",
     "output_type": "stream",
     "text": [
      "\r",
      "Sampling 3 chains, 15 divergences:  58%|█████▊    | 700/1200 [01:05<01:07,  7.36draws/s]"
     ]
    },
    {
     "name": "stderr",
     "output_type": "stream",
     "text": [
      "\r",
      "Sampling 3 chains, 15 divergences:  58%|█████▊    | 701/1200 [01:05<01:14,  6.73draws/s]"
     ]
    },
    {
     "name": "stderr",
     "output_type": "stream",
     "text": [
      "\r",
      "Sampling 3 chains, 15 divergences:  58%|█████▊    | 702/1200 [01:05<01:14,  6.68draws/s]"
     ]
    },
    {
     "name": "stderr",
     "output_type": "stream",
     "text": [
      "\r",
      "Sampling 3 chains, 15 divergences:  59%|█████▊    | 704/1200 [01:05<01:05,  7.56draws/s]"
     ]
    },
    {
     "name": "stderr",
     "output_type": "stream",
     "text": [
      "\r",
      "Sampling 3 chains, 15 divergences:  59%|█████▉    | 705/1200 [01:06<01:07,  7.34draws/s]"
     ]
    },
    {
     "name": "stderr",
     "output_type": "stream",
     "text": [
      "\r",
      "Sampling 3 chains, 15 divergences:  59%|█████▉    | 707/1200 [01:06<00:59,  8.30draws/s]"
     ]
    },
    {
     "name": "stderr",
     "output_type": "stream",
     "text": [
      "\r",
      "Sampling 3 chains, 15 divergences:  59%|█████▉    | 709/1200 [01:06<00:55,  8.85draws/s]"
     ]
    },
    {
     "name": "stderr",
     "output_type": "stream",
     "text": [
      "\r",
      "Sampling 3 chains, 15 divergences:  59%|█████▉    | 710/1200 [01:06<01:00,  8.04draws/s]"
     ]
    },
    {
     "name": "stderr",
     "output_type": "stream",
     "text": [
      "\r",
      "Sampling 3 chains, 15 divergences:  59%|█████▉    | 712/1200 [01:06<00:57,  8.54draws/s]"
     ]
    },
    {
     "name": "stderr",
     "output_type": "stream",
     "text": [
      "\r",
      "Sampling 3 chains, 15 divergences:  59%|█████▉    | 713/1200 [01:06<01:01,  7.98draws/s]"
     ]
    },
    {
     "name": "stderr",
     "output_type": "stream",
     "text": [
      "\r",
      "Sampling 3 chains, 15 divergences:  60%|█████▉    | 715/1200 [01:07<00:57,  8.47draws/s]"
     ]
    },
    {
     "name": "stderr",
     "output_type": "stream",
     "text": [
      "\r",
      "Sampling 3 chains, 15 divergences:  60%|█████▉    | 716/1200 [01:07<01:00,  8.04draws/s]"
     ]
    },
    {
     "name": "stderr",
     "output_type": "stream",
     "text": [
      "\r",
      "Sampling 3 chains, 15 divergences:  60%|█████▉    | 718/1200 [01:07<01:05,  7.34draws/s]"
     ]
    },
    {
     "name": "stderr",
     "output_type": "stream",
     "text": [
      "\r",
      "Sampling 3 chains, 15 divergences:  60%|██████    | 720/1200 [01:07<01:02,  7.71draws/s]"
     ]
    },
    {
     "name": "stderr",
     "output_type": "stream",
     "text": [
      "\r",
      "Sampling 3 chains, 15 divergences:  60%|██████    | 722/1200 [01:07<00:55,  8.58draws/s]"
     ]
    },
    {
     "name": "stderr",
     "output_type": "stream",
     "text": [
      "\r",
      "Sampling 3 chains, 15 divergences:  60%|██████    | 723/1200 [01:08<01:05,  7.30draws/s]"
     ]
    },
    {
     "name": "stderr",
     "output_type": "stream",
     "text": [
      "\r",
      "Sampling 3 chains, 15 divergences:  60%|██████    | 724/1200 [01:08<01:00,  7.89draws/s]"
     ]
    },
    {
     "name": "stderr",
     "output_type": "stream",
     "text": [
      "\r",
      "Sampling 3 chains, 15 divergences:  60%|██████    | 726/1200 [01:08<00:58,  8.10draws/s]"
     ]
    },
    {
     "name": "stderr",
     "output_type": "stream",
     "text": [
      "\r",
      "Sampling 3 chains, 15 divergences:  61%|██████    | 728/1200 [01:08<00:53,  8.85draws/s]"
     ]
    },
    {
     "name": "stderr",
     "output_type": "stream",
     "text": [
      "\r",
      "Sampling 3 chains, 15 divergences:  61%|██████    | 729/1200 [01:08<01:02,  7.55draws/s]"
     ]
    },
    {
     "name": "stderr",
     "output_type": "stream",
     "text": [
      "\r",
      "Sampling 3 chains, 15 divergences:  61%|██████    | 731/1200 [01:09<01:08,  6.86draws/s]"
     ]
    },
    {
     "name": "stderr",
     "output_type": "stream",
     "text": [
      "\r",
      "Sampling 3 chains, 15 divergences:  61%|██████    | 733/1200 [01:09<00:59,  7.84draws/s]"
     ]
    },
    {
     "name": "stderr",
     "output_type": "stream",
     "text": [
      "\r",
      "Sampling 3 chains, 15 divergences:  61%|██████    | 734/1200 [01:09<01:04,  7.24draws/s]"
     ]
    },
    {
     "name": "stderr",
     "output_type": "stream",
     "text": [
      "\r",
      "Sampling 3 chains, 15 divergences:  61%|██████▏   | 736/1200 [01:09<00:57,  8.11draws/s]"
     ]
    },
    {
     "name": "stderr",
     "output_type": "stream",
     "text": [
      "\r",
      "Sampling 3 chains, 15 divergences:  61%|██████▏   | 737/1200 [01:09<01:04,  7.20draws/s]"
     ]
    },
    {
     "name": "stderr",
     "output_type": "stream",
     "text": [
      "\r",
      "Sampling 3 chains, 15 divergences:  62%|██████▏   | 739/1200 [01:10<00:57,  8.02draws/s]"
     ]
    },
    {
     "name": "stderr",
     "output_type": "stream",
     "text": [
      "\r",
      "Sampling 3 chains, 15 divergences:  62%|██████▏   | 740/1200 [01:10<01:04,  7.16draws/s]"
     ]
    },
    {
     "name": "stderr",
     "output_type": "stream",
     "text": [
      "\r",
      "Sampling 3 chains, 15 divergences:  62%|██████▏   | 742/1200 [01:10<00:56,  8.07draws/s]"
     ]
    },
    {
     "name": "stderr",
     "output_type": "stream",
     "text": [
      "\r",
      "Sampling 3 chains, 15 divergences:  62%|██████▏   | 743/1200 [01:10<01:02,  7.35draws/s]"
     ]
    },
    {
     "name": "stderr",
     "output_type": "stream",
     "text": [
      "\r",
      "Sampling 3 chains, 15 divergences:  62%|██████▏   | 745/1200 [01:10<00:55,  8.24draws/s]"
     ]
    },
    {
     "name": "stderr",
     "output_type": "stream",
     "text": [
      "\r",
      "Sampling 3 chains, 15 divergences:  63%|██████▎   | 751/1200 [01:10<00:40, 10.97draws/s]"
     ]
    },
    {
     "name": "stderr",
     "output_type": "stream",
     "text": [
      "\r",
      "Sampling 3 chains, 15 divergences:  63%|██████▎   | 754/1200 [01:11<00:34, 13.03draws/s]"
     ]
    },
    {
     "name": "stderr",
     "output_type": "stream",
     "text": [
      "\r",
      "Sampling 3 chains, 15 divergences:  63%|██████▎   | 757/1200 [01:11<00:31, 14.12draws/s]"
     ]
    },
    {
     "name": "stderr",
     "output_type": "stream",
     "text": [
      "\r",
      "Sampling 3 chains, 15 divergences:  63%|██████▎   | 760/1200 [01:11<00:29, 14.72draws/s]"
     ]
    },
    {
     "name": "stderr",
     "output_type": "stream",
     "text": [
      "\r",
      "Sampling 3 chains, 15 divergences:  64%|██████▎   | 762/1200 [01:11<00:27, 15.78draws/s]"
     ]
    },
    {
     "name": "stderr",
     "output_type": "stream",
     "text": [
      "\r",
      "Sampling 3 chains, 15 divergences:  64%|██████▎   | 764/1200 [01:11<00:30, 14.15draws/s]"
     ]
    },
    {
     "name": "stderr",
     "output_type": "stream",
     "text": [
      "\r",
      "Sampling 3 chains, 15 divergences:  64%|██████▍   | 767/1200 [01:11<00:27, 16.02draws/s]"
     ]
    },
    {
     "name": "stderr",
     "output_type": "stream",
     "text": [
      "\r",
      "Sampling 3 chains, 15 divergences:  64%|██████▍   | 769/1200 [01:11<00:26, 16.03draws/s]"
     ]
    },
    {
     "name": "stderr",
     "output_type": "stream",
     "text": [
      "\r",
      "Sampling 3 chains, 15 divergences:  64%|██████▍   | 771/1200 [01:12<00:25, 16.98draws/s]"
     ]
    },
    {
     "name": "stderr",
     "output_type": "stream",
     "text": [
      "\r",
      "Sampling 3 chains, 15 divergences:  64%|██████▍   | 773/1200 [01:12<00:25, 17.03draws/s]"
     ]
    },
    {
     "name": "stderr",
     "output_type": "stream",
     "text": [
      "\r",
      "Sampling 3 chains, 15 divergences:  65%|██████▍   | 775/1200 [01:12<00:24, 17.28draws/s]"
     ]
    },
    {
     "name": "stderr",
     "output_type": "stream",
     "text": [
      "\r",
      "Sampling 3 chains, 15 divergences:  65%|██████▍   | 778/1200 [01:12<00:21, 19.56draws/s]"
     ]
    },
    {
     "name": "stderr",
     "output_type": "stream",
     "text": [
      "\r",
      "Sampling 3 chains, 15 divergences:  65%|██████▌   | 781/1200 [01:12<00:23, 18.08draws/s]"
     ]
    },
    {
     "name": "stderr",
     "output_type": "stream",
     "text": [
      "\r",
      "Sampling 3 chains, 15 divergences:  65%|██████▌   | 784/1200 [01:12<00:21, 19.47draws/s]"
     ]
    },
    {
     "name": "stderr",
     "output_type": "stream",
     "text": [
      "\r",
      "Sampling 3 chains, 15 divergences:  66%|██████▌   | 787/1200 [01:12<00:22, 18.53draws/s]"
     ]
    },
    {
     "name": "stderr",
     "output_type": "stream",
     "text": [
      "\r",
      "Sampling 3 chains, 15 divergences:  66%|██████▌   | 790/1200 [01:13<00:21, 18.69draws/s]"
     ]
    },
    {
     "name": "stderr",
     "output_type": "stream",
     "text": [
      "\r",
      "Sampling 3 chains, 15 divergences:  66%|██████▌   | 793/1200 [01:13<00:21, 18.58draws/s]"
     ]
    },
    {
     "name": "stderr",
     "output_type": "stream",
     "text": [
      "\r",
      "Sampling 3 chains, 15 divergences:  66%|██████▋   | 796/1200 [01:13<00:22, 18.18draws/s]"
     ]
    },
    {
     "name": "stderr",
     "output_type": "stream",
     "text": [
      "\r",
      "Sampling 3 chains, 15 divergences:  66%|██████▋   | 798/1200 [01:13<00:24, 16.11draws/s]"
     ]
    },
    {
     "name": "stderr",
     "output_type": "stream",
     "text": [
      "\r",
      "Sampling 3 chains, 15 divergences:  67%|██████▋   | 800/1200 [01:13<00:24, 16.44draws/s]"
     ]
    },
    {
     "name": "stderr",
     "output_type": "stream",
     "text": [
      "\r",
      "Sampling 3 chains, 15 divergences:  67%|██████▋   | 802/1200 [01:13<00:27, 14.69draws/s]"
     ]
    },
    {
     "name": "stderr",
     "output_type": "stream",
     "text": [
      "\r",
      "Sampling 3 chains, 15 divergences:  67%|██████▋   | 805/1200 [01:13<00:24, 16.30draws/s]"
     ]
    },
    {
     "name": "stderr",
     "output_type": "stream",
     "text": [
      "\r",
      "Sampling 3 chains, 15 divergences:  67%|██████▋   | 808/1200 [01:14<00:23, 16.93draws/s]"
     ]
    },
    {
     "name": "stderr",
     "output_type": "stream",
     "text": [
      "\r",
      "Sampling 3 chains, 15 divergences:  68%|██████▊   | 811/1200 [01:14<00:23, 16.87draws/s]"
     ]
    },
    {
     "name": "stderr",
     "output_type": "stream",
     "text": [
      "\r",
      "Sampling 3 chains, 15 divergences:  68%|██████▊   | 814/1200 [01:14<00:22, 16.90draws/s]"
     ]
    },
    {
     "name": "stderr",
     "output_type": "stream",
     "text": [
      "\r",
      "Sampling 3 chains, 15 divergences:  68%|██████▊   | 817/1200 [01:14<00:22, 17.23draws/s]"
     ]
    },
    {
     "name": "stderr",
     "output_type": "stream",
     "text": [
      "\r",
      "Sampling 3 chains, 15 divergences:  68%|██████▊   | 821/1200 [01:14<00:20, 18.69draws/s]"
     ]
    },
    {
     "name": "stderr",
     "output_type": "stream",
     "text": [
      "\r",
      "Sampling 3 chains, 15 divergences:  69%|██████▊   | 824/1200 [01:14<00:18, 20.50draws/s]"
     ]
    },
    {
     "name": "stderr",
     "output_type": "stream",
     "text": [
      "\r",
      "Sampling 3 chains, 15 divergences:  69%|██████▉   | 827/1200 [01:15<00:18, 19.73draws/s]"
     ]
    },
    {
     "name": "stderr",
     "output_type": "stream",
     "text": [
      "\r",
      "Sampling 3 chains, 15 divergences:  69%|██████▉   | 830/1200 [01:15<00:19, 18.92draws/s]"
     ]
    },
    {
     "name": "stderr",
     "output_type": "stream",
     "text": [
      "\r",
      "Sampling 3 chains, 15 divergences:  69%|██████▉   | 832/1200 [01:15<00:20, 18.39draws/s]"
     ]
    },
    {
     "name": "stderr",
     "output_type": "stream",
     "text": [
      "\r",
      "Sampling 3 chains, 15 divergences:  70%|██████▉   | 834/1200 [01:15<00:22, 16.41draws/s]"
     ]
    },
    {
     "name": "stderr",
     "output_type": "stream",
     "text": [
      "\r",
      "Sampling 3 chains, 15 divergences:  70%|██████▉   | 837/1200 [01:15<00:20, 18.10draws/s]"
     ]
    },
    {
     "name": "stderr",
     "output_type": "stream",
     "text": [
      "\r",
      "Sampling 3 chains, 15 divergences:  70%|███████   | 840/1200 [01:15<00:18, 19.23draws/s]"
     ]
    },
    {
     "name": "stderr",
     "output_type": "stream",
     "text": [
      "\r",
      "Sampling 3 chains, 15 divergences:  70%|███████   | 843/1200 [01:15<00:18, 18.87draws/s]"
     ]
    },
    {
     "name": "stderr",
     "output_type": "stream",
     "text": [
      "\r",
      "Sampling 3 chains, 15 divergences:  71%|███████   | 847/1200 [01:16<00:16, 22.01draws/s]"
     ]
    },
    {
     "name": "stderr",
     "output_type": "stream",
     "text": [
      "\r",
      "Sampling 3 chains, 15 divergences:  71%|███████   | 850/1200 [01:16<00:19, 17.68draws/s]"
     ]
    },
    {
     "name": "stderr",
     "output_type": "stream",
     "text": [
      "\r",
      "Sampling 3 chains, 15 divergences:  71%|███████   | 854/1200 [01:16<00:17, 19.64draws/s]"
     ]
    },
    {
     "name": "stderr",
     "output_type": "stream",
     "text": [
      "\r",
      "Sampling 3 chains, 15 divergences:  71%|███████▏  | 857/1200 [01:16<00:17, 19.86draws/s]"
     ]
    },
    {
     "name": "stderr",
     "output_type": "stream",
     "text": [
      "\r",
      "Sampling 3 chains, 15 divergences:  72%|███████▏  | 860/1200 [01:16<00:18, 18.36draws/s]"
     ]
    },
    {
     "name": "stderr",
     "output_type": "stream",
     "text": [
      "\r",
      "Sampling 3 chains, 15 divergences:  72%|███████▏  | 862/1200 [01:16<00:22, 15.20draws/s]"
     ]
    },
    {
     "name": "stderr",
     "output_type": "stream",
     "text": [
      "\r",
      "Sampling 3 chains, 15 divergences:  72%|███████▏  | 866/1200 [01:17<00:18, 18.09draws/s]"
     ]
    },
    {
     "name": "stderr",
     "output_type": "stream",
     "text": [
      "\r",
      "Sampling 3 chains, 15 divergences:  72%|███████▏  | 869/1200 [01:17<00:18, 17.85draws/s]"
     ]
    },
    {
     "name": "stderr",
     "output_type": "stream",
     "text": [
      "\r",
      "Sampling 3 chains, 15 divergences:  73%|███████▎  | 872/1200 [01:17<00:21, 15.33draws/s]"
     ]
    },
    {
     "name": "stderr",
     "output_type": "stream",
     "text": [
      "\r",
      "Sampling 3 chains, 16 divergences:  73%|███████▎  | 874/1200 [01:17<00:21, 15.33draws/s]"
     ]
    },
    {
     "name": "stderr",
     "output_type": "stream",
     "text": [
      "\r",
      "Sampling 3 chains, 16 divergences:  73%|███████▎  | 875/1200 [01:17<00:18, 17.26draws/s]"
     ]
    },
    {
     "name": "stderr",
     "output_type": "stream",
     "text": [
      "\r",
      "Sampling 3 chains, 16 divergences:  73%|███████▎  | 877/1200 [01:17<00:18, 17.85draws/s]"
     ]
    },
    {
     "name": "stderr",
     "output_type": "stream",
     "text": [
      "\r",
      "Sampling 3 chains, 16 divergences:  73%|███████▎  | 879/1200 [01:17<00:20, 15.97draws/s]"
     ]
    },
    {
     "name": "stderr",
     "output_type": "stream",
     "text": [
      "\r",
      "Sampling 3 chains, 16 divergences:  73%|███████▎  | 881/1200 [01:18<00:23, 13.41draws/s]"
     ]
    },
    {
     "name": "stderr",
     "output_type": "stream",
     "text": [
      "\r",
      "Sampling 3 chains, 16 divergences:  74%|███████▎  | 883/1200 [01:18<00:22, 14.40draws/s]"
     ]
    },
    {
     "name": "stderr",
     "output_type": "stream",
     "text": [
      "\r",
      "Sampling 3 chains, 16 divergences:  74%|███████▍  | 885/1200 [01:18<00:23, 13.44draws/s]"
     ]
    },
    {
     "name": "stderr",
     "output_type": "stream",
     "text": [
      "\r",
      "Sampling 3 chains, 16 divergences:  74%|███████▍  | 888/1200 [01:18<00:21, 14.48draws/s]"
     ]
    },
    {
     "name": "stderr",
     "output_type": "stream",
     "text": [
      "\r",
      "Sampling 3 chains, 16 divergences:  74%|███████▍  | 890/1200 [01:18<00:23, 13.46draws/s]"
     ]
    },
    {
     "name": "stderr",
     "output_type": "stream",
     "text": [
      "\r",
      "Sampling 3 chains, 16 divergences:  74%|███████▍  | 893/1200 [01:18<00:21, 14.34draws/s]"
     ]
    },
    {
     "name": "stderr",
     "output_type": "stream",
     "text": [
      "\r",
      "Sampling 3 chains, 16 divergences:  75%|███████▍  | 895/1200 [01:19<00:22, 13.42draws/s]"
     ]
    },
    {
     "name": "stderr",
     "output_type": "stream",
     "text": [
      "\r",
      "Sampling 3 chains, 17 divergences:  75%|███████▍  | 895/1200 [01:19<00:22, 13.42draws/s]"
     ]
    },
    {
     "name": "stderr",
     "output_type": "stream",
     "text": [
      "\r",
      "Sampling 3 chains, 17 divergences:  75%|███████▍  | 898/1200 [01:19<00:20, 14.38draws/s]"
     ]
    },
    {
     "name": "stderr",
     "output_type": "stream",
     "text": [
      "\r",
      "Sampling 3 chains, 17 divergences:  75%|███████▌  | 900/1200 [01:19<00:22, 13.36draws/s]"
     ]
    },
    {
     "name": "stderr",
     "output_type": "stream",
     "text": [
      "\r",
      "Sampling 3 chains, 17 divergences:  75%|███████▌  | 903/1200 [01:19<00:20, 14.36draws/s]"
     ]
    },
    {
     "name": "stderr",
     "output_type": "stream",
     "text": [
      "\r",
      "Sampling 3 chains, 17 divergences:  75%|███████▌  | 905/1200 [01:19<00:21, 13.42draws/s]"
     ]
    },
    {
     "name": "stderr",
     "output_type": "stream",
     "text": [
      "\r",
      "Sampling 3 chains, 17 divergences:  76%|███████▌  | 908/1200 [01:19<00:20, 14.23draws/s]"
     ]
    },
    {
     "name": "stderr",
     "output_type": "stream",
     "text": [
      "\r",
      "Sampling 3 chains, 17 divergences:  76%|███████▌  | 910/1200 [01:20<00:21, 13.25draws/s]"
     ]
    },
    {
     "name": "stderr",
     "output_type": "stream",
     "text": [
      "\r",
      "Sampling 3 chains, 17 divergences:  76%|███████▌  | 913/1200 [01:20<00:20, 13.82draws/s]"
     ]
    },
    {
     "name": "stderr",
     "output_type": "stream",
     "text": [
      "\r",
      "Sampling 3 chains, 17 divergences:  76%|███████▋  | 915/1200 [01:20<00:22, 12.79draws/s]"
     ]
    },
    {
     "name": "stderr",
     "output_type": "stream",
     "text": [
      "\r",
      "Sampling 3 chains, 17 divergences:  76%|███████▋  | 917/1200 [01:20<00:19, 14.24draws/s]"
     ]
    },
    {
     "name": "stderr",
     "output_type": "stream",
     "text": [
      "\r",
      "Sampling 3 chains, 17 divergences:  77%|███████▋  | 920/1200 [01:20<00:18, 15.16draws/s]"
     ]
    },
    {
     "name": "stderr",
     "output_type": "stream",
     "text": [
      "\r",
      "Sampling 3 chains, 17 divergences:  77%|███████▋  | 922/1200 [01:20<00:21, 13.09draws/s]"
     ]
    },
    {
     "name": "stderr",
     "output_type": "stream",
     "text": [
      "\r",
      "Sampling 3 chains, 17 divergences:  77%|███████▋  | 925/1200 [01:21<00:19, 13.92draws/s]"
     ]
    },
    {
     "name": "stderr",
     "output_type": "stream",
     "text": [
      "\r",
      "Sampling 3 chains, 17 divergences:  77%|███████▋  | 927/1200 [01:21<00:20, 13.04draws/s]"
     ]
    },
    {
     "name": "stderr",
     "output_type": "stream",
     "text": [
      "\r",
      "Sampling 3 chains, 18 divergences:  77%|███████▋  | 929/1200 [01:21<00:20, 13.04draws/s]"
     ]
    },
    {
     "name": "stderr",
     "output_type": "stream",
     "text": [
      "\r",
      "Sampling 3 chains, 18 divergences:  78%|███████▊  | 930/1200 [01:21<00:19, 13.51draws/s]"
     ]
    },
    {
     "name": "stderr",
     "output_type": "stream",
     "text": [
      "\r",
      "Sampling 3 chains, 18 divergences:  78%|███████▊  | 932/1200 [01:21<00:19, 13.82draws/s]"
     ]
    },
    {
     "name": "stderr",
     "output_type": "stream",
     "text": [
      "\r",
      "Sampling 3 chains, 18 divergences:  78%|███████▊  | 934/1200 [01:21<00:21, 12.37draws/s]"
     ]
    },
    {
     "name": "stderr",
     "output_type": "stream",
     "text": [
      "\r",
      "Sampling 3 chains, 18 divergences:  78%|███████▊  | 937/1200 [01:22<00:19, 13.69draws/s]"
     ]
    },
    {
     "name": "stderr",
     "output_type": "stream",
     "text": [
      "\r",
      "Sampling 3 chains, 18 divergences:  78%|███████▊  | 939/1200 [01:22<00:19, 13.30draws/s]"
     ]
    },
    {
     "name": "stderr",
     "output_type": "stream",
     "text": [
      "\r",
      "Sampling 3 chains, 18 divergences:  78%|███████▊  | 942/1200 [01:22<00:17, 14.52draws/s]"
     ]
    },
    {
     "name": "stderr",
     "output_type": "stream",
     "text": [
      "\r",
      "Sampling 3 chains, 18 divergences:  79%|███████▊  | 944/1200 [01:22<00:18, 13.96draws/s]"
     ]
    },
    {
     "name": "stderr",
     "output_type": "stream",
     "text": [
      "\r",
      "Sampling 3 chains, 18 divergences:  79%|███████▉  | 947/1200 [01:22<00:16, 14.97draws/s]"
     ]
    },
    {
     "name": "stderr",
     "output_type": "stream",
     "text": [
      "\r",
      "Sampling 3 chains, 18 divergences:  79%|███████▉  | 949/1200 [01:22<00:18, 13.72draws/s]"
     ]
    },
    {
     "name": "stderr",
     "output_type": "stream",
     "text": [
      "\r",
      "Sampling 3 chains, 18 divergences:  79%|███████▉  | 951/1200 [01:23<00:18, 13.18draws/s]"
     ]
    },
    {
     "name": "stderr",
     "output_type": "stream",
     "text": [
      "\r",
      "Sampling 3 chains, 18 divergences:  80%|███████▉  | 954/1200 [01:23<00:17, 14.38draws/s]"
     ]
    },
    {
     "name": "stderr",
     "output_type": "stream",
     "text": [
      "\r",
      "Sampling 3 chains, 18 divergences:  80%|███████▉  | 956/1200 [01:23<00:18, 12.99draws/s]"
     ]
    },
    {
     "name": "stderr",
     "output_type": "stream",
     "text": [
      "\r",
      "Sampling 3 chains, 18 divergences:  80%|███████▉  | 958/1200 [01:23<00:17, 14.15draws/s]"
     ]
    },
    {
     "name": "stderr",
     "output_type": "stream",
     "text": [
      "\r",
      "Sampling 3 chains, 18 divergences:  80%|████████  | 960/1200 [01:23<00:17, 13.45draws/s]"
     ]
    },
    {
     "name": "stderr",
     "output_type": "stream",
     "text": [
      "\r",
      "Sampling 3 chains, 18 divergences:  80%|████████  | 963/1200 [01:23<00:16, 14.60draws/s]"
     ]
    },
    {
     "name": "stderr",
     "output_type": "stream",
     "text": [
      "\r",
      "Sampling 3 chains, 18 divergences:  80%|████████  | 965/1200 [01:23<00:17, 13.62draws/s]"
     ]
    },
    {
     "name": "stderr",
     "output_type": "stream",
     "text": [
      "\r",
      "Sampling 3 chains, 18 divergences:  81%|████████  | 967/1200 [01:24<00:17, 13.18draws/s]"
     ]
    },
    {
     "name": "stderr",
     "output_type": "stream",
     "text": [
      "\r",
      "Sampling 3 chains, 18 divergences:  81%|████████  | 969/1200 [01:24<00:18, 12.79draws/s]"
     ]
    },
    {
     "name": "stderr",
     "output_type": "stream",
     "text": [
      "\r",
      "Sampling 3 chains, 18 divergences:  81%|████████  | 971/1200 [01:24<00:18, 12.54draws/s]"
     ]
    },
    {
     "name": "stderr",
     "output_type": "stream",
     "text": [
      "\r",
      "Sampling 3 chains, 18 divergences:  81%|████████  | 973/1200 [01:24<00:18, 12.31draws/s]"
     ]
    },
    {
     "name": "stderr",
     "output_type": "stream",
     "text": [
      "\r",
      "Sampling 3 chains, 18 divergences:  81%|████████▏ | 976/1200 [01:24<00:16, 13.31draws/s]"
     ]
    },
    {
     "name": "stderr",
     "output_type": "stream",
     "text": [
      "\r",
      "Sampling 3 chains, 18 divergences:  82%|████████▏ | 978/1200 [01:25<00:17, 12.61draws/s]"
     ]
    },
    {
     "name": "stderr",
     "output_type": "stream",
     "text": [
      "\r",
      "Sampling 3 chains, 18 divergences:  82%|████████▏ | 980/1200 [01:25<00:17, 12.40draws/s]"
     ]
    },
    {
     "name": "stderr",
     "output_type": "stream",
     "text": [
      "\r",
      "Sampling 3 chains, 18 divergences:  82%|████████▏ | 982/1200 [01:25<00:18, 11.58draws/s]"
     ]
    },
    {
     "name": "stderr",
     "output_type": "stream",
     "text": [
      "\r",
      "Sampling 3 chains, 18 divergences:  82%|████████▏ | 985/1200 [01:25<00:16, 12.82draws/s]"
     ]
    },
    {
     "name": "stderr",
     "output_type": "stream",
     "text": [
      "\r",
      "Sampling 3 chains, 18 divergences:  82%|████████▏ | 987/1200 [01:25<00:17, 12.30draws/s]"
     ]
    },
    {
     "name": "stderr",
     "output_type": "stream",
     "text": [
      "\r",
      "Sampling 3 chains, 18 divergences:  82%|████████▏ | 989/1200 [01:25<00:17, 11.97draws/s]"
     ]
    },
    {
     "name": "stderr",
     "output_type": "stream",
     "text": [
      "\r",
      "Sampling 3 chains, 18 divergences:  83%|████████▎ | 991/1200 [01:26<00:23,  9.06draws/s]"
     ]
    },
    {
     "name": "stderr",
     "output_type": "stream",
     "text": [
      "\r",
      "Sampling 3 chains, 19 divergences:  83%|████████▎ | 992/1200 [01:26<00:22,  9.06draws/s]"
     ]
    },
    {
     "name": "stderr",
     "output_type": "stream",
     "text": [
      "\r",
      "Sampling 3 chains, 19 divergences:  83%|████████▎ | 993/1200 [01:26<00:23,  8.70draws/s]"
     ]
    },
    {
     "name": "stderr",
     "output_type": "stream",
     "text": [
      "\r",
      "Sampling 3 chains, 19 divergences:  83%|████████▎ | 995/1200 [01:26<00:29,  6.93draws/s]"
     ]
    },
    {
     "name": "stderr",
     "output_type": "stream",
     "text": [
      "\r",
      "Sampling 3 chains, 20 divergences:  83%|████████▎ | 995/1200 [01:27<00:29,  6.93draws/s]"
     ]
    },
    {
     "name": "stderr",
     "output_type": "stream",
     "text": [
      "\r",
      "Sampling 3 chains, 20 divergences:  83%|████████▎ | 996/1200 [01:27<00:34,  5.90draws/s]"
     ]
    },
    {
     "name": "stderr",
     "output_type": "stream",
     "text": [
      "\r",
      "Sampling 3 chains, 20 divergences:  83%|████████▎ | 997/1200 [01:27<00:34,  5.96draws/s]"
     ]
    },
    {
     "name": "stderr",
     "output_type": "stream",
     "text": [
      "\r",
      "Sampling 3 chains, 21 divergences:  83%|████████▎ | 997/1200 [01:27<00:34,  5.96draws/s]"
     ]
    },
    {
     "name": "stderr",
     "output_type": "stream",
     "text": [
      "\r",
      "Sampling 3 chains, 21 divergences:  83%|████████▎ | 998/1200 [01:27<00:31,  6.36draws/s]"
     ]
    },
    {
     "name": "stderr",
     "output_type": "stream",
     "text": [
      "\r",
      "Sampling 3 chains, 22 divergences:  83%|████████▎ | 998/1200 [01:27<00:31,  6.36draws/s]"
     ]
    },
    {
     "name": "stderr",
     "output_type": "stream",
     "text": [
      "\r",
      "Sampling 3 chains, 22 divergences:  83%|████████▎ | 1000/1200 [01:27<00:32,  6.17draws/s]"
     ]
    },
    {
     "name": "stderr",
     "output_type": "stream",
     "text": [
      "\r",
      "Sampling 3 chains, 23 divergences:  83%|████████▎ | 1000/1200 [01:28<00:32,  6.17draws/s]"
     ]
    },
    {
     "name": "stderr",
     "output_type": "stream",
     "text": [
      "\r",
      "Sampling 3 chains, 23 divergences:  83%|████████▎ | 1001/1200 [01:28<00:39,  5.06draws/s]"
     ]
    },
    {
     "name": "stderr",
     "output_type": "stream",
     "text": [
      "\r",
      "Sampling 3 chains, 23 divergences:  84%|████████▎ | 1003/1200 [01:28<00:39,  5.01draws/s]"
     ]
    },
    {
     "name": "stderr",
     "output_type": "stream",
     "text": [
      "\r",
      "Sampling 3 chains, 23 divergences:  84%|████████▎ | 1004/1200 [01:28<00:46,  4.23draws/s]"
     ]
    },
    {
     "name": "stderr",
     "output_type": "stream",
     "text": [
      "\r",
      "Sampling 3 chains, 23 divergences:  84%|████████▍ | 1005/1200 [01:29<00:45,  4.24draws/s]"
     ]
    },
    {
     "name": "stderr",
     "output_type": "stream",
     "text": [
      "\r",
      "Sampling 3 chains, 23 divergences:  84%|████████▍ | 1006/1200 [01:29<00:49,  3.90draws/s]"
     ]
    },
    {
     "name": "stderr",
     "output_type": "stream",
     "text": [
      "\r",
      "Sampling 3 chains, 23 divergences:  84%|████████▍ | 1007/1200 [01:29<00:44,  4.35draws/s]"
     ]
    },
    {
     "name": "stderr",
     "output_type": "stream",
     "text": [
      "\r",
      "Sampling 3 chains, 23 divergences:  84%|████████▍ | 1008/1200 [01:29<00:49,  3.89draws/s]"
     ]
    },
    {
     "name": "stderr",
     "output_type": "stream",
     "text": [
      "\r",
      "Sampling 3 chains, 23 divergences:  84%|████████▍ | 1010/1200 [01:30<00:46,  4.11draws/s]"
     ]
    },
    {
     "name": "stderr",
     "output_type": "stream",
     "text": [
      "\r",
      "Sampling 3 chains, 23 divergences:  84%|████████▍ | 1011/1200 [01:30<00:50,  3.72draws/s]"
     ]
    },
    {
     "name": "stderr",
     "output_type": "stream",
     "text": [
      "\r",
      "Sampling 3 chains, 23 divergences:  84%|████████▍ | 1013/1200 [01:30<00:41,  4.48draws/s]"
     ]
    },
    {
     "name": "stderr",
     "output_type": "stream",
     "text": [
      "\r",
      "Sampling 3 chains, 24 divergences:  84%|████████▍ | 1013/1200 [01:30<00:41,  4.48draws/s]"
     ]
    },
    {
     "name": "stderr",
     "output_type": "stream",
     "text": [
      "\r",
      "Sampling 3 chains, 24 divergences:  84%|████████▍ | 1014/1200 [01:30<00:34,  5.32draws/s]"
     ]
    },
    {
     "name": "stderr",
     "output_type": "stream",
     "text": [
      "\r",
      "Sampling 3 chains, 24 divergences:  85%|████████▍ | 1015/1200 [01:31<00:33,  5.56draws/s]"
     ]
    },
    {
     "name": "stderr",
     "output_type": "stream",
     "text": [
      "\r",
      "Sampling 3 chains, 24 divergences:  85%|████████▍ | 1017/1200 [01:31<00:31,  5.76draws/s]"
     ]
    },
    {
     "name": "stderr",
     "output_type": "stream",
     "text": [
      "\r",
      "Sampling 3 chains, 24 divergences:  85%|████████▍ | 1018/1200 [01:31<00:39,  4.57draws/s]"
     ]
    },
    {
     "name": "stderr",
     "output_type": "stream",
     "text": [
      "\r",
      "Sampling 3 chains, 24 divergences:  85%|████████▍ | 1019/1200 [01:31<00:33,  5.40draws/s]"
     ]
    },
    {
     "name": "stderr",
     "output_type": "stream",
     "text": [
      "\r",
      "Sampling 3 chains, 24 divergences:  85%|████████▌ | 1021/1200 [01:32<00:30,  5.93draws/s]"
     ]
    },
    {
     "name": "stderr",
     "output_type": "stream",
     "text": [
      "\r",
      "Sampling 3 chains, 25 divergences:  85%|████████▌ | 1021/1200 [01:32<00:30,  5.93draws/s]"
     ]
    },
    {
     "name": "stderr",
     "output_type": "stream",
     "text": [
      "\r",
      "Sampling 3 chains, 26 divergences:  85%|████████▌ | 1022/1200 [01:32<00:30,  5.93draws/s]"
     ]
    },
    {
     "name": "stderr",
     "output_type": "stream",
     "text": [
      "\r",
      "Sampling 3 chains, 26 divergences:  85%|████████▌ | 1023/1200 [01:32<00:24,  7.25draws/s]"
     ]
    },
    {
     "name": "stderr",
     "output_type": "stream",
     "text": [
      "\r",
      "Sampling 3 chains, 27 divergences:  85%|████████▌ | 1024/1200 [01:32<00:24,  7.25draws/s]"
     ]
    },
    {
     "name": "stderr",
     "output_type": "stream",
     "text": [
      "\r",
      "Sampling 3 chains, 27 divergences:  86%|████████▌ | 1026/1200 [01:32<00:19,  8.71draws/s]"
     ]
    },
    {
     "name": "stderr",
     "output_type": "stream",
     "text": [
      "\r",
      "Sampling 3 chains, 28 divergences:  86%|████████▌ | 1026/1200 [01:32<00:19,  8.71draws/s]"
     ]
    },
    {
     "name": "stderr",
     "output_type": "stream",
     "text": [
      "\r",
      "Sampling 3 chains, 29 divergences:  86%|████████▌ | 1027/1200 [01:32<00:19,  8.71draws/s]"
     ]
    },
    {
     "name": "stderr",
     "output_type": "stream",
     "text": [
      "\r",
      "Sampling 3 chains, 30 divergences:  86%|████████▌ | 1028/1200 [01:32<00:19,  8.71draws/s]"
     ]
    },
    {
     "name": "stderr",
     "output_type": "stream",
     "text": [
      "\r",
      "Sampling 3 chains, 30 divergences:  86%|████████▌ | 1029/1200 [01:32<00:15, 11.05draws/s]"
     ]
    },
    {
     "name": "stderr",
     "output_type": "stream",
     "text": [
      "\r",
      "Sampling 3 chains, 31 divergences:  86%|████████▌ | 1029/1200 [01:32<00:15, 11.05draws/s]"
     ]
    },
    {
     "name": "stderr",
     "output_type": "stream",
     "text": [
      "\r",
      "Sampling 3 chains, 31 divergences:  86%|████████▌ | 1031/1200 [01:32<00:15, 10.79draws/s]"
     ]
    },
    {
     "name": "stderr",
     "output_type": "stream",
     "text": [
      "\r",
      "Sampling 3 chains, 32 divergences:  86%|████████▌ | 1031/1200 [01:32<00:15, 10.79draws/s]"
     ]
    },
    {
     "name": "stderr",
     "output_type": "stream",
     "text": [
      "\r",
      "Sampling 3 chains, 32 divergences:  86%|████████▌ | 1033/1200 [01:32<00:13, 12.07draws/s]"
     ]
    },
    {
     "name": "stderr",
     "output_type": "stream",
     "text": [
      "\r",
      "Sampling 3 chains, 32 divergences:  86%|████████▋ | 1035/1200 [01:33<00:19,  8.32draws/s]"
     ]
    },
    {
     "name": "stderr",
     "output_type": "stream",
     "text": [
      "\r",
      "Sampling 3 chains, 33 divergences:  86%|████████▋ | 1035/1200 [01:33<00:19,  8.32draws/s]"
     ]
    },
    {
     "name": "stderr",
     "output_type": "stream",
     "text": [
      "\r",
      "Sampling 3 chains, 34 divergences:  86%|████████▋ | 1036/1200 [01:33<00:19,  8.32draws/s]"
     ]
    },
    {
     "name": "stderr",
     "output_type": "stream",
     "text": [
      "\r",
      "Sampling 3 chains, 35 divergences:  86%|████████▋ | 1037/1200 [01:33<00:19,  8.32draws/s]"
     ]
    },
    {
     "name": "stderr",
     "output_type": "stream",
     "text": [
      "\r",
      "Sampling 3 chains, 36 divergences:  86%|████████▋ | 1038/1200 [01:33<00:19,  8.32draws/s]"
     ]
    },
    {
     "name": "stderr",
     "output_type": "stream",
     "text": [
      "\r",
      "Sampling 3 chains, 37 divergences:  87%|████████▋ | 1039/1200 [01:33<00:19,  8.32draws/s]"
     ]
    },
    {
     "name": "stderr",
     "output_type": "stream",
     "text": [
      "\r",
      "Sampling 3 chains, 37 divergences:  87%|████████▋ | 1040/1200 [01:33<00:15, 10.06draws/s]"
     ]
    },
    {
     "name": "stderr",
     "output_type": "stream",
     "text": [
      "\r",
      "Sampling 3 chains, 37 divergences:  87%|████████▋ | 1042/1200 [01:33<00:14, 10.57draws/s]"
     ]
    },
    {
     "name": "stderr",
     "output_type": "stream",
     "text": [
      "\r",
      "Sampling 3 chains, 37 divergences:  87%|████████▋ | 1044/1200 [01:34<00:21,  7.15draws/s]"
     ]
    },
    {
     "name": "stderr",
     "output_type": "stream",
     "text": [
      "\r",
      "Sampling 3 chains, 37 divergences:  87%|████████▋ | 1046/1200 [01:34<00:18,  8.21draws/s]"
     ]
    },
    {
     "name": "stderr",
     "output_type": "stream",
     "text": [
      "\r",
      "Sampling 3 chains, 37 divergences:  87%|████████▋ | 1048/1200 [01:34<00:16,  9.16draws/s]"
     ]
    },
    {
     "name": "stderr",
     "output_type": "stream",
     "text": [
      "\r",
      "Sampling 3 chains, 38 divergences:  87%|████████▋ | 1049/1200 [01:34<00:16,  9.16draws/s]"
     ]
    },
    {
     "name": "stderr",
     "output_type": "stream",
     "text": [
      "\r",
      "Sampling 3 chains, 38 divergences:  88%|████████▊ | 1050/1200 [01:34<00:16,  9.27draws/s]"
     ]
    },
    {
     "name": "stderr",
     "output_type": "stream",
     "text": [
      "\r",
      "Sampling 3 chains, 38 divergences:  88%|████████▊ | 1052/1200 [01:34<00:16,  8.96draws/s]"
     ]
    },
    {
     "name": "stderr",
     "output_type": "stream",
     "text": [
      "\r",
      "Sampling 3 chains, 39 divergences:  88%|████████▊ | 1052/1200 [01:35<00:16,  8.96draws/s]"
     ]
    },
    {
     "name": "stderr",
     "output_type": "stream",
     "text": [
      "\r",
      "Sampling 3 chains, 39 divergences:  88%|████████▊ | 1054/1200 [01:35<00:14,  9.74draws/s]"
     ]
    },
    {
     "name": "stderr",
     "output_type": "stream",
     "text": [
      "\r",
      "Sampling 3 chains, 39 divergences:  88%|████████▊ | 1056/1200 [01:35<00:19,  7.37draws/s]"
     ]
    },
    {
     "name": "stderr",
     "output_type": "stream",
     "text": [
      "\r",
      "Sampling 3 chains, 39 divergences:  88%|████████▊ | 1057/1200 [01:35<00:21,  6.73draws/s]"
     ]
    },
    {
     "name": "stderr",
     "output_type": "stream",
     "text": [
      "\r",
      "Sampling 3 chains, 40 divergences:  88%|████████▊ | 1057/1200 [01:35<00:21,  6.73draws/s]"
     ]
    },
    {
     "name": "stderr",
     "output_type": "stream",
     "text": [
      "\r",
      "Sampling 3 chains, 40 divergences:  88%|████████▊ | 1059/1200 [01:35<00:17,  8.17draws/s]"
     ]
    },
    {
     "name": "stderr",
     "output_type": "stream",
     "text": [
      "\r",
      "Sampling 3 chains, 40 divergences:  88%|████████▊ | 1061/1200 [01:36<00:17,  8.07draws/s]"
     ]
    },
    {
     "name": "stderr",
     "output_type": "stream",
     "text": [
      "\r",
      "Sampling 3 chains, 41 divergences:  88%|████████▊ | 1061/1200 [01:36<00:17,  8.07draws/s]"
     ]
    },
    {
     "name": "stderr",
     "output_type": "stream",
     "text": [
      "\r",
      "Sampling 3 chains, 41 divergences:  89%|████████▊ | 1063/1200 [01:36<00:14,  9.54draws/s]"
     ]
    },
    {
     "name": "stderr",
     "output_type": "stream",
     "text": [
      "\r",
      "Sampling 3 chains, 41 divergences:  89%|████████▉ | 1065/1200 [01:36<00:15,  8.94draws/s]"
     ]
    },
    {
     "name": "stderr",
     "output_type": "stream",
     "text": [
      "\r",
      "Sampling 3 chains, 41 divergences:  89%|████████▉ | 1067/1200 [01:36<00:15,  8.57draws/s]"
     ]
    },
    {
     "name": "stderr",
     "output_type": "stream",
     "text": [
      "\r",
      "Sampling 3 chains, 41 divergences:  89%|████████▉ | 1068/1200 [01:37<00:24,  5.50draws/s]"
     ]
    },
    {
     "name": "stderr",
     "output_type": "stream",
     "text": [
      "\r",
      "Sampling 3 chains, 41 divergences:  89%|████████▉ | 1070/1200 [01:37<00:19,  6.54draws/s]"
     ]
    },
    {
     "name": "stderr",
     "output_type": "stream",
     "text": [
      "\r",
      "Sampling 3 chains, 41 divergences:  89%|████████▉ | 1072/1200 [01:37<00:18,  6.97draws/s]"
     ]
    },
    {
     "name": "stderr",
     "output_type": "stream",
     "text": [
      "\r",
      "Sampling 3 chains, 41 divergences:  89%|████████▉ | 1073/1200 [01:37<00:19,  6.46draws/s]"
     ]
    },
    {
     "name": "stderr",
     "output_type": "stream",
     "text": [
      "\r",
      "Sampling 3 chains, 41 divergences:  90%|████████▉ | 1075/1200 [01:37<00:16,  7.51draws/s]"
     ]
    },
    {
     "name": "stderr",
     "output_type": "stream",
     "text": [
      "\r",
      "Sampling 3 chains, 41 divergences:  90%|████████▉ | 1077/1200 [01:37<00:14,  8.55draws/s]"
     ]
    },
    {
     "name": "stderr",
     "output_type": "stream",
     "text": [
      "\r",
      "Sampling 3 chains, 41 divergences:  90%|████████▉ | 1079/1200 [01:38<00:13,  9.29draws/s]"
     ]
    },
    {
     "name": "stderr",
     "output_type": "stream",
     "text": [
      "\r",
      "Sampling 3 chains, 41 divergences:  90%|█████████ | 1081/1200 [01:38<00:11, 10.10draws/s]"
     ]
    },
    {
     "name": "stderr",
     "output_type": "stream",
     "text": [
      "\r",
      "Sampling 3 chains, 41 divergences:  90%|█████████ | 1083/1200 [01:38<00:10, 10.84draws/s]"
     ]
    },
    {
     "name": "stderr",
     "output_type": "stream",
     "text": [
      "\r",
      "Sampling 3 chains, 41 divergences:  90%|█████████ | 1085/1200 [01:38<00:10, 11.50draws/s]"
     ]
    },
    {
     "name": "stderr",
     "output_type": "stream",
     "text": [
      "\r",
      "Sampling 3 chains, 41 divergences:  91%|█████████ | 1087/1200 [01:38<00:09, 11.75draws/s]"
     ]
    },
    {
     "name": "stderr",
     "output_type": "stream",
     "text": [
      "\r",
      "Sampling 3 chains, 41 divergences:  91%|█████████ | 1089/1200 [01:38<00:09, 12.08draws/s]"
     ]
    },
    {
     "name": "stderr",
     "output_type": "stream",
     "text": [
      "\r",
      "Sampling 3 chains, 41 divergences:  91%|█████████ | 1091/1200 [01:39<00:09, 12.07draws/s]"
     ]
    },
    {
     "name": "stderr",
     "output_type": "stream",
     "text": [
      "\r",
      "Sampling 3 chains, 41 divergences:  91%|█████████ | 1093/1200 [01:39<00:08, 12.03draws/s]"
     ]
    },
    {
     "name": "stderr",
     "output_type": "stream",
     "text": [
      "\r",
      "Sampling 3 chains, 41 divergences:  91%|█████████▏| 1095/1200 [01:39<00:08, 12.08draws/s]"
     ]
    },
    {
     "name": "stderr",
     "output_type": "stream",
     "text": [
      "\r",
      "Sampling 3 chains, 41 divergences:  91%|█████████▏| 1097/1200 [01:39<00:08, 12.10draws/s]"
     ]
    },
    {
     "name": "stderr",
     "output_type": "stream",
     "text": [
      "\r",
      "Sampling 3 chains, 41 divergences:  92%|█████████▏| 1099/1200 [01:39<00:08, 12.34draws/s]"
     ]
    },
    {
     "name": "stderr",
     "output_type": "stream",
     "text": [
      "\r",
      "Sampling 3 chains, 41 divergences:  92%|█████████▏| 1101/1200 [01:39<00:07, 12.59draws/s]"
     ]
    },
    {
     "name": "stderr",
     "output_type": "stream",
     "text": [
      "\r",
      "Sampling 3 chains, 41 divergences:  92%|█████████▏| 1103/1200 [01:40<00:07, 12.29draws/s]"
     ]
    },
    {
     "name": "stderr",
     "output_type": "stream",
     "text": [
      "\r",
      "Sampling 3 chains, 42 divergences:  92%|█████████▏| 1103/1200 [01:40<00:07, 12.29draws/s]"
     ]
    },
    {
     "name": "stderr",
     "output_type": "stream",
     "text": [
      "\r",
      "Sampling 3 chains, 42 divergences:  92%|█████████▏| 1105/1200 [01:40<00:07, 13.07draws/s]"
     ]
    },
    {
     "name": "stderr",
     "output_type": "stream",
     "text": [
      "\r",
      "Sampling 3 chains, 42 divergences:  92%|█████████▏| 1107/1200 [01:40<00:07, 12.94draws/s]"
     ]
    },
    {
     "name": "stderr",
     "output_type": "stream",
     "text": [
      "\r",
      "Sampling 3 chains, 42 divergences:  92%|█████████▏| 1109/1200 [01:40<00:07, 12.71draws/s]"
     ]
    },
    {
     "name": "stderr",
     "output_type": "stream",
     "text": [
      "\r",
      "Sampling 3 chains, 42 divergences:  93%|█████████▎| 1111/1200 [01:40<00:07, 12.34draws/s]"
     ]
    },
    {
     "name": "stderr",
     "output_type": "stream",
     "text": [
      "\r",
      "Sampling 3 chains, 42 divergences:  93%|█████████▎| 1113/1200 [01:40<00:06, 12.45draws/s]"
     ]
    },
    {
     "name": "stderr",
     "output_type": "stream",
     "text": [
      "\r",
      "Sampling 3 chains, 42 divergences:  93%|█████████▎| 1115/1200 [01:41<00:06, 12.56draws/s]"
     ]
    },
    {
     "name": "stderr",
     "output_type": "stream",
     "text": [
      "\r",
      "Sampling 3 chains, 42 divergences:  93%|█████████▎| 1117/1200 [01:41<00:06, 12.45draws/s]"
     ]
    },
    {
     "name": "stderr",
     "output_type": "stream",
     "text": [
      "\r",
      "Sampling 3 chains, 42 divergences:  93%|█████████▎| 1119/1200 [01:41<00:06, 12.37draws/s]"
     ]
    },
    {
     "name": "stderr",
     "output_type": "stream",
     "text": [
      "\r",
      "Sampling 3 chains, 42 divergences:  93%|█████████▎| 1121/1200 [01:41<00:07, 10.88draws/s]"
     ]
    },
    {
     "name": "stderr",
     "output_type": "stream",
     "text": [
      "\r",
      "Sampling 3 chains, 42 divergences:  94%|█████████▎| 1123/1200 [01:41<00:07,  9.71draws/s]"
     ]
    },
    {
     "name": "stderr",
     "output_type": "stream",
     "text": [
      "\r",
      "Sampling 3 chains, 42 divergences:  94%|█████████▍| 1125/1200 [01:41<00:07, 10.45draws/s]"
     ]
    },
    {
     "name": "stderr",
     "output_type": "stream",
     "text": [
      "\r",
      "Sampling 3 chains, 42 divergences:  94%|█████████▍| 1127/1200 [01:42<00:06, 11.06draws/s]"
     ]
    },
    {
     "name": "stderr",
     "output_type": "stream",
     "text": [
      "\r",
      "Sampling 3 chains, 42 divergences:  94%|█████████▍| 1129/1200 [01:42<00:11,  6.27draws/s]"
     ]
    },
    {
     "name": "stderr",
     "output_type": "stream",
     "text": [
      "\r",
      "Sampling 3 chains, 42 divergences:  94%|█████████▍| 1130/1200 [01:42<00:10,  6.39draws/s]"
     ]
    },
    {
     "name": "stderr",
     "output_type": "stream",
     "text": [
      "\r",
      "Sampling 3 chains, 42 divergences:  94%|█████████▍| 1132/1200 [01:43<00:09,  7.54draws/s]"
     ]
    },
    {
     "name": "stderr",
     "output_type": "stream",
     "text": [
      "\r",
      "Sampling 3 chains, 42 divergences:  94%|█████████▍| 1133/1200 [01:43<00:12,  5.41draws/s]"
     ]
    },
    {
     "name": "stderr",
     "output_type": "stream",
     "text": [
      "\r",
      "Sampling 3 chains, 42 divergences:  94%|█████████▍| 1134/1200 [01:43<00:11,  5.63draws/s]"
     ]
    },
    {
     "name": "stderr",
     "output_type": "stream",
     "text": [
      "\r",
      "Sampling 3 chains, 42 divergences:  95%|█████████▍| 1135/1200 [01:43<00:14,  4.60draws/s]"
     ]
    },
    {
     "name": "stderr",
     "output_type": "stream",
     "text": [
      "\r",
      "Sampling 3 chains, 42 divergences:  95%|█████████▍| 1137/1200 [01:44<00:11,  5.66draws/s]"
     ]
    },
    {
     "name": "stderr",
     "output_type": "stream",
     "text": [
      "\r",
      "Sampling 3 chains, 42 divergences:  95%|█████████▍| 1138/1200 [01:44<00:11,  5.21draws/s]"
     ]
    },
    {
     "name": "stderr",
     "output_type": "stream",
     "text": [
      "\r",
      "Sampling 3 chains, 42 divergences:  95%|█████████▍| 1139/1200 [01:44<00:11,  5.46draws/s]"
     ]
    },
    {
     "name": "stderr",
     "output_type": "stream",
     "text": [
      "\r",
      "Sampling 3 chains, 42 divergences:  95%|█████████▌| 1140/1200 [01:44<00:10,  5.67draws/s]"
     ]
    },
    {
     "name": "stderr",
     "output_type": "stream",
     "text": [
      "\r",
      "Sampling 3 chains, 42 divergences:  95%|█████████▌| 1142/1200 [01:44<00:08,  6.78draws/s]"
     ]
    },
    {
     "name": "stderr",
     "output_type": "stream",
     "text": [
      "\r",
      "Sampling 3 chains, 42 divergences:  95%|█████████▌| 1144/1200 [01:44<00:07,  7.86draws/s]"
     ]
    },
    {
     "name": "stderr",
     "output_type": "stream",
     "text": [
      "\r",
      "Sampling 3 chains, 42 divergences:  96%|█████████▌| 1146/1200 [01:45<00:07,  6.85draws/s]"
     ]
    },
    {
     "name": "stderr",
     "output_type": "stream",
     "text": [
      "\r",
      "Sampling 3 chains, 42 divergences:  96%|█████████▌| 1148/1200 [01:45<00:07,  7.22draws/s]"
     ]
    },
    {
     "name": "stderr",
     "output_type": "stream",
     "text": [
      "\r",
      "Sampling 3 chains, 42 divergences:  96%|█████████▌| 1150/1200 [01:45<00:07,  6.40draws/s]"
     ]
    },
    {
     "name": "stderr",
     "output_type": "stream",
     "text": [
      "\r",
      "Sampling 3 chains, 42 divergences:  96%|█████████▌| 1151/1200 [01:46<00:09,  4.94draws/s]"
     ]
    },
    {
     "name": "stderr",
     "output_type": "stream",
     "text": [
      "\r",
      "Sampling 3 chains, 42 divergences:  96%|█████████▌| 1153/1200 [01:46<00:08,  5.28draws/s]"
     ]
    },
    {
     "name": "stderr",
     "output_type": "stream",
     "text": [
      "\r",
      "Sampling 3 chains, 42 divergences:  96%|█████████▌| 1154/1200 [01:46<00:09,  4.85draws/s]"
     ]
    },
    {
     "name": "stderr",
     "output_type": "stream",
     "text": [
      "\r",
      "Sampling 3 chains, 42 divergences:  96%|█████████▋| 1155/1200 [01:47<00:10,  4.22draws/s]"
     ]
    },
    {
     "name": "stderr",
     "output_type": "stream",
     "text": [
      "\r",
      "Sampling 3 chains, 42 divergences:  96%|█████████▋| 1156/1200 [01:47<00:09,  4.70draws/s]"
     ]
    },
    {
     "name": "stderr",
     "output_type": "stream",
     "text": [
      "\r",
      "Sampling 3 chains, 42 divergences:  96%|█████████▋| 1157/1200 [01:47<00:09,  4.46draws/s]"
     ]
    },
    {
     "name": "stderr",
     "output_type": "stream",
     "text": [
      "\r",
      "Sampling 3 chains, 42 divergences:  96%|█████████▋| 1158/1200 [01:47<00:10,  3.98draws/s]"
     ]
    },
    {
     "name": "stderr",
     "output_type": "stream",
     "text": [
      "\r",
      "Sampling 3 chains, 42 divergences:  97%|█████████▋| 1159/1200 [01:48<00:11,  3.66draws/s]"
     ]
    },
    {
     "name": "stderr",
     "output_type": "stream",
     "text": [
      "\r",
      "Sampling 3 chains, 42 divergences:  97%|█████████▋| 1161/1200 [01:48<00:08,  4.65draws/s]"
     ]
    },
    {
     "name": "stderr",
     "output_type": "stream",
     "text": [
      "\r",
      "Sampling 3 chains, 42 divergences:  97%|█████████▋| 1162/1200 [01:48<00:08,  4.55draws/s]"
     ]
    },
    {
     "name": "stderr",
     "output_type": "stream",
     "text": [
      "\r",
      "Sampling 3 chains, 42 divergences:  97%|█████████▋| 1164/1200 [01:48<00:06,  5.68draws/s]"
     ]
    },
    {
     "name": "stderr",
     "output_type": "stream",
     "text": [
      "\r",
      "Sampling 3 chains, 42 divergences:  97%|█████████▋| 1165/1200 [01:48<00:07,  4.65draws/s]"
     ]
    },
    {
     "name": "stderr",
     "output_type": "stream",
     "text": [
      "\r",
      "Sampling 3 chains, 42 divergences:  97%|█████████▋| 1166/1200 [01:49<00:08,  4.06draws/s]"
     ]
    },
    {
     "name": "stderr",
     "output_type": "stream",
     "text": [
      "\r",
      "Sampling 3 chains, 42 divergences:  97%|█████████▋| 1167/1200 [01:49<00:08,  3.75draws/s]"
     ]
    },
    {
     "name": "stderr",
     "output_type": "stream",
     "text": [
      "\r",
      "Sampling 3 chains, 42 divergences:  97%|█████████▋| 1168/1200 [01:49<00:09,  3.50draws/s]"
     ]
    },
    {
     "name": "stderr",
     "output_type": "stream",
     "text": [
      "\r",
      "Sampling 3 chains, 42 divergences:  97%|█████████▋| 1169/1200 [01:50<00:09,  3.41draws/s]"
     ]
    },
    {
     "name": "stderr",
     "output_type": "stream",
     "text": [
      "\r",
      "Sampling 3 chains, 42 divergences:  98%|█████████▊| 1170/1200 [01:50<00:09,  3.23draws/s]"
     ]
    },
    {
     "name": "stderr",
     "output_type": "stream",
     "text": [
      "\r",
      "Sampling 3 chains, 42 divergences:  98%|█████████▊| 1172/1200 [01:50<00:07,  3.74draws/s]"
     ]
    },
    {
     "name": "stderr",
     "output_type": "stream",
     "text": [
      "\r",
      "Sampling 3 chains, 42 divergences:  98%|█████████▊| 1173/1200 [01:51<00:07,  3.52draws/s]"
     ]
    },
    {
     "name": "stderr",
     "output_type": "stream",
     "text": [
      "\r",
      "Sampling 3 chains, 42 divergences:  98%|█████████▊| 1175/1200 [01:51<00:06,  4.03draws/s]"
     ]
    },
    {
     "name": "stderr",
     "output_type": "stream",
     "text": [
      "\r",
      "Sampling 3 chains, 42 divergences:  98%|█████████▊| 1176/1200 [01:51<00:06,  3.73draws/s]"
     ]
    },
    {
     "name": "stderr",
     "output_type": "stream",
     "text": [
      "\r",
      "Sampling 3 chains, 42 divergences:  98%|█████████▊| 1177/1200 [01:52<00:06,  3.56draws/s]"
     ]
    },
    {
     "name": "stderr",
     "output_type": "stream",
     "text": [
      "\r",
      "Sampling 3 chains, 42 divergences:  98%|█████████▊| 1178/1200 [01:52<00:06,  3.32draws/s]"
     ]
    },
    {
     "name": "stderr",
     "output_type": "stream",
     "text": [
      "\r",
      "Sampling 3 chains, 42 divergences:  98%|█████████▊| 1179/1200 [01:52<00:06,  3.49draws/s]"
     ]
    },
    {
     "name": "stderr",
     "output_type": "stream",
     "text": [
      "\r",
      "Sampling 3 chains, 42 divergences:  98%|█████████▊| 1180/1200 [01:53<00:06,  3.32draws/s]"
     ]
    },
    {
     "name": "stderr",
     "output_type": "stream",
     "text": [
      "\r",
      "Sampling 3 chains, 42 divergences:  98%|█████████▊| 1181/1200 [01:53<00:05,  3.23draws/s]"
     ]
    },
    {
     "name": "stderr",
     "output_type": "stream",
     "text": [
      "\r",
      "Sampling 3 chains, 42 divergences:  99%|█████████▊| 1183/1200 [01:53<00:04,  3.65draws/s]"
     ]
    },
    {
     "name": "stderr",
     "output_type": "stream",
     "text": [
      "\r",
      "Sampling 3 chains, 42 divergences:  99%|█████████▊| 1184/1200 [01:54<00:04,  3.79draws/s]"
     ]
    },
    {
     "name": "stderr",
     "output_type": "stream",
     "text": [
      "\r",
      "Sampling 3 chains, 42 divergences:  99%|█████████▉| 1185/1200 [01:54<00:03,  4.36draws/s]"
     ]
    },
    {
     "name": "stderr",
     "output_type": "stream",
     "text": [
      "\r",
      "Sampling 3 chains, 42 divergences:  99%|█████████▉| 1186/1200 [01:54<00:02,  4.83draws/s]"
     ]
    },
    {
     "name": "stderr",
     "output_type": "stream",
     "text": [
      "\r",
      "Sampling 3 chains, 42 divergences:  99%|█████████▉| 1187/1200 [01:54<00:03,  4.25draws/s]"
     ]
    },
    {
     "name": "stderr",
     "output_type": "stream",
     "text": [
      "\r",
      "Sampling 3 chains, 42 divergences:  99%|█████████▉| 1188/1200 [01:54<00:02,  4.78draws/s]"
     ]
    },
    {
     "name": "stderr",
     "output_type": "stream",
     "text": [
      "\r",
      "Sampling 3 chains, 42 divergences:  99%|█████████▉| 1189/1200 [01:55<00:02,  4.56draws/s]"
     ]
    },
    {
     "name": "stderr",
     "output_type": "stream",
     "text": [
      "\r",
      "Sampling 3 chains, 42 divergences:  99%|█████████▉| 1190/1200 [01:55<00:02,  4.94draws/s]"
     ]
    },
    {
     "name": "stderr",
     "output_type": "stream",
     "text": [
      "\r",
      "Sampling 3 chains, 42 divergences:  99%|█████████▉| 1191/1200 [01:55<00:02,  4.12draws/s]"
     ]
    },
    {
     "name": "stderr",
     "output_type": "stream",
     "text": [
      "\r",
      "Sampling 3 chains, 42 divergences:  99%|█████████▉| 1192/1200 [01:55<00:02,  3.73draws/s]"
     ]
    },
    {
     "name": "stderr",
     "output_type": "stream",
     "text": [
      "\r",
      "Sampling 3 chains, 42 divergences:  99%|█████████▉| 1193/1200 [01:56<00:02,  3.48draws/s]"
     ]
    },
    {
     "name": "stderr",
     "output_type": "stream",
     "text": [
      "\r",
      "Sampling 3 chains, 42 divergences: 100%|█████████▉| 1194/1200 [01:56<00:01,  3.37draws/s]"
     ]
    },
    {
     "name": "stderr",
     "output_type": "stream",
     "text": [
      "\r",
      "Sampling 3 chains, 42 divergences: 100%|█████████▉| 1195/1200 [01:56<00:01,  3.90draws/s]"
     ]
    },
    {
     "name": "stderr",
     "output_type": "stream",
     "text": [
      "\r",
      "Sampling 3 chains, 42 divergences: 100%|█████████▉| 1196/1200 [01:57<00:01,  3.89draws/s]"
     ]
    },
    {
     "name": "stderr",
     "output_type": "stream",
     "text": [
      "\r",
      "Sampling 3 chains, 42 divergences: 100%|█████████▉| 1197/1200 [01:57<00:00,  3.54draws/s]"
     ]
    },
    {
     "name": "stderr",
     "output_type": "stream",
     "text": [
      "\r",
      "Sampling 3 chains, 42 divergences: 100%|█████████▉| 1198/1200 [01:57<00:00,  3.36draws/s]"
     ]
    },
    {
     "name": "stderr",
     "output_type": "stream",
     "text": [
      "\r",
      "Sampling 3 chains, 42 divergences: 100%|█████████▉| 1199/1200 [01:58<00:00,  3.25draws/s]"
     ]
    },
    {
     "name": "stderr",
     "output_type": "stream",
     "text": [
      "\r",
      "Sampling 3 chains, 42 divergences: 100%|██████████| 1200/1200 [01:58<00:00,  3.19draws/s]"
     ]
    },
    {
     "name": "stderr",
     "output_type": "stream",
     "text": [
      "\r",
      "Sampling 3 chains, 42 divergences: 100%|██████████| 1200/1200 [01:58<00:00, 10.14draws/s]"
     ]
    },
    {
     "name": "stderr",
     "output_type": "stream",
     "text": [
      "\n"
     ]
    },
    {
     "name": "stderr",
     "output_type": "stream",
     "text": [
      "There were 13 divergences after tuning. Increase `target_accept` or reparameterize.\n"
     ]
    },
    {
     "name": "stderr",
     "output_type": "stream",
     "text": [
      "The acceptance probability does not match the target. It is 0.9413857012182624, but should be close to 0.8. Try to increase the number of tuning steps.\n"
     ]
    },
    {
     "name": "stderr",
     "output_type": "stream",
     "text": [
      "The chain reached the maximum tree depth. Increase max_treedepth, increase target_accept or reparameterize.\n"
     ]
    },
    {
     "name": "stderr",
     "output_type": "stream",
     "text": [
      "There were 3 divergences after tuning. Increase `target_accept` or reparameterize.\n"
     ]
    },
    {
     "name": "stderr",
     "output_type": "stream",
     "text": [
      "The acceptance probability does not match the target. It is 0.9630927225656634, but should be close to 0.8. Try to increase the number of tuning steps.\n"
     ]
    },
    {
     "name": "stderr",
     "output_type": "stream",
     "text": [
      "The chain reached the maximum tree depth. Increase max_treedepth, increase target_accept or reparameterize.\n"
     ]
    },
    {
     "name": "stderr",
     "output_type": "stream",
     "text": [
      "There were 25 divergences after tuning. Increase `target_accept` or reparameterize.\n"
     ]
    },
    {
     "name": "stderr",
     "output_type": "stream",
     "text": [
      "The chain reached the maximum tree depth. Increase max_treedepth, increase target_accept or reparameterize.\n"
     ]
    },
    {
     "name": "stderr",
     "output_type": "stream",
     "text": [
      "The rhat statistic is larger than 1.4 for some parameters. The sampler did not converge.\n"
     ]
    },
    {
     "name": "stderr",
     "output_type": "stream",
     "text": [
      "The estimated number of effective samples is smaller than 200 for some parameters.\n"
     ]
    }
   ],
   "source": [
    "#hide\n",
    "\n",
    "# Initialize the model:\n",
    "mod = initialize_model(df)\n",
    "\n",
    "# Run MCMC sampler1\n",
    "with mod:\n",
    "    trace = pm.sample(300, tune=100,\n",
    "                      chains=3, cores=2)"
   ]
  },
  {
   "cell_type": "code",
   "execution_count": 9,
   "metadata": {
    "colab": {
     "base_uri": "https://localhost:8080/",
     "height": 572
    },
    "colab_type": "code",
    "id": "avV7l1JWTtAp",
    "outputId": "786c8ebb-d672-4ef1-d16b-b6ffbe8d168f",
    "papermill": {
     "duration": 2.273227,
     "end_time": "2020-03-14T23:08:37.040190",
     "exception": false,
     "start_time": "2020-03-14T23:08:34.766963",
     "status": "completed"
    },
    "tags": []
   },
   "outputs": [
    {
     "name": "stdout",
     "output_type": "stream",
     "text": [
      "COVID-19 Global Mortality Rate Estimation:\n",
      "Posterior mean: 0.99%\n",
      "Posterior median: 0.79%\n",
      "95% posterior interval: (0.26%, 2.94%)\n",
      "\n",
      "Posterior probability density for COVID-19 mortality rate, controlling for country factors:\n"
     ]
    },
    {
     "data": {
      "image/png": "[encoded data removed]",
      "text/plain": [
       "<Figure size 1296x576 with 1 Axes>"
      ]
     },
     "metadata": {
      "needs_background": "light"
     },
     "output_type": "display_data"
    }
   ],
   "source": [
    "#collapse-hide\n",
    "\n",
    "n_samp = len(trace['mu_0'])\n",
    "mu0_summary = pm.summary(trace).loc['mu_0']\n",
    "print(\"COVID-19 Global Mortality Rate Estimation:\")\n",
    "print(\"Posterior mean: %0.2f%%\" % (100*trace['mu_0'].mean()))\n",
    "print(\"Posterior median: %0.2f%%\" % (100*np.median(trace['mu_0'])))\n",
    "lower = np.sort(trace['mu_0'])[int(n_samp*0.025)]\n",
    "upper = np.sort(trace['mu_0'])[int(n_samp*0.975)]\n",
    "print(\"95%% posterior interval: (%0.2f%%, %0.2f%%)\" % (100*lower, 100*upper))\n",
    "print(\"\")\n",
    "\n",
    "# Posterior plot for mu0\n",
    "print('Posterior probability density for COVID-19 mortality rate, controlling for country factors:')\n",
    "ax = pm.plot_posterior(trace, var_names=['mu_0'], figsize=(18, 8), textsize=18,\n",
    "                       credible_interval=0.95, bw=3.0, lw=3, kind='kde')"
   ]
  },
  {
   "cell_type": "markdown",
   "metadata": {
    "colab_type": "text",
    "id": "8kGfpMrGU1ML",
    "papermill": {
     "duration": 0.180542,
     "end_time": "2020-03-14T23:08:37.406394",
     "exception": false,
     "start_time": "2020-03-14T23:08:37.225852",
     "status": "completed"
    },
    "tags": []
   },
   "source": [
    "## Magnitude and Significance of Factors \n",
    "\n",
    "For bias in reported COVID-19 mortality rate"
   ]
  },
  {
   "cell_type": "code",
   "execution_count": 10,
   "metadata": {
    "colab": {},
    "colab_type": "code",
    "id": "HUgv4QaNVOMt",
    "papermill": {
     "duration": 2.097115,
     "end_time": "2020-03-14T23:08:39.685307",
     "exception": false,
     "start_time": "2020-03-14T23:08:37.588192",
     "status": "completed"
    },
    "tags": []
   },
   "outputs": [
    {
     "data": {
      "image/png": "[encoded data removed]",
      "text/plain": [
       "<Figure size 1008x504 with 1 Axes>"
      ]
     },
     "metadata": {
      "needs_background": "light"
     },
     "output_type": "display_data"
    }
   ],
   "source": [
    "#collapse-hide\n",
    "\n",
    "# Posterior summary for the beta parameters:\n",
    "beta_summary = pm.summary(trace).head(7)\n",
    "beta_summary.index = ['days_since_first_case', 'cpi', 'healthcare_oop', 'hospital_beds', 'hci', 'percent_over65', 'percent_rural']\n",
    "beta_summary.reset_index(drop=False, inplace=True)\n",
    "\n",
    "err_vals = ((beta_summary['hpd_3%'] - beta_summary['mean']).values,\n",
    "            (beta_summary['hpd_97%'] - beta_summary['mean']).values)\n",
    "ax = beta_summary.plot(x='index', y='mean', kind='bar', figsize=(14, 7),\n",
    "                 title='Posterior Distribution of Beta Parameters',\n",
    "                 yerr=err_vals, color='lightgrey',\n",
    "                 legend=False, grid=True,\n",
    "                 capsize=5)\n",
    "beta_summary.plot(x='index', y='mean', color='k', marker='o', linestyle='None',\n",
    "                  ax=ax, grid=True, legend=False, xlim=plt.gca().get_xlim())\n",
    "\n",
    "plt.savefig('../images/corvid-mortality.png')"
   ]
  },
  {
   "cell_type": "markdown",
   "metadata": {
    "papermill": {
     "duration": 0.179192,
     "end_time": "2020-03-14T23:08:40.065123",
     "exception": false,
     "start_time": "2020-03-14T23:08:39.885931",
     "status": "completed"
    },
    "tags": []
   },
   "source": [
    "# About This Analysis\n",
    "\n",
    "This analysis was done by [Joseph Richards](https://twitter.com/joeyrichar)\n",
    "\n",
    "In this project[^3], we attempt to estimate the true mortality rate[^1] for COVID-19 while controlling for country-level covariates[^2][^4] such as:\n",
    "* age of outbreak in the country\n",
    "* transparency of the country's government\n",
    "* access to healthcare\n",
    "* demographics such as age of population and rural vs. urban\n",
    "\n",
    "## Interpretation of Country-Level Parameters \n",
    "\n",
    "1. days_since_first_case - positive (very statistically significant).  As time since outbreak increases, expected mortality rate **increases**, as expected.\n",
    "2. cpi - negative (statistically significant).  As government transparency increases, expected mortality rate **decreases**.  This may mean that less transparent governments under-report cases, hence inflating the mortality rate.\n",
    "3. healthcare avg. out-of-pocket spending - no significant trend.\n",
    "4. hospital beds per capita - no significant trend.\n",
    "5. Human Capital Index - no significant trend (slightly negative = mortality rates decrease with increased mobilization of the country)\n",
    "6. percent over 65 - positive (statistically significant).  As population age increases, the mortality rate also **increases**, as expected.\n",
    "7. percent rural - no significant trend.\n",
    "\n",
    "\n",
    "[^1]: As of March 10, the **overall reported mortality rate is 3.5%**.  However, this figure does not account for **systematic biases in case reporting and testing**.  The observed mortality of COVID-19 has varied widely from country to country (as of early March 2020).  For instance, as of March 10, mortality rates have ranged from < 0.1% in places like Germany (1100+ cases) to upwards of 5% in Italy (9000+ cases) and 3.9% in China (80k+ cases).\n",
    "\n",
    "[^2]: The point of our modelling work here is to **try to understand and correct for the country-to-country differences that may cause the observed discrepancies in COVID-19 country-wide mortality rates**.  That way we can \"undo\" those biases and try to **pin down an overall *real* mortality rate**.\n",
    "\n",
    "[^3]: Full details about the model are available at:  https://github.com/jwrichar/COVID19-mortality\n",
    "\n",
    "[^4]: The affects of these parameters are subject to change as more data are collected.\n",
    "            "
   ]
  },
  {
   "cell_type": "code",
   "execution_count": null,
   "metadata": {
    "papermill": {
     "duration": 0.180837,
     "end_time": "2020-03-14T23:08:40.422082",
     "exception": false,
     "start_time": "2020-03-14T23:08:40.241245",
     "status": "completed"
    },
    "tags": []
   },
   "outputs": [],
   "source": []
  }
 ],
 "metadata": {
  "colab": {
   "collapsed_sections": [],
   "name": "2020-03-13-Mortality-Rate.ipynb",
   "provenance": []
  },
  "kernelspec": {
   "display_name": "Python 3",
   "language": "python",
   "name": "python3"
  },
  "language_info": {
   "codemirror_mode": {
    "name": "ipython",
    "version": 3
   },
   "file_extension": ".py",
   "mimetype": "text/x-python",
   "name": "python",
   "nbconvert_exporter": "python",
   "pygments_lexer": "ipython3",
   "version": "3.6.10"
  },
  "papermill": {
   "duration": 289.868513,
   "end_time": "2020-03-14T23:08:40.612070",
   "environment_variables": {},
   "exception": null,
   "input_path": "2020-03-13-Mortality_Rate.ipynb",
   "output_path": "2020-03-13-Mortality_Rate.ipynb",
   "parameters": {},
   "start_time": "2020-03-14T23:03:50.743557",
   "version": "2.0.0"
  }
 },
 "nbformat": 4,
 "nbformat_minor": 1
}