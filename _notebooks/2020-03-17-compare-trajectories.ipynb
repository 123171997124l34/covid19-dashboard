{
 "cells": [
  {
   "cell_type": "markdown",
   "metadata": {},
   "source": [
    "# Compare Country Trajectories\n",
    "> Comparing how countries trajectories are similar to Italy, South Korea and Japan\n",
    "\n",
    "- author: Pratap Vardhan\n",
    "- hide: true\n",
    "- categories: [growth, compare, interactive]\n",
    "- image: images/covid-compare-country-trajectories.png\n",
    "- permalink: /compare-trajectories/"
   ]
  },
  {
   "cell_type": "code",
   "execution_count": 1,
   "metadata": {},
   "outputs": [],
   "source": [
    "#hide\n",
    "import pandas as pd\n",
    "import altair as alt"
   ]
  },
  {
   "cell_type": "code",
   "execution_count": 2,
   "metadata": {},
   "outputs": [
    {
     "data": {
      "text/html": [
       "\n",
       "<div id=\"altair-viz-256f4b6ef0a041f4add7b18fccb46e4c\"></div>\n",
       "<script type=\"text/javascript\">\n",
       "  (function(spec, embedOpt){\n",
       "    const outputDiv = document.getElementById(\"altair-viz-256f4b6ef0a041f4add7b18fccb46e4c\");\n",
       "    const paths = {\n",
       "      \"vega\": \"https://cdn.jsdelivr.net/npm//vega@5?noext\",\n",
       "      \"vega-lib\": \"https://cdn.jsdelivr.net/npm//vega-lib?noext\",\n",
       "      \"vega-lite\": \"https://cdn.jsdelivr.net/npm//vega-lite@4.0.2?noext\",\n",
       "      \"vega-embed\": \"https://cdn.jsdelivr.net/npm//vega-embed@6?noext\",\n",
       "    };\n",
       "\n",
       "    function loadScript(lib) {\n",
       "      return new Promise(function(resolve, reject) {\n",
       "        var s = document.createElement('script');\n",
       "        s.src = paths[lib];\n",
       "        s.async = true;\n",
       "        s.onload = () => resolve(paths[lib]);\n",
       "        s.onerror = () => reject(`Error loading script: ${paths[lib]}`);\n",
       "        document.getElementsByTagName(\"head\")[0].appendChild(s);\n",
       "      });\n",
       "    }\n",
       "\n",
       "    function showError(err) {\n",
       "      outputDiv.innerHTML = `<div class=\"error\" style=\"color:red;\">${err}</div>`;\n",
       "      throw err;\n",
       "    }\n",
       "\n",
       "    function displayChart(vegaEmbed) {\n",
       "      vegaEmbed(outputDiv, spec, embedOpt)\n",
       "        .catch(err => showError(`Javascript Error: ${err.message}<br>This usually means there's a typo in your chart specification. See the javascript console for the full traceback.`));\n",
       "    }\n",
       "\n",
       "    if(typeof define === \"function\" && define.amd) {\n",
       "      requirejs.config({paths});\n",
       "      require([\"vega-embed\"], displayChart, err => showError(`Error loading script: ${err.message}`));\n",
       "    } else if (typeof vegaEmbed === \"function\") {\n",
       "      displayChart(vegaEmbed);\n",
       "    } else {\n",
       "      loadScript(\"vega\")\n",
       "        .then(() => loadScript(\"vega-lite\"))\n",
       "        .then(() => loadScript(\"vega-embed\"))\n",
       "        .catch(showError)\n",
       "        .then(() => displayChart(vegaEmbed));\n",
       "    }\n",
       "  })({\"config\": {\"view\": {\"continuousWidth\": 400, \"continuousHeight\": 300}}, \"data\": {\"name\": \"data-c2a3e89ba9d5d1687d5e8c28d630a033\"}, \"mark\": \"bar\", \"encoding\": {\"x\": {\"type\": \"nominal\", \"field\": \"a\"}, \"y\": {\"type\": \"quantitative\", \"field\": \"b\"}}, \"$schema\": \"https://vega.github.io/schema/vega-lite/v4.0.2.json\", \"datasets\": {\"data-c2a3e89ba9d5d1687d5e8c28d630a033\": [{\"a\": \"A\", \"b\": 28}, {\"a\": \"B\", \"b\": 55}, {\"a\": \"C\", \"b\": 43}, {\"a\": \"D\", \"b\": 91}, {\"a\": \"E\", \"b\": 81}, {\"a\": \"F\", \"b\": 53}, {\"a\": \"G\", \"b\": 19}, {\"a\": \"H\", \"b\": 87}, {\"a\": \"I\", \"b\": 52}]}}, {\"mode\": \"vega-lite\"});\n",
       "</script>"
      ],
      "text/plain": [
       "alt.Chart(...)"
      ]
     },
     "execution_count": 2,
     "metadata": {},
     "output_type": "execute_result"
    }
   ],
   "source": [
    "#hide_input\n",
    "source = pd.DataFrame({\n",
    "    'a': ['A', 'B', 'C', 'D', 'E', 'F', 'G', 'H', 'I'],\n",
    "    'b': [28, 55, 43, 91, 81, 53, 19, 87, 52]\n",
    "})\n",
    "\n",
    "alt.Chart(source).mark_bar().encode(\n",
    "    x='a',\n",
    "    y='b'\n",
    ")"
   ]
  },
  {
   "cell_type": "code",
   "execution_count": 3,
   "metadata": {},
   "outputs": [],
   "source": [
    "#hide\n",
    "url = ('https://raw.githubusercontent.com/CSSEGISandData/COVID-19/master/csse_covid_19_data/'\n",
    "       'csse_covid_19_time_series/time_series_19-covid-Confirmed.csv')\n",
    "df = pd.read_csv(url)\n",
    "# rename countries\n",
    "df['Country/Region'] = df['Country/Region'].replace({'Korea, South': 'South Korea'})\n",
    "dt_cols = df.columns[~df.columns.isin(['Province/State', 'Country/Region', 'Lat', 'Long'])]\n",
    "\n",
    "\n",
    "dff = (df.groupby('Country/Region')[dt_cols].sum()\n",
    "       .stack().reset_index(name='Confirmed Cases')\n",
    "       .rename(columns={'level_1': 'Date', 'Country/Region': 'Country'}))\n",
    "dff['Date'] = pd.to_datetime(dff['Date'], format='%m/%d/%y')\n",
    "\n",
    "\n",
    "MIN_CASES = 700\n",
    "LAST_DATE = dt_cols[-1]\n",
    "# sometimes last column may be empty, then go backwards\n",
    "for c in dt_cols[::-1]:\n",
    "    if not df[c].fillna(0).eq(0).all():\n",
    "        LAST_DATE = c\n",
    "        break\n",
    "countries = dff[dff['Date'].eq(LAST_DATE) & dff['Confirmed Cases'].ge(MIN_CASES) & \n",
    "        dff['Country'].ne('China')\n",
    "       ].sort_values(by='Confirmed Cases', ascending=False)\n",
    "countries = countries['Country'].values\n",
    "\n",
    "\n",
    "SINCE_CASES_NUM = 100\n",
    "dff2 = dff[dff['Country'].isin(countries)].copy()\n",
    "days_since = (dff2.assign(F=dff2['Confirmed Cases'].ge(SINCE_CASES_NUM))\n",
    "              .set_index('Date')\n",
    "              .groupby('Country')['F'].transform('idxmax'))\n",
    "dff2['Days since 100 cases'] = (dff2['Date'] - days_since.values).dt.days.values\n",
    "dff2 = dff2[dff2['Days since 100 cases'].ge(0)]"
   ]
  },
  {
   "cell_type": "code",
   "execution_count": 4,
   "metadata": {},
   "outputs": [],
   "source": [
    "#hide\n",
    "def get_country_colors(x):\n",
    "    mapping = {\n",
    "        'Italy': 'black',\n",
    "        'Iran': '#A1BA59',\n",
    "        'South Korea': '#E45756',\n",
    "        'Spain': '#F58518',\n",
    "        'Germany': '#9D755D',\n",
    "        'France': '#F58518',\n",
    "        'US': '#2495D3',\n",
    "        'Switzerland': '#9D755D',\n",
    "        'Norway': '#C1B7AD',\n",
    "        'United Kingdom': '#2495D3',\n",
    "        'Netherlands': '#C1B7AD',\n",
    "        'Sweden': '#C1B7AD',\n",
    "        'Belgium': '#C1B7AD',\n",
    "        'Denmark': '#C1B7AD',\n",
    "        'Austria': '#C1B7AD',\n",
    "        'Japan': '#FF9DA6'}\n",
    "    return mapping.get(x, '#C1B7AD')"
   ]
  },
  {
   "cell_type": "code",
   "execution_count": 5,
   "metadata": {},
   "outputs": [],
   "source": [
    "#hide\n",
    "baseline_countries = ['Italy', 'South Korea', 'Japan']\n",
    "max_date = dff2['Date'].max()\n",
    "color_domain = list(dff2['Country'].unique())\n",
    "color_range = list(map(get_country_colors, color_domain))\n",
    "\n",
    "def make_since_chart(highlight_countries=[], baseline_countries=baseline_countries):\n",
    "    selection = alt.selection_multi(fields=['Country'], bind='legend', \n",
    "                                    init=[{'Country': x} for x in highlight_countries + baseline_countries])\n",
    "\n",
    "    base = alt.Chart(dff2, width=550).encode(\n",
    "        x='Days since 100 cases:Q',\n",
    "        y=alt.Y('Confirmed Cases:Q', scale=alt.Scale(type='log')),\n",
    "        color=alt.Color('Country:N', scale=alt.Scale(domain=color_domain, range=color_range)),\n",
    "        tooltip=list(dff2),\n",
    "        opacity=alt.condition(selection, alt.value(1), alt.value(0.05))\n",
    "    )\n",
    "    max_day = dff2['Days since 100 cases'].max()\n",
    "    ref = pd.DataFrame([[x, 100*1.3**x] for x in range(max_day+1)], columns=['Days since 100 cases', 'Confirmed Cases'])\n",
    "    base_ref = alt.Chart(ref).encode(x='Days since 100 cases:Q', y='Confirmed Cases:Q')\n",
    "    return (\n",
    "        base_ref.mark_line(color='black', opacity=.5, strokeDash=[3,3]) +\n",
    "        base_ref.transform_filter(\n",
    "            alt.datum['Days since 100 cases'] >= max_day\n",
    "        ).mark_text(dy=-6, align='right', fontSize=10, text='33% Daily Growth') +\n",
    "        base.mark_line(point=True).add_selection(selection) + \n",
    "        base.transform_filter(\n",
    "            alt.datum['Date'] >= int(max_date.timestamp() * 1000)\n",
    "        ).mark_text(dy=-8, align='right', fontWeight='bold').encode(text='Country:N')\n",
    "    ).properties(\n",
    "        title=f\"Compare {', '.join(highlight_countries)} trajectory with {', '.join(baseline_countries)}\"\n",
    "    )"
   ]
  },
  {
   "cell_type": "markdown",
   "metadata": {},
   "source": [
    "## Learning from Italy, South Korea & Japan"
   ]
  },
  {
   "cell_type": "code",
   "execution_count": null,
   "metadata": {},
   "outputs": [],
   "source": []
  }
 ],
 "metadata": {
  "kernelspec": {
   "display_name": "visualization-curriculum-gF8wUgMm",
   "language": "python",
   "name": "visualization-curriculum-gf8wugmm"
  },
  "language_info": {
   "codemirror_mode": {
    "name": "ipython",
    "version": 3
   },
   "file_extension": ".py",
   "mimetype": "text/x-python",
   "name": "python",
   "nbconvert_exporter": "python",
   "pygments_lexer": "ipython3",
   "version": "3.6.7"
  }
 },
 "nbformat": 4,
 "nbformat_minor": 2
}
