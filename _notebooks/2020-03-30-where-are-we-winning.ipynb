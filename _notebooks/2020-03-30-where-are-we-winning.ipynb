{
 "cells": [
  {
   "cell_type": "markdown",
   "metadata": {
    "papermill": {
     "duration": 0.013753,
     "end_time": "2020-03-28T16:40:29.113761",
     "exception": false,
     "start_time": "2020-03-28T16:40:29.100008",
     "status": "completed"
    },
    "tags": []
   },
   "source": [
    "# Where are we winning?\n",
    "> Inflection-sensitive charts for detecting successful interventions, à la _minutephysics_' \"How To Tell If We're Beating COVID-19\". States will plummet off the diagonal when they get the virus under control.\n",
    "\n",
    "- author: Daniel Cox\n",
    "- categories: [inflection, US, states]\n",
    "- image: images/where-are-we-winning.png\n",
    "- permalink: /where-are-we-winning/"
   ]
  },
  {
   "cell_type": "code",
   "execution_count": null,
   "metadata": {
    "ExecuteTime": {
     "end_time": "2020-04-03T15:07:27.881339Z",
     "start_time": "2020-04-03T15:07:27.347336Z"
    },
    "papermill": {
     "duration": 1.074476,
     "end_time": "2020-03-28T16:40:30.233068",
     "exception": false,
     "start_time": "2020-03-28T16:40:29.158592",
     "status": "completed"
    },
    "tags": []
   },
   "outputs": [],
   "source": [
    "#hide\n",
    "%matplotlib inline\n",
    "import sys\n",
    "import math\n",
    "import requests\n",
    "import pandas as pd\n",
    "import numpy as np\n",
    "import matplotlib.pyplot as plt\n",
    "import ipywidgets as widgets\n",
    "from ipywidgets import interact\n",
    "from datetime import datetime\n",
    "from IPython.display import HTML\n",
    "# import plotly.io as pio\n",
    "# # pio.renderers.default = 'notebook_connected'\n",
    "# pio.renderers.default = 'notebook+'\n",
    "\n",
    "import plotly.express as px\n",
    "import plotly.graph_objects as go"
   ]
  },
  {
   "cell_type": "code",
   "execution_count": null,
   "metadata": {
    "ExecuteTime": {
     "end_time": "2020-04-03T15:07:28.057019Z",
     "start_time": "2020-04-03T15:07:27.882628Z"
    },
    "papermill": {
     "duration": 1.074476,
     "end_time": "2020-03-28T16:40:30.233068",
     "exception": false,
     "start_time": "2020-03-28T16:40:29.158592",
     "status": "completed"
    },
    "scrolled": true,
    "tags": []
   },
   "outputs": [],
   "source": [
    "#hide\n",
    "states_url = \"https://covidtracking.com/api/states/daily\"\n",
    "case_threshold = 100 # TODO I don't want to drop states below 100\n",
    "\n",
    "r = requests.get(states_url)\n",
    "states_df = pd.DataFrame(r.json())\n",
    "states_df['date'] = pd.to_datetime(states_df.date, format=\"%Y%m%d\")\n",
    "states_df = states_df[['date', 'state', 'positive']].sort_values('date')\n",
    "states_df = states_df.rename(columns={'positive': 'confirmed'})\n",
    "cols = {}\n",
    "for state in states_df.state.unique():\n",
    "    cases = states_df[(states_df.state == state) & (states_df.confirmed > case_threshold)]\n",
    "    cases = cases.reset_index().confirmed.reset_index(drop=True)\n",
    "    if len(cases) > 1:\n",
    "        cols[state] = cases\n",
    "\n",
    "df = states_df.reset_index()\n",
    "# df"
   ]
  },
  {
   "cell_type": "code",
   "execution_count": null,
   "metadata": {
    "ExecuteTime": {
     "end_time": "2020-04-03T15:07:28.077150Z",
     "start_time": "2020-04-03T15:07:28.058428Z"
    }
   },
   "outputs": [],
   "source": [
    "# hide\n",
    "df = (df.assign(daily_new=df.groupby('state', as_index=False)[['confirmed']]\n",
    "                            .diff().fillna(0)\n",
    "                            .reset_index(0, drop=True)))"
   ]
  },
  {
   "cell_type": "code",
   "execution_count": null,
   "metadata": {
    "ExecuteTime": {
     "end_time": "2020-04-03T15:07:28.121412Z",
     "start_time": "2020-04-03T15:07:28.078199Z"
    }
   },
   "outputs": [],
   "source": [
    "#hide\n",
    "df = (df.assign(avg_daily_new=df.groupby('state', as_index=False)[['daily_new']]\n",
    "                                .rolling(7).mean()\n",
    "                                .reset_index(0, drop=True)))"
   ]
  },
  {
   "cell_type": "code",
   "execution_count": null,
   "metadata": {
    "ExecuteTime": {
     "end_time": "2020-04-03T15:07:28.126655Z",
     "start_time": "2020-04-03T15:07:28.122313Z"
    }
   },
   "outputs": [],
   "source": [
    "#hide\n",
    "state_names = {\n",
    "    \"AL\": \"Alabama\",\n",
    "    \"AK\": \"Alaska\",\n",
    "    \"AS\": \"American Samoa\",\n",
    "    \"AZ\": \"Arizona\",\n",
    "    \"AR\": \"Arkansas\",\n",
    "    \"CA\": \"California\",\n",
    "    \"CO\": \"Colorado\",\n",
    "    \"CT\": \"Connecticut\",\n",
    "    \"DE\": \"Delaware\",\n",
    "    \"DC\": \"District Of Columbia\",\n",
    "    \"FM\": \"Federated States Of Micronesia\",\n",
    "    \"FL\": \"Florida\",\n",
    "    \"GA\": \"Georgia\",\n",
    "    \"GU\": \"Guam\",\n",
    "    \"HI\": \"Hawaii\",\n",
    "    \"ID\": \"Idaho\",\n",
    "    \"IL\": \"Illinois\",\n",
    "    \"IN\": \"Indiana\",\n",
    "    \"IA\": \"Iowa\",\n",
    "    \"KS\": \"Kansas\",\n",
    "    \"KY\": \"Kentucky\",\n",
    "    \"LA\": \"Louisiana\",\n",
    "    \"ME\": \"Maine\",\n",
    "    \"MH\": \"Marshall Islands\",\n",
    "    \"MD\": \"Maryland\",\n",
    "    \"MA\": \"Massachusetts\",\n",
    "    \"MI\": \"Michigan\",\n",
    "    \"MN\": \"Minnesota\",\n",
    "    \"MS\": \"Mississippi\",\n",
    "    \"MO\": \"Missouri\",\n",
    "    \"MT\": \"Montana\",\n",
    "    \"NE\": \"Nebraska\",\n",
    "    \"NV\": \"Nevada\",\n",
    "    \"NH\": \"New Hampshire\",\n",
    "    \"NJ\": \"New Jersey\",\n",
    "    \"NM\": \"New Mexico\",\n",
    "    \"NY\": \"New York\",\n",
    "    \"NC\": \"North Carolina\",\n",
    "    \"ND\": \"North Dakota\",\n",
    "    \"MP\": \"Northern Mariana Islands\",\n",
    "    \"OH\": \"Ohio\",\n",
    "    \"OK\": \"Oklahoma\",\n",
    "    \"OR\": \"Oregon\",\n",
    "    \"PW\": \"Palau\",\n",
    "    \"PA\": \"Pennsylvania\",\n",
    "    \"PR\": \"Puerto Rico\",\n",
    "    \"RI\": \"Rhode Island\",\n",
    "    \"SC\": \"South Carolina\",\n",
    "    \"SD\": \"South Dakota\",\n",
    "    \"TN\": \"Tennessee\",\n",
    "    \"TX\": \"Texas\",\n",
    "    \"UT\": \"Utah\",\n",
    "    \"VT\": \"Vermont\",\n",
    "    \"VI\": \"Virgin Islands\",\n",
    "    \"VA\": \"Virginia\",\n",
    "    \"WA\": \"Washington\",\n",
    "    \"WV\": \"West Virginia\",\n",
    "    \"WI\": \"Wisconsin\",\n",
    "    \"WY\": \"Wyoming\"\n",
    "}"
   ]
  },
  {
   "cell_type": "code",
   "execution_count": null,
   "metadata": {
    "ExecuteTime": {
     "end_time": "2020-04-03T15:07:28.135732Z",
     "start_time": "2020-04-03T15:07:28.127440Z"
    }
   },
   "outputs": [],
   "source": [
    "#hide\n",
    "df['day'] = df.date.apply(lambda x: x.date()).apply(str)\n",
    "df = df.sort_values(by='day')\n",
    "dfc = df[df.avg_daily_new > 0]"
   ]
  },
  {
   "cell_type": "code",
   "execution_count": null,
   "metadata": {
    "ExecuteTime": {
     "end_time": "2020-04-03T15:07:28.138712Z",
     "start_time": "2020-04-03T15:07:28.136560Z"
    }
   },
   "outputs": [],
   "source": [
    "#hide\n",
    "days = dfc.day.unique().tolist()\n",
    "states = dfc.state.unique().tolist()\n",
    "states.sort()"
   ]
  },
  {
   "cell_type": "code",
   "execution_count": null,
   "metadata": {
    "ExecuteTime": {
     "end_time": "2020-04-03T15:07:28.146823Z",
     "start_time": "2020-04-03T15:07:28.139972Z"
    }
   },
   "outputs": [],
   "source": [
    "#hide\n",
    "# make figure\n",
    "fig_dict = {\n",
    "    \"data\": [],\n",
    "    \"layout\": {},\n",
    "    \"frames\": []\n",
    "}\n",
    "\n",
    "# fill in most of layout\n",
    "fig_dict[\"layout\"][\"height\"] = 700\n",
    "fig_dict[\"layout\"][\"width\"] = 900\n",
    "fig_dict[\"layout\"][\"xaxis\"] = {\"range\": [np.log10(5), np.log10(dfc['confirmed'].max() + 5000)], \"title\": \"Total Confirmed Cases (log scale)\", \"type\": \"log\"}\n",
    "fig_dict[\"layout\"][\"yaxis\"] = {\"range\": [np.log10(1), np.log10(dfc['avg_daily_new'].max() + 500)], \"title\": \"Average Daily New Cases (log scale)\", \"type\": \"log\"}\n",
    "fig_dict[\"layout\"][\"hovermode\"] = \"closest\"\n",
    "fig_dict[\"layout\"][\"sliders\"] = {\n",
    "    \"args\": [\n",
    "        \"transition\", {\n",
    "            \"duration\": 100,\n",
    "            \"easing\": \"cubic-in-out\"\n",
    "        }\n",
    "    ],\n",
    "    \"initialValue\": min(days),\n",
    "    \"plotlycommand\": \"animate\",\n",
    "    \"values\": days,\n",
    "    \"visible\": True\n",
    "}\n",
    "\n",
    "# buttons\n",
    "fig_dict[\"layout\"][\"updatemenus\"] = [\n",
    "    {\n",
    "        \"buttons\": [\n",
    "            {\n",
    "                \"args\": [None, {\"frame\": {\"duration\": 300, \"redraw\": True},\n",
    "                                \"fromcurrent\": True, \"transition\": {\"duration\": 300,\n",
    "                                                                    \"easing\": \"linear\"}}],\n",
    "                \"label\": \"Play\",\n",
    "                \"method\": \"animate\"\n",
    "            },\n",
    "            {\n",
    "                \"args\": [[None], {\"frame\": {\"duration\": 0, \"redraw\": False},\n",
    "                                  \"mode\": \"immediate\",\n",
    "                                  \"transition\": {\"duration\": 0}}],\n",
    "                \"label\": \"Pause\",\n",
    "                \"method\": \"animate\"\n",
    "            }\n",
    "        ],\n",
    "        \"direction\": \"left\",\n",
    "        \"pad\": {\"r\": 10, \"t\": 87},\n",
    "        \"showactive\": False,\n",
    "        \"type\": \"buttons\",\n",
    "        \"x\": 0.05,\n",
    "        \"xanchor\": \"right\",\n",
    "        \"y\": 0.05,\n",
    "        \"yanchor\": \"top\"\n",
    "    }\n",
    "]\n",
    "\n",
    "# sliders\n",
    "sliders_dict = {\n",
    "    \"active\": len(days)-1,\n",
    "    \"yanchor\": \"top\",\n",
    "    \"xanchor\": \"left\",\n",
    "    \"currentvalue\": {\n",
    "        \"font\": {\"size\": 20},\n",
    "#         \"prefix\": \"Date: \",\n",
    "        \"visible\": True,\n",
    "        \"xanchor\": \"right\"\n",
    "    },\n",
    "    \"transition\": {\"duration\": 100},\n",
    "    \"pad\": {\"b\": 10, \"t\": 50},\n",
    "    \"len\": 0.9,\n",
    "    \"x\": 0.1,\n",
    "    \"y\": 0,\n",
    "    \"steps\": []\n",
    "}"
   ]
  },
  {
   "cell_type": "code",
   "execution_count": null,
   "metadata": {
    "ExecuteTime": {
     "end_time": "2020-04-03T15:07:29.766183Z",
     "start_time": "2020-04-03T15:07:28.147867Z"
    }
   },
   "outputs": [],
   "source": [
    "#hide\n",
    "# make data\n",
    "day = max(days)\n",
    "for state in states:\n",
    "    dataset_by_day = dfc[dfc[\"day\"] <= day]\n",
    "    dataset_by_day_and_state = dataset_by_day[ dataset_by_day[\"state\"]==state ]\n",
    "    \n",
    "    data_dict = {\n",
    "        \"x\": list(dataset_by_day_and_state[\"confirmed\"]),\n",
    "        \"y\": list(dataset_by_day_and_state[\"avg_daily_new\"]),\n",
    "        \"mode\": \"lines\",\n",
    "        \"text\": dataset_by_day_and_state[['confirmed', 'avg_daily_new']],\n",
    "        \"name\": state,\n",
    "        'hoverlabel': {'namelength': 0},\n",
    "        'hovertemplate': '<b>%{hovertext}</b><br>Confirmed: %{x:,d}<br>Average Daily: %{y:,.2f}',\n",
    "        'hovertext': dataset_by_day_and_state['state'].apply(lambda s: state_names.get(s, '??') + f' ({s})'),\n",
    "    }\n",
    "    fig_dict[\"data\"].append(data_dict)\n",
    "\n",
    "# make frames\n",
    "for day in days:\n",
    "    frame = {\"data\": [], \"name\": day}\n",
    "    for state in states:\n",
    "        dataset_by_day = dfc[dfc[\"day\"] <= day]\n",
    "        dataset_by_day_and_state = dataset_by_day[\n",
    "            dataset_by_day[\"state\"] == state]\n",
    "\n",
    "        data_dict = {\n",
    "            \"x\": list(dataset_by_day_and_state[\"confirmed\"]),\n",
    "            \"y\": list(dataset_by_day_and_state[\"avg_daily_new\"]),\n",
    "            \"mode\": \"lines\",\n",
    "            \"text\": dataset_by_day_and_state[['confirmed', 'avg_daily_new']],\n",
    "            \"name\": state\n",
    "        }\n",
    "        frame[\"data\"].append(data_dict)\n",
    "\n",
    "    fig_dict[\"frames\"].append(frame)\n",
    "    slider_step = {\"args\": [\n",
    "        [day],\n",
    "        {\"frame\": {\"duration\": 100, \"redraw\": True},\n",
    "         \"mode\": \"immediate\",\n",
    "         \"transition\": {\"duration\": 100, 'easing': 'linear'}}\n",
    "    ],\n",
    "        \"label\": day,\n",
    "        \"method\": \"animate\"}\n",
    "    sliders_dict[\"steps\"].append(slider_step)"
   ]
  },
  {
   "cell_type": "code",
   "execution_count": null,
   "metadata": {
    "ExecuteTime": {
     "end_time": "2020-04-03T15:07:33.332997Z",
     "start_time": "2020-04-03T15:07:29.767288Z"
    },
    "scrolled": false
   },
   "outputs": [],
   "source": [
    "#hide\n",
    "fig_dict[\"layout\"][\"sliders\"] = [sliders_dict]\n",
    "fig = go.Figure(fig_dict)"
   ]
  },
  {
   "cell_type": "code",
   "execution_count": null,
   "metadata": {},
   "outputs": [],
   "source": [
    "#hide\n",
    "fig.show()"
   ]
  },
  {
   "cell_type": "code",
   "execution_count": null,
   "metadata": {},
   "outputs": [],
   "source": [
    "#hide_input\n",
    "HTML(fig.to_html())"
   ]
  },
  {
   "cell_type": "markdown",
   "metadata": {
    "ExecuteTime": {
     "end_time": "2020-03-31T03:24:03.114334Z",
     "start_time": "2020-03-31T03:24:03.109579Z"
    }
   },
   "source": [
    "> Tip: Click on states in the legend to select/de-select, and double-click to isolate a single state. Hovor over a line to disambiguate, and to see exact numbers. Use the slider or press Play to see the plot at different points in time."
   ]
  },
  {
   "cell_type": "markdown",
   "metadata": {},
   "source": [
    "## Explanation\n",
    "\n",
    "The exponential growth stage of a pandemic must end sometime, either as the virus runs out of people to infect, or as societies get it under control. However, it can be difficult to tell exactly when exponential growth is ending, for several reasons:\n",
    "\n",
    "* Humans aren't wired to understand exponentials at a glance.\n",
    "* It can be difficult to compare regions with differing first-infection dates and populations.\n",
    "* The news tends to report individual data points, without the contextual information necessary to interpret it.\n",
    "\n",
    "This visualization plots the (sliding average of) daily new cases against the total cases, for each US state (with other countries and regions to come). This has the advantage of aligning all of them onto a baseline trajectory of exponential growth, with a very clear downward plummet when a given state gets the virus under control.\n",
    "\n",
    "_minutephysics_ has an excellent video on this visualization type, [How To Tell If We're Beating COVID-19](https://youtu.be/54XLXg4fYsc)."
   ]
  },
  {
   "cell_type": "markdown",
   "metadata": {},
   "source": [
    "## Caveats\n",
    "\n"
   ]
  },
  {
   "cell_type": "markdown",
   "metadata": {
    "papermill": {
     "duration": 0.018859,
     "end_time": "2020-03-28T16:40:31.309180",
     "exception": false,
     "start_time": "2020-03-28T16:40:31.290321",
     "status": "completed"
    },
    "tags": []
   },
   "source": [
    "This visualization was made by [Daniel Cox](https://twitter.com/danielpcox), with thanks to Henry of _minutephysics_ for [How To Tell If We're Beating COVID-19](https://youtu.be/54XLXg4fYsc).\n",
    "\n",
    "[^1]:  Data sourced from [\"The COVID Tracking Project\"](https://covidtracking.com/). Updated hourly by [GitHub Actions](https://github.com/features/actions)."
   ]
  }
 ],
 "metadata": {
  "hide_input": false,
  "kernelspec": {
   "display_name": "Python 3",
   "language": "python",
   "name": "python3"
  },
  "language_info": {
   "codemirror_mode": {
    "name": "ipython",
    "version": 3
   },
   "file_extension": ".py",
   "mimetype": "text/x-python",
   "name": "python",
   "nbconvert_exporter": "python",
   "pygments_lexer": "ipython3",
   "version": "3.7.2"
  },
  "papermill": {
   "duration": 3.068174,
   "end_time": "2020-03-28T16:40:31.332116",
   "environment_variables": {},
   "exception": null,
   "input_path": "2020-03-27-compare-trajectories-us.ipynb",
   "output_path": "2020-03-27-compare-trajectories-us.ipynb",
   "parameters": {},
   "start_time": "2020-03-28T16:40:28.263942",
   "version": "2.0.0"
  }
 },
 "nbformat": 4,
 "nbformat_minor": 4
}
