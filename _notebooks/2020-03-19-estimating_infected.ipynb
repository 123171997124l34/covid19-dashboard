{
 "cells": [
  {
   "cell_type": "markdown",
   "metadata": {
    "papermill": {
     "duration": 0.016834,
     "end_time": "2020-03-23T21:56:02.166094",
     "exception": false,
     "start_time": "2020-03-23T21:56:02.149260",
     "status": "completed"
    },
    "tags": []
   },
   "source": [
    "# Estimating The Infected Population From Deaths\n",
    "> Estimating the number of infected people by country based on the number of deaths and case fatality rate. \n",
    "\n",
    "- comments: true\n",
    "- author: Joao B. Duarte\n",
    "- categories: [growth, compare, interactive, estimation]\n",
    "- hide: false\n",
    "- image: images/covid-estimate-infections.png\n",
    "- permalink: /covid-infected/\n",
    "- toc: true"
   ]
  },
  {
   "cell_type": "code",
   "execution_count": 1,
   "metadata": {
    "papermill": {
     "duration": 0.613588,
     "end_time": "2020-03-23T21:56:02.790595",
     "exception": false,
     "start_time": "2020-03-23T21:56:02.177007",
     "status": "completed"
    },
    "tags": []
   },
   "outputs": [],
   "source": [
    "#hide\n",
    "import numpy as np\n",
    "import pandas as pd\n",
    "import matplotlib.pyplot as plt\n",
    "import altair as alt\n",
    "from datetime import timedelta, datetime, date\n",
    "%config InlineBackend.figure_format = 'retina'\n",
    "\n",
    "chart_width = 550\n",
    "chart_height= 400"
   ]
  },
  {
   "cell_type": "code",
   "execution_count": 2,
   "metadata": {
    "papermill": {
     "duration": 0.032705,
     "end_time": "2020-03-23T21:56:02.833959",
     "exception": false,
     "start_time": "2020-03-23T21:56:02.801254",
     "status": "completed"
    },
    "tags": []
   },
   "outputs": [],
   "source": [
    "#hide\n",
    "def plot(data, type1, levels):\n",
    "    data_countries_pc2 = data.copy()\n",
    "    for i in range(0,len(countries)):\n",
    "        data_countries_pc2[i] = data_countries_pc2[i].reset_index()\n",
    "        data_countries_pc2[i]['n_days'] = data_countries_pc2[i].index\n",
    "        if type1 == \"scatter\":\n",
    "            data_countries_pc2[i]['cases'] = data_countries_pc2[i][\"total_cases\"]\n",
    "        data_countries_pc2[i]['infected'] = data_countries_pc2[i][\"total_infected\"]\n",
    "    data_plot = data_countries_pc2[0]\n",
    "    for i in range(1, len(countries)):    \n",
    "        data_plot = pd.concat([data_plot, data_countries_pc2[i]], axis=0)\n",
    "    \n",
    "    if type1 == \"scatter\":\n",
    "        data_plot[\"45_line\"] = data_plot[\"cases\"]\n",
    "\n",
    "    # Plot it using Altair\n",
    "    source = data_plot\n",
    "    \n",
    "    if levels == True:\n",
    "        ylabel = \"Total\"\n",
    "    else :\n",
    "        ylabel = \"Per Million\"\n",
    "\n",
    "    scales = alt.selection_interval(bind='scales')\n",
    "    selection = alt.selection_multi(fields=['location'], bind='legend')\n",
    "\n",
    "    if type1 == \"line\": \n",
    "        base = alt.Chart(source, title =  \"Estimated Infected Population By Country\").encode(\n",
    "            x = alt.X('n_days:Q', title = \"Days since outbreak\"),\n",
    "            y = alt.Y(\"infected:Q\",title = ylabel),\n",
    "            color = alt.Color('location:N', legend=alt.Legend(title=\"Country\", labelFontSize=15, titleFontSize=17),\n",
    "                             scale=alt.Scale(scheme='tableau20')),\n",
    "            opacity = alt.condition(selection, alt.value(1), alt.value(0.1))\n",
    "        )\n",
    "    \n",
    "        lines = base.mark_line().add_selection(\n",
    "            scales\n",
    "        ).add_selection(\n",
    "            selection\n",
    "        ).properties(\n",
    "            width=chart_width,\n",
    "            height=chart_height\n",
    "        )\n",
    "        return(\n",
    "        ( lines)\n",
    "        .configure_title(fontSize=20)\n",
    "        .configure_axis(labelFontSize=15,titleFontSize=18)\n",
    "        )\n",
    "    \n",
    "    if levels == True:\n",
    "        ylabel = \"Infected\"\n",
    "        xlabel = \"Cases\"\n",
    "    else :\n",
    "        ylabel = \"Per Million Infected\"\n",
    "        xlabel = \"Per Million Cases\"\n",
    "        \n",
    "    if type1 == \"scatter\":\n",
    "        base = alt.Chart(source, title = \"COVID-19 Cases VS Infected\").encode(\n",
    "            x = alt.X('cases:Q', title = xlabel),\n",
    "            y = alt.Y(\"infected:Q\",title = ylabel),\n",
    "            color = alt.Color('location:N', legend=alt.Legend(title=\"Country\", labelFontSize=15, titleFontSize=17),\n",
    "                             scale=alt.Scale(scheme='tableau20')),\n",
    "            opacity = alt.condition(selection, alt.value(1), alt.value(0.1))\n",
    "        )\n",
    "\n",
    "\n",
    "        \n",
    "        scatter = base.mark_point().add_selection(\n",
    "            scales\n",
    "        ).add_selection(\n",
    "            selection\n",
    "        ).properties(\n",
    "            width=chart_width,\n",
    "            height=chart_height\n",
    "        )\n",
    "\n",
    "        line_45 = alt.Chart(source).encode(\n",
    "            x = \"cases:Q\",\n",
    "            y = alt.Y(\"45_line:Q\",  scale=alt.Scale(domain=(0, max(data_plot[\"infected\"])))),\n",
    "        ).mark_line(color=\"grey\", strokeDash=[3,3])\n",
    "        \n",
    "        return(\n",
    "        (scatter + line_45)\n",
    "        .configure_title(fontSize=20)\n",
    "        .configure_axis(labelFontSize=15,titleFontSize=18)\n",
    "        )"
   ]
  },
  {
   "cell_type": "code",
   "execution_count": 3,
   "metadata": {
    "papermill": {
     "duration": 5.433007,
     "end_time": "2020-03-23T21:56:08.277133",
     "exception": false,
     "start_time": "2020-03-23T21:56:02.844126",
     "status": "completed"
    },
    "tags": []
   },
   "outputs": [
    {
     "name": "stderr",
     "output_type": "stream",
     "text": [
      "/opt/hostedtoolcache/Python/3.6.10/x64/lib/python3.6/site-packages/ipykernel_launcher.py:45: RuntimeWarning: invalid value encountered in true_divide\n"
     ]
    }
   ],
   "source": [
    "#hide \n",
    "# Get data on deaths D_t\n",
    "data = pd.read_csv(\"https://raw.githubusercontent.com/CSSEGISandData/COVID-19/master/csse_covid_19_data/csse_covid_19_time_series/time_series_19-covid-Deaths.csv\", error_bad_lines=False)\n",
    "data = data.drop(columns=[\"Lat\", \"Long\"])\n",
    "data = data.melt(id_vars= [\"Province/State\", \"Country/Region\"])\n",
    "data = pd.DataFrame(data.groupby(['Country/Region', \"variable\"]).sum())\n",
    "data.reset_index(inplace=True)  \n",
    "data = data.rename(columns={\"Country/Region\": \"location\", \"variable\": \"date\", \"value\": \"total_deaths\"})\n",
    "data['date'] =pd.to_datetime(data.date)\n",
    "data = data.sort_values(by = \"date\")\n",
    "data.loc[data.location == \"US\",\"location\"] = \"United States\"\n",
    "data.loc[data.location == \"Korea, South\",\"location\"] = \"South Korea\"\n",
    "\n",
    "#hide\n",
    "# Get data and clean it\n",
    "\n",
    "data_cases = pd.read_csv(\"https://raw.githubusercontent.com/CSSEGISandData/COVID-19/master/csse_covid_19_data/csse_covid_19_time_series/time_series_19-covid-Confirmed.csv\", error_bad_lines=False)\n",
    "data_cases = data_cases.drop(columns=[\"Lat\", \"Long\"])\n",
    "data_cases = data_cases.melt(id_vars= [\"Province/State\", \"Country/Region\"])\n",
    "data_cases = pd.DataFrame(data_cases.groupby(['Country/Region', \"variable\"]).sum())\n",
    "data_cases.reset_index(inplace=True)  \n",
    "data_cases = data_cases.rename(columns={\"Country/Region\": \"location\", \"variable\": \"date\", \"value\": \"total_cases\"})\n",
    "data_cases['date'] =pd.to_datetime(data_cases.date)\n",
    "data_cases = data_cases.sort_values(by = \"date\")\n",
    "data_cases.loc[data_cases.location == \"US\",\"location\"] = \"United States\"\n",
    "data_cases.loc[data_cases.location == \"Korea, South\",\"location\"] = \"South Korea\"\n",
    "# Add countries\n",
    "countries = [\"China\", \"Italy\", \"Spain\", \"France\", \"United Kingdom\", \"Germany\", \n",
    "             \"Portugal\", \"United States\", \"Singapore\",\"South Korea\", \"Japan\", \n",
    "             \"Brazil\",\"Iran\", \"India\", \"Switzerland\", \"Canada\", \"Australia\"]\n",
    "\n",
    "data_final = pd.merge(data,\n",
    "                 data_cases\n",
    "                 )\n",
    "data_final[\"CFR\"] = data_final[\"total_deaths\"]/data_final[\"total_cases\"]\n",
    "\n",
    "\n",
    "data_final[\"total_infected\"] = np.NaN\n",
    "data_final = data_final.sort_values(by = ['location', 'date'])\n",
    "data_final = data_final.reset_index(drop = True)\n",
    "\n",
    "\n",
    "for j in countries:\n",
    "    for i in data_final[\"date\"].unique()[0:-8]:\n",
    "        data_final.loc[(data_final.date == i) & (data_final.location == j), \"total_infected\"] = data_final.loc[(data_final.date == i + np.timedelta64(8, 'D')) & (data_final.location == j), \"total_deaths\"].iloc[0]/data_final.loc[(data_final.date == i + np.timedelta64(8, 'D')) & (data_final.location == j), \"CFR\"].iloc[0]\n",
    "        \n",
    "\n",
    "# Estimate growth rate of infected, g        \n",
    "data_final['infected_g'] = np.log(data_final['total_infected'])\n",
    "data_final['infected_g'] = data_final['infected_g'].diff() \n",
    "\n",
    "# Estimate number of infected given g\n",
    "today = data_final.date.iloc[-1]\n",
    "for j in countries:\n",
    "    for i in range(7,-1,-1):\n",
    "        data_final.loc[(data_final.location == j) & (data_final.date == today - timedelta(i)), \"total_infected\"] = data_final.loc[data_final.location == j, \"total_infected\"].iloc[-i-2]*(1+data_final.loc[data_final.location == j, \"infected_g\"].aggregate(func = \"mean\"))\n",
    "        \n",
    "data_pc = data_final[['location', 'date', 'total_infected']].copy()\n",
    "\n",
    "countries = [\"China\", \"Italy\", \"Spain\", \"France\", \"United Kingdom\", \"Germany\", \n",
    "             \"Portugal\", \"United States\", \"Singapore\",\"South Korea\", \"Japan\", \n",
    "             \"Brazil\",\"Iran\"]\n",
    "data_countries = []\n",
    "data_countries_pc = []\n",
    "\n",
    "for i in countries:\n",
    "    data_pc.loc[data_pc.location == i,\"total_infected\"] = data_pc.loc[data_pc.location == i,\"total_infected\"]\n",
    "\n",
    "# Get each country time series\n",
    "filter1 = data_pc[\"total_infected\"] > 1\n",
    "for i in countries:\n",
    "    filter_country = data_pc[\"location\"]== i\n",
    "    data_countries_pc.append(data_pc[filter_country & filter1])      "
   ]
  },
  {
   "cell_type": "markdown",
   "metadata": {
    "papermill": {
     "duration": 0.009884,
     "end_time": "2020-03-23T21:56:08.298018",
     "exception": false,
     "start_time": "2020-03-23T21:56:08.288134",
     "status": "completed"
    },
    "tags": []
   },
   "source": [
    "## Estimated Infected Population By Country\n",
    "\n",
    "by days since outbreak\n",
    "\n",
    "> Tip: Click (Shift+ for multiple) on countries in the legend to filter the visualization. "
   ]
  },
  {
   "cell_type": "code",
   "execution_count": 4,
   "metadata": {
    "papermill": {
     "duration": 1.772953,
     "end_time": "2020-03-23T21:56:10.081277",
     "exception": false,
     "start_time": "2020-03-23T21:56:08.308324",
     "status": "completed"
    },
    "tags": []
   },
   "outputs": [
    {
     "data": {
      "text/html": [
       "\n",
       "<div id=\"altair-viz-c42778be06a343fc8a0cefeb2dfc8b9e\"></div>\n",
       "<script type=\"text/javascript\">\n",
       "  (function(spec, embedOpt){\n",
       "    const outputDiv = document.getElementById(\"altair-viz-c42778be06a343fc8a0cefeb2dfc8b9e\");\n",
       "    const paths = {\n",
       "      \"vega\": \"https://cdn.jsdelivr.net/npm//vega@5?noext\",\n",
       "      \"vega-lib\": \"https://cdn.jsdelivr.net/npm//vega-lib?noext\",\n",
       "      \"vega-lite\": \"https://cdn.jsdelivr.net/npm//vega-lite@4.0.2?noext\",\n",
       "      \"vega-embed\": \"https://cdn.jsdelivr.net/npm//vega-embed@6?noext\",\n",
       "    };\n",
       "\n",
       "    function loadScript(lib) {\n",
       "      return new Promise(function(resolve, reject) {\n",
       "        var s = document.createElement('script');\n",
       "        s.src = paths[lib];\n",
       "        s.async = true;\n",
       "        s.onload = () => resolve(paths[lib]);\n",
       "        s.onerror = () => reject(`Error loading script: ${paths[lib]}`);\n",
       "        document.getElementsByTagName(\"head\")[0].appendChild(s);\n",
       "      });\n",
       "    }\n",
       "\n",
       "    function showError(err) {\n",
       "      outputDiv.innerHTML = `<div class=\"error\" style=\"color:red;\">${err}</div>`;\n",
       "      throw err;\n",
       "    }\n",
       "\n",
       "    function displayChart(vegaEmbed) {\n",
       "      vegaEmbed(outputDiv, spec, embedOpt)\n",
       "        .catch(err => showError(`Javascript Error: ${err.message}<br>This usually means there's a typo in your chart specification. See the javascript console for the full traceback.`));\n",
       "    }\n",
       "\n",
       "    if(typeof define === \"function\" && define.amd) {\n",
       "      requirejs.config({paths});\n",
       "      require([\"vega-embed\"], displayChart, err => showError(`Error loading script: ${err.message}`));\n",
       "    } else if (typeof vegaEmbed === \"function\") {\n",
       "      displayChart(vegaEmbed);\n",
       "    } else {\n",
       "      loadScript(\"vega\")\n",
       "        .then(() => loadScript(\"vega-lite\"))\n",
       "        .then(() => loadScript(\"vega-embed\"))\n",
       "        .catch(showError)\n",
       "        .then(() => displayChart(vegaEmbed));\n",
       "    }\n",
       "  })({\"config\": {\"view\": {\"continuousWidth\": 400, \"continuousHeight\": 300}, \"axis\": {\"labelFontSize\": 15, \"titleFontSize\": 18}, \"title\": {\"fontSize\": 20}}, \"data\": {\"name\": \"data-f85575e3701d7891abb0b687fc4de064\"}, \"mark\": \"line\", \"encoding\": {\"color\": {\"type\": \"nominal\", \"field\": \"location\", \"legend\": {\"labelFontSize\": 15, \"title\": \"Country\", \"titleFontSize\": 17}, \"scale\": {\"scheme\": \"tableau20\"}}, \"opacity\": {\"condition\": {\"value\": 1, \"selection\": \"selector002\"}, \"value\": 0.1}, \"x\": {\"type\": \"quantitative\", \"field\": \"n_days\", \"title\": \"Days since outbreak\"}, \"y\": {\"type\": \"quantitative\", \"field\": \"infected\", \"title\": \"Total\"}}, \"height\": 400, \"selection\": {\"selector001\": {\"type\": \"interval\", \"bind\": \"scales\"}, \"selector002\": {\"type\": \"multi\", \"fields\": [\"location\"], \"bind\": \"legend\"}}, \"title\": \"Estimated Infected Population By Country\", \"width\": 550, \"$schema\": \"https://vega.github.io/schema/vega-lite/v4.0.2.json\", \"datasets\": {\"data-f85575e3701d7891abb0b687fc4de064\": [{\"index\": 2013, \"location\": \"China\", \"date\": \"2020-01-22T00:00:00\", \"total_infected\": 8141.0, \"n_days\": 0, \"infected\": 8141.0}, {\"index\": 2014, \"location\": \"China\", \"date\": \"2020-01-23T00:00:00\", \"total_infected\": 9802.0, \"n_days\": 1, \"infected\": 9802.0}, {\"index\": 2015, \"location\": \"China\", \"date\": \"2020-01-24T00:00:00\", \"total_infected\": 11891.0, \"n_days\": 2, \"infected\": 11891.0}, {\"index\": 2016, \"location\": \"China\", \"date\": \"2020-01-25T00:00:00\", \"total_infected\": 16630.0, \"n_days\": 3, \"infected\": 16630.0}, {\"index\": 2017, \"location\": \"China\", \"date\": \"2020-01-26T00:00:00\", \"total_infected\": 19716.0, \"n_days\": 4, \"infected\": 19716.0}, {\"index\": 2018, \"location\": \"China\", \"date\": \"2020-01-27T00:00:00\", \"total_infected\": 23707.0, \"n_days\": 5, \"infected\": 23707.0}, {\"index\": 2019, \"location\": \"China\", \"date\": \"2020-01-28T00:00:00\", \"total_infected\": 27440.0, \"n_days\": 6, \"infected\": 27440.0}, {\"index\": 2020, \"location\": \"China\", \"date\": \"2020-01-29T00:00:00\", \"total_infected\": 30587.0, \"n_days\": 7, \"infected\": 30587.0}, {\"index\": 2021, \"location\": \"China\", \"date\": \"2020-01-30T00:00:00\", \"total_infected\": 34110.0, \"n_days\": 8, \"infected\": 34110.0}, {\"index\": 2022, \"location\": \"China\", \"date\": \"2020-01-31T00:00:00\", \"total_infected\": 36814.0, \"n_days\": 9, \"infected\": 36814.0}, {\"index\": 2023, \"location\": \"China\", \"date\": \"2020-02-01T00:00:00\", \"total_infected\": 39829.0, \"n_days\": 10, \"infected\": 39829.0}, {\"index\": 2024, \"location\": \"China\", \"date\": \"2020-02-02T00:00:00\", \"total_infected\": 42354.0, \"n_days\": 11, \"infected\": 42354.0}, {\"index\": 2025, \"location\": \"China\", \"date\": \"2020-02-03T00:00:00\", \"total_infected\": 44386.0, \"n_days\": 12, \"infected\": 44386.0}, {\"index\": 2026, \"location\": \"China\", \"date\": \"2020-02-04T00:00:00\", \"total_infected\": 44759.0, \"n_days\": 13, \"infected\": 44759.0}, {\"index\": 2027, \"location\": \"China\", \"date\": \"2020-02-05T00:00:00\", \"total_infected\": 59895.0, \"n_days\": 14, \"infected\": 59895.0}, {\"index\": 2028, \"location\": \"China\", \"date\": \"2020-02-06T00:00:00\", \"total_infected\": 66358.0, \"n_days\": 15, \"infected\": 66358.0}, {\"index\": 2029, \"location\": \"China\", \"date\": \"2020-02-07T00:00:00\", \"total_infected\": 68413.0, \"n_days\": 16, \"infected\": 68413.0}, {\"index\": 2030, \"location\": \"China\", \"date\": \"2020-02-08T00:00:00\", \"total_infected\": 70513.0, \"n_days\": 17, \"infected\": 70513.0}, {\"index\": 2031, \"location\": \"China\", \"date\": \"2020-02-09T00:00:00\", \"total_infected\": 72434.0, \"n_days\": 18, \"infected\": 72434.0}, {\"index\": 2032, \"location\": \"China\", \"date\": \"2020-02-10T00:00:00\", \"total_infected\": 74211.0, \"n_days\": 19, \"infected\": 74211.0}, {\"index\": 2033, \"location\": \"China\", \"date\": \"2020-02-11T00:00:00\", \"total_infected\": 74619.0, \"n_days\": 20, \"infected\": 74619.0}, {\"index\": 2034, \"location\": \"China\", \"date\": \"2020-02-12T00:00:00\", \"total_infected\": 75077.0, \"n_days\": 21, \"infected\": 75077.0}, {\"index\": 2035, \"location\": \"China\", \"date\": \"2020-02-13T00:00:00\", \"total_infected\": 75550.0, \"n_days\": 22, \"infected\": 75550.0}, {\"index\": 2036, \"location\": \"China\", \"date\": \"2020-02-14T00:00:00\", \"total_infected\": 77001.0, \"n_days\": 23, \"infected\": 77001.0}, {\"index\": 2037, \"location\": \"China\", \"date\": \"2020-02-15T00:00:00\", \"total_infected\": 77022.0, \"n_days\": 24, \"infected\": 77022.0}, {\"index\": 2038, \"location\": \"China\", \"date\": \"2020-02-16T00:00:00\", \"total_infected\": 77241.0, \"n_days\": 25, \"infected\": 77241.0}, {\"index\": 2039, \"location\": \"China\", \"date\": \"2020-02-17T00:00:00\", \"total_infected\": 77754.0, \"n_days\": 26, \"infected\": 77754.0}, {\"index\": 2040, \"location\": \"China\", \"date\": \"2020-02-18T00:00:00\", \"total_infected\": 78166.0, \"n_days\": 27, \"infected\": 78166.0}, {\"index\": 2041, \"location\": \"China\", \"date\": \"2020-02-19T00:00:00\", \"total_infected\": 78600.0, \"n_days\": 28, \"infected\": 78600.0}, {\"index\": 2042, \"location\": \"China\", \"date\": \"2020-02-20T00:00:00\", \"total_infected\": 78928.0, \"n_days\": 29, \"infected\": 78928.0}, {\"index\": 2043, \"location\": \"China\", \"date\": \"2020-02-21T00:00:00\", \"total_infected\": 79356.0, \"n_days\": 30, \"infected\": 79356.0}, {\"index\": 2044, \"location\": \"China\", \"date\": \"2020-02-22T00:00:00\", \"total_infected\": 79932.0, \"n_days\": 31, \"infected\": 79932.0}, {\"index\": 2045, \"location\": \"China\", \"date\": \"2020-02-23T00:00:00\", \"total_infected\": 80136.0, \"n_days\": 32, \"infected\": 80136.0}, {\"index\": 2046, \"location\": \"China\", \"date\": \"2020-02-24T00:00:00\", \"total_infected\": 80261.0, \"n_days\": 33, \"infected\": 80261.0}, {\"index\": 2047, \"location\": \"China\", \"date\": \"2020-02-25T00:00:00\", \"total_infected\": 80386.0, \"n_days\": 34, \"infected\": 80386.0}, {\"index\": 2048, \"location\": \"China\", \"date\": \"2020-02-26T00:00:00\", \"total_infected\": 80537.0, \"n_days\": 35, \"infected\": 80537.0}, {\"index\": 2049, \"location\": \"China\", \"date\": \"2020-02-27T00:00:00\", \"total_infected\": 80690.0, \"n_days\": 36, \"infected\": 80690.0}, {\"index\": 2050, \"location\": \"China\", \"date\": \"2020-02-28T00:00:00\", \"total_infected\": 80770.0, \"n_days\": 37, \"infected\": 80770.0}, {\"index\": 2051, \"location\": \"China\", \"date\": \"2020-02-29T00:00:00\", \"total_infected\": 80823.0, \"n_days\": 38, \"infected\": 80823.0}, {\"index\": 2052, \"location\": \"China\", \"date\": \"2020-03-01T00:00:00\", \"total_infected\": 80860.0, \"n_days\": 39, \"infected\": 80860.0}, {\"index\": 2053, \"location\": \"China\", \"date\": \"2020-03-02T00:00:00\", \"total_infected\": 80887.0, \"n_days\": 40, \"infected\": 80887.0}, {\"index\": 2054, \"location\": \"China\", \"date\": \"2020-03-03T00:00:00\", \"total_infected\": 80921.0, \"n_days\": 41, \"infected\": 80921.0}, {\"index\": 2055, \"location\": \"China\", \"date\": \"2020-03-04T00:00:00\", \"total_infected\": 80932.0, \"n_days\": 42, \"infected\": 80932.0}, {\"index\": 2056, \"location\": \"China\", \"date\": \"2020-03-05T00:00:00\", \"total_infected\": 80945.0, \"n_days\": 43, \"infected\": 80945.0}, {\"index\": 2057, \"location\": \"China\", \"date\": \"2020-03-06T00:00:00\", \"total_infected\": 80977.0, \"n_days\": 44, \"infected\": 80977.0}, {\"index\": 2058, \"location\": \"China\", \"date\": \"2020-03-07T00:00:00\", \"total_infected\": 81003.0, \"n_days\": 45, \"infected\": 81003.0}, {\"index\": 2059, \"location\": \"China\", \"date\": \"2020-03-08T00:00:00\", \"total_infected\": 81033.0, \"n_days\": 46, \"infected\": 81033.0}, {\"index\": 2060, \"location\": \"China\", \"date\": \"2020-03-09T00:00:00\", \"total_infected\": 81058.0, \"n_days\": 47, \"infected\": 81058.0}, {\"index\": 2061, \"location\": \"China\", \"date\": \"2020-03-10T00:00:00\", \"total_infected\": 81102.0, \"n_days\": 48, \"infected\": 81102.0}, {\"index\": 2062, \"location\": \"China\", \"date\": \"2020-03-11T00:00:00\", \"total_infected\": 81156.0, \"n_days\": 49, \"infected\": 81156.0}, {\"index\": 2063, \"location\": \"China\", \"date\": \"2020-03-12T00:00:00\", \"total_infected\": 81250.0, \"n_days\": 50, \"infected\": 81250.0}, {\"index\": 2064, \"location\": \"China\", \"date\": \"2020-03-13T00:00:00\", \"total_infected\": 81305.0, \"n_days\": 51, \"infected\": 81305.0}, {\"index\": 2065, \"location\": \"China\", \"date\": \"2020-03-14T00:00:00\", \"total_infected\": 81397.0, \"n_days\": 52, \"infected\": 81397.0}, {\"index\": 2066, \"location\": \"China\", \"date\": \"2020-03-15T00:00:00\", \"total_infected\": 85001.04845870093, \"n_days\": 53, \"infected\": 85001.04845870093}, {\"index\": 2067, \"location\": \"China\", \"date\": \"2020-03-16T00:00:00\", \"total_infected\": 88764.67485384502, \"n_days\": 54, \"infected\": 88764.67485384502}, {\"index\": 2068, \"location\": \"China\", \"date\": \"2020-03-17T00:00:00\", \"total_infected\": 92694.94488338036, \"n_days\": 55, \"infected\": 92694.94488338036}, {\"index\": 2069, \"location\": \"China\", \"date\": \"2020-03-18T00:00:00\", \"total_infected\": 96799.23709607018, \"n_days\": 56, \"infected\": 96799.23709607018}, {\"index\": 2070, \"location\": \"China\", \"date\": \"2020-03-19T00:00:00\", \"total_infected\": 101085.25674371711, \"n_days\": 57, \"infected\": 101085.25674371711}, {\"index\": 2071, \"location\": \"China\", \"date\": \"2020-03-20T00:00:00\", \"total_infected\": 105561.05024672803, \"n_days\": 58, \"infected\": 105561.05024672803}, {\"index\": 2072, \"location\": \"China\", \"date\": \"2020-03-21T00:00:00\", \"total_infected\": 110235.02030017681, \"n_days\": 59, \"infected\": 110235.02030017681}, {\"index\": 2073, \"location\": \"China\", \"date\": \"2020-03-22T00:00:00\", \"total_infected\": 115115.94164872426, \"n_days\": 60, \"infected\": 115115.94164872426}, {\"index\": 4963, \"location\": \"Italy\", \"date\": \"2020-02-13T00:00:00\", \"total_infected\": 20.0, \"n_days\": 0, \"infected\": 20.0}, {\"index\": 4964, \"location\": \"Italy\", \"date\": \"2020-02-14T00:00:00\", \"total_infected\": 62.0, \"n_days\": 1, \"infected\": 62.0}, {\"index\": 4965, \"location\": \"Italy\", \"date\": \"2020-02-15T00:00:00\", \"total_infected\": 155.0, \"n_days\": 2, \"infected\": 155.0}, {\"index\": 4966, \"location\": \"Italy\", \"date\": \"2020-02-16T00:00:00\", \"total_infected\": 229.0, \"n_days\": 3, \"infected\": 229.0}, {\"index\": 4967, \"location\": \"Italy\", \"date\": \"2020-02-17T00:00:00\", \"total_infected\": 322.0, \"n_days\": 4, \"infected\": 322.0}, {\"index\": 4968, \"location\": \"Italy\", \"date\": \"2020-02-18T00:00:00\", \"total_infected\": 453.0, \"n_days\": 5, \"infected\": 453.0}, {\"index\": 4969, \"location\": \"Italy\", \"date\": \"2020-02-19T00:00:00\", \"total_infected\": 655.0, \"n_days\": 6, \"infected\": 655.0}, {\"index\": 4970, \"location\": \"Italy\", \"date\": \"2020-02-20T00:00:00\", \"total_infected\": 888.0, \"n_days\": 7, \"infected\": 888.0}, {\"index\": 4971, \"location\": \"Italy\", \"date\": \"2020-02-21T00:00:00\", \"total_infected\": 1128.0, \"n_days\": 8, \"infected\": 1128.0}, {\"index\": 4972, \"location\": \"Italy\", \"date\": \"2020-02-22T00:00:00\", \"total_infected\": 1694.0, \"n_days\": 9, \"infected\": 1694.0}, {\"index\": 4973, \"location\": \"Italy\", \"date\": \"2020-02-23T00:00:00\", \"total_infected\": 2036.0, \"n_days\": 10, \"infected\": 2036.0}, {\"index\": 4974, \"location\": \"Italy\", \"date\": \"2020-02-24T00:00:00\", \"total_infected\": 2502.0, \"n_days\": 11, \"infected\": 2502.0}, {\"index\": 4975, \"location\": \"Italy\", \"date\": \"2020-02-25T00:00:00\", \"total_infected\": 3089.0, \"n_days\": 12, \"infected\": 3089.0}, {\"index\": 4976, \"location\": \"Italy\", \"date\": \"2020-02-26T00:00:00\", \"total_infected\": 3858.0, \"n_days\": 13, \"infected\": 3858.0}, {\"index\": 4977, \"location\": \"Italy\", \"date\": \"2020-02-27T00:00:00\", \"total_infected\": 4636.0, \"n_days\": 14, \"infected\": 4636.0}, {\"index\": 4978, \"location\": \"Italy\", \"date\": \"2020-02-28T00:00:00\", \"total_infected\": 5883.0, \"n_days\": 15, \"infected\": 5883.0}, {\"index\": 4979, \"location\": \"Italy\", \"date\": \"2020-02-29T00:00:00\", \"total_infected\": 7375.0, \"n_days\": 16, \"infected\": 7375.0}, {\"index\": 4980, \"location\": \"Italy\", \"date\": \"2020-03-01T00:00:00\", \"total_infected\": 9172.0, \"n_days\": 17, \"infected\": 9172.0}, {\"index\": 4981, \"location\": \"Italy\", \"date\": \"2020-03-02T00:00:00\", \"total_infected\": 10149.0, \"n_days\": 18, \"infected\": 10149.0}, {\"index\": 4982, \"location\": \"Italy\", \"date\": \"2020-03-03T00:00:00\", \"total_infected\": 12461.999999999998, \"n_days\": 19, \"infected\": 12461.999999999998}, {\"index\": 4983, \"location\": \"Italy\", \"date\": \"2020-03-04T00:00:00\", \"total_infected\": 12461.999999999998, \"n_days\": 20, \"infected\": 12461.999999999998}, {\"index\": 4984, \"location\": \"Italy\", \"date\": \"2020-03-05T00:00:00\", \"total_infected\": 17660.0, \"n_days\": 21, \"infected\": 17660.0}, {\"index\": 4985, \"location\": \"Italy\", \"date\": \"2020-03-06T00:00:00\", \"total_infected\": 21157.0, \"n_days\": 22, \"infected\": 21157.0}, {\"index\": 4986, \"location\": \"Italy\", \"date\": \"2020-03-07T00:00:00\", \"total_infected\": 24747.0, \"n_days\": 23, \"infected\": 24747.0}, {\"index\": 4987, \"location\": \"Italy\", \"date\": \"2020-03-08T00:00:00\", \"total_infected\": 27980.0, \"n_days\": 24, \"infected\": 27980.0}, {\"index\": 4988, \"location\": \"Italy\", \"date\": \"2020-03-09T00:00:00\", \"total_infected\": 31505.999999999996, \"n_days\": 25, \"infected\": 31505.999999999996}, {\"index\": 4989, \"location\": \"Italy\", \"date\": \"2020-03-10T00:00:00\", \"total_infected\": 35713.0, \"n_days\": 26, \"infected\": 35713.0}, {\"index\": 4990, \"location\": \"Italy\", \"date\": \"2020-03-11T00:00:00\", \"total_infected\": 41035.0, \"n_days\": 27, \"infected\": 41035.0}, {\"index\": 4991, \"location\": \"Italy\", \"date\": \"2020-03-12T00:00:00\", \"total_infected\": 47021.0, \"n_days\": 28, \"infected\": 47021.0}, {\"index\": 4992, \"location\": \"Italy\", \"date\": \"2020-03-13T00:00:00\", \"total_infected\": 53578.0, \"n_days\": 29, \"infected\": 53578.0}, {\"index\": 4993, \"location\": \"Italy\", \"date\": \"2020-03-14T00:00:00\", \"total_infected\": 59138.0, \"n_days\": 30, \"infected\": 59138.0}, {\"index\": 4994, \"location\": \"Italy\", \"date\": \"2020-03-15T00:00:00\", \"total_infected\": 74892.15957056181, \"n_days\": 31, \"infected\": 74892.15957056181}, {\"index\": 4995, \"location\": \"Italy\", \"date\": \"2020-03-16T00:00:00\", \"total_infected\": 94843.1730045401, \"n_days\": 32, \"infected\": 94843.1730045401}, {\"index\": 4996, \"location\": \"Italy\", \"date\": \"2020-03-17T00:00:00\", \"total_infected\": 120109.06772015315, \"n_days\": 33, \"infected\": 120109.06772015315}, {\"index\": 4997, \"location\": \"Italy\", \"date\": \"2020-03-18T00:00:00\", \"total_infected\": 152105.709790137, \"n_days\": 34, \"infected\": 152105.709790137}, {\"index\": 4998, \"location\": \"Italy\", \"date\": \"2020-03-19T00:00:00\", \"total_infected\": 192626.1471337635, \"n_days\": 35, \"infected\": 192626.1471337635}, {\"index\": 4999, \"location\": \"Italy\", \"date\": \"2020-03-20T00:00:00\", \"total_infected\": 243941.08946200975, \"n_days\": 36, \"infected\": 243941.08946200975}, {\"index\": 5000, \"location\": \"Italy\", \"date\": \"2020-03-21T00:00:00\", \"total_infected\": 308926.15573413926, \"n_days\": 37, \"infected\": 308926.15573413926}, {\"index\": 5001, \"location\": \"Italy\", \"date\": \"2020-03-22T00:00:00\", \"total_infected\": 391223.0198985658, \"n_days\": 38, \"infected\": 391223.0198985658}, {\"index\": 8878, \"location\": \"Spain\", \"date\": \"2020-02-24T00:00:00\", \"total_infected\": 165.0, \"n_days\": 0, \"infected\": 165.0}, {\"index\": 8879, \"location\": \"Spain\", \"date\": \"2020-02-25T00:00:00\", \"total_infected\": 222.0, \"n_days\": 1, \"infected\": 222.0}, {\"index\": 8880, \"location\": \"Spain\", \"date\": \"2020-02-26T00:00:00\", \"total_infected\": 259.0, \"n_days\": 2, \"infected\": 259.0}, {\"index\": 8881, \"location\": \"Spain\", \"date\": \"2020-02-27T00:00:00\", \"total_infected\": 400.0, \"n_days\": 3, \"infected\": 400.0}, {\"index\": 8882, \"location\": \"Spain\", \"date\": \"2020-02-28T00:00:00\", \"total_infected\": 500.0, \"n_days\": 4, \"infected\": 500.0}, {\"index\": 8883, \"location\": \"Spain\", \"date\": \"2020-02-29T00:00:00\", \"total_infected\": 673.0, \"n_days\": 5, \"infected\": 673.0}, {\"index\": 8884, \"location\": \"Spain\", \"date\": \"2020-03-01T00:00:00\", \"total_infected\": 1073.0, \"n_days\": 6, \"infected\": 1073.0}, {\"index\": 8885, \"location\": \"Spain\", \"date\": \"2020-03-02T00:00:00\", \"total_infected\": 1695.0, \"n_days\": 7, \"infected\": 1695.0}, {\"index\": 8886, \"location\": \"Spain\", \"date\": \"2020-03-03T00:00:00\", \"total_infected\": 2277.0, \"n_days\": 8, \"infected\": 2277.0}, {\"index\": 8887, \"location\": \"Spain\", \"date\": \"2020-03-04T00:00:00\", \"total_infected\": 2277.0, \"n_days\": 9, \"infected\": 2277.0}, {\"index\": 8888, \"location\": \"Spain\", \"date\": \"2020-03-05T00:00:00\", \"total_infected\": 5232.0, \"n_days\": 10, \"infected\": 5232.0}, {\"index\": 8889, \"location\": \"Spain\", \"date\": \"2020-03-06T00:00:00\", \"total_infected\": 6391.0, \"n_days\": 11, \"infected\": 6391.0}, {\"index\": 8890, \"location\": \"Spain\", \"date\": \"2020-03-07T00:00:00\", \"total_infected\": 7798.0, \"n_days\": 12, \"infected\": 7798.0}, {\"index\": 8891, \"location\": \"Spain\", \"date\": \"2020-03-08T00:00:00\", \"total_infected\": 9942.0, \"n_days\": 13, \"infected\": 9942.0}, {\"index\": 8892, \"location\": \"Spain\", \"date\": \"2020-03-09T00:00:00\", \"total_infected\": 11748.0, \"n_days\": 14, \"infected\": 11748.0}, {\"index\": 8893, \"location\": \"Spain\", \"date\": \"2020-03-10T00:00:00\", \"total_infected\": 13909.999999999998, \"n_days\": 15, \"infected\": 13909.999999999998}, {\"index\": 8894, \"location\": \"Spain\", \"date\": \"2020-03-11T00:00:00\", \"total_infected\": 17963.0, \"n_days\": 16, \"infected\": 17963.0}, {\"index\": 8895, \"location\": \"Spain\", \"date\": \"2020-03-12T00:00:00\", \"total_infected\": 20410.0, \"n_days\": 17, \"infected\": 20410.0}, {\"index\": 8896, \"location\": \"Spain\", \"date\": \"2020-03-13T00:00:00\", \"total_infected\": 25374.0, \"n_days\": 18, \"infected\": 25374.0}, {\"index\": 8897, \"location\": \"Spain\", \"date\": \"2020-03-14T00:00:00\", \"total_infected\": 28768.0, \"n_days\": 19, \"infected\": 28768.0}, {\"index\": 8898, \"location\": \"Spain\", \"date\": \"2020-03-15T00:00:00\", \"total_infected\": 36582.408494434225, \"n_days\": 20, \"infected\": 36582.408494434225}, {\"index\": 8899, \"location\": \"Spain\", \"date\": \"2020-03-16T00:00:00\", \"total_infected\": 46519.48732110864, \"n_days\": 21, \"infected\": 46519.48732110864}, {\"index\": 8900, \"location\": \"Spain\", \"date\": \"2020-03-17T00:00:00\", \"total_infected\": 59155.82898124478, \"n_days\": 22, \"infected\": 59155.82898124478}, {\"index\": 8901, \"location\": \"Spain\", \"date\": \"2020-03-18T00:00:00\", \"total_infected\": 75224.64893697119, \"n_days\": 23, \"infected\": 75224.64893697119}, {\"index\": 8902, \"location\": \"Spain\", \"date\": \"2020-03-19T00:00:00\", \"total_infected\": 95658.32995907562, \"n_days\": 24, \"infected\": 95658.32995907562}, {\"index\": 8903, \"location\": \"Spain\", \"date\": \"2020-03-20T00:00:00\", \"total_infected\": 121642.52302760983, \"n_days\": 25, \"infected\": 121642.52302760983}, {\"index\": 8904, \"location\": \"Spain\", \"date\": \"2020-03-21T00:00:00\", \"total_infected\": 154684.943954729, \"n_days\": 26, \"infected\": 154684.943954729}, {\"index\": 8905, \"location\": \"Spain\", \"date\": \"2020-03-22T00:00:00\", \"total_infected\": 196702.85760882092, \"n_days\": 27, \"infected\": 196702.85760882092}, {\"index\": 3615, \"location\": \"France\", \"date\": \"2020-02-07T00:00:00\", \"total_infected\": 12.0, \"n_days\": 0, \"infected\": 12.0}, {\"index\": 3616, \"location\": \"France\", \"date\": \"2020-02-08T00:00:00\", \"total_infected\": 12.0, \"n_days\": 1, \"infected\": 12.0}, {\"index\": 3617, \"location\": \"France\", \"date\": \"2020-02-09T00:00:00\", \"total_infected\": 12.0, \"n_days\": 2, \"infected\": 12.0}, {\"index\": 3618, \"location\": \"France\", \"date\": \"2020-02-10T00:00:00\", \"total_infected\": 12.0, \"n_days\": 3, \"infected\": 12.0}, {\"index\": 3619, \"location\": \"France\", \"date\": \"2020-02-11T00:00:00\", \"total_infected\": 12.0, \"n_days\": 4, \"infected\": 12.0}, {\"index\": 3620, \"location\": \"France\", \"date\": \"2020-02-12T00:00:00\", \"total_infected\": 12.0, \"n_days\": 5, \"infected\": 12.0}, {\"index\": 3621, \"location\": \"France\", \"date\": \"2020-02-13T00:00:00\", \"total_infected\": 12.0, \"n_days\": 6, \"infected\": 12.0}, {\"index\": 3622, \"location\": \"France\", \"date\": \"2020-02-14T00:00:00\", \"total_infected\": 12.0, \"n_days\": 7, \"infected\": 12.0}, {\"index\": 3623, \"location\": \"France\", \"date\": \"2020-02-15T00:00:00\", \"total_infected\": 12.0, \"n_days\": 8, \"infected\": 12.0}, {\"index\": 3624, \"location\": \"France\", \"date\": \"2020-02-16T00:00:00\", \"total_infected\": 12.0, \"n_days\": 9, \"infected\": 12.0}, {\"index\": 3625, \"location\": \"France\", \"date\": \"2020-02-17T00:00:00\", \"total_infected\": 14.0, \"n_days\": 10, \"infected\": 14.0}, {\"index\": 3626, \"location\": \"France\", \"date\": \"2020-02-18T00:00:00\", \"total_infected\": 18.0, \"n_days\": 11, \"infected\": 18.0}, {\"index\": 3627, \"location\": \"France\", \"date\": \"2020-02-19T00:00:00\", \"total_infected\": 38.0, \"n_days\": 12, \"infected\": 38.0}, {\"index\": 3628, \"location\": \"France\", \"date\": \"2020-02-20T00:00:00\", \"total_infected\": 57.0, \"n_days\": 13, \"infected\": 57.0}, {\"index\": 3629, \"location\": \"France\", \"date\": \"2020-02-21T00:00:00\", \"total_infected\": 100.0, \"n_days\": 14, \"infected\": 100.0}, {\"index\": 3630, \"location\": \"France\", \"date\": \"2020-02-22T00:00:00\", \"total_infected\": 130.0, \"n_days\": 15, \"infected\": 130.0}, {\"index\": 3631, \"location\": \"France\", \"date\": \"2020-02-23T00:00:00\", \"total_infected\": 191.0, \"n_days\": 16, \"infected\": 191.0}, {\"index\": 3632, \"location\": \"France\", \"date\": \"2020-02-24T00:00:00\", \"total_infected\": 204.0, \"n_days\": 17, \"infected\": 204.0}, {\"index\": 3633, \"location\": \"France\", \"date\": \"2020-02-25T00:00:00\", \"total_infected\": 288.0, \"n_days\": 18, \"infected\": 288.0}, {\"index\": 3634, \"location\": \"France\", \"date\": \"2020-02-26T00:00:00\", \"total_infected\": 380.0, \"n_days\": 19, \"infected\": 380.0}, {\"index\": 3635, \"location\": \"France\", \"date\": \"2020-02-27T00:00:00\", \"total_infected\": 656.0, \"n_days\": 20, \"infected\": 656.0}, {\"index\": 3636, \"location\": \"France\", \"date\": \"2020-02-28T00:00:00\", \"total_infected\": 957.0, \"n_days\": 21, \"infected\": 957.0}, {\"index\": 3637, \"location\": \"France\", \"date\": \"2020-02-29T00:00:00\", \"total_infected\": 1134.0, \"n_days\": 22, \"infected\": 1134.0}, {\"index\": 3638, \"location\": \"France\", \"date\": \"2020-03-01T00:00:00\", \"total_infected\": 1217.0, \"n_days\": 23, \"infected\": 1217.0}, {\"index\": 3639, \"location\": \"France\", \"date\": \"2020-03-02T00:00:00\", \"total_infected\": 1792.0, \"n_days\": 24, \"infected\": 1792.0}, {\"index\": 3640, \"location\": \"France\", \"date\": \"2020-03-03T00:00:00\", \"total_infected\": 2290.0, \"n_days\": 25, \"infected\": 2290.0}, {\"index\": 3641, \"location\": \"France\", \"date\": \"2020-03-04T00:00:00\", \"total_infected\": 2290.0, \"n_days\": 26, \"infected\": 2290.0}, {\"index\": 3642, \"location\": \"France\", \"date\": \"2020-03-05T00:00:00\", \"total_infected\": 3678.0, \"n_days\": 27, \"infected\": 3678.0}, {\"index\": 3643, \"location\": \"France\", \"date\": \"2020-03-06T00:00:00\", \"total_infected\": 4487.0, \"n_days\": 28, \"infected\": 4487.0}, {\"index\": 3644, \"location\": \"France\", \"date\": \"2020-03-07T00:00:00\", \"total_infected\": 4523.0, \"n_days\": 29, \"infected\": 4523.0}, {\"index\": 3645, \"location\": \"France\", \"date\": \"2020-03-08T00:00:00\", \"total_infected\": 6668.0, \"n_days\": 30, \"infected\": 6668.0}, {\"index\": 3646, \"location\": \"France\", \"date\": \"2020-03-09T00:00:00\", \"total_infected\": 7699.0, \"n_days\": 31, \"infected\": 7699.0}, {\"index\": 3647, \"location\": \"France\", \"date\": \"2020-03-10T00:00:00\", \"total_infected\": 9105.0, \"n_days\": 32, \"infected\": 9105.0}, {\"index\": 3648, \"location\": \"France\", \"date\": \"2020-03-11T00:00:00\", \"total_infected\": 10947.0, \"n_days\": 33, \"infected\": 10947.0}, {\"index\": 3649, \"location\": \"France\", \"date\": \"2020-03-12T00:00:00\", \"total_infected\": 12726.0, \"n_days\": 34, \"infected\": 12726.0}, {\"index\": 3650, \"location\": \"France\", \"date\": \"2020-03-13T00:00:00\", \"total_infected\": 14431.000000000002, \"n_days\": 35, \"infected\": 14431.000000000002}, {\"index\": 3651, \"location\": \"France\", \"date\": \"2020-03-14T00:00:00\", \"total_infected\": 16176.0, \"n_days\": 36, \"infected\": 16176.0}, {\"index\": 3652, \"location\": \"France\", \"date\": \"2020-03-15T00:00:00\", \"total_infected\": 19414.065529634867, \"n_days\": 37, \"infected\": 19414.065529634867}, {\"index\": 3653, \"location\": \"France\", \"date\": \"2020-03-16T00:00:00\", \"total_infected\": 23300.317778743614, \"n_days\": 38, \"infected\": 23300.317778743614}, {\"index\": 3654, \"location\": \"France\", \"date\": \"2020-03-17T00:00:00\", \"total_infected\": 27964.508915544317, \"n_days\": 39, \"infected\": 27964.508915544317}, {\"index\": 3655, \"location\": \"France\", \"date\": \"2020-03-18T00:00:00\", \"total_infected\": 33562.364527104095, \"n_days\": 40, \"infected\": 33562.364527104095}, {\"index\": 3656, \"location\": \"France\", \"date\": \"2020-03-19T00:00:00\", \"total_infected\": 40280.782904221785, \"n_days\": 41, \"infected\": 40280.782904221785}, {\"index\": 3657, \"location\": \"France\", \"date\": \"2020-03-20T00:00:00\", \"total_infected\": 48344.07510432477, \"n_days\": 42, \"infected\": 48344.07510432477}, {\"index\": 3658, \"location\": \"France\", \"date\": \"2020-03-21T00:00:00\", \"total_infected\": 58021.45413235353, \"n_days\": 43, \"infected\": 58021.45413235353}, {\"index\": 3659, \"location\": \"France\", \"date\": \"2020-03-22T00:00:00\", \"total_infected\": 69636.02328450885, \"n_days\": 44, \"infected\": 69636.02328450885}, {\"index\": 9978, \"location\": \"United Kingdom\", \"date\": \"2020-02-26T00:00:00\", \"total_infected\": 116.0, \"n_days\": 0, \"infected\": 116.0}, {\"index\": 9979, \"location\": \"United Kingdom\", \"date\": \"2020-02-27T00:00:00\", \"total_infected\": 164.0, \"n_days\": 1, \"infected\": 164.0}, {\"index\": 9980, \"location\": \"United Kingdom\", \"date\": \"2020-02-28T00:00:00\", \"total_infected\": 207.0, \"n_days\": 2, \"infected\": 207.0}, {\"index\": 9981, \"location\": \"United Kingdom\", \"date\": \"2020-02-29T00:00:00\", \"total_infected\": 274.0, \"n_days\": 3, \"infected\": 274.0}, {\"index\": 9982, \"location\": \"United Kingdom\", \"date\": \"2020-03-01T00:00:00\", \"total_infected\": 322.0, \"n_days\": 4, \"infected\": 322.0}, {\"index\": 9983, \"location\": \"United Kingdom\", \"date\": \"2020-03-02T00:00:00\", \"total_infected\": 384.0, \"n_days\": 5, \"infected\": 384.0}, {\"index\": 9984, \"location\": \"United Kingdom\", \"date\": \"2020-03-03T00:00:00\", \"total_infected\": 458.99999999999994, \"n_days\": 6, \"infected\": 458.99999999999994}, {\"index\": 9985, \"location\": \"United Kingdom\", \"date\": \"2020-03-04T00:00:00\", \"total_infected\": 458.99999999999994, \"n_days\": 7, \"infected\": 458.99999999999994}, {\"index\": 9986, \"location\": \"United Kingdom\", \"date\": \"2020-03-05T00:00:00\", \"total_infected\": 802.0, \"n_days\": 8, \"infected\": 802.0}, {\"index\": 9987, \"location\": \"United Kingdom\", \"date\": \"2020-03-06T00:00:00\", \"total_infected\": 1144.0, \"n_days\": 9, \"infected\": 1144.0}, {\"index\": 9988, \"location\": \"United Kingdom\", \"date\": \"2020-03-07T00:00:00\", \"total_infected\": 1145.0, \"n_days\": 10, \"infected\": 1145.0}, {\"index\": 9989, \"location\": \"United Kingdom\", \"date\": \"2020-03-08T00:00:00\", \"total_infected\": 1551.0, \"n_days\": 11, \"infected\": 1551.0}, {\"index\": 9990, \"location\": \"United Kingdom\", \"date\": \"2020-03-09T00:00:00\", \"total_infected\": 1960.0, \"n_days\": 12, \"infected\": 1960.0}, {\"index\": 9991, \"location\": \"United Kingdom\", \"date\": \"2020-03-10T00:00:00\", \"total_infected\": 2642.0, \"n_days\": 13, \"infected\": 2642.0}, {\"index\": 9992, \"location\": \"United Kingdom\", \"date\": \"2020-03-11T00:00:00\", \"total_infected\": 2716.0, \"n_days\": 14, \"infected\": 2716.0}, {\"index\": 9993, \"location\": \"United Kingdom\", \"date\": \"2020-03-12T00:00:00\", \"total_infected\": 4014.0, \"n_days\": 15, \"infected\": 4014.0}, {\"index\": 9994, \"location\": \"United Kingdom\", \"date\": \"2020-03-13T00:00:00\", \"total_infected\": 5067.0, \"n_days\": 16, \"infected\": 5067.0}, {\"index\": 9995, \"location\": \"United Kingdom\", \"date\": \"2020-03-14T00:00:00\", \"total_infected\": 5741.0, \"n_days\": 17, \"infected\": 5741.0}, {\"index\": 9996, \"location\": \"United Kingdom\", \"date\": \"2020-03-15T00:00:00\", \"total_infected\": 7058.660304888869, \"n_days\": 18, \"infected\": 7058.660304888869}, {\"index\": 9997, \"location\": \"United Kingdom\", \"date\": \"2020-03-16T00:00:00\", \"total_infected\": 8678.74678624174, \"n_days\": 19, \"infected\": 8678.74678624174}, {\"index\": 9998, \"location\": \"United Kingdom\", \"date\": \"2020-03-17T00:00:00\", \"total_infected\": 10670.671561788262, \"n_days\": 20, \"infected\": 10670.671561788262}, {\"index\": 9999, \"location\": \"United Kingdom\", \"date\": \"2020-03-18T00:00:00\", \"total_infected\": 13119.778049068336, \"n_days\": 21, \"infected\": 13119.778049068336}, {\"index\": 10000, \"location\": \"United Kingdom\", \"date\": \"2020-03-19T00:00:00\", \"total_infected\": 16130.997478472565, \"n_days\": 22, \"infected\": 16130.997478472565}, {\"index\": 10001, \"location\": \"United Kingdom\", \"date\": \"2020-03-20T00:00:00\", \"total_infected\": 19833.344640229356, \"n_days\": 23, \"infected\": 19833.344640229356}, {\"index\": 10002, \"location\": \"United Kingdom\", \"date\": \"2020-03-21T00:00:00\", \"total_infected\": 24385.445484265347, \"n_days\": 24, \"infected\": 24385.445484265347}, {\"index\": 10003, \"location\": \"United Kingdom\", \"date\": \"2020-03-22T00:00:00\", \"total_infected\": 29982.333401291646, \"n_days\": 25, \"infected\": 29982.333401291646}, {\"index\": 3882, \"location\": \"Germany\", \"date\": \"2020-03-01T00:00:00\", \"total_infected\": 1176.0, \"n_days\": 0, \"infected\": 1176.0}, {\"index\": 3883, \"location\": \"Germany\", \"date\": \"2020-03-02T00:00:00\", \"total_infected\": 1457.0, \"n_days\": 1, \"infected\": 1457.0}, {\"index\": 3884, \"location\": \"Germany\", \"date\": \"2020-03-03T00:00:00\", \"total_infected\": 1908.0, \"n_days\": 2, \"infected\": 1908.0}, {\"index\": 3885, \"location\": \"Germany\", \"date\": \"2020-03-04T00:00:00\", \"total_infected\": 2078.0, \"n_days\": 3, \"infected\": 2078.0}, {\"index\": 3886, \"location\": \"Germany\", \"date\": \"2020-03-05T00:00:00\", \"total_infected\": 3675.0, \"n_days\": 4, \"infected\": 3675.0}, {\"index\": 3887, \"location\": \"Germany\", \"date\": \"2020-03-06T00:00:00\", \"total_infected\": 4585.0, \"n_days\": 5, \"infected\": 4585.0}, {\"index\": 3888, \"location\": \"Germany\", \"date\": \"2020-03-07T00:00:00\", \"total_infected\": 5795.0, \"n_days\": 6, \"infected\": 5795.0}, {\"index\": 3889, \"location\": \"Germany\", \"date\": \"2020-03-08T00:00:00\", \"total_infected\": 7272.0, \"n_days\": 7, \"infected\": 7272.0}, {\"index\": 3890, \"location\": \"Germany\", \"date\": \"2020-03-09T00:00:00\", \"total_infected\": 9257.0, \"n_days\": 8, \"infected\": 9257.0}, {\"index\": 3891, \"location\": \"Germany\", \"date\": \"2020-03-10T00:00:00\", \"total_infected\": 12327.0, \"n_days\": 9, \"infected\": 12327.0}, {\"index\": 3892, \"location\": \"Germany\", \"date\": \"2020-03-11T00:00:00\", \"total_infected\": 15320.0, \"n_days\": 10, \"infected\": 15320.0}, {\"index\": 3893, \"location\": \"Germany\", \"date\": \"2020-03-12T00:00:00\", \"total_infected\": 19848.0, \"n_days\": 11, \"infected\": 19848.0}, {\"index\": 3894, \"location\": \"Germany\", \"date\": \"2020-03-13T00:00:00\", \"total_infected\": 22213.0, \"n_days\": 12, \"infected\": 22213.0}, {\"index\": 3895, \"location\": \"Germany\", \"date\": \"2020-03-14T00:00:00\", \"total_infected\": 24873.0, \"n_days\": 13, \"infected\": 24873.0}, {\"index\": 3896, \"location\": \"Germany\", \"date\": \"2020-03-15T00:00:00\", \"total_infected\": 30711.77225973435, \"n_days\": 14, \"infected\": 30711.77225973435}, {\"index\": 3897, \"location\": \"Germany\", \"date\": \"2020-03-16T00:00:00\", \"total_infected\": 37921.15769443928, \"n_days\": 15, \"infected\": 37921.15769443928}, {\"index\": 3898, \"location\": \"Germany\", \"date\": \"2020-03-17T00:00:00\", \"total_infected\": 46822.89868279226, \"n_days\": 16, \"infected\": 46822.89868279226}, {\"index\": 3899, \"location\": \"Germany\", \"date\": \"2020-03-18T00:00:00\", \"total_infected\": 57814.26449911677, \"n_days\": 17, \"infected\": 57814.26449911677}, {\"index\": 3900, \"location\": \"Germany\", \"date\": \"2020-03-19T00:00:00\", \"total_infected\": 71385.78075266027, \"n_days\": 18, \"infected\": 71385.78075266027}, {\"index\": 3901, \"location\": \"Germany\", \"date\": \"2020-03-20T00:00:00\", \"total_infected\": 88143.1206954943, \"n_days\": 19, \"infected\": 88143.1206954943}, {\"index\": 3902, \"location\": \"Germany\", \"date\": \"2020-03-21T00:00:00\", \"total_infected\": 108834.13537017241, \"n_days\": 20, \"infected\": 108834.13537017241}, {\"index\": 3903, \"location\": \"Germany\", \"date\": \"2020-03-22T00:00:00\", \"total_infected\": 134382.2289057948, \"n_days\": 21, \"infected\": 134382.2289057948}, {\"index\": 7794, \"location\": \"Portugal\", \"date\": \"2020-03-09T00:00:00\", \"total_infected\": 448.0, \"n_days\": 0, \"infected\": 448.0}, {\"index\": 7795, \"location\": \"Portugal\", \"date\": \"2020-03-10T00:00:00\", \"total_infected\": 448.0, \"n_days\": 1, \"infected\": 448.0}, {\"index\": 7796, \"location\": \"Portugal\", \"date\": \"2020-03-11T00:00:00\", \"total_infected\": 785.0, \"n_days\": 2, \"infected\": 785.0}, {\"index\": 7797, \"location\": \"Portugal\", \"date\": \"2020-03-12T00:00:00\", \"total_infected\": 1020.0, \"n_days\": 3, \"infected\": 1020.0}, {\"index\": 7798, \"location\": \"Portugal\", \"date\": \"2020-03-13T00:00:00\", \"total_infected\": 1280.0, \"n_days\": 4, \"infected\": 1280.0}, {\"index\": 7799, \"location\": \"Portugal\", \"date\": \"2020-03-14T00:00:00\", \"total_infected\": 1599.9999999999998, \"n_days\": 5, \"infected\": 1599.9999999999998}, {\"index\": 7800, \"location\": \"Portugal\", \"date\": \"2020-03-15T00:00:00\", \"total_infected\": 2007.3490162601236, \"n_days\": 6, \"infected\": 2007.3490162601236}, {\"index\": 7801, \"location\": \"Portugal\", \"date\": \"2020-03-16T00:00:00\", \"total_infected\": 2518.406295675304, \"n_days\": 7, \"infected\": 2518.406295675304}, {\"index\": 7802, \"location\": \"Portugal\", \"date\": \"2020-03-17T00:00:00\", \"total_infected\": 3159.5752501044526, \"n_days\": 8, \"infected\": 3159.5752501044526}, {\"index\": 7803, \"location\": \"Portugal\", \"date\": \"2020-03-18T00:00:00\", \"total_infected\": 3963.9814188106297, \"n_days\": 9, \"infected\": 3963.9814188106297}, {\"index\": 7804, \"location\": \"Portugal\", \"date\": \"2020-03-19T00:00:00\", \"total_infected\": 4973.18387595183, \"n_days\": 10, \"infected\": 4973.18387595183}, {\"index\": 7805, \"location\": \"Portugal\", \"date\": \"2020-03-20T00:00:00\", \"total_infected\": 6239.322350670384, \"n_days\": 11, \"infected\": 6239.322350670384}, {\"index\": 7806, \"location\": \"Portugal\", \"date\": \"2020-03-21T00:00:00\", \"total_infected\": 7827.8109892175, \"n_days\": 12, \"infected\": 7827.8109892175}, {\"index\": 7807, \"location\": \"Portugal\", \"date\": \"2020-03-22T00:00:00\", \"total_infected\": 9820.71793042246, \"n_days\": 13, \"infected\": 9820.71793042246}, {\"index\": 10034, \"location\": \"United States\", \"date\": \"2020-02-21T00:00:00\", \"total_infected\": 68.0, \"n_days\": 0, \"infected\": 68.0}, {\"index\": 10035, \"location\": \"United States\", \"date\": \"2020-02-22T00:00:00\", \"total_infected\": 74.0, \"n_days\": 1, \"infected\": 74.0}, {\"index\": 10036, \"location\": \"United States\", \"date\": \"2020-02-23T00:00:00\", \"total_infected\": 98.0, \"n_days\": 2, \"infected\": 98.0}, {\"index\": 10037, \"location\": \"United States\", \"date\": \"2020-02-24T00:00:00\", \"total_infected\": 118.0, \"n_days\": 3, \"infected\": 118.0}, {\"index\": 10038, \"location\": \"United States\", \"date\": \"2020-02-25T00:00:00\", \"total_infected\": 149.0, \"n_days\": 4, \"infected\": 149.0}, {\"index\": 10039, \"location\": \"United States\", \"date\": \"2020-02-26T00:00:00\", \"total_infected\": 217.0, \"n_days\": 5, \"infected\": 217.0}, {\"index\": 10040, \"location\": \"United States\", \"date\": \"2020-02-27T00:00:00\", \"total_infected\": 262.0, \"n_days\": 6, \"infected\": 262.0}, {\"index\": 10041, \"location\": \"United States\", \"date\": \"2020-02-28T00:00:00\", \"total_infected\": 402.0, \"n_days\": 7, \"infected\": 402.0}, {\"index\": 10042, \"location\": \"United States\", \"date\": \"2020-02-29T00:00:00\", \"total_infected\": 518.0, \"n_days\": 8, \"infected\": 518.0}, {\"index\": 10043, \"location\": \"United States\", \"date\": \"2020-03-01T00:00:00\", \"total_infected\": 583.0, \"n_days\": 9, \"infected\": 583.0}, {\"index\": 10044, \"location\": \"United States\", \"date\": \"2020-03-02T00:00:00\", \"total_infected\": 959.0, \"n_days\": 10, \"infected\": 959.0}, {\"index\": 10045, \"location\": \"United States\", \"date\": \"2020-03-03T00:00:00\", \"total_infected\": 1281.0, \"n_days\": 11, \"infected\": 1281.0}, {\"index\": 10046, \"location\": \"United States\", \"date\": \"2020-03-04T00:00:00\", \"total_infected\": 1663.0, \"n_days\": 12, \"infected\": 1663.0}, {\"index\": 10047, \"location\": \"United States\", \"date\": \"2020-03-05T00:00:00\", \"total_infected\": 2179.0, \"n_days\": 13, \"infected\": 2179.0}, {\"index\": 10048, \"location\": \"United States\", \"date\": \"2020-03-06T00:00:00\", \"total_infected\": 2727.0, \"n_days\": 14, \"infected\": 2727.0}, {\"index\": 10049, \"location\": \"United States\", \"date\": \"2020-03-07T00:00:00\", \"total_infected\": 3499.0, \"n_days\": 15, \"infected\": 3499.0}, {\"index\": 10050, \"location\": \"United States\", \"date\": \"2020-03-08T00:00:00\", \"total_infected\": 4632.0, \"n_days\": 16, \"infected\": 4632.0}, {\"index\": 10051, \"location\": \"United States\", \"date\": \"2020-03-09T00:00:00\", \"total_infected\": 6421.0, \"n_days\": 17, \"infected\": 6421.0}, {\"index\": 10052, \"location\": \"United States\", \"date\": \"2020-03-10T00:00:00\", \"total_infected\": 7783.0, \"n_days\": 18, \"infected\": 7783.0}, {\"index\": 10053, \"location\": \"United States\", \"date\": \"2020-03-11T00:00:00\", \"total_infected\": 13677.0, \"n_days\": 19, \"infected\": 13677.0}, {\"index\": 10054, \"location\": \"United States\", \"date\": \"2020-03-12T00:00:00\", \"total_infected\": 19100.0, \"n_days\": 20, \"infected\": 19100.0}, {\"index\": 10055, \"location\": \"United States\", \"date\": \"2020-03-13T00:00:00\", \"total_infected\": 25489.0, \"n_days\": 21, \"infected\": 25489.0}, {\"index\": 10056, \"location\": \"United States\", \"date\": \"2020-03-14T00:00:00\", \"total_infected\": 33272.0, \"n_days\": 22, \"infected\": 33272.0}, {\"index\": 10057, \"location\": \"United States\", \"date\": \"2020-03-15T00:00:00\", \"total_infected\": 42638.01321651264, \"n_days\": 23, \"infected\": 42638.01321651264}, {\"index\": 10058, \"location\": \"United States\", \"date\": \"2020-03-16T00:00:00\", \"total_infected\": 54640.543732012105, \"n_days\": 24, \"infected\": 54640.543732012105}, {\"index\": 10059, \"location\": \"United States\", \"date\": \"2020-03-17T00:00:00\", \"total_infected\": 70021.76682504716, \"n_days\": 25, \"infected\": 70021.76682504716}, {\"index\": 10060, \"location\": \"United States\", \"date\": \"2020-03-18T00:00:00\", \"total_infected\": 89732.77889306105, \"n_days\": 26, \"infected\": 89732.77889306105}, {\"index\": 10061, \"location\": \"United States\", \"date\": \"2020-03-19T00:00:00\", \"total_infected\": 114992.4084033645, \"n_days\": 27, \"infected\": 114992.4084033645}, {\"index\": 10062, \"location\": \"United States\", \"date\": \"2020-03-20T00:00:00\", \"total_infected\": 147362.58202997342, \"n_days\": 28, \"infected\": 147362.58202997342}, {\"index\": 10063, \"location\": \"United States\", \"date\": \"2020-03-21T00:00:00\", \"total_infected\": 188844.90623387336, \"n_days\": 29, \"infected\": 188844.90623387336}, {\"index\": 10064, \"location\": \"United States\", \"date\": \"2020-03-22T00:00:00\", \"total_infected\": 242004.43639910384, \"n_days\": 30, \"infected\": 242004.43639910384}, {\"index\": 8530, \"location\": \"Singapore\", \"date\": \"2020-03-13T00:00:00\", \"total_infected\": 432.0, \"n_days\": 0, \"infected\": 432.0}, {\"index\": 8531, \"location\": \"Singapore\", \"date\": \"2020-03-14T00:00:00\", \"total_infected\": 455.0, \"n_days\": 1, \"infected\": 455.0}, {\"index\": 8532, \"location\": \"Singapore\", \"date\": \"2020-03-15T00:00:00\", \"total_infected\": 478.601682971612, \"n_days\": 2, \"infected\": 478.601682971612}, {\"index\": 8533, \"location\": \"Singapore\", \"date\": \"2020-03-16T00:00:00\", \"total_infected\": 503.42762844672393, \"n_days\": 3, \"infected\": 503.42762844672393}, {\"index\": 8534, \"location\": \"Singapore\", \"date\": \"2020-03-17T00:00:00\", \"total_infected\": 529.5413411626581, \"n_days\": 4, \"infected\": 529.5413411626581}, {\"index\": 8535, \"location\": \"Singapore\", \"date\": \"2020-03-18T00:00:00\", \"total_infected\": 557.0096199637203, \"n_days\": 5, \"infected\": 557.0096199637203}, {\"index\": 8536, \"location\": \"Singapore\", \"date\": \"2020-03-19T00:00:00\", \"total_infected\": 585.9027286725594, \"n_days\": 6, \"infected\": 585.9027286725594}, {\"index\": 8537, \"location\": \"Singapore\", \"date\": \"2020-03-20T00:00:00\", \"total_infected\": 616.2945758249377, \"n_days\": 7, \"infected\": 616.2945758249377}, {\"index\": 8538, \"location\": \"Singapore\", \"date\": \"2020-03-21T00:00:00\", \"total_infected\": 648.2629037276724, \"n_days\": 8, \"infected\": 648.2629037276724}, {\"index\": 8539, \"location\": \"Singapore\", \"date\": \"2020-03-22T00:00:00\", \"total_infected\": 681.8894873233585, \"n_days\": 9, \"infected\": 681.8894873233585}, {\"index\": 8805, \"location\": \"South Korea\", \"date\": \"2020-02-12T00:00:00\", \"total_infected\": 104.0, \"n_days\": 0, \"infected\": 104.0}, {\"index\": 8806, \"location\": \"South Korea\", \"date\": \"2020-02-13T00:00:00\", \"total_infected\": 204.0, \"n_days\": 1, \"infected\": 204.0}, {\"index\": 8807, \"location\": \"South Korea\", \"date\": \"2020-02-14T00:00:00\", \"total_infected\": 433.0, \"n_days\": 2, \"infected\": 433.0}, {\"index\": 8808, \"location\": \"South Korea\", \"date\": \"2020-02-15T00:00:00\", \"total_infected\": 602.0, \"n_days\": 3, \"infected\": 602.0}, {\"index\": 8809, \"location\": \"South Korea\", \"date\": \"2020-02-16T00:00:00\", \"total_infected\": 833.0000000000001, \"n_days\": 4, \"infected\": 833.0000000000001}, {\"index\": 8810, \"location\": \"South Korea\", \"date\": \"2020-02-17T00:00:00\", \"total_infected\": 976.9999999999999, \"n_days\": 5, \"infected\": 976.9999999999999}, {\"index\": 8811, \"location\": \"South Korea\", \"date\": \"2020-02-18T00:00:00\", \"total_infected\": 1261.0, \"n_days\": 6, \"infected\": 1261.0}, {\"index\": 8812, \"location\": \"South Korea\", \"date\": \"2020-02-19T00:00:00\", \"total_infected\": 1766.0, \"n_days\": 7, \"infected\": 1766.0}, {\"index\": 8813, \"location\": \"South Korea\", \"date\": \"2020-02-20T00:00:00\", \"total_infected\": 2337.0, \"n_days\": 8, \"infected\": 2337.0}, {\"index\": 8814, \"location\": \"South Korea\", \"date\": \"2020-02-21T00:00:00\", \"total_infected\": 3150.0, \"n_days\": 9, \"infected\": 3150.0}, {\"index\": 8815, \"location\": \"South Korea\", \"date\": \"2020-02-22T00:00:00\", \"total_infected\": 3736.0000000000005, \"n_days\": 10, \"infected\": 3736.0000000000005}, {\"index\": 8816, \"location\": \"South Korea\", \"date\": \"2020-02-23T00:00:00\", \"total_infected\": 4335.0, \"n_days\": 11, \"infected\": 4335.0}, {\"index\": 8817, \"location\": \"South Korea\", \"date\": \"2020-02-24T00:00:00\", \"total_infected\": 5186.0, \"n_days\": 12, \"infected\": 5186.0}, {\"index\": 8818, \"location\": \"South Korea\", \"date\": \"2020-02-25T00:00:00\", \"total_infected\": 5621.0, \"n_days\": 13, \"infected\": 5621.0}, {\"index\": 8819, \"location\": \"South Korea\", \"date\": \"2020-02-26T00:00:00\", \"total_infected\": 6088.0, \"n_days\": 14, \"infected\": 6088.0}, {\"index\": 8820, \"location\": \"South Korea\", \"date\": \"2020-02-27T00:00:00\", \"total_infected\": 6593.0, \"n_days\": 15, \"infected\": 6593.0}, {\"index\": 8821, \"location\": \"South Korea\", \"date\": \"2020-02-28T00:00:00\", \"total_infected\": 7041.0, \"n_days\": 16, \"infected\": 7041.0}, {\"index\": 8822, \"location\": \"South Korea\", \"date\": \"2020-02-29T00:00:00\", \"total_infected\": 7314.0, \"n_days\": 17, \"infected\": 7314.0}, {\"index\": 8823, \"location\": \"South Korea\", \"date\": \"2020-03-01T00:00:00\", \"total_infected\": 7478.0, \"n_days\": 18, \"infected\": 7478.0}, {\"index\": 8824, \"location\": \"South Korea\", \"date\": \"2020-03-02T00:00:00\", \"total_infected\": 7513.0, \"n_days\": 19, \"infected\": 7513.0}, {\"index\": 8825, \"location\": \"South Korea\", \"date\": \"2020-03-03T00:00:00\", \"total_infected\": 7755.0, \"n_days\": 20, \"infected\": 7755.0}, {\"index\": 8826, \"location\": \"South Korea\", \"date\": \"2020-03-04T00:00:00\", \"total_infected\": 7869.0, \"n_days\": 21, \"infected\": 7869.0}, {\"index\": 8827, \"location\": \"South Korea\", \"date\": \"2020-03-05T00:00:00\", \"total_infected\": 7978.999999999999, \"n_days\": 22, \"infected\": 7978.999999999999}, {\"index\": 8828, \"location\": \"South Korea\", \"date\": \"2020-03-06T00:00:00\", \"total_infected\": 8085.999999999999, \"n_days\": 23, \"infected\": 8085.999999999999}, {\"index\": 8829, \"location\": \"South Korea\", \"date\": \"2020-03-07T00:00:00\", \"total_infected\": 8161.999999999999, \"n_days\": 24, \"infected\": 8161.999999999999}, {\"index\": 8830, \"location\": \"South Korea\", \"date\": \"2020-03-08T00:00:00\", \"total_infected\": 8236.0, \"n_days\": 25, \"infected\": 8236.0}, {\"index\": 8831, \"location\": \"South Korea\", \"date\": \"2020-03-09T00:00:00\", \"total_infected\": 8320.0, \"n_days\": 26, \"infected\": 8320.0}, {\"index\": 8832, \"location\": \"South Korea\", \"date\": \"2020-03-10T00:00:00\", \"total_infected\": 8413.0, \"n_days\": 27, \"infected\": 8413.0}, {\"index\": 8833, \"location\": \"South Korea\", \"date\": \"2020-03-11T00:00:00\", \"total_infected\": 8565.0, \"n_days\": 28, \"infected\": 8565.0}, {\"index\": 8834, \"location\": \"South Korea\", \"date\": \"2020-03-12T00:00:00\", \"total_infected\": 8652.0, \"n_days\": 29, \"infected\": 8652.0}, {\"index\": 8835, \"location\": \"South Korea\", \"date\": \"2020-03-13T00:00:00\", \"total_infected\": 8799.0, \"n_days\": 30, \"infected\": 8799.0}, {\"index\": 8836, \"location\": \"South Korea\", \"date\": \"2020-03-14T00:00:00\", \"total_infected\": 8897.0, \"n_days\": 31, \"infected\": 8897.0}, {\"index\": 8837, \"location\": \"South Korea\", \"date\": \"2020-03-15T00:00:00\", \"total_infected\": 10173.885535556676, \"n_days\": 32, \"infected\": 10173.885535556676}, {\"index\": 8838, \"location\": \"South Korea\", \"date\": \"2020-03-16T00:00:00\", \"total_infected\": 11634.027974666667, \"n_days\": 33, \"infected\": 11634.027974666667}, {\"index\": 8839, \"location\": \"South Korea\", \"date\": \"2020-03-17T00:00:00\", \"total_infected\": 13303.72810292491, \"n_days\": 34, \"infected\": 13303.72810292491}, {\"index\": 8840, \"location\": \"South Korea\", \"date\": \"2020-03-18T00:00:00\", \"total_infected\": 15213.061359483712, \"n_days\": 35, \"infected\": 15213.061359483712}, {\"index\": 8841, \"location\": \"South Korea\", \"date\": \"2020-03-19T00:00:00\", \"total_infected\": 17396.419570280712, \"n_days\": 36, \"infected\": 17396.419570280712}, {\"index\": 8842, \"location\": \"South Korea\", \"date\": \"2020-03-20T00:00:00\", \"total_infected\": 19893.130430094865, \"n_days\": 37, \"infected\": 19893.130430094865}, {\"index\": 8843, \"location\": \"South Korea\", \"date\": \"2020-03-21T00:00:00\", \"total_infected\": 22748.1658918382, \"n_days\": 38, \"infected\": 22748.1658918382}, {\"index\": 8844, \"location\": \"South Korea\", \"date\": \"2020-03-22T00:00:00\", \"total_infected\": 26012.95222293092, \"n_days\": 39, \"infected\": 26012.95222293092}, {\"index\": 5077, \"location\": \"Japan\", \"date\": \"2020-02-05T00:00:00\", \"total_infected\": 28.0, \"n_days\": 0, \"infected\": 28.0}, {\"index\": 5078, \"location\": \"Japan\", \"date\": \"2020-02-06T00:00:00\", \"total_infected\": 29.0, \"n_days\": 1, \"infected\": 29.0}, {\"index\": 5079, \"location\": \"Japan\", \"date\": \"2020-02-07T00:00:00\", \"total_infected\": 43.0, \"n_days\": 2, \"infected\": 43.0}, {\"index\": 5080, \"location\": \"Japan\", \"date\": \"2020-02-08T00:00:00\", \"total_infected\": 59.0, \"n_days\": 3, \"infected\": 59.0}, {\"index\": 5081, \"location\": \"Japan\", \"date\": \"2020-02-09T00:00:00\", \"total_infected\": 66.0, \"n_days\": 4, \"infected\": 66.0}, {\"index\": 5082, \"location\": \"Japan\", \"date\": \"2020-02-10T00:00:00\", \"total_infected\": 74.0, \"n_days\": 5, \"infected\": 74.0}, {\"index\": 5083, \"location\": \"Japan\", \"date\": \"2020-02-11T00:00:00\", \"total_infected\": 84.0, \"n_days\": 6, \"infected\": 84.0}, {\"index\": 5084, \"location\": \"Japan\", \"date\": \"2020-02-12T00:00:00\", \"total_infected\": 94.0, \"n_days\": 7, \"infected\": 94.0}, {\"index\": 5085, \"location\": \"Japan\", \"date\": \"2020-02-13T00:00:00\", \"total_infected\": 104.99999999999999, \"n_days\": 8, \"infected\": 104.99999999999999}, {\"index\": 5086, \"location\": \"Japan\", \"date\": \"2020-02-14T00:00:00\", \"total_infected\": 122.0, \"n_days\": 9, \"infected\": 122.0}, {\"index\": 5087, \"location\": \"Japan\", \"date\": \"2020-02-15T00:00:00\", \"total_infected\": 147.0, \"n_days\": 10, \"infected\": 147.0}, {\"index\": 5088, \"location\": \"Japan\", \"date\": \"2020-02-16T00:00:00\", \"total_infected\": 159.0, \"n_days\": 11, \"infected\": 159.0}, {\"index\": 5089, \"location\": \"Japan\", \"date\": \"2020-02-17T00:00:00\", \"total_infected\": 170.0, \"n_days\": 12, \"infected\": 170.0}, {\"index\": 5090, \"location\": \"Japan\", \"date\": \"2020-02-18T00:00:00\", \"total_infected\": 189.0, \"n_days\": 13, \"infected\": 189.0}, {\"index\": 5091, \"location\": \"Japan\", \"date\": \"2020-02-19T00:00:00\", \"total_infected\": 214.00000000000003, \"n_days\": 14, \"infected\": 214.00000000000003}, {\"index\": 5092, \"location\": \"Japan\", \"date\": \"2020-02-20T00:00:00\", \"total_infected\": 228.0, \"n_days\": 15, \"infected\": 228.0}, {\"index\": 5093, \"location\": \"Japan\", \"date\": \"2020-02-21T00:00:00\", \"total_infected\": 241.0, \"n_days\": 16, \"infected\": 241.0}, {\"index\": 5094, \"location\": \"Japan\", \"date\": \"2020-02-22T00:00:00\", \"total_infected\": 256.0, \"n_days\": 17, \"infected\": 256.0}, {\"index\": 5095, \"location\": \"Japan\", \"date\": \"2020-02-23T00:00:00\", \"total_infected\": 274.0, \"n_days\": 18, \"infected\": 274.0}, {\"index\": 5096, \"location\": \"Japan\", \"date\": \"2020-02-24T00:00:00\", \"total_infected\": 293.0, \"n_days\": 19, \"infected\": 293.0}, {\"index\": 5097, \"location\": \"Japan\", \"date\": \"2020-02-25T00:00:00\", \"total_infected\": 330.99999999999994, \"n_days\": 20, \"infected\": 330.99999999999994}, {\"index\": 5098, \"location\": \"Japan\", \"date\": \"2020-02-26T00:00:00\", \"total_infected\": 360.0, \"n_days\": 21, \"infected\": 360.0}, {\"index\": 5099, \"location\": \"Japan\", \"date\": \"2020-02-27T00:00:00\", \"total_infected\": 420.0, \"n_days\": 22, \"infected\": 420.0}, {\"index\": 5100, \"location\": \"Japan\", \"date\": \"2020-02-28T00:00:00\", \"total_infected\": 461.0, \"n_days\": 23, \"infected\": 461.0}, {\"index\": 5101, \"location\": \"Japan\", \"date\": \"2020-02-29T00:00:00\", \"total_infected\": 502.0, \"n_days\": 24, \"infected\": 502.0}, {\"index\": 5102, \"location\": \"Japan\", \"date\": \"2020-03-01T00:00:00\", \"total_infected\": 511.0, \"n_days\": 25, \"infected\": 511.0}, {\"index\": 5103, \"location\": \"Japan\", \"date\": \"2020-03-02T00:00:00\", \"total_infected\": 581.0, \"n_days\": 26, \"infected\": 581.0}, {\"index\": 5104, \"location\": \"Japan\", \"date\": \"2020-03-03T00:00:00\", \"total_infected\": 639.0, \"n_days\": 27, \"infected\": 639.0}, {\"index\": 5105, \"location\": \"Japan\", \"date\": \"2020-03-04T00:00:00\", \"total_infected\": 639.0, \"n_days\": 28, \"infected\": 639.0}, {\"index\": 5106, \"location\": \"Japan\", \"date\": \"2020-03-05T00:00:00\", \"total_infected\": 701.0, \"n_days\": 29, \"infected\": 701.0}, {\"index\": 5107, \"location\": \"Japan\", \"date\": \"2020-03-06T00:00:00\", \"total_infected\": 773.0, \"n_days\": 30, \"infected\": 773.0}, {\"index\": 5108, \"location\": \"Japan\", \"date\": \"2020-03-07T00:00:00\", \"total_infected\": 839.0, \"n_days\": 31, \"infected\": 839.0}, {\"index\": 5109, \"location\": \"Japan\", \"date\": \"2020-03-08T00:00:00\", \"total_infected\": 824.9999999999999, \"n_days\": 32, \"infected\": 824.9999999999999}, {\"index\": 5110, \"location\": \"Japan\", \"date\": \"2020-03-09T00:00:00\", \"total_infected\": 878.0, \"n_days\": 33, \"infected\": 878.0}, {\"index\": 5111, \"location\": \"Japan\", \"date\": \"2020-03-10T00:00:00\", \"total_infected\": 889.0, \"n_days\": 34, \"infected\": 889.0}, {\"index\": 5112, \"location\": \"Japan\", \"date\": \"2020-03-11T00:00:00\", \"total_infected\": 924.0, \"n_days\": 35, \"infected\": 924.0}, {\"index\": 5113, \"location\": \"Japan\", \"date\": \"2020-03-12T00:00:00\", \"total_infected\": 963.0000000000001, \"n_days\": 36, \"infected\": 963.0000000000001}, {\"index\": 5114, \"location\": \"Japan\", \"date\": \"2020-03-13T00:00:00\", \"total_infected\": 1007.0, \"n_days\": 37, \"infected\": 1007.0}, {\"index\": 5115, \"location\": \"Japan\", \"date\": \"2020-03-14T00:00:00\", \"total_infected\": 1086.0, \"n_days\": 38, \"infected\": 1086.0}, {\"index\": 5116, \"location\": \"Japan\", \"date\": \"2020-03-15T00:00:00\", \"total_infected\": 1190.5432753022653, \"n_days\": 39, \"infected\": 1190.5432753022653}, {\"index\": 5117, \"location\": \"Japan\", \"date\": \"2020-03-16T00:00:00\", \"total_infected\": 1305.1503594543697, \"n_days\": 40, \"infected\": 1305.1503594543697}, {\"index\": 5118, \"location\": \"Japan\", \"date\": \"2020-03-17T00:00:00\", \"total_infected\": 1430.7900402456116, \"n_days\": 41, \"infected\": 1430.7900402456116}, {\"index\": 5119, \"location\": \"Japan\", \"date\": \"2020-03-18T00:00:00\", \"total_infected\": 1568.5243653626799, \"n_days\": 42, \"infected\": 1568.5243653626799}, {\"index\": 5120, \"location\": \"Japan\", \"date\": \"2020-03-19T00:00:00\", \"total_infected\": 1719.517620009477, \"n_days\": 43, \"infected\": 1719.517620009477}, {\"index\": 5121, \"location\": \"Japan\", \"date\": \"2020-03-20T00:00:00\", \"total_infected\": 1885.0461687532586, \"n_days\": 44, \"infected\": 1885.0461687532586}, {\"index\": 5122, \"location\": \"Japan\", \"date\": \"2020-03-21T00:00:00\", \"total_infected\": 2066.5092447914285, \"n_days\": 45, \"infected\": 2066.5092447914285}, {\"index\": 5123, \"location\": \"Japan\", \"date\": \"2020-03-22T00:00:00\", \"total_infected\": 2265.4407778419873, \"n_days\": 46, \"infected\": 2265.4407778419873}, {\"index\": 1328, \"location\": \"Brazil\", \"date\": \"2020-03-09T00:00:00\", \"total_infected\": 321.0, \"n_days\": 0, \"infected\": 321.0}, {\"index\": 1329, \"location\": \"Brazil\", \"date\": \"2020-03-10T00:00:00\", \"total_infected\": 372.0, \"n_days\": 1, \"infected\": 372.0}, {\"index\": 1330, \"location\": \"Brazil\", \"date\": \"2020-03-11T00:00:00\", \"total_infected\": 621.0, \"n_days\": 2, \"infected\": 621.0}, {\"index\": 1331, \"location\": \"Brazil\", \"date\": \"2020-03-12T00:00:00\", \"total_infected\": 793.0, \"n_days\": 3, \"infected\": 793.0}, {\"index\": 1332, \"location\": \"Brazil\", \"date\": \"2020-03-13T00:00:00\", \"total_infected\": 1021.0, \"n_days\": 4, \"infected\": 1021.0}, {\"index\": 1333, \"location\": \"Brazil\", \"date\": \"2020-03-14T00:00:00\", \"total_infected\": 1593.0, \"n_days\": 5, \"infected\": 1593.0}, {\"index\": 1334, \"location\": \"Brazil\", \"date\": \"2020-03-15T00:00:00\", \"total_infected\": 2103.3759133081185, \"n_days\": 6, \"infected\": 2103.3759133081185}, {\"index\": 1335, \"location\": \"Brazil\", \"date\": \"2020-03-16T00:00:00\", \"total_infected\": 2777.269449268526, \"n_days\": 7, \"infected\": 2777.269449268526}, {\"index\": 1336, \"location\": \"Brazil\", \"date\": \"2020-03-17T00:00:00\", \"total_infected\": 3667.0694691512376, \"n_days\": 8, \"infected\": 3667.0694691512376}, {\"index\": 1337, \"location\": \"Brazil\", \"date\": \"2020-03-18T00:00:00\", \"total_infected\": 4841.949525323479, \"n_days\": 9, \"infected\": 4841.949525323479}, {\"index\": 1338, \"location\": \"Brazil\", \"date\": \"2020-03-19T00:00:00\", \"total_infected\": 6393.245451989382, \"n_days\": 10, \"infected\": 6393.245451989382}, {\"index\": 1339, \"location\": \"Brazil\", \"date\": \"2020-03-20T00:00:00\", \"total_infected\": 8441.555864143844, \"n_days\": 11, \"infected\": 8441.555864143844}, {\"index\": 1340, \"location\": \"Brazil\", \"date\": \"2020-03-21T00:00:00\", \"total_infected\": 11146.117561509769, \"n_days\": 12, \"infected\": 11146.117561509769}, {\"index\": 1341, \"location\": \"Brazil\", \"date\": \"2020-03-22T00:00:00\", \"total_infected\": 14717.184686616618, \"n_days\": 13, \"infected\": 14717.184686616618}, {\"index\": 4717, \"location\": \"Iran\", \"date\": \"2020-02-11T00:00:00\", \"total_infected\": 2.0, \"n_days\": 0, \"infected\": 2.0}, {\"index\": 4718, \"location\": \"Iran\", \"date\": \"2020-02-12T00:00:00\", \"total_infected\": 5.0, \"n_days\": 1, \"infected\": 5.0}, {\"index\": 4719, \"location\": \"Iran\", \"date\": \"2020-02-13T00:00:00\", \"total_infected\": 18.0, \"n_days\": 2, \"infected\": 18.0}, {\"index\": 4720, \"location\": \"Iran\", \"date\": \"2020-02-14T00:00:00\", \"total_infected\": 28.0, \"n_days\": 3, \"infected\": 28.0}, {\"index\": 4721, \"location\": \"Iran\", \"date\": \"2020-02-15T00:00:00\", \"total_infected\": 43.0, \"n_days\": 4, \"infected\": 43.0}, {\"index\": 4722, \"location\": \"Iran\", \"date\": \"2020-02-16T00:00:00\", \"total_infected\": 61.0, \"n_days\": 5, \"infected\": 61.0}, {\"index\": 4723, \"location\": \"Iran\", \"date\": \"2020-02-17T00:00:00\", \"total_infected\": 95.0, \"n_days\": 6, \"infected\": 95.0}, {\"index\": 4724, \"location\": \"Iran\", \"date\": \"2020-02-18T00:00:00\", \"total_infected\": 139.0, \"n_days\": 7, \"infected\": 139.0}, {\"index\": 4725, \"location\": \"Iran\", \"date\": \"2020-02-19T00:00:00\", \"total_infected\": 245.0, \"n_days\": 8, \"infected\": 245.0}, {\"index\": 4726, \"location\": \"Iran\", \"date\": \"2020-02-20T00:00:00\", \"total_infected\": 388.0, \"n_days\": 9, \"infected\": 388.0}, {\"index\": 4727, \"location\": \"Iran\", \"date\": \"2020-02-21T00:00:00\", \"total_infected\": 593.0, \"n_days\": 10, \"infected\": 593.0}, {\"index\": 4728, \"location\": \"Iran\", \"date\": \"2020-02-22T00:00:00\", \"total_infected\": 978.0, \"n_days\": 11, \"infected\": 978.0}, {\"index\": 4729, \"location\": \"Iran\", \"date\": \"2020-02-23T00:00:00\", \"total_infected\": 1501.0, \"n_days\": 12, \"infected\": 1501.0}, {\"index\": 4730, \"location\": \"Iran\", \"date\": \"2020-02-24T00:00:00\", \"total_infected\": 2336.0, \"n_days\": 13, \"infected\": 2336.0}, {\"index\": 4731, \"location\": \"Iran\", \"date\": \"2020-02-25T00:00:00\", \"total_infected\": 2922.0000000000005, \"n_days\": 14, \"infected\": 2922.0000000000005}, {\"index\": 4732, \"location\": \"Iran\", \"date\": \"2020-02-26T00:00:00\", \"total_infected\": 3513.0, \"n_days\": 15, \"infected\": 3513.0}, {\"index\": 4733, \"location\": \"Iran\", \"date\": \"2020-02-27T00:00:00\", \"total_infected\": 4747.0, \"n_days\": 16, \"infected\": 4747.0}, {\"index\": 4734, \"location\": \"Iran\", \"date\": \"2020-02-28T00:00:00\", \"total_infected\": 5823.0, \"n_days\": 17, \"infected\": 5823.0}, {\"index\": 4735, \"location\": \"Iran\", \"date\": \"2020-02-29T00:00:00\", \"total_infected\": 6566.0, \"n_days\": 18, \"infected\": 6566.0}, {\"index\": 4736, \"location\": \"Iran\", \"date\": \"2020-03-01T00:00:00\", \"total_infected\": 7161.000000000001, \"n_days\": 19, \"infected\": 7161.000000000001}, {\"index\": 4737, \"location\": \"Iran\", \"date\": \"2020-03-02T00:00:00\", \"total_infected\": 8042.000000000001, \"n_days\": 20, \"infected\": 8042.000000000001}, {\"index\": 4738, \"location\": \"Iran\", \"date\": \"2020-03-03T00:00:00\", \"total_infected\": 9000.0, \"n_days\": 21, \"infected\": 9000.0}, {\"index\": 4739, \"location\": \"Iran\", \"date\": \"2020-03-04T00:00:00\", \"total_infected\": 10075.0, \"n_days\": 22, \"infected\": 10075.0}, {\"index\": 4740, \"location\": \"Iran\", \"date\": \"2020-03-05T00:00:00\", \"total_infected\": 11364.0, \"n_days\": 23, \"infected\": 11364.0}, {\"index\": 4741, \"location\": \"Iran\", \"date\": \"2020-03-06T00:00:00\", \"total_infected\": 12729.0, \"n_days\": 24, \"infected\": 12729.0}, {\"index\": 4742, \"location\": \"Iran\", \"date\": \"2020-03-07T00:00:00\", \"total_infected\": 13938.0, \"n_days\": 25, \"infected\": 13938.0}, {\"index\": 4743, \"location\": \"Iran\", \"date\": \"2020-03-08T00:00:00\", \"total_infected\": 14991.0, \"n_days\": 26, \"infected\": 14991.0}, {\"index\": 4744, \"location\": \"Iran\", \"date\": \"2020-03-09T00:00:00\", \"total_infected\": 16169.0, \"n_days\": 27, \"infected\": 16169.0}, {\"index\": 4745, \"location\": \"Iran\", \"date\": \"2020-03-10T00:00:00\", \"total_infected\": 17361.0, \"n_days\": 28, \"infected\": 17361.0}, {\"index\": 4746, \"location\": \"Iran\", \"date\": \"2020-03-11T00:00:00\", \"total_infected\": 18407.0, \"n_days\": 29, \"infected\": 18407.0}, {\"index\": 4747, \"location\": \"Iran\", \"date\": \"2020-03-12T00:00:00\", \"total_infected\": 19644.0, \"n_days\": 30, \"infected\": 19644.0}, {\"index\": 4748, \"location\": \"Iran\", \"date\": \"2020-03-13T00:00:00\", \"total_infected\": 20610.0, \"n_days\": 31, \"infected\": 20610.0}, {\"index\": 4749, \"location\": \"Iran\", \"date\": \"2020-03-14T00:00:00\", \"total_infected\": 21638.0, \"n_days\": 32, \"infected\": 21638.0}, {\"index\": 4750, \"location\": \"Iran\", \"date\": \"2020-03-15T00:00:00\", \"total_infected\": 27919.145668227055, \"n_days\": 33, \"infected\": 27919.145668227055}, {\"index\": 4751, \"location\": \"Iran\", \"date\": \"2020-03-16T00:00:00\", \"total_infected\": 36023.601758188444, \"n_days\": 34, \"infected\": 36023.601758188444}, {\"index\": 4752, \"location\": \"Iran\", \"date\": \"2020-03-17T00:00:00\", \"total_infected\": 46480.64446719029, \"n_days\": 35, \"infected\": 46480.64446719029}, {\"index\": 4753, \"location\": \"Iran\", \"date\": \"2020-03-18T00:00:00\", \"total_infected\": 59973.18992663636, \"n_days\": 36, \"infected\": 59973.18992663636}, {\"index\": 4754, \"location\": \"Iran\", \"date\": \"2020-03-19T00:00:00\", \"total_infected\": 77382.39327802976, \"n_days\": 37, \"infected\": 77382.39327802976}, {\"index\": 4755, \"location\": \"Iran\", \"date\": \"2020-03-20T00:00:00\", \"total_infected\": 99845.19410691131, \"n_days\": 38, \"infected\": 99845.19410691131}, {\"index\": 4756, \"location\": \"Iran\", \"date\": \"2020-03-21T00:00:00\", \"total_infected\": 128828.5663436206, \"n_days\": 39, \"infected\": 128828.5663436206}, {\"index\": 4757, \"location\": \"Iran\", \"date\": \"2020-03-22T00:00:00\", \"total_infected\": 166225.3216552545, \"n_days\": 40, \"infected\": 166225.3216552545}]}}, {\"mode\": \"vega-lite\"});\n",
       "</script>"
      ],
      "text/plain": [
       "alt.Chart(...)"
      ]
     },
     "execution_count": 4,
     "metadata": {},
     "output_type": "execute_result"
    }
   ],
   "source": [
    "#hide_input\n",
    "# Plot estimated absolute number of infected\n",
    "plot1 = plot(data_countries_pc, \"line\", True)\n",
    "plot1.save(\"../images/covid-estimate-infections.png\")\n",
    "plot1"
   ]
  },
  {
   "cell_type": "markdown",
   "metadata": {
    "papermill": {
     "duration": 0.011645,
     "end_time": "2020-03-23T21:56:10.104256",
     "exception": false,
     "start_time": "2020-03-23T21:56:10.092611",
     "status": "completed"
    },
    "tags": []
   },
   "source": [
    "Lastest Country Estimates"
   ]
  },
  {
   "cell_type": "code",
   "execution_count": 5,
   "metadata": {
    "papermill": {
     "duration": 0.042437,
     "end_time": "2020-03-23T21:56:10.156952",
     "exception": false,
     "start_time": "2020-03-23T21:56:10.114515",
     "status": "completed"
    },
    "tags": []
   },
   "outputs": [
    {
     "data": {
      "text/html": [
       "<div>\n",
       "<style scoped>\n",
       "    .dataframe tbody tr th:only-of-type {\n",
       "        vertical-align: middle;\n",
       "    }\n",
       "\n",
       "    .dataframe tbody tr th {\n",
       "        vertical-align: top;\n",
       "    }\n",
       "\n",
       "    .dataframe thead th {\n",
       "        text-align: right;\n",
       "    }\n",
       "</style>\n",
       "<table border=\"1\" class=\"dataframe\">\n",
       "  <thead>\n",
       "    <tr style=\"text-align: right;\">\n",
       "      <th></th>\n",
       "      <th>Date</th>\n",
       "      <th>Estimate of Infected</th>\n",
       "    </tr>\n",
       "    <tr>\n",
       "      <th>Country</th>\n",
       "      <th></th>\n",
       "      <th></th>\n",
       "    </tr>\n",
       "  </thead>\n",
       "  <tbody>\n",
       "    <tr>\n",
       "      <th>Brazil</th>\n",
       "      <td>2020-03-22</td>\n",
       "      <td>14,717</td>\n",
       "    </tr>\n",
       "    <tr>\n",
       "      <th>China</th>\n",
       "      <td>2020-03-22</td>\n",
       "      <td>115,116</td>\n",
       "    </tr>\n",
       "    <tr>\n",
       "      <th>France</th>\n",
       "      <td>2020-03-22</td>\n",
       "      <td>69,636</td>\n",
       "    </tr>\n",
       "    <tr>\n",
       "      <th>Germany</th>\n",
       "      <td>2020-03-22</td>\n",
       "      <td>134,382</td>\n",
       "    </tr>\n",
       "    <tr>\n",
       "      <th>Iran</th>\n",
       "      <td>2020-03-22</td>\n",
       "      <td>166,225</td>\n",
       "    </tr>\n",
       "    <tr>\n",
       "      <th>Italy</th>\n",
       "      <td>2020-03-22</td>\n",
       "      <td>391,223</td>\n",
       "    </tr>\n",
       "    <tr>\n",
       "      <th>Japan</th>\n",
       "      <td>2020-03-22</td>\n",
       "      <td>2,265</td>\n",
       "    </tr>\n",
       "    <tr>\n",
       "      <th>Portugal</th>\n",
       "      <td>2020-03-22</td>\n",
       "      <td>9,821</td>\n",
       "    </tr>\n",
       "    <tr>\n",
       "      <th>Singapore</th>\n",
       "      <td>2020-03-22</td>\n",
       "      <td>682</td>\n",
       "    </tr>\n",
       "    <tr>\n",
       "      <th>South Korea</th>\n",
       "      <td>2020-03-22</td>\n",
       "      <td>26,013</td>\n",
       "    </tr>\n",
       "    <tr>\n",
       "      <th>Spain</th>\n",
       "      <td>2020-03-22</td>\n",
       "      <td>196,703</td>\n",
       "    </tr>\n",
       "    <tr>\n",
       "      <th>United Kingdom</th>\n",
       "      <td>2020-03-22</td>\n",
       "      <td>29,982</td>\n",
       "    </tr>\n",
       "    <tr>\n",
       "      <th>United States</th>\n",
       "      <td>2020-03-22</td>\n",
       "      <td>242,004</td>\n",
       "    </tr>\n",
       "  </tbody>\n",
       "</table>\n",
       "</div>"
      ],
      "text/plain": [
       "                     Date Estimate of Infected\n",
       "Country                                       \n",
       "Brazil         2020-03-22               14,717\n",
       "China          2020-03-22              115,116\n",
       "France         2020-03-22               69,636\n",
       "Germany        2020-03-22              134,382\n",
       "Iran           2020-03-22              166,225\n",
       "Italy          2020-03-22              391,223\n",
       "Japan          2020-03-22                2,265\n",
       "Portugal       2020-03-22                9,821\n",
       "Singapore      2020-03-22                  682\n",
       "South Korea    2020-03-22               26,013\n",
       "Spain          2020-03-22              196,703\n",
       "United Kingdom 2020-03-22               29,982\n",
       "United States  2020-03-22              242,004"
      ]
     },
     "execution_count": 5,
     "metadata": {},
     "output_type": "execute_result"
    }
   ],
   "source": [
    "#hide_input    \n",
    "label = 'Estimate of Infected'\n",
    "temp = pd.concat([x.copy() for x in data_countries_pc]).loc[lambda x: x.date >= '3/1/2020']\n",
    "\n",
    "metric_name = f'{label}'\n",
    "temp.columns = ['Country', 'Date', metric_name]\n",
    "temp.loc[:, \"Estimate of Infected\"] = temp.loc[:, \"Estimate of Infected\"].round(0).map('{:,.0f}'.format) \n",
    "temp.groupby('Country').last()"
   ]
  },
  {
   "cell_type": "markdown",
   "metadata": {
    "papermill": {
     "duration": 0.01181,
     "end_time": "2020-03-23T21:56:10.179243",
     "exception": false,
     "start_time": "2020-03-23T21:56:10.167433",
     "status": "completed"
    },
    "tags": []
   },
   "source": [
    "## Infected vs. number of confirmed cases\n",
    "> Allows you to compare how countries have been tracking the true number of infected people. The smaller deviation from the dashed line (45 degree line) the better job at tracking the true number of infected people."
   ]
  },
  {
   "cell_type": "markdown",
   "metadata": {
    "papermill": {
     "duration": 0.011111,
     "end_time": "2020-03-23T21:56:10.201008",
     "exception": false,
     "start_time": "2020-03-23T21:56:10.189897",
     "status": "completed"
    },
    "tags": []
   },
   "source": [
    "> Tip: Click (Shift+ for multiple) on countries in the legend to filter the visualization. "
   ]
  },
  {
   "cell_type": "code",
   "execution_count": 6,
   "metadata": {
    "papermill": {
     "duration": 0.223772,
     "end_time": "2020-03-23T21:56:10.436515",
     "exception": false,
     "start_time": "2020-03-23T21:56:10.212743",
     "status": "completed"
    },
    "tags": []
   },
   "outputs": [
    {
     "data": {
      "text/html": [
       "\n",
       "<div id=\"altair-viz-83d3cdde85fe467f9299c34ccf42c7a5\"></div>\n",
       "<script type=\"text/javascript\">\n",
       "  (function(spec, embedOpt){\n",
       "    const outputDiv = document.getElementById(\"altair-viz-83d3cdde85fe467f9299c34ccf42c7a5\");\n",
       "    const paths = {\n",
       "      \"vega\": \"https://cdn.jsdelivr.net/npm//vega@5?noext\",\n",
       "      \"vega-lib\": \"https://cdn.jsdelivr.net/npm//vega-lib?noext\",\n",
       "      \"vega-lite\": \"https://cdn.jsdelivr.net/npm//vega-lite@4.0.2?noext\",\n",
       "      \"vega-embed\": \"https://cdn.jsdelivr.net/npm//vega-embed@6?noext\",\n",
       "    };\n",
       "\n",
       "    function loadScript(lib) {\n",
       "      return new Promise(function(resolve, reject) {\n",
       "        var s = document.createElement('script');\n",
       "        s.src = paths[lib];\n",
       "        s.async = true;\n",
       "        s.onload = () => resolve(paths[lib]);\n",
       "        s.onerror = () => reject(`Error loading script: ${paths[lib]}`);\n",
       "        document.getElementsByTagName(\"head\")[0].appendChild(s);\n",
       "      });\n",
       "    }\n",
       "\n",
       "    function showError(err) {\n",
       "      outputDiv.innerHTML = `<div class=\"error\" style=\"color:red;\">${err}</div>`;\n",
       "      throw err;\n",
       "    }\n",
       "\n",
       "    function displayChart(vegaEmbed) {\n",
       "      vegaEmbed(outputDiv, spec, embedOpt)\n",
       "        .catch(err => showError(`Javascript Error: ${err.message}<br>This usually means there's a typo in your chart specification. See the javascript console for the full traceback.`));\n",
       "    }\n",
       "\n",
       "    if(typeof define === \"function\" && define.amd) {\n",
       "      requirejs.config({paths});\n",
       "      require([\"vega-embed\"], displayChart, err => showError(`Error loading script: ${err.message}`));\n",
       "    } else if (typeof vegaEmbed === \"function\") {\n",
       "      displayChart(vegaEmbed);\n",
       "    } else {\n",
       "      loadScript(\"vega\")\n",
       "        .then(() => loadScript(\"vega-lite\"))\n",
       "        .then(() => loadScript(\"vega-embed\"))\n",
       "        .catch(showError)\n",
       "        .then(() => displayChart(vegaEmbed));\n",
       "    }\n",
       "  })({\"config\": {\"view\": {\"continuousWidth\": 400, \"continuousHeight\": 300}, \"axis\": {\"labelFontSize\": 15, \"titleFontSize\": 18}, \"title\": {\"fontSize\": 20}}, \"layer\": [{\"mark\": \"point\", \"encoding\": {\"color\": {\"type\": \"nominal\", \"field\": \"location\", \"legend\": {\"labelFontSize\": 15, \"title\": \"Country\", \"titleFontSize\": 17}, \"scale\": {\"scheme\": \"tableau20\"}}, \"opacity\": {\"condition\": {\"value\": 1, \"selection\": \"selector004\"}, \"value\": 0.1}, \"x\": {\"type\": \"quantitative\", \"field\": \"cases\", \"title\": \"Cases\"}, \"y\": {\"type\": \"quantitative\", \"field\": \"infected\", \"title\": \"Infected\"}}, \"height\": 400, \"selection\": {\"selector003\": {\"type\": \"interval\", \"bind\": \"scales\"}, \"selector004\": {\"type\": \"multi\", \"fields\": [\"location\"], \"bind\": \"legend\"}}, \"title\": \"COVID-19 Cases VS Infected\", \"width\": 550}, {\"mark\": {\"type\": \"line\", \"color\": \"grey\", \"strokeDash\": [3, 3]}, \"encoding\": {\"x\": {\"type\": \"quantitative\", \"field\": \"cases\"}, \"y\": {\"type\": \"quantitative\", \"field\": \"45_line\", \"scale\": {\"domain\": [0, 391223.0198985658]}}}}], \"data\": {\"name\": \"data-9e00fd577a3a88c2bf7bab9fc271260a\"}, \"$schema\": \"https://vega.github.io/schema/vega-lite/v4.0.2.json\", \"datasets\": {\"data-9e00fd577a3a88c2bf7bab9fc271260a\": [{\"index\": 4963, \"location\": \"Italy\", \"date\": \"2020-02-13T00:00:00\", \"total_cases\": 3, \"total_infected\": 20.0, \"n_days\": 0, \"cases\": 3, \"infected\": 20.0, \"45_line\": 3}, {\"index\": 4964, \"location\": \"Italy\", \"date\": \"2020-02-14T00:00:00\", \"total_cases\": 3, \"total_infected\": 62.0, \"n_days\": 1, \"cases\": 3, \"infected\": 62.0, \"45_line\": 3}, {\"index\": 4965, \"location\": \"Italy\", \"date\": \"2020-02-15T00:00:00\", \"total_cases\": 3, \"total_infected\": 155.0, \"n_days\": 2, \"cases\": 3, \"infected\": 155.0, \"45_line\": 3}, {\"index\": 4966, \"location\": \"Italy\", \"date\": \"2020-02-16T00:00:00\", \"total_cases\": 3, \"total_infected\": 229.0, \"n_days\": 3, \"cases\": 3, \"infected\": 229.0, \"45_line\": 3}, {\"index\": 4967, \"location\": \"Italy\", \"date\": \"2020-02-17T00:00:00\", \"total_cases\": 3, \"total_infected\": 322.0, \"n_days\": 4, \"cases\": 3, \"infected\": 322.0, \"45_line\": 3}, {\"index\": 4968, \"location\": \"Italy\", \"date\": \"2020-02-18T00:00:00\", \"total_cases\": 3, \"total_infected\": 453.0, \"n_days\": 5, \"cases\": 3, \"infected\": 453.0, \"45_line\": 3}, {\"index\": 4969, \"location\": \"Italy\", \"date\": \"2020-02-19T00:00:00\", \"total_cases\": 3, \"total_infected\": 655.0, \"n_days\": 6, \"cases\": 3, \"infected\": 655.0, \"45_line\": 3}, {\"index\": 4970, \"location\": \"Italy\", \"date\": \"2020-02-20T00:00:00\", \"total_cases\": 3, \"total_infected\": 888.0, \"n_days\": 7, \"cases\": 3, \"infected\": 888.0, \"45_line\": 3}, {\"index\": 4971, \"location\": \"Italy\", \"date\": \"2020-02-21T00:00:00\", \"total_cases\": 20, \"total_infected\": 1128.0, \"n_days\": 8, \"cases\": 20, \"infected\": 1128.0, \"45_line\": 20}, {\"index\": 4972, \"location\": \"Italy\", \"date\": \"2020-02-22T00:00:00\", \"total_cases\": 62, \"total_infected\": 1694.0, \"n_days\": 9, \"cases\": 62, \"infected\": 1694.0, \"45_line\": 62}, {\"index\": 4973, \"location\": \"Italy\", \"date\": \"2020-02-23T00:00:00\", \"total_cases\": 155, \"total_infected\": 2036.0, \"n_days\": 10, \"cases\": 155, \"infected\": 2036.0, \"45_line\": 155}, {\"index\": 4974, \"location\": \"Italy\", \"date\": \"2020-02-24T00:00:00\", \"total_cases\": 229, \"total_infected\": 2502.0, \"n_days\": 11, \"cases\": 229, \"infected\": 2502.0, \"45_line\": 229}, {\"index\": 4975, \"location\": \"Italy\", \"date\": \"2020-02-25T00:00:00\", \"total_cases\": 322, \"total_infected\": 3089.0, \"n_days\": 12, \"cases\": 322, \"infected\": 3089.0, \"45_line\": 322}, {\"index\": 4976, \"location\": \"Italy\", \"date\": \"2020-02-26T00:00:00\", \"total_cases\": 453, \"total_infected\": 3858.0, \"n_days\": 13, \"cases\": 453, \"infected\": 3858.0, \"45_line\": 453}, {\"index\": 4977, \"location\": \"Italy\", \"date\": \"2020-02-27T00:00:00\", \"total_cases\": 655, \"total_infected\": 4636.0, \"n_days\": 14, \"cases\": 655, \"infected\": 4636.0, \"45_line\": 655}, {\"index\": 4978, \"location\": \"Italy\", \"date\": \"2020-02-28T00:00:00\", \"total_cases\": 888, \"total_infected\": 5883.0, \"n_days\": 15, \"cases\": 888, \"infected\": 5883.0, \"45_line\": 888}, {\"index\": 4979, \"location\": \"Italy\", \"date\": \"2020-02-29T00:00:00\", \"total_cases\": 1128, \"total_infected\": 7375.0, \"n_days\": 16, \"cases\": 1128, \"infected\": 7375.0, \"45_line\": 1128}, {\"index\": 4980, \"location\": \"Italy\", \"date\": \"2020-03-01T00:00:00\", \"total_cases\": 1694, \"total_infected\": 9172.0, \"n_days\": 17, \"cases\": 1694, \"infected\": 9172.0, \"45_line\": 1694}, {\"index\": 4981, \"location\": \"Italy\", \"date\": \"2020-03-02T00:00:00\", \"total_cases\": 2036, \"total_infected\": 10149.0, \"n_days\": 18, \"cases\": 2036, \"infected\": 10149.0, \"45_line\": 2036}, {\"index\": 4982, \"location\": \"Italy\", \"date\": \"2020-03-03T00:00:00\", \"total_cases\": 2502, \"total_infected\": 12461.999999999998, \"n_days\": 19, \"cases\": 2502, \"infected\": 12461.999999999998, \"45_line\": 2502}, {\"index\": 4983, \"location\": \"Italy\", \"date\": \"2020-03-04T00:00:00\", \"total_cases\": 3089, \"total_infected\": 12461.999999999998, \"n_days\": 20, \"cases\": 3089, \"infected\": 12461.999999999998, \"45_line\": 3089}, {\"index\": 4984, \"location\": \"Italy\", \"date\": \"2020-03-05T00:00:00\", \"total_cases\": 3858, \"total_infected\": 17660.0, \"n_days\": 21, \"cases\": 3858, \"infected\": 17660.0, \"45_line\": 3858}, {\"index\": 4985, \"location\": \"Italy\", \"date\": \"2020-03-06T00:00:00\", \"total_cases\": 4636, \"total_infected\": 21157.0, \"n_days\": 22, \"cases\": 4636, \"infected\": 21157.0, \"45_line\": 4636}, {\"index\": 4986, \"location\": \"Italy\", \"date\": \"2020-03-07T00:00:00\", \"total_cases\": 5883, \"total_infected\": 24747.0, \"n_days\": 23, \"cases\": 5883, \"infected\": 24747.0, \"45_line\": 5883}, {\"index\": 4987, \"location\": \"Italy\", \"date\": \"2020-03-08T00:00:00\", \"total_cases\": 7375, \"total_infected\": 27980.0, \"n_days\": 24, \"cases\": 7375, \"infected\": 27980.0, \"45_line\": 7375}, {\"index\": 4988, \"location\": \"Italy\", \"date\": \"2020-03-09T00:00:00\", \"total_cases\": 9172, \"total_infected\": 31505.999999999996, \"n_days\": 25, \"cases\": 9172, \"infected\": 31505.999999999996, \"45_line\": 9172}, {\"index\": 4989, \"location\": \"Italy\", \"date\": \"2020-03-10T00:00:00\", \"total_cases\": 10149, \"total_infected\": 35713.0, \"n_days\": 26, \"cases\": 10149, \"infected\": 35713.0, \"45_line\": 10149}, {\"index\": 4990, \"location\": \"Italy\", \"date\": \"2020-03-11T00:00:00\", \"total_cases\": 12462, \"total_infected\": 41035.0, \"n_days\": 27, \"cases\": 12462, \"infected\": 41035.0, \"45_line\": 12462}, {\"index\": 4991, \"location\": \"Italy\", \"date\": \"2020-03-12T00:00:00\", \"total_cases\": 12462, \"total_infected\": 47021.0, \"n_days\": 28, \"cases\": 12462, \"infected\": 47021.0, \"45_line\": 12462}, {\"index\": 4992, \"location\": \"Italy\", \"date\": \"2020-03-13T00:00:00\", \"total_cases\": 17660, \"total_infected\": 53578.0, \"n_days\": 29, \"cases\": 17660, \"infected\": 53578.0, \"45_line\": 17660}, {\"index\": 4993, \"location\": \"Italy\", \"date\": \"2020-03-14T00:00:00\", \"total_cases\": 21157, \"total_infected\": 59138.0, \"n_days\": 30, \"cases\": 21157, \"infected\": 59138.0, \"45_line\": 21157}, {\"index\": 4994, \"location\": \"Italy\", \"date\": \"2020-03-15T00:00:00\", \"total_cases\": 24747, \"total_infected\": 74892.15957056181, \"n_days\": 31, \"cases\": 24747, \"infected\": 74892.15957056181, \"45_line\": 24747}, {\"index\": 4995, \"location\": \"Italy\", \"date\": \"2020-03-16T00:00:00\", \"total_cases\": 27980, \"total_infected\": 94843.1730045401, \"n_days\": 32, \"cases\": 27980, \"infected\": 94843.1730045401, \"45_line\": 27980}, {\"index\": 4996, \"location\": \"Italy\", \"date\": \"2020-03-17T00:00:00\", \"total_cases\": 31506, \"total_infected\": 120109.06772015315, \"n_days\": 33, \"cases\": 31506, \"infected\": 120109.06772015315, \"45_line\": 31506}, {\"index\": 4997, \"location\": \"Italy\", \"date\": \"2020-03-18T00:00:00\", \"total_cases\": 35713, \"total_infected\": 152105.709790137, \"n_days\": 34, \"cases\": 35713, \"infected\": 152105.709790137, \"45_line\": 35713}, {\"index\": 4998, \"location\": \"Italy\", \"date\": \"2020-03-19T00:00:00\", \"total_cases\": 41035, \"total_infected\": 192626.1471337635, \"n_days\": 35, \"cases\": 41035, \"infected\": 192626.1471337635, \"45_line\": 41035}, {\"index\": 4999, \"location\": \"Italy\", \"date\": \"2020-03-20T00:00:00\", \"total_cases\": 47021, \"total_infected\": 243941.08946200975, \"n_days\": 36, \"cases\": 47021, \"infected\": 243941.08946200975, \"45_line\": 47021}, {\"index\": 5000, \"location\": \"Italy\", \"date\": \"2020-03-21T00:00:00\", \"total_cases\": 53578, \"total_infected\": 308926.15573413926, \"n_days\": 37, \"cases\": 53578, \"infected\": 308926.15573413926, \"45_line\": 53578}, {\"index\": 5001, \"location\": \"Italy\", \"date\": \"2020-03-22T00:00:00\", \"total_cases\": 59138, \"total_infected\": 391223.0198985658, \"n_days\": 38, \"cases\": 59138, \"infected\": 391223.0198985658, \"45_line\": 59138}, {\"index\": 8878, \"location\": \"Spain\", \"date\": \"2020-02-24T00:00:00\", \"total_cases\": 2, \"total_infected\": 165.0, \"n_days\": 0, \"cases\": 2, \"infected\": 165.0, \"45_line\": 2}, {\"index\": 8879, \"location\": \"Spain\", \"date\": \"2020-02-25T00:00:00\", \"total_cases\": 6, \"total_infected\": 222.0, \"n_days\": 1, \"cases\": 6, \"infected\": 222.0, \"45_line\": 6}, {\"index\": 8880, \"location\": \"Spain\", \"date\": \"2020-02-26T00:00:00\", \"total_cases\": 13, \"total_infected\": 259.0, \"n_days\": 2, \"cases\": 13, \"infected\": 259.0, \"45_line\": 13}, {\"index\": 8881, \"location\": \"Spain\", \"date\": \"2020-02-27T00:00:00\", \"total_cases\": 15, \"total_infected\": 400.0, \"n_days\": 3, \"cases\": 15, \"infected\": 400.0, \"45_line\": 15}, {\"index\": 8882, \"location\": \"Spain\", \"date\": \"2020-02-28T00:00:00\", \"total_cases\": 32, \"total_infected\": 500.0, \"n_days\": 4, \"cases\": 32, \"infected\": 500.0, \"45_line\": 32}, {\"index\": 8883, \"location\": \"Spain\", \"date\": \"2020-02-29T00:00:00\", \"total_cases\": 45, \"total_infected\": 673.0, \"n_days\": 5, \"cases\": 45, \"infected\": 673.0, \"45_line\": 45}, {\"index\": 8884, \"location\": \"Spain\", \"date\": \"2020-03-01T00:00:00\", \"total_cases\": 84, \"total_infected\": 1073.0, \"n_days\": 6, \"cases\": 84, \"infected\": 1073.0, \"45_line\": 84}, {\"index\": 8885, \"location\": \"Spain\", \"date\": \"2020-03-02T00:00:00\", \"total_cases\": 120, \"total_infected\": 1695.0, \"n_days\": 7, \"cases\": 120, \"infected\": 1695.0, \"45_line\": 120}, {\"index\": 8886, \"location\": \"Spain\", \"date\": \"2020-03-03T00:00:00\", \"total_cases\": 165, \"total_infected\": 2277.0, \"n_days\": 8, \"cases\": 165, \"infected\": 2277.0, \"45_line\": 165}, {\"index\": 8887, \"location\": \"Spain\", \"date\": \"2020-03-04T00:00:00\", \"total_cases\": 222, \"total_infected\": 2277.0, \"n_days\": 9, \"cases\": 222, \"infected\": 2277.0, \"45_line\": 222}, {\"index\": 8888, \"location\": \"Spain\", \"date\": \"2020-03-05T00:00:00\", \"total_cases\": 259, \"total_infected\": 5232.0, \"n_days\": 10, \"cases\": 259, \"infected\": 5232.0, \"45_line\": 259}, {\"index\": 8889, \"location\": \"Spain\", \"date\": \"2020-03-06T00:00:00\", \"total_cases\": 400, \"total_infected\": 6391.0, \"n_days\": 11, \"cases\": 400, \"infected\": 6391.0, \"45_line\": 400}, {\"index\": 8890, \"location\": \"Spain\", \"date\": \"2020-03-07T00:00:00\", \"total_cases\": 500, \"total_infected\": 7798.0, \"n_days\": 12, \"cases\": 500, \"infected\": 7798.0, \"45_line\": 500}, {\"index\": 8891, \"location\": \"Spain\", \"date\": \"2020-03-08T00:00:00\", \"total_cases\": 673, \"total_infected\": 9942.0, \"n_days\": 13, \"cases\": 673, \"infected\": 9942.0, \"45_line\": 673}, {\"index\": 8892, \"location\": \"Spain\", \"date\": \"2020-03-09T00:00:00\", \"total_cases\": 1073, \"total_infected\": 11748.0, \"n_days\": 14, \"cases\": 1073, \"infected\": 11748.0, \"45_line\": 1073}, {\"index\": 8893, \"location\": \"Spain\", \"date\": \"2020-03-10T00:00:00\", \"total_cases\": 1695, \"total_infected\": 13909.999999999998, \"n_days\": 15, \"cases\": 1695, \"infected\": 13909.999999999998, \"45_line\": 1695}, {\"index\": 8894, \"location\": \"Spain\", \"date\": \"2020-03-11T00:00:00\", \"total_cases\": 2277, \"total_infected\": 17963.0, \"n_days\": 16, \"cases\": 2277, \"infected\": 17963.0, \"45_line\": 2277}, {\"index\": 8895, \"location\": \"Spain\", \"date\": \"2020-03-12T00:00:00\", \"total_cases\": 2277, \"total_infected\": 20410.0, \"n_days\": 17, \"cases\": 2277, \"infected\": 20410.0, \"45_line\": 2277}, {\"index\": 8896, \"location\": \"Spain\", \"date\": \"2020-03-13T00:00:00\", \"total_cases\": 5232, \"total_infected\": 25374.0, \"n_days\": 18, \"cases\": 5232, \"infected\": 25374.0, \"45_line\": 5232}, {\"index\": 8897, \"location\": \"Spain\", \"date\": \"2020-03-14T00:00:00\", \"total_cases\": 6391, \"total_infected\": 28768.0, \"n_days\": 19, \"cases\": 6391, \"infected\": 28768.0, \"45_line\": 6391}, {\"index\": 8898, \"location\": \"Spain\", \"date\": \"2020-03-15T00:00:00\", \"total_cases\": 7798, \"total_infected\": 36582.408494434225, \"n_days\": 20, \"cases\": 7798, \"infected\": 36582.408494434225, \"45_line\": 7798}, {\"index\": 8899, \"location\": \"Spain\", \"date\": \"2020-03-16T00:00:00\", \"total_cases\": 9942, \"total_infected\": 46519.48732110864, \"n_days\": 21, \"cases\": 9942, \"infected\": 46519.48732110864, \"45_line\": 9942}, {\"index\": 8900, \"location\": \"Spain\", \"date\": \"2020-03-17T00:00:00\", \"total_cases\": 11748, \"total_infected\": 59155.82898124478, \"n_days\": 22, \"cases\": 11748, \"infected\": 59155.82898124478, \"45_line\": 11748}, {\"index\": 8901, \"location\": \"Spain\", \"date\": \"2020-03-18T00:00:00\", \"total_cases\": 13910, \"total_infected\": 75224.64893697119, \"n_days\": 23, \"cases\": 13910, \"infected\": 75224.64893697119, \"45_line\": 13910}, {\"index\": 8902, \"location\": \"Spain\", \"date\": \"2020-03-19T00:00:00\", \"total_cases\": 17963, \"total_infected\": 95658.32995907562, \"n_days\": 24, \"cases\": 17963, \"infected\": 95658.32995907562, \"45_line\": 17963}, {\"index\": 8903, \"location\": \"Spain\", \"date\": \"2020-03-20T00:00:00\", \"total_cases\": 20410, \"total_infected\": 121642.52302760983, \"n_days\": 25, \"cases\": 20410, \"infected\": 121642.52302760983, \"45_line\": 20410}, {\"index\": 8904, \"location\": \"Spain\", \"date\": \"2020-03-21T00:00:00\", \"total_cases\": 25374, \"total_infected\": 154684.943954729, \"n_days\": 26, \"cases\": 25374, \"infected\": 154684.943954729, \"45_line\": 25374}, {\"index\": 8905, \"location\": \"Spain\", \"date\": \"2020-03-22T00:00:00\", \"total_cases\": 28768, \"total_infected\": 196702.85760882092, \"n_days\": 27, \"cases\": 28768, \"infected\": 196702.85760882092, \"45_line\": 28768}, {\"index\": 3615, \"location\": \"France\", \"date\": \"2020-02-07T00:00:00\", \"total_cases\": 6, \"total_infected\": 12.0, \"n_days\": 0, \"cases\": 6, \"infected\": 12.0, \"45_line\": 6}, {\"index\": 3616, \"location\": \"France\", \"date\": \"2020-02-08T00:00:00\", \"total_cases\": 11, \"total_infected\": 12.0, \"n_days\": 1, \"cases\": 11, \"infected\": 12.0, \"45_line\": 11}, {\"index\": 3617, \"location\": \"France\", \"date\": \"2020-02-09T00:00:00\", \"total_cases\": 11, \"total_infected\": 12.0, \"n_days\": 2, \"cases\": 11, \"infected\": 12.0, \"45_line\": 11}, {\"index\": 3618, \"location\": \"France\", \"date\": \"2020-02-10T00:00:00\", \"total_cases\": 11, \"total_infected\": 12.0, \"n_days\": 3, \"cases\": 11, \"infected\": 12.0, \"45_line\": 11}, {\"index\": 3619, \"location\": \"France\", \"date\": \"2020-02-11T00:00:00\", \"total_cases\": 11, \"total_infected\": 12.0, \"n_days\": 4, \"cases\": 11, \"infected\": 12.0, \"45_line\": 11}, {\"index\": 3620, \"location\": \"France\", \"date\": \"2020-02-12T00:00:00\", \"total_cases\": 11, \"total_infected\": 12.0, \"n_days\": 5, \"cases\": 11, \"infected\": 12.0, \"45_line\": 11}, {\"index\": 3621, \"location\": \"France\", \"date\": \"2020-02-13T00:00:00\", \"total_cases\": 11, \"total_infected\": 12.0, \"n_days\": 6, \"cases\": 11, \"infected\": 12.0, \"45_line\": 11}, {\"index\": 3622, \"location\": \"France\", \"date\": \"2020-02-14T00:00:00\", \"total_cases\": 11, \"total_infected\": 12.0, \"n_days\": 7, \"cases\": 11, \"infected\": 12.0, \"45_line\": 11}, {\"index\": 3623, \"location\": \"France\", \"date\": \"2020-02-15T00:00:00\", \"total_cases\": 12, \"total_infected\": 12.0, \"n_days\": 8, \"cases\": 12, \"infected\": 12.0, \"45_line\": 12}, {\"index\": 3624, \"location\": \"France\", \"date\": \"2020-02-16T00:00:00\", \"total_cases\": 12, \"total_infected\": 12.0, \"n_days\": 9, \"cases\": 12, \"infected\": 12.0, \"45_line\": 12}, {\"index\": 3625, \"location\": \"France\", \"date\": \"2020-02-17T00:00:00\", \"total_cases\": 12, \"total_infected\": 14.0, \"n_days\": 10, \"cases\": 12, \"infected\": 14.0, \"45_line\": 12}, {\"index\": 3626, \"location\": \"France\", \"date\": \"2020-02-18T00:00:00\", \"total_cases\": 12, \"total_infected\": 18.0, \"n_days\": 11, \"cases\": 12, \"infected\": 18.0, \"45_line\": 12}, {\"index\": 3627, \"location\": \"France\", \"date\": \"2020-02-19T00:00:00\", \"total_cases\": 12, \"total_infected\": 38.0, \"n_days\": 12, \"cases\": 12, \"infected\": 38.0, \"45_line\": 12}, {\"index\": 3628, \"location\": \"France\", \"date\": \"2020-02-20T00:00:00\", \"total_cases\": 12, \"total_infected\": 57.0, \"n_days\": 13, \"cases\": 12, \"infected\": 57.0, \"45_line\": 12}, {\"index\": 3629, \"location\": \"France\", \"date\": \"2020-02-21T00:00:00\", \"total_cases\": 12, \"total_infected\": 100.0, \"n_days\": 14, \"cases\": 12, \"infected\": 100.0, \"45_line\": 12}, {\"index\": 3630, \"location\": \"France\", \"date\": \"2020-02-22T00:00:00\", \"total_cases\": 12, \"total_infected\": 130.0, \"n_days\": 15, \"cases\": 12, \"infected\": 130.0, \"45_line\": 12}, {\"index\": 3631, \"location\": \"France\", \"date\": \"2020-02-23T00:00:00\", \"total_cases\": 12, \"total_infected\": 191.0, \"n_days\": 16, \"cases\": 12, \"infected\": 191.0, \"45_line\": 12}, {\"index\": 3632, \"location\": \"France\", \"date\": \"2020-02-24T00:00:00\", \"total_cases\": 12, \"total_infected\": 204.0, \"n_days\": 17, \"cases\": 12, \"infected\": 204.0, \"45_line\": 12}, {\"index\": 3633, \"location\": \"France\", \"date\": \"2020-02-25T00:00:00\", \"total_cases\": 14, \"total_infected\": 288.0, \"n_days\": 18, \"cases\": 14, \"infected\": 288.0, \"45_line\": 14}, {\"index\": 3634, \"location\": \"France\", \"date\": \"2020-02-26T00:00:00\", \"total_cases\": 18, \"total_infected\": 380.0, \"n_days\": 19, \"cases\": 18, \"infected\": 380.0, \"45_line\": 18}, {\"index\": 3635, \"location\": \"France\", \"date\": \"2020-02-27T00:00:00\", \"total_cases\": 38, \"total_infected\": 656.0, \"n_days\": 20, \"cases\": 38, \"infected\": 656.0, \"45_line\": 38}, {\"index\": 3636, \"location\": \"France\", \"date\": \"2020-02-28T00:00:00\", \"total_cases\": 57, \"total_infected\": 957.0, \"n_days\": 21, \"cases\": 57, \"infected\": 957.0, \"45_line\": 57}, {\"index\": 3637, \"location\": \"France\", \"date\": \"2020-02-29T00:00:00\", \"total_cases\": 100, \"total_infected\": 1134.0, \"n_days\": 22, \"cases\": 100, \"infected\": 1134.0, \"45_line\": 100}, {\"index\": 3638, \"location\": \"France\", \"date\": \"2020-03-01T00:00:00\", \"total_cases\": 130, \"total_infected\": 1217.0, \"n_days\": 23, \"cases\": 130, \"infected\": 1217.0, \"45_line\": 130}, {\"index\": 3639, \"location\": \"France\", \"date\": \"2020-03-02T00:00:00\", \"total_cases\": 191, \"total_infected\": 1792.0, \"n_days\": 24, \"cases\": 191, \"infected\": 1792.0, \"45_line\": 191}, {\"index\": 3640, \"location\": \"France\", \"date\": \"2020-03-03T00:00:00\", \"total_cases\": 204, \"total_infected\": 2290.0, \"n_days\": 25, \"cases\": 204, \"infected\": 2290.0, \"45_line\": 204}, {\"index\": 3641, \"location\": \"France\", \"date\": \"2020-03-04T00:00:00\", \"total_cases\": 288, \"total_infected\": 2290.0, \"n_days\": 26, \"cases\": 288, \"infected\": 2290.0, \"45_line\": 288}, {\"index\": 3642, \"location\": \"France\", \"date\": \"2020-03-05T00:00:00\", \"total_cases\": 380, \"total_infected\": 3678.0, \"n_days\": 27, \"cases\": 380, \"infected\": 3678.0, \"45_line\": 380}, {\"index\": 3643, \"location\": \"France\", \"date\": \"2020-03-06T00:00:00\", \"total_cases\": 656, \"total_infected\": 4487.0, \"n_days\": 28, \"cases\": 656, \"infected\": 4487.0, \"45_line\": 656}, {\"index\": 3644, \"location\": \"France\", \"date\": \"2020-03-07T00:00:00\", \"total_cases\": 957, \"total_infected\": 4523.0, \"n_days\": 29, \"cases\": 957, \"infected\": 4523.0, \"45_line\": 957}, {\"index\": 3645, \"location\": \"France\", \"date\": \"2020-03-08T00:00:00\", \"total_cases\": 1134, \"total_infected\": 6668.0, \"n_days\": 30, \"cases\": 1134, \"infected\": 6668.0, \"45_line\": 1134}, {\"index\": 3646, \"location\": \"France\", \"date\": \"2020-03-09T00:00:00\", \"total_cases\": 1217, \"total_infected\": 7699.0, \"n_days\": 31, \"cases\": 1217, \"infected\": 7699.0, \"45_line\": 1217}, {\"index\": 3647, \"location\": \"France\", \"date\": \"2020-03-10T00:00:00\", \"total_cases\": 1792, \"total_infected\": 9105.0, \"n_days\": 32, \"cases\": 1792, \"infected\": 9105.0, \"45_line\": 1792}, {\"index\": 3648, \"location\": \"France\", \"date\": \"2020-03-11T00:00:00\", \"total_cases\": 2290, \"total_infected\": 10947.0, \"n_days\": 33, \"cases\": 2290, \"infected\": 10947.0, \"45_line\": 2290}, {\"index\": 3649, \"location\": \"France\", \"date\": \"2020-03-12T00:00:00\", \"total_cases\": 2290, \"total_infected\": 12726.0, \"n_days\": 34, \"cases\": 2290, \"infected\": 12726.0, \"45_line\": 2290}, {\"index\": 3650, \"location\": \"France\", \"date\": \"2020-03-13T00:00:00\", \"total_cases\": 3678, \"total_infected\": 14431.000000000002, \"n_days\": 35, \"cases\": 3678, \"infected\": 14431.000000000002, \"45_line\": 3678}, {\"index\": 3651, \"location\": \"France\", \"date\": \"2020-03-14T00:00:00\", \"total_cases\": 4487, \"total_infected\": 16176.0, \"n_days\": 36, \"cases\": 4487, \"infected\": 16176.0, \"45_line\": 4487}, {\"index\": 3652, \"location\": \"France\", \"date\": \"2020-03-15T00:00:00\", \"total_cases\": 4523, \"total_infected\": 19414.065529634867, \"n_days\": 37, \"cases\": 4523, \"infected\": 19414.065529634867, \"45_line\": 4523}, {\"index\": 3653, \"location\": \"France\", \"date\": \"2020-03-16T00:00:00\", \"total_cases\": 6668, \"total_infected\": 23300.317778743614, \"n_days\": 38, \"cases\": 6668, \"infected\": 23300.317778743614, \"45_line\": 6668}, {\"index\": 3654, \"location\": \"France\", \"date\": \"2020-03-17T00:00:00\", \"total_cases\": 7699, \"total_infected\": 27964.508915544317, \"n_days\": 39, \"cases\": 7699, \"infected\": 27964.508915544317, \"45_line\": 7699}, {\"index\": 3655, \"location\": \"France\", \"date\": \"2020-03-18T00:00:00\", \"total_cases\": 9105, \"total_infected\": 33562.364527104095, \"n_days\": 40, \"cases\": 9105, \"infected\": 33562.364527104095, \"45_line\": 9105}, {\"index\": 3656, \"location\": \"France\", \"date\": \"2020-03-19T00:00:00\", \"total_cases\": 10947, \"total_infected\": 40280.782904221785, \"n_days\": 41, \"cases\": 10947, \"infected\": 40280.782904221785, \"45_line\": 10947}, {\"index\": 3657, \"location\": \"France\", \"date\": \"2020-03-20T00:00:00\", \"total_cases\": 12726, \"total_infected\": 48344.07510432477, \"n_days\": 42, \"cases\": 12726, \"infected\": 48344.07510432477, \"45_line\": 12726}, {\"index\": 3658, \"location\": \"France\", \"date\": \"2020-03-21T00:00:00\", \"total_cases\": 14431, \"total_infected\": 58021.45413235353, \"n_days\": 43, \"cases\": 14431, \"infected\": 58021.45413235353, \"45_line\": 14431}, {\"index\": 3659, \"location\": \"France\", \"date\": \"2020-03-22T00:00:00\", \"total_cases\": 16176, \"total_infected\": 69636.02328450885, \"n_days\": 44, \"cases\": 16176, \"infected\": 69636.02328450885, \"45_line\": 16176}, {\"index\": 9978, \"location\": \"United Kingdom\", \"date\": \"2020-02-26T00:00:00\", \"total_cases\": 13, \"total_infected\": 116.0, \"n_days\": 0, \"cases\": 13, \"infected\": 116.0, \"45_line\": 13}, {\"index\": 9979, \"location\": \"United Kingdom\", \"date\": \"2020-02-27T00:00:00\", \"total_cases\": 15, \"total_infected\": 164.0, \"n_days\": 1, \"cases\": 15, \"infected\": 164.0, \"45_line\": 15}, {\"index\": 9980, \"location\": \"United Kingdom\", \"date\": \"2020-02-28T00:00:00\", \"total_cases\": 20, \"total_infected\": 207.0, \"n_days\": 2, \"cases\": 20, \"infected\": 207.0, \"45_line\": 20}, {\"index\": 9981, \"location\": \"United Kingdom\", \"date\": \"2020-02-29T00:00:00\", \"total_cases\": 23, \"total_infected\": 274.0, \"n_days\": 3, \"cases\": 23, \"infected\": 274.0, \"45_line\": 23}, {\"index\": 9982, \"location\": \"United Kingdom\", \"date\": \"2020-03-01T00:00:00\", \"total_cases\": 36, \"total_infected\": 322.0, \"n_days\": 4, \"cases\": 36, \"infected\": 322.0, \"45_line\": 36}, {\"index\": 9983, \"location\": \"United Kingdom\", \"date\": \"2020-03-02T00:00:00\", \"total_cases\": 40, \"total_infected\": 384.0, \"n_days\": 5, \"cases\": 40, \"infected\": 384.0, \"45_line\": 40}, {\"index\": 9984, \"location\": \"United Kingdom\", \"date\": \"2020-03-03T00:00:00\", \"total_cases\": 51, \"total_infected\": 458.99999999999994, \"n_days\": 6, \"cases\": 51, \"infected\": 458.99999999999994, \"45_line\": 51}, {\"index\": 9985, \"location\": \"United Kingdom\", \"date\": \"2020-03-04T00:00:00\", \"total_cases\": 86, \"total_infected\": 458.99999999999994, \"n_days\": 7, \"cases\": 86, \"infected\": 458.99999999999994, \"45_line\": 86}, {\"index\": 9986, \"location\": \"United Kingdom\", \"date\": \"2020-03-05T00:00:00\", \"total_cases\": 116, \"total_infected\": 802.0, \"n_days\": 8, \"cases\": 116, \"infected\": 802.0, \"45_line\": 116}, {\"index\": 9987, \"location\": \"United Kingdom\", \"date\": \"2020-03-06T00:00:00\", \"total_cases\": 164, \"total_infected\": 1144.0, \"n_days\": 9, \"cases\": 164, \"infected\": 1144.0, \"45_line\": 164}, {\"index\": 9988, \"location\": \"United Kingdom\", \"date\": \"2020-03-07T00:00:00\", \"total_cases\": 207, \"total_infected\": 1145.0, \"n_days\": 10, \"cases\": 207, \"infected\": 1145.0, \"45_line\": 207}, {\"index\": 9989, \"location\": \"United Kingdom\", \"date\": \"2020-03-08T00:00:00\", \"total_cases\": 274, \"total_infected\": 1551.0, \"n_days\": 11, \"cases\": 274, \"infected\": 1551.0, \"45_line\": 274}, {\"index\": 9990, \"location\": \"United Kingdom\", \"date\": \"2020-03-09T00:00:00\", \"total_cases\": 322, \"total_infected\": 1960.0, \"n_days\": 12, \"cases\": 322, \"infected\": 1960.0, \"45_line\": 322}, {\"index\": 9991, \"location\": \"United Kingdom\", \"date\": \"2020-03-10T00:00:00\", \"total_cases\": 384, \"total_infected\": 2642.0, \"n_days\": 13, \"cases\": 384, \"infected\": 2642.0, \"45_line\": 384}, {\"index\": 9992, \"location\": \"United Kingdom\", \"date\": \"2020-03-11T00:00:00\", \"total_cases\": 459, \"total_infected\": 2716.0, \"n_days\": 14, \"cases\": 459, \"infected\": 2716.0, \"45_line\": 459}, {\"index\": 9993, \"location\": \"United Kingdom\", \"date\": \"2020-03-12T00:00:00\", \"total_cases\": 459, \"total_infected\": 4014.0, \"n_days\": 15, \"cases\": 459, \"infected\": 4014.0, \"45_line\": 459}, {\"index\": 9994, \"location\": \"United Kingdom\", \"date\": \"2020-03-13T00:00:00\", \"total_cases\": 802, \"total_infected\": 5067.0, \"n_days\": 16, \"cases\": 802, \"infected\": 5067.0, \"45_line\": 802}, {\"index\": 9995, \"location\": \"United Kingdom\", \"date\": \"2020-03-14T00:00:00\", \"total_cases\": 1144, \"total_infected\": 5741.0, \"n_days\": 17, \"cases\": 1144, \"infected\": 5741.0, \"45_line\": 1144}, {\"index\": 9996, \"location\": \"United Kingdom\", \"date\": \"2020-03-15T00:00:00\", \"total_cases\": 1145, \"total_infected\": 7058.660304888869, \"n_days\": 18, \"cases\": 1145, \"infected\": 7058.660304888869, \"45_line\": 1145}, {\"index\": 9997, \"location\": \"United Kingdom\", \"date\": \"2020-03-16T00:00:00\", \"total_cases\": 1551, \"total_infected\": 8678.74678624174, \"n_days\": 19, \"cases\": 1551, \"infected\": 8678.74678624174, \"45_line\": 1551}, {\"index\": 9998, \"location\": \"United Kingdom\", \"date\": \"2020-03-17T00:00:00\", \"total_cases\": 1960, \"total_infected\": 10670.671561788262, \"n_days\": 20, \"cases\": 1960, \"infected\": 10670.671561788262, \"45_line\": 1960}, {\"index\": 9999, \"location\": \"United Kingdom\", \"date\": \"2020-03-18T00:00:00\", \"total_cases\": 2642, \"total_infected\": 13119.778049068336, \"n_days\": 21, \"cases\": 2642, \"infected\": 13119.778049068336, \"45_line\": 2642}, {\"index\": 10000, \"location\": \"United Kingdom\", \"date\": \"2020-03-19T00:00:00\", \"total_cases\": 2716, \"total_infected\": 16130.997478472565, \"n_days\": 22, \"cases\": 2716, \"infected\": 16130.997478472565, \"45_line\": 2716}, {\"index\": 10001, \"location\": \"United Kingdom\", \"date\": \"2020-03-20T00:00:00\", \"total_cases\": 4014, \"total_infected\": 19833.344640229356, \"n_days\": 23, \"cases\": 4014, \"infected\": 19833.344640229356, \"45_line\": 4014}, {\"index\": 10002, \"location\": \"United Kingdom\", \"date\": \"2020-03-21T00:00:00\", \"total_cases\": 5067, \"total_infected\": 24385.445484265347, \"n_days\": 24, \"cases\": 5067, \"infected\": 24385.445484265347, \"45_line\": 5067}, {\"index\": 10003, \"location\": \"United Kingdom\", \"date\": \"2020-03-22T00:00:00\", \"total_cases\": 5741, \"total_infected\": 29982.333401291646, \"n_days\": 25, \"cases\": 5741, \"infected\": 29982.333401291646, \"45_line\": 5741}, {\"index\": 3882, \"location\": \"Germany\", \"date\": \"2020-03-01T00:00:00\", \"total_cases\": 130, \"total_infected\": 1176.0, \"n_days\": 0, \"cases\": 130, \"infected\": 1176.0, \"45_line\": 130}, {\"index\": 3883, \"location\": \"Germany\", \"date\": \"2020-03-02T00:00:00\", \"total_cases\": 159, \"total_infected\": 1457.0, \"n_days\": 1, \"cases\": 159, \"infected\": 1457.0, \"45_line\": 159}, {\"index\": 3884, \"location\": \"Germany\", \"date\": \"2020-03-03T00:00:00\", \"total_cases\": 196, \"total_infected\": 1908.0, \"n_days\": 2, \"cases\": 196, \"infected\": 1908.0, \"45_line\": 196}, {\"index\": 3885, \"location\": \"Germany\", \"date\": \"2020-03-04T00:00:00\", \"total_cases\": 262, \"total_infected\": 2078.0, \"n_days\": 3, \"cases\": 262, \"infected\": 2078.0, \"45_line\": 262}, {\"index\": 3886, \"location\": \"Germany\", \"date\": \"2020-03-05T00:00:00\", \"total_cases\": 482, \"total_infected\": 3675.0, \"n_days\": 4, \"cases\": 482, \"infected\": 3675.0, \"45_line\": 482}, {\"index\": 3887, \"location\": \"Germany\", \"date\": \"2020-03-06T00:00:00\", \"total_cases\": 670, \"total_infected\": 4585.0, \"n_days\": 5, \"cases\": 670, \"infected\": 4585.0, \"45_line\": 670}, {\"index\": 3888, \"location\": \"Germany\", \"date\": \"2020-03-07T00:00:00\", \"total_cases\": 799, \"total_infected\": 5795.0, \"n_days\": 6, \"cases\": 799, \"infected\": 5795.0, \"45_line\": 799}, {\"index\": 3889, \"location\": \"Germany\", \"date\": \"2020-03-08T00:00:00\", \"total_cases\": 1040, \"total_infected\": 7272.0, \"n_days\": 7, \"cases\": 1040, \"infected\": 7272.0, \"45_line\": 1040}, {\"index\": 3890, \"location\": \"Germany\", \"date\": \"2020-03-09T00:00:00\", \"total_cases\": 1176, \"total_infected\": 9257.0, \"n_days\": 8, \"cases\": 1176, \"infected\": 9257.0, \"45_line\": 1176}, {\"index\": 3891, \"location\": \"Germany\", \"date\": \"2020-03-10T00:00:00\", \"total_cases\": 1457, \"total_infected\": 12327.0, \"n_days\": 9, \"cases\": 1457, \"infected\": 12327.0, \"45_line\": 1457}, {\"index\": 3892, \"location\": \"Germany\", \"date\": \"2020-03-11T00:00:00\", \"total_cases\": 1908, \"total_infected\": 15320.0, \"n_days\": 10, \"cases\": 1908, \"infected\": 15320.0, \"45_line\": 1908}, {\"index\": 3893, \"location\": \"Germany\", \"date\": \"2020-03-12T00:00:00\", \"total_cases\": 2078, \"total_infected\": 19848.0, \"n_days\": 11, \"cases\": 2078, \"infected\": 19848.0, \"45_line\": 2078}, {\"index\": 3894, \"location\": \"Germany\", \"date\": \"2020-03-13T00:00:00\", \"total_cases\": 3675, \"total_infected\": 22213.0, \"n_days\": 12, \"cases\": 3675, \"infected\": 22213.0, \"45_line\": 3675}, {\"index\": 3895, \"location\": \"Germany\", \"date\": \"2020-03-14T00:00:00\", \"total_cases\": 4585, \"total_infected\": 24873.0, \"n_days\": 13, \"cases\": 4585, \"infected\": 24873.0, \"45_line\": 4585}, {\"index\": 3896, \"location\": \"Germany\", \"date\": \"2020-03-15T00:00:00\", \"total_cases\": 5795, \"total_infected\": 30711.77225973435, \"n_days\": 14, \"cases\": 5795, \"infected\": 30711.77225973435, \"45_line\": 5795}, {\"index\": 3897, \"location\": \"Germany\", \"date\": \"2020-03-16T00:00:00\", \"total_cases\": 7272, \"total_infected\": 37921.15769443928, \"n_days\": 15, \"cases\": 7272, \"infected\": 37921.15769443928, \"45_line\": 7272}, {\"index\": 3898, \"location\": \"Germany\", \"date\": \"2020-03-17T00:00:00\", \"total_cases\": 9257, \"total_infected\": 46822.89868279226, \"n_days\": 16, \"cases\": 9257, \"infected\": 46822.89868279226, \"45_line\": 9257}, {\"index\": 3899, \"location\": \"Germany\", \"date\": \"2020-03-18T00:00:00\", \"total_cases\": 12327, \"total_infected\": 57814.26449911677, \"n_days\": 17, \"cases\": 12327, \"infected\": 57814.26449911677, \"45_line\": 12327}, {\"index\": 3900, \"location\": \"Germany\", \"date\": \"2020-03-19T00:00:00\", \"total_cases\": 15320, \"total_infected\": 71385.78075266027, \"n_days\": 18, \"cases\": 15320, \"infected\": 71385.78075266027, \"45_line\": 15320}, {\"index\": 3901, \"location\": \"Germany\", \"date\": \"2020-03-20T00:00:00\", \"total_cases\": 19848, \"total_infected\": 88143.1206954943, \"n_days\": 19, \"cases\": 19848, \"infected\": 88143.1206954943, \"45_line\": 19848}, {\"index\": 3902, \"location\": \"Germany\", \"date\": \"2020-03-21T00:00:00\", \"total_cases\": 22213, \"total_infected\": 108834.13537017241, \"n_days\": 20, \"cases\": 22213, \"infected\": 108834.13537017241, \"45_line\": 22213}, {\"index\": 3903, \"location\": \"Germany\", \"date\": \"2020-03-22T00:00:00\", \"total_cases\": 24873, \"total_infected\": 134382.2289057948, \"n_days\": 21, \"cases\": 24873, \"infected\": 134382.2289057948, \"45_line\": 24873}, {\"index\": 7794, \"location\": \"Portugal\", \"date\": \"2020-03-09T00:00:00\", \"total_cases\": 30, \"total_infected\": 448.0, \"n_days\": 0, \"cases\": 30, \"infected\": 448.0, \"45_line\": 30}, {\"index\": 7795, \"location\": \"Portugal\", \"date\": \"2020-03-10T00:00:00\", \"total_cases\": 41, \"total_infected\": 448.0, \"n_days\": 1, \"cases\": 41, \"infected\": 448.0, \"45_line\": 41}, {\"index\": 7796, \"location\": \"Portugal\", \"date\": \"2020-03-11T00:00:00\", \"total_cases\": 59, \"total_infected\": 785.0, \"n_days\": 2, \"cases\": 59, \"infected\": 785.0, \"45_line\": 59}, {\"index\": 7797, \"location\": \"Portugal\", \"date\": \"2020-03-12T00:00:00\", \"total_cases\": 59, \"total_infected\": 1020.0, \"n_days\": 3, \"cases\": 59, \"infected\": 1020.0, \"45_line\": 59}, {\"index\": 7798, \"location\": \"Portugal\", \"date\": \"2020-03-13T00:00:00\", \"total_cases\": 112, \"total_infected\": 1280.0, \"n_days\": 4, \"cases\": 112, \"infected\": 1280.0, \"45_line\": 112}, {\"index\": 7799, \"location\": \"Portugal\", \"date\": \"2020-03-14T00:00:00\", \"total_cases\": 169, \"total_infected\": 1599.9999999999998, \"n_days\": 5, \"cases\": 169, \"infected\": 1599.9999999999998, \"45_line\": 169}, {\"index\": 7800, \"location\": \"Portugal\", \"date\": \"2020-03-15T00:00:00\", \"total_cases\": 245, \"total_infected\": 2007.3490162601236, \"n_days\": 6, \"cases\": 245, \"infected\": 2007.3490162601236, \"45_line\": 245}, {\"index\": 7801, \"location\": \"Portugal\", \"date\": \"2020-03-16T00:00:00\", \"total_cases\": 331, \"total_infected\": 2518.406295675304, \"n_days\": 7, \"cases\": 331, \"infected\": 2518.406295675304, \"45_line\": 331}, {\"index\": 7802, \"location\": \"Portugal\", \"date\": \"2020-03-17T00:00:00\", \"total_cases\": 448, \"total_infected\": 3159.5752501044526, \"n_days\": 8, \"cases\": 448, \"infected\": 3159.5752501044526, \"45_line\": 448}, {\"index\": 7803, \"location\": \"Portugal\", \"date\": \"2020-03-18T00:00:00\", \"total_cases\": 448, \"total_infected\": 3963.9814188106297, \"n_days\": 9, \"cases\": 448, \"infected\": 3963.9814188106297, \"45_line\": 448}, {\"index\": 7804, \"location\": \"Portugal\", \"date\": \"2020-03-19T00:00:00\", \"total_cases\": 785, \"total_infected\": 4973.18387595183, \"n_days\": 10, \"cases\": 785, \"infected\": 4973.18387595183, \"45_line\": 785}, {\"index\": 7805, \"location\": \"Portugal\", \"date\": \"2020-03-20T00:00:00\", \"total_cases\": 1020, \"total_infected\": 6239.322350670384, \"n_days\": 11, \"cases\": 1020, \"infected\": 6239.322350670384, \"45_line\": 1020}, {\"index\": 7806, \"location\": \"Portugal\", \"date\": \"2020-03-21T00:00:00\", \"total_cases\": 1280, \"total_infected\": 7827.8109892175, \"n_days\": 12, \"cases\": 1280, \"infected\": 7827.8109892175, \"45_line\": 1280}, {\"index\": 7807, \"location\": \"Portugal\", \"date\": \"2020-03-22T00:00:00\", \"total_cases\": 1600, \"total_infected\": 9820.71793042246, \"n_days\": 13, \"cases\": 1600, \"infected\": 9820.71793042246, \"45_line\": 1600}, {\"index\": 10034, \"location\": \"United States\", \"date\": \"2020-02-21T00:00:00\", \"total_cases\": 15, \"total_infected\": 68.0, \"n_days\": 0, \"cases\": 15, \"infected\": 68.0, \"45_line\": 15}, {\"index\": 10035, \"location\": \"United States\", \"date\": \"2020-02-22T00:00:00\", \"total_cases\": 15, \"total_infected\": 74.0, \"n_days\": 1, \"cases\": 15, \"infected\": 74.0, \"45_line\": 15}, {\"index\": 10036, \"location\": \"United States\", \"date\": \"2020-02-23T00:00:00\", \"total_cases\": 15, \"total_infected\": 98.0, \"n_days\": 2, \"cases\": 15, \"infected\": 98.0, \"45_line\": 15}, {\"index\": 10037, \"location\": \"United States\", \"date\": \"2020-02-24T00:00:00\", \"total_cases\": 51, \"total_infected\": 118.0, \"n_days\": 3, \"cases\": 51, \"infected\": 118.0, \"45_line\": 51}, {\"index\": 10038, \"location\": \"United States\", \"date\": \"2020-02-25T00:00:00\", \"total_cases\": 51, \"total_infected\": 149.0, \"n_days\": 4, \"cases\": 51, \"infected\": 149.0, \"45_line\": 51}, {\"index\": 10039, \"location\": \"United States\", \"date\": \"2020-02-26T00:00:00\", \"total_cases\": 57, \"total_infected\": 217.0, \"n_days\": 5, \"cases\": 57, \"infected\": 217.0, \"45_line\": 57}, {\"index\": 10040, \"location\": \"United States\", \"date\": \"2020-02-27T00:00:00\", \"total_cases\": 58, \"total_infected\": 262.0, \"n_days\": 6, \"cases\": 58, \"infected\": 262.0, \"45_line\": 58}, {\"index\": 10041, \"location\": \"United States\", \"date\": \"2020-02-28T00:00:00\", \"total_cases\": 60, \"total_infected\": 402.0, \"n_days\": 7, \"cases\": 60, \"infected\": 402.0, \"45_line\": 60}, {\"index\": 10042, \"location\": \"United States\", \"date\": \"2020-02-29T00:00:00\", \"total_cases\": 68, \"total_infected\": 518.0, \"n_days\": 8, \"cases\": 68, \"infected\": 518.0, \"45_line\": 68}, {\"index\": 10043, \"location\": \"United States\", \"date\": \"2020-03-01T00:00:00\", \"total_cases\": 74, \"total_infected\": 583.0, \"n_days\": 9, \"cases\": 74, \"infected\": 583.0, \"45_line\": 74}, {\"index\": 10044, \"location\": \"United States\", \"date\": \"2020-03-02T00:00:00\", \"total_cases\": 98, \"total_infected\": 959.0, \"n_days\": 10, \"cases\": 98, \"infected\": 959.0, \"45_line\": 98}, {\"index\": 10045, \"location\": \"United States\", \"date\": \"2020-03-03T00:00:00\", \"total_cases\": 118, \"total_infected\": 1281.0, \"n_days\": 11, \"cases\": 118, \"infected\": 1281.0, \"45_line\": 118}, {\"index\": 10046, \"location\": \"United States\", \"date\": \"2020-03-04T00:00:00\", \"total_cases\": 149, \"total_infected\": 1663.0, \"n_days\": 12, \"cases\": 149, \"infected\": 1663.0, \"45_line\": 149}, {\"index\": 10047, \"location\": \"United States\", \"date\": \"2020-03-05T00:00:00\", \"total_cases\": 217, \"total_infected\": 2179.0, \"n_days\": 13, \"cases\": 217, \"infected\": 2179.0, \"45_line\": 217}, {\"index\": 10048, \"location\": \"United States\", \"date\": \"2020-03-06T00:00:00\", \"total_cases\": 262, \"total_infected\": 2727.0, \"n_days\": 14, \"cases\": 262, \"infected\": 2727.0, \"45_line\": 262}, {\"index\": 10049, \"location\": \"United States\", \"date\": \"2020-03-07T00:00:00\", \"total_cases\": 402, \"total_infected\": 3499.0, \"n_days\": 15, \"cases\": 402, \"infected\": 3499.0, \"45_line\": 402}, {\"index\": 10050, \"location\": \"United States\", \"date\": \"2020-03-08T00:00:00\", \"total_cases\": 518, \"total_infected\": 4632.0, \"n_days\": 16, \"cases\": 518, \"infected\": 4632.0, \"45_line\": 518}, {\"index\": 10051, \"location\": \"United States\", \"date\": \"2020-03-09T00:00:00\", \"total_cases\": 583, \"total_infected\": 6421.0, \"n_days\": 17, \"cases\": 583, \"infected\": 6421.0, \"45_line\": 583}, {\"index\": 10052, \"location\": \"United States\", \"date\": \"2020-03-10T00:00:00\", \"total_cases\": 959, \"total_infected\": 7783.0, \"n_days\": 18, \"cases\": 959, \"infected\": 7783.0, \"45_line\": 959}, {\"index\": 10053, \"location\": \"United States\", \"date\": \"2020-03-11T00:00:00\", \"total_cases\": 1281, \"total_infected\": 13677.0, \"n_days\": 19, \"cases\": 1281, \"infected\": 13677.0, \"45_line\": 1281}, {\"index\": 10054, \"location\": \"United States\", \"date\": \"2020-03-12T00:00:00\", \"total_cases\": 1663, \"total_infected\": 19100.0, \"n_days\": 20, \"cases\": 1663, \"infected\": 19100.0, \"45_line\": 1663}, {\"index\": 10055, \"location\": \"United States\", \"date\": \"2020-03-13T00:00:00\", \"total_cases\": 2179, \"total_infected\": 25489.0, \"n_days\": 21, \"cases\": 2179, \"infected\": 25489.0, \"45_line\": 2179}, {\"index\": 10056, \"location\": \"United States\", \"date\": \"2020-03-14T00:00:00\", \"total_cases\": 2727, \"total_infected\": 33272.0, \"n_days\": 22, \"cases\": 2727, \"infected\": 33272.0, \"45_line\": 2727}, {\"index\": 10057, \"location\": \"United States\", \"date\": \"2020-03-15T00:00:00\", \"total_cases\": 3499, \"total_infected\": 42638.01321651264, \"n_days\": 23, \"cases\": 3499, \"infected\": 42638.01321651264, \"45_line\": 3499}, {\"index\": 10058, \"location\": \"United States\", \"date\": \"2020-03-16T00:00:00\", \"total_cases\": 4632, \"total_infected\": 54640.543732012105, \"n_days\": 24, \"cases\": 4632, \"infected\": 54640.543732012105, \"45_line\": 4632}, {\"index\": 10059, \"location\": \"United States\", \"date\": \"2020-03-17T00:00:00\", \"total_cases\": 6421, \"total_infected\": 70021.76682504716, \"n_days\": 25, \"cases\": 6421, \"infected\": 70021.76682504716, \"45_line\": 6421}, {\"index\": 10060, \"location\": \"United States\", \"date\": \"2020-03-18T00:00:00\", \"total_cases\": 7783, \"total_infected\": 89732.77889306105, \"n_days\": 26, \"cases\": 7783, \"infected\": 89732.77889306105, \"45_line\": 7783}, {\"index\": 10061, \"location\": \"United States\", \"date\": \"2020-03-19T00:00:00\", \"total_cases\": 13677, \"total_infected\": 114992.4084033645, \"n_days\": 27, \"cases\": 13677, \"infected\": 114992.4084033645, \"45_line\": 13677}, {\"index\": 10062, \"location\": \"United States\", \"date\": \"2020-03-20T00:00:00\", \"total_cases\": 19100, \"total_infected\": 147362.58202997342, \"n_days\": 28, \"cases\": 19100, \"infected\": 147362.58202997342, \"45_line\": 19100}, {\"index\": 10063, \"location\": \"United States\", \"date\": \"2020-03-21T00:00:00\", \"total_cases\": 25489, \"total_infected\": 188844.90623387336, \"n_days\": 29, \"cases\": 25489, \"infected\": 188844.90623387336, \"45_line\": 25489}, {\"index\": 10064, \"location\": \"United States\", \"date\": \"2020-03-22T00:00:00\", \"total_cases\": 33272, \"total_infected\": 242004.43639910384, \"n_days\": 30, \"cases\": 33272, \"infected\": 242004.43639910384, \"45_line\": 33272}, {\"index\": 8530, \"location\": \"Singapore\", \"date\": \"2020-03-13T00:00:00\", \"total_cases\": 200, \"total_infected\": 432.0, \"n_days\": 0, \"cases\": 200, \"infected\": 432.0, \"45_line\": 200}, {\"index\": 8531, \"location\": \"Singapore\", \"date\": \"2020-03-14T00:00:00\", \"total_cases\": 212, \"total_infected\": 455.0, \"n_days\": 1, \"cases\": 212, \"infected\": 455.0, \"45_line\": 212}, {\"index\": 8532, \"location\": \"Singapore\", \"date\": \"2020-03-15T00:00:00\", \"total_cases\": 226, \"total_infected\": 478.601682971612, \"n_days\": 2, \"cases\": 226, \"infected\": 478.601682971612, \"45_line\": 226}, {\"index\": 8533, \"location\": \"Singapore\", \"date\": \"2020-03-16T00:00:00\", \"total_cases\": 243, \"total_infected\": 503.42762844672393, \"n_days\": 3, \"cases\": 243, \"infected\": 503.42762844672393, \"45_line\": 243}, {\"index\": 8534, \"location\": \"Singapore\", \"date\": \"2020-03-17T00:00:00\", \"total_cases\": 266, \"total_infected\": 529.5413411626581, \"n_days\": 4, \"cases\": 266, \"infected\": 529.5413411626581, \"45_line\": 266}, {\"index\": 8535, \"location\": \"Singapore\", \"date\": \"2020-03-18T00:00:00\", \"total_cases\": 313, \"total_infected\": 557.0096199637203, \"n_days\": 5, \"cases\": 313, \"infected\": 557.0096199637203, \"45_line\": 313}, {\"index\": 8536, \"location\": \"Singapore\", \"date\": \"2020-03-19T00:00:00\", \"total_cases\": 345, \"total_infected\": 585.9027286725594, \"n_days\": 6, \"cases\": 345, \"infected\": 585.9027286725594, \"45_line\": 345}, {\"index\": 8537, \"location\": \"Singapore\", \"date\": \"2020-03-20T00:00:00\", \"total_cases\": 385, \"total_infected\": 616.2945758249377, \"n_days\": 7, \"cases\": 385, \"infected\": 616.2945758249377, \"45_line\": 385}, {\"index\": 8538, \"location\": \"Singapore\", \"date\": \"2020-03-21T00:00:00\", \"total_cases\": 432, \"total_infected\": 648.2629037276724, \"n_days\": 8, \"cases\": 432, \"infected\": 648.2629037276724, \"45_line\": 432}, {\"index\": 8539, \"location\": \"Singapore\", \"date\": \"2020-03-22T00:00:00\", \"total_cases\": 455, \"total_infected\": 681.8894873233585, \"n_days\": 9, \"cases\": 455, \"infected\": 681.8894873233585, \"45_line\": 455}, {\"index\": 8805, \"location\": \"South Korea\", \"date\": \"2020-02-12T00:00:00\", \"total_cases\": 28, \"total_infected\": 104.0, \"n_days\": 0, \"cases\": 28, \"infected\": 104.0, \"45_line\": 28}, {\"index\": 8806, \"location\": \"South Korea\", \"date\": \"2020-02-13T00:00:00\", \"total_cases\": 28, \"total_infected\": 204.0, \"n_days\": 1, \"cases\": 28, \"infected\": 204.0, \"45_line\": 28}, {\"index\": 8807, \"location\": \"South Korea\", \"date\": \"2020-02-14T00:00:00\", \"total_cases\": 28, \"total_infected\": 433.0, \"n_days\": 2, \"cases\": 28, \"infected\": 433.0, \"45_line\": 28}, {\"index\": 8808, \"location\": \"South Korea\", \"date\": \"2020-02-15T00:00:00\", \"total_cases\": 28, \"total_infected\": 602.0, \"n_days\": 3, \"cases\": 28, \"infected\": 602.0, \"45_line\": 28}, {\"index\": 8809, \"location\": \"South Korea\", \"date\": \"2020-02-16T00:00:00\", \"total_cases\": 29, \"total_infected\": 833.0000000000001, \"n_days\": 4, \"cases\": 29, \"infected\": 833.0000000000001, \"45_line\": 29}, {\"index\": 8810, \"location\": \"South Korea\", \"date\": \"2020-02-17T00:00:00\", \"total_cases\": 30, \"total_infected\": 976.9999999999999, \"n_days\": 5, \"cases\": 30, \"infected\": 976.9999999999999, \"45_line\": 30}, {\"index\": 8811, \"location\": \"South Korea\", \"date\": \"2020-02-18T00:00:00\", \"total_cases\": 31, \"total_infected\": 1261.0, \"n_days\": 6, \"cases\": 31, \"infected\": 1261.0, \"45_line\": 31}, {\"index\": 8812, \"location\": \"South Korea\", \"date\": \"2020-02-19T00:00:00\", \"total_cases\": 31, \"total_infected\": 1766.0, \"n_days\": 7, \"cases\": 31, \"infected\": 1766.0, \"45_line\": 31}, {\"index\": 8813, \"location\": \"South Korea\", \"date\": \"2020-02-20T00:00:00\", \"total_cases\": 104, \"total_infected\": 2337.0, \"n_days\": 8, \"cases\": 104, \"infected\": 2337.0, \"45_line\": 104}, {\"index\": 8814, \"location\": \"South Korea\", \"date\": \"2020-02-21T00:00:00\", \"total_cases\": 204, \"total_infected\": 3150.0, \"n_days\": 9, \"cases\": 204, \"infected\": 3150.0, \"45_line\": 204}, {\"index\": 8815, \"location\": \"South Korea\", \"date\": \"2020-02-22T00:00:00\", \"total_cases\": 433, \"total_infected\": 3736.0000000000005, \"n_days\": 10, \"cases\": 433, \"infected\": 3736.0000000000005, \"45_line\": 433}, {\"index\": 8816, \"location\": \"South Korea\", \"date\": \"2020-02-23T00:00:00\", \"total_cases\": 602, \"total_infected\": 4335.0, \"n_days\": 11, \"cases\": 602, \"infected\": 4335.0, \"45_line\": 602}, {\"index\": 8817, \"location\": \"South Korea\", \"date\": \"2020-02-24T00:00:00\", \"total_cases\": 833, \"total_infected\": 5186.0, \"n_days\": 12, \"cases\": 833, \"infected\": 5186.0, \"45_line\": 833}, {\"index\": 8818, \"location\": \"South Korea\", \"date\": \"2020-02-25T00:00:00\", \"total_cases\": 977, \"total_infected\": 5621.0, \"n_days\": 13, \"cases\": 977, \"infected\": 5621.0, \"45_line\": 977}, {\"index\": 8819, \"location\": \"South Korea\", \"date\": \"2020-02-26T00:00:00\", \"total_cases\": 1261, \"total_infected\": 6088.0, \"n_days\": 14, \"cases\": 1261, \"infected\": 6088.0, \"45_line\": 1261}, {\"index\": 8820, \"location\": \"South Korea\", \"date\": \"2020-02-27T00:00:00\", \"total_cases\": 1766, \"total_infected\": 6593.0, \"n_days\": 15, \"cases\": 1766, \"infected\": 6593.0, \"45_line\": 1766}, {\"index\": 8821, \"location\": \"South Korea\", \"date\": \"2020-02-28T00:00:00\", \"total_cases\": 2337, \"total_infected\": 7041.0, \"n_days\": 16, \"cases\": 2337, \"infected\": 7041.0, \"45_line\": 2337}, {\"index\": 8822, \"location\": \"South Korea\", \"date\": \"2020-02-29T00:00:00\", \"total_cases\": 3150, \"total_infected\": 7314.0, \"n_days\": 17, \"cases\": 3150, \"infected\": 7314.0, \"45_line\": 3150}, {\"index\": 8823, \"location\": \"South Korea\", \"date\": \"2020-03-01T00:00:00\", \"total_cases\": 3736, \"total_infected\": 7478.0, \"n_days\": 18, \"cases\": 3736, \"infected\": 7478.0, \"45_line\": 3736}, {\"index\": 8824, \"location\": \"South Korea\", \"date\": \"2020-03-02T00:00:00\", \"total_cases\": 4335, \"total_infected\": 7513.0, \"n_days\": 19, \"cases\": 4335, \"infected\": 7513.0, \"45_line\": 4335}, {\"index\": 8825, \"location\": \"South Korea\", \"date\": \"2020-03-03T00:00:00\", \"total_cases\": 5186, \"total_infected\": 7755.0, \"n_days\": 20, \"cases\": 5186, \"infected\": 7755.0, \"45_line\": 5186}, {\"index\": 8826, \"location\": \"South Korea\", \"date\": \"2020-03-04T00:00:00\", \"total_cases\": 5621, \"total_infected\": 7869.0, \"n_days\": 21, \"cases\": 5621, \"infected\": 7869.0, \"45_line\": 5621}, {\"index\": 8827, \"location\": \"South Korea\", \"date\": \"2020-03-05T00:00:00\", \"total_cases\": 6088, \"total_infected\": 7978.999999999999, \"n_days\": 22, \"cases\": 6088, \"infected\": 7978.999999999999, \"45_line\": 6088}, {\"index\": 8828, \"location\": \"South Korea\", \"date\": \"2020-03-06T00:00:00\", \"total_cases\": 6593, \"total_infected\": 8085.999999999999, \"n_days\": 23, \"cases\": 6593, \"infected\": 8085.999999999999, \"45_line\": 6593}, {\"index\": 8829, \"location\": \"South Korea\", \"date\": \"2020-03-07T00:00:00\", \"total_cases\": 7041, \"total_infected\": 8161.999999999999, \"n_days\": 24, \"cases\": 7041, \"infected\": 8161.999999999999, \"45_line\": 7041}, {\"index\": 8830, \"location\": \"South Korea\", \"date\": \"2020-03-08T00:00:00\", \"total_cases\": 7314, \"total_infected\": 8236.0, \"n_days\": 25, \"cases\": 7314, \"infected\": 8236.0, \"45_line\": 7314}, {\"index\": 8831, \"location\": \"South Korea\", \"date\": \"2020-03-09T00:00:00\", \"total_cases\": 7478, \"total_infected\": 8320.0, \"n_days\": 26, \"cases\": 7478, \"infected\": 8320.0, \"45_line\": 7478}, {\"index\": 8832, \"location\": \"South Korea\", \"date\": \"2020-03-10T00:00:00\", \"total_cases\": 7513, \"total_infected\": 8413.0, \"n_days\": 27, \"cases\": 7513, \"infected\": 8413.0, \"45_line\": 7513}, {\"index\": 8833, \"location\": \"South Korea\", \"date\": \"2020-03-11T00:00:00\", \"total_cases\": 7755, \"total_infected\": 8565.0, \"n_days\": 28, \"cases\": 7755, \"infected\": 8565.0, \"45_line\": 7755}, {\"index\": 8834, \"location\": \"South Korea\", \"date\": \"2020-03-12T00:00:00\", \"total_cases\": 7869, \"total_infected\": 8652.0, \"n_days\": 29, \"cases\": 7869, \"infected\": 8652.0, \"45_line\": 7869}, {\"index\": 8835, \"location\": \"South Korea\", \"date\": \"2020-03-13T00:00:00\", \"total_cases\": 7979, \"total_infected\": 8799.0, \"n_days\": 30, \"cases\": 7979, \"infected\": 8799.0, \"45_line\": 7979}, {\"index\": 8836, \"location\": \"South Korea\", \"date\": \"2020-03-14T00:00:00\", \"total_cases\": 8086, \"total_infected\": 8897.0, \"n_days\": 31, \"cases\": 8086, \"infected\": 8897.0, \"45_line\": 8086}, {\"index\": 8837, \"location\": \"South Korea\", \"date\": \"2020-03-15T00:00:00\", \"total_cases\": 8162, \"total_infected\": 10173.885535556676, \"n_days\": 32, \"cases\": 8162, \"infected\": 10173.885535556676, \"45_line\": 8162}, {\"index\": 8838, \"location\": \"South Korea\", \"date\": \"2020-03-16T00:00:00\", \"total_cases\": 8236, \"total_infected\": 11634.027974666667, \"n_days\": 33, \"cases\": 8236, \"infected\": 11634.027974666667, \"45_line\": 8236}, {\"index\": 8839, \"location\": \"South Korea\", \"date\": \"2020-03-17T00:00:00\", \"total_cases\": 8320, \"total_infected\": 13303.72810292491, \"n_days\": 34, \"cases\": 8320, \"infected\": 13303.72810292491, \"45_line\": 8320}, {\"index\": 8840, \"location\": \"South Korea\", \"date\": \"2020-03-18T00:00:00\", \"total_cases\": 8413, \"total_infected\": 15213.061359483712, \"n_days\": 35, \"cases\": 8413, \"infected\": 15213.061359483712, \"45_line\": 8413}, {\"index\": 8841, \"location\": \"South Korea\", \"date\": \"2020-03-19T00:00:00\", \"total_cases\": 8565, \"total_infected\": 17396.419570280712, \"n_days\": 36, \"cases\": 8565, \"infected\": 17396.419570280712, \"45_line\": 8565}, {\"index\": 8842, \"location\": \"South Korea\", \"date\": \"2020-03-20T00:00:00\", \"total_cases\": 8652, \"total_infected\": 19893.130430094865, \"n_days\": 37, \"cases\": 8652, \"infected\": 19893.130430094865, \"45_line\": 8652}, {\"index\": 8843, \"location\": \"South Korea\", \"date\": \"2020-03-21T00:00:00\", \"total_cases\": 8799, \"total_infected\": 22748.1658918382, \"n_days\": 38, \"cases\": 8799, \"infected\": 22748.1658918382, \"45_line\": 8799}, {\"index\": 8844, \"location\": \"South Korea\", \"date\": \"2020-03-22T00:00:00\", \"total_cases\": 8897, \"total_infected\": 26012.95222293092, \"n_days\": 39, \"cases\": 8897, \"infected\": 26012.95222293092, \"45_line\": 8897}, {\"index\": 5077, \"location\": \"Japan\", \"date\": \"2020-02-05T00:00:00\", \"total_cases\": 22, \"total_infected\": 28.0, \"n_days\": 0, \"cases\": 22, \"infected\": 28.0, \"45_line\": 22}, {\"index\": 5078, \"location\": \"Japan\", \"date\": \"2020-02-06T00:00:00\", \"total_cases\": 45, \"total_infected\": 29.0, \"n_days\": 1, \"cases\": 45, \"infected\": 29.0, \"45_line\": 45}, {\"index\": 5079, \"location\": \"Japan\", \"date\": \"2020-02-07T00:00:00\", \"total_cases\": 25, \"total_infected\": 43.0, \"n_days\": 2, \"cases\": 25, \"infected\": 43.0, \"45_line\": 25}, {\"index\": 5080, \"location\": \"Japan\", \"date\": \"2020-02-08T00:00:00\", \"total_cases\": 25, \"total_infected\": 59.0, \"n_days\": 3, \"cases\": 25, \"infected\": 59.0, \"45_line\": 25}, {\"index\": 5081, \"location\": \"Japan\", \"date\": \"2020-02-09T00:00:00\", \"total_cases\": 26, \"total_infected\": 66.0, \"n_days\": 4, \"cases\": 26, \"infected\": 66.0, \"45_line\": 26}, {\"index\": 5082, \"location\": \"Japan\", \"date\": \"2020-02-10T00:00:00\", \"total_cases\": 26, \"total_infected\": 74.0, \"n_days\": 5, \"cases\": 26, \"infected\": 74.0, \"45_line\": 26}, {\"index\": 5083, \"location\": \"Japan\", \"date\": \"2020-02-11T00:00:00\", \"total_cases\": 26, \"total_infected\": 84.0, \"n_days\": 6, \"cases\": 26, \"infected\": 84.0, \"45_line\": 26}, {\"index\": 5084, \"location\": \"Japan\", \"date\": \"2020-02-12T00:00:00\", \"total_cases\": 28, \"total_infected\": 94.0, \"n_days\": 7, \"cases\": 28, \"infected\": 94.0, \"45_line\": 28}, {\"index\": 5085, \"location\": \"Japan\", \"date\": \"2020-02-13T00:00:00\", \"total_cases\": 28, \"total_infected\": 104.99999999999999, \"n_days\": 8, \"cases\": 28, \"infected\": 104.99999999999999, \"45_line\": 28}, {\"index\": 5086, \"location\": \"Japan\", \"date\": \"2020-02-14T00:00:00\", \"total_cases\": 29, \"total_infected\": 122.0, \"n_days\": 9, \"cases\": 29, \"infected\": 122.0, \"45_line\": 29}, {\"index\": 5087, \"location\": \"Japan\", \"date\": \"2020-02-15T00:00:00\", \"total_cases\": 43, \"total_infected\": 147.0, \"n_days\": 10, \"cases\": 43, \"infected\": 147.0, \"45_line\": 43}, {\"index\": 5088, \"location\": \"Japan\", \"date\": \"2020-02-16T00:00:00\", \"total_cases\": 59, \"total_infected\": 159.0, \"n_days\": 11, \"cases\": 59, \"infected\": 159.0, \"45_line\": 59}, {\"index\": 5089, \"location\": \"Japan\", \"date\": \"2020-02-17T00:00:00\", \"total_cases\": 66, \"total_infected\": 170.0, \"n_days\": 12, \"cases\": 66, \"infected\": 170.0, \"45_line\": 66}, {\"index\": 5090, \"location\": \"Japan\", \"date\": \"2020-02-18T00:00:00\", \"total_cases\": 74, \"total_infected\": 189.0, \"n_days\": 13, \"cases\": 74, \"infected\": 189.0, \"45_line\": 74}, {\"index\": 5091, \"location\": \"Japan\", \"date\": \"2020-02-19T00:00:00\", \"total_cases\": 84, \"total_infected\": 214.00000000000003, \"n_days\": 14, \"cases\": 84, \"infected\": 214.00000000000003, \"45_line\": 84}, {\"index\": 5092, \"location\": \"Japan\", \"date\": \"2020-02-20T00:00:00\", \"total_cases\": 94, \"total_infected\": 228.0, \"n_days\": 15, \"cases\": 94, \"infected\": 228.0, \"45_line\": 94}, {\"index\": 5093, \"location\": \"Japan\", \"date\": \"2020-02-21T00:00:00\", \"total_cases\": 105, \"total_infected\": 241.0, \"n_days\": 16, \"cases\": 105, \"infected\": 241.0, \"45_line\": 105}, {\"index\": 5094, \"location\": \"Japan\", \"date\": \"2020-02-22T00:00:00\", \"total_cases\": 122, \"total_infected\": 256.0, \"n_days\": 17, \"cases\": 122, \"infected\": 256.0, \"45_line\": 122}, {\"index\": 5095, \"location\": \"Japan\", \"date\": \"2020-02-23T00:00:00\", \"total_cases\": 147, \"total_infected\": 274.0, \"n_days\": 18, \"cases\": 147, \"infected\": 274.0, \"45_line\": 147}, {\"index\": 5096, \"location\": \"Japan\", \"date\": \"2020-02-24T00:00:00\", \"total_cases\": 159, \"total_infected\": 293.0, \"n_days\": 19, \"cases\": 159, \"infected\": 293.0, \"45_line\": 159}, {\"index\": 5097, \"location\": \"Japan\", \"date\": \"2020-02-25T00:00:00\", \"total_cases\": 170, \"total_infected\": 330.99999999999994, \"n_days\": 20, \"cases\": 170, \"infected\": 330.99999999999994, \"45_line\": 170}, {\"index\": 5098, \"location\": \"Japan\", \"date\": \"2020-02-26T00:00:00\", \"total_cases\": 189, \"total_infected\": 360.0, \"n_days\": 21, \"cases\": 189, \"infected\": 360.0, \"45_line\": 189}, {\"index\": 5099, \"location\": \"Japan\", \"date\": \"2020-02-27T00:00:00\", \"total_cases\": 214, \"total_infected\": 420.0, \"n_days\": 22, \"cases\": 214, \"infected\": 420.0, \"45_line\": 214}, {\"index\": 5100, \"location\": \"Japan\", \"date\": \"2020-02-28T00:00:00\", \"total_cases\": 228, \"total_infected\": 461.0, \"n_days\": 23, \"cases\": 228, \"infected\": 461.0, \"45_line\": 228}, {\"index\": 5101, \"location\": \"Japan\", \"date\": \"2020-02-29T00:00:00\", \"total_cases\": 241, \"total_infected\": 502.0, \"n_days\": 24, \"cases\": 241, \"infected\": 502.0, \"45_line\": 241}, {\"index\": 5102, \"location\": \"Japan\", \"date\": \"2020-03-01T00:00:00\", \"total_cases\": 256, \"total_infected\": 511.0, \"n_days\": 25, \"cases\": 256, \"infected\": 511.0, \"45_line\": 256}, {\"index\": 5103, \"location\": \"Japan\", \"date\": \"2020-03-02T00:00:00\", \"total_cases\": 274, \"total_infected\": 581.0, \"n_days\": 26, \"cases\": 274, \"infected\": 581.0, \"45_line\": 274}, {\"index\": 5104, \"location\": \"Japan\", \"date\": \"2020-03-03T00:00:00\", \"total_cases\": 293, \"total_infected\": 639.0, \"n_days\": 27, \"cases\": 293, \"infected\": 639.0, \"45_line\": 293}, {\"index\": 5105, \"location\": \"Japan\", \"date\": \"2020-03-04T00:00:00\", \"total_cases\": 331, \"total_infected\": 639.0, \"n_days\": 28, \"cases\": 331, \"infected\": 639.0, \"45_line\": 331}, {\"index\": 5106, \"location\": \"Japan\", \"date\": \"2020-03-05T00:00:00\", \"total_cases\": 360, \"total_infected\": 701.0, \"n_days\": 29, \"cases\": 360, \"infected\": 701.0, \"45_line\": 360}, {\"index\": 5107, \"location\": \"Japan\", \"date\": \"2020-03-06T00:00:00\", \"total_cases\": 420, \"total_infected\": 773.0, \"n_days\": 30, \"cases\": 420, \"infected\": 773.0, \"45_line\": 420}, {\"index\": 5108, \"location\": \"Japan\", \"date\": \"2020-03-07T00:00:00\", \"total_cases\": 461, \"total_infected\": 839.0, \"n_days\": 31, \"cases\": 461, \"infected\": 839.0, \"45_line\": 461}, {\"index\": 5109, \"location\": \"Japan\", \"date\": \"2020-03-08T00:00:00\", \"total_cases\": 502, \"total_infected\": 824.9999999999999, \"n_days\": 32, \"cases\": 502, \"infected\": 824.9999999999999, \"45_line\": 502}, {\"index\": 5110, \"location\": \"Japan\", \"date\": \"2020-03-09T00:00:00\", \"total_cases\": 511, \"total_infected\": 878.0, \"n_days\": 33, \"cases\": 511, \"infected\": 878.0, \"45_line\": 511}, {\"index\": 5111, \"location\": \"Japan\", \"date\": \"2020-03-10T00:00:00\", \"total_cases\": 581, \"total_infected\": 889.0, \"n_days\": 34, \"cases\": 581, \"infected\": 889.0, \"45_line\": 581}, {\"index\": 5112, \"location\": \"Japan\", \"date\": \"2020-03-11T00:00:00\", \"total_cases\": 639, \"total_infected\": 924.0, \"n_days\": 35, \"cases\": 639, \"infected\": 924.0, \"45_line\": 639}, {\"index\": 5113, \"location\": \"Japan\", \"date\": \"2020-03-12T00:00:00\", \"total_cases\": 639, \"total_infected\": 963.0000000000001, \"n_days\": 36, \"cases\": 639, \"infected\": 963.0000000000001, \"45_line\": 639}, {\"index\": 5114, \"location\": \"Japan\", \"date\": \"2020-03-13T00:00:00\", \"total_cases\": 701, \"total_infected\": 1007.0, \"n_days\": 37, \"cases\": 701, \"infected\": 1007.0, \"45_line\": 701}, {\"index\": 5115, \"location\": \"Japan\", \"date\": \"2020-03-14T00:00:00\", \"total_cases\": 773, \"total_infected\": 1086.0, \"n_days\": 38, \"cases\": 773, \"infected\": 1086.0, \"45_line\": 773}, {\"index\": 5116, \"location\": \"Japan\", \"date\": \"2020-03-15T00:00:00\", \"total_cases\": 839, \"total_infected\": 1190.5432753022653, \"n_days\": 39, \"cases\": 839, \"infected\": 1190.5432753022653, \"45_line\": 839}, {\"index\": 5117, \"location\": \"Japan\", \"date\": \"2020-03-16T00:00:00\", \"total_cases\": 825, \"total_infected\": 1305.1503594543697, \"n_days\": 40, \"cases\": 825, \"infected\": 1305.1503594543697, \"45_line\": 825}, {\"index\": 5118, \"location\": \"Japan\", \"date\": \"2020-03-17T00:00:00\", \"total_cases\": 878, \"total_infected\": 1430.7900402456116, \"n_days\": 41, \"cases\": 878, \"infected\": 1430.7900402456116, \"45_line\": 878}, {\"index\": 5119, \"location\": \"Japan\", \"date\": \"2020-03-18T00:00:00\", \"total_cases\": 889, \"total_infected\": 1568.5243653626799, \"n_days\": 42, \"cases\": 889, \"infected\": 1568.5243653626799, \"45_line\": 889}, {\"index\": 5120, \"location\": \"Japan\", \"date\": \"2020-03-19T00:00:00\", \"total_cases\": 924, \"total_infected\": 1719.517620009477, \"n_days\": 43, \"cases\": 924, \"infected\": 1719.517620009477, \"45_line\": 924}, {\"index\": 5121, \"location\": \"Japan\", \"date\": \"2020-03-20T00:00:00\", \"total_cases\": 963, \"total_infected\": 1885.0461687532586, \"n_days\": 44, \"cases\": 963, \"infected\": 1885.0461687532586, \"45_line\": 963}, {\"index\": 5122, \"location\": \"Japan\", \"date\": \"2020-03-21T00:00:00\", \"total_cases\": 1007, \"total_infected\": 2066.5092447914285, \"n_days\": 45, \"cases\": 1007, \"infected\": 2066.5092447914285, \"45_line\": 1007}, {\"index\": 5123, \"location\": \"Japan\", \"date\": \"2020-03-22T00:00:00\", \"total_cases\": 1086, \"total_infected\": 2265.4407778419873, \"n_days\": 46, \"cases\": 1086, \"infected\": 2265.4407778419873, \"45_line\": 1086}, {\"index\": 1328, \"location\": \"Brazil\", \"date\": \"2020-03-09T00:00:00\", \"total_cases\": 25, \"total_infected\": 321.0, \"n_days\": 0, \"cases\": 25, \"infected\": 321.0, \"45_line\": 25}, {\"index\": 1329, \"location\": \"Brazil\", \"date\": \"2020-03-10T00:00:00\", \"total_cases\": 31, \"total_infected\": 372.0, \"n_days\": 1, \"cases\": 31, \"infected\": 372.0, \"45_line\": 31}, {\"index\": 1330, \"location\": \"Brazil\", \"date\": \"2020-03-11T00:00:00\", \"total_cases\": 38, \"total_infected\": 621.0, \"n_days\": 2, \"cases\": 38, \"infected\": 621.0, \"45_line\": 38}, {\"index\": 1331, \"location\": \"Brazil\", \"date\": \"2020-03-12T00:00:00\", \"total_cases\": 52, \"total_infected\": 793.0, \"n_days\": 3, \"cases\": 52, \"infected\": 793.0, \"45_line\": 52}, {\"index\": 1332, \"location\": \"Brazil\", \"date\": \"2020-03-13T00:00:00\", \"total_cases\": 151, \"total_infected\": 1021.0, \"n_days\": 4, \"cases\": 151, \"infected\": 1021.0, \"45_line\": 151}, {\"index\": 1333, \"location\": \"Brazil\", \"date\": \"2020-03-14T00:00:00\", \"total_cases\": 151, \"total_infected\": 1593.0, \"n_days\": 5, \"cases\": 151, \"infected\": 1593.0, \"45_line\": 151}, {\"index\": 1334, \"location\": \"Brazil\", \"date\": \"2020-03-15T00:00:00\", \"total_cases\": 162, \"total_infected\": 2103.3759133081185, \"n_days\": 6, \"cases\": 162, \"infected\": 2103.3759133081185, \"45_line\": 162}, {\"index\": 1335, \"location\": \"Brazil\", \"date\": \"2020-03-16T00:00:00\", \"total_cases\": 200, \"total_infected\": 2777.269449268526, \"n_days\": 7, \"cases\": 200, \"infected\": 2777.269449268526, \"45_line\": 200}, {\"index\": 1336, \"location\": \"Brazil\", \"date\": \"2020-03-17T00:00:00\", \"total_cases\": 321, \"total_infected\": 3667.0694691512376, \"n_days\": 8, \"cases\": 321, \"infected\": 3667.0694691512376, \"45_line\": 321}, {\"index\": 1337, \"location\": \"Brazil\", \"date\": \"2020-03-18T00:00:00\", \"total_cases\": 372, \"total_infected\": 4841.949525323479, \"n_days\": 9, \"cases\": 372, \"infected\": 4841.949525323479, \"45_line\": 372}, {\"index\": 1338, \"location\": \"Brazil\", \"date\": \"2020-03-19T00:00:00\", \"total_cases\": 621, \"total_infected\": 6393.245451989382, \"n_days\": 10, \"cases\": 621, \"infected\": 6393.245451989382, \"45_line\": 621}, {\"index\": 1339, \"location\": \"Brazil\", \"date\": \"2020-03-20T00:00:00\", \"total_cases\": 793, \"total_infected\": 8441.555864143844, \"n_days\": 11, \"cases\": 793, \"infected\": 8441.555864143844, \"45_line\": 793}, {\"index\": 1340, \"location\": \"Brazil\", \"date\": \"2020-03-21T00:00:00\", \"total_cases\": 1021, \"total_infected\": 11146.117561509769, \"n_days\": 12, \"cases\": 1021, \"infected\": 11146.117561509769, \"45_line\": 1021}, {\"index\": 1341, \"location\": \"Brazil\", \"date\": \"2020-03-22T00:00:00\", \"total_cases\": 1593, \"total_infected\": 14717.184686616618, \"n_days\": 13, \"cases\": 1593, \"infected\": 14717.184686616618, \"45_line\": 1593}, {\"index\": 4717, \"location\": \"Iran\", \"date\": \"2020-02-11T00:00:00\", \"total_cases\": 0, \"total_infected\": 2.0, \"n_days\": 0, \"cases\": 0, \"infected\": 2.0, \"45_line\": 0}, {\"index\": 4718, \"location\": \"Iran\", \"date\": \"2020-02-12T00:00:00\", \"total_cases\": 0, \"total_infected\": 5.0, \"n_days\": 1, \"cases\": 0, \"infected\": 5.0, \"45_line\": 0}, {\"index\": 4719, \"location\": \"Iran\", \"date\": \"2020-02-13T00:00:00\", \"total_cases\": 0, \"total_infected\": 18.0, \"n_days\": 2, \"cases\": 0, \"infected\": 18.0, \"45_line\": 0}, {\"index\": 4720, \"location\": \"Iran\", \"date\": \"2020-02-14T00:00:00\", \"total_cases\": 0, \"total_infected\": 28.0, \"n_days\": 3, \"cases\": 0, \"infected\": 28.0, \"45_line\": 0}, {\"index\": 4721, \"location\": \"Iran\", \"date\": \"2020-02-15T00:00:00\", \"total_cases\": 0, \"total_infected\": 43.0, \"n_days\": 4, \"cases\": 0, \"infected\": 43.0, \"45_line\": 0}, {\"index\": 4722, \"location\": \"Iran\", \"date\": \"2020-02-16T00:00:00\", \"total_cases\": 0, \"total_infected\": 61.0, \"n_days\": 5, \"cases\": 0, \"infected\": 61.0, \"45_line\": 0}, {\"index\": 4723, \"location\": \"Iran\", \"date\": \"2020-02-17T00:00:00\", \"total_cases\": 0, \"total_infected\": 95.0, \"n_days\": 6, \"cases\": 0, \"infected\": 95.0, \"45_line\": 0}, {\"index\": 4724, \"location\": \"Iran\", \"date\": \"2020-02-18T00:00:00\", \"total_cases\": 0, \"total_infected\": 139.0, \"n_days\": 7, \"cases\": 0, \"infected\": 139.0, \"45_line\": 0}, {\"index\": 4725, \"location\": \"Iran\", \"date\": \"2020-02-19T00:00:00\", \"total_cases\": 2, \"total_infected\": 245.0, \"n_days\": 8, \"cases\": 2, \"infected\": 245.0, \"45_line\": 2}, {\"index\": 4726, \"location\": \"Iran\", \"date\": \"2020-02-20T00:00:00\", \"total_cases\": 5, \"total_infected\": 388.0, \"n_days\": 9, \"cases\": 5, \"infected\": 388.0, \"45_line\": 5}, {\"index\": 4727, \"location\": \"Iran\", \"date\": \"2020-02-21T00:00:00\", \"total_cases\": 18, \"total_infected\": 593.0, \"n_days\": 10, \"cases\": 18, \"infected\": 593.0, \"45_line\": 18}, {\"index\": 4728, \"location\": \"Iran\", \"date\": \"2020-02-22T00:00:00\", \"total_cases\": 28, \"total_infected\": 978.0, \"n_days\": 11, \"cases\": 28, \"infected\": 978.0, \"45_line\": 28}, {\"index\": 4729, \"location\": \"Iran\", \"date\": \"2020-02-23T00:00:00\", \"total_cases\": 43, \"total_infected\": 1501.0, \"n_days\": 12, \"cases\": 43, \"infected\": 1501.0, \"45_line\": 43}, {\"index\": 4730, \"location\": \"Iran\", \"date\": \"2020-02-24T00:00:00\", \"total_cases\": 61, \"total_infected\": 2336.0, \"n_days\": 13, \"cases\": 61, \"infected\": 2336.0, \"45_line\": 61}, {\"index\": 4731, \"location\": \"Iran\", \"date\": \"2020-02-25T00:00:00\", \"total_cases\": 95, \"total_infected\": 2922.0000000000005, \"n_days\": 14, \"cases\": 95, \"infected\": 2922.0000000000005, \"45_line\": 95}, {\"index\": 4732, \"location\": \"Iran\", \"date\": \"2020-02-26T00:00:00\", \"total_cases\": 139, \"total_infected\": 3513.0, \"n_days\": 15, \"cases\": 139, \"infected\": 3513.0, \"45_line\": 139}, {\"index\": 4733, \"location\": \"Iran\", \"date\": \"2020-02-27T00:00:00\", \"total_cases\": 245, \"total_infected\": 4747.0, \"n_days\": 16, \"cases\": 245, \"infected\": 4747.0, \"45_line\": 245}, {\"index\": 4734, \"location\": \"Iran\", \"date\": \"2020-02-28T00:00:00\", \"total_cases\": 388, \"total_infected\": 5823.0, \"n_days\": 17, \"cases\": 388, \"infected\": 5823.0, \"45_line\": 388}, {\"index\": 4735, \"location\": \"Iran\", \"date\": \"2020-02-29T00:00:00\", \"total_cases\": 593, \"total_infected\": 6566.0, \"n_days\": 18, \"cases\": 593, \"infected\": 6566.0, \"45_line\": 593}, {\"index\": 4736, \"location\": \"Iran\", \"date\": \"2020-03-01T00:00:00\", \"total_cases\": 978, \"total_infected\": 7161.000000000001, \"n_days\": 19, \"cases\": 978, \"infected\": 7161.000000000001, \"45_line\": 978}, {\"index\": 4737, \"location\": \"Iran\", \"date\": \"2020-03-02T00:00:00\", \"total_cases\": 1501, \"total_infected\": 8042.000000000001, \"n_days\": 20, \"cases\": 1501, \"infected\": 8042.000000000001, \"45_line\": 1501}, {\"index\": 4738, \"location\": \"Iran\", \"date\": \"2020-03-03T00:00:00\", \"total_cases\": 2336, \"total_infected\": 9000.0, \"n_days\": 21, \"cases\": 2336, \"infected\": 9000.0, \"45_line\": 2336}, {\"index\": 4739, \"location\": \"Iran\", \"date\": \"2020-03-04T00:00:00\", \"total_cases\": 2922, \"total_infected\": 10075.0, \"n_days\": 22, \"cases\": 2922, \"infected\": 10075.0, \"45_line\": 2922}, {\"index\": 4740, \"location\": \"Iran\", \"date\": \"2020-03-05T00:00:00\", \"total_cases\": 3513, \"total_infected\": 11364.0, \"n_days\": 23, \"cases\": 3513, \"infected\": 11364.0, \"45_line\": 3513}, {\"index\": 4741, \"location\": \"Iran\", \"date\": \"2020-03-06T00:00:00\", \"total_cases\": 4747, \"total_infected\": 12729.0, \"n_days\": 24, \"cases\": 4747, \"infected\": 12729.0, \"45_line\": 4747}, {\"index\": 4742, \"location\": \"Iran\", \"date\": \"2020-03-07T00:00:00\", \"total_cases\": 5823, \"total_infected\": 13938.0, \"n_days\": 25, \"cases\": 5823, \"infected\": 13938.0, \"45_line\": 5823}, {\"index\": 4743, \"location\": \"Iran\", \"date\": \"2020-03-08T00:00:00\", \"total_cases\": 6566, \"total_infected\": 14991.0, \"n_days\": 26, \"cases\": 6566, \"infected\": 14991.0, \"45_line\": 6566}, {\"index\": 4744, \"location\": \"Iran\", \"date\": \"2020-03-09T00:00:00\", \"total_cases\": 7161, \"total_infected\": 16169.0, \"n_days\": 27, \"cases\": 7161, \"infected\": 16169.0, \"45_line\": 7161}, {\"index\": 4745, \"location\": \"Iran\", \"date\": \"2020-03-10T00:00:00\", \"total_cases\": 8042, \"total_infected\": 17361.0, \"n_days\": 28, \"cases\": 8042, \"infected\": 17361.0, \"45_line\": 8042}, {\"index\": 4746, \"location\": \"Iran\", \"date\": \"2020-03-11T00:00:00\", \"total_cases\": 9000, \"total_infected\": 18407.0, \"n_days\": 29, \"cases\": 9000, \"infected\": 18407.0, \"45_line\": 9000}, {\"index\": 4747, \"location\": \"Iran\", \"date\": \"2020-03-12T00:00:00\", \"total_cases\": 10075, \"total_infected\": 19644.0, \"n_days\": 30, \"cases\": 10075, \"infected\": 19644.0, \"45_line\": 10075}, {\"index\": 4748, \"location\": \"Iran\", \"date\": \"2020-03-13T00:00:00\", \"total_cases\": 11364, \"total_infected\": 20610.0, \"n_days\": 31, \"cases\": 11364, \"infected\": 20610.0, \"45_line\": 11364}, {\"index\": 4749, \"location\": \"Iran\", \"date\": \"2020-03-14T00:00:00\", \"total_cases\": 12729, \"total_infected\": 21638.0, \"n_days\": 32, \"cases\": 12729, \"infected\": 21638.0, \"45_line\": 12729}, {\"index\": 4750, \"location\": \"Iran\", \"date\": \"2020-03-15T00:00:00\", \"total_cases\": 13938, \"total_infected\": 27919.145668227055, \"n_days\": 33, \"cases\": 13938, \"infected\": 27919.145668227055, \"45_line\": 13938}, {\"index\": 4751, \"location\": \"Iran\", \"date\": \"2020-03-16T00:00:00\", \"total_cases\": 14991, \"total_infected\": 36023.601758188444, \"n_days\": 34, \"cases\": 14991, \"infected\": 36023.601758188444, \"45_line\": 14991}, {\"index\": 4752, \"location\": \"Iran\", \"date\": \"2020-03-17T00:00:00\", \"total_cases\": 16169, \"total_infected\": 46480.64446719029, \"n_days\": 35, \"cases\": 16169, \"infected\": 46480.64446719029, \"45_line\": 16169}, {\"index\": 4753, \"location\": \"Iran\", \"date\": \"2020-03-18T00:00:00\", \"total_cases\": 17361, \"total_infected\": 59973.18992663636, \"n_days\": 36, \"cases\": 17361, \"infected\": 59973.18992663636, \"45_line\": 17361}, {\"index\": 4754, \"location\": \"Iran\", \"date\": \"2020-03-19T00:00:00\", \"total_cases\": 18407, \"total_infected\": 77382.39327802976, \"n_days\": 37, \"cases\": 18407, \"infected\": 77382.39327802976, \"45_line\": 18407}, {\"index\": 4755, \"location\": \"Iran\", \"date\": \"2020-03-20T00:00:00\", \"total_cases\": 19644, \"total_infected\": 99845.19410691131, \"n_days\": 38, \"cases\": 19644, \"infected\": 99845.19410691131, \"45_line\": 19644}, {\"index\": 4756, \"location\": \"Iran\", \"date\": \"2020-03-21T00:00:00\", \"total_cases\": 20610, \"total_infected\": 128828.5663436206, \"n_days\": 39, \"cases\": 20610, \"infected\": 128828.5663436206, \"45_line\": 20610}, {\"index\": 4757, \"location\": \"Iran\", \"date\": \"2020-03-22T00:00:00\", \"total_cases\": 21638, \"total_infected\": 166225.3216552545, \"n_days\": 40, \"cases\": 21638, \"infected\": 166225.3216552545, \"45_line\": 21638}]}}, {\"mode\": \"vega-lite\"});\n",
       "</script>"
      ],
      "text/plain": [
       "alt.LayerChart(...)"
      ]
     },
     "execution_count": 6,
     "metadata": {},
     "output_type": "execute_result"
    }
   ],
   "source": [
    "#hide_input\n",
    "# Plot it using Altair\n",
    "data_pc = data_final[['location', 'date', 'total_cases', 'total_infected']].copy()\n",
    "\n",
    "countries = [\"Italy\", \"Spain\", \"France\", \"United Kingdom\", \"Germany\", \n",
    "             \"Portugal\", \"United States\", \"Singapore\",\"South Korea\", \"Japan\", \n",
    "             \"Brazil\",\"Iran\"]\n",
    "data_countries = []\n",
    "data_countries_pc = []\n",
    "\n",
    "for i in countries:\n",
    "    data_pc.loc[data_pc.location == i,\"total_infected\"] = data_pc.loc[data_pc.location == i,\"total_infected\"]\n",
    "    data_pc.loc[data_pc.location == i,\"total_cases\"] = data_pc.loc[data_pc.location == i,\"total_cases\"]\n",
    "    # get each country time series\n",
    "filter1 = data_pc[\"total_infected\"] > 1\n",
    "for i in countries:\n",
    "    filter_country = data_pc[\"location\"]== i\n",
    "    data_countries_pc.append(data_pc[filter_country & filter1])\n",
    "\n",
    "\n",
    "plot(data_countries_pc, \"scatter\", True)"
   ]
  },
  {
   "cell_type": "markdown",
   "metadata": {
    "papermill": {
     "duration": 0.012342,
     "end_time": "2020-03-23T21:56:10.464710",
     "exception": false,
     "start_time": "2020-03-23T21:56:10.452368",
     "status": "completed"
    },
    "tags": []
   },
   "source": [
    "Latest Observed vs. Estimate of Infected Cases"
   ]
  },
  {
   "cell_type": "code",
   "execution_count": 7,
   "metadata": {
    "papermill": {
     "duration": 0.047713,
     "end_time": "2020-03-23T21:56:10.524803",
     "exception": false,
     "start_time": "2020-03-23T21:56:10.477090",
     "status": "completed"
    },
    "tags": []
   },
   "outputs": [
    {
     "data": {
      "text/html": [
       "<div>\n",
       "<style scoped>\n",
       "    .dataframe tbody tr th:only-of-type {\n",
       "        vertical-align: middle;\n",
       "    }\n",
       "\n",
       "    .dataframe tbody tr th {\n",
       "        vertical-align: top;\n",
       "    }\n",
       "\n",
       "    .dataframe thead th {\n",
       "        text-align: right;\n",
       "    }\n",
       "</style>\n",
       "<table border=\"1\" class=\"dataframe\">\n",
       "  <thead>\n",
       "    <tr style=\"text-align: right;\">\n",
       "      <th></th>\n",
       "      <th>Date</th>\n",
       "      <th>Observed Cases</th>\n",
       "      <th>Estimate of Infected</th>\n",
       "    </tr>\n",
       "    <tr>\n",
       "      <th>Country</th>\n",
       "      <th></th>\n",
       "      <th></th>\n",
       "      <th></th>\n",
       "    </tr>\n",
       "  </thead>\n",
       "  <tbody>\n",
       "    <tr>\n",
       "      <th>Brazil</th>\n",
       "      <td>2020-03-22</td>\n",
       "      <td>1,593</td>\n",
       "      <td>14,717</td>\n",
       "    </tr>\n",
       "    <tr>\n",
       "      <th>France</th>\n",
       "      <td>2020-03-22</td>\n",
       "      <td>16,176</td>\n",
       "      <td>69,636</td>\n",
       "    </tr>\n",
       "    <tr>\n",
       "      <th>Germany</th>\n",
       "      <td>2020-03-22</td>\n",
       "      <td>24,873</td>\n",
       "      <td>134,382</td>\n",
       "    </tr>\n",
       "    <tr>\n",
       "      <th>Iran</th>\n",
       "      <td>2020-03-22</td>\n",
       "      <td>21,638</td>\n",
       "      <td>166,225</td>\n",
       "    </tr>\n",
       "    <tr>\n",
       "      <th>Italy</th>\n",
       "      <td>2020-03-22</td>\n",
       "      <td>59,138</td>\n",
       "      <td>391,223</td>\n",
       "    </tr>\n",
       "    <tr>\n",
       "      <th>Japan</th>\n",
       "      <td>2020-03-22</td>\n",
       "      <td>1,086</td>\n",
       "      <td>2,265</td>\n",
       "    </tr>\n",
       "    <tr>\n",
       "      <th>Portugal</th>\n",
       "      <td>2020-03-22</td>\n",
       "      <td>1,600</td>\n",
       "      <td>9,821</td>\n",
       "    </tr>\n",
       "    <tr>\n",
       "      <th>Singapore</th>\n",
       "      <td>2020-03-22</td>\n",
       "      <td>455</td>\n",
       "      <td>682</td>\n",
       "    </tr>\n",
       "    <tr>\n",
       "      <th>South Korea</th>\n",
       "      <td>2020-03-22</td>\n",
       "      <td>8,897</td>\n",
       "      <td>26,013</td>\n",
       "    </tr>\n",
       "    <tr>\n",
       "      <th>Spain</th>\n",
       "      <td>2020-03-22</td>\n",
       "      <td>28,768</td>\n",
       "      <td>196,703</td>\n",
       "    </tr>\n",
       "    <tr>\n",
       "      <th>United Kingdom</th>\n",
       "      <td>2020-03-22</td>\n",
       "      <td>5,741</td>\n",
       "      <td>29,982</td>\n",
       "    </tr>\n",
       "    <tr>\n",
       "      <th>United States</th>\n",
       "      <td>2020-03-22</td>\n",
       "      <td>33,272</td>\n",
       "      <td>242,004</td>\n",
       "    </tr>\n",
       "  </tbody>\n",
       "</table>\n",
       "</div>"
      ],
      "text/plain": [
       "                     Date Observed Cases Estimate of Infected\n",
       "Country                                                      \n",
       "Brazil         2020-03-22          1,593               14,717\n",
       "France         2020-03-22         16,176               69,636\n",
       "Germany        2020-03-22         24,873              134,382\n",
       "Iran           2020-03-22         21,638              166,225\n",
       "Italy          2020-03-22         59,138              391,223\n",
       "Japan          2020-03-22          1,086                2,265\n",
       "Portugal       2020-03-22          1,600                9,821\n",
       "Singapore      2020-03-22            455                  682\n",
       "South Korea    2020-03-22          8,897               26,013\n",
       "Spain          2020-03-22         28,768              196,703\n",
       "United Kingdom 2020-03-22          5,741               29,982\n",
       "United States  2020-03-22         33,272              242,004"
      ]
     },
     "execution_count": 7,
     "metadata": {},
     "output_type": "execute_result"
    }
   ],
   "source": [
    "#hide_input\n",
    "label1 = 'Observed Cases'\n",
    "label2 = 'Estimate of Infected'\n",
    "temp = pd.concat([x.copy() for x in data_countries_pc]).loc[lambda x: x.date >= '3/1/2020']\n",
    "\n",
    "metric_name1 = f'{label1}'\n",
    "metric_name2 = f'{label2}'\n",
    "temp.columns = ['Country', 'Date', metric_name1, metric_name2]\n",
    "# temp.loc[:, 'month'] = temp.date.dt.strftime('%Y-%m')\n",
    "temp.loc[:, \"Observed Cases\"] = temp.loc[:, \"Observed Cases\"].round(0).map('{:,.0f}'.format)\n",
    "temp.loc[:, \"Estimate of Infected\"] = temp.loc[:, \"Estimate of Infected\"].round(0).map('{:,.0f}'.format)\n",
    "temp.groupby('Country').last()"
   ]
  },
  {
   "cell_type": "markdown",
   "metadata": {
    "papermill": {
     "duration": 0.013364,
     "end_time": "2020-03-23T21:56:10.552262",
     "exception": false,
     "start_time": "2020-03-23T21:56:10.538898",
     "status": "completed"
    },
    "tags": []
   },
   "source": [
    "## Methodology"
   ]
  },
  {
   "cell_type": "markdown",
   "metadata": {
    "papermill": {
     "duration": 0.013637,
     "end_time": "2020-03-23T21:56:10.580455",
     "exception": false,
     "start_time": "2020-03-23T21:56:10.566818",
     "status": "completed"
    },
    "tags": []
   },
   "source": [
    "We argue that the number of infected in the past can be infered using today's number of deaths and average fatality rate from confirmed cases in the following way:\n",
    "\n",
    "{% raw %}\n",
    "$$ I_{t-j} = \\frac{D_t}{{CFR}_t}$$\n",
    "{% endraw %}\n",
    "\n",
    "where {% raw %}$I_t${% endraw %} = number of infected, {% raw %}$D_t${% endraw %} = number of deaths, and {% raw %}${CFR}_t ${% endraw %} = case fatality rate = {% raw %}$\\frac{D}{C}${% endraw %}. The {% raw %}$j${% endraw %} depends on the average number of days that covid patients die after having the first symptoms."
   ]
  },
  {
   "cell_type": "markdown",
   "metadata": {
    "papermill": {
     "duration": 0.013796,
     "end_time": "2020-03-23T21:56:10.606148",
     "exception": false,
     "start_time": "2020-03-23T21:56:10.592352",
     "status": "completed"
    },
    "tags": []
   },
   "source": [
    "**Assumption 1**: The case fatality rate is a good proxy for the fatality rate of the infected population\n"
   ]
  },
  {
   "cell_type": "markdown",
   "metadata": {
    "papermill": {
     "duration": 0.014053,
     "end_time": "2020-03-23T21:56:10.634426",
     "exception": false,
     "start_time": "2020-03-23T21:56:10.620373",
     "status": "completed"
    },
    "tags": []
   },
   "source": [
    "Then, in order to estimate the current number of infected {% raw %}$I_t${% endraw %} we need to estimate its growth rate from {% raw %}$t-j${% endraw %} to {% raw %}$t${% endraw %}.\n",
    "\n",
    "{% raw %}\n",
    "$$I_t = (1+\\hat{g})^j I_{t-j}$$\n",
    "{% endraw %}"
   ]
  },
  {
   "cell_type": "markdown",
   "metadata": {
    "papermill": {
     "duration": 0.013887,
     "end_time": "2020-03-23T21:56:10.662385",
     "exception": false,
     "start_time": "2020-03-23T21:56:10.648498",
     "status": "completed"
    },
    "tags": []
   },
   "source": [
    "**Assumption 2**: The growth rate of infected $\\hat{g}$ is an unbiased estimate of $g$ .\n",
    "\n",
    "For now we estimate $g$ using the average growth rate since having the first infected person."
   ]
  },
  {
   "cell_type": "markdown",
   "metadata": {
    "papermill": {
     "duration": 0.013627,
     "end_time": "2020-03-23T21:56:10.690953",
     "exception": false,
     "start_time": "2020-03-23T21:56:10.677326",
     "status": "completed"
    },
    "tags": []
   },
   "source": [
    "**Assumption 3**: It takes on average 8 days to die after having the first symptoms."
   ]
  },
  {
   "cell_type": "markdown",
   "metadata": {
    "papermill": {
     "duration": 0.014981,
     "end_time": "2020-03-23T21:56:10.719560",
     "exception": false,
     "start_time": "2020-03-23T21:56:10.704579",
     "status": "completed"
    },
    "tags": []
   },
   "source": [
    "This analysis was conducted by [Joao B. Duarte](https://www.jbduarte.com). Relevant sources are listed below: \n",
    "\n",
    "\n",
    "1. [2019 Novel Coronavirus COVID-19 (2019-nCoV) Data Repository by Johns Hopkins CSSE](https://systems.jhu.edu/research/public-health/ncov/) [GitHub repository](https://github.com/CSSEGISandData/COVID-19). \n",
    "\n",
    "2. [Feenstra, Robert C., Robert Inklaar and Marcel P. Timmer (2015), \"The Next Generation of the Penn World Table\" American Economic Review, 105(10), 3150-3182](https://www.rug.nl/ggdc/productivity/pwt/related-research)\n"
   ]
  },
  {
   "cell_type": "code",
   "execution_count": null,
   "metadata": {
    "papermill": {
     "duration": 0.014488,
     "end_time": "2020-03-23T21:56:10.747786",
     "exception": false,
     "start_time": "2020-03-23T21:56:10.733298",
     "status": "completed"
    },
    "tags": []
   },
   "outputs": [],
   "source": []
  }
 ],
 "metadata": {
  "kernelspec": {
   "display_name": "visualization-curriculum-gF8wUgMm",
   "language": "python",
   "name": "visualization-curriculum-gf8wugmm"
  },
  "language_info": {
   "codemirror_mode": {
    "name": "ipython",
    "version": 3
   },
   "file_extension": ".py",
   "mimetype": "text/x-python",
   "name": "python",
   "nbconvert_exporter": "python",
   "pygments_lexer": "ipython3",
   "version": "3.6.10"
  },
  "papermill": {
   "duration": 9.440288,
   "end_time": "2020-03-23T21:56:10.767061",
   "environment_variables": {},
   "exception": null,
   "input_path": "2020-03-19-estimating_infected.ipynb",
   "output_path": "2020-03-19-estimating_infected.ipynb",
   "parameters": {},
   "start_time": "2020-03-23T21:56:01.326773",
   "version": "2.0.0"
  },
  "toc": {
   "base_numbering": 1,
   "nav_menu": {},
   "number_sections": true,
   "sideBar": true,
   "skip_h1_title": false,
   "title_cell": "Table of Contents",
   "title_sidebar": "Contents",
   "toc_cell": false,
   "toc_position": {},
   "toc_section_display": true,
   "toc_window_display": false
  },
  "varInspector": {
   "cols": {
    "lenName": 16,
    "lenType": 16,
    "lenVar": 40
   },
   "kernels_config": {
    "python": {
     "delete_cmd_postfix": "",
     "delete_cmd_prefix": "del ",
     "library": "var_list.py",
     "varRefreshCmd": "print(var_dic_list())"
    },
    "r": {
     "delete_cmd_postfix": ") ",
     "delete_cmd_prefix": "rm(",
     "library": "var_list.r",
     "varRefreshCmd": "cat(var_dic_list()) "
    }
   },
   "types_to_exclude": [
    "module",
    "function",
    "builtin_function_or_method",
    "instance",
    "_Feature"
   ],
   "window_display": false
  }
 },
 "nbformat": 4,
 "nbformat_minor": 2
}