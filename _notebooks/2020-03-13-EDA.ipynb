{
 "cells": [
  {
   "cell_type": "markdown",
   "metadata": {
    "papermill": {
     "duration": 0.027837,
     "end_time": "2020-04-01T00:14:52.500387",
     "exception": false,
     "start_time": "2020-04-01T00:14:52.472550",
     "status": "completed"
    },
    "tags": []
   },
   "source": [
    "# COVID-19 Exploratory Data Analysis\n",
    "> (Almost) Everything You Want To Know About COVID-19.\n",
    "\n",
    "- author: Devakumar kp\n",
    "- comments: true\n",
    "- categories: [EDA]\n",
    "- permalink: /corona-eda/\n",
    "- toc: true\n",
    "- image: images/covid-eda-2-1.png"
   ]
  },
  {
   "cell_type": "markdown",
   "metadata": {
    "papermill": {
     "duration": 0.022961,
     "end_time": "2020-04-01T00:14:52.546631",
     "exception": false,
     "start_time": "2020-04-01T00:14:52.523670",
     "status": "completed"
    },
    "tags": []
   },
   "source": [
    "These visualizations were made by [Devakumar kp](https://twitter.com/imdevskp).  Original notebook is [here](https://www.kaggle.com/imdevskp/covid-19-analysis-viz-prediction-comparisons)."
   ]
  },
  {
   "cell_type": "code",
   "execution_count": 1,
   "metadata": {
    "_cell_guid": "b1076dfc-b9ad-4769-8c92-a6c4dae69d19",
    "_kg_hide-input": true,
    "_kg_hide-output": true,
    "_uuid": "8f2839f25d086af736a60e9eeb907d3b93b6e0e5",
    "execution": {
     "iopub.execute_input": "2020-04-01T00:14:52.599794Z",
     "iopub.status.busy": "2020-04-01T00:14:52.599202Z",
     "iopub.status.idle": "2020-04-01T00:14:53.909906Z",
     "shell.execute_reply": "2020-04-01T00:14:53.909063Z"
    },
    "papermill": {
     "duration": 1.340678,
     "end_time": "2020-04-01T00:14:53.910084",
     "exception": false,
     "start_time": "2020-04-01T00:14:52.569406",
     "status": "completed"
    },
    "tags": []
   },
   "outputs": [],
   "source": [
    "#hide\n",
    "# essential libraries\n",
    "import json\n",
    "import random\n",
    "from urllib.request import urlopen\n",
    "\n",
    "# storing and anaysis\n",
    "import numpy as np\n",
    "import pandas as pd\n",
    "\n",
    "# visualization\n",
    "import matplotlib.pyplot as plt\n",
    "import seaborn as sns\n",
    "import plotly.express as px\n",
    "import plotly.graph_objs as go\n",
    "import plotly.figure_factory as ff\n",
    "import folium\n",
    "\n",
    "# color pallette\n",
    "cnf = '#393e46' # confirmed - grey\n",
    "dth = '#ff2e63' # death - red\n",
    "rec = '#21bf73' # recovered - cyan\n",
    "act = '#fe9801' # active case - yellow\n",
    "\n",
    "# converter\n",
    "from pandas.plotting import register_matplotlib_converters\n",
    "register_matplotlib_converters()   \n",
    "\n",
    "# hide warnings\n",
    "import warnings\n",
    "warnings.filterwarnings('ignore')\n",
    "\n",
    "# html embedding\n",
    "from IPython.display import Javascript\n",
    "from IPython.core.display import display, HTML"
   ]
  },
  {
   "cell_type": "code",
   "execution_count": 2,
   "metadata": {
    "_kg_hide-input": true,
    "execution": {
     "iopub.execute_input": "2020-04-01T00:14:53.966562Z",
     "iopub.status.busy": "2020-04-01T00:14:53.965835Z",
     "iopub.status.idle": "2020-04-01T00:14:54.219296Z",
     "shell.execute_reply": "2020-04-01T00:14:54.219783Z"
    },
    "papermill": {
     "duration": 0.283619,
     "end_time": "2020-04-01T00:14:54.219912",
     "exception": false,
     "start_time": "2020-04-01T00:14:53.936293",
     "status": "completed"
    },
    "tags": []
   },
   "outputs": [
    {
     "data": {
      "text/html": [
       "<div>\n",
       "<style scoped>\n",
       "    .dataframe tbody tr th:only-of-type {\n",
       "        vertical-align: middle;\n",
       "    }\n",
       "\n",
       "    .dataframe tbody tr th {\n",
       "        vertical-align: top;\n",
       "    }\n",
       "\n",
       "    .dataframe thead th {\n",
       "        text-align: right;\n",
       "    }\n",
       "</style>\n",
       "<table border=\"1\" class=\"dataframe\">\n",
       "  <thead>\n",
       "    <tr style=\"text-align: right;\">\n",
       "      <th></th>\n",
       "      <th>Province/State</th>\n",
       "      <th>Country/Region</th>\n",
       "      <th>Lat</th>\n",
       "      <th>Long</th>\n",
       "      <th>Date</th>\n",
       "      <th>Confirmed</th>\n",
       "      <th>Deaths</th>\n",
       "    </tr>\n",
       "  </thead>\n",
       "  <tbody>\n",
       "    <tr>\n",
       "      <th>0</th>\n",
       "      <td>NaN</td>\n",
       "      <td>Afghanistan</td>\n",
       "      <td>33.0000</td>\n",
       "      <td>65.0000</td>\n",
       "      <td>2020-01-22</td>\n",
       "      <td>0</td>\n",
       "      <td>0</td>\n",
       "    </tr>\n",
       "    <tr>\n",
       "      <th>1</th>\n",
       "      <td>NaN</td>\n",
       "      <td>Albania</td>\n",
       "      <td>41.1533</td>\n",
       "      <td>20.1683</td>\n",
       "      <td>2020-01-22</td>\n",
       "      <td>0</td>\n",
       "      <td>0</td>\n",
       "    </tr>\n",
       "    <tr>\n",
       "      <th>2</th>\n",
       "      <td>NaN</td>\n",
       "      <td>Algeria</td>\n",
       "      <td>28.0339</td>\n",
       "      <td>1.6596</td>\n",
       "      <td>2020-01-22</td>\n",
       "      <td>0</td>\n",
       "      <td>0</td>\n",
       "    </tr>\n",
       "    <tr>\n",
       "      <th>3</th>\n",
       "      <td>NaN</td>\n",
       "      <td>Andorra</td>\n",
       "      <td>42.5063</td>\n",
       "      <td>1.5218</td>\n",
       "      <td>2020-01-22</td>\n",
       "      <td>0</td>\n",
       "      <td>0</td>\n",
       "    </tr>\n",
       "    <tr>\n",
       "      <th>4</th>\n",
       "      <td>NaN</td>\n",
       "      <td>Angola</td>\n",
       "      <td>-11.2027</td>\n",
       "      <td>17.8739</td>\n",
       "      <td>2020-01-22</td>\n",
       "      <td>0</td>\n",
       "      <td>0</td>\n",
       "    </tr>\n",
       "  </tbody>\n",
       "</table>\n",
       "</div>"
      ],
      "text/plain": [
       "  Province/State Country/Region      Lat     Long       Date  Confirmed  \\\n",
       "0            NaN    Afghanistan  33.0000  65.0000 2020-01-22          0   \n",
       "1            NaN        Albania  41.1533  20.1683 2020-01-22          0   \n",
       "2            NaN        Algeria  28.0339   1.6596 2020-01-22          0   \n",
       "3            NaN        Andorra  42.5063   1.5218 2020-01-22          0   \n",
       "4            NaN         Angola -11.2027  17.8739 2020-01-22          0   \n",
       "\n",
       "   Deaths  \n",
       "0       0  \n",
       "1       0  \n",
       "2       0  \n",
       "3       0  \n",
       "4       0  "
      ]
     },
     "execution_count": 2,
     "metadata": {},
     "output_type": "execute_result"
    }
   ],
   "source": [
    "#hide\n",
    "# importing datasets\n",
    "url = 'https://raw.githubusercontent.com/imdevskp/covid_19_jhu_data_web_scrap_and_cleaning/master/new/complete_data_new_format.csv'\n",
    "full_table = pd.read_csv(url, \n",
    "                         parse_dates=['Date'])\n",
    "full_table.head()"
   ]
  },
  {
   "cell_type": "code",
   "execution_count": 3,
   "metadata": {
    "_kg_hide-input": true,
    "_kg_hide-output": true,
    "execution": {
     "iopub.execute_input": "2020-04-01T00:14:54.277647Z",
     "iopub.status.busy": "2020-04-01T00:14:54.277061Z",
     "iopub.status.idle": "2020-04-01T00:14:54.284789Z",
     "shell.execute_reply": "2020-04-01T00:14:54.284267Z"
    },
    "papermill": {
     "duration": 0.039284,
     "end_time": "2020-04-01T00:14:54.284903",
     "exception": false,
     "start_time": "2020-04-01T00:14:54.245619",
     "status": "completed"
    },
    "tags": []
   },
   "outputs": [],
   "source": [
    "#hide\n",
    "# cases \n",
    "cases = ['Confirmed', 'Deaths']\n",
    "\n",
    "# replacing Mainland china with just China\n",
    "full_table['Country/Region'] = full_table['Country/Region'].replace('Mainland China', 'China')\n",
    "\n",
    "# filling missing values \n",
    "full_table[['Province/State']] = full_table[['Province/State']].fillna('')\n",
    "full_table[cases] = full_table[cases].fillna(0)"
   ]
  },
  {
   "cell_type": "code",
   "execution_count": 4,
   "metadata": {
    "_kg_hide-input": true,
    "execution": {
     "iopub.execute_input": "2020-04-01T00:14:54.349658Z",
     "iopub.status.busy": "2020-04-01T00:14:54.343310Z",
     "iopub.status.idle": "2020-04-01T00:14:54.415741Z",
     "shell.execute_reply": "2020-04-01T00:14:54.424819Z"
    },
    "papermill": {
     "duration": 0.111208,
     "end_time": "2020-04-01T00:14:54.424962",
     "exception": false,
     "start_time": "2020-04-01T00:14:54.313754",
     "status": "completed"
    },
    "tags": []
   },
   "outputs": [],
   "source": [
    "#hide\n",
    "# cases in the ships\n",
    "ship = full_table[full_table['Province/State'].str.contains('Grand Princess')|full_table['Province/State'].str.contains('Diamond Princess cruise ship')]\n",
    "\n",
    "# china and the row\n",
    "china = full_table[full_table['Country/Region']=='China']\n",
    "row = full_table[full_table['Country/Region']!='China']\n",
    "\n",
    "# latest\n",
    "full_latest = full_table[full_table['Date'] == max(full_table['Date'])].reset_index()\n",
    "china_latest = full_latest[full_latest['Country/Region']=='China']\n",
    "row_latest = full_latest[full_latest['Country/Region']!='China']\n",
    "\n",
    "# latest condensed\n",
    "full_latest_grouped = full_latest.groupby('Country/Region')['Confirmed', 'Deaths'].sum().reset_index()\n",
    "china_latest_grouped = china_latest.groupby('Province/State')['Confirmed', 'Deaths'].sum().reset_index()\n",
    "row_latest_grouped = row_latest.groupby('Country/Region')['Confirmed', 'Deaths'].sum().reset_index()"
   ]
  },
  {
   "cell_type": "markdown",
   "metadata": {
    "papermill": {
     "duration": 0.021196,
     "end_time": "2020-04-01T00:14:54.467842",
     "exception": false,
     "start_time": "2020-04-01T00:14:54.446646",
     "status": "completed"
    },
    "tags": []
   },
   "source": [
    "# World-Wide Totals"
   ]
  },
  {
   "cell_type": "code",
   "execution_count": 5,
   "metadata": {
    "_kg_hide-input": true,
    "execution": {
     "iopub.execute_input": "2020-04-01T00:14:54.517585Z",
     "iopub.status.busy": "2020-04-01T00:14:54.517052Z",
     "iopub.status.idle": "2020-04-01T00:14:54.523483Z",
     "shell.execute_reply": "2020-04-01T00:14:54.524122Z"
    },
    "papermill": {
     "duration": 0.034876,
     "end_time": "2020-04-01T00:14:54.524241",
     "exception": false,
     "start_time": "2020-04-01T00:14:54.489365",
     "status": "completed"
    },
    "tags": []
   },
   "outputs": [],
   "source": [
    "#hide\n",
    "temp = full_table.groupby(['Country/Region', 'Province/State'])['Confirmed', 'Deaths'].max()\n",
    "# temp.style.background_gradient(cmap='Reds')"
   ]
  },
  {
   "cell_type": "code",
   "execution_count": 6,
   "metadata": {
    "_kg_hide-input": true,
    "execution": {
     "iopub.execute_input": "2020-04-01T00:14:54.575161Z",
     "iopub.status.busy": "2020-04-01T00:14:54.574389Z",
     "iopub.status.idle": "2020-04-01T00:14:54.643616Z",
     "shell.execute_reply": "2020-04-01T00:14:54.644055Z"
    },
    "papermill": {
     "duration": 0.096956,
     "end_time": "2020-04-01T00:14:54.644194",
     "exception": false,
     "start_time": "2020-04-01T00:14:54.547238",
     "status": "completed"
    },
    "tags": []
   },
   "outputs": [
    {
     "data": {
      "text/html": [
       "<style  type=\"text/css\" >\n",
       "    #T_6830e110_74a1_11ea_8ba0_8c8590579279row0_col1 {\n",
       "            background-color:  #fbb4ae;\n",
       "            color:  #000000;\n",
       "        }    #T_6830e110_74a1_11ea_8ba0_8c8590579279row0_col2 {\n",
       "            background-color:  #fbb4ae;\n",
       "            color:  #000000;\n",
       "        }</style><table id=\"T_6830e110_74a1_11ea_8ba0_8c8590579279\" ><thead>    <tr>        <th class=\"blank level0\" ></th>        <th class=\"col_heading level0 col0\" >Date</th>        <th class=\"col_heading level0 col1\" >Confirmed</th>        <th class=\"col_heading level0 col2\" >Deaths</th>    </tr></thead><tbody>\n",
       "                <tr>\n",
       "                        <th id=\"T_6830e110_74a1_11ea_8ba0_8c8590579279level0_row0\" class=\"row_heading level0 row0\" >0</th>\n",
       "                        <td id=\"T_6830e110_74a1_11ea_8ba0_8c8590579279row0_col0\" class=\"data row0 col0\" >2020-03-26 00:00:00</td>\n",
       "                        <td id=\"T_6830e110_74a1_11ea_8ba0_8c8590579279row0_col1\" class=\"data row0 col1\" >529591</td>\n",
       "                        <td id=\"T_6830e110_74a1_11ea_8ba0_8c8590579279row0_col2\" class=\"data row0 col2\" >23970</td>\n",
       "            </tr>\n",
       "    </tbody></table>"
      ],
      "text/plain": [
       "<pandas.io.formats.style.Styler at 0x12845cba8>"
      ]
     },
     "execution_count": 6,
     "metadata": {},
     "output_type": "execute_result"
    }
   ],
   "source": [
    "#hide_input\n",
    "temp = full_table.groupby('Date')['Confirmed', 'Deaths'].sum().reset_index()\n",
    "temp = temp[temp['Date']==max(temp['Date'])].reset_index(drop=True)\n",
    "temp.style.background_gradient(cmap='Pastel1')"
   ]
  },
  {
   "cell_type": "markdown",
   "metadata": {
    "papermill": {
     "duration": 0.023993,
     "end_time": "2020-04-01T00:14:54.690850",
     "exception": false,
     "start_time": "2020-04-01T00:14:54.666857",
     "status": "completed"
    },
    "tags": []
   },
   "source": [
    "# Progression of Virus Over Time"
   ]
  },
  {
   "cell_type": "code",
   "execution_count": 7,
   "metadata": {
    "execution": {
     "iopub.execute_input": "2020-04-01T00:14:54.744228Z",
     "iopub.status.busy": "2020-04-01T00:14:54.743479Z",
     "iopub.status.idle": "2020-04-01T00:14:54.748368Z",
     "shell.execute_reply": "2020-04-01T00:14:54.747508Z"
    },
    "papermill": {
     "duration": 0.03674,
     "end_time": "2020-04-01T00:14:54.748622",
     "exception": false,
     "start_time": "2020-04-01T00:14:54.711882",
     "status": "completed"
    },
    "tags": []
   },
   "outputs": [
    {
     "data": {
      "text/html": [
       "<div class=\"flourish-embed flourish-bar-chart-race\" data-src=\"visualisation/1571387\"><script src=\"https://public.flourish.studio/resources/embed.js\"></script></div>"
      ],
      "text/plain": [
       "<IPython.core.display.HTML object>"
      ]
     },
     "execution_count": 7,
     "metadata": {},
     "output_type": "execute_result"
    }
   ],
   "source": [
    "#hide_input\n",
    "# https://app.flourish.studio/visualisation/1571387/edit\n",
    "HTML('''<div class=\"flourish-embed flourish-bar-chart-race\" data-src=\"visualisation/1571387\"><script src=\"https://public.flourish.studio/resources/embed.js\"></script></div>''')"
   ]
  },
  {
   "cell_type": "markdown",
   "metadata": {
    "papermill": {
     "duration": 0.028731,
     "end_time": "2020-04-01T00:14:54.802805",
     "exception": false,
     "start_time": "2020-04-01T00:14:54.774074",
     "status": "completed"
    },
    "tags": []
   },
   "source": [
    "# Maps"
   ]
  },
  {
   "cell_type": "code",
   "execution_count": 8,
   "metadata": {
    "_kg_hide-input": true,
    "execution": {
     "iopub.execute_input": "2020-04-01T00:14:54.862991Z",
     "iopub.status.busy": "2020-04-01T00:14:54.860727Z",
     "iopub.status.idle": "2020-04-01T00:14:58.535305Z",
     "shell.execute_reply": "2020-04-01T00:14:58.536034Z"
    },
    "papermill": {
     "duration": 3.705786,
     "end_time": "2020-04-01T00:14:58.536181",
     "exception": false,
     "start_time": "2020-04-01T00:14:54.830395",
     "status": "completed"
    },
    "tags": []
   },
   "outputs": [],
   "source": [
    "#hide\n",
    "# Confirmed\n",
    "\n",
    "fig = px.choropleth(full_latest_grouped, locations=\"Country/Region\", \n",
    "                    locationmode='country names', color=\"Confirmed\", \n",
    "                    hover_name=\"Country/Region\", range_color=[1,7000], \n",
    "                    color_continuous_scale=\"aggrnyl\", \n",
    "                    title='Countries with Confirmed Cases')\n",
    "fig.update(layout_coloraxis_showscale=False)\n",
    "fig.write_image('covid-eda-1-1.png')"
   ]
  },
  {
   "cell_type": "code",
   "execution_count": 9,
   "metadata": {
    "_kg_hide-input": true,
    "execution": {
     "iopub.execute_input": "2020-04-01T00:14:58.599446Z",
     "iopub.status.busy": "2020-04-01T00:14:58.597402Z",
     "iopub.status.idle": "2020-04-01T00:14:59.033134Z",
     "shell.execute_reply": "2020-04-01T00:14:59.033774Z"
    },
    "papermill": {
     "duration": 0.472216,
     "end_time": "2020-04-01T00:14:59.033926",
     "exception": false,
     "start_time": "2020-04-01T00:14:58.561710",
     "status": "completed"
    },
    "tags": []
   },
   "outputs": [],
   "source": [
    "#hide\n",
    "# Deaths\n",
    "\n",
    "fig = px.choropleth(full_latest_grouped[full_latest_grouped['Deaths']>0], \n",
    "                    locations=\"Country/Region\", locationmode='country names',\n",
    "                    color=\"Deaths\", hover_name=\"Country/Region\", \n",
    "                    range_color=[1,50], color_continuous_scale=\"agsunset\",\n",
    "                    title='Countries with Deaths Reported')\n",
    "fig.update(layout_coloraxis_showscale=False)\n",
    "fig.write_image('covid-eda-1-2.png')"
   ]
  },
  {
   "cell_type": "markdown",
   "metadata": {
    "papermill": {
     "duration": 0.02644,
     "end_time": "2020-04-01T00:14:59.083254",
     "exception": false,
     "start_time": "2020-04-01T00:14:59.056814",
     "status": "completed"
    },
    "tags": []
   },
   "source": [
    "![](covid-eda-1-1.png)\n",
    "![](covid-eda-1-2.png)"
   ]
  },
  {
   "cell_type": "markdown",
   "metadata": {
    "papermill": {
     "duration": 0.024485,
     "end_time": "2020-04-01T00:14:59.131854",
     "exception": false,
     "start_time": "2020-04-01T00:14:59.107369",
     "status": "completed"
    },
    "tags": []
   },
   "source": [
    "# Top 20 Countries"
   ]
  },
  {
   "cell_type": "code",
   "execution_count": 10,
   "metadata": {
    "_kg_hide-input": true,
    "_kg_hide-output": true,
    "execution": {
     "iopub.execute_input": "2020-04-01T00:14:59.186335Z",
     "iopub.status.busy": "2020-04-01T00:14:59.185726Z",
     "iopub.status.idle": "2020-04-01T00:14:59.188998Z",
     "shell.execute_reply": "2020-04-01T00:14:59.188478Z"
    },
    "papermill": {
     "duration": 0.03399,
     "end_time": "2020-04-01T00:14:59.189090",
     "exception": false,
     "start_time": "2020-04-01T00:14:59.155100",
     "status": "completed"
    },
    "tags": []
   },
   "outputs": [
    {
     "data": {
      "text/html": [
       "<div>\n",
       "<style scoped>\n",
       "    .dataframe tbody tr th:only-of-type {\n",
       "        vertical-align: middle;\n",
       "    }\n",
       "\n",
       "    .dataframe tbody tr th {\n",
       "        vertical-align: top;\n",
       "    }\n",
       "\n",
       "    .dataframe thead th {\n",
       "        text-align: right;\n",
       "    }\n",
       "</style>\n",
       "<table border=\"1\" class=\"dataframe\">\n",
       "  <thead>\n",
       "    <tr style=\"text-align: right;\">\n",
       "      <th></th>\n",
       "      <th>Country/Region</th>\n",
       "      <th>Confirmed</th>\n",
       "      <th>Deaths</th>\n",
       "    </tr>\n",
       "  </thead>\n",
       "  <tbody>\n",
       "    <tr>\n",
       "      <th>0</th>\n",
       "      <td>Afghanistan</td>\n",
       "      <td>94</td>\n",
       "      <td>4</td>\n",
       "    </tr>\n",
       "    <tr>\n",
       "      <th>1</th>\n",
       "      <td>Albania</td>\n",
       "      <td>174</td>\n",
       "      <td>6</td>\n",
       "    </tr>\n",
       "    <tr>\n",
       "      <th>2</th>\n",
       "      <td>Algeria</td>\n",
       "      <td>367</td>\n",
       "      <td>25</td>\n",
       "    </tr>\n",
       "    <tr>\n",
       "      <th>3</th>\n",
       "      <td>Andorra</td>\n",
       "      <td>224</td>\n",
       "      <td>3</td>\n",
       "    </tr>\n",
       "    <tr>\n",
       "      <th>4</th>\n",
       "      <td>Angola</td>\n",
       "      <td>4</td>\n",
       "      <td>0</td>\n",
       "    </tr>\n",
       "  </tbody>\n",
       "</table>\n",
       "</div>"
      ],
      "text/plain": [
       "  Country/Region  Confirmed  Deaths\n",
       "0    Afghanistan         94       4\n",
       "1        Albania        174       6\n",
       "2        Algeria        367      25\n",
       "3        Andorra        224       3\n",
       "4         Angola          4       0"
      ]
     },
     "execution_count": 10,
     "metadata": {},
     "output_type": "execute_result"
    }
   ],
   "source": [
    "#hide\n",
    "flg = full_latest_grouped\n",
    "flg.head()"
   ]
  },
  {
   "cell_type": "code",
   "execution_count": 11,
   "metadata": {
    "_kg_hide-input": true,
    "execution": {
     "iopub.execute_input": "2020-04-01T00:14:59.252324Z",
     "iopub.status.busy": "2020-04-01T00:14:59.251637Z",
     "iopub.status.idle": "2020-04-01T00:14:59.827131Z",
     "shell.execute_reply": "2020-04-01T00:14:59.825738Z"
    },
    "papermill": {
     "duration": 0.613041,
     "end_time": "2020-04-01T00:14:59.827391",
     "exception": false,
     "start_time": "2020-04-01T00:14:59.214350",
     "status": "completed"
    },
    "tags": []
   },
   "outputs": [],
   "source": [
    "#hide\n",
    "fig = px.bar(flg.sort_values('Confirmed', ascending=False).head(20).sort_values('Confirmed', ascending=True), \n",
    "             x=\"Confirmed\", y=\"Country/Region\", title='Confirmed Cases', text='Confirmed', orientation='h', \n",
    "             width=700, height=700, range_x = [0, max(flg['Confirmed'])+10000])\n",
    "fig.update_traces(marker_color=cnf, opacity=0.6, textposition='outside')\n",
    "fig.write_image('covid-eda-4-1.png')"
   ]
  },
  {
   "cell_type": "code",
   "execution_count": 12,
   "metadata": {
    "_kg_hide-input": true,
    "execution": {
     "iopub.execute_input": "2020-04-01T00:14:59.928043Z",
     "iopub.status.busy": "2020-04-01T00:14:59.917913Z",
     "iopub.status.idle": "2020-04-01T00:15:00.304411Z",
     "shell.execute_reply": "2020-04-01T00:15:00.303919Z"
    },
    "papermill": {
     "duration": 0.450806,
     "end_time": "2020-04-01T00:15:00.304523",
     "exception": false,
     "start_time": "2020-04-01T00:14:59.853717",
     "status": "completed"
    },
    "tags": []
   },
   "outputs": [],
   "source": [
    "#hide\n",
    "fig = px.bar(flg.sort_values('Deaths', ascending=False).head(20).sort_values('Deaths', ascending=True), \n",
    "             x=\"Deaths\", y=\"Country/Region\", title='Deaths', text='Deaths', orientation='h', \n",
    "             width=700, height=700, range_x = [0, max(flg['Deaths'])+500])\n",
    "fig.update_traces(marker_color=dth, opacity=0.6, textposition='outside')\n",
    "fig.write_image('covid-eda-4-2.png')"
   ]
  },
  {
   "cell_type": "code",
   "execution_count": 13,
   "metadata": {
    "_kg_hide-input": true,
    "execution": {
     "iopub.execute_input": "2020-04-01T00:15:00.362554Z",
     "iopub.status.busy": "2020-04-01T00:15:00.361907Z",
     "iopub.status.idle": "2020-04-01T00:15:00.871591Z",
     "shell.execute_reply": "2020-04-01T00:15:00.870885Z"
    },
    "papermill": {
     "duration": 0.540713,
     "end_time": "2020-04-01T00:15:00.871756",
     "exception": false,
     "start_time": "2020-04-01T00:15:00.331043",
     "status": "completed"
    },
    "tags": []
   },
   "outputs": [],
   "source": [
    "#hide\n",
    "# (Only countries with more than 100 case are considered)\n",
    "\n",
    "flg['Mortality Rate'] = round((flg['Deaths']/flg['Confirmed'])*100, 2)\n",
    "temp = flg[flg['Confirmed']>100]\n",
    "temp = temp.sort_values('Mortality Rate', ascending=False)\n",
    "\n",
    "fig = px.bar(temp.sort_values('Mortality Rate', ascending=False).head(15).sort_values('Mortality Rate', ascending=True), \n",
    "             x=\"Mortality Rate\", y=\"Country/Region\", text='Mortality Rate', orientation='h', \n",
    "             width=700, height=600, range_x = [0, 8], title='No. of Deaths Per 100 Confirmed Case')\n",
    "fig.update_traces(marker_color=act, opacity=0.6, textposition='outside')\n",
    "fig.write_image('covid-eda-4-5.png')"
   ]
  },
  {
   "cell_type": "markdown",
   "metadata": {
    "papermill": {
     "duration": 0.028445,
     "end_time": "2020-04-01T00:15:00.926812",
     "exception": false,
     "start_time": "2020-04-01T00:15:00.898367",
     "status": "completed"
    },
    "tags": []
   },
   "source": [
    "![](covid-eda-4-1.png)\n",
    "![](covid-eda-4-2.png)\n",
    "![](covid-eda-4-5.png)"
   ]
  },
  {
   "cell_type": "markdown",
   "metadata": {
    "papermill": {
     "duration": 0.02401,
     "end_time": "2020-04-01T00:15:00.976815",
     "exception": false,
     "start_time": "2020-04-01T00:15:00.952805",
     "status": "completed"
    },
    "tags": []
   },
   "source": [
    "# Composition of Cases"
   ]
  },
  {
   "cell_type": "code",
   "execution_count": null,
   "metadata": {
    "_kg_hide-input": true,
    "execution": {
     "iopub.execute_input": "2020-04-01T00:15:01.034346Z",
     "iopub.status.busy": "2020-04-01T00:15:01.033702Z",
     "iopub.status.idle": "2020-04-01T00:15:02.882736Z",
     "shell.execute_reply": "2020-04-01T00:15:02.881948Z"
    },
    "papermill": {
     "duration": 1.880791,
     "end_time": "2020-04-01T00:15:02.882845",
     "exception": false,
     "start_time": "2020-04-01T00:15:01.002054",
     "status": "completed"
    },
    "tags": []
   },
   "outputs": [],
   "source": [
    "#hide_input\n",
    "fig = px.treemap(full_latest.sort_values(by='Confirmed', ascending=False).reset_index(drop=True), \n",
    "                 path=[\"Country/Region\", \"Province/State\"], values=\"Confirmed\", height=700,\n",
    "                 title='Number of Confirmed Cases',\n",
    "                 color_discrete_sequence = px.colors.qualitative.Prism)\n",
    "fig.data[0].textinfo = 'label+text+value'\n",
    "fig.write_image('covid-eda-8-1.png')\n",
    "\n",
    "fig = px.treemap(full_latest.sort_values(by='Deaths', ascending=False).reset_index(drop=True), \n",
    "                 path=[\"Country/Region\", \"Province/State\"], values=\"Deaths\", height=700,\n",
    "                 title='Number of Deaths reported',\n",
    "                 color_discrete_sequence = px.colors.qualitative.Prism)\n",
    "fig.data[0].textinfo = 'label+text+value'\n",
    "fig.write_image('covid-eda-8-2.png')"
   ]
  },
  {
   "cell_type": "markdown",
   "metadata": {
    "papermill": {
     "duration": 0.023818,
     "end_time": "2020-04-01T00:15:02.931206",
     "exception": false,
     "start_time": "2020-04-01T00:15:02.907388",
     "status": "completed"
    },
    "tags": []
   },
   "source": [
    "![](covid-eda-8-1.png)\n",
    "![](covid-eda-8-2.png)"
   ]
  },
  {
   "cell_type": "markdown",
   "metadata": {
    "papermill": {
     "duration": 0.025013,
     "end_time": "2020-04-01T00:15:02.984186",
     "exception": false,
     "start_time": "2020-04-01T00:15:02.959173",
     "status": "completed"
    },
    "tags": []
   },
   "source": [
    "# Epidemic Span"
   ]
  },
  {
   "cell_type": "markdown",
   "metadata": {
    "papermill": {
     "duration": 0.023141,
     "end_time": "2020-04-01T00:15:03.030908",
     "exception": false,
     "start_time": "2020-04-01T00:15:03.007767",
     "status": "completed"
    },
    "tags": []
   },
   "source": [
    "Note : In the graph, last day is shown as one day after the last time a new confirmed cases reported in the Country / Region"
   ]
  },
  {
   "cell_type": "code",
   "execution_count": null,
   "metadata": {
    "_kg_hide-input": true,
    "execution": {
     "iopub.execute_input": "2020-04-01T00:15:03.086159Z",
     "iopub.status.busy": "2020-04-01T00:15:03.083599Z",
     "iopub.status.idle": "2020-04-01T00:15:05.978117Z",
     "shell.execute_reply": "2020-04-01T00:15:05.979011Z"
    },
    "papermill": {
     "duration": 2.926069,
     "end_time": "2020-04-01T00:15:05.979151",
     "exception": false,
     "start_time": "2020-04-01T00:15:03.053082",
     "status": "completed"
    },
    "tags": []
   },
   "outputs": [],
   "source": [
    "#hide_input\n",
    "# first date\n",
    "# ----------\n",
    "first_date = full_table[full_table['Confirmed']>0]\n",
    "first_date = first_date.groupby('Country/Region')['Date'].agg(['min']).reset_index()\n",
    "# first_date.head()\n",
    "from datetime import timedelta  \n",
    "# last date\n",
    "# ---------\n",
    "last_date = full_table.groupby(['Country/Region', 'Date', ])['Confirmed', 'Deaths']\n",
    "last_date = last_date.sum().diff().reset_index()\n",
    "\n",
    "mask = last_date['Country/Region'] != last_date['Country/Region'].shift(1)\n",
    "last_date.loc[mask, 'Confirmed'] = np.nan\n",
    "last_date.loc[mask, 'Deaths'] = np.nan\n",
    "\n",
    "last_date = last_date[last_date['Confirmed']>0]\n",
    "last_date = last_date.groupby('Country/Region')['Date'].agg(['max']).reset_index()\n",
    "# last_date.head()\n",
    "\n",
    "# first_last\n",
    "# ----------\n",
    "first_last = pd.concat([first_date, last_date[['max']]], axis=1)\n",
    "\n",
    "# added 1 more day, which will show the next day as the day on which last case appeared\n",
    "first_last['max'] = first_last['max'] + timedelta(days=1)\n",
    "\n",
    "# no. of days\n",
    "first_last['Days'] = first_last['max'] - first_last['min']\n",
    "\n",
    "# task column as country\n",
    "first_last['Task'] = first_last['Country/Region']\n",
    "\n",
    "# rename columns\n",
    "first_last.columns = ['Country/Region', 'Start', 'Finish', 'Days', 'Task']\n",
    "\n",
    "# sort by no. of days\n",
    "first_last = first_last.sort_values('Days')\n",
    "# first_last.head()\n",
    "\n",
    "# visualization\n",
    "# --------------\n",
    "\n",
    "# produce random colors\n",
    "clr = [\"#\"+''.join([random.choice('0123456789ABC') for j in range(6)]) for i in range(len(first_last))]\n",
    "\n",
    "#plot\n",
    "fig = ff.create_gantt(first_last, index_col='Country/Region', colors=clr, show_colorbar=False, \n",
    "                      bar_width=0.2, showgrid_x=True, showgrid_y=True, height=1600, \n",
    "                      title=('Gantt Chart'))\n",
    "fig.write_image('covid-eda-9-1.png')"
   ]
  },
  {
   "cell_type": "markdown",
   "metadata": {
    "papermill": {
     "duration": 0.029373,
     "end_time": "2020-04-01T00:15:06.033618",
     "exception": false,
     "start_time": "2020-04-01T00:15:06.004245",
     "status": "completed"
    },
    "tags": []
   },
   "source": [
    "![](covid-eda-9-1.png)"
   ]
  },
  {
   "cell_type": "markdown",
   "metadata": {
    "papermill": {
     "duration": 0.025614,
     "end_time": "2020-04-01T00:15:06.085289",
     "exception": false,
     "start_time": "2020-04-01T00:15:06.059675",
     "status": "completed"
    },
    "tags": []
   },
   "source": [
    "# China vs. Not China"
   ]
  },
  {
   "cell_type": "code",
   "execution_count": null,
   "metadata": {
    "_kg_hide-input": true,
    "execution": {
     "iopub.execute_input": "2020-04-01T00:15:06.147061Z",
     "iopub.status.busy": "2020-04-01T00:15:06.144609Z",
     "iopub.status.idle": "2020-04-01T00:15:06.960997Z",
     "shell.execute_reply": "2020-04-01T00:15:06.961465Z"
    },
    "papermill": {
     "duration": 0.850444,
     "end_time": "2020-04-01T00:15:06.961596",
     "exception": false,
     "start_time": "2020-04-01T00:15:06.111152",
     "status": "completed"
    },
    "tags": []
   },
   "outputs": [],
   "source": [
    "#hide\n",
    "# In China\n",
    "temp = china.groupby('Date')['Confirmed', 'Deaths'].sum().diff()\n",
    "temp = temp.reset_index()\n",
    "temp = temp.melt(id_vars=\"Date\", \n",
    "                 value_vars=['Confirmed', 'Deaths'])\n",
    "\n",
    "fig = px.bar(temp, x=\"Date\", y=\"value\", color='variable', \n",
    "             title='In China',\n",
    "             color_discrete_sequence=[cnf, dth, rec])\n",
    "fig.update_layout(barmode='group')\n",
    "fig.write_image('covid-eda-10-1.png')\n",
    "\n",
    "#-----------------------------------------------------------------------------\n",
    "\n",
    "# ROW\n",
    "temp = row.groupby('Date')['Confirmed', 'Deaths'].sum().diff()\n",
    "temp = temp.reset_index()\n",
    "temp = temp.melt(id_vars=\"Date\",\n",
    "                 value_vars=['Confirmed', 'Deaths'])\n",
    "\n",
    "fig = px.bar(temp, x=\"Date\", y=\"value\", color='variable', \n",
    "             title='Outside China',\n",
    "             color_discrete_sequence=[cnf, dth, rec])\n",
    "fig.update_layout(barmode='group')\n",
    "fig.write_image('covid-eda-10-2.png')"
   ]
  },
  {
   "cell_type": "code",
   "execution_count": null,
   "metadata": {
    "_kg_hide-input": true,
    "execution": {
     "iopub.execute_input": "2020-04-01T00:15:07.023499Z",
     "iopub.status.busy": "2020-04-01T00:15:07.022869Z",
     "iopub.status.idle": "2020-04-01T00:15:08.468056Z",
     "shell.execute_reply": "2020-04-01T00:15:08.467450Z"
    },
    "papermill": {
     "duration": 1.479067,
     "end_time": "2020-04-01T00:15:08.468173",
     "exception": false,
     "start_time": "2020-04-01T00:15:06.989106",
     "status": "completed"
    },
    "tags": []
   },
   "outputs": [],
   "source": [
    "#hide\n",
    "def from_china_or_not(row):\n",
    "    if row['Country/Region']=='China':\n",
    "        return 'From China'\n",
    "    else:\n",
    "        return 'Outside China'\n",
    "    \n",
    "temp = full_table.copy()\n",
    "temp['Region'] = temp.apply(from_china_or_not, axis=1)\n",
    "temp = temp.groupby(['Region', 'Date'])['Confirmed', 'Deaths']\n",
    "temp = temp.sum().diff().reset_index()\n",
    "mask = temp['Region'] != temp['Region'].shift(1)\n",
    "temp.loc[mask, 'Confirmed'] = np.nan\n",
    "temp.loc[mask, 'Deaths'] = np.nan\n",
    "\n",
    "fig = px.bar(temp, x='Date', y='Confirmed', color='Region', barmode='group', \n",
    "             text='Confirmed', title='Confirmed', color_discrete_sequence= [cnf, dth, rec])\n",
    "fig.update_traces(textposition='outside')\n",
    "fig.write_image('covid-eda-10-3.png')\n",
    "\n",
    "fig = px.bar(temp, x='Date', y='Deaths', color='Region', barmode='group', \n",
    "             text='Confirmed', title='Deaths', color_discrete_sequence= [cnf, dth, rec])\n",
    "fig.update_traces(textposition='outside')\n",
    "fig.update_traces(textangle=-90)\n",
    "fig.write_image('covid-eda-10-4.png')"
   ]
  },
  {
   "cell_type": "code",
   "execution_count": null,
   "metadata": {
    "_kg_hide-input": true,
    "execution": {
     "iopub.execute_input": "2020-04-01T00:15:08.532768Z",
     "iopub.status.busy": "2020-04-01T00:15:08.531653Z",
     "iopub.status.idle": "2020-04-01T00:15:09.566854Z",
     "shell.execute_reply": "2020-04-01T00:15:09.566211Z"
    },
    "papermill": {
     "duration": 1.072856,
     "end_time": "2020-04-01T00:15:09.566963",
     "exception": false,
     "start_time": "2020-04-01T00:15:08.494107",
     "status": "completed"
    },
    "tags": []
   },
   "outputs": [],
   "source": [
    "#hide\n",
    "gdf = full_table.groupby(['Date', 'Country/Region'])['Confirmed', 'Deaths'].max()\n",
    "gdf = gdf.reset_index()\n",
    "\n",
    "temp = gdf[gdf['Country/Region']=='China'].reset_index()\n",
    "temp = temp.melt(id_vars='Date', value_vars=['Confirmed', 'Deaths'],\n",
    "                var_name='Case', value_name='Count')\n",
    "fig = px.bar(temp, x=\"Date\", y=\"Count\", color='Case', facet_col=\"Case\",\n",
    "            title='China', color_discrete_sequence=[cnf, dth, rec])\n",
    "fig.write_image('covid-eda-10-5.png')\n",
    "\n",
    "temp = gdf[gdf['Country/Region']!='China'].groupby('Date').sum().reset_index()\n",
    "temp = temp.melt(id_vars='Date', value_vars=['Confirmed', 'Deaths'],\n",
    "                var_name='Case', value_name='Count')\n",
    "fig = px.bar(temp, x=\"Date\", y=\"Count\", color='Case', facet_col=\"Case\",\n",
    "             title='ROW', color_discrete_sequence=[cnf, dth, rec])\n",
    "fig.write_image('covid-eda-10-6.png')"
   ]
  },
  {
   "cell_type": "markdown",
   "metadata": {
    "papermill": {
     "duration": 0.026912,
     "end_time": "2020-04-01T00:15:09.621203",
     "exception": false,
     "start_time": "2020-04-01T00:15:09.594291",
     "status": "completed"
    },
    "tags": []
   },
   "source": [
    "![](covid-eda-10-1.png)\n",
    "![](covid-eda-10-2.png)\n",
    "![](covid-eda-10-3.png)\n",
    "![](covid-eda-10-4.png)\n",
    "![](covid-eda-10-5.png)"
   ]
  },
  {
   "cell_type": "markdown",
   "metadata": {
    "papermill": {
     "duration": 0.023166,
     "end_time": "2020-04-01T00:15:09.670035",
     "exception": false,
     "start_time": "2020-04-01T00:15:09.646869",
     "status": "completed"
    },
    "tags": []
   },
   "source": [
    "# Data By Country"
   ]
  },
  {
   "cell_type": "markdown",
   "metadata": {
    "papermill": {
     "duration": 0.022552,
     "end_time": "2020-04-01T00:15:09.715328",
     "exception": false,
     "start_time": "2020-04-01T00:15:09.692776",
     "status": "completed"
    },
    "tags": []
   },
   "source": [
    "### Top 50 Countries By Confirmed Cases"
   ]
  },
  {
   "cell_type": "code",
   "execution_count": null,
   "metadata": {
    "_kg_hide-input": true,
    "execution": {
     "iopub.execute_input": "2020-04-01T00:15:09.844064Z",
     "iopub.status.busy": "2020-04-01T00:15:09.838313Z",
     "iopub.status.idle": "2020-04-01T00:15:09.848967Z",
     "shell.execute_reply": "2020-04-01T00:15:09.849396Z"
    },
    "papermill": {
     "duration": 0.110752,
     "end_time": "2020-04-01T00:15:09.849514",
     "exception": false,
     "start_time": "2020-04-01T00:15:09.738762",
     "status": "completed"
    },
    "tags": []
   },
   "outputs": [],
   "source": [
    "#hide_input\n",
    "temp_f = full_latest_grouped.sort_values(by='Confirmed', ascending=False).head(50)\n",
    "temp_f = temp_f.reset_index(drop=True)\n",
    "temp_f.style.background_gradient(cmap='Reds')"
   ]
  },
  {
   "cell_type": "markdown",
   "metadata": {
    "papermill": {
     "duration": 0.02648,
     "end_time": "2020-04-01T00:15:09.900937",
     "exception": false,
     "start_time": "2020-04-01T00:15:09.874457",
     "status": "completed"
    },
    "tags": []
   },
   "source": [
    "### Top 25 Countries By Deaths Reported"
   ]
  },
  {
   "cell_type": "code",
   "execution_count": null,
   "metadata": {
    "_kg_hide-input": true,
    "execution": {
     "iopub.execute_input": "2020-04-01T00:15:09.983045Z",
     "iopub.status.busy": "2020-04-01T00:15:09.982351Z",
     "iopub.status.idle": "2020-04-01T00:15:09.987576Z",
     "shell.execute_reply": "2020-04-01T00:15:09.988026Z"
    },
    "papermill": {
     "duration": 0.061311,
     "end_time": "2020-04-01T00:15:09.988140",
     "exception": false,
     "start_time": "2020-04-01T00:15:09.926829",
     "status": "completed"
    },
    "tags": []
   },
   "outputs": [],
   "source": [
    "#hide_input\n",
    "temp_flg = temp_f[temp_f['Deaths']>0][['Country/Region', 'Deaths']].head(25)\n",
    "temp_flg.sort_values('Deaths', ascending=False).reset_index(drop=True).style.background_gradient(cmap='Reds')"
   ]
  },
  {
   "cell_type": "markdown",
   "metadata": {
    "papermill": {
     "duration": 0.025784,
     "end_time": "2020-04-01T00:15:10.039687",
     "exception": false,
     "start_time": "2020-04-01T00:15:10.013903",
     "status": "completed"
    },
    "tags": []
   },
   "source": [
    "## Top 25 Chinese Provinces By Confirmed Cases"
   ]
  },
  {
   "cell_type": "code",
   "execution_count": null,
   "metadata": {
    "_kg_hide-input": true,
    "execution": {
     "iopub.execute_input": "2020-04-01T00:15:10.147079Z",
     "iopub.status.busy": "2020-04-01T00:15:10.144686Z",
     "iopub.status.idle": "2020-04-01T00:15:10.153109Z",
     "shell.execute_reply": "2020-04-01T00:15:10.152515Z"
    },
    "papermill": {
     "duration": 0.088495,
     "end_time": "2020-04-01T00:15:10.153262",
     "exception": false,
     "start_time": "2020-04-01T00:15:10.064767",
     "status": "completed"
    },
    "tags": []
   },
   "outputs": [],
   "source": [
    "#hide_input\n",
    "temp_f = china_latest_grouped[['Province/State', 'Confirmed', 'Deaths']]\n",
    "temp_f = temp_f.sort_values(by='Confirmed', ascending=False)\n",
    "temp_f = temp_f.reset_index(drop=True)\n",
    "temp_f.style.background_gradient(cmap='Pastel1_r')"
   ]
  },
  {
   "cell_type": "markdown",
   "metadata": {
    "papermill": {
     "duration": 0.028783,
     "end_time": "2020-04-01T00:15:10.211582",
     "exception": false,
     "start_time": "2020-04-01T00:15:10.182799",
     "status": "completed"
    },
    "tags": []
   },
   "source": [
    "# Related Work"
   ]
  },
  {
   "cell_type": "markdown",
   "metadata": {
    "papermill": {
     "duration": 0.027281,
     "end_time": "2020-04-01T00:15:10.270804",
     "exception": false,
     "start_time": "2020-04-01T00:15:10.243523",
     "status": "completed"
    },
    "tags": []
   },
   "source": [
    "1. https://www.kaggle.com/imdevskp/mers-outbreak-analysis  \n",
    "2. https://www.kaggle.com/imdevskp/sars-2003-outbreak-analysis  \n",
    "3. https://www.kaggle.com/imdevskp/western-africa-ebola-outbreak-analysis\n"
   ]
  }
 ],
 "metadata": {
  "kernelspec": {
   "display_name": "visualization-curriculum-gF8wUgMm",
   "language": "python",
   "name": "visualization-curriculum-gf8wugmm"
  },
  "language_info": {
   "codemirror_mode": {
    "name": "ipython",
    "version": 3
   },
   "file_extension": ".py",
   "mimetype": "text/x-python",
   "name": "python",
   "nbconvert_exporter": "python",
   "pygments_lexer": "ipython3",
   "version": "3.6.7"
  },
  "papermill": {
   "duration": 18.781672,
   "end_time": "2020-04-01T00:15:10.409481",
   "environment_variables": {},
   "exception": null,
   "input_path": "2020-03-13-EDA.ipynb",
   "output_path": "2020-03-13-EDA.ipynb",
   "parameters": {},
   "start_time": "2020-04-01T00:14:51.627809",
   "version": "2.0.0"
  }
 },
 "nbformat": 4,
 "nbformat_minor": 4
}
