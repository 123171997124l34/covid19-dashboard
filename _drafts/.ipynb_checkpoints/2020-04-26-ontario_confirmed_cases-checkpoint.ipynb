{
 "cells": [
  {
   "cell_type": "markdown",
   "metadata": {
    "papermill": {
     "duration": 0.014189,
     "end_time": "2020-04-28T12:16:09.616963",
     "exception": false,
     "start_time": "2020-04-28T12:16:09.602774",
     "status": "completed"
    },
    "tags": []
   },
   "source": [
    "# Ontario COVID-19 data visualizations of confirmed cases\n",
    "> \"Maps and graphs of confirmed COVID-19 cases in Ontario, Canada\"\n",
    "\n",
    "- author: <a href=https://github.com/anomal/>Sophiah Ho</a> \n",
    "- categories: [ontario, canada, covid-19, province, hotspot, toronto, waterloo, ottawa, peel, york region, halton, testing]\n",
    "- image: images/ontario_confirmed_map.png\n",
    "- permalink: /ontario-confirmed-cases-per-region/\n",
    "- toc: true"
   ]
  },
  {
   "cell_type": "code",
   "execution_count": 1,
   "metadata": {
    "execution": {
     "iopub.execute_input": "2020-04-28T12:16:09.642481Z",
     "iopub.status.busy": "2020-04-28T12:16:09.641874Z",
     "iopub.status.idle": "2020-04-28T12:16:10.898111Z",
     "shell.execute_reply": "2020-04-28T12:16:10.897594Z"
    },
    "papermill": {
     "duration": 1.272253,
     "end_time": "2020-04-28T12:16:10.898237",
     "exception": false,
     "start_time": "2020-04-28T12:16:09.625984",
     "status": "completed"
    },
    "tags": []
   },
   "outputs": [
    {
     "ename": "FileNotFoundError",
     "evalue": "[Errno 2] File data_files/ontario-cases-data.cache.csv does not exist: 'data_files/ontario-cases-data.cache.csv'",
     "output_type": "error",
     "traceback": [
      "\u001b[0;31m---------------------------------------------------------------------------\u001b[0m",
      "\u001b[0;31mFileNotFoundError\u001b[0m                         Traceback (most recent call last)",
      "\u001b[0;32m<ipython-input-1-9daa1b5be161>\u001b[0m in \u001b[0;36m<module>\u001b[0;34m\u001b[0m\n\u001b[1;32m     14\u001b[0m     \u001b[0morigdf\u001b[0m \u001b[0;34m=\u001b[0m \u001b[0mpd\u001b[0m\u001b[0;34m.\u001b[0m\u001b[0mread_csv\u001b[0m\u001b[0;34m(\u001b[0m\u001b[0murl\u001b[0m\u001b[0;34m)\u001b[0m\u001b[0;34m\u001b[0m\u001b[0;34m\u001b[0m\u001b[0m\n\u001b[0;32m---> 15\u001b[0;31m     \u001b[0morigdf\u001b[0m\u001b[0;34m.\u001b[0m\u001b[0mto_csv\u001b[0m\u001b[0;34m(\u001b[0m\u001b[0mcachefilename\u001b[0m\u001b[0;34m,\u001b[0m \u001b[0mindex\u001b[0m\u001b[0;34m=\u001b[0m\u001b[0;32mFalse\u001b[0m\u001b[0;34m)\u001b[0m\u001b[0;34m\u001b[0m\u001b[0;34m\u001b[0m\u001b[0m\n\u001b[0m\u001b[1;32m     16\u001b[0m     \u001b[0mrefreshtime\u001b[0m \u001b[0;34m=\u001b[0m \u001b[0mdatetime\u001b[0m\u001b[0;34m.\u001b[0m\u001b[0mnow\u001b[0m\u001b[0;34m(\u001b[0m\u001b[0;34m)\u001b[0m\u001b[0;34m\u001b[0m\u001b[0;34m\u001b[0m\u001b[0m\n",
      "\u001b[0;32m~/.local/lib/python3.7/site-packages/pandas/core/generic.py\u001b[0m in \u001b[0;36mto_csv\u001b[0;34m(self, path_or_buf, sep, na_rep, float_format, columns, header, index, index_label, mode, encoding, compression, quoting, quotechar, line_terminator, chunksize, date_format, doublequote, escapechar, decimal)\u001b[0m\n\u001b[1;32m   3203\u001b[0m         )\n\u001b[0;32m-> 3204\u001b[0;31m         \u001b[0mformatter\u001b[0m\u001b[0;34m.\u001b[0m\u001b[0msave\u001b[0m\u001b[0;34m(\u001b[0m\u001b[0;34m)\u001b[0m\u001b[0;34m\u001b[0m\u001b[0;34m\u001b[0m\u001b[0m\n\u001b[0m\u001b[1;32m   3205\u001b[0m \u001b[0;34m\u001b[0m\u001b[0m\n",
      "\u001b[0;32m~/.local/lib/python3.7/site-packages/pandas/io/formats/csvs.py\u001b[0m in \u001b[0;36msave\u001b[0;34m(self)\u001b[0m\n\u001b[1;32m    187\u001b[0m                 \u001b[0mencoding\u001b[0m\u001b[0;34m=\u001b[0m\u001b[0mself\u001b[0m\u001b[0;34m.\u001b[0m\u001b[0mencoding\u001b[0m\u001b[0;34m,\u001b[0m\u001b[0;34m\u001b[0m\u001b[0;34m\u001b[0m\u001b[0m\n\u001b[0;32m--> 188\u001b[0;31m                 \u001b[0mcompression\u001b[0m\u001b[0;34m=\u001b[0m\u001b[0mdict\u001b[0m\u001b[0;34m(\u001b[0m\u001b[0mself\u001b[0m\u001b[0;34m.\u001b[0m\u001b[0mcompression_args\u001b[0m\u001b[0;34m,\u001b[0m \u001b[0mmethod\u001b[0m\u001b[0;34m=\u001b[0m\u001b[0mself\u001b[0m\u001b[0;34m.\u001b[0m\u001b[0mcompression\u001b[0m\u001b[0;34m)\u001b[0m\u001b[0;34m,\u001b[0m\u001b[0;34m\u001b[0m\u001b[0;34m\u001b[0m\u001b[0m\n\u001b[0m\u001b[1;32m    189\u001b[0m             )\n",
      "\u001b[0;32m~/.local/lib/python3.7/site-packages/pandas/io/common.py\u001b[0m in \u001b[0;36mget_handle\u001b[0;34m(path_or_buf, mode, encoding, compression, memory_map, is_text)\u001b[0m\n\u001b[1;32m    427\u001b[0m             \u001b[0;31m# Encoding\u001b[0m\u001b[0;34m\u001b[0m\u001b[0;34m\u001b[0m\u001b[0;34m\u001b[0m\u001b[0m\n\u001b[0;32m--> 428\u001b[0;31m             \u001b[0mf\u001b[0m \u001b[0;34m=\u001b[0m \u001b[0mopen\u001b[0m\u001b[0;34m(\u001b[0m\u001b[0mpath_or_buf\u001b[0m\u001b[0;34m,\u001b[0m \u001b[0mmode\u001b[0m\u001b[0;34m,\u001b[0m \u001b[0mencoding\u001b[0m\u001b[0;34m=\u001b[0m\u001b[0mencoding\u001b[0m\u001b[0;34m,\u001b[0m \u001b[0mnewline\u001b[0m\u001b[0;34m=\u001b[0m\u001b[0;34m\"\"\u001b[0m\u001b[0;34m)\u001b[0m\u001b[0;34m\u001b[0m\u001b[0;34m\u001b[0m\u001b[0m\n\u001b[0m\u001b[1;32m    429\u001b[0m         \u001b[0;32melif\u001b[0m \u001b[0mis_text\u001b[0m\u001b[0;34m:\u001b[0m\u001b[0;34m\u001b[0m\u001b[0;34m\u001b[0m\u001b[0m\n",
      "\u001b[0;31mFileNotFoundError\u001b[0m: [Errno 2] No such file or directory: 'data_files/ontario-cases-data.cache.csv'",
      "\nDuring handling of the above exception, another exception occurred:\n",
      "\u001b[0;31mFileNotFoundError\u001b[0m                         Traceback (most recent call last)",
      "\u001b[0;32m<ipython-input-1-9daa1b5be161>\u001b[0m in \u001b[0;36m<module>\u001b[0;34m\u001b[0m\n\u001b[1;32m     18\u001b[0m \u001b[0;32mexcept\u001b[0m\u001b[0;34m:\u001b[0m\u001b[0;34m\u001b[0m\u001b[0;34m\u001b[0m\u001b[0m\n\u001b[1;32m     19\u001b[0m     \u001b[0mcached\u001b[0m\u001b[0;34m=\u001b[0m\u001b[0;32mTrue\u001b[0m\u001b[0;34m\u001b[0m\u001b[0;34m\u001b[0m\u001b[0m\n\u001b[0;32m---> 20\u001b[0;31m     \u001b[0morigdf\u001b[0m \u001b[0;34m=\u001b[0m \u001b[0mpd\u001b[0m\u001b[0;34m.\u001b[0m\u001b[0mread_csv\u001b[0m\u001b[0;34m(\u001b[0m\u001b[0mcachefilename\u001b[0m\u001b[0;34m)\u001b[0m\u001b[0;34m\u001b[0m\u001b[0;34m\u001b[0m\u001b[0m\n\u001b[0m\u001b[1;32m     21\u001b[0m \u001b[0;34m\u001b[0m\u001b[0m\n\u001b[1;32m     22\u001b[0m \u001b[0mdf\u001b[0m \u001b[0;34m=\u001b[0m \u001b[0morigdf\u001b[0m\u001b[0;34m[\u001b[0m\u001b[0;34m(\u001b[0m\u001b[0morigdf\u001b[0m\u001b[0;34m[\u001b[0m\u001b[0;34m\"Accurate_Episode_Date\"\u001b[0m\u001b[0;34m]\u001b[0m \u001b[0;34m<\u001b[0m \u001b[0;34m\"2100\"\u001b[0m\u001b[0;34m)\u001b[0m \u001b[0;34m&\u001b[0m \u001b[0;34m(\u001b[0m\u001b[0morigdf\u001b[0m\u001b[0;34m[\u001b[0m\u001b[0;34m\"Accurate_Episode_Date\"\u001b[0m\u001b[0;34m]\u001b[0m \u001b[0;34m>\u001b[0m \u001b[0;34m\"2020\"\u001b[0m\u001b[0;34m)\u001b[0m\u001b[0;34m]\u001b[0m\u001b[0;34m\u001b[0m\u001b[0;34m\u001b[0m\u001b[0m\n",
      "\u001b[0;32m~/.local/lib/python3.7/site-packages/pandas/io/parsers.py\u001b[0m in \u001b[0;36mparser_f\u001b[0;34m(filepath_or_buffer, sep, delimiter, header, names, index_col, usecols, squeeze, prefix, mangle_dupe_cols, dtype, engine, converters, true_values, false_values, skipinitialspace, skiprows, skipfooter, nrows, na_values, keep_default_na, na_filter, verbose, skip_blank_lines, parse_dates, infer_datetime_format, keep_date_col, date_parser, dayfirst, cache_dates, iterator, chunksize, compression, thousands, decimal, lineterminator, quotechar, quoting, doublequote, escapechar, comment, encoding, dialect, error_bad_lines, warn_bad_lines, delim_whitespace, low_memory, memory_map, float_precision)\u001b[0m\n\u001b[1;32m    674\u001b[0m         )\n\u001b[1;32m    675\u001b[0m \u001b[0;34m\u001b[0m\u001b[0m\n\u001b[0;32m--> 676\u001b[0;31m         \u001b[0;32mreturn\u001b[0m \u001b[0m_read\u001b[0m\u001b[0;34m(\u001b[0m\u001b[0mfilepath_or_buffer\u001b[0m\u001b[0;34m,\u001b[0m \u001b[0mkwds\u001b[0m\u001b[0;34m)\u001b[0m\u001b[0;34m\u001b[0m\u001b[0;34m\u001b[0m\u001b[0m\n\u001b[0m\u001b[1;32m    677\u001b[0m \u001b[0;34m\u001b[0m\u001b[0m\n\u001b[1;32m    678\u001b[0m     \u001b[0mparser_f\u001b[0m\u001b[0;34m.\u001b[0m\u001b[0m__name__\u001b[0m \u001b[0;34m=\u001b[0m \u001b[0mname\u001b[0m\u001b[0;34m\u001b[0m\u001b[0;34m\u001b[0m\u001b[0m\n",
      "\u001b[0;32m~/.local/lib/python3.7/site-packages/pandas/io/parsers.py\u001b[0m in \u001b[0;36m_read\u001b[0;34m(filepath_or_buffer, kwds)\u001b[0m\n\u001b[1;32m    446\u001b[0m \u001b[0;34m\u001b[0m\u001b[0m\n\u001b[1;32m    447\u001b[0m     \u001b[0;31m# Create the parser.\u001b[0m\u001b[0;34m\u001b[0m\u001b[0;34m\u001b[0m\u001b[0;34m\u001b[0m\u001b[0m\n\u001b[0;32m--> 448\u001b[0;31m     \u001b[0mparser\u001b[0m \u001b[0;34m=\u001b[0m \u001b[0mTextFileReader\u001b[0m\u001b[0;34m(\u001b[0m\u001b[0mfp_or_buf\u001b[0m\u001b[0;34m,\u001b[0m \u001b[0;34m**\u001b[0m\u001b[0mkwds\u001b[0m\u001b[0;34m)\u001b[0m\u001b[0;34m\u001b[0m\u001b[0;34m\u001b[0m\u001b[0m\n\u001b[0m\u001b[1;32m    449\u001b[0m \u001b[0;34m\u001b[0m\u001b[0m\n\u001b[1;32m    450\u001b[0m     \u001b[0;32mif\u001b[0m \u001b[0mchunksize\u001b[0m \u001b[0;32mor\u001b[0m \u001b[0miterator\u001b[0m\u001b[0;34m:\u001b[0m\u001b[0;34m\u001b[0m\u001b[0;34m\u001b[0m\u001b[0m\n",
      "\u001b[0;32m~/.local/lib/python3.7/site-packages/pandas/io/parsers.py\u001b[0m in \u001b[0;36m__init__\u001b[0;34m(self, f, engine, **kwds)\u001b[0m\n\u001b[1;32m    878\u001b[0m             \u001b[0mself\u001b[0m\u001b[0;34m.\u001b[0m\u001b[0moptions\u001b[0m\u001b[0;34m[\u001b[0m\u001b[0;34m\"has_index_names\"\u001b[0m\u001b[0;34m]\u001b[0m \u001b[0;34m=\u001b[0m \u001b[0mkwds\u001b[0m\u001b[0;34m[\u001b[0m\u001b[0;34m\"has_index_names\"\u001b[0m\u001b[0;34m]\u001b[0m\u001b[0;34m\u001b[0m\u001b[0;34m\u001b[0m\u001b[0m\n\u001b[1;32m    879\u001b[0m \u001b[0;34m\u001b[0m\u001b[0m\n\u001b[0;32m--> 880\u001b[0;31m         \u001b[0mself\u001b[0m\u001b[0;34m.\u001b[0m\u001b[0m_make_engine\u001b[0m\u001b[0;34m(\u001b[0m\u001b[0mself\u001b[0m\u001b[0;34m.\u001b[0m\u001b[0mengine\u001b[0m\u001b[0;34m)\u001b[0m\u001b[0;34m\u001b[0m\u001b[0;34m\u001b[0m\u001b[0m\n\u001b[0m\u001b[1;32m    881\u001b[0m \u001b[0;34m\u001b[0m\u001b[0m\n\u001b[1;32m    882\u001b[0m     \u001b[0;32mdef\u001b[0m \u001b[0mclose\u001b[0m\u001b[0;34m(\u001b[0m\u001b[0mself\u001b[0m\u001b[0;34m)\u001b[0m\u001b[0;34m:\u001b[0m\u001b[0;34m\u001b[0m\u001b[0;34m\u001b[0m\u001b[0m\n",
      "\u001b[0;32m~/.local/lib/python3.7/site-packages/pandas/io/parsers.py\u001b[0m in \u001b[0;36m_make_engine\u001b[0;34m(self, engine)\u001b[0m\n\u001b[1;32m   1112\u001b[0m     \u001b[0;32mdef\u001b[0m \u001b[0m_make_engine\u001b[0m\u001b[0;34m(\u001b[0m\u001b[0mself\u001b[0m\u001b[0;34m,\u001b[0m \u001b[0mengine\u001b[0m\u001b[0;34m=\u001b[0m\u001b[0;34m\"c\"\u001b[0m\u001b[0;34m)\u001b[0m\u001b[0;34m:\u001b[0m\u001b[0;34m\u001b[0m\u001b[0;34m\u001b[0m\u001b[0m\n\u001b[1;32m   1113\u001b[0m         \u001b[0;32mif\u001b[0m \u001b[0mengine\u001b[0m \u001b[0;34m==\u001b[0m \u001b[0;34m\"c\"\u001b[0m\u001b[0;34m:\u001b[0m\u001b[0;34m\u001b[0m\u001b[0;34m\u001b[0m\u001b[0m\n\u001b[0;32m-> 1114\u001b[0;31m             \u001b[0mself\u001b[0m\u001b[0;34m.\u001b[0m\u001b[0m_engine\u001b[0m \u001b[0;34m=\u001b[0m \u001b[0mCParserWrapper\u001b[0m\u001b[0;34m(\u001b[0m\u001b[0mself\u001b[0m\u001b[0;34m.\u001b[0m\u001b[0mf\u001b[0m\u001b[0;34m,\u001b[0m \u001b[0;34m**\u001b[0m\u001b[0mself\u001b[0m\u001b[0;34m.\u001b[0m\u001b[0moptions\u001b[0m\u001b[0;34m)\u001b[0m\u001b[0;34m\u001b[0m\u001b[0;34m\u001b[0m\u001b[0m\n\u001b[0m\u001b[1;32m   1115\u001b[0m         \u001b[0;32melse\u001b[0m\u001b[0;34m:\u001b[0m\u001b[0;34m\u001b[0m\u001b[0;34m\u001b[0m\u001b[0m\n\u001b[1;32m   1116\u001b[0m             \u001b[0;32mif\u001b[0m \u001b[0mengine\u001b[0m \u001b[0;34m==\u001b[0m \u001b[0;34m\"python\"\u001b[0m\u001b[0;34m:\u001b[0m\u001b[0;34m\u001b[0m\u001b[0;34m\u001b[0m\u001b[0m\n",
      "\u001b[0;32m~/.local/lib/python3.7/site-packages/pandas/io/parsers.py\u001b[0m in \u001b[0;36m__init__\u001b[0;34m(self, src, **kwds)\u001b[0m\n\u001b[1;32m   1889\u001b[0m         \u001b[0mkwds\u001b[0m\u001b[0;34m[\u001b[0m\u001b[0;34m\"usecols\"\u001b[0m\u001b[0;34m]\u001b[0m \u001b[0;34m=\u001b[0m \u001b[0mself\u001b[0m\u001b[0;34m.\u001b[0m\u001b[0musecols\u001b[0m\u001b[0;34m\u001b[0m\u001b[0;34m\u001b[0m\u001b[0m\n\u001b[1;32m   1890\u001b[0m \u001b[0;34m\u001b[0m\u001b[0m\n\u001b[0;32m-> 1891\u001b[0;31m         \u001b[0mself\u001b[0m\u001b[0;34m.\u001b[0m\u001b[0m_reader\u001b[0m \u001b[0;34m=\u001b[0m \u001b[0mparsers\u001b[0m\u001b[0;34m.\u001b[0m\u001b[0mTextReader\u001b[0m\u001b[0;34m(\u001b[0m\u001b[0msrc\u001b[0m\u001b[0;34m,\u001b[0m \u001b[0;34m**\u001b[0m\u001b[0mkwds\u001b[0m\u001b[0;34m)\u001b[0m\u001b[0;34m\u001b[0m\u001b[0;34m\u001b[0m\u001b[0m\n\u001b[0m\u001b[1;32m   1892\u001b[0m         \u001b[0mself\u001b[0m\u001b[0;34m.\u001b[0m\u001b[0munnamed_cols\u001b[0m \u001b[0;34m=\u001b[0m \u001b[0mself\u001b[0m\u001b[0;34m.\u001b[0m\u001b[0m_reader\u001b[0m\u001b[0;34m.\u001b[0m\u001b[0munnamed_cols\u001b[0m\u001b[0;34m\u001b[0m\u001b[0;34m\u001b[0m\u001b[0m\n\u001b[1;32m   1893\u001b[0m \u001b[0;34m\u001b[0m\u001b[0m\n",
      "\u001b[0;32mpandas/_libs/parsers.pyx\u001b[0m in \u001b[0;36mpandas._libs.parsers.TextReader.__cinit__\u001b[0;34m()\u001b[0m\n",
      "\u001b[0;32mpandas/_libs/parsers.pyx\u001b[0m in \u001b[0;36mpandas._libs.parsers.TextReader._setup_parser_source\u001b[0;34m()\u001b[0m\n",
      "\u001b[0;31mFileNotFoundError\u001b[0m: [Errno 2] File data_files/ontario-cases-data.cache.csv does not exist: 'data_files/ontario-cases-data.cache.csv'"
     ]
    }
   ],
   "source": [
    "#hide\n",
    "import urllib, json, os, time\n",
    "import pandas as pd\n",
    "import plotly.graph_objects as go\n",
    "import plotly.express as px\n",
    "import dateutil.parser\n",
    "import re\n",
    "from IPython.display import HTML\n",
    "from datetime import datetime, timedelta, timezone\n",
    "\n",
    "url = 'https://data.ontario.ca/dataset/f4112442-bdc8-45d2-be3c-12efae72fb27/resource/455fd63b-603d-4608-8216-7d8647f43350/download/conposcovidloc.csv'  \n",
    "cachefilename = \"data_files/ontario-cases-data.cache.csv\"\n",
    "try:\n",
    "    origdf = pd.read_csv(url)\n",
    "    origdf.to_csv(cachefilename, index=False)\n",
    "    refreshtime = datetime.now()\n",
    "    cached=False\n",
    "except:\n",
    "    cached=True\n",
    "    origdf = pd.read_csv(cachefilename)\n",
    "\n",
    "df = origdf[(origdf[\"Accurate_Episode_Date\"] < \"2100\") & (origdf[\"Accurate_Episode_Date\"] > \"2020\")]\n",
    "df"
   ]
  },
  {
   "cell_type": "code",
   "execution_count": null,
   "metadata": {},
   "outputs": [],
   "source": [
    "#hide\n",
    "df \\\n",
    ".groupby([\"Accurate_Episode_Date\"]) \\\n",
    ".count()"
   ]
  },
  {
   "cell_type": "code",
   "execution_count": null,
   "metadata": {
    "execution": {
     "iopub.execute_input": "2020-04-28T12:16:10.920979Z",
     "iopub.status.busy": "2020-04-28T12:16:10.920227Z",
     "iopub.status.idle": "2020-04-28T12:16:10.924902Z",
     "shell.execute_reply": "2020-04-28T12:16:10.924363Z"
    },
    "papermill": {
     "duration": 0.01748,
     "end_time": "2020-04-28T12:16:10.925009",
     "exception": false,
     "start_time": "2020-04-28T12:16:10.907529",
     "status": "completed"
    },
    "tags": []
   },
   "outputs": [],
   "source": [
    "#hide\n",
    "\n",
    "mindate = dateutil.parser.parse(df[\"Accurate_Episode_Date\"].min()).date()\n",
    "maxdate = dateutil.parser.parse(df[\"Accurate_Episode_Date\"].max()).date()"
   ]
  },
  {
   "cell_type": "code",
   "execution_count": null,
   "metadata": {},
   "outputs": [],
   "source": [
    "#hide_input\n",
    "\n",
    "if cached:\n",
    "    errormsg = 'An error occurred retrieving data from <a href=\"https://data.ontario.ca/en/dataset/confirmed-positive-cases-of-covid-19-in-ontario/resource/455fd63b-603d-4608-8216-7d8647f43350\" title=\"Ontario data\">Confirmed positive cases of COVID19 in Ontario</a>. Cached data is used. '\n",
    "else:\n",
    "    errormsg = ''\n",
    "\n",
    "HTML(f\"{errormsg}The graphs are from either Ontario status of confirmed cases data, where the date used is the client's symptom onset date, or Ontario testing status data, where the date used is the reported date (rep. date). Data based on Symptom Onset Date is lagging and can be updated retroactively. Most of the graphs are interactive. You can toggle off figures by clicking on the item in the legend, or select an area on the graph to zoom in.\")"
   ]
  },
  {
   "cell_type": "code",
   "execution_count": null,
   "metadata": {},
   "outputs": [],
   "source": [
    "#hide\n",
    "activedf = df[df[\"Outcome1\"] == \"Not Resolved\"]\n",
    "\n",
    "activedatetimes = activedf.apply(lambda row: dateutil.parser.parse(row[\"Accurate_Episode_Date\"]), axis=1)\n",
    "\n",
    "activedf = activedf.assign(Datetime=activedatetimes.values)\n",
    "\n",
    "activedf"
   ]
  },
  {
   "cell_type": "code",
   "execution_count": null,
   "metadata": {},
   "outputs": [],
   "source": [
    "#hide\n",
    "agactivedf = activedf \\\n",
    ".groupby([\"Reporting_PHU\", \"Reporting_PHU_Latitude\", \"Reporting_PHU_Longitude\"]) \\\n",
    ".count()[\"Row_ID\"] \\\n",
    ".reset_index() \\\n",
    ".rename(columns={\"Row_ID\" : \"Cases\"})\n",
    "\n",
    "agactivedf[\"OnsetWithin\"] = \"Any date\"\n",
    "\n",
    "agactivedf"
   ]
  },
  {
   "cell_type": "code",
   "execution_count": null,
   "metadata": {},
   "outputs": [],
   "source": [
    "#hide\n",
    "now = datetime.now()\n",
    "agactivelast14df = activedf[activedf[\"Datetime\"] >= now - timedelta(days=14)] \\\n",
    ".groupby([\"Reporting_PHU\", \"Reporting_PHU_Latitude\", \"Reporting_PHU_Longitude\"]) \\\n",
    ".count()[\"Row_ID\"] \\\n",
    ".reset_index() \\\n",
    ".rename(columns={\"Row_ID\" : \"Cases\"})\n",
    "\n",
    "agactivelast14df[\"OnsetWithin\"] = \"14 days\"\n",
    "\n",
    "agactivelast14df"
   ]
  },
  {
   "cell_type": "code",
   "execution_count": null,
   "metadata": {},
   "outputs": [],
   "source": [
    "#hide\n",
    "agactivelast7df = activedf[activedf[\"Datetime\"] >= now - timedelta(days=7)] \\\n",
    ".groupby([\"Reporting_PHU\", \"Reporting_PHU_Latitude\", \"Reporting_PHU_Longitude\"]) \\\n",
    ".count()[\"Row_ID\"] \\\n",
    ".reset_index() \\\n",
    ".rename(columns={\"Row_ID\" : \"Cases\"})\n",
    "\n",
    "agactivelast7df[\"OnsetWithin\"] = \"7 days\"\n",
    "\n",
    "agactivelast7df"
   ]
  },
  {
   "cell_type": "code",
   "execution_count": null,
   "metadata": {},
   "outputs": [],
   "source": [
    "#hide\n",
    "agactivelast3df = activedf[activedf[\"Datetime\"] >= now - timedelta(days=3)] \\\n",
    ".groupby([\"Reporting_PHU\", \"Reporting_PHU_Latitude\", \"Reporting_PHU_Longitude\"]) \\\n",
    ".count()[\"Row_ID\"] \\\n",
    ".reset_index() \\\n",
    ".rename(columns={\"Row_ID\" : \"Cases\"})\n",
    "\n",
    "agactivelast3df[\"OnsetWithin\"] = \"3 days\"\n",
    "\n",
    "agactivelast3df"
   ]
  },
  {
   "cell_type": "code",
   "execution_count": null,
   "metadata": {},
   "outputs": [],
   "source": [
    "#hide\n",
    "appendagactivedf = agactivedf.append(agactivelast14df).append(agactivelast7df).append(agactivelast3df)\n",
    "appendagactivedf"
   ]
  },
  {
   "cell_type": "markdown",
   "metadata": {},
   "source": [
    "## Hotspots"
   ]
  },
  {
   "cell_type": "code",
   "execution_count": null,
   "metadata": {},
   "outputs": [],
   "source": [
    "#hide_input\n",
    "activemap = px.scatter_mapbox(appendagactivedf, lat=\"Reporting_PHU_Latitude\", lon=\"Reporting_PHU_Longitude\",  \n",
    "            color=\"OnsetWithin\", \n",
    "            color_discrete_sequence=[\"maroon\", \"darkorange\", \"yellow\", \"white\"], \n",
    "            size=\"Cases\", hover_name=\"Reporting_PHU\", \n",
    "            size_max=28, zoom=5.4, \n",
    "            center=dict(lat=45,lon=-79.4), \n",
    "            height=800, \n",
    "            labels={\"OnsetWithin\" : \"Onset w/in last\"}, \n",
    "            title=\"Currently Active (Not Resolved) Confirmed Cases per Public Health Unit\" )\n",
    "activemap.update_layout(mapbox_style=\"open-street-map\")\n",
    "if not cached:\n",
    "    activemap.show()"
   ]
  },
  {
   "cell_type": "code",
   "execution_count": null,
   "metadata": {
    "execution": {
     "iopub.execute_input": "2020-04-28T12:16:10.992162Z",
     "iopub.status.busy": "2020-04-28T12:16:10.976180Z",
     "iopub.status.idle": "2020-04-28T12:16:20.148963Z",
     "shell.execute_reply": "2020-04-28T12:16:20.149711Z"
    },
    "papermill": {
     "duration": 9.190568,
     "end_time": "2020-04-28T12:16:20.149855",
     "exception": false,
     "start_time": "2020-04-28T12:16:10.959287",
     "status": "completed"
    },
    "tags": []
   },
   "outputs": [],
   "source": [
    "#hide\n",
    "import re\n",
    "\n",
    "traveldf = df[df[\"Case_AcquisitionInfo\"] == \"Travel\"] \\\n",
    ".groupby([\"Accurate_Episode_Date\", \"Reporting_PHU\", \"Reporting_PHU_Latitude\", \"Reporting_PHU_Longitude\"]) \\\n",
    ".count()[\"Row_ID\"] \\\n",
    ".reset_index() \\\n",
    ".rename(columns={\"Row_ID\" : \"Travelled_Count\"}) \n",
    "\n",
    "pendingdf = df[(df[\"Case_AcquisitionInfo\"] == \"No Info-Missing\") | (df[\"Case_AcquisitionInfo\"] == \"No Info-Unk\")] \\\n",
    ".groupby([\"Accurate_Episode_Date\", \"Reporting_PHU\", \"Reporting_PHU_Latitude\", \"Reporting_PHU_Longitude\"]) \\\n",
    ".count()[\"Row_ID\"] \\\n",
    ".reset_index() \\\n",
    ".rename(columns={\"Row_ID\" : \"Pending_Count\"}) \n",
    "\n",
    "countdf = df \\\n",
    ".groupby([\"Accurate_Episode_Date\", \"Reporting_PHU\", \"Reporting_PHU_Latitude\", \"Reporting_PHU_Longitude\"]) \\\n",
    ".count()[\"Row_ID\"] \\\n",
    ".reset_index() \\\n",
    ".rename(columns={\"Row_ID\" : \"Count\"}) \n",
    "countdf\n",
    "\n",
    "joindf = pd.merge(countdf, traveldf, how=\"left\", \\\n",
    "left_on=[\"Accurate_Episode_Date\", \"Reporting_PHU\", \"Reporting_PHU_Latitude\", \"Reporting_PHU_Longitude\"], \\\n",
    "right_on=[\"Accurate_Episode_Date\", \"Reporting_PHU\", \"Reporting_PHU_Latitude\", \"Reporting_PHU_Longitude\"]) \\\n",
    ".fillna(0)\n",
    "\n",
    "joindf = pd.merge(joindf, pendingdf, how=\"left\", \\\n",
    "left_on=[\"Accurate_Episode_Date\", \"Reporting_PHU\", \"Reporting_PHU_Latitude\", \"Reporting_PHU_Longitude\"], \\\n",
    "right_on=[\"Accurate_Episode_Date\", \"Reporting_PHU\", \"Reporting_PHU_Latitude\", \"Reporting_PHU_Longitude\"]) \\\n",
    ".fillna(0)\n",
    "                  \n",
    "joindf[\"Datetime\"] = joindf.apply(lambda row: dateutil.parser.parse(row[\"Accurate_Episode_Date\"]), axis=1)\n",
    "\n",
    "phudf = countdf.groupby(by=[\"Reporting_PHU\",\"Reporting_PHU_Latitude\",\"Reporting_PHU_Longitude\"], as_index=False) \\\n",
    "    .first()[[\"Reporting_PHU\",\"Reporting_PHU_Latitude\",\"Reporting_PHU_Longitude\"]]\n",
    "phudf[\"key\"] = 0\n",
    "\n",
    "dates = pd.date_range(mindate, maxdate).tolist()\n",
    "datetimedf = pd.DataFrame(dates, columns=[\"Datetime\"])\n",
    "datetimedf[\"key\"] = 0\n",
    "\n",
    "cartesianproddf = pd.merge(datetimedf, phudf, on=\"key\")\n",
    "cartesianproddf = cartesianproddf.drop(columns=['key'])\n",
    "\n",
    "joindf = pd.merge(cartesianproddf, joindf, how=\"left\",\n",
    "left_on=[\"Datetime\", \"Reporting_PHU\", \"Reporting_PHU_Latitude\", \"Reporting_PHU_Longitude\"], \\\n",
    "right_on=[\"Datetime\", \"Reporting_PHU\", \"Reporting_PHU_Latitude\", \"Reporting_PHU_Longitude\"]) \\\n",
    ".fillna(0)\n",
    "\n",
    "joindf[\"Date\"] = joindf.apply(lambda row: str(row[\"Datetime\"].date()), axis=1)\n",
    "\n",
    "aggdf = joindf[[\"Date\", \"Reporting_PHU\", \"Reporting_PHU_Latitude\", \"Reporting_PHU_Longitude\", \\\n",
    "                \"Count\", \"Travelled_Count\", \"Pending_Count\"]].sort_values(by=[\"Date\",\"Reporting_PHU\"]).reset_index(drop=True)\n",
    "\n",
    "cumsumdf = joindf \\\n",
    ".groupby([\"Date\", \"Reporting_PHU\", \"Reporting_PHU_Latitude\", \"Reporting_PHU_Longitude\"]).sum() \\\n",
    ".groupby(level=1).cumsum() \\\n",
    ".reset_index() \\\n",
    ".rename(columns={\"Count\" : \"Total\", \"Travelled_Count\" : \"Total Travelled\", \\\n",
    "                 \"Pending_Count\" : \"Total Information Pending\"}) \n",
    "\n",
    "aggdf = pd.merge(aggdf, cumsumdf, how=\"left\", \\\n",
    "left_on=[\"Date\", \"Reporting_PHU\", \"Reporting_PHU_Latitude\", \"Reporting_PHU_Longitude\"], \\\n",
    "right_on=[\"Date\", \"Reporting_PHU\", \"Reporting_PHU_Latitude\", \"Reporting_PHU_Longitude\"]) \n",
    "\n",
    "incdf = aggdf \\\n",
    ".groupby([\"Date\", \"Reporting_PHU\", \"Reporting_PHU_Latitude\", \"Reporting_PHU_Longitude\"]).sum() \\\n",
    ".groupby(level=1).pct_change().mul(100) \\\n",
    ".reset_index() \\\n",
    ".rename(columns={\"Total\" : \"Percent Increase\"}) \\\n",
    "[[\"Date\", \"Reporting_PHU\", \"Reporting_PHU_Latitude\", \"Reporting_PHU_Longitude\", \"Percent Increase\"]]\n",
    "\n",
    "aggdf = pd.merge(aggdf, incdf, how=\"left\", \\\n",
    "left_on=[\"Date\", \"Reporting_PHU\", \"Reporting_PHU_Latitude\", \"Reporting_PHU_Longitude\"], \\\n",
    "right_on=[\"Date\", \"Reporting_PHU\", \"Reporting_PHU_Latitude\", \"Reporting_PHU_Longitude\"]) \n",
    "\n",
    "def cumulativeNotTravelled(total, totalTravelled, totalPending):\n",
    "    return total - totalTravelled - totalPending\n",
    "\n",
    "def cumulativePercentTravelled(total, totalTravelled, totalPending):\n",
    "    denominator = total - totalPending\n",
    "    if denominator != 0:\n",
    "        return 100 * totalTravelled / denominator\n",
    "    else:\n",
    "        return 0\n",
    "\n",
    "def getRegion(phu_name):\n",
    "    region = re.sub(\"(, )?(((&|and) )?District|Health|Public).+$\", \"\", phu_name).replace(\" and \", \" & \")\n",
    "    if region.startswith(\"Hastings & Prince Edward Counties\"):\n",
    "        return \"Hastings & P.E. Counties\"\n",
    "    elif region.startswith(\"North Bay Parry Sound District\"):\n",
    "        return \"North Bay Parry Sound\"\n",
    "    elif region.startswith(\"Kingston, Frontenac\"):\n",
    "        return \"Kingston, Front./Len., Add.\"\n",
    "    elif region.startswith(\"Haliburton, Kawartha\"):\n",
    "        return \"Haliburton, Kawar., Pine R.\"\n",
    "    else:    \n",
    "        return region\n",
    "    \n",
    "def getArea(phu_name):\n",
    "    if phu_name == \"Toronto Public Health\" or phu_name == \"York Region Public Health Services\" \\\n",
    "        or phu_name == \"Peel Public Health\" or phu_name == \"Durham Region Health Department\" \\\n",
    "        or phu_name == \"Halton Region Health Department\" :\n",
    "            return \"GTA\"\n",
    "    elif phu_name == \"Ottawa Public Health\":\n",
    "        return \"Ottawa\"\n",
    "    elif phu_name == \"Windsor-Essex County Health Unit\":\n",
    "        return \"Windsor-Essex\"\n",
    "    else:\n",
    "        return \"Other\"\n",
    "\n",
    "aggdf[\"Total Not Travelled\"] = aggdf.apply(lambda row: cumulativeNotTravelled(row[\"Total\"], row[\"Total Travelled\"], row[\"Total Information Pending\"]), axis=1) \n",
    "aggdf[\"Confirmed Percent Travelled\"] = aggdf.apply(lambda row: cumulativePercentTravelled(row[\"Total\"], row[\"Total Travelled\"], row[\"Total Information Pending\"]), axis=1)\n",
    "aggdf[\"Region\"] = aggdf.apply(lambda row: getRegion(row[\"Reporting_PHU\"]), axis=1)\n",
    "aggdf[\"Area\"] = aggdf.apply(lambda row: getArea(row[\"Reporting_PHU\"]), axis=1)\n",
    "aggdf"
   ]
  },
  {
   "cell_type": "code",
   "execution_count": null,
   "metadata": {},
   "outputs": [],
   "source": [
    "#hide\n",
    "def getAgeNumber(ageGroup):\n",
    "    if ageGroup == \"UNKNOWN\":\n",
    "        return -1\n",
    "    elif ageGroup == \"<20\":\n",
    "        return 0\n",
    "    elif re.compile(\"^[0-9]+\").match(ageGroup):\n",
    "        return int(ageGroup[:-1])\n",
    "    else:\n",
    "        return -2"
   ]
  },
  {
   "cell_type": "code",
   "execution_count": null,
   "metadata": {
    "execution": {
     "iopub.execute_input": "2020-04-28T12:16:20.195096Z",
     "iopub.status.busy": "2020-04-28T12:16:20.173658Z",
     "iopub.status.idle": "2020-04-28T12:16:20.197702Z",
     "shell.execute_reply": "2020-04-28T12:16:20.198241Z"
    },
    "papermill": {
     "duration": 0.038298,
     "end_time": "2020-04-28T12:16:20.198381",
     "exception": false,
     "start_time": "2020-04-28T12:16:20.160083",
     "status": "completed"
    },
    "tags": []
   },
   "outputs": [],
   "source": [
    "#hide\n",
    "latestdf = aggdf[aggdf[\"Date\"] == str(maxdate)].sort_values(by=[\"Count\"])\n",
    "latestdf"
   ]
  },
  {
   "cell_type": "code",
   "execution_count": null,
   "metadata": {},
   "outputs": [],
   "source": [
    "#hide\n",
    "import datetime as dt\n",
    "last7days = maxdate - dt.timedelta(days=7)\n",
    "last7df = aggdf[aggdf[\"Date\"] == str(last7days)].rename(columns={\"Total\" : \"TotalLast7\"}) \n",
    "\n",
    "def getTotalChangePercent(totalChange, totalLast7):\n",
    "    if totalLast7 == 0:\n",
    "        return 100\n",
    "    else:\n",
    "        return totalChange / totalLast7 * 100\n",
    "\n",
    "last7deltadf = pd.merge(latestdf.rename(columns={\"Total\" : \"TotalLatest\"}) , last7df, how=\"left\", \\\n",
    "left_on=[\"Region\", \"Reporting_PHU\", \"Reporting_PHU_Latitude\", \"Reporting_PHU_Longitude\"], \\\n",
    "right_on=[\"Region\", \"Reporting_PHU\", \"Reporting_PHU_Latitude\", \"Reporting_PHU_Longitude\"]) \\\n",
    "[[\"Region\", \"Reporting_PHU\", \"Reporting_PHU_Latitude\", \"Reporting_PHU_Longitude\", \"TotalLatest\", \"TotalLast7\"]]\n",
    "last7deltadf[\"TotalChange\"] = last7deltadf.apply(lambda row: row[\"TotalLatest\"] - row[\"TotalLast7\"], axis=1)\n",
    "last7deltadf[\"TotalChangePercent\"] = last7deltadf.apply(lambda row: getTotalChangePercent(row[\"TotalChange\"], row[\"TotalLast7\"]), axis=1)\n",
    "last7deltadf = last7deltadf.sort_values(by=[\"TotalChange\", \"TotalChangePercent\"], ascending=[True,True]).reset_index()\n",
    "last7deltadf"
   ]
  },
  {
   "cell_type": "code",
   "execution_count": null,
   "metadata": {},
   "outputs": [],
   "source": [
    "#hide_input\n",
    "px.bar(last7deltadf, y='Region', x='TotalChange',\n",
    "             hover_name=\"Reporting_PHU\", color='TotalChangePercent',\n",
    "             labels={\"Reporting_PHU\":\"Public Health Unit\", \"TotalChangePercent\":\"% increase\", \"TotalChange\":\"Increase in cases\", \"Region\" : \"Public Health Unit\"},\n",
    "             orientation=\"h\", height=800,\n",
    "             title=\"Increase in cases for week of \" + str(last7days) + \" to \" + str(maxdate)\n",
    "    )"
   ]
  },
  {
   "cell_type": "markdown",
   "metadata": {},
   "source": [
    "## Ontario-wide\n",
    "\n",
    "### Cases"
   ]
  },
  {
   "cell_type": "code",
   "execution_count": null,
   "metadata": {},
   "outputs": [],
   "source": [
    "#hide\n",
    "outcomestartdate = \"2020-02-15\"\n",
    "\n",
    "outcomedf = df[df[\"Accurate_Episode_Date\"] >= outcomestartdate + \"T00:00:00\"] \\\n",
    ".groupby([\"Accurate_Episode_Date\", \"Outcome1\"]).count() \\\n",
    "[\"Row_ID\"].reset_index().rename(columns={\"Row_ID\" : \"Cases\"})\n",
    "\n",
    "outcomedf[\"Outcome\"] = pd.Categorical(outcomedf[\"Outcome1\"], [\"Fatal\", \"Resolved\", \"Not Resolved\"])\n",
    "\n",
    "outcomedf = outcomedf.sort_values(by=\"Outcome\")\n",
    "\n",
    "outcomedf"
   ]
  },
  {
   "cell_type": "code",
   "execution_count": null,
   "metadata": {},
   "outputs": [],
   "source": [
    "#hide\n",
    "teststatusurl = \"https://data.ontario.ca/dataset/f4f86e54-872d-43f8-8a86-3892fd3cb5e6/resource/ed270bb8-340b-41f9-a7c6-e8ef587e6d11/download/covidtesting.csv\"\n",
    "teststatuscache = \"data_files/ontario-teststatus-data.cache.csv\"\n",
    "try:\n",
    "    teststatusdf = pd.read_csv(teststatusurl)\n",
    "    teststatusdf.to_csv(teststatuscache, index=False)\n",
    "except:\n",
    "    teststatusdf = pd.read_csv(teststatuscache)\n",
    "teststatusdf"
   ]
  },
  {
   "cell_type": "code",
   "execution_count": null,
   "metadata": {},
   "outputs": [],
   "source": [
    "#hide\n",
    "testconfirmeddf = teststatusdf.copy() \\\n",
    "[[\"Reported Date\", \"Total Cases\", \"Deaths\", \"Total tests completed in the last day\", \"Total Positive LTC Resident Cases\", \"Total Positive LTC HCW Cases\"]]\n",
    "\n",
    "testconfirmeddf[\"ReportedDate\"] = testconfirmeddf.apply(lambda r: dateutil.parser.parse(r[\"Reported Date\"]), axis=1)\n",
    "testconfirmeddf[\"New Cases\"] = testconfirmeddf[\"Total Cases\"].fillna(0).diff()\n",
    "testconfirmeddf[\"New Deaths\"] = testconfirmeddf[\"Deaths\"].fillna(0).diff()\n",
    "testconfirmeddf[\"New LTC Resident Cases\"] = testconfirmeddf[\"Total Positive LTC Resident Cases\"].diff()\n",
    "testconfirmeddf[\"New LTC HCW Cases\"] = testconfirmeddf[\"Total Positive LTC HCW Cases\"].diff()\n",
    "testconfirmeddf[\"Total Tests\"] = testconfirmeddf[\"Total tests completed in the last day\"].cumsum()\n",
    "\n",
    "diffDays = 5\n",
    "\n",
    "testconfirmeddf[\"Cases Inc 5d\"] = testconfirmeddf[\"Total Cases\"].fillna(0).diff(periods=diffDays)\n",
    "testconfirmeddf[\"Tests Inc 5d\"] = testconfirmeddf[\"Total Tests\"].fillna(0).diff(periods=diffDays)\n",
    "testconfirmeddf[\"New Cases Mean 5d\"] = testconfirmeddf[\"New Cases\"].rolling(diffDays).mean()\n",
    "testconfirmeddf[\"New Tests Mean 5d\"] = testconfirmeddf[\"Total tests completed in the last day\"].rolling(diffDays).mean()\n",
    "testconfirmeddf[\"New Deaths Mean 5d\"] = testconfirmeddf[\"New Deaths\"].rolling(diffDays).mean()\n",
    "\n",
    "def getPercentPositive(numPos, numTests):\n",
    "    if numTests == 0:\n",
    "        return 0\n",
    "    else:\n",
    "        return numPos/numTests * 100\n",
    "\n",
    "testconfirmeddf[\"Daily Percent Tested Positive\"] = testconfirmeddf.apply(lambda r: getPercentPositive(r[\"New Cases\"], r[\"Total tests completed in the last day\"]), axis=1)\n",
    "testconfirmeddf[\"Total Percent Tested Positive\"] = testconfirmeddf.apply(lambda r: getPercentPositive(r[\"Total Cases\"], r[\"Total Tests\"]), axis=1)\n",
    "testconfirmeddf[\"5d Avg Percent Tested Positive\"] = testconfirmeddf.apply(lambda r: getPercentPositive(r[\"Cases Inc 5d\"], r[\"Tests Inc 5d\"]), axis=1)\n",
    "testconfirmeddf[\"Diff 5d avg and avg of avgs\"] = testconfirmeddf.apply(lambda r: r[\"5d Avg Percent Tested Positive\"] - getPercentPositive(r[\"New Cases Mean 5d\"], r[\"New Tests Mean 5d\"]), axis=1)\n",
    "\n",
    "testconfirmeddf"
   ]
  },
  {
   "cell_type": "code",
   "execution_count": null,
   "metadata": {},
   "outputs": [],
   "source": [
    "#hide\n",
    "testconfirmeddf[testconfirmeddf[\"Diff 5d avg and avg of avgs\"] != 0] \\\n",
    "[[\"Reported Date\", \"Cases Inc 5d\", \"Tests Inc 5d\", \"New Cases Mean 5d\", \"New Tests Mean 5d\", \"5d Avg Percent Tested Positive\", \"Diff 5d avg and avg of avgs\"]]"
   ]
  },
  {
   "cell_type": "code",
   "execution_count": null,
   "metadata": {},
   "outputs": [],
   "source": [
    "#hide\n",
    "casesdf = df[df[\"Accurate_Episode_Date\"] >= outcomestartdate] \\\n",
    ".groupby([\"Accurate_Episode_Date\"]).count() \\\n",
    "[\"Row_ID\"].reset_index().rename(columns={\"Row_ID\" : \"Count\"})\n",
    "\n",
    "casesdf[\"Count 5d Mean right\"] = casesdf[\"Count\"].rolling(diffDays).mean()\n",
    "casesdf[\"Count 5d Mean\"] = casesdf[\"Count\"].rolling(diffDays, center=True).mean()\n",
    "casesdf[\"Count 5d Mean - 1d\"] = casesdf.shift(periods=-1)[\"Count 5d Mean\"]\n",
    "casesdf[\"Count 5d Mean - 5d\"] = casesdf.shift(periods=-5)[\"Count 5d Mean\"]\n",
    "casesdf[\"Count 5d Mean - 14d\"] = casesdf.shift(periods=-14)[\"Count 5d Mean\"]\n",
    "\n",
    "casesdf"
   ]
  },
  {
   "cell_type": "code",
   "execution_count": null,
   "metadata": {
    "scrolled": true
   },
   "outputs": [],
   "source": [
    "#hide_input\n",
    "totalbar = px.bar(outcomedf, y=\"Cases\", x=\"Accurate_Episode_Date\",\n",
    "             hover_data=[\"Outcome1\"], \n",
    "             color=\"Outcome1\", color_discrete_sequence=[\"#ff6666\", \"#b0e8b0\", \"#ffd11a\"],\n",
    "             labels={\"Accurate_Episode_Date\" : \"Symptom Onset Date\", \"Outcome1\" : \"By onset date\"},\n",
    "             title=\"Ontario Confirmed Cases by Symptom Onset Date<br>by Outcome from \" + outcomestartdate + \" to \" + str(maxdate)\n",
    "    )\n",
    "totalbar.add_trace(go.Scatter(x=casesdf[\"Accurate_Episode_Date\"], y=casesdf[\"Count 5d Mean right\"], mode=\"lines\",\n",
    "                             name=\"5d avg\", \n",
    "                              line=dict(color=\"black\", dash=\"solid\")))\n",
    "totalbar.add_trace(go.Scatter(x=testconfirmeddf[\"Reported Date\"], y=testconfirmeddf[\"New Cases Mean 5d\"], mode=\"lines\",\n",
    "                             name=\"By rep dt avg\", \n",
    "                              line=dict(color=\"silver\", dash=\"dot\")))"
   ]
  },
  {
   "cell_type": "code",
   "execution_count": null,
   "metadata": {},
   "outputs": [],
   "source": [
    "#hide\n",
    "\n",
    "def getAcquisition(info):\n",
    "    if info == \"CC\":\n",
    "        return \"Confirmed case\"\n",
    "    elif info == \"No Epi-link\":\n",
    "        return \"Comm. spread\"\n",
    "    elif info == \"OB\":\n",
    "        return \"Inst. outbreak\"\n",
    "    elif info == \"No Info-Missing\":\n",
    "        return \"Missing info\"\n",
    "    elif info == \"No Info-Unk\" :\n",
    "        return \"Unknown\"\n",
    "    else:\n",
    "        return info\n",
    "\n",
    "acqOrder = [\"Travel\", \"Confirmed case\", \"Comm. spread\", \"Inst. outbreak\", \"Unknown\", \"Missing info\"]\n",
    "acqColours = [\"mediumblue\", \"#ff6666\", \"red\", \"#990000\", \"grey\", \"silver\"]\n",
    "\n",
    "onacqdf = origdf[origdf[\"Accurate_Episode_Date\"] >= outcomestartdate] \\\n",
    ".groupby([\"Accurate_Episode_Date\", \"Case_AcquisitionInfo\"]).count()[\"Row_ID\"] \\\n",
    ".reset_index() \\\n",
    ".rename(columns={\"Row_ID\" : \"Count\"}) \n",
    "\n",
    "\n",
    "onacqdf[\"Acquisition\"] = onacqdf.apply(lambda r: getAcquisition(r[\"Case_AcquisitionInfo\"]), axis=1)\n",
    "onacqdf[\"Acquisition\"] = pd.Categorical(onacqdf[\"Acquisition\"], acqOrder)\n",
    "onacqdf = onacqdf.sort_values(by=\"Acquisition\")\n",
    "onacqdf"
   ]
  },
  {
   "cell_type": "code",
   "execution_count": null,
   "metadata": {},
   "outputs": [],
   "source": [
    "#hide_input\n",
    "\n",
    "onacqbar = px.bar(onacqdf, y=\"Count\", x=\"Accurate_Episode_Date\",\n",
    "             #hover_data=[\"Outcome1\"], \n",
    "             color=\"Acquisition\", color_discrete_sequence=acqColours,\n",
    "             labels={\"Accurate_Episode_Date\" : \"Symptom Onset Date\", \"Outcome1\" : \"By onset date\"},\n",
    "             title=\"Ontario Confirmed Cases by Symptom Onset Date<br>by Acquisition from \" + outcomestartdate + \" to \" + str(maxdate)\n",
    "    )\n",
    "onacqbar.add_trace(go.Scatter(x=casesdf[\"Accurate_Episode_Date\"], y=casesdf[\"Count 5d Mean right\"], mode=\"lines\",\n",
    "                             name=\"5d avg\", \n",
    "                              line=dict(color=\"black\", dash=\"solid\")))\n",
    "onacqbar.add_trace(go.Scatter(x=testconfirmeddf[\"Reported Date\"], y=testconfirmeddf[\"New Cases Mean 5d\"], mode=\"lines\",\n",
    "                             name=\"By rep dt avg\", \n",
    "                              line=dict(color=\"darkgrey\", dash=\"dot\")))"
   ]
  },
  {
   "cell_type": "code",
   "execution_count": null,
   "metadata": {},
   "outputs": [],
   "source": [
    "#hide\n",
    "def getInfectionSource(info):\n",
    "    if info.startswith(\"No Info\"):\n",
    "        return \"No info\"\n",
    "    elif info == \"CC\" or info == \"No Epi-link\":\n",
    "        return \"Other\"\n",
    "    elif info == \"OB\":\n",
    "        return \"Inst. outbreak\"\n",
    "    else:\n",
    "        return info\n",
    "\n",
    "onacqdf[\"Infection Source\"] = onacqdf.apply(lambda r: getInfectionSource(r[\"Case_AcquisitionInfo\"]), axis=1)\n",
    "\n",
    "onacqlinedf = onacqdf.groupby([\"Accurate_Episode_Date\", \"Infection Source\"]).sum() \\\n",
    ".reset_index()\n",
    "onacqlinedf"
   ]
  },
  {
   "cell_type": "code",
   "execution_count": null,
   "metadata": {},
   "outputs": [],
   "source": [
    "#hide_input\n",
    "\n",
    "rollingbardf = testconfirmeddf[testconfirmeddf[\"ReportedDate\"] >= \"2020-03-01\"]\n",
    "\n",
    "rollingbar = px.bar(rollingbardf, \n",
    "       x=\"ReportedDate\", y=\"New Cases\", \n",
    "       color=\"5d Avg Percent Tested Positive\", range_color=[0,8],\n",
    "       color_continuous_scale=px.colors.sequential.Inferno,\n",
    "       hover_data=[\"New Cases\", \"Total tests completed in the last day\"],\n",
    "       labels={\"5d Avg Percent Tested Positive\" : \"% pos. 5d avg\", \"New Cases\" : \"Cases\", \"ReportedDate\" : \"Reported Date\"},\n",
    "       title=\"Ontario Confirmed Cases by Reported Date<br>by Percent Tests per Day with Positive Result (5-Day Rolling Average)\",\n",
    "      )\n",
    "rollingbar.update_layout(bargap=0)\n",
    "rollingbar.add_trace(go.Scatter(x=rollingbardf[\"ReportedDate\"], y=rollingbardf[\"New Cases Mean 5d\"], mode=\"lines\",\n",
    "                             name=\"Cases 5d Avg\", showlegend=False,\n",
    "                              line=dict(color=\"darkgrey\", dash=\"solid\")))"
   ]
  },
  {
   "cell_type": "code",
   "execution_count": null,
   "metadata": {},
   "outputs": [],
   "source": [
    "#hide_input\n",
    "HTML('For the graph above, data for \"Total tests completed in the last day\" is not available before 15 Apr 2020.')"
   ]
  },
  {
   "cell_type": "code",
   "execution_count": null,
   "metadata": {},
   "outputs": [],
   "source": [
    "#hide_input\n",
    "\n",
    "testeddf = testconfirmeddf[(testconfirmeddf[\"Total tests completed in the last day\"].notnull()) & (testconfirmeddf[\"Total tests completed in the last day\"] != 0)]\n",
    "\n",
    "testsbar = px.bar(testeddf, \n",
    "       x=\"ReportedDate\", y=\"Total tests completed in the last day\", \n",
    "       color=\"5d Avg Percent Tested Positive\", range_color=[0,8],\n",
    "       color_continuous_scale=px.colors.sequential.Inferno,\n",
    "       hover_data=[\"New Cases\", \"Total tests completed in the last day\"],\n",
    "       labels={\"5d Avg Percent Tested Positive\" : \"% pos. 5d avg\", \"New Cases\" : \"Cases\", \"ReportedDate\" : \"Reported Date\"},\n",
    "       title=\"Ontario Tests Completed in the Last Day by Reported Date<br>by Percent Tests per Day with Positive Result (5-Day Rolling Average)\",\n",
    "      )\n",
    "\n",
    "testsbar.update_layout(bargap=0, annotations=[\n",
    "        dict(\n",
    "            x=\"2020-04-24\",\n",
    "            y=12295,\n",
    "            xref=\"x\",\n",
    "            yref=\"y\",\n",
    "            text=\"Apr 24 peak<br>in reported<br>confirmed cases\",\n",
    "            showarrow=True,\n",
    "            arrowhead=1,\n",
    "            ax=0,\n",
    "            ay=-80\n",
    "        ),\n",
    "        dict(\n",
    "            x=\"2020-05-24\",\n",
    "            y=11383,\n",
    "            xref=\"x\",\n",
    "            yref=\"y\",\n",
    "            text=\"May 24<br>peak in<br>reported<br>confirmed<br>cases\",\n",
    "            showarrow=True,\n",
    "            arrowhead=1,\n",
    "            ax=0,\n",
    "            ay=-100\n",
    "        ),\n",
    "        dict(\n",
    "            x=\"2020-06-06\",\n",
    "            y=11383,\n",
    "            xref=\"x\",\n",
    "            yref=\"y\",\n",
    "            text=\"Jun 6<br>peak in<br>reported<br>confirmed<br>cases\",\n",
    "            showarrow=True,\n",
    "            arrowhead=1,\n",
    "            ax=0,\n",
    "            ay=-180\n",
    "        )\n",
    "    ]\n",
    "                      )\n",
    "testsbar.add_trace(go.Scatter(x=testeddf[\"ReportedDate\"], y=testeddf[\"New Tests Mean 5d\"], mode=\"lines\",\n",
    "                             name=\"Tests 5d Avg\", showlegend=False,\n",
    "                              line=dict(color=\"deepskyblue\", dash=\"solid\")))"
   ]
  },
  {
   "cell_type": "code",
   "execution_count": null,
   "metadata": {},
   "outputs": [],
   "source": [
    "#hide_input\n",
    "import math\n",
    "\n",
    "posline = px.line(testeddf, \n",
    "       x=\"ReportedDate\", y=\"5d Avg Percent Tested Positive\", log_y=True,\n",
    "       hover_data=[\"New Cases\", \"Total tests completed in the last day\"],\n",
    "       labels={\"5d Avg Percent Tested Positive\" : \"Percent Tests Positive (5d avg)\", \"ReportedDate\" : \"Reported Date\"},\n",
    "       title=\"Percentage of Ontario Tests per Day with SARS-CoV-2 Positive Result<br>(5-Day Rolling Average) by Reported Date\",\n",
    "        color_discrete_sequence=[\"red\"]\n",
    "      )\n",
    "posline.update_layout(annotations=[\n",
    "        dict(\n",
    "            x=\"2020-04-24\",\n",
    "            y=math.log(5.773, 10),\n",
    "            xref=\"x\",\n",
    "            yref=\"y\",\n",
    "            text=\"Apr 24 peak <br>in reported<br>confirmed cases\",\n",
    "            showarrow=True,\n",
    "            arrowhead=7,\n",
    "            ax=0,\n",
    "            ay=-60\n",
    "        ),\n",
    "        dict(\n",
    "            x=\"2020-05-24\",\n",
    "            y=math.log(4.103, 10),\n",
    "            xref=\"x\",\n",
    "            yref=\"y\",\n",
    "            text=\"May 24 peak<br>in reported<br>confirmed cases\",\n",
    "            showarrow=True,\n",
    "            arrowhead=7,\n",
    "            ax=0,\n",
    "            ay=-60\n",
    "        ),\n",
    "        dict(\n",
    "            x=\"2020-06-06\",\n",
    "            y=math.log(testeddf[testeddf[\"ReportedDate\"] == \"2020-06-06\"][\"5d Avg Percent Tested Positive\"], 10),\n",
    "            xref=\"x\",\n",
    "            yref=\"y\",\n",
    "            text=\"Jun 6<br>peak in<br>reported<br>confirmed<br>cases\",\n",
    "            showarrow=True,\n",
    "            arrowhead=1,\n",
    "            ax=0,\n",
    "            ay=-100\n",
    "        )\n",
    "    ]\n",
    ")"
   ]
  },
  {
   "cell_type": "code",
   "execution_count": null,
   "metadata": {},
   "outputs": [],
   "source": [
    "#hide\n",
    "ageactivedf = activedf[activedf[\"Age_Group\"] != \"Unknown\"]\n",
    "\n",
    "aggageactivedf = ageactivedf \\\n",
    ".groupby([\"Accurate_Episode_Date\", \"Age_Group\"]) \\\n",
    ".count()[\"Row_ID\"] \\\n",
    ".reset_index() \\\n",
    ".rename(columns={\"Row_ID\" : \"Cases\"})\n",
    "\n",
    "aggageactivedf[\"OnsetWithin\"] = \"Any date\"\n",
    "\n",
    "aggageactivelast14df = ageactivedf[ageactivedf[\"Datetime\"] >= now - timedelta(days=14)] \\\n",
    ".groupby([\"Accurate_Episode_Date\", \"Age_Group\"]) \\\n",
    ".count()[\"Row_ID\"] \\\n",
    ".reset_index() \\\n",
    ".rename(columns={\"Row_ID\" : \"Cases\"})\n",
    "\n",
    "aggageactivelast14df[\"OnsetWithin\"] = \"14 days\"\n",
    "\n",
    "aggageactivelast7df = ageactivedf[ageactivedf[\"Datetime\"] >= now - timedelta(days=7)] \\\n",
    ".groupby([\"Accurate_Episode_Date\", \"Age_Group\"]) \\\n",
    ".count()[\"Row_ID\"] \\\n",
    ".reset_index() \\\n",
    ".rename(columns={\"Row_ID\" : \"Cases\"})\n",
    "\n",
    "aggageactivelast7df[\"OnsetWithin\"] = \"7 days\"\n",
    "\n",
    "aggageactivelast3df = ageactivedf[ageactivedf[\"Datetime\"] >= now - timedelta(days=3)] \\\n",
    ".groupby([\"Accurate_Episode_Date\", \"Age_Group\"]) \\\n",
    ".count()[\"Row_ID\"] \\\n",
    ".reset_index() \\\n",
    ".rename(columns={\"Row_ID\" : \"Cases\"})\n",
    "\n",
    "aggageactivelast3df[\"OnsetWithin\"] = \"3 days\"\n",
    "\n",
    "appendaggageactivedf = aggageactivedf.append(aggageactivelast14df).append(aggageactivelast7df).append(aggageactivelast3df)\n",
    "appendaggageactivedf"
   ]
  },
  {
   "cell_type": "code",
   "execution_count": null,
   "metadata": {},
   "outputs": [],
   "source": [
    "#hide_input\n",
    "\n",
    "sumageactivedf = appendaggageactivedf \\\n",
    ".groupby([\"OnsetWithin\", \"Age_Group\"]) \\\n",
    ".sum() \\\n",
    ".reset_index()\n",
    "\n",
    "sumageactivedf[\"Age Group\"] = sumageactivedf.apply(lambda row: getAgeNumber(row[\"Age_Group\"]), axis=1)\n",
    "sumageactivedf[\"Onset\"] = pd.Categorical(sumageactivedf[\"OnsetWithin\"], [\"Any date\", \"14 days\", \"7 days\", \"3 days\"])\n",
    "\n",
    "sumageactivedf = sumageactivedf.sort_values(by=[\"Onset\", \"Age Group\"])\n",
    "\n",
    "\n",
    "activeagebar = px.bar(sumageactivedf, y=\"Cases\", x='Age_Group',\n",
    "    color=\"Onset\", color_discrete_sequence=[\"maroon\", \"darkorange\", \"yellow\", \"white\"],\n",
    "    labels={\"Onset\" : \"Onset w/in last\", \"Age_Group\" : \"Age Group\"},\n",
    "    title=\"Currently Active Confirmed Cases by Age Group\",\n",
    "  hover_name=\"Age_Group\"\n",
    "\n",
    "    )\n",
    "activeagebar.update_layout(barmode='overlay', hovermode=\"x\")"
   ]
  },
  {
   "cell_type": "code",
   "execution_count": null,
   "metadata": {},
   "outputs": [],
   "source": [
    "#hide_input\n",
    "\n",
    "HTML(\"The incubation period between SARS-CoV-2 infection to COVID-19 symptom onset is 1 to 14 days, with an average of 5 days. The graph below explores whether there is a relationship between confirmed cases by offset Symptom Onset Date and notable social events.\")"
   ]
  },
  {
   "cell_type": "code",
   "execution_count": null,
   "metadata": {},
   "outputs": [],
   "source": [
    "#hide\n",
    "\n",
    "events = [\n",
    "    { \"name\" : \"Good Friday\", \"date\" : \"2020-04-10\" },\n",
    "    { \"name\" : \"Easter Monday\", \"date\" : \"2020-04-13\", \"ax\" : 40 },\n",
    "    { \"name\" : \"Mother's Day\", \"date\" : \"2020-05-10\"},\n",
    "    { \"name\" : \"Victoria Day\", \"date\" : \"2020-05-18\"},\n",
    "    { \"name\" : \"Trinity Bellwoods<br>Park weekend\", \"date\" : \"2020-05-23\", \"ay\" : -200},\n",
    "    { \"name\" : \"Father's Day\", \"date\" : \"2020-06-21\"},\n",
    "    { \"name\" : \"Canada Day\", \"date\" : \"2020-07-01\"},\n",
    "    { \"name\" : \"Civic Holiday\", \"date\" : \"2020-08-03\"},\n",
    "]\n",
    "\n",
    "maxinfectiondate = casesdf[casesdf[\"Count 5d Mean - 5d\"].notnull()][\"Accurate_Episode_Date\"].max()\n",
    "\n",
    "annotations = []\n",
    "for event in events:\n",
    "    if event[\"date\"] <= maxinfectiondate:\n",
    "        ax = event.get(\"ax\")\n",
    "        if ax is None:\n",
    "            ax = 0\n",
    "        ay = event.get(\"ay\")\n",
    "        if ay is None:\n",
    "            ay = -60\n",
    "        annotations.append(dict(\n",
    "            x=event[\"date\"],\n",
    "            y=casesdf[casesdf[\"Accurate_Episode_Date\"] == event[\"date\"]][\"Count 5d Mean - 5d\"].values[0],\n",
    "            xref=\"x\",\n",
    "            yref=\"y\",\n",
    "            text=event[\"name\"],\n",
    "            showarrow=True,\n",
    "            arrowhead=7,\n",
    "            ax=ax,\n",
    "            ay=ay\n",
    "        ))\n",
    "    \n",
    "annotations"
   ]
  },
  {
   "cell_type": "code",
   "execution_count": null,
   "metadata": {},
   "outputs": [],
   "source": [
    "#hide_input\n",
    "infectionline = go.Figure()\n",
    "infectionline.add_trace(go.Scatter(x=casesdf[\"Accurate_Episode_Date\"], y=casesdf[\"Count 5d Mean - 1d\"], mode=\"lines\",\n",
    "                              showlegend=True, name=\"-1d (min)\",\n",
    "                              line=dict(color=\"pink\", dash=\"dot\")))\n",
    "infectionline.add_trace(go.Scatter(x=casesdf[\"Accurate_Episode_Date\"], y=casesdf[\"Count 5d Mean - 14d\"], mode=\"lines\",\n",
    "                              showlegend=True, name=\"-14d (max)\",\n",
    "                              line=dict(color=\"thistle\", dash=\"dot\")))\n",
    "infectionline.add_trace(go.Scatter(x=casesdf[\"Accurate_Episode_Date\"], y=casesdf[\"Count 5d Mean - 5d\"], mode=\"lines\",\n",
    "                              showlegend=True, name=\"-5d (avg)\",\n",
    "                              line=dict(color=\"hotpink\", dash=\"dot\")))\n",
    "infectionline.update_layout(annotations=annotations, \n",
    "                            title=\"Confirmed Cases (5-Day Rolling Average) by Projected Infection Date<br>Based on Symptom Onset Date\",\n",
    "                           xaxis_title=\"Projected Infection Date based on Symptom Onset Date\", yaxis_title=\"Confirmed Cases (5d Average)\",\n",
    "                           legend_title_text=\"Onset date offset\")"
   ]
  },
  {
   "cell_type": "markdown",
   "metadata": {},
   "source": [
    "### Deaths"
   ]
  },
  {
   "cell_type": "code",
   "execution_count": null,
   "metadata": {},
   "outputs": [],
   "source": [
    "#hide\n",
    "ageacqdeathdf = origdf[origdf[\"Outcome1\"] == \"Fatal\"] \\\n",
    ".groupby([\"Age_Group\", \"Case_AcquisitionInfo\"]).count() \\\n",
    "[\"Row_ID\"].reset_index().rename(columns={\"Row_ID\" : \"Deaths\"})\n",
    "\n",
    "ageacqdeathdf[\"AgeGroup\"] = ageacqdeathdf.apply(lambda r: getAgeNumber(r[\"Age_Group\"]), axis=1)\n",
    "ageacqdeathdf[\"Acquisition\"] = ageacqdeathdf.apply(lambda r: getAcquisition(r[\"Case_AcquisitionInfo\"]), axis=1)\n",
    "ageacqdeathdf[\"Acquisition\"] = pd.Categorical(ageacqdeathdf[\"Acquisition\"], acqOrder)\n",
    "ageacqdeathdf = ageacqdeathdf.sort_values(by=[\"AgeGroup\", \"Acquisition\"])\n",
    "ageacqdeathdf\n",
    "\n",
    "ageacqdeathdf"
   ]
  },
  {
   "cell_type": "code",
   "execution_count": null,
   "metadata": {},
   "outputs": [],
   "source": [
    "#hide\n",
    "\n",
    "deathsdf = df[df[\"Outcome1\"] == \"Fatal\"] \\\n",
    ".groupby([\"Accurate_Episode_Date\", \"Age_Group\"]).count() \\\n",
    "[\"Row_ID\"].reset_index().rename(columns={\"Row_ID\" : \"Cases\"})\n",
    "\n",
    "deathsdf[\"Age Group\"] = deathsdf.apply(lambda r: getAgeNumber(r[\"Age_Group\"]), axis=1)\n",
    "\n",
    "deathsdf = deathsdf.sort_values(by=[\"Age Group\", \"Accurate_Episode_Date\"])\n",
    "\n",
    "deathsdf"
   ]
  },
  {
   "cell_type": "code",
   "execution_count": null,
   "metadata": {},
   "outputs": [],
   "source": [
    "#hide\n",
    "testsfirstdeath = testconfirmeddf[testconfirmeddf[\"New Deaths\"] > 0][\"Reported Date\"].min()\n",
    "\n",
    "testsdeathsdf = testconfirmeddf[testconfirmeddf[\"Reported Date\"] >= testsfirstdeath]"
   ]
  },
  {
   "cell_type": "code",
   "execution_count": null,
   "metadata": {},
   "outputs": [],
   "source": [
    "#hide\n",
    "deathacqdf = df[df[\"Outcome1\"] == \"Fatal\"] \\\n",
    ".groupby([\"Accurate_Episode_Date\", \"Case_AcquisitionInfo\"]).count() \\\n",
    "[\"Row_ID\"].reset_index().rename(columns={\"Row_ID\" : \"Count\"})\n",
    "\n",
    "deathacqdf[\"Acquisition\"] = deathacqdf.apply(lambda r: getAcquisition(r[\"Case_AcquisitionInfo\"]), axis=1)\n",
    "deathacqdf[\"Acquisition\"] = pd.Categorical(deathacqdf[\"Acquisition\"], acqOrder)\n",
    "deathacqdf = deathacqdf.sort_values(by=\"Acquisition\")\n",
    "deathacqdf"
   ]
  },
  {
   "cell_type": "code",
   "execution_count": null,
   "metadata": {},
   "outputs": [],
   "source": [
    "#hide_input\n",
    "\n",
    "deathacqbar = px.bar(deathacqdf, y=\"Count\", x=\"Accurate_Episode_Date\",\n",
    "             color=\"Acquisition\", \n",
    "             color_discrete_sequence=acqColours,\n",
    "             labels={\"Accurate_Episode_Date\" : \"Symptom Onset Date\", \"Count\" : \"Deaths\"},\n",
    "             title=\"Ontario COVID-19 Deaths by Symptom Onset Date<br>by Acquisition\"\n",
    "    )\n",
    "\n",
    "deathacqbar.add_trace(go.Scatter(x=testsdeathsdf[\"Reported Date\"], y=testsdeathsdf[\"New Deaths Mean 5d\"], mode=\"lines\",\n",
    "                             name=\"By rep dt avg\", \n",
    "                              line=dict(color=\"black\", dash=\"dot\")))"
   ]
  },
  {
   "cell_type": "code",
   "execution_count": null,
   "metadata": {},
   "outputs": [],
   "source": [
    "#hide_input\n",
    "\n",
    "deathbar = px.bar(deathsdf, y=\"Cases\", x=\"Accurate_Episode_Date\",\n",
    "             color=\"Age_Group\", \n",
    "             color_discrete_sequence=[\"maroon\", \"red\", \"darkorange\", \"yellow\", \"#b3ffb3\", \"turquoise\", \"#3385ff\", \"#9999ff\", \"#dab3ff\", \"white\"],\n",
    "             labels={\"Accurate_Episode_Date\" : \"Symptom Onset Date\", \"Age_Group\" : \"Age Group\", \"Cases\" : \"Deaths\"},\n",
    "             title=\"Ontario COVID-19 Deaths by Symptom Onset Date<br>by Age Group\"\n",
    "    )\n",
    "\n",
    "deathbar.add_trace(go.Scatter(x=testsdeathsdf[\"Reported Date\"], y=testsdeathsdf[\"New Deaths Mean 5d\"], mode=\"lines\",\n",
    "                             name=\"By rep dt avg\", \n",
    "                              line=dict(color=\"black\", dash=\"dot\")))"
   ]
  },
  {
   "cell_type": "code",
   "execution_count": null,
   "metadata": {},
   "outputs": [],
   "source": [
    "#hide\n",
    "deathdemdf = teststatusdf[teststatusdf[\"Reported Date\"].notnull()] \\\n",
    "[[\"Reported Date\", \"Deaths\", \"Total LTC Resident Deaths\", \"Total LTC HCW Deaths\"]].copy()\n",
    "\n",
    "deathdemdf[\"ReportedDate\"] = deathdemdf.apply(lambda r: dateutil.parser.parse(r[\"Reported Date\"]), axis=1)\n",
    "deathdemdf[\"Total Deaths\"] = deathdemdf[\"Deaths\"].fillna(0)\n",
    "deathdemdf[\"New Deaths\"] = deathdemdf[\"Total Deaths\"].diff()\n",
    "deathdemdf[\"New LTC Resident Deaths\"] = deathdemdf[\"Total LTC Resident Deaths\"].diff()\n",
    "deathdemdf[\"New LTC HCW Deaths\"] = deathdemdf[\"Total LTC HCW Deaths\"].diff()\n",
    "\n",
    "deathdemdf[\"New Other Deaths\"] = deathdemdf.apply(lambda r: r[\"New Deaths\"] - r[\"New LTC Resident Deaths\"] - r[\"New LTC HCW Deaths\"], axis=1)\n",
    "\n",
    "deathdemdf"
   ]
  },
  {
   "cell_type": "code",
   "execution_count": null,
   "metadata": {},
   "outputs": [],
   "source": [
    "#hide\n",
    "unknowndeathsdf = deathdemdf[(deathdemdf[\"New Other Deaths\"].isnull()) | (deathdemdf[\"New Other Deaths\"] < 0) | (deathdemdf[\"New LTC Resident Deaths\"] < 0)].copy()\n",
    "\n",
    "unknowndeathsdf[\"Situation\"] = \"Unknown\"\n",
    "unknowndeathsdf[\"DeathCount\"] = unknowndeathsdf[\"New Deaths\"]\n",
    "\n",
    "unknowndeathsdf = unknowndeathsdf[(unknowndeathsdf[\"DeathCount\"].notnull()) & (unknowndeathsdf[\"DeathCount\"] != 0)] \\\n",
    "[[\"ReportedDate\", \"Situation\", \"DeathCount\"]]\n",
    "unknowndeathsdf"
   ]
  },
  {
   "cell_type": "code",
   "execution_count": null,
   "metadata": {},
   "outputs": [],
   "source": [
    "#hide\n",
    "sitdeathsdf =  deathdemdf[(deathdemdf[\"New Other Deaths\"].notnull()) & (deathdemdf[\"New Other Deaths\"] >= 0) & (deathdemdf[\"New LTC Resident Deaths\"] >= 0)]\n",
    "\n",
    "otherdeathsdf = sitdeathsdf.copy()\n",
    "\n",
    "otherdeathsdf[\"Situation\"] = \"Other\"\n",
    "\n",
    "otherdeathsdf[\"DeathCount\"] = otherdeathsdf.apply(lambda r: r[\"New Deaths\"] - r[\"New LTC Resident Deaths\"] - r[\"New LTC HCW Deaths\"], axis=1)\n",
    "\n",
    "otherdeathsdf = otherdeathsdf[[\"ReportedDate\", \"Situation\", \"DeathCount\"]]\n",
    "\n",
    "otherdeathsdf"
   ]
  },
  {
   "cell_type": "code",
   "execution_count": null,
   "metadata": {},
   "outputs": [],
   "source": [
    "#hide\n",
    "residentdeathsdf = sitdeathsdf.copy()\n",
    "residentdeathsdf[\"Situation\"] = \"LTC Resident\"\n",
    "residentdeathsdf[\"DeathCount\"] = residentdeathsdf[\"New LTC Resident Deaths\"]\n",
    "residentdeathsdf = residentdeathsdf[[\"ReportedDate\", \"Situation\", \"DeathCount\"]]\n",
    "residentdeathsdf"
   ]
  },
  {
   "cell_type": "code",
   "execution_count": null,
   "metadata": {},
   "outputs": [],
   "source": [
    "#hide\n",
    "lhcwdeathsdf = sitdeathsdf.copy()\n",
    "lhcwdeathsdf[\"Situation\"] = \"LTC HCW\"\n",
    "lhcwdeathsdf[\"DeathCount\"] = lhcwdeathsdf[\"New LTC HCW Deaths\"]\n",
    "lhcwdeathsdf = lhcwdeathsdf[[\"ReportedDate\", \"Situation\", \"DeathCount\"]]\n",
    "lhcwdeathsdf"
   ]
  },
  {
   "cell_type": "code",
   "execution_count": null,
   "metadata": {},
   "outputs": [],
   "source": [
    "#hide\n",
    "situationdeathsdf = unknowndeathsdf.append(residentdeathsdf).append(lhcwdeathsdf).append(otherdeathsdf)\n",
    "situationdeathsdf"
   ]
  },
  {
   "cell_type": "code",
   "execution_count": null,
   "metadata": {},
   "outputs": [],
   "source": [
    "#hide_input\n",
    "\n",
    "testsdeathsavg = testconfirmeddf[(testconfirmeddf[\"New Deaths Mean 5d\"].notnull()) & (testconfirmeddf[\"New Deaths Mean 5d\"] != 0)]\n",
    "\n",
    "sitdeathsbar = px.bar(situationdeathsdf, x=\"ReportedDate\", y=\"DeathCount\",\n",
    "      color=\"Situation\",\n",
    "      color_discrete_sequence=[\"silver\", \"pink\", \"lightskyblue\", \"#ff9999\"],\n",
    "    title=\"Ontario COVID-19 Deaths by Reported Date\",\n",
    "                      labels={\"DeathCount\" : \"Deaths\"}\n",
    "      )\n",
    "sitdeathsbar.add_trace(go.Scatter(x=testsdeathsavg[\"ReportedDate\"], y=testsdeathsavg[\"New Deaths Mean 5d\"], mode=\"lines\",\n",
    "                             name=\"5d avg\", \n",
    "                              line=dict(color=\"black\", dash=\"solid\")))"
   ]
  },
  {
   "cell_type": "markdown",
   "metadata": {},
   "source": [
    "## Regional by Public Health Unit"
   ]
  },
  {
   "cell_type": "code",
   "execution_count": null,
   "metadata": {},
   "outputs": [],
   "source": [
    "#hide\n",
    "top4growth = last7deltadf.sort_values(by=[\"TotalChangePercent\"], ascending=[False]) \\\n",
    ".head(4)[[\"Reporting_PHU\", \"TotalChangePercent\"]].reset_index()\n",
    "\n",
    "activetop4df = pd.merge(top4growth, ageactivedf, how=\"left\", \\\n",
    "left_on=[\"Reporting_PHU\"], \\\n",
    "right_on=[\"Reporting_PHU\"])\n",
    "\n",
    "activetop4df"
   ]
  },
  {
   "cell_type": "code",
   "execution_count": null,
   "metadata": {},
   "outputs": [],
   "source": [
    "#hide\n",
    "agactivetop4df = activetop4df \\\n",
    ".groupby([\"Reporting_PHU\", \"TotalChangePercent\", \"Accurate_Episode_Date\", \"Age_Group\"]) \\\n",
    ".count()[\"Row_ID\"] \\\n",
    ".reset_index() \\\n",
    ".rename(columns={\"Row_ID\" : \"Cases\"})\n",
    "\n",
    "agactivetop4df[\"OnsetWithin\"] = \"Any date\"\n",
    "\n",
    "agactivetop4last14df = activetop4df[activetop4df[\"Datetime\"] >= now - timedelta(days=14)] \\\n",
    ".groupby([\"Reporting_PHU\", \"TotalChangePercent\", \"Accurate_Episode_Date\", \"Age_Group\"]) \\\n",
    ".count()[\"Row_ID\"] \\\n",
    ".reset_index() \\\n",
    ".rename(columns={\"Row_ID\" : \"Cases\"})\n",
    "\n",
    "agactivetop4last14df[\"OnsetWithin\"] = \"14 days\"\n",
    "\n",
    "agactivetop4last7df = activetop4df[activetop4df[\"Datetime\"] >= now - timedelta(days=7)] \\\n",
    ".groupby([\"Reporting_PHU\", \"TotalChangePercent\", \"Accurate_Episode_Date\", \"Age_Group\"]) \\\n",
    ".count()[\"Row_ID\"] \\\n",
    ".reset_index() \\\n",
    ".rename(columns={\"Row_ID\" : \"Cases\"})\n",
    "\n",
    "agactivetop4last7df[\"OnsetWithin\"] = \"7 days\"\n",
    "\n",
    "agactivetop4last3df = activetop4df[activetop4df[\"Datetime\"] >= now - timedelta(days=3)] \\\n",
    ".groupby([\"Reporting_PHU\", \"TotalChangePercent\", \"Accurate_Episode_Date\", \"Age_Group\"]) \\\n",
    ".count()[\"Row_ID\"] \\\n",
    ".reset_index() \\\n",
    ".rename(columns={\"Row_ID\" : \"Cases\"})\n",
    "\n",
    "agactivetop4last3df[\"OnsetWithin\"] = \"3 days\"\n",
    "\n",
    "appendagactivetop4df = agactivetop4df.append(agactivetop4last14df).append(agactivetop4last7df).append(agactivetop4last3df)\n",
    "\n",
    "sumactivetop4df = appendagactivetop4df \\\n",
    ".groupby([\"Reporting_PHU\", \"TotalChangePercent\", \"OnsetWithin\", \"Age_Group\"]) \\\n",
    ".sum() \\\n",
    ".reset_index()\n",
    "\n",
    "sumactivetop4df[\"Age Group\"] = sumactivetop4df.apply(lambda row: getAgeNumber(row[\"Age_Group\"]), axis=1)\n",
    "sumactivetop4df[\"Onset\"] = pd.Categorical(sumactivetop4df[\"OnsetWithin\"], [\"Any date\", \"14 days\", \"7 days\", \"3 days\"])\n",
    "\n",
    "sumactivetop4df = sumactivetop4df.sort_values(by=[\"Age Group\", \"Cases\", \"Onset\"], ascending=[True, False, True])\n",
    "\n",
    "sumactivetop4df"
   ]
  },
  {
   "cell_type": "code",
   "execution_count": null,
   "metadata": {},
   "outputs": [],
   "source": [
    "#hide_input\n",
    "activetop4bar = px.bar(sumactivetop4df, y=\"Cases\", x='Age_Group', facet_col=\"Reporting_PHU\", facet_col_wrap=2,\n",
    "    color=\"Onset\", color_discrete_sequence=[\"maroon\", \"darkorange\", \"yellow\", \"white\"],\n",
    "    labels={\"Onset\" : \"Onset w/in last\", \"Age_Group\" : \"Age Group\", \"Reporting_PHU\" : \"PHU\"},\n",
    "    title=\"Active Cases by Age Group in Top Four Growth Regions\",\n",
    "    hover_name=\"Age_Group\"\n",
    "    )\n",
    "activetop4bar.update_layout(barmode='overlay', hovermode=\"x\")"
   ]
  },
  {
   "cell_type": "code",
   "execution_count": null,
   "metadata": {},
   "outputs": [],
   "source": [
    "#hide\n",
    "startdate = \"2020-03-01\"\n",
    "fromto = \"from \" + startdate + \" to \" + str(maxdate)\n",
    "agdf = aggdf[aggdf[\"Date\"] >= startdate]\n",
    "prefix = \"Cumulative Confirmed Cases per Ontario Region\"\n",
    "titlelatest = prefix + \" up to \" + str(maxdate)"
   ]
  },
  {
   "cell_type": "code",
   "execution_count": null,
   "metadata": {
    "execution": {
     "iopub.execute_input": "2020-04-28T12:16:24.523511Z",
     "iopub.status.busy": "2020-04-28T12:16:24.516335Z",
     "iopub.status.idle": "2020-04-28T12:16:25.147017Z",
     "shell.execute_reply": "2020-04-28T12:16:25.147850Z"
    },
    "papermill": {
     "duration": 0.782466,
     "end_time": "2020-04-28T12:16:25.148069",
     "exception": false,
     "start_time": "2020-04-28T12:16:24.365603",
     "status": "completed"
    },
    "tags": []
   },
   "outputs": [],
   "source": [
    "#hide_input\n",
    "dailyline = px.line(agdf, x=\"Date\", y=\"Count\", color=\"Area\", \n",
    "                    color_discrete_sequence=[\"limegreen\", \"slategray\", \"magenta\", \"peru\"],\n",
    "                    hover_name=\"Reporting_PHU\", line_group=\"Reporting_PHU\",\n",
    "                    title=\"Daily Confirmed Cases per Ontario Region \" + fromto,\n",
    "       labels={\"Reporting_PHU\" : \"Public Health Unit\", \"Date\" : \"Symptom Onset Date\"}\n",
    "       )\n",
    "dailyline.show()"
   ]
  },
  {
   "cell_type": "code",
   "execution_count": null,
   "metadata": {
    "execution": {
     "iopub.execute_input": "2020-04-28T12:16:23.787665Z",
     "iopub.status.busy": "2020-04-28T12:16:23.777335Z",
     "iopub.status.idle": "2020-04-28T12:16:24.217655Z",
     "shell.execute_reply": "2020-04-28T12:16:24.218148Z"
    },
    "papermill": {
     "duration": 0.598957,
     "end_time": "2020-04-28T12:16:24.218282",
     "exception": false,
     "start_time": "2020-04-28T12:16:23.619325",
     "status": "completed"
    },
    "tags": []
   },
   "outputs": [],
   "source": [
    "#hide_input\n",
    "cumline = px.line(agdf, x=\"Date\", y=\"Total\", color=\"Area\", \n",
    "                  color_discrete_sequence=[\"limegreen\", \"slategray\", \"magenta\", \"peru\"],\n",
    "                  hover_name=\"Reporting_PHU\", line_group=\"Reporting_PHU\",\n",
    "                  title=prefix + \" \" + fromto,\n",
    "        labels={\"Reporting_PHU\" : \"Public Health Unit\", \"Date\" : \"Symptom Onset Date\"}\n",
    ")\n",
    "cumline.show()"
   ]
  },
  {
   "cell_type": "code",
   "execution_count": null,
   "metadata": {},
   "outputs": [],
   "source": [
    "#hide\n",
    "agephuobdf = origdf[origdf[\"Case_AcquisitionInfo\"] == \"OB\"] \\\n",
    ".groupby([\"Age_Group\", \"Reporting_PHU\"]).count()[\"Row_ID\"] \\\n",
    ".reset_index() \\\n",
    ".rename(columns={\"Row_ID\" : \"OB Count\"})\n",
    "\n",
    "agephudf = origdf \\\n",
    ".groupby([\"Age_Group\", \"Reporting_PHU\"]).count()[\"Row_ID\"] \\\n",
    ".reset_index() \\\n",
    ".rename(columns={\"Row_ID\" : \"Total\"})\n",
    "\n",
    "totalagephudf = origdf \\\n",
    ".groupby([\"Reporting_PHU\"]).count()[\"Row_ID\"] \\\n",
    ".reset_index() \\\n",
    ".rename(columns={\"Row_ID\" : \"Cases\"})\n",
    "\n",
    "agephuobdf = pd.merge(agephuobdf, agephudf, how=\"right\",\n",
    "left_on=[\"Age_Group\", \"Reporting_PHU\"], \\\n",
    "right_on=[\"Age_Group\", \"Reporting_PHU\"]) \\\n",
    ".fillna(0)\n",
    "\n",
    "agephuobdf = pd.merge(agephuobdf, totalagephudf, how=\"right\",\n",
    "left_on=[\"Reporting_PHU\"], \\\n",
    "right_on=[\"Reporting_PHU\"]) \\\n",
    ".fillna(0)\n",
    "\n",
    "agephuobdf[\"AgeGroup\"] = agephuobdf.apply(lambda r: getAgeNumber(r[\"Age_Group\"]), axis=1)\n",
    "agephuobdf[\"PercentTotal\"] = agephuobdf.apply(lambda r: r[\"OB Count\"]/r[\"Total\"] * 100, axis=1)\n",
    "agephuobdf[\"Area\"] = agephuobdf.apply(lambda r: getArea(r[\"Reporting_PHU\"]), axis=1)\n",
    "\n",
    "agephuobdf = agephuobdf.sort_values(by=[\"Cases\", \"AgeGroup\"], ascending=[False, True])\n",
    "\n",
    "agephuobdf.head(20)"
   ]
  },
  {
   "cell_type": "code",
   "execution_count": null,
   "metadata": {},
   "outputs": [],
   "source": [
    "#hide_input\n",
    "px.scatter(agephuobdf, x=\"Age_Group\", y=\"PercentTotal\", \n",
    "           color=\"Area\", color_discrete_sequence=[\"slategray\", \"magenta\", \"peru\", \"limegreen\"],\n",
    "           size=\"OB Count\", size_max=30,\n",
    "           hover_name=\"Reporting_PHU\", hover_data=[\"Total\"],\n",
    "           labels={\"PercentTotal\" : \"% Cases Acquired from Inst. Outbreak\", \"Age_Group\" : \"Age Group\", \"OB Count\" : \"Cases\"},\n",
    "           title=\"Percentage of Cases Acquired from Institutional Outbreak<br>by Age Group by Public Health Unit\"\n",
    "          )"
   ]
  },
  {
   "cell_type": "code",
   "execution_count": null,
   "metadata": {},
   "outputs": [],
   "source": [
    "#hide\n",
    "fataldf = origdf[(origdf[\"Age_Group\"] != \"Unknown\") & (origdf[\"Outcome1\"] == \"Fatal\")] \\\n",
    ".groupby([\"Reporting_PHU\", \"Age_Group\"]) \\\n",
    ".count()[\"Row_ID\"] \\\n",
    ".reset_index() \\\n",
    ".rename(columns={\"Row_ID\" : \"Total Fatal\"})\n",
    "\n",
    "fataldf"
   ]
  },
  {
   "cell_type": "code",
   "execution_count": null,
   "metadata": {},
   "outputs": [],
   "source": [
    "#hide\n",
    "concludeddf = origdf[(origdf[\"Age_Group\"] != \"Unknown\") & (origdf[\"Outcome1\"] != \"Not Resolved\")] \\\n",
    ".groupby([\"Reporting_PHU\", \"Age_Group\"]) \\\n",
    ".count()[\"Row_ID\"] \\\n",
    ".reset_index() \\\n",
    ".rename(columns={\"Row_ID\" : \"Total Concluded\"})\n",
    "\n",
    "concludeddf"
   ]
  },
  {
   "cell_type": "code",
   "execution_count": null,
   "metadata": {},
   "outputs": [],
   "source": [
    "#hide\n",
    "concludedfataldf = pd.merge(concludeddf, fataldf, how=\"left\", \\\n",
    "left_on=[\"Reporting_PHU\", \"Age_Group\"], \\\n",
    "right_on=[\"Reporting_PHU\", \"Age_Group\"]) \\\n",
    ".fillna(0) \\\n",
    ".sort_values(by=[\"Total Fatal\", \"Age_Group\"], ascending=[False,True]).reset_index()\n",
    "\n",
    "pattern = re.compile('^[0-9]+s$')\n",
    "    \n",
    "concludedfataldf[\"Age Group\"] = concludedfataldf.apply(lambda row: getAgeNumber(row[\"Age_Group\"]), axis=1)\n",
    "concludedfataldf[\"% fatal\"] = concludedfataldf.apply(lambda row: row[\"Total Fatal\"]/row[\"Total Concluded\"]*100, axis=1)\n",
    "concludedfataldf[\"Area\"] = concludedfataldf.apply(lambda row: getArea(row[\"Reporting_PHU\"]), axis=1)\n",
    "\n",
    "concludedfataldf"
   ]
  },
  {
   "cell_type": "code",
   "execution_count": null,
   "metadata": {},
   "outputs": [],
   "source": [
    "#hide\n",
    "totalconcludedfataldf = concludedfataldf.groupby([\"Age Group\", \"Age_Group\"]).sum().reset_index()\n",
    "totalconcludedfataldf[\"% fatal\"] = totalconcludedfataldf.apply(lambda row: row[\"Total Fatal\"]/row[\"Total Concluded\"]*100, axis=1)\n",
    "totalconcludedfataldf"
   ]
  },
  {
   "cell_type": "code",
   "execution_count": null,
   "metadata": {},
   "outputs": [],
   "source": [
    "#hide_input\n",
    "agedeathsbubble = px.scatter(concludedfataldf, x=\"Age Group\", y=\"% fatal\", \n",
    "           hover_data=[\"Total Concluded\"], hover_name=\"Reporting_PHU\",\n",
    "           color=\"Area\", color_discrete_sequence=[\"slategray\", \"magenta\", \"limegreen\", \"peru\"],\n",
    "            size='Total Fatal', size_max=45, \n",
    "           labels={\"% fatal\" : \"Percent Fatal\", \"Total Fatal\" : \"Total Fatalities\", \"Reporting_PHU\" : \"Public Health Unit\"},\n",
    "           title=\"Percent Fatality for Concluded Cases per Age Group per Public Health Unit\"\n",
    "          )\n",
    "agedeathsbubble.add_trace(go.Scatter(x=totalconcludedfataldf[\"Age Group\"], y=totalconcludedfataldf[\"% fatal\"], mode=\"lines\",\n",
    "                             name=\"ON avg\", \n",
    "                              line=dict(color=\"black\", dash=\"solid\")))"
   ]
  },
  {
   "cell_type": "code",
   "execution_count": null,
   "metadata": {},
   "outputs": [],
   "source": [
    "#hide\n",
    "origdf.groupby([\"Case_AcquisitionInfo\"]).count()"
   ]
  },
  {
   "cell_type": "code",
   "execution_count": null,
   "metadata": {},
   "outputs": [],
   "source": [
    "#hide\n",
    "\n",
    "acqdf = origdf \\\n",
    ".groupby([\"Case_AcquisitionInfo\", \"Reporting_PHU\"]).count()[\"Row_ID\"].reset_index().rename(columns={\"Row_ID\" : \"Count\"})\n",
    "acqdf[\"Acquisition\"] = acqdf.apply(lambda r: getAcquisition(r[\"Case_AcquisitionInfo\"]), axis=1)\n",
    "\n",
    "acqdf = pd.merge(origdf.groupby([\"Reporting_PHU\"]).count()[\"Row_ID\"].reset_index().rename(columns={\"Row_ID\" : \"Total\"}), \\\n",
    "                 acqdf, how=\"left\", \\\n",
    "left_on=[\"Reporting_PHU\"], \\\n",
    "right_on=[\"Reporting_PHU\"]) \\\n",
    ".fillna(0)\n",
    "\n",
    "acqdf[\"Region\"] = acqdf.apply(lambda r: getRegion(r[\"Reporting_PHU\"]), axis=1)\n",
    "acqdf[\"Acquisition\"] = pd.Categorical(acqdf[\"Acquisition\"], acqOrder)\n",
    "acqdf = acqdf.sort_values(by=[\"Total\", \"Acquisition\"], ascending=[False, True])\n",
    "\n",
    "acqdf"
   ]
  },
  {
   "cell_type": "code",
   "execution_count": null,
   "metadata": {},
   "outputs": [],
   "source": [
    "#hide_input\n",
    "phuacqbar = px.bar(acqdf, y=\"Region\", x=\"Count\", color=\"Acquisition\", orientation=\"h\", height=800, \n",
    "      color_discrete_sequence=acqColours,\n",
    "      labels={\"Region\" : \"Public Health Unit\", \"Count\" : \"Total Confirmed Cases\"},\n",
    "      title=\"Total Confirmed Cases per Public Health Unit up to \" + str(maxdate))\n",
    "\n",
    "phuacqbar.update_layout(yaxis=dict(autorange=\"reversed\"))"
   ]
  },
  {
   "cell_type": "code",
   "execution_count": null,
   "metadata": {
    "execution": {
     "iopub.execute_input": "2020-04-28T12:16:21.180430Z",
     "iopub.status.busy": "2020-04-28T12:16:21.179631Z",
     "iopub.status.idle": "2020-04-28T12:16:23.490204Z",
     "shell.execute_reply": "2020-04-28T12:16:23.490729Z"
    },
    "papermill": {
     "duration": 2.417326,
     "end_time": "2020-04-28T12:16:23.490863",
     "exception": false,
     "start_time": "2020-04-28T12:16:21.073537",
     "status": "completed"
    },
    "scrolled": true,
    "tags": []
   },
   "outputs": [],
   "source": [
    "#hide_input\n",
    "fig = px.scatter_mapbox(agdf, lat=\"Reporting_PHU_Latitude\", lon=\"Reporting_PHU_Longitude\",     \n",
    "                        color=\"Confirmed Percent Travelled\", \n",
    "                        animation_frame=\"Date\",\n",
    "                        size=\"Total\", hover_name=\"Reporting_PHU\",\n",
    "                        color_continuous_scale=[\"red\", \"blue\"],\n",
    "                        range_color=[0,100],\n",
    "                        size_max=40, zoom=5.9, \n",
    "                        title=\"Cumulative Cases per Region over Time \" + fromto,\n",
    "                        center=dict(lat=44.5,lon=-78.4),\n",
    "                        height=800,\n",
    "                        labels={'Confirmed Percent Travelled':'% travelled', \"Date\" : \"Symptom Onset Date\"})\n",
    "fig.update_layout(mapbox_style=\"open-street-map\")\n",
    "fig.show()"
   ]
  },
  {
   "cell_type": "code",
   "execution_count": null,
   "metadata": {
    "execution": {
     "iopub.execute_input": "2020-04-28T12:16:25.484206Z",
     "iopub.status.busy": "2020-04-28T12:16:25.483581Z",
     "iopub.status.idle": "2020-04-28T12:16:25.485777Z",
     "shell.execute_reply": "2020-04-28T12:16:25.486255Z"
    },
    "papermill": {
     "duration": 0.189994,
     "end_time": "2020-04-28T12:16:25.486383",
     "exception": false,
     "start_time": "2020-04-28T12:16:25.296389",
     "status": "completed"
    },
    "tags": []
   },
   "outputs": [],
   "source": [
    "#hide_input\n",
    "HTML(f'Data was last retrieved from <a href=\"https://data.ontario.ca/en/dataset/confirmed-positive-cases-of-covid-19-in-ontario/resource/455fd63b-603d-4608-8216-7d8647f43350\" title=\"Ontario cases\">Confirmed positive cases of COVID19 in Ontario</a> and <a href=\"https://data.ontario.ca/dataset/status-of-covid-19-cases-in-ontario/resource/ed270bb8-340b-41f9-a7c6-e8ef587e6d11\" title=\"Ontario testing status\">Status of COVID-19 cases in Ontario</a> on {refreshtime.strftime(\"%Y-%m-%d %H:%M\")}.')"
   ]
  }
 ],
 "metadata": {
  "kernelspec": {
   "display_name": "Python 3",
   "language": "python",
   "name": "python3"
  },
  "language_info": {
   "codemirror_mode": {
    "name": "ipython",
    "version": 3
   },
   "file_extension": ".py",
   "mimetype": "text/x-python",
   "name": "python",
   "nbconvert_exporter": "python",
   "pygments_lexer": "ipython3",
   "version": "3.7.6"
  },
  "papermill": {
   "duration": 16.970031,
   "end_time": "2020-04-28T12:16:25.741997",
   "environment_variables": {},
   "exception": null,
   "input_path": "2020-04-26-ontario_confirmed_cases.ipynb",
   "output_path": "2020-04-26-ontario_confirmed_cases.ipynb",
   "parameters": {},
   "start_time": "2020-04-28T12:16:08.771966",
   "version": "2.1.1"
  }
 },
 "nbformat": 4,
 "nbformat_minor": 4
}
